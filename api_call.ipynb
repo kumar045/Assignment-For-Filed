{
 "cells": [
  {
   "cell_type": "markdown",
   "metadata": {},
   "source": [
    "## PROMPTS"
   ]
  },
  {
   "cell_type": "code",
   "execution_count": 14,
   "metadata": {},
   "outputs": [],
   "source": [
    "\n",
    "\n",
    "prompt_1 = \"In a rapidly changing world driven by technological advancements, what do you foresee as the biggest challenges and opportunities for society in the next 20 years? Consider the impact on industries, education, healthcare, environment, and human interaction. Provide a comprehensive analysis and discuss potential strategies to address these challenges and capitalize on the opportunities.\"\n",
    "\n",
    "prompt_2 = \"magine a world where space exploration has become commonplace, with humans establishing colonies on Mars and beyond. Discuss the societal, economic, and ethical implications of such a future, including issues like governance, resource allocation, and cultural diversity.\"\n",
    "\n",
    "prompt_3 = \"Reflect on the future of work in an era of automation, artificial intelligence, and remote connectivity. Explore the potential impact on employment patterns, skill requirements, and work-life balance, and propose strategies for ensuring equitable opportunities and job security for all.\"\n",
    "\n",
    "prompt_4 = \"\"\"The Impacts of Artificial Intelligence on Society: A Comprehensive Examination\n",
    "\n",
    "In recent years, artificial intelligence (AI) has emerged as a transformative force with profound implications for society across various domains. From revolutionizing industries to reshaping daily life, AI technologies have sparked both excitement and concern. In this comprehensive analysis, we will delve deep into the multifaceted impacts of AI on society, covering a wide range of topics including economics, employment, healthcare, ethics, privacy, and beyond.\n",
    "\n",
    "Economic Transformations: One of the most significant impacts of AI lies in its potential to revolutionize the global economy. AI-driven automation has the capacity to streamline processes, optimize productivity, and unlock new opportunities for innovation. However, this technological revolution also raises questions about the future of work, as automation threatens to disrupt traditional employment patterns and exacerbate income inequality. We will explore the implications of AI-driven automation on job displacement, skills retraining, and the distribution of wealth in society.\n",
    "\n",
    "Employment Dynamics: As AI technologies continue to advance, they are poised to transform the labor market in profound ways. While automation may eliminate certain routine tasks, it also creates new job opportunities in areas such as data science, machine learning engineering, and AI ethics. Nevertheless, the transition to an AI-driven economy is not without challenges, as it requires reimagining education and training programs to equip workers with the skills needed to thrive in the digital age. We will examine strategies for fostering a resilient workforce that can adapt to the evolving demands of the AI era.\n",
    "\n",
    "Healthcare Revolution: The integration of AI into healthcare holds immense promise for improving patient outcomes, enhancing diagnostic accuracy, and optimizing treatment protocols. AI-powered algorithms can analyze vast amounts of medical data to identify patterns, predict disease risk, and personalize treatment plans. However, the widespread adoption of AI in healthcare also raises ethical concerns regarding data privacy, algorithmic bias, and the equitable distribution of resources. We will assess the ethical implications of AI in healthcare and propose frameworks for ensuring patient privacy, fairness, and transparency.\n",
    "\n",
    "Ethical Considerations: The rise of AI presents complex ethical dilemmas that require careful consideration and deliberation. As AI systems become increasingly autonomous and ubiquitous, questions arise about accountability, transparency, and the protection of human rights. Issues such as algorithmic bias, data privacy, and the use of AI in surveillance raise fundamental questions about the ethical boundaries of technological advancement. We will explore ethical frameworks for guiding the development and deployment of AI systems, with a focus on promoting fairness, accountability, and social responsibility.\n",
    "\n",
    "Privacy and Security: In an era of pervasive data collection and surveillance, concerns about privacy and security have become paramount. AI technologies have the capacity to analyze vast troves of personal data to extract insights, make predictions, and influence decision-making. However, this ability also raises concerns about data privacy, surveillance capitalism, and the erosion of individual autonomy. We will investigate the trade-offs between privacy and innovation in the age of AI and propose strategies for safeguarding personal data and preserving digital rights.\n",
    "\n",
    "Conclusion: As we navigate the complex terrain of AI-driven societal transformation, it is imperative to approach these challenges with foresight, empathy, and a commitment to ethical principles. By fostering interdisciplinary collaboration, promoting transparency, and prioritizing human well-being, we can harness the potential of AI to create a more equitable, inclusive, and sustainable future for all.\"\"\""
   ]
  },
  {
   "cell_type": "markdown",
   "metadata": {},
   "source": [
    "## IMPORTS"
   ]
  },
  {
   "cell_type": "code",
   "execution_count": 15,
   "metadata": {},
   "outputs": [],
   "source": [
    "from groq import Groq\n",
    "import api_key\n",
    "import time"
   ]
  },
  {
   "cell_type": "markdown",
   "metadata": {},
   "source": [
    "### Required Parameters\n",
    "\n",
    "- **model**: The language model which will perform the completion. See the models to learn more about available models.\n",
    "\n",
    "- **messages**: A list of messages in the conversation so far. Each message is an object that has the following fields:\n",
    "  - `role`:\n",
    "    - `system`: Sets the behavior of the assistant and can be used to provide specific instructions for how it should behave throughout the conversation.\n",
    "    - `user`: Messages written by a user of the LIM.\n",
    "    - `assistant`: Messages written by the LLM in a previous completion. Other message types are not currently supported.\n",
    "  - `content`: The text of a message.\n",
    "  - `name`: An optional name to disambiguate messages from different users with the same role.\n"
   ]
  },
  {
   "cell_type": "markdown",
   "metadata": {},
   "source": [
    "### Optional Parameters\n",
    "\n",
    "- **temperature**: Controls randomness of responses. A lower temperature leads to more predictable outputs while a higher temperature results in more varied and sometimes more creative outputs.\n",
    "\n",
    "- **max_tokens**: The maximum number of tokens that the model can process in a single response. This limit ensures computational efficiency and resource management.\n",
    "\n",
    "- **top_p**: A method of text generation where a model will only consider the most probable next tokens that make up the probability p. A value of 0.5 means half of all likelihood-weighted options are considered.\n",
    "\n",
    "- **stream**: Use server-side events to send the completion in small deltas rather than in a single batch after all processing has finished. This reduces the time to first token received.\n",
    "\n",
    "- **stop**: A stop sequence is a predefined or user-specified text string that signals an AI to stop generating content, ensuring its responses remain focused and concise.\n"
   ]
  },
  {
   "cell_type": "markdown",
   "metadata": {},
   "source": [
    "### MISTRAL AI\n",
    "\n",
    "CONTEXT WINDOW - 32K TOKENS\n",
    "\n",
    "RESPONSE TIME - 541-555 TOKENS/SEC"
   ]
  },
  {
   "cell_type": "code",
   "execution_count": 19,
   "metadata": {},
   "outputs": [
    {
     "name": "stdout",
     "output_type": "stream",
     "text": [
      "Indeed, the impacts of artificial intelligence on society are vast and multifaceted, encompassing a wide range of sectors and issues. In this comprehensive examination, we have explored various aspects of AI's influence on society, highlighting both the opportunities and challenges that come with this technological revolution.\n",
      "\n",
      "In terms of economic transformations, AI has the potential to reshape the global economy by streamlining processes, optimizing productivity, and driving innovation. However, these benefits are accompanied by concerns about job displacement, skills gaps, and income inequality. As AI continues to advance, it is crucial to develop strategies for fostering a resilient workforce that can adapt to the evolving demands of the digital age. This may include reimagining education and training programs, promoting lifelong learning, and incentivizing the adoption of progressive labor policies.\n",
      "\n",
      "The integration of AI into healthcare offers immense potential for improving patient outcomes, enhancing diagnostic accuracy, and optimizing treatment protocols. However, the widespread adoption of AI in healthcare also raises ethical concerns regarding data privacy, algorithmic bias, and the equitable distribution of resources. To address these challenges, it is essential to establish ethical frameworks that prioritize patient privacy, fairness, and transparency while fostering collaboration between stakeholders in healthcare and AI development.\n",
      "\n",
      "Ethical considerations are at the forefront of AI-driven societal transformation, as the technology becomes increasingly autonomous and ubiquitous. Addressing issues such as accountability, transparency, and the protection of human rights requires careful consideration and deliberation. By promoting fairness, accountability, and social responsibility, we can develop and deploy AI systems that align with ethical principles and minimize potential harm.\n",
      "\n",
      "Privacy and security are paramount concerns in the age of AI, as the technology enables the analysis of vast amounts of personal data. Balancing the trade-offs between privacy and innovation necessitates striking a delicate balance between leveraging AI for societal benefit and safeguarding personal data and digital rights. Strategies for achieving this balance may include strengthening data protection regulations, promoting data literacy, and fostering public-private partnerships to develop and implement privacy-preserving technologies.\n",
      "\n",
      "In conclusion, the ongoing development and deployment of AI technologies require a thoughtful, interdisciplinary, and principled approach that prioritizes ethical considerations, human well-being, and societal benefit. By fostering collaboration, promoting transparency, and committing to ethical principles, we can harness the potential of AI to create a more equitable, inclusive, and sustainable future for all.\n",
      "\n",
      " -----------------------------------------------------------------------------------------------\n",
      "\n",
      "TIME TAKEN : 1.94\n"
     ]
    }
   ],
   "source": [
    "client = Groq(\n",
    "    # This is the default and can be omitted\n",
    "    api_key=api_key.groq_api_key\n",
    ")\n",
    "\n",
    "start_time = time.time()\n",
    "completion = client.chat.completions.create(\n",
    "    model=\"mixtral-8x7b-32768\",\n",
    "    messages=[\n",
    "        # {\n",
    "        #     \"role\": \"system\",\n",
    "        #     \"content\": \"act like shakesphere\"\n",
    "        # },\n",
    "        {\n",
    "            \"role\": \"user\",\n",
    "            \"content\": prompt_4\n",
    "        },\n",
    "        # {\n",
    "        #     \"role\": \"assistant\",\n",
    "        #     \"content\": \"\"\n",
    "        # }\n",
    "    ],\n",
    "    temperature=0.5,\n",
    "    max_tokens=1024,\n",
    "    top_p=1,\n",
    "    stream=True,\n",
    "    stop=None,\n",
    ")\n",
    "\n",
    "for chunk in completion:\n",
    "    print(chunk.choices[0].delta.content or \"\", end=\"\")\n",
    "\n",
    "end_time = time.time()\n",
    "print(f\"\\n\\n -----------------------------------------------------------------------------------------------\\n\\nTIME TAKEN : {round(end_time-start_time, 2)}\")\n"
   ]
  },
  {
   "cell_type": "markdown",
   "metadata": {},
   "source": [
    "### LLAMA 70B\n",
    "\n",
    "CONTEXT WINDOW - 4K TOKENS\n",
    "\n",
    "RESPONSE TIME - 441 TOKENS/SEC"
   ]
  },
  {
   "cell_type": "code",
   "execution_count": 20,
   "metadata": {},
   "outputs": [
    {
     "name": "stdout",
     "output_type": "stream",
     "text": [
      "In a future where humans have established colonies on Mars and beyond, the societal, economic, and ethical implications are vast and far-reaching. Here are some potential implications of such a future:\n",
      "\n",
      "Governance: Establishing human settlements beyond Earth's atmosphere would require a new level of international cooperation and governance. Existing international laws and treaties would need to be re-evaluated and updated to account for the new challenges and opportunities of space exploration. New organizations and institutions would emerge to govern and regulate space-related activities.\n",
      "\n",
      "Economic: The resources required to establish and maintain space colonies would be substantial. The economic implications of such a future would be profound, with new industries emerging to support space exploration and colonization. The mining and extraction of resources from space would create new opportunities for economic growth. However, there would also be concerns about the equitable distribution of resources and the potential for economic disparities between Earth and space colonies.\n",
      "\n",
      "Ethical: The establishment of space colonies would raise ethical questions about the risks and rewards of space exploration. Questions about the potential risks to human life, environmental concerns, and issues related to the colonization of other planets would need to be addressed. Additionally, there would be debates about the ethics of terraforming other planets to make them habitable for humans.\n",
      "\n",
      "Cultural diversity: As humans establish new colonies in space, cultural diversity would likely be affected. The isolation of space colonies from Earth's culture would create new cultural dynamics, with the potential for new languages, customs, and beliefs to emerge. The cultural identity of humans living in space would be shaped by their new environment, leading to a new sense of community and cooperation.\n",
      "\n",
      "In conclusion, a future where humans have established colonies on Mars and beyond would have profound implications for society, the economy, and ethics. The new challenges and opportunities presented by space exploration would require innovative solutions and cooperation on a global scale. While there would be many benefits to space colonization, there would also be concerns about equity, sustainability, and the ethical implications of expanding human civilization beyond Earth.\n",
      "\n",
      " -----------------------------------------------------------------------------------------------\n",
      "\n",
      "TIME TAKEN : 2.34\n"
     ]
    }
   ],
   "source": [
    "client = Groq(\n",
    "    # This is the default and can be omitted\n",
    "    api_key=api_key.groq_api_key\n",
    ")\n",
    "start_time = time.time()\n",
    "completion = client.chat.completions.create(\n",
    "    model=\"llama2-70b-4096\",\n",
    "    messages=[\n",
    "        {\n",
    "            \"role\": \"user\",\n",
    "            \"content\": prompt_2\n",
    "        }\n",
    "    ],\n",
    "    temperature=0.5,\n",
    "    max_tokens=1024,\n",
    "    top_p=1,\n",
    "    stream=True,\n",
    "    stop=None,\n",
    ")\n",
    "\n",
    "for chunk in completion:\n",
    "    print(chunk.choices[0].delta.content or \"\", end=\"\")\n",
    "\n",
    "end_time = time.time()\n",
    "print(f\"\\n\\n -----------------------------------------------------------------------------------------------\\n\\nTIME TAKEN : {round(end_time-start_time, 2)}\")"
   ]
  },
  {
   "cell_type": "markdown",
   "metadata": {},
   "source": [
    "### ASYNC TASK\n",
    "\n",
    "The provided code snippet utilizes asynchronous programming in Python to interact with the Groq API for language model completions. It defines a main asynchronous function that creates an instance of the `AsyncGroq` client. \n",
    "\n",
    "Within this function, the `client.chat.completions.create()` method is called to generate language model completions based on a conversation context and specified parameters. This method accepts messages exchanged in the conversation so far, as well as optional parameters such as the language model to use and the maximum number of tokens to generate.\n",
    "\n",
    "The `async for` loop iterates over the stream of incremental deltas returned by the language model completion. Each delta represents a partial completion or response from the model, which is then printed to the console.\n",
    "\n",
    "Overall, this code snippet demonstrates how to leverage asynchronous programming in Python to efficiently generate language model completions in real-time, making it beneficial for applications requiring fast and responsive natural language processing capabilities."
   ]
  },
  {
   "cell_type": "code",
   "execution_count": 21,
   "metadata": {},
   "outputs": [
    {
     "ename": "RuntimeError",
     "evalue": "asyncio.run() cannot be called from a running event loop",
     "output_type": "error",
     "traceback": [
      "\u001b[1;31m---------------------------------------------------------------------------\u001b[0m",
      "\u001b[1;31mRuntimeError\u001b[0m                              Traceback (most recent call last)",
      "Cell \u001b[1;32mIn[21], line 61\u001b[0m\n\u001b[0;32m     58\u001b[0m     \u001b[38;5;28;01masync\u001b[39;00m \u001b[38;5;28;01mfor\u001b[39;00m chunk \u001b[38;5;129;01min\u001b[39;00m stream:\n\u001b[0;32m     59\u001b[0m         \u001b[38;5;28mprint\u001b[39m(chunk\u001b[38;5;241m.\u001b[39mchoices[\u001b[38;5;241m0\u001b[39m]\u001b[38;5;241m.\u001b[39mdelta\u001b[38;5;241m.\u001b[39mcontent, end\u001b[38;5;241m=\u001b[39m\u001b[38;5;124m\"\u001b[39m\u001b[38;5;124m\"\u001b[39m)\n\u001b[1;32m---> 61\u001b[0m \u001b[43masyncio\u001b[49m\u001b[38;5;241;43m.\u001b[39;49m\u001b[43mrun\u001b[49m\u001b[43m(\u001b[49m\u001b[43mmain\u001b[49m\u001b[43m(\u001b[49m\u001b[43m)\u001b[49m\u001b[43m)\u001b[49m\n",
      "File \u001b[1;32mc:\\Users\\sreej\\AppData\\Local\\Programs\\Python\\Python39\\lib\\asyncio\\runners.py:33\u001b[0m, in \u001b[0;36mrun\u001b[1;34m(main, debug)\u001b[0m\n\u001b[0;32m      9\u001b[0m \u001b[38;5;250m\u001b[39m\u001b[38;5;124;03m\"\"\"Execute the coroutine and return the result.\u001b[39;00m\n\u001b[0;32m     10\u001b[0m \n\u001b[0;32m     11\u001b[0m \u001b[38;5;124;03mThis function runs the passed coroutine, taking care of\u001b[39;00m\n\u001b[1;32m   (...)\u001b[0m\n\u001b[0;32m     30\u001b[0m \u001b[38;5;124;03m    asyncio.run(main())\u001b[39;00m\n\u001b[0;32m     31\u001b[0m \u001b[38;5;124;03m\"\"\"\u001b[39;00m\n\u001b[0;32m     32\u001b[0m \u001b[38;5;28;01mif\u001b[39;00m events\u001b[38;5;241m.\u001b[39m_get_running_loop() \u001b[38;5;129;01mis\u001b[39;00m \u001b[38;5;129;01mnot\u001b[39;00m \u001b[38;5;28;01mNone\u001b[39;00m:\n\u001b[1;32m---> 33\u001b[0m     \u001b[38;5;28;01mraise\u001b[39;00m \u001b[38;5;167;01mRuntimeError\u001b[39;00m(\n\u001b[0;32m     34\u001b[0m         \u001b[38;5;124m\"\u001b[39m\u001b[38;5;124masyncio.run() cannot be called from a running event loop\u001b[39m\u001b[38;5;124m\"\u001b[39m)\n\u001b[0;32m     36\u001b[0m \u001b[38;5;28;01mif\u001b[39;00m \u001b[38;5;129;01mnot\u001b[39;00m coroutines\u001b[38;5;241m.\u001b[39miscoroutine(main):\n\u001b[0;32m     37\u001b[0m     \u001b[38;5;28;01mraise\u001b[39;00m \u001b[38;5;167;01mValueError\u001b[39;00m(\u001b[38;5;124m\"\u001b[39m\u001b[38;5;124ma coroutine was expected, got \u001b[39m\u001b[38;5;132;01m{!r}\u001b[39;00m\u001b[38;5;124m\"\u001b[39m\u001b[38;5;241m.\u001b[39mformat(main))\n",
      "\u001b[1;31mRuntimeError\u001b[0m: asyncio.run() cannot be called from a running event loop"
     ]
    }
   ],
   "source": [
    "import asyncio\n",
    "from groq import AsyncGroq\n",
    "\n",
    "\n",
    "async def main():\n",
    "    client = AsyncGroq()\n",
    "\n",
    "    stream = await client.chat.completions.create(\n",
    "        #\n",
    "        # Required parameters\n",
    "        #\n",
    "        messages=[\n",
    "            # Set an optional system message. This sets the behavior of the\n",
    "            # assistant and can be used to provide specific instructions for\n",
    "            # how it should behave throughout the conversation.\n",
    "            {\n",
    "                \"role\": \"system\",\n",
    "                \"content\": \"you are a helpful assistant.\"\n",
    "            },\n",
    "            # Set a user message for the assistant to respond to.\n",
    "            {\n",
    "                \"role\": \"user\",\n",
    "                \"content\": \"Explain the importance of low latency LLMs\",\n",
    "            }\n",
    "        ],\n",
    "\n",
    "        # The language model which will generate the completion.\n",
    "        model=\"mixtral-8x7b-32768\",\n",
    "\n",
    "        #\n",
    "        # Optional parameters\n",
    "        #\n",
    "\n",
    "        # Controls randomness: lowering results in less random completions.\n",
    "        # As the temperature approaches zero, the model will become\n",
    "        # deterministic and repetitive.\n",
    "        temperature=0.5,\n",
    "\n",
    "        # The maximum number of tokens to generate. Requests can use up to\n",
    "        # 2048 tokens shared between prompt and completion.\n",
    "        max_tokens=1024,\n",
    "\n",
    "        # Controls diversity via nucleus sampling: 0.5 means half of all\n",
    "        # likelihood-weighted options are considered.\n",
    "        top_p=1,\n",
    "\n",
    "        # A stop sequence is a predefined or user-specified text string that\n",
    "        # signals an AI to stop generating content, ensuring its responses\n",
    "        # remain focused and concise. Examples include punctuation marks and\n",
    "        # markers like \"[end]\".\n",
    "        stop=None,\n",
    "\n",
    "        # If set, partial message deltas will be sent.\n",
    "        stream=True,\n",
    "    )\n",
    "\n",
    "    # Print the incremental deltas returned by the LLM.\n",
    "    async for chunk in stream:\n",
    "        print(chunk.choices[0].delta.content, end=\"\")\n",
    "\n",
    "asyncio.run(main())\n"
   ]
  }
 ],
 "metadata": {
  "kernelspec": {
   "display_name": "Python 3",
   "language": "python",
   "name": "python3"
  },
  "language_info": {
   "codemirror_mode": {
    "name": "ipython",
    "version": 3
   },
   "file_extension": ".py",
   "mimetype": "text/x-python",
   "name": "python",
   "nbconvert_exporter": "python",
   "pygments_lexer": "ipython3",
   "version": "3.9.13"
  }
 },
 "nbformat": 4,
 "nbformat_minor": 2
}
