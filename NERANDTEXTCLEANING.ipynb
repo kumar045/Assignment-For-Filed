{
  "nbformat": 4,
  "nbformat_minor": 0,
  "metadata": {
    "colab": {
      "provenance": [],
      "authorship_tag": "ABX9TyOwfkHgC8esrejGDDDzNy90",
      "include_colab_link": true
    },
    "kernelspec": {
      "name": "python3",
      "display_name": "Python 3"
    },
    "language_info": {
      "name": "python"
    }
  },
  "cells": [
    {
      "cell_type": "markdown",
      "metadata": {
        "id": "view-in-github",
        "colab_type": "text"
      },
      "source": [
        "<a href=\"https://colab.research.google.com/github/kumar045/Assignment-For-Filed/blob/main/NERANDTEXTCLEANING.ipynb\" target=\"_parent\"><img src=\"https://colab.research.google.com/assets/colab-badge.svg\" alt=\"Open In Colab\"/></a>"
      ]
    },
    {
      "cell_type": "code",
      "execution_count": 1,
      "metadata": {
        "colab": {
          "base_uri": "https://localhost:8080/"
        },
        "id": "DkOXR7T6yYo9",
        "outputId": "5ef5ef64-c686-49b0-9034-3bd3eb8287d2"
      },
      "outputs": [
        {
          "output_type": "stream",
          "name": "stdout",
          "text": [
            "Requirement already satisfied: transformers in /usr/local/lib/python3.10/dist-packages (4.35.2)\n",
            "Requirement already satisfied: filelock in /usr/local/lib/python3.10/dist-packages (from transformers) (3.13.1)\n",
            "Requirement already satisfied: huggingface-hub<1.0,>=0.16.4 in /usr/local/lib/python3.10/dist-packages (from transformers) (0.20.2)\n",
            "Requirement already satisfied: numpy>=1.17 in /usr/local/lib/python3.10/dist-packages (from transformers) (1.23.5)\n",
            "Requirement already satisfied: packaging>=20.0 in /usr/local/lib/python3.10/dist-packages (from transformers) (23.2)\n",
            "Requirement already satisfied: pyyaml>=5.1 in /usr/local/lib/python3.10/dist-packages (from transformers) (6.0.1)\n",
            "Requirement already satisfied: regex!=2019.12.17 in /usr/local/lib/python3.10/dist-packages (from transformers) (2023.6.3)\n",
            "Requirement already satisfied: requests in /usr/local/lib/python3.10/dist-packages (from transformers) (2.31.0)\n",
            "Requirement already satisfied: tokenizers<0.19,>=0.14 in /usr/local/lib/python3.10/dist-packages (from transformers) (0.15.0)\n",
            "Requirement already satisfied: safetensors>=0.3.1 in /usr/local/lib/python3.10/dist-packages (from transformers) (0.4.1)\n",
            "Requirement already satisfied: tqdm>=4.27 in /usr/local/lib/python3.10/dist-packages (from transformers) (4.66.1)\n",
            "Requirement already satisfied: fsspec>=2023.5.0 in /usr/local/lib/python3.10/dist-packages (from huggingface-hub<1.0,>=0.16.4->transformers) (2023.6.0)\n",
            "Requirement already satisfied: typing-extensions>=3.7.4.3 in /usr/local/lib/python3.10/dist-packages (from huggingface-hub<1.0,>=0.16.4->transformers) (4.5.0)\n",
            "Requirement already satisfied: charset-normalizer<4,>=2 in /usr/local/lib/python3.10/dist-packages (from requests->transformers) (3.3.2)\n",
            "Requirement already satisfied: idna<4,>=2.5 in /usr/local/lib/python3.10/dist-packages (from requests->transformers) (3.6)\n",
            "Requirement already satisfied: urllib3<3,>=1.21.1 in /usr/local/lib/python3.10/dist-packages (from requests->transformers) (2.0.7)\n",
            "Requirement already satisfied: certifi>=2017.4.17 in /usr/local/lib/python3.10/dist-packages (from requests->transformers) (2023.11.17)\n"
          ]
        }
      ],
      "source": [
        "!pip install transformers"
      ]
    },
    {
      "cell_type": "code",
      "source": [
        "from transformers import AutoTokenizer, AutoModelForTokenClassification\n",
        "from transformers import pipeline\n",
        "\n",
        "def process(text, prompt, threshold=0.5):\n",
        "    input_ = f\"{prompt}\\n{text}\"\n",
        "    results = nlp(input_)\n",
        "    processed_results = []\n",
        "    prompt_length = len(prompt)\n",
        "    for result in results:\n",
        "        if result['score'] < threshold:\n",
        "            continue\n",
        "        start = result['start'] - prompt_length\n",
        "        if start < 0:\n",
        "            continue\n",
        "        end = result['end'] - prompt_length\n",
        "        span = text[start:end]\n",
        "        processed_result = {\n",
        "            'span': span,\n",
        "            'start': start,\n",
        "            'end': end,\n",
        "            'score': result['score']\n",
        "        }\n",
        "        processed_results.append(processed_result)\n",
        "    return processed_results\n",
        "\n",
        "tokenizer = AutoTokenizer.from_pretrained(\"knowledgator/UTC-DeBERTa-small\")\n",
        "model = AutoModelForTokenClassification.from_pretrained(\"knowledgator/UTC-DeBERTa-small\")\n",
        "nlp = pipeline(\"ner\", model=model, tokenizer=tokenizer, aggregation_strategy='first')\n",
        "\n",
        "# NER\n",
        "prompt = \"\"\"Identify the following entity classes in the text:\n",
        "computer\n",
        "\n",
        "Text:\n",
        "\"\"\"\n",
        "text = \"\"\"Apple was founded as Apple Computer Company on April 1, 1976, by Steve Wozniak, Steve Jobs (1955–2011) and Ronald Wayne to develop and sell Wozniak's Apple I personal computer.\n",
        "It was incorporated by Jobs and Wozniak as Apple Computer, Inc. in 1977. The company's second computer, the Apple II, became a best seller and one of the first mass-produced microcomputers.\n",
        "Apple went public in 1980 to instant financial success.\"\"\"\n",
        "\n",
        "results_ner = process(text, prompt)\n",
        "print(\"NER\",results_ner)\n",
        "\n",
        "# QA\n",
        "prompt_qa = \"Who founded Apple?\"\n",
        "text_qa = \"Apple was founded by Steve Jobs and Steve Wozniak.\"\n",
        "results_qa = process(text_qa, prompt_qa)\n",
        "print(\"QA\",results_qa)\n",
        "\n",
        "# Relation Extraction\n",
        "rex_prompt = \"\"\"\n",
        "Identify target entity given the following relation: \"{}\" and the following source entity: \"{}\"\n",
        "\n",
        "Text:\n",
        "\"\"\"\n",
        "text_rex = \"Steve Jobs founded Apple.\"\n",
        "entity_rex = \"Steve Jobs\"\n",
        "relation_rex = \"founded\"\n",
        "prompt_rex = rex_prompt.format(relation_rex, entity_rex)\n",
        "results_rex = process(text_rex, prompt_rex)\n",
        "print(\"Relation Extraction\",results_rex)\n",
        "\n",
        "# Text Cleaning\n",
        "prompt_clean = \"\"\"Clean the following text extracted from the web matching not relevant parts:\"\"\"\n",
        "text_clean = \"Here is some text with irrelevant information. Delete this part.\"\n",
        "results_clean = process(text_clean, prompt_clean)\n",
        "print(\"Text Cleaning\",results_clean)\n",
        "\n",
        "# Summarization\n",
        "prompt_summ = \"Summarize the following text, highlighting the most important sentences:\"\n",
        "text_summ = \"Apple Inc. was founded by Steve Jobs, Steve Wozniak, and Ronald Wayne.\"\n",
        "results_summ = process(text_summ, prompt_summ)\n",
        "print(\"Summarise\",results_summ)\n",
        "\n",
        "# Coreference Resolution\n",
        "# The provided article does not specify a coreference resolution example using this model. Typically, specialized models or tools are used for coreference resolution."
      ],
      "metadata": {
        "colab": {
          "base_uri": "https://localhost:8080/"
        },
        "id": "Q2oWv_Iqyjcr",
        "outputId": "91cb89fd-afd1-4ee8-a81a-f7cf366686fa"
      },
      "execution_count": 6,
      "outputs": [
        {
          "output_type": "stream",
          "name": "stderr",
          "text": [
            "Asking to truncate to max_length but no maximum length is provided and the model has no predefined maximum length. Default to no truncation.\n"
          ]
        },
        {
          "output_type": "stream",
          "name": "stdout",
          "text": [
            "NER [{'span': 'Apple I ', 'start': 150, 'end': 158, 'score': 0.54925555}, {'span': 'Apple II, ', 'start': 285, 'end': 295, 'score': 0.70257914}]\n",
            "QA [{'span': 'Steve Jobs ', 'start': 21, 'end': 32, 'score': 0.9088955}, {'span': 'Steve Wozniak.', 'start': 36, 'end': 51, 'score': 0.6151945}]\n",
            "Relation Extraction [{'span': 'Apple.', 'start': 19, 'end': 26, 'score': 0.946839}]\n",
            "Text Cleaning [{'span': 'Delete ', 'start': 47, 'end': 54, 'score': 0.5665469}]\n",
            "Summarise [{'span': 'Inc. was founded by Steve Jobs, Steve Wozniak, and Ronald Wayne.', 'start': 6, 'end': 71, 'score': 0.58014005}]\n"
          ]
        }
      ]
    }
  ]
}