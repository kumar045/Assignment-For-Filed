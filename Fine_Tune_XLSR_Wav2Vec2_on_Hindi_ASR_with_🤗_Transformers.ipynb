{
  "nbformat": 4,
  "nbformat_minor": 0,
  "metadata": {
    "colab": {
      "provenance": [],
      "machine_shape": "hm",
      "include_colab_link": true
    },
    "kernelspec": {
      "name": "python3",
      "display_name": "Python 3"
    },
    "widgets": {
      "application/vnd.jupyter.widget-state+json": {
        "4244c46dbc574618bc5f950d47b49987": {
          "model_module": "@jupyter-widgets/controls",
          "model_name": "HBoxModel",
          "state": {
            "_view_name": "HBoxView",
            "_dom_classes": [],
            "_model_name": "HBoxModel",
            "_view_module": "@jupyter-widgets/controls",
            "_model_module_version": "1.5.0",
            "_view_count": null,
            "_view_module_version": "1.5.0",
            "box_style": "",
            "layout": "IPY_MODEL_ad2850e97c014d8f838cf69614ad3e2b",
            "_model_module": "@jupyter-widgets/controls",
            "children": [
              "IPY_MODEL_f68a39f3275a4688bb888c9776501dbb",
              "IPY_MODEL_0519e85f94424377bbdaa601702ce9a9"
            ]
          },
          "model_module_version": "1.5.0"
        },
        "ad2850e97c014d8f838cf69614ad3e2b": {
          "model_module": "@jupyter-widgets/base",
          "model_name": "LayoutModel",
          "state": {
            "_view_name": "LayoutView",
            "grid_template_rows": null,
            "right": null,
            "justify_content": null,
            "_view_module": "@jupyter-widgets/base",
            "overflow": null,
            "_model_module_version": "1.2.0",
            "_view_count": null,
            "flex_flow": null,
            "width": null,
            "min_width": null,
            "border": null,
            "align_items": null,
            "bottom": null,
            "_model_module": "@jupyter-widgets/base",
            "top": null,
            "grid_column": null,
            "overflow_y": null,
            "overflow_x": null,
            "grid_auto_flow": null,
            "grid_area": null,
            "grid_template_columns": null,
            "flex": null,
            "_model_name": "LayoutModel",
            "justify_items": null,
            "grid_row": null,
            "max_height": null,
            "align_content": null,
            "visibility": null,
            "align_self": null,
            "height": null,
            "min_height": null,
            "padding": null,
            "grid_auto_rows": null,
            "grid_gap": null,
            "max_width": null,
            "order": null,
            "_view_module_version": "1.2.0",
            "grid_template_areas": null,
            "object_position": null,
            "object_fit": null,
            "grid_auto_columns": null,
            "margin": null,
            "display": null,
            "left": null
          },
          "model_module_version": "1.2.0"
        },
        "f68a39f3275a4688bb888c9776501dbb": {
          "model_module": "@jupyter-widgets/controls",
          "model_name": "FloatProgressModel",
          "state": {
            "_view_name": "ProgressView",
            "style": "IPY_MODEL_3d1756785a714dc4a648cacdaeb69102",
            "_dom_classes": [],
            "description": "Downloading: ",
            "_model_name": "FloatProgressModel",
            "bar_style": "success",
            "max": 4323,
            "_view_module": "@jupyter-widgets/controls",
            "_model_module_version": "1.5.0",
            "value": 4323,
            "_view_count": null,
            "_view_module_version": "1.5.0",
            "orientation": "horizontal",
            "min": 0,
            "description_tooltip": null,
            "_model_module": "@jupyter-widgets/controls",
            "layout": "IPY_MODEL_ed0f46984bf8461883e54d1094ba30ee"
          },
          "model_module_version": "1.5.0"
        },
        "0519e85f94424377bbdaa601702ce9a9": {
          "model_module": "@jupyter-widgets/controls",
          "model_name": "HTMLModel",
          "state": {
            "_view_name": "HTMLView",
            "style": "IPY_MODEL_5aaa70ddf67545e58060ef5445aeded7",
            "_dom_classes": [],
            "description": "",
            "_model_name": "HTMLModel",
            "placeholder": "​",
            "_view_module": "@jupyter-widgets/controls",
            "_model_module_version": "1.5.0",
            "value": " 22.0k/? [00:00&lt;00:00, 68.0kB/s]",
            "_view_count": null,
            "_view_module_version": "1.5.0",
            "description_tooltip": null,
            "_model_module": "@jupyter-widgets/controls",
            "layout": "IPY_MODEL_7ba09625e6b240579545cfd9a589ed1a"
          },
          "model_module_version": "1.5.0"
        },
        "3d1756785a714dc4a648cacdaeb69102": {
          "model_module": "@jupyter-widgets/controls",
          "model_name": "ProgressStyleModel",
          "state": {
            "_view_name": "StyleView",
            "_model_name": "ProgressStyleModel",
            "description_width": "initial",
            "_view_module": "@jupyter-widgets/base",
            "_model_module_version": "1.5.0",
            "_view_count": null,
            "_view_module_version": "1.2.0",
            "bar_color": null,
            "_model_module": "@jupyter-widgets/controls"
          },
          "model_module_version": "1.5.0"
        },
        "ed0f46984bf8461883e54d1094ba30ee": {
          "model_module": "@jupyter-widgets/base",
          "model_name": "LayoutModel",
          "state": {
            "_view_name": "LayoutView",
            "grid_template_rows": null,
            "right": null,
            "justify_content": null,
            "_view_module": "@jupyter-widgets/base",
            "overflow": null,
            "_model_module_version": "1.2.0",
            "_view_count": null,
            "flex_flow": null,
            "width": null,
            "min_width": null,
            "border": null,
            "align_items": null,
            "bottom": null,
            "_model_module": "@jupyter-widgets/base",
            "top": null,
            "grid_column": null,
            "overflow_y": null,
            "overflow_x": null,
            "grid_auto_flow": null,
            "grid_area": null,
            "grid_template_columns": null,
            "flex": null,
            "_model_name": "LayoutModel",
            "justify_items": null,
            "grid_row": null,
            "max_height": null,
            "align_content": null,
            "visibility": null,
            "align_self": null,
            "height": null,
            "min_height": null,
            "padding": null,
            "grid_auto_rows": null,
            "grid_gap": null,
            "max_width": null,
            "order": null,
            "_view_module_version": "1.2.0",
            "grid_template_areas": null,
            "object_position": null,
            "object_fit": null,
            "grid_auto_columns": null,
            "margin": null,
            "display": null,
            "left": null
          },
          "model_module_version": "1.2.0"
        },
        "5aaa70ddf67545e58060ef5445aeded7": {
          "model_module": "@jupyter-widgets/controls",
          "model_name": "DescriptionStyleModel",
          "state": {
            "_view_name": "StyleView",
            "_model_name": "DescriptionStyleModel",
            "description_width": "",
            "_view_module": "@jupyter-widgets/base",
            "_model_module_version": "1.5.0",
            "_view_count": null,
            "_view_module_version": "1.2.0",
            "_model_module": "@jupyter-widgets/controls"
          },
          "model_module_version": "1.5.0"
        },
        "7ba09625e6b240579545cfd9a589ed1a": {
          "model_module": "@jupyter-widgets/base",
          "model_name": "LayoutModel",
          "state": {
            "_view_name": "LayoutView",
            "grid_template_rows": null,
            "right": null,
            "justify_content": null,
            "_view_module": "@jupyter-widgets/base",
            "overflow": null,
            "_model_module_version": "1.2.0",
            "_view_count": null,
            "flex_flow": null,
            "width": null,
            "min_width": null,
            "border": null,
            "align_items": null,
            "bottom": null,
            "_model_module": "@jupyter-widgets/base",
            "top": null,
            "grid_column": null,
            "overflow_y": null,
            "overflow_x": null,
            "grid_auto_flow": null,
            "grid_area": null,
            "grid_template_columns": null,
            "flex": null,
            "_model_name": "LayoutModel",
            "justify_items": null,
            "grid_row": null,
            "max_height": null,
            "align_content": null,
            "visibility": null,
            "align_self": null,
            "height": null,
            "min_height": null,
            "padding": null,
            "grid_auto_rows": null,
            "grid_gap": null,
            "max_width": null,
            "order": null,
            "_view_module_version": "1.2.0",
            "grid_template_areas": null,
            "object_position": null,
            "object_fit": null,
            "grid_auto_columns": null,
            "margin": null,
            "display": null,
            "left": null
          },
          "model_module_version": "1.2.0"
        },
        "3e75bc00144644febabfe6676046b282": {
          "model_module": "@jupyter-widgets/controls",
          "model_name": "HBoxModel",
          "state": {
            "_view_name": "HBoxView",
            "_dom_classes": [],
            "_model_name": "HBoxModel",
            "_view_module": "@jupyter-widgets/controls",
            "_model_module_version": "1.5.0",
            "_view_count": null,
            "_view_module_version": "1.5.0",
            "box_style": "",
            "layout": "IPY_MODEL_4b42d2e6477e4085b3d592cfe989d1de",
            "_model_module": "@jupyter-widgets/controls",
            "children": [
              "IPY_MODEL_9d10803607994d63ac575a8796760400",
              "IPY_MODEL_b6c4d227c1d6465b8f9115ad7c8daba9"
            ]
          },
          "model_module_version": "1.5.0"
        },
        "4b42d2e6477e4085b3d592cfe989d1de": {
          "model_module": "@jupyter-widgets/base",
          "model_name": "LayoutModel",
          "state": {
            "_view_name": "LayoutView",
            "grid_template_rows": null,
            "right": null,
            "justify_content": null,
            "_view_module": "@jupyter-widgets/base",
            "overflow": null,
            "_model_module_version": "1.2.0",
            "_view_count": null,
            "flex_flow": null,
            "width": null,
            "min_width": null,
            "border": null,
            "align_items": null,
            "bottom": null,
            "_model_module": "@jupyter-widgets/base",
            "top": null,
            "grid_column": null,
            "overflow_y": null,
            "overflow_x": null,
            "grid_auto_flow": null,
            "grid_area": null,
            "grid_template_columns": null,
            "flex": null,
            "_model_name": "LayoutModel",
            "justify_items": null,
            "grid_row": null,
            "max_height": null,
            "align_content": null,
            "visibility": null,
            "align_self": null,
            "height": null,
            "min_height": null,
            "padding": null,
            "grid_auto_rows": null,
            "grid_gap": null,
            "max_width": null,
            "order": null,
            "_view_module_version": "1.2.0",
            "grid_template_areas": null,
            "object_position": null,
            "object_fit": null,
            "grid_auto_columns": null,
            "margin": null,
            "display": null,
            "left": null
          },
          "model_module_version": "1.2.0"
        },
        "9d10803607994d63ac575a8796760400": {
          "model_module": "@jupyter-widgets/controls",
          "model_name": "FloatProgressModel",
          "state": {
            "_view_name": "ProgressView",
            "style": "IPY_MODEL_50d18d95cda249c4b17033c4bd131926",
            "_dom_classes": [],
            "description": "Downloading: ",
            "_model_name": "FloatProgressModel",
            "bar_style": "success",
            "max": 9954,
            "_view_module": "@jupyter-widgets/controls",
            "_model_module_version": "1.5.0",
            "value": 9954,
            "_view_count": null,
            "_view_module_version": "1.5.0",
            "orientation": "horizontal",
            "min": 0,
            "description_tooltip": null,
            "_model_module": "@jupyter-widgets/controls",
            "layout": "IPY_MODEL_eb082757c366438490abf3d6fdb286ea"
          },
          "model_module_version": "1.5.0"
        },
        "b6c4d227c1d6465b8f9115ad7c8daba9": {
          "model_module": "@jupyter-widgets/controls",
          "model_name": "HTMLModel",
          "state": {
            "_view_name": "HTMLView",
            "style": "IPY_MODEL_517edacff9e444b090e19eadbe0af459",
            "_dom_classes": [],
            "description": "",
            "_model_name": "HTMLModel",
            "placeholder": "​",
            "_view_module": "@jupyter-widgets/controls",
            "_model_module_version": "1.5.0",
            "value": " 153k/? [00:00&lt;00:00, 2.12MB/s]",
            "_view_count": null,
            "_view_module_version": "1.5.0",
            "description_tooltip": null,
            "_model_module": "@jupyter-widgets/controls",
            "layout": "IPY_MODEL_f574502b4f57453eb51ba0fb997c80eb"
          },
          "model_module_version": "1.5.0"
        },
        "50d18d95cda249c4b17033c4bd131926": {
          "model_module": "@jupyter-widgets/controls",
          "model_name": "ProgressStyleModel",
          "state": {
            "_view_name": "StyleView",
            "_model_name": "ProgressStyleModel",
            "description_width": "initial",
            "_view_module": "@jupyter-widgets/base",
            "_model_module_version": "1.5.0",
            "_view_count": null,
            "_view_module_version": "1.2.0",
            "bar_color": null,
            "_model_module": "@jupyter-widgets/controls"
          },
          "model_module_version": "1.5.0"
        },
        "eb082757c366438490abf3d6fdb286ea": {
          "model_module": "@jupyter-widgets/base",
          "model_name": "LayoutModel",
          "state": {
            "_view_name": "LayoutView",
            "grid_template_rows": null,
            "right": null,
            "justify_content": null,
            "_view_module": "@jupyter-widgets/base",
            "overflow": null,
            "_model_module_version": "1.2.0",
            "_view_count": null,
            "flex_flow": null,
            "width": null,
            "min_width": null,
            "border": null,
            "align_items": null,
            "bottom": null,
            "_model_module": "@jupyter-widgets/base",
            "top": null,
            "grid_column": null,
            "overflow_y": null,
            "overflow_x": null,
            "grid_auto_flow": null,
            "grid_area": null,
            "grid_template_columns": null,
            "flex": null,
            "_model_name": "LayoutModel",
            "justify_items": null,
            "grid_row": null,
            "max_height": null,
            "align_content": null,
            "visibility": null,
            "align_self": null,
            "height": null,
            "min_height": null,
            "padding": null,
            "grid_auto_rows": null,
            "grid_gap": null,
            "max_width": null,
            "order": null,
            "_view_module_version": "1.2.0",
            "grid_template_areas": null,
            "object_position": null,
            "object_fit": null,
            "grid_auto_columns": null,
            "margin": null,
            "display": null,
            "left": null
          },
          "model_module_version": "1.2.0"
        },
        "517edacff9e444b090e19eadbe0af459": {
          "model_module": "@jupyter-widgets/controls",
          "model_name": "DescriptionStyleModel",
          "state": {
            "_view_name": "StyleView",
            "_model_name": "DescriptionStyleModel",
            "description_width": "",
            "_view_module": "@jupyter-widgets/base",
            "_model_module_version": "1.5.0",
            "_view_count": null,
            "_view_module_version": "1.2.0",
            "_model_module": "@jupyter-widgets/controls"
          },
          "model_module_version": "1.5.0"
        },
        "f574502b4f57453eb51ba0fb997c80eb": {
          "model_module": "@jupyter-widgets/base",
          "model_name": "LayoutModel",
          "state": {
            "_view_name": "LayoutView",
            "grid_template_rows": null,
            "right": null,
            "justify_content": null,
            "_view_module": "@jupyter-widgets/base",
            "overflow": null,
            "_model_module_version": "1.2.0",
            "_view_count": null,
            "flex_flow": null,
            "width": null,
            "min_width": null,
            "border": null,
            "align_items": null,
            "bottom": null,
            "_model_module": "@jupyter-widgets/base",
            "top": null,
            "grid_column": null,
            "overflow_y": null,
            "overflow_x": null,
            "grid_auto_flow": null,
            "grid_area": null,
            "grid_template_columns": null,
            "flex": null,
            "_model_name": "LayoutModel",
            "justify_items": null,
            "grid_row": null,
            "max_height": null,
            "align_content": null,
            "visibility": null,
            "align_self": null,
            "height": null,
            "min_height": null,
            "padding": null,
            "grid_auto_rows": null,
            "grid_gap": null,
            "max_width": null,
            "order": null,
            "_view_module_version": "1.2.0",
            "grid_template_areas": null,
            "object_position": null,
            "object_fit": null,
            "grid_auto_columns": null,
            "margin": null,
            "display": null,
            "left": null
          },
          "model_module_version": "1.2.0"
        },
        "a4f18da40efd46a499974b50834f922f": {
          "model_module": "@jupyter-widgets/controls",
          "model_name": "HBoxModel",
          "state": {
            "_view_name": "HBoxView",
            "_dom_classes": [],
            "_model_name": "HBoxModel",
            "_view_module": "@jupyter-widgets/controls",
            "_model_module_version": "1.5.0",
            "_view_count": null,
            "_view_module_version": "1.5.0",
            "box_style": "",
            "layout": "IPY_MODEL_28079c5923734e6181ffc80272c4d15e",
            "_model_module": "@jupyter-widgets/controls",
            "children": [
              "IPY_MODEL_e548c10115464df2a76a733c4d3a3663",
              "IPY_MODEL_d3cffd538a9e4a099003b26696f8b068"
            ]
          },
          "model_module_version": "1.5.0"
        },
        "28079c5923734e6181ffc80272c4d15e": {
          "model_module": "@jupyter-widgets/base",
          "model_name": "LayoutModel",
          "state": {
            "_view_name": "LayoutView",
            "grid_template_rows": null,
            "right": null,
            "justify_content": null,
            "_view_module": "@jupyter-widgets/base",
            "overflow": null,
            "_model_module_version": "1.2.0",
            "_view_count": null,
            "flex_flow": null,
            "width": null,
            "min_width": null,
            "border": null,
            "align_items": null,
            "bottom": null,
            "_model_module": "@jupyter-widgets/base",
            "top": null,
            "grid_column": null,
            "overflow_y": null,
            "overflow_x": null,
            "grid_auto_flow": null,
            "grid_area": null,
            "grid_template_columns": null,
            "flex": null,
            "_model_name": "LayoutModel",
            "justify_items": null,
            "grid_row": null,
            "max_height": null,
            "align_content": null,
            "visibility": null,
            "align_self": null,
            "height": null,
            "min_height": null,
            "padding": null,
            "grid_auto_rows": null,
            "grid_gap": null,
            "max_width": null,
            "order": null,
            "_view_module_version": "1.2.0",
            "grid_template_areas": null,
            "object_position": null,
            "object_fit": null,
            "grid_auto_columns": null,
            "margin": null,
            "display": null,
            "left": null
          },
          "model_module_version": "1.2.0"
        },
        "e548c10115464df2a76a733c4d3a3663": {
          "model_module": "@jupyter-widgets/controls",
          "model_name": "FloatProgressModel",
          "state": {
            "_view_name": "ProgressView",
            "style": "IPY_MODEL_1ec247886813488f9bae84bd8356bd45",
            "_dom_classes": [],
            "description": "Downloading: 100%",
            "_model_name": "FloatProgressModel",
            "bar_style": "success",
            "max": 21424045,
            "_view_module": "@jupyter-widgets/controls",
            "_model_module_version": "1.5.0",
            "value": 21424045,
            "_view_count": null,
            "_view_module_version": "1.5.0",
            "orientation": "horizontal",
            "min": 0,
            "description_tooltip": null,
            "_model_module": "@jupyter-widgets/controls",
            "layout": "IPY_MODEL_4ea7936e07ab446cbbb08cd25a9e1092"
          },
          "model_module_version": "1.5.0"
        },
        "d3cffd538a9e4a099003b26696f8b068": {
          "model_module": "@jupyter-widgets/controls",
          "model_name": "HTMLModel",
          "state": {
            "_view_name": "HTMLView",
            "style": "IPY_MODEL_64b32dd579774ddc9e1db1aa0219c0d7",
            "_dom_classes": [],
            "description": "",
            "_model_name": "HTMLModel",
            "placeholder": "​",
            "_view_module": "@jupyter-widgets/controls",
            "_model_module_version": "1.5.0",
            "value": " 21.4M/21.4M [00:01&lt;00:00, 13.8MB/s]",
            "_view_count": null,
            "_view_module_version": "1.5.0",
            "description_tooltip": null,
            "_model_module": "@jupyter-widgets/controls",
            "layout": "IPY_MODEL_c88a2585f05a4858ae883ec379e803c7"
          },
          "model_module_version": "1.5.0"
        },
        "1ec247886813488f9bae84bd8356bd45": {
          "model_module": "@jupyter-widgets/controls",
          "model_name": "ProgressStyleModel",
          "state": {
            "_view_name": "StyleView",
            "_model_name": "ProgressStyleModel",
            "description_width": "initial",
            "_view_module": "@jupyter-widgets/base",
            "_model_module_version": "1.5.0",
            "_view_count": null,
            "_view_module_version": "1.2.0",
            "bar_color": null,
            "_model_module": "@jupyter-widgets/controls"
          },
          "model_module_version": "1.5.0"
        },
        "4ea7936e07ab446cbbb08cd25a9e1092": {
          "model_module": "@jupyter-widgets/base",
          "model_name": "LayoutModel",
          "state": {
            "_view_name": "LayoutView",
            "grid_template_rows": null,
            "right": null,
            "justify_content": null,
            "_view_module": "@jupyter-widgets/base",
            "overflow": null,
            "_model_module_version": "1.2.0",
            "_view_count": null,
            "flex_flow": null,
            "width": null,
            "min_width": null,
            "border": null,
            "align_items": null,
            "bottom": null,
            "_model_module": "@jupyter-widgets/base",
            "top": null,
            "grid_column": null,
            "overflow_y": null,
            "overflow_x": null,
            "grid_auto_flow": null,
            "grid_area": null,
            "grid_template_columns": null,
            "flex": null,
            "_model_name": "LayoutModel",
            "justify_items": null,
            "grid_row": null,
            "max_height": null,
            "align_content": null,
            "visibility": null,
            "align_self": null,
            "height": null,
            "min_height": null,
            "padding": null,
            "grid_auto_rows": null,
            "grid_gap": null,
            "max_width": null,
            "order": null,
            "_view_module_version": "1.2.0",
            "grid_template_areas": null,
            "object_position": null,
            "object_fit": null,
            "grid_auto_columns": null,
            "margin": null,
            "display": null,
            "left": null
          },
          "model_module_version": "1.2.0"
        },
        "64b32dd579774ddc9e1db1aa0219c0d7": {
          "model_module": "@jupyter-widgets/controls",
          "model_name": "DescriptionStyleModel",
          "state": {
            "_view_name": "StyleView",
            "_model_name": "DescriptionStyleModel",
            "description_width": "",
            "_view_module": "@jupyter-widgets/base",
            "_model_module_version": "1.5.0",
            "_view_count": null,
            "_view_module_version": "1.2.0",
            "_model_module": "@jupyter-widgets/controls"
          },
          "model_module_version": "1.5.0"
        },
        "c88a2585f05a4858ae883ec379e803c7": {
          "model_module": "@jupyter-widgets/base",
          "model_name": "LayoutModel",
          "state": {
            "_view_name": "LayoutView",
            "grid_template_rows": null,
            "right": null,
            "justify_content": null,
            "_view_module": "@jupyter-widgets/base",
            "overflow": null,
            "_model_module_version": "1.2.0",
            "_view_count": null,
            "flex_flow": null,
            "width": null,
            "min_width": null,
            "border": null,
            "align_items": null,
            "bottom": null,
            "_model_module": "@jupyter-widgets/base",
            "top": null,
            "grid_column": null,
            "overflow_y": null,
            "overflow_x": null,
            "grid_auto_flow": null,
            "grid_area": null,
            "grid_template_columns": null,
            "flex": null,
            "_model_name": "LayoutModel",
            "justify_items": null,
            "grid_row": null,
            "max_height": null,
            "align_content": null,
            "visibility": null,
            "align_self": null,
            "height": null,
            "min_height": null,
            "padding": null,
            "grid_auto_rows": null,
            "grid_gap": null,
            "max_width": null,
            "order": null,
            "_view_module_version": "1.2.0",
            "grid_template_areas": null,
            "object_position": null,
            "object_fit": null,
            "grid_auto_columns": null,
            "margin": null,
            "display": null,
            "left": null
          },
          "model_module_version": "1.2.0"
        },
        "f69147a5fd0245a2b40b8fb77cfff5a8": {
          "model_module": "@jupyter-widgets/controls",
          "model_name": "HBoxModel",
          "state": {
            "_view_name": "HBoxView",
            "_dom_classes": [],
            "_model_name": "HBoxModel",
            "_view_module": "@jupyter-widgets/controls",
            "_model_module_version": "1.5.0",
            "_view_count": null,
            "_view_module_version": "1.5.0",
            "box_style": "",
            "layout": "IPY_MODEL_139d9aac43e041bea1a36042319586e2",
            "_model_module": "@jupyter-widgets/controls",
            "children": [
              "IPY_MODEL_8d3a1bc45ed54b26921ae023aa02d0f1",
              "IPY_MODEL_5675d063674a493ebc60095ce4e54377"
            ]
          },
          "model_module_version": "1.5.0"
        },
        "139d9aac43e041bea1a36042319586e2": {
          "model_module": "@jupyter-widgets/base",
          "model_name": "LayoutModel",
          "state": {
            "_view_name": "LayoutView",
            "grid_template_rows": null,
            "right": null,
            "justify_content": null,
            "_view_module": "@jupyter-widgets/base",
            "overflow": null,
            "_model_module_version": "1.2.0",
            "_view_count": null,
            "flex_flow": null,
            "width": null,
            "min_width": null,
            "border": null,
            "align_items": null,
            "bottom": null,
            "_model_module": "@jupyter-widgets/base",
            "top": null,
            "grid_column": null,
            "overflow_y": null,
            "overflow_x": null,
            "grid_auto_flow": null,
            "grid_area": null,
            "grid_template_columns": null,
            "flex": null,
            "_model_name": "LayoutModel",
            "justify_items": null,
            "grid_row": null,
            "max_height": null,
            "align_content": null,
            "visibility": null,
            "align_self": null,
            "height": null,
            "min_height": null,
            "padding": null,
            "grid_auto_rows": null,
            "grid_gap": null,
            "max_width": null,
            "order": null,
            "_view_module_version": "1.2.0",
            "grid_template_areas": null,
            "object_position": null,
            "object_fit": null,
            "grid_auto_columns": null,
            "margin": null,
            "display": null,
            "left": null
          },
          "model_module_version": "1.2.0"
        },
        "8d3a1bc45ed54b26921ae023aa02d0f1": {
          "model_module": "@jupyter-widgets/controls",
          "model_name": "FloatProgressModel",
          "state": {
            "_view_name": "ProgressView",
            "style": "IPY_MODEL_2d416e82ad3e4542ab82e2c68c82aa66",
            "_dom_classes": [],
            "description": "",
            "_model_name": "FloatProgressModel",
            "bar_style": "info",
            "max": 1,
            "_view_module": "@jupyter-widgets/controls",
            "_model_module_version": "1.5.0",
            "value": 1,
            "_view_count": null,
            "_view_module_version": "1.5.0",
            "orientation": "horizontal",
            "min": 0,
            "description_tooltip": null,
            "_model_module": "@jupyter-widgets/controls",
            "layout": "IPY_MODEL_c78131da3f544ed39e8c374f870c080b"
          },
          "model_module_version": "1.5.0"
        },
        "5675d063674a493ebc60095ce4e54377": {
          "model_module": "@jupyter-widgets/controls",
          "model_name": "HTMLModel",
          "state": {
            "_view_name": "HTMLView",
            "style": "IPY_MODEL_843eae652cee414694c5c7161411c21b",
            "_dom_classes": [],
            "description": "",
            "_model_name": "HTMLModel",
            "placeholder": "​",
            "_view_module": "@jupyter-widgets/controls",
            "_model_module_version": "1.5.0",
            "value": " 157/0 [00:05&lt;00:00,  5.24s/ examples]",
            "_view_count": null,
            "_view_module_version": "1.5.0",
            "description_tooltip": null,
            "_model_module": "@jupyter-widgets/controls",
            "layout": "IPY_MODEL_a495c260145e484bb9edc763a0ed26fd"
          },
          "model_module_version": "1.5.0"
        },
        "2d416e82ad3e4542ab82e2c68c82aa66": {
          "model_module": "@jupyter-widgets/controls",
          "model_name": "ProgressStyleModel",
          "state": {
            "_view_name": "StyleView",
            "_model_name": "ProgressStyleModel",
            "description_width": "initial",
            "_view_module": "@jupyter-widgets/base",
            "_model_module_version": "1.5.0",
            "_view_count": null,
            "_view_module_version": "1.2.0",
            "bar_color": null,
            "_model_module": "@jupyter-widgets/controls"
          },
          "model_module_version": "1.5.0"
        },
        "c78131da3f544ed39e8c374f870c080b": {
          "model_module": "@jupyter-widgets/base",
          "model_name": "LayoutModel",
          "state": {
            "_view_name": "LayoutView",
            "grid_template_rows": null,
            "right": null,
            "justify_content": null,
            "_view_module": "@jupyter-widgets/base",
            "overflow": null,
            "_model_module_version": "1.2.0",
            "_view_count": null,
            "flex_flow": null,
            "width": null,
            "min_width": null,
            "border": null,
            "align_items": null,
            "bottom": null,
            "_model_module": "@jupyter-widgets/base",
            "top": null,
            "grid_column": null,
            "overflow_y": null,
            "overflow_x": null,
            "grid_auto_flow": null,
            "grid_area": null,
            "grid_template_columns": null,
            "flex": null,
            "_model_name": "LayoutModel",
            "justify_items": null,
            "grid_row": null,
            "max_height": null,
            "align_content": null,
            "visibility": null,
            "align_self": null,
            "height": null,
            "min_height": null,
            "padding": null,
            "grid_auto_rows": null,
            "grid_gap": null,
            "max_width": null,
            "order": null,
            "_view_module_version": "1.2.0",
            "grid_template_areas": null,
            "object_position": null,
            "object_fit": null,
            "grid_auto_columns": null,
            "margin": null,
            "display": null,
            "left": null
          },
          "model_module_version": "1.2.0"
        },
        "843eae652cee414694c5c7161411c21b": {
          "model_module": "@jupyter-widgets/controls",
          "model_name": "DescriptionStyleModel",
          "state": {
            "_view_name": "StyleView",
            "_model_name": "DescriptionStyleModel",
            "description_width": "",
            "_view_module": "@jupyter-widgets/base",
            "_model_module_version": "1.5.0",
            "_view_count": null,
            "_view_module_version": "1.2.0",
            "_model_module": "@jupyter-widgets/controls"
          },
          "model_module_version": "1.5.0"
        },
        "a495c260145e484bb9edc763a0ed26fd": {
          "model_module": "@jupyter-widgets/base",
          "model_name": "LayoutModel",
          "state": {
            "_view_name": "LayoutView",
            "grid_template_rows": null,
            "right": null,
            "justify_content": null,
            "_view_module": "@jupyter-widgets/base",
            "overflow": null,
            "_model_module_version": "1.2.0",
            "_view_count": null,
            "flex_flow": null,
            "width": null,
            "min_width": null,
            "border": null,
            "align_items": null,
            "bottom": null,
            "_model_module": "@jupyter-widgets/base",
            "top": null,
            "grid_column": null,
            "overflow_y": null,
            "overflow_x": null,
            "grid_auto_flow": null,
            "grid_area": null,
            "grid_template_columns": null,
            "flex": null,
            "_model_name": "LayoutModel",
            "justify_items": null,
            "grid_row": null,
            "max_height": null,
            "align_content": null,
            "visibility": null,
            "align_self": null,
            "height": null,
            "min_height": null,
            "padding": null,
            "grid_auto_rows": null,
            "grid_gap": null,
            "max_width": null,
            "order": null,
            "_view_module_version": "1.2.0",
            "grid_template_areas": null,
            "object_position": null,
            "object_fit": null,
            "grid_auto_columns": null,
            "margin": null,
            "display": null,
            "left": null
          },
          "model_module_version": "1.2.0"
        },
        "714de99ccacd40c4ac90202769dc5cb0": {
          "model_module": "@jupyter-widgets/controls",
          "model_name": "HBoxModel",
          "state": {
            "_view_name": "HBoxView",
            "_dom_classes": [],
            "_model_name": "HBoxModel",
            "_view_module": "@jupyter-widgets/controls",
            "_model_module_version": "1.5.0",
            "_view_count": null,
            "_view_module_version": "1.5.0",
            "box_style": "",
            "layout": "IPY_MODEL_831a74b84bae4785a528b24aa0e701b1",
            "_model_module": "@jupyter-widgets/controls",
            "children": [
              "IPY_MODEL_96cc5bead15c46df94f9e2e8a28a4f53",
              "IPY_MODEL_d0465697c6a44b239656b60089ca3371"
            ]
          },
          "model_module_version": "1.5.0"
        },
        "831a74b84bae4785a528b24aa0e701b1": {
          "model_module": "@jupyter-widgets/base",
          "model_name": "LayoutModel",
          "state": {
            "_view_name": "LayoutView",
            "grid_template_rows": null,
            "right": null,
            "justify_content": null,
            "_view_module": "@jupyter-widgets/base",
            "overflow": null,
            "_model_module_version": "1.2.0",
            "_view_count": null,
            "flex_flow": null,
            "width": null,
            "min_width": null,
            "border": null,
            "align_items": null,
            "bottom": null,
            "_model_module": "@jupyter-widgets/base",
            "top": null,
            "grid_column": null,
            "overflow_y": null,
            "overflow_x": null,
            "grid_auto_flow": null,
            "grid_area": null,
            "grid_template_columns": null,
            "flex": null,
            "_model_name": "LayoutModel",
            "justify_items": null,
            "grid_row": null,
            "max_height": null,
            "align_content": null,
            "visibility": null,
            "align_self": null,
            "height": null,
            "min_height": null,
            "padding": null,
            "grid_auto_rows": null,
            "grid_gap": null,
            "max_width": null,
            "order": null,
            "_view_module_version": "1.2.0",
            "grid_template_areas": null,
            "object_position": null,
            "object_fit": null,
            "grid_auto_columns": null,
            "margin": null,
            "display": null,
            "left": null
          },
          "model_module_version": "1.2.0"
        },
        "96cc5bead15c46df94f9e2e8a28a4f53": {
          "model_module": "@jupyter-widgets/controls",
          "model_name": "FloatProgressModel",
          "state": {
            "_view_name": "ProgressView",
            "style": "IPY_MODEL_ceb3734d38554a1d9203e5652df5d867",
            "_dom_classes": [],
            "description": "",
            "_model_name": "FloatProgressModel",
            "bar_style": "info",
            "max": 1,
            "_view_module": "@jupyter-widgets/controls",
            "_model_module_version": "1.5.0",
            "value": 1,
            "_view_count": null,
            "_view_module_version": "1.5.0",
            "orientation": "horizontal",
            "min": 0,
            "description_tooltip": null,
            "_model_module": "@jupyter-widgets/controls",
            "layout": "IPY_MODEL_e2dc81d526894dc49f4f3c2a87a598ce"
          },
          "model_module_version": "1.5.0"
        },
        "d0465697c6a44b239656b60089ca3371": {
          "model_module": "@jupyter-widgets/controls",
          "model_name": "HTMLModel",
          "state": {
            "_view_name": "HTMLView",
            "style": "IPY_MODEL_4c49d6f2c987423a8bcd39764e0d2eda",
            "_dom_classes": [],
            "description": "",
            "_model_name": "HTMLModel",
            "placeholder": "​",
            "_view_module": "@jupyter-widgets/controls",
            "_model_module_version": "1.5.0",
            "value": " 127/0 [00:00&lt;00:00, 2850.41 examples/s]",
            "_view_count": null,
            "_view_module_version": "1.5.0",
            "description_tooltip": null,
            "_model_module": "@jupyter-widgets/controls",
            "layout": "IPY_MODEL_10fb3b9746994e919790f29079b2e69d"
          },
          "model_module_version": "1.5.0"
        },
        "ceb3734d38554a1d9203e5652df5d867": {
          "model_module": "@jupyter-widgets/controls",
          "model_name": "ProgressStyleModel",
          "state": {
            "_view_name": "StyleView",
            "_model_name": "ProgressStyleModel",
            "description_width": "initial",
            "_view_module": "@jupyter-widgets/base",
            "_model_module_version": "1.5.0",
            "_view_count": null,
            "_view_module_version": "1.2.0",
            "bar_color": null,
            "_model_module": "@jupyter-widgets/controls"
          },
          "model_module_version": "1.5.0"
        },
        "e2dc81d526894dc49f4f3c2a87a598ce": {
          "model_module": "@jupyter-widgets/base",
          "model_name": "LayoutModel",
          "state": {
            "_view_name": "LayoutView",
            "grid_template_rows": null,
            "right": null,
            "justify_content": null,
            "_view_module": "@jupyter-widgets/base",
            "overflow": null,
            "_model_module_version": "1.2.0",
            "_view_count": null,
            "flex_flow": null,
            "width": null,
            "min_width": null,
            "border": null,
            "align_items": null,
            "bottom": null,
            "_model_module": "@jupyter-widgets/base",
            "top": null,
            "grid_column": null,
            "overflow_y": null,
            "overflow_x": null,
            "grid_auto_flow": null,
            "grid_area": null,
            "grid_template_columns": null,
            "flex": null,
            "_model_name": "LayoutModel",
            "justify_items": null,
            "grid_row": null,
            "max_height": null,
            "align_content": null,
            "visibility": null,
            "align_self": null,
            "height": null,
            "min_height": null,
            "padding": null,
            "grid_auto_rows": null,
            "grid_gap": null,
            "max_width": null,
            "order": null,
            "_view_module_version": "1.2.0",
            "grid_template_areas": null,
            "object_position": null,
            "object_fit": null,
            "grid_auto_columns": null,
            "margin": null,
            "display": null,
            "left": null
          },
          "model_module_version": "1.2.0"
        },
        "4c49d6f2c987423a8bcd39764e0d2eda": {
          "model_module": "@jupyter-widgets/controls",
          "model_name": "DescriptionStyleModel",
          "state": {
            "_view_name": "StyleView",
            "_model_name": "DescriptionStyleModel",
            "description_width": "",
            "_view_module": "@jupyter-widgets/base",
            "_model_module_version": "1.5.0",
            "_view_count": null,
            "_view_module_version": "1.2.0",
            "_model_module": "@jupyter-widgets/controls"
          },
          "model_module_version": "1.5.0"
        },
        "10fb3b9746994e919790f29079b2e69d": {
          "model_module": "@jupyter-widgets/base",
          "model_name": "LayoutModel",
          "state": {
            "_view_name": "LayoutView",
            "grid_template_rows": null,
            "right": null,
            "justify_content": null,
            "_view_module": "@jupyter-widgets/base",
            "overflow": null,
            "_model_module_version": "1.2.0",
            "_view_count": null,
            "flex_flow": null,
            "width": null,
            "min_width": null,
            "border": null,
            "align_items": null,
            "bottom": null,
            "_model_module": "@jupyter-widgets/base",
            "top": null,
            "grid_column": null,
            "overflow_y": null,
            "overflow_x": null,
            "grid_auto_flow": null,
            "grid_area": null,
            "grid_template_columns": null,
            "flex": null,
            "_model_name": "LayoutModel",
            "justify_items": null,
            "grid_row": null,
            "max_height": null,
            "align_content": null,
            "visibility": null,
            "align_self": null,
            "height": null,
            "min_height": null,
            "padding": null,
            "grid_auto_rows": null,
            "grid_gap": null,
            "max_width": null,
            "order": null,
            "_view_module_version": "1.2.0",
            "grid_template_areas": null,
            "object_position": null,
            "object_fit": null,
            "grid_auto_columns": null,
            "margin": null,
            "display": null,
            "left": null
          },
          "model_module_version": "1.2.0"
        },
        "ad95a09214b94242a9d4f4c7783f311e": {
          "model_module": "@jupyter-widgets/controls",
          "model_name": "HBoxModel",
          "state": {
            "_view_name": "HBoxView",
            "_dom_classes": [],
            "_model_name": "HBoxModel",
            "_view_module": "@jupyter-widgets/controls",
            "_model_module_version": "1.5.0",
            "_view_count": null,
            "_view_module_version": "1.5.0",
            "box_style": "",
            "layout": "IPY_MODEL_17946aa6b87f4ae6b6f1ea4d36291627",
            "_model_module": "@jupyter-widgets/controls",
            "children": [
              "IPY_MODEL_17810f9a197b431f9cd1cc6298d0cad4",
              "IPY_MODEL_c11b2601eb1842058a855e62cf909489"
            ]
          },
          "model_module_version": "1.5.0"
        },
        "17946aa6b87f4ae6b6f1ea4d36291627": {
          "model_module": "@jupyter-widgets/base",
          "model_name": "LayoutModel",
          "state": {
            "_view_name": "LayoutView",
            "grid_template_rows": null,
            "right": null,
            "justify_content": null,
            "_view_module": "@jupyter-widgets/base",
            "overflow": null,
            "_model_module_version": "1.2.0",
            "_view_count": null,
            "flex_flow": null,
            "width": null,
            "min_width": null,
            "border": null,
            "align_items": null,
            "bottom": null,
            "_model_module": "@jupyter-widgets/base",
            "top": null,
            "grid_column": null,
            "overflow_y": null,
            "overflow_x": null,
            "grid_auto_flow": null,
            "grid_area": null,
            "grid_template_columns": null,
            "flex": null,
            "_model_name": "LayoutModel",
            "justify_items": null,
            "grid_row": null,
            "max_height": null,
            "align_content": null,
            "visibility": null,
            "align_self": null,
            "height": null,
            "min_height": null,
            "padding": null,
            "grid_auto_rows": null,
            "grid_gap": null,
            "max_width": null,
            "order": null,
            "_view_module_version": "1.2.0",
            "grid_template_areas": null,
            "object_position": null,
            "object_fit": null,
            "grid_auto_columns": null,
            "margin": null,
            "display": null,
            "left": null
          },
          "model_module_version": "1.2.0"
        },
        "17810f9a197b431f9cd1cc6298d0cad4": {
          "model_module": "@jupyter-widgets/controls",
          "model_name": "FloatProgressModel",
          "state": {
            "_view_name": "ProgressView",
            "style": "IPY_MODEL_39714d648c164dfb88cebcd1459873a2",
            "_dom_classes": [],
            "description": "",
            "_model_name": "FloatProgressModel",
            "bar_style": "info",
            "max": 1,
            "_view_module": "@jupyter-widgets/controls",
            "_model_module_version": "1.5.0",
            "value": 1,
            "_view_count": null,
            "_view_module_version": "1.5.0",
            "orientation": "horizontal",
            "min": 0,
            "description_tooltip": null,
            "_model_module": "@jupyter-widgets/controls",
            "layout": "IPY_MODEL_93024634bd8041e9a490ddcbc33dbb57"
          },
          "model_module_version": "1.5.0"
        },
        "c11b2601eb1842058a855e62cf909489": {
          "model_module": "@jupyter-widgets/controls",
          "model_name": "HTMLModel",
          "state": {
            "_view_name": "HTMLView",
            "style": "IPY_MODEL_343a2e57f5904008bdab56421ec0eb34",
            "_dom_classes": [],
            "description": "",
            "_model_name": "HTMLModel",
            "placeholder": "​",
            "_view_module": "@jupyter-widgets/controls",
            "_model_module_version": "1.5.0",
            "value": " 135/0 [00:00&lt;00:00, 2953.77 examples/s]",
            "_view_count": null,
            "_view_module_version": "1.5.0",
            "description_tooltip": null,
            "_model_module": "@jupyter-widgets/controls",
            "layout": "IPY_MODEL_0873454d5687431390801b780e5f2951"
          },
          "model_module_version": "1.5.0"
        },
        "39714d648c164dfb88cebcd1459873a2": {
          "model_module": "@jupyter-widgets/controls",
          "model_name": "ProgressStyleModel",
          "state": {
            "_view_name": "StyleView",
            "_model_name": "ProgressStyleModel",
            "description_width": "initial",
            "_view_module": "@jupyter-widgets/base",
            "_model_module_version": "1.5.0",
            "_view_count": null,
            "_view_module_version": "1.2.0",
            "bar_color": null,
            "_model_module": "@jupyter-widgets/controls"
          },
          "model_module_version": "1.5.0"
        },
        "93024634bd8041e9a490ddcbc33dbb57": {
          "model_module": "@jupyter-widgets/base",
          "model_name": "LayoutModel",
          "state": {
            "_view_name": "LayoutView",
            "grid_template_rows": null,
            "right": null,
            "justify_content": null,
            "_view_module": "@jupyter-widgets/base",
            "overflow": null,
            "_model_module_version": "1.2.0",
            "_view_count": null,
            "flex_flow": null,
            "width": null,
            "min_width": null,
            "border": null,
            "align_items": null,
            "bottom": null,
            "_model_module": "@jupyter-widgets/base",
            "top": null,
            "grid_column": null,
            "overflow_y": null,
            "overflow_x": null,
            "grid_auto_flow": null,
            "grid_area": null,
            "grid_template_columns": null,
            "flex": null,
            "_model_name": "LayoutModel",
            "justify_items": null,
            "grid_row": null,
            "max_height": null,
            "align_content": null,
            "visibility": null,
            "align_self": null,
            "height": null,
            "min_height": null,
            "padding": null,
            "grid_auto_rows": null,
            "grid_gap": null,
            "max_width": null,
            "order": null,
            "_view_module_version": "1.2.0",
            "grid_template_areas": null,
            "object_position": null,
            "object_fit": null,
            "grid_auto_columns": null,
            "margin": null,
            "display": null,
            "left": null
          },
          "model_module_version": "1.2.0"
        },
        "343a2e57f5904008bdab56421ec0eb34": {
          "model_module": "@jupyter-widgets/controls",
          "model_name": "DescriptionStyleModel",
          "state": {
            "_view_name": "StyleView",
            "_model_name": "DescriptionStyleModel",
            "description_width": "",
            "_view_module": "@jupyter-widgets/base",
            "_model_module_version": "1.5.0",
            "_view_count": null,
            "_view_module_version": "1.2.0",
            "_model_module": "@jupyter-widgets/controls"
          },
          "model_module_version": "1.5.0"
        },
        "0873454d5687431390801b780e5f2951": {
          "model_module": "@jupyter-widgets/base",
          "model_name": "LayoutModel",
          "state": {
            "_view_name": "LayoutView",
            "grid_template_rows": null,
            "right": null,
            "justify_content": null,
            "_view_module": "@jupyter-widgets/base",
            "overflow": null,
            "_model_module_version": "1.2.0",
            "_view_count": null,
            "flex_flow": null,
            "width": null,
            "min_width": null,
            "border": null,
            "align_items": null,
            "bottom": null,
            "_model_module": "@jupyter-widgets/base",
            "top": null,
            "grid_column": null,
            "overflow_y": null,
            "overflow_x": null,
            "grid_auto_flow": null,
            "grid_area": null,
            "grid_template_columns": null,
            "flex": null,
            "_model_name": "LayoutModel",
            "justify_items": null,
            "grid_row": null,
            "max_height": null,
            "align_content": null,
            "visibility": null,
            "align_self": null,
            "height": null,
            "min_height": null,
            "padding": null,
            "grid_auto_rows": null,
            "grid_gap": null,
            "max_width": null,
            "order": null,
            "_view_module_version": "1.2.0",
            "grid_template_areas": null,
            "object_position": null,
            "object_fit": null,
            "grid_auto_columns": null,
            "margin": null,
            "display": null,
            "left": null
          },
          "model_module_version": "1.2.0"
        },
        "cfc5519c45354a12867f4ef6cb84f8e4": {
          "model_module": "@jupyter-widgets/controls",
          "model_name": "HBoxModel",
          "state": {
            "_view_name": "HBoxView",
            "_dom_classes": [],
            "_model_name": "HBoxModel",
            "_view_module": "@jupyter-widgets/controls",
            "_model_module_version": "1.5.0",
            "_view_count": null,
            "_view_module_version": "1.5.0",
            "box_style": "",
            "layout": "IPY_MODEL_8c85552c7de34dcc847cab20ba45627b",
            "_model_module": "@jupyter-widgets/controls",
            "children": [
              "IPY_MODEL_e331cf86c64d4ba48317d3853910ba3a",
              "IPY_MODEL_92d0e596a3954b7b93f3d68f5b44b822"
            ]
          },
          "model_module_version": "1.5.0"
        },
        "8c85552c7de34dcc847cab20ba45627b": {
          "model_module": "@jupyter-widgets/base",
          "model_name": "LayoutModel",
          "state": {
            "_view_name": "LayoutView",
            "grid_template_rows": null,
            "right": null,
            "justify_content": null,
            "_view_module": "@jupyter-widgets/base",
            "overflow": null,
            "_model_module_version": "1.2.0",
            "_view_count": null,
            "flex_flow": null,
            "width": null,
            "min_width": null,
            "border": null,
            "align_items": null,
            "bottom": null,
            "_model_module": "@jupyter-widgets/base",
            "top": null,
            "grid_column": null,
            "overflow_y": null,
            "overflow_x": null,
            "grid_auto_flow": null,
            "grid_area": null,
            "grid_template_columns": null,
            "flex": null,
            "_model_name": "LayoutModel",
            "justify_items": null,
            "grid_row": null,
            "max_height": null,
            "align_content": null,
            "visibility": null,
            "align_self": null,
            "height": null,
            "min_height": null,
            "padding": null,
            "grid_auto_rows": null,
            "grid_gap": null,
            "max_width": null,
            "order": null,
            "_view_module_version": "1.2.0",
            "grid_template_areas": null,
            "object_position": null,
            "object_fit": null,
            "grid_auto_columns": null,
            "margin": null,
            "display": null,
            "left": null
          },
          "model_module_version": "1.2.0"
        },
        "e331cf86c64d4ba48317d3853910ba3a": {
          "model_module": "@jupyter-widgets/controls",
          "model_name": "FloatProgressModel",
          "state": {
            "_view_name": "ProgressView",
            "style": "IPY_MODEL_0b5d82282bb848e4b8ddcc40581afe0d",
            "_dom_classes": [],
            "description": "",
            "_model_name": "FloatProgressModel",
            "bar_style": "info",
            "max": 1,
            "_view_module": "@jupyter-widgets/controls",
            "_model_module_version": "1.5.0",
            "value": 1,
            "_view_count": null,
            "_view_module_version": "1.5.0",
            "orientation": "horizontal",
            "min": 0,
            "description_tooltip": null,
            "_model_module": "@jupyter-widgets/controls",
            "layout": "IPY_MODEL_a0afc744eb994bc5b768552ef8ca4da6"
          },
          "model_module_version": "1.5.0"
        },
        "92d0e596a3954b7b93f3d68f5b44b822": {
          "model_module": "@jupyter-widgets/controls",
          "model_name": "HTMLModel",
          "state": {
            "_view_name": "HTMLView",
            "style": "IPY_MODEL_d03abbb8b05f45b9976e90fb5553c517",
            "_dom_classes": [],
            "description": "",
            "_model_name": "HTMLModel",
            "placeholder": "​",
            "_view_module": "@jupyter-widgets/controls",
            "_model_module_version": "1.5.0",
            "value": " 139/0 [00:00&lt;00:00, 2658.67 examples/s]",
            "_view_count": null,
            "_view_module_version": "1.5.0",
            "description_tooltip": null,
            "_model_module": "@jupyter-widgets/controls",
            "layout": "IPY_MODEL_cd51820083d344d4893bf28791e46ed9"
          },
          "model_module_version": "1.5.0"
        },
        "0b5d82282bb848e4b8ddcc40581afe0d": {
          "model_module": "@jupyter-widgets/controls",
          "model_name": "ProgressStyleModel",
          "state": {
            "_view_name": "StyleView",
            "_model_name": "ProgressStyleModel",
            "description_width": "initial",
            "_view_module": "@jupyter-widgets/base",
            "_model_module_version": "1.5.0",
            "_view_count": null,
            "_view_module_version": "1.2.0",
            "bar_color": null,
            "_model_module": "@jupyter-widgets/controls"
          },
          "model_module_version": "1.5.0"
        },
        "a0afc744eb994bc5b768552ef8ca4da6": {
          "model_module": "@jupyter-widgets/base",
          "model_name": "LayoutModel",
          "state": {
            "_view_name": "LayoutView",
            "grid_template_rows": null,
            "right": null,
            "justify_content": null,
            "_view_module": "@jupyter-widgets/base",
            "overflow": null,
            "_model_module_version": "1.2.0",
            "_view_count": null,
            "flex_flow": null,
            "width": null,
            "min_width": null,
            "border": null,
            "align_items": null,
            "bottom": null,
            "_model_module": "@jupyter-widgets/base",
            "top": null,
            "grid_column": null,
            "overflow_y": null,
            "overflow_x": null,
            "grid_auto_flow": null,
            "grid_area": null,
            "grid_template_columns": null,
            "flex": null,
            "_model_name": "LayoutModel",
            "justify_items": null,
            "grid_row": null,
            "max_height": null,
            "align_content": null,
            "visibility": null,
            "align_self": null,
            "height": null,
            "min_height": null,
            "padding": null,
            "grid_auto_rows": null,
            "grid_gap": null,
            "max_width": null,
            "order": null,
            "_view_module_version": "1.2.0",
            "grid_template_areas": null,
            "object_position": null,
            "object_fit": null,
            "grid_auto_columns": null,
            "margin": null,
            "display": null,
            "left": null
          },
          "model_module_version": "1.2.0"
        },
        "d03abbb8b05f45b9976e90fb5553c517": {
          "model_module": "@jupyter-widgets/controls",
          "model_name": "DescriptionStyleModel",
          "state": {
            "_view_name": "StyleView",
            "_model_name": "DescriptionStyleModel",
            "description_width": "",
            "_view_module": "@jupyter-widgets/base",
            "_model_module_version": "1.5.0",
            "_view_count": null,
            "_view_module_version": "1.2.0",
            "_model_module": "@jupyter-widgets/controls"
          },
          "model_module_version": "1.5.0"
        },
        "cd51820083d344d4893bf28791e46ed9": {
          "model_module": "@jupyter-widgets/base",
          "model_name": "LayoutModel",
          "state": {
            "_view_name": "LayoutView",
            "grid_template_rows": null,
            "right": null,
            "justify_content": null,
            "_view_module": "@jupyter-widgets/base",
            "overflow": null,
            "_model_module_version": "1.2.0",
            "_view_count": null,
            "flex_flow": null,
            "width": null,
            "min_width": null,
            "border": null,
            "align_items": null,
            "bottom": null,
            "_model_module": "@jupyter-widgets/base",
            "top": null,
            "grid_column": null,
            "overflow_y": null,
            "overflow_x": null,
            "grid_auto_flow": null,
            "grid_area": null,
            "grid_template_columns": null,
            "flex": null,
            "_model_name": "LayoutModel",
            "justify_items": null,
            "grid_row": null,
            "max_height": null,
            "align_content": null,
            "visibility": null,
            "align_self": null,
            "height": null,
            "min_height": null,
            "padding": null,
            "grid_auto_rows": null,
            "grid_gap": null,
            "max_width": null,
            "order": null,
            "_view_module_version": "1.2.0",
            "grid_template_areas": null,
            "object_position": null,
            "object_fit": null,
            "grid_auto_columns": null,
            "margin": null,
            "display": null,
            "left": null
          },
          "model_module_version": "1.2.0"
        },
        "887300791c1044809ad911a8a8eaf798": {
          "model_module": "@jupyter-widgets/controls",
          "model_name": "HBoxModel",
          "state": {
            "_view_name": "HBoxView",
            "_dom_classes": [],
            "_model_name": "HBoxModel",
            "_view_module": "@jupyter-widgets/controls",
            "_model_module_version": "1.5.0",
            "_view_count": null,
            "_view_module_version": "1.5.0",
            "box_style": "",
            "layout": "IPY_MODEL_e64798b4b2994a50902fb21541d6c9ff",
            "_model_module": "@jupyter-widgets/controls",
            "children": [
              "IPY_MODEL_9ca1f41bf3694567a56a1893baf52fd1",
              "IPY_MODEL_f4db2a134b594234a10704be86af40ae"
            ]
          },
          "model_module_version": "1.5.0"
        },
        "e64798b4b2994a50902fb21541d6c9ff": {
          "model_module": "@jupyter-widgets/base",
          "model_name": "LayoutModel",
          "state": {
            "_view_name": "LayoutView",
            "grid_template_rows": null,
            "right": null,
            "justify_content": null,
            "_view_module": "@jupyter-widgets/base",
            "overflow": null,
            "_model_module_version": "1.2.0",
            "_view_count": null,
            "flex_flow": null,
            "width": null,
            "min_width": null,
            "border": null,
            "align_items": null,
            "bottom": null,
            "_model_module": "@jupyter-widgets/base",
            "top": null,
            "grid_column": null,
            "overflow_y": null,
            "overflow_x": null,
            "grid_auto_flow": null,
            "grid_area": null,
            "grid_template_columns": null,
            "flex": null,
            "_model_name": "LayoutModel",
            "justify_items": null,
            "grid_row": null,
            "max_height": null,
            "align_content": null,
            "visibility": null,
            "align_self": null,
            "height": null,
            "min_height": null,
            "padding": null,
            "grid_auto_rows": null,
            "grid_gap": null,
            "max_width": null,
            "order": null,
            "_view_module_version": "1.2.0",
            "grid_template_areas": null,
            "object_position": null,
            "object_fit": null,
            "grid_auto_columns": null,
            "margin": null,
            "display": null,
            "left": null
          },
          "model_module_version": "1.2.0"
        },
        "9ca1f41bf3694567a56a1893baf52fd1": {
          "model_module": "@jupyter-widgets/controls",
          "model_name": "FloatProgressModel",
          "state": {
            "_view_name": "ProgressView",
            "style": "IPY_MODEL_590f5cf8297a4d8187308f66c6263dcf",
            "_dom_classes": [],
            "description": "",
            "_model_name": "FloatProgressModel",
            "bar_style": "info",
            "max": 1,
            "_view_module": "@jupyter-widgets/controls",
            "_model_module_version": "1.5.0",
            "value": 1,
            "_view_count": null,
            "_view_module_version": "1.5.0",
            "orientation": "horizontal",
            "min": 0,
            "description_tooltip": null,
            "_model_module": "@jupyter-widgets/controls",
            "layout": "IPY_MODEL_d2e74145aae5413fa29acf09863353b8"
          },
          "model_module_version": "1.5.0"
        },
        "f4db2a134b594234a10704be86af40ae": {
          "model_module": "@jupyter-widgets/controls",
          "model_name": "HTMLModel",
          "state": {
            "_view_name": "HTMLView",
            "style": "IPY_MODEL_19fd5836df014d0f9fee4e2a5a345f0c",
            "_dom_classes": [],
            "description": "",
            "_model_name": "HTMLModel",
            "placeholder": "​",
            "_view_module": "@jupyter-widgets/controls",
            "_model_module_version": "1.5.0",
            "value": " 60/0 [00:00&lt;00:00, 1675.57 examples/s]",
            "_view_count": null,
            "_view_module_version": "1.5.0",
            "description_tooltip": null,
            "_model_module": "@jupyter-widgets/controls",
            "layout": "IPY_MODEL_c99a3c4b1e5f4bf9a6eacdfbfdc3388d"
          },
          "model_module_version": "1.5.0"
        },
        "590f5cf8297a4d8187308f66c6263dcf": {
          "model_module": "@jupyter-widgets/controls",
          "model_name": "ProgressStyleModel",
          "state": {
            "_view_name": "StyleView",
            "_model_name": "ProgressStyleModel",
            "description_width": "initial",
            "_view_module": "@jupyter-widgets/base",
            "_model_module_version": "1.5.0",
            "_view_count": null,
            "_view_module_version": "1.2.0",
            "bar_color": null,
            "_model_module": "@jupyter-widgets/controls"
          },
          "model_module_version": "1.5.0"
        },
        "d2e74145aae5413fa29acf09863353b8": {
          "model_module": "@jupyter-widgets/base",
          "model_name": "LayoutModel",
          "state": {
            "_view_name": "LayoutView",
            "grid_template_rows": null,
            "right": null,
            "justify_content": null,
            "_view_module": "@jupyter-widgets/base",
            "overflow": null,
            "_model_module_version": "1.2.0",
            "_view_count": null,
            "flex_flow": null,
            "width": null,
            "min_width": null,
            "border": null,
            "align_items": null,
            "bottom": null,
            "_model_module": "@jupyter-widgets/base",
            "top": null,
            "grid_column": null,
            "overflow_y": null,
            "overflow_x": null,
            "grid_auto_flow": null,
            "grid_area": null,
            "grid_template_columns": null,
            "flex": null,
            "_model_name": "LayoutModel",
            "justify_items": null,
            "grid_row": null,
            "max_height": null,
            "align_content": null,
            "visibility": null,
            "align_self": null,
            "height": null,
            "min_height": null,
            "padding": null,
            "grid_auto_rows": null,
            "grid_gap": null,
            "max_width": null,
            "order": null,
            "_view_module_version": "1.2.0",
            "grid_template_areas": null,
            "object_position": null,
            "object_fit": null,
            "grid_auto_columns": null,
            "margin": null,
            "display": null,
            "left": null
          },
          "model_module_version": "1.2.0"
        },
        "19fd5836df014d0f9fee4e2a5a345f0c": {
          "model_module": "@jupyter-widgets/controls",
          "model_name": "DescriptionStyleModel",
          "state": {
            "_view_name": "StyleView",
            "_model_name": "DescriptionStyleModel",
            "description_width": "",
            "_view_module": "@jupyter-widgets/base",
            "_model_module_version": "1.5.0",
            "_view_count": null,
            "_view_module_version": "1.2.0",
            "_model_module": "@jupyter-widgets/controls"
          },
          "model_module_version": "1.5.0"
        },
        "c99a3c4b1e5f4bf9a6eacdfbfdc3388d": {
          "model_module": "@jupyter-widgets/base",
          "model_name": "LayoutModel",
          "state": {
            "_view_name": "LayoutView",
            "grid_template_rows": null,
            "right": null,
            "justify_content": null,
            "_view_module": "@jupyter-widgets/base",
            "overflow": null,
            "_model_module_version": "1.2.0",
            "_view_count": null,
            "flex_flow": null,
            "width": null,
            "min_width": null,
            "border": null,
            "align_items": null,
            "bottom": null,
            "_model_module": "@jupyter-widgets/base",
            "top": null,
            "grid_column": null,
            "overflow_y": null,
            "overflow_x": null,
            "grid_auto_flow": null,
            "grid_area": null,
            "grid_template_columns": null,
            "flex": null,
            "_model_name": "LayoutModel",
            "justify_items": null,
            "grid_row": null,
            "max_height": null,
            "align_content": null,
            "visibility": null,
            "align_self": null,
            "height": null,
            "min_height": null,
            "padding": null,
            "grid_auto_rows": null,
            "grid_gap": null,
            "max_width": null,
            "order": null,
            "_view_module_version": "1.2.0",
            "grid_template_areas": null,
            "object_position": null,
            "object_fit": null,
            "grid_auto_columns": null,
            "margin": null,
            "display": null,
            "left": null
          },
          "model_module_version": "1.2.0"
        },
        "52435e0996fc4e5ca29c71027e2ed6cd": {
          "model_module": "@jupyter-widgets/controls",
          "model_name": "HBoxModel",
          "state": {
            "_view_name": "HBoxView",
            "_dom_classes": [],
            "_model_name": "HBoxModel",
            "_view_module": "@jupyter-widgets/controls",
            "_model_module_version": "1.5.0",
            "_view_count": null,
            "_view_module_version": "1.5.0",
            "box_style": "",
            "layout": "IPY_MODEL_4d2b7d5443104091a47c7862263c0bbb",
            "_model_module": "@jupyter-widgets/controls",
            "children": [
              "IPY_MODEL_4a847d2465ee4ae7b7b2af5413cd90b0",
              "IPY_MODEL_b3ce6af216f9499393b0eaf3515da89e"
            ]
          },
          "model_module_version": "1.5.0"
        },
        "4d2b7d5443104091a47c7862263c0bbb": {
          "model_module": "@jupyter-widgets/base",
          "model_name": "LayoutModel",
          "state": {
            "_view_name": "LayoutView",
            "grid_template_rows": null,
            "right": null,
            "justify_content": null,
            "_view_module": "@jupyter-widgets/base",
            "overflow": null,
            "_model_module_version": "1.2.0",
            "_view_count": null,
            "flex_flow": null,
            "width": null,
            "min_width": null,
            "border": null,
            "align_items": null,
            "bottom": null,
            "_model_module": "@jupyter-widgets/base",
            "top": null,
            "grid_column": null,
            "overflow_y": null,
            "overflow_x": null,
            "grid_auto_flow": null,
            "grid_area": null,
            "grid_template_columns": null,
            "flex": null,
            "_model_name": "LayoutModel",
            "justify_items": null,
            "grid_row": null,
            "max_height": null,
            "align_content": null,
            "visibility": null,
            "align_self": null,
            "height": null,
            "min_height": null,
            "padding": null,
            "grid_auto_rows": null,
            "grid_gap": null,
            "max_width": null,
            "order": null,
            "_view_module_version": "1.2.0",
            "grid_template_areas": null,
            "object_position": null,
            "object_fit": null,
            "grid_auto_columns": null,
            "margin": null,
            "display": null,
            "left": null
          },
          "model_module_version": "1.2.0"
        },
        "4a847d2465ee4ae7b7b2af5413cd90b0": {
          "model_module": "@jupyter-widgets/controls",
          "model_name": "FloatProgressModel",
          "state": {
            "_view_name": "ProgressView",
            "style": "IPY_MODEL_4cca9ec81bce47c1862d8c11d4557025",
            "_dom_classes": [],
            "description": "100%",
            "_model_name": "FloatProgressModel",
            "bar_style": "success",
            "max": 292,
            "_view_module": "@jupyter-widgets/controls",
            "_model_module_version": "1.5.0",
            "value": 292,
            "_view_count": null,
            "_view_module_version": "1.5.0",
            "orientation": "horizontal",
            "min": 0,
            "description_tooltip": null,
            "_model_module": "@jupyter-widgets/controls",
            "layout": "IPY_MODEL_261cc65411354cf886ed629f3c29e72d"
          },
          "model_module_version": "1.5.0"
        },
        "b3ce6af216f9499393b0eaf3515da89e": {
          "model_module": "@jupyter-widgets/controls",
          "model_name": "HTMLModel",
          "state": {
            "_view_name": "HTMLView",
            "style": "IPY_MODEL_213cb8ec6107416c9afb9f0c073ac498",
            "_dom_classes": [],
            "description": "",
            "_model_name": "HTMLModel",
            "placeholder": "​",
            "_view_module": "@jupyter-widgets/controls",
            "_model_module_version": "1.5.0",
            "value": " 292/292 [01:29&lt;00:00,  3.25ex/s]",
            "_view_count": null,
            "_view_module_version": "1.5.0",
            "description_tooltip": null,
            "_model_module": "@jupyter-widgets/controls",
            "layout": "IPY_MODEL_be211e9245344b73b629e3c53b0f7aab"
          },
          "model_module_version": "1.5.0"
        },
        "4cca9ec81bce47c1862d8c11d4557025": {
          "model_module": "@jupyter-widgets/controls",
          "model_name": "ProgressStyleModel",
          "state": {
            "_view_name": "StyleView",
            "_model_name": "ProgressStyleModel",
            "description_width": "initial",
            "_view_module": "@jupyter-widgets/base",
            "_model_module_version": "1.5.0",
            "_view_count": null,
            "_view_module_version": "1.2.0",
            "bar_color": null,
            "_model_module": "@jupyter-widgets/controls"
          },
          "model_module_version": "1.5.0"
        },
        "261cc65411354cf886ed629f3c29e72d": {
          "model_module": "@jupyter-widgets/base",
          "model_name": "LayoutModel",
          "state": {
            "_view_name": "LayoutView",
            "grid_template_rows": null,
            "right": null,
            "justify_content": null,
            "_view_module": "@jupyter-widgets/base",
            "overflow": null,
            "_model_module_version": "1.2.0",
            "_view_count": null,
            "flex_flow": null,
            "width": null,
            "min_width": null,
            "border": null,
            "align_items": null,
            "bottom": null,
            "_model_module": "@jupyter-widgets/base",
            "top": null,
            "grid_column": null,
            "overflow_y": null,
            "overflow_x": null,
            "grid_auto_flow": null,
            "grid_area": null,
            "grid_template_columns": null,
            "flex": null,
            "_model_name": "LayoutModel",
            "justify_items": null,
            "grid_row": null,
            "max_height": null,
            "align_content": null,
            "visibility": null,
            "align_self": null,
            "height": null,
            "min_height": null,
            "padding": null,
            "grid_auto_rows": null,
            "grid_gap": null,
            "max_width": null,
            "order": null,
            "_view_module_version": "1.2.0",
            "grid_template_areas": null,
            "object_position": null,
            "object_fit": null,
            "grid_auto_columns": null,
            "margin": null,
            "display": null,
            "left": null
          },
          "model_module_version": "1.2.0"
        },
        "213cb8ec6107416c9afb9f0c073ac498": {
          "model_module": "@jupyter-widgets/controls",
          "model_name": "DescriptionStyleModel",
          "state": {
            "_view_name": "StyleView",
            "_model_name": "DescriptionStyleModel",
            "description_width": "",
            "_view_module": "@jupyter-widgets/base",
            "_model_module_version": "1.5.0",
            "_view_count": null,
            "_view_module_version": "1.2.0",
            "_model_module": "@jupyter-widgets/controls"
          },
          "model_module_version": "1.5.0"
        },
        "be211e9245344b73b629e3c53b0f7aab": {
          "model_module": "@jupyter-widgets/base",
          "model_name": "LayoutModel",
          "state": {
            "_view_name": "LayoutView",
            "grid_template_rows": null,
            "right": null,
            "justify_content": null,
            "_view_module": "@jupyter-widgets/base",
            "overflow": null,
            "_model_module_version": "1.2.0",
            "_view_count": null,
            "flex_flow": null,
            "width": null,
            "min_width": null,
            "border": null,
            "align_items": null,
            "bottom": null,
            "_model_module": "@jupyter-widgets/base",
            "top": null,
            "grid_column": null,
            "overflow_y": null,
            "overflow_x": null,
            "grid_auto_flow": null,
            "grid_area": null,
            "grid_template_columns": null,
            "flex": null,
            "_model_name": "LayoutModel",
            "justify_items": null,
            "grid_row": null,
            "max_height": null,
            "align_content": null,
            "visibility": null,
            "align_self": null,
            "height": null,
            "min_height": null,
            "padding": null,
            "grid_auto_rows": null,
            "grid_gap": null,
            "max_width": null,
            "order": null,
            "_view_module_version": "1.2.0",
            "grid_template_areas": null,
            "object_position": null,
            "object_fit": null,
            "grid_auto_columns": null,
            "margin": null,
            "display": null,
            "left": null
          },
          "model_module_version": "1.2.0"
        },
        "c64c68238b26409390447466a4c7e8fe": {
          "model_module": "@jupyter-widgets/controls",
          "model_name": "HBoxModel",
          "state": {
            "_view_name": "HBoxView",
            "_dom_classes": [],
            "_model_name": "HBoxModel",
            "_view_module": "@jupyter-widgets/controls",
            "_model_module_version": "1.5.0",
            "_view_count": null,
            "_view_module_version": "1.5.0",
            "box_style": "",
            "layout": "IPY_MODEL_90f7b1d3017545a0bc473289771ab2a2",
            "_model_module": "@jupyter-widgets/controls",
            "children": [
              "IPY_MODEL_05274612ccb34d72a19ea5caff4530b3",
              "IPY_MODEL_f6c730f8da894834a0a5422db53a2a55"
            ]
          },
          "model_module_version": "1.5.0"
        },
        "90f7b1d3017545a0bc473289771ab2a2": {
          "model_module": "@jupyter-widgets/base",
          "model_name": "LayoutModel",
          "state": {
            "_view_name": "LayoutView",
            "grid_template_rows": null,
            "right": null,
            "justify_content": null,
            "_view_module": "@jupyter-widgets/base",
            "overflow": null,
            "_model_module_version": "1.2.0",
            "_view_count": null,
            "flex_flow": null,
            "width": null,
            "min_width": null,
            "border": null,
            "align_items": null,
            "bottom": null,
            "_model_module": "@jupyter-widgets/base",
            "top": null,
            "grid_column": null,
            "overflow_y": null,
            "overflow_x": null,
            "grid_auto_flow": null,
            "grid_area": null,
            "grid_template_columns": null,
            "flex": null,
            "_model_name": "LayoutModel",
            "justify_items": null,
            "grid_row": null,
            "max_height": null,
            "align_content": null,
            "visibility": null,
            "align_self": null,
            "height": null,
            "min_height": null,
            "padding": null,
            "grid_auto_rows": null,
            "grid_gap": null,
            "max_width": null,
            "order": null,
            "_view_module_version": "1.2.0",
            "grid_template_areas": null,
            "object_position": null,
            "object_fit": null,
            "grid_auto_columns": null,
            "margin": null,
            "display": null,
            "left": null
          },
          "model_module_version": "1.2.0"
        },
        "05274612ccb34d72a19ea5caff4530b3": {
          "model_module": "@jupyter-widgets/controls",
          "model_name": "FloatProgressModel",
          "state": {
            "_view_name": "ProgressView",
            "style": "IPY_MODEL_ed53c16637c145419ebafc71a01167cf",
            "_dom_classes": [],
            "description": "100%",
            "_model_name": "FloatProgressModel",
            "bar_style": "success",
            "max": 127,
            "_view_module": "@jupyter-widgets/controls",
            "_model_module_version": "1.5.0",
            "value": 127,
            "_view_count": null,
            "_view_module_version": "1.5.0",
            "orientation": "horizontal",
            "min": 0,
            "description_tooltip": null,
            "_model_module": "@jupyter-widgets/controls",
            "layout": "IPY_MODEL_d9dd561194cc44ac9b0d46546ec5e8b9"
          },
          "model_module_version": "1.5.0"
        },
        "f6c730f8da894834a0a5422db53a2a55": {
          "model_module": "@jupyter-widgets/controls",
          "model_name": "HTMLModel",
          "state": {
            "_view_name": "HTMLView",
            "style": "IPY_MODEL_afda1f07721f4ee0b3b72e2fac1c9aeb",
            "_dom_classes": [],
            "description": "",
            "_model_name": "HTMLModel",
            "placeholder": "​",
            "_view_module": "@jupyter-widgets/controls",
            "_model_module_version": "1.5.0",
            "value": " 127/127 [00:31&lt;00:00,  4.07ex/s]",
            "_view_count": null,
            "_view_module_version": "1.5.0",
            "description_tooltip": null,
            "_model_module": "@jupyter-widgets/controls",
            "layout": "IPY_MODEL_a85ba5dde0b24d3184302e4c91116211"
          },
          "model_module_version": "1.5.0"
        },
        "ed53c16637c145419ebafc71a01167cf": {
          "model_module": "@jupyter-widgets/controls",
          "model_name": "ProgressStyleModel",
          "state": {
            "_view_name": "StyleView",
            "_model_name": "ProgressStyleModel",
            "description_width": "initial",
            "_view_module": "@jupyter-widgets/base",
            "_model_module_version": "1.5.0",
            "_view_count": null,
            "_view_module_version": "1.2.0",
            "bar_color": null,
            "_model_module": "@jupyter-widgets/controls"
          },
          "model_module_version": "1.5.0"
        },
        "d9dd561194cc44ac9b0d46546ec5e8b9": {
          "model_module": "@jupyter-widgets/base",
          "model_name": "LayoutModel",
          "state": {
            "_view_name": "LayoutView",
            "grid_template_rows": null,
            "right": null,
            "justify_content": null,
            "_view_module": "@jupyter-widgets/base",
            "overflow": null,
            "_model_module_version": "1.2.0",
            "_view_count": null,
            "flex_flow": null,
            "width": null,
            "min_width": null,
            "border": null,
            "align_items": null,
            "bottom": null,
            "_model_module": "@jupyter-widgets/base",
            "top": null,
            "grid_column": null,
            "overflow_y": null,
            "overflow_x": null,
            "grid_auto_flow": null,
            "grid_area": null,
            "grid_template_columns": null,
            "flex": null,
            "_model_name": "LayoutModel",
            "justify_items": null,
            "grid_row": null,
            "max_height": null,
            "align_content": null,
            "visibility": null,
            "align_self": null,
            "height": null,
            "min_height": null,
            "padding": null,
            "grid_auto_rows": null,
            "grid_gap": null,
            "max_width": null,
            "order": null,
            "_view_module_version": "1.2.0",
            "grid_template_areas": null,
            "object_position": null,
            "object_fit": null,
            "grid_auto_columns": null,
            "margin": null,
            "display": null,
            "left": null
          },
          "model_module_version": "1.2.0"
        },
        "afda1f07721f4ee0b3b72e2fac1c9aeb": {
          "model_module": "@jupyter-widgets/controls",
          "model_name": "DescriptionStyleModel",
          "state": {
            "_view_name": "StyleView",
            "_model_name": "DescriptionStyleModel",
            "description_width": "",
            "_view_module": "@jupyter-widgets/base",
            "_model_module_version": "1.5.0",
            "_view_count": null,
            "_view_module_version": "1.2.0",
            "_model_module": "@jupyter-widgets/controls"
          },
          "model_module_version": "1.5.0"
        },
        "a85ba5dde0b24d3184302e4c91116211": {
          "model_module": "@jupyter-widgets/base",
          "model_name": "LayoutModel",
          "state": {
            "_view_name": "LayoutView",
            "grid_template_rows": null,
            "right": null,
            "justify_content": null,
            "_view_module": "@jupyter-widgets/base",
            "overflow": null,
            "_model_module_version": "1.2.0",
            "_view_count": null,
            "flex_flow": null,
            "width": null,
            "min_width": null,
            "border": null,
            "align_items": null,
            "bottom": null,
            "_model_module": "@jupyter-widgets/base",
            "top": null,
            "grid_column": null,
            "overflow_y": null,
            "overflow_x": null,
            "grid_auto_flow": null,
            "grid_area": null,
            "grid_template_columns": null,
            "flex": null,
            "_model_name": "LayoutModel",
            "justify_items": null,
            "grid_row": null,
            "max_height": null,
            "align_content": null,
            "visibility": null,
            "align_self": null,
            "height": null,
            "min_height": null,
            "padding": null,
            "grid_auto_rows": null,
            "grid_gap": null,
            "max_width": null,
            "order": null,
            "_view_module_version": "1.2.0",
            "grid_template_areas": null,
            "object_position": null,
            "object_fit": null,
            "grid_auto_columns": null,
            "margin": null,
            "display": null,
            "left": null
          },
          "model_module_version": "1.2.0"
        },
        "7f254036fa5f456699e1fadd1aa7f405": {
          "model_module": "@jupyter-widgets/controls",
          "model_name": "HBoxModel",
          "state": {
            "_view_name": "HBoxView",
            "_dom_classes": [],
            "_model_name": "HBoxModel",
            "_view_module": "@jupyter-widgets/controls",
            "_model_module_version": "1.5.0",
            "_view_count": null,
            "_view_module_version": "1.5.0",
            "box_style": "",
            "layout": "IPY_MODEL_718c51dcca4c47458512795fc27180a2",
            "_model_module": "@jupyter-widgets/controls",
            "children": [
              "IPY_MODEL_d47463e3b6524196a19be4d397953022",
              "IPY_MODEL_62409a04479645d789cca52499335627"
            ]
          },
          "model_module_version": "1.5.0"
        },
        "718c51dcca4c47458512795fc27180a2": {
          "model_module": "@jupyter-widgets/base",
          "model_name": "LayoutModel",
          "state": {
            "_view_name": "LayoutView",
            "grid_template_rows": null,
            "right": null,
            "justify_content": null,
            "_view_module": "@jupyter-widgets/base",
            "overflow": null,
            "_model_module_version": "1.2.0",
            "_view_count": null,
            "flex_flow": null,
            "width": null,
            "min_width": null,
            "border": null,
            "align_items": null,
            "bottom": null,
            "_model_module": "@jupyter-widgets/base",
            "top": null,
            "grid_column": null,
            "overflow_y": null,
            "overflow_x": null,
            "grid_auto_flow": null,
            "grid_area": null,
            "grid_template_columns": null,
            "flex": null,
            "_model_name": "LayoutModel",
            "justify_items": null,
            "grid_row": null,
            "max_height": null,
            "align_content": null,
            "visibility": null,
            "align_self": null,
            "height": null,
            "min_height": null,
            "padding": null,
            "grid_auto_rows": null,
            "grid_gap": null,
            "max_width": null,
            "order": null,
            "_view_module_version": "1.2.0",
            "grid_template_areas": null,
            "object_position": null,
            "object_fit": null,
            "grid_auto_columns": null,
            "margin": null,
            "display": null,
            "left": null
          },
          "model_module_version": "1.2.0"
        },
        "d47463e3b6524196a19be4d397953022": {
          "model_module": "@jupyter-widgets/controls",
          "model_name": "FloatProgressModel",
          "state": {
            "_view_name": "ProgressView",
            "style": "IPY_MODEL_fdc3da9378324704a6e753fc4556137b",
            "_dom_classes": [],
            "description": "100%",
            "_model_name": "FloatProgressModel",
            "bar_style": "success",
            "max": 1,
            "_view_module": "@jupyter-widgets/controls",
            "_model_module_version": "1.5.0",
            "value": 1,
            "_view_count": null,
            "_view_module_version": "1.5.0",
            "orientation": "horizontal",
            "min": 0,
            "description_tooltip": null,
            "_model_module": "@jupyter-widgets/controls",
            "layout": "IPY_MODEL_5fa2f2271d4343f59a930f62f3b2b8bc"
          },
          "model_module_version": "1.5.0"
        },
        "62409a04479645d789cca52499335627": {
          "model_module": "@jupyter-widgets/controls",
          "model_name": "HTMLModel",
          "state": {
            "_view_name": "HTMLView",
            "style": "IPY_MODEL_08e97126c8f64b82b7fec0b92f0d3f3c",
            "_dom_classes": [],
            "description": "",
            "_model_name": "HTMLModel",
            "placeholder": "​",
            "_view_module": "@jupyter-widgets/controls",
            "_model_module_version": "1.5.0",
            "value": " 1/1 [00:58&lt;00:00, 58.54s/ba]",
            "_view_count": null,
            "_view_module_version": "1.5.0",
            "description_tooltip": null,
            "_model_module": "@jupyter-widgets/controls",
            "layout": "IPY_MODEL_e959587fb82841b6965fb5845d2420a9"
          },
          "model_module_version": "1.5.0"
        },
        "fdc3da9378324704a6e753fc4556137b": {
          "model_module": "@jupyter-widgets/controls",
          "model_name": "ProgressStyleModel",
          "state": {
            "_view_name": "StyleView",
            "_model_name": "ProgressStyleModel",
            "description_width": "initial",
            "_view_module": "@jupyter-widgets/base",
            "_model_module_version": "1.5.0",
            "_view_count": null,
            "_view_module_version": "1.2.0",
            "bar_color": null,
            "_model_module": "@jupyter-widgets/controls"
          },
          "model_module_version": "1.5.0"
        },
        "5fa2f2271d4343f59a930f62f3b2b8bc": {
          "model_module": "@jupyter-widgets/base",
          "model_name": "LayoutModel",
          "state": {
            "_view_name": "LayoutView",
            "grid_template_rows": null,
            "right": null,
            "justify_content": null,
            "_view_module": "@jupyter-widgets/base",
            "overflow": null,
            "_model_module_version": "1.2.0",
            "_view_count": null,
            "flex_flow": null,
            "width": null,
            "min_width": null,
            "border": null,
            "align_items": null,
            "bottom": null,
            "_model_module": "@jupyter-widgets/base",
            "top": null,
            "grid_column": null,
            "overflow_y": null,
            "overflow_x": null,
            "grid_auto_flow": null,
            "grid_area": null,
            "grid_template_columns": null,
            "flex": null,
            "_model_name": "LayoutModel",
            "justify_items": null,
            "grid_row": null,
            "max_height": null,
            "align_content": null,
            "visibility": null,
            "align_self": null,
            "height": null,
            "min_height": null,
            "padding": null,
            "grid_auto_rows": null,
            "grid_gap": null,
            "max_width": null,
            "order": null,
            "_view_module_version": "1.2.0",
            "grid_template_areas": null,
            "object_position": null,
            "object_fit": null,
            "grid_auto_columns": null,
            "margin": null,
            "display": null,
            "left": null
          },
          "model_module_version": "1.2.0"
        },
        "08e97126c8f64b82b7fec0b92f0d3f3c": {
          "model_module": "@jupyter-widgets/controls",
          "model_name": "DescriptionStyleModel",
          "state": {
            "_view_name": "StyleView",
            "_model_name": "DescriptionStyleModel",
            "description_width": "",
            "_view_module": "@jupyter-widgets/base",
            "_model_module_version": "1.5.0",
            "_view_count": null,
            "_view_module_version": "1.2.0",
            "_model_module": "@jupyter-widgets/controls"
          },
          "model_module_version": "1.5.0"
        },
        "e959587fb82841b6965fb5845d2420a9": {
          "model_module": "@jupyter-widgets/base",
          "model_name": "LayoutModel",
          "state": {
            "_view_name": "LayoutView",
            "grid_template_rows": null,
            "right": null,
            "justify_content": null,
            "_view_module": "@jupyter-widgets/base",
            "overflow": null,
            "_model_module_version": "1.2.0",
            "_view_count": null,
            "flex_flow": null,
            "width": null,
            "min_width": null,
            "border": null,
            "align_items": null,
            "bottom": null,
            "_model_module": "@jupyter-widgets/base",
            "top": null,
            "grid_column": null,
            "overflow_y": null,
            "overflow_x": null,
            "grid_auto_flow": null,
            "grid_area": null,
            "grid_template_columns": null,
            "flex": null,
            "_model_name": "LayoutModel",
            "justify_items": null,
            "grid_row": null,
            "max_height": null,
            "align_content": null,
            "visibility": null,
            "align_self": null,
            "height": null,
            "min_height": null,
            "padding": null,
            "grid_auto_rows": null,
            "grid_gap": null,
            "max_width": null,
            "order": null,
            "_view_module_version": "1.2.0",
            "grid_template_areas": null,
            "object_position": null,
            "object_fit": null,
            "grid_auto_columns": null,
            "margin": null,
            "display": null,
            "left": null
          },
          "model_module_version": "1.2.0"
        },
        "0e236ef0ad334006bd223b095acd0f62": {
          "model_module": "@jupyter-widgets/controls",
          "model_name": "HBoxModel",
          "state": {
            "_view_name": "HBoxView",
            "_dom_classes": [],
            "_model_name": "HBoxModel",
            "_view_module": "@jupyter-widgets/controls",
            "_model_module_version": "1.5.0",
            "_view_count": null,
            "_view_module_version": "1.5.0",
            "box_style": "",
            "layout": "IPY_MODEL_a20b9306c0ed4069ad21e7f677c8be0d",
            "_model_module": "@jupyter-widgets/controls",
            "children": [
              "IPY_MODEL_e6df0844d06042ee833cdf259832e061",
              "IPY_MODEL_7b3f19438f8246d5b7fd818464337d5f"
            ]
          },
          "model_module_version": "1.5.0"
        },
        "a20b9306c0ed4069ad21e7f677c8be0d": {
          "model_module": "@jupyter-widgets/base",
          "model_name": "LayoutModel",
          "state": {
            "_view_name": "LayoutView",
            "grid_template_rows": null,
            "right": null,
            "justify_content": null,
            "_view_module": "@jupyter-widgets/base",
            "overflow": null,
            "_model_module_version": "1.2.0",
            "_view_count": null,
            "flex_flow": null,
            "width": null,
            "min_width": null,
            "border": null,
            "align_items": null,
            "bottom": null,
            "_model_module": "@jupyter-widgets/base",
            "top": null,
            "grid_column": null,
            "overflow_y": null,
            "overflow_x": null,
            "grid_auto_flow": null,
            "grid_area": null,
            "grid_template_columns": null,
            "flex": null,
            "_model_name": "LayoutModel",
            "justify_items": null,
            "grid_row": null,
            "max_height": null,
            "align_content": null,
            "visibility": null,
            "align_self": null,
            "height": null,
            "min_height": null,
            "padding": null,
            "grid_auto_rows": null,
            "grid_gap": null,
            "max_width": null,
            "order": null,
            "_view_module_version": "1.2.0",
            "grid_template_areas": null,
            "object_position": null,
            "object_fit": null,
            "grid_auto_columns": null,
            "margin": null,
            "display": null,
            "left": null
          },
          "model_module_version": "1.2.0"
        },
        "e6df0844d06042ee833cdf259832e061": {
          "model_module": "@jupyter-widgets/controls",
          "model_name": "FloatProgressModel",
          "state": {
            "_view_name": "ProgressView",
            "style": "IPY_MODEL_55514a8af075420da354b4c4e6357de4",
            "_dom_classes": [],
            "description": "100%",
            "_model_name": "FloatProgressModel",
            "bar_style": "success",
            "max": 1,
            "_view_module": "@jupyter-widgets/controls",
            "_model_module_version": "1.5.0",
            "value": 1,
            "_view_count": null,
            "_view_module_version": "1.5.0",
            "orientation": "horizontal",
            "min": 0,
            "description_tooltip": null,
            "_model_module": "@jupyter-widgets/controls",
            "layout": "IPY_MODEL_5ae6f736b4df4affb9c248fd7359a229"
          },
          "model_module_version": "1.5.0"
        },
        "7b3f19438f8246d5b7fd818464337d5f": {
          "model_module": "@jupyter-widgets/controls",
          "model_name": "HTMLModel",
          "state": {
            "_view_name": "HTMLView",
            "style": "IPY_MODEL_589db807027c44bd9c42e63d8cf544d2",
            "_dom_classes": [],
            "description": "",
            "_model_name": "HTMLModel",
            "placeholder": "​",
            "_view_module": "@jupyter-widgets/controls",
            "_model_module_version": "1.5.0",
            "value": " 1/1 [00:48&lt;00:00, 48.72s/ba]",
            "_view_count": null,
            "_view_module_version": "1.5.0",
            "description_tooltip": null,
            "_model_module": "@jupyter-widgets/controls",
            "layout": "IPY_MODEL_4836d28f5b864ed498b257eae1492aea"
          },
          "model_module_version": "1.5.0"
        },
        "55514a8af075420da354b4c4e6357de4": {
          "model_module": "@jupyter-widgets/controls",
          "model_name": "ProgressStyleModel",
          "state": {
            "_view_name": "StyleView",
            "_model_name": "ProgressStyleModel",
            "description_width": "initial",
            "_view_module": "@jupyter-widgets/base",
            "_model_module_version": "1.5.0",
            "_view_count": null,
            "_view_module_version": "1.2.0",
            "bar_color": null,
            "_model_module": "@jupyter-widgets/controls"
          },
          "model_module_version": "1.5.0"
        },
        "5ae6f736b4df4affb9c248fd7359a229": {
          "model_module": "@jupyter-widgets/base",
          "model_name": "LayoutModel",
          "state": {
            "_view_name": "LayoutView",
            "grid_template_rows": null,
            "right": null,
            "justify_content": null,
            "_view_module": "@jupyter-widgets/base",
            "overflow": null,
            "_model_module_version": "1.2.0",
            "_view_count": null,
            "flex_flow": null,
            "width": null,
            "min_width": null,
            "border": null,
            "align_items": null,
            "bottom": null,
            "_model_module": "@jupyter-widgets/base",
            "top": null,
            "grid_column": null,
            "overflow_y": null,
            "overflow_x": null,
            "grid_auto_flow": null,
            "grid_area": null,
            "grid_template_columns": null,
            "flex": null,
            "_model_name": "LayoutModel",
            "justify_items": null,
            "grid_row": null,
            "max_height": null,
            "align_content": null,
            "visibility": null,
            "align_self": null,
            "height": null,
            "min_height": null,
            "padding": null,
            "grid_auto_rows": null,
            "grid_gap": null,
            "max_width": null,
            "order": null,
            "_view_module_version": "1.2.0",
            "grid_template_areas": null,
            "object_position": null,
            "object_fit": null,
            "grid_auto_columns": null,
            "margin": null,
            "display": null,
            "left": null
          },
          "model_module_version": "1.2.0"
        },
        "589db807027c44bd9c42e63d8cf544d2": {
          "model_module": "@jupyter-widgets/controls",
          "model_name": "DescriptionStyleModel",
          "state": {
            "_view_name": "StyleView",
            "_model_name": "DescriptionStyleModel",
            "description_width": "",
            "_view_module": "@jupyter-widgets/base",
            "_model_module_version": "1.5.0",
            "_view_count": null,
            "_view_module_version": "1.2.0",
            "_model_module": "@jupyter-widgets/controls"
          },
          "model_module_version": "1.5.0"
        },
        "4836d28f5b864ed498b257eae1492aea": {
          "model_module": "@jupyter-widgets/base",
          "model_name": "LayoutModel",
          "state": {
            "_view_name": "LayoutView",
            "grid_template_rows": null,
            "right": null,
            "justify_content": null,
            "_view_module": "@jupyter-widgets/base",
            "overflow": null,
            "_model_module_version": "1.2.0",
            "_view_count": null,
            "flex_flow": null,
            "width": null,
            "min_width": null,
            "border": null,
            "align_items": null,
            "bottom": null,
            "_model_module": "@jupyter-widgets/base",
            "top": null,
            "grid_column": null,
            "overflow_y": null,
            "overflow_x": null,
            "grid_auto_flow": null,
            "grid_area": null,
            "grid_template_columns": null,
            "flex": null,
            "_model_name": "LayoutModel",
            "justify_items": null,
            "grid_row": null,
            "max_height": null,
            "align_content": null,
            "visibility": null,
            "align_self": null,
            "height": null,
            "min_height": null,
            "padding": null,
            "grid_auto_rows": null,
            "grid_gap": null,
            "max_width": null,
            "order": null,
            "_view_module_version": "1.2.0",
            "grid_template_areas": null,
            "object_position": null,
            "object_fit": null,
            "grid_auto_columns": null,
            "margin": null,
            "display": null,
            "left": null
          },
          "model_module_version": "1.2.0"
        },
        "081296f8ca46498681c16ba835059888": {
          "model_module": "@jupyter-widgets/controls",
          "model_name": "HBoxModel",
          "state": {
            "_view_name": "HBoxView",
            "_dom_classes": [],
            "_model_name": "HBoxModel",
            "_view_module": "@jupyter-widgets/controls",
            "_model_module_version": "1.5.0",
            "_view_count": null,
            "_view_module_version": "1.5.0",
            "box_style": "",
            "layout": "IPY_MODEL_48f63d26f8c247d4915908ad5f33244e",
            "_model_module": "@jupyter-widgets/controls",
            "children": [
              "IPY_MODEL_26befe5e905b46ba9cbf2611e3812c07",
              "IPY_MODEL_3cc18948bee047148b2dd77aed045fa4"
            ]
          },
          "model_module_version": "1.5.0"
        },
        "48f63d26f8c247d4915908ad5f33244e": {
          "model_module": "@jupyter-widgets/base",
          "model_name": "LayoutModel",
          "state": {
            "_view_name": "LayoutView",
            "grid_template_rows": null,
            "right": null,
            "justify_content": null,
            "_view_module": "@jupyter-widgets/base",
            "overflow": null,
            "_model_module_version": "1.2.0",
            "_view_count": null,
            "flex_flow": null,
            "width": null,
            "min_width": null,
            "border": null,
            "align_items": null,
            "bottom": null,
            "_model_module": "@jupyter-widgets/base",
            "top": null,
            "grid_column": null,
            "overflow_y": null,
            "overflow_x": null,
            "grid_auto_flow": null,
            "grid_area": null,
            "grid_template_columns": null,
            "flex": null,
            "_model_name": "LayoutModel",
            "justify_items": null,
            "grid_row": null,
            "max_height": null,
            "align_content": null,
            "visibility": null,
            "align_self": null,
            "height": null,
            "min_height": null,
            "padding": null,
            "grid_auto_rows": null,
            "grid_gap": null,
            "max_width": null,
            "order": null,
            "_view_module_version": "1.2.0",
            "grid_template_areas": null,
            "object_position": null,
            "object_fit": null,
            "grid_auto_columns": null,
            "margin": null,
            "display": null,
            "left": null
          },
          "model_module_version": "1.2.0"
        },
        "26befe5e905b46ba9cbf2611e3812c07": {
          "model_module": "@jupyter-widgets/controls",
          "model_name": "FloatProgressModel",
          "state": {
            "_view_name": "ProgressView",
            "style": "IPY_MODEL_38101286d9074bbba278cf5d4f0ddf4a",
            "_dom_classes": [],
            "description": "100%",
            "_model_name": "FloatProgressModel",
            "bar_style": "success",
            "max": 292,
            "_view_module": "@jupyter-widgets/controls",
            "_model_module_version": "1.5.0",
            "value": 292,
            "_view_count": null,
            "_view_module_version": "1.5.0",
            "orientation": "horizontal",
            "min": 0,
            "description_tooltip": null,
            "_model_module": "@jupyter-widgets/controls",
            "layout": "IPY_MODEL_7fb49834de1a4514b1f61fcb43dee9eb"
          },
          "model_module_version": "1.5.0"
        },
        "3cc18948bee047148b2dd77aed045fa4": {
          "model_module": "@jupyter-widgets/controls",
          "model_name": "HTMLModel",
          "state": {
            "_view_name": "HTMLView",
            "style": "IPY_MODEL_4eb854a7bd844e458e5f541dcb147887",
            "_dom_classes": [],
            "description": "",
            "_model_name": "HTMLModel",
            "placeholder": "​",
            "_view_module": "@jupyter-widgets/controls",
            "_model_module_version": "1.5.0",
            "value": " 292/292 [00:17&lt;00:00, 16.54ex/s]",
            "_view_count": null,
            "_view_module_version": "1.5.0",
            "description_tooltip": null,
            "_model_module": "@jupyter-widgets/controls",
            "layout": "IPY_MODEL_ec263055b3e94f83913d7c0a70ae4961"
          },
          "model_module_version": "1.5.0"
        },
        "38101286d9074bbba278cf5d4f0ddf4a": {
          "model_module": "@jupyter-widgets/controls",
          "model_name": "ProgressStyleModel",
          "state": {
            "_view_name": "StyleView",
            "_model_name": "ProgressStyleModel",
            "description_width": "initial",
            "_view_module": "@jupyter-widgets/base",
            "_model_module_version": "1.5.0",
            "_view_count": null,
            "_view_module_version": "1.2.0",
            "bar_color": null,
            "_model_module": "@jupyter-widgets/controls"
          },
          "model_module_version": "1.5.0"
        },
        "7fb49834de1a4514b1f61fcb43dee9eb": {
          "model_module": "@jupyter-widgets/base",
          "model_name": "LayoutModel",
          "state": {
            "_view_name": "LayoutView",
            "grid_template_rows": null,
            "right": null,
            "justify_content": null,
            "_view_module": "@jupyter-widgets/base",
            "overflow": null,
            "_model_module_version": "1.2.0",
            "_view_count": null,
            "flex_flow": null,
            "width": null,
            "min_width": null,
            "border": null,
            "align_items": null,
            "bottom": null,
            "_model_module": "@jupyter-widgets/base",
            "top": null,
            "grid_column": null,
            "overflow_y": null,
            "overflow_x": null,
            "grid_auto_flow": null,
            "grid_area": null,
            "grid_template_columns": null,
            "flex": null,
            "_model_name": "LayoutModel",
            "justify_items": null,
            "grid_row": null,
            "max_height": null,
            "align_content": null,
            "visibility": null,
            "align_self": null,
            "height": null,
            "min_height": null,
            "padding": null,
            "grid_auto_rows": null,
            "grid_gap": null,
            "max_width": null,
            "order": null,
            "_view_module_version": "1.2.0",
            "grid_template_areas": null,
            "object_position": null,
            "object_fit": null,
            "grid_auto_columns": null,
            "margin": null,
            "display": null,
            "left": null
          },
          "model_module_version": "1.2.0"
        },
        "4eb854a7bd844e458e5f541dcb147887": {
          "model_module": "@jupyter-widgets/controls",
          "model_name": "DescriptionStyleModel",
          "state": {
            "_view_name": "StyleView",
            "_model_name": "DescriptionStyleModel",
            "description_width": "",
            "_view_module": "@jupyter-widgets/base",
            "_model_module_version": "1.5.0",
            "_view_count": null,
            "_view_module_version": "1.2.0",
            "_model_module": "@jupyter-widgets/controls"
          },
          "model_module_version": "1.5.0"
        },
        "ec263055b3e94f83913d7c0a70ae4961": {
          "model_module": "@jupyter-widgets/base",
          "model_name": "LayoutModel",
          "state": {
            "_view_name": "LayoutView",
            "grid_template_rows": null,
            "right": null,
            "justify_content": null,
            "_view_module": "@jupyter-widgets/base",
            "overflow": null,
            "_model_module_version": "1.2.0",
            "_view_count": null,
            "flex_flow": null,
            "width": null,
            "min_width": null,
            "border": null,
            "align_items": null,
            "bottom": null,
            "_model_module": "@jupyter-widgets/base",
            "top": null,
            "grid_column": null,
            "overflow_y": null,
            "overflow_x": null,
            "grid_auto_flow": null,
            "grid_area": null,
            "grid_template_columns": null,
            "flex": null,
            "_model_name": "LayoutModel",
            "justify_items": null,
            "grid_row": null,
            "max_height": null,
            "align_content": null,
            "visibility": null,
            "align_self": null,
            "height": null,
            "min_height": null,
            "padding": null,
            "grid_auto_rows": null,
            "grid_gap": null,
            "max_width": null,
            "order": null,
            "_view_module_version": "1.2.0",
            "grid_template_areas": null,
            "object_position": null,
            "object_fit": null,
            "grid_auto_columns": null,
            "margin": null,
            "display": null,
            "left": null
          },
          "model_module_version": "1.2.0"
        },
        "eed5c5e6758b49109a313e3c833a384f": {
          "model_module": "@jupyter-widgets/controls",
          "model_name": "HBoxModel",
          "state": {
            "_view_name": "HBoxView",
            "_dom_classes": [],
            "_model_name": "HBoxModel",
            "_view_module": "@jupyter-widgets/controls",
            "_model_module_version": "1.5.0",
            "_view_count": null,
            "_view_module_version": "1.5.0",
            "box_style": "",
            "layout": "IPY_MODEL_ccc2aa519ef0446196a0c737e9cdcb53",
            "_model_module": "@jupyter-widgets/controls",
            "children": [
              "IPY_MODEL_16b601086b2d49e197f8f3810ff97e17",
              "IPY_MODEL_e7331503cde94cc5a045d1adb77763b7"
            ]
          },
          "model_module_version": "1.5.0"
        },
        "ccc2aa519ef0446196a0c737e9cdcb53": {
          "model_module": "@jupyter-widgets/base",
          "model_name": "LayoutModel",
          "state": {
            "_view_name": "LayoutView",
            "grid_template_rows": null,
            "right": null,
            "justify_content": null,
            "_view_module": "@jupyter-widgets/base",
            "overflow": null,
            "_model_module_version": "1.2.0",
            "_view_count": null,
            "flex_flow": null,
            "width": null,
            "min_width": null,
            "border": null,
            "align_items": null,
            "bottom": null,
            "_model_module": "@jupyter-widgets/base",
            "top": null,
            "grid_column": null,
            "overflow_y": null,
            "overflow_x": null,
            "grid_auto_flow": null,
            "grid_area": null,
            "grid_template_columns": null,
            "flex": null,
            "_model_name": "LayoutModel",
            "justify_items": null,
            "grid_row": null,
            "max_height": null,
            "align_content": null,
            "visibility": null,
            "align_self": null,
            "height": null,
            "min_height": null,
            "padding": null,
            "grid_auto_rows": null,
            "grid_gap": null,
            "max_width": null,
            "order": null,
            "_view_module_version": "1.2.0",
            "grid_template_areas": null,
            "object_position": null,
            "object_fit": null,
            "grid_auto_columns": null,
            "margin": null,
            "display": null,
            "left": null
          },
          "model_module_version": "1.2.0"
        },
        "16b601086b2d49e197f8f3810ff97e17": {
          "model_module": "@jupyter-widgets/controls",
          "model_name": "FloatProgressModel",
          "state": {
            "_view_name": "ProgressView",
            "style": "IPY_MODEL_2e6b7fc2ea98454e9215c207a24ea542",
            "_dom_classes": [],
            "description": "100%",
            "_model_name": "FloatProgressModel",
            "bar_style": "success",
            "max": 127,
            "_view_module": "@jupyter-widgets/controls",
            "_model_module_version": "1.5.0",
            "value": 127,
            "_view_count": null,
            "_view_module_version": "1.5.0",
            "orientation": "horizontal",
            "min": 0,
            "description_tooltip": null,
            "_model_module": "@jupyter-widgets/controls",
            "layout": "IPY_MODEL_fd5eab7de1ab47c9a6f725f1b54b4c38"
          },
          "model_module_version": "1.5.0"
        },
        "e7331503cde94cc5a045d1adb77763b7": {
          "model_module": "@jupyter-widgets/controls",
          "model_name": "HTMLModel",
          "state": {
            "_view_name": "HTMLView",
            "style": "IPY_MODEL_8a9741858e074c6ab84922838bfd2e91",
            "_dom_classes": [],
            "description": "",
            "_model_name": "HTMLModel",
            "placeholder": "​",
            "_view_module": "@jupyter-widgets/controls",
            "_model_module_version": "1.5.0",
            "value": " 127/127 [00:10&lt;00:00, 12.38ex/s]",
            "_view_count": null,
            "_view_module_version": "1.5.0",
            "description_tooltip": null,
            "_model_module": "@jupyter-widgets/controls",
            "layout": "IPY_MODEL_a9ea5c338462488ea385df57ac8e753a"
          },
          "model_module_version": "1.5.0"
        },
        "2e6b7fc2ea98454e9215c207a24ea542": {
          "model_module": "@jupyter-widgets/controls",
          "model_name": "ProgressStyleModel",
          "state": {
            "_view_name": "StyleView",
            "_model_name": "ProgressStyleModel",
            "description_width": "initial",
            "_view_module": "@jupyter-widgets/base",
            "_model_module_version": "1.5.0",
            "_view_count": null,
            "_view_module_version": "1.2.0",
            "bar_color": null,
            "_model_module": "@jupyter-widgets/controls"
          },
          "model_module_version": "1.5.0"
        },
        "fd5eab7de1ab47c9a6f725f1b54b4c38": {
          "model_module": "@jupyter-widgets/base",
          "model_name": "LayoutModel",
          "state": {
            "_view_name": "LayoutView",
            "grid_template_rows": null,
            "right": null,
            "justify_content": null,
            "_view_module": "@jupyter-widgets/base",
            "overflow": null,
            "_model_module_version": "1.2.0",
            "_view_count": null,
            "flex_flow": null,
            "width": null,
            "min_width": null,
            "border": null,
            "align_items": null,
            "bottom": null,
            "_model_module": "@jupyter-widgets/base",
            "top": null,
            "grid_column": null,
            "overflow_y": null,
            "overflow_x": null,
            "grid_auto_flow": null,
            "grid_area": null,
            "grid_template_columns": null,
            "flex": null,
            "_model_name": "LayoutModel",
            "justify_items": null,
            "grid_row": null,
            "max_height": null,
            "align_content": null,
            "visibility": null,
            "align_self": null,
            "height": null,
            "min_height": null,
            "padding": null,
            "grid_auto_rows": null,
            "grid_gap": null,
            "max_width": null,
            "order": null,
            "_view_module_version": "1.2.0",
            "grid_template_areas": null,
            "object_position": null,
            "object_fit": null,
            "grid_auto_columns": null,
            "margin": null,
            "display": null,
            "left": null
          },
          "model_module_version": "1.2.0"
        },
        "8a9741858e074c6ab84922838bfd2e91": {
          "model_module": "@jupyter-widgets/controls",
          "model_name": "DescriptionStyleModel",
          "state": {
            "_view_name": "StyleView",
            "_model_name": "DescriptionStyleModel",
            "description_width": "",
            "_view_module": "@jupyter-widgets/base",
            "_model_module_version": "1.5.0",
            "_view_count": null,
            "_view_module_version": "1.2.0",
            "_model_module": "@jupyter-widgets/controls"
          },
          "model_module_version": "1.5.0"
        },
        "a9ea5c338462488ea385df57ac8e753a": {
          "model_module": "@jupyter-widgets/base",
          "model_name": "LayoutModel",
          "state": {
            "_view_name": "LayoutView",
            "grid_template_rows": null,
            "right": null,
            "justify_content": null,
            "_view_module": "@jupyter-widgets/base",
            "overflow": null,
            "_model_module_version": "1.2.0",
            "_view_count": null,
            "flex_flow": null,
            "width": null,
            "min_width": null,
            "border": null,
            "align_items": null,
            "bottom": null,
            "_model_module": "@jupyter-widgets/base",
            "top": null,
            "grid_column": null,
            "overflow_y": null,
            "overflow_x": null,
            "grid_auto_flow": null,
            "grid_area": null,
            "grid_template_columns": null,
            "flex": null,
            "_model_name": "LayoutModel",
            "justify_items": null,
            "grid_row": null,
            "max_height": null,
            "align_content": null,
            "visibility": null,
            "align_self": null,
            "height": null,
            "min_height": null,
            "padding": null,
            "grid_auto_rows": null,
            "grid_gap": null,
            "max_width": null,
            "order": null,
            "_view_module_version": "1.2.0",
            "grid_template_areas": null,
            "object_position": null,
            "object_fit": null,
            "grid_auto_columns": null,
            "margin": null,
            "display": null,
            "left": null
          },
          "model_module_version": "1.2.0"
        },
        "4e8a90230e7445608b9b2da820113d58": {
          "model_module": "@jupyter-widgets/controls",
          "model_name": "HBoxModel",
          "state": {
            "_view_name": "HBoxView",
            "_dom_classes": [],
            "_model_name": "HBoxModel",
            "_view_module": "@jupyter-widgets/controls",
            "_model_module_version": "1.5.0",
            "_view_count": null,
            "_view_module_version": "1.5.0",
            "box_style": "",
            "layout": "IPY_MODEL_4811cb531d014ce1819ccf3504e78412",
            "_model_module": "@jupyter-widgets/controls",
            "children": [
              "IPY_MODEL_6188694e42db4649a2d222bf7bc66b4e",
              "IPY_MODEL_b85a92a61eb34081b78da1a6851ea954"
            ]
          },
          "model_module_version": "1.5.0"
        },
        "4811cb531d014ce1819ccf3504e78412": {
          "model_module": "@jupyter-widgets/base",
          "model_name": "LayoutModel",
          "state": {
            "_view_name": "LayoutView",
            "grid_template_rows": null,
            "right": null,
            "justify_content": null,
            "_view_module": "@jupyter-widgets/base",
            "overflow": null,
            "_model_module_version": "1.2.0",
            "_view_count": null,
            "flex_flow": null,
            "width": null,
            "min_width": null,
            "border": null,
            "align_items": null,
            "bottom": null,
            "_model_module": "@jupyter-widgets/base",
            "top": null,
            "grid_column": null,
            "overflow_y": null,
            "overflow_x": null,
            "grid_auto_flow": null,
            "grid_area": null,
            "grid_template_columns": null,
            "flex": null,
            "_model_name": "LayoutModel",
            "justify_items": null,
            "grid_row": null,
            "max_height": null,
            "align_content": null,
            "visibility": null,
            "align_self": null,
            "height": null,
            "min_height": null,
            "padding": null,
            "grid_auto_rows": null,
            "grid_gap": null,
            "max_width": null,
            "order": null,
            "_view_module_version": "1.2.0",
            "grid_template_areas": null,
            "object_position": null,
            "object_fit": null,
            "grid_auto_columns": null,
            "margin": null,
            "display": null,
            "left": null
          },
          "model_module_version": "1.2.0"
        },
        "6188694e42db4649a2d222bf7bc66b4e": {
          "model_module": "@jupyter-widgets/controls",
          "model_name": "FloatProgressModel",
          "state": {
            "_view_name": "ProgressView",
            "style": "IPY_MODEL_95fb15f7c3324628a4b79466da5b0452",
            "_dom_classes": [],
            "description": "#2: 100%",
            "_model_name": "FloatProgressModel",
            "bar_style": "success",
            "max": 73,
            "_view_module": "@jupyter-widgets/controls",
            "_model_module_version": "1.5.0",
            "value": 73,
            "_view_count": null,
            "_view_module_version": "1.5.0",
            "orientation": "horizontal",
            "min": 0,
            "description_tooltip": null,
            "_model_module": "@jupyter-widgets/controls",
            "layout": "IPY_MODEL_4b152a7740f64765bb712e8cea110f80"
          },
          "model_module_version": "1.5.0"
        },
        "b85a92a61eb34081b78da1a6851ea954": {
          "model_module": "@jupyter-widgets/controls",
          "model_name": "HTMLModel",
          "state": {
            "_view_name": "HTMLView",
            "style": "IPY_MODEL_eadde35a0fbf4611b6e2ee4fc34537d0",
            "_dom_classes": [],
            "description": "",
            "_model_name": "HTMLModel",
            "placeholder": "​",
            "_view_module": "@jupyter-widgets/controls",
            "_model_module_version": "1.5.0",
            "value": " 73/73 [00:31&lt;00:00,  2.33ex/s]",
            "_view_count": null,
            "_view_module_version": "1.5.0",
            "description_tooltip": null,
            "_model_module": "@jupyter-widgets/controls",
            "layout": "IPY_MODEL_1583ee1dfeed483c9b214032a52e219b"
          },
          "model_module_version": "1.5.0"
        },
        "95fb15f7c3324628a4b79466da5b0452": {
          "model_module": "@jupyter-widgets/controls",
          "model_name": "ProgressStyleModel",
          "state": {
            "_view_name": "StyleView",
            "_model_name": "ProgressStyleModel",
            "description_width": "initial",
            "_view_module": "@jupyter-widgets/base",
            "_model_module_version": "1.5.0",
            "_view_count": null,
            "_view_module_version": "1.2.0",
            "bar_color": null,
            "_model_module": "@jupyter-widgets/controls"
          },
          "model_module_version": "1.5.0"
        },
        "4b152a7740f64765bb712e8cea110f80": {
          "model_module": "@jupyter-widgets/base",
          "model_name": "LayoutModel",
          "state": {
            "_view_name": "LayoutView",
            "grid_template_rows": null,
            "right": null,
            "justify_content": null,
            "_view_module": "@jupyter-widgets/base",
            "overflow": null,
            "_model_module_version": "1.2.0",
            "_view_count": null,
            "flex_flow": null,
            "width": null,
            "min_width": null,
            "border": null,
            "align_items": null,
            "bottom": null,
            "_model_module": "@jupyter-widgets/base",
            "top": null,
            "grid_column": null,
            "overflow_y": null,
            "overflow_x": null,
            "grid_auto_flow": null,
            "grid_area": null,
            "grid_template_columns": null,
            "flex": null,
            "_model_name": "LayoutModel",
            "justify_items": null,
            "grid_row": null,
            "max_height": null,
            "align_content": null,
            "visibility": null,
            "align_self": null,
            "height": null,
            "min_height": null,
            "padding": null,
            "grid_auto_rows": null,
            "grid_gap": null,
            "max_width": null,
            "order": null,
            "_view_module_version": "1.2.0",
            "grid_template_areas": null,
            "object_position": null,
            "object_fit": null,
            "grid_auto_columns": null,
            "margin": null,
            "display": null,
            "left": null
          },
          "model_module_version": "1.2.0"
        },
        "eadde35a0fbf4611b6e2ee4fc34537d0": {
          "model_module": "@jupyter-widgets/controls",
          "model_name": "DescriptionStyleModel",
          "state": {
            "_view_name": "StyleView",
            "_model_name": "DescriptionStyleModel",
            "description_width": "",
            "_view_module": "@jupyter-widgets/base",
            "_model_module_version": "1.5.0",
            "_view_count": null,
            "_view_module_version": "1.2.0",
            "_model_module": "@jupyter-widgets/controls"
          },
          "model_module_version": "1.5.0"
        },
        "1583ee1dfeed483c9b214032a52e219b": {
          "model_module": "@jupyter-widgets/base",
          "model_name": "LayoutModel",
          "state": {
            "_view_name": "LayoutView",
            "grid_template_rows": null,
            "right": null,
            "justify_content": null,
            "_view_module": "@jupyter-widgets/base",
            "overflow": null,
            "_model_module_version": "1.2.0",
            "_view_count": null,
            "flex_flow": null,
            "width": null,
            "min_width": null,
            "border": null,
            "align_items": null,
            "bottom": null,
            "_model_module": "@jupyter-widgets/base",
            "top": null,
            "grid_column": null,
            "overflow_y": null,
            "overflow_x": null,
            "grid_auto_flow": null,
            "grid_area": null,
            "grid_template_columns": null,
            "flex": null,
            "_model_name": "LayoutModel",
            "justify_items": null,
            "grid_row": null,
            "max_height": null,
            "align_content": null,
            "visibility": null,
            "align_self": null,
            "height": null,
            "min_height": null,
            "padding": null,
            "grid_auto_rows": null,
            "grid_gap": null,
            "max_width": null,
            "order": null,
            "_view_module_version": "1.2.0",
            "grid_template_areas": null,
            "object_position": null,
            "object_fit": null,
            "grid_auto_columns": null,
            "margin": null,
            "display": null,
            "left": null
          },
          "model_module_version": "1.2.0"
        },
        "dbf3b52cdb604fbbb9827664750cacdc": {
          "model_module": "@jupyter-widgets/controls",
          "model_name": "HBoxModel",
          "state": {
            "_view_name": "HBoxView",
            "_dom_classes": [],
            "_model_name": "HBoxModel",
            "_view_module": "@jupyter-widgets/controls",
            "_model_module_version": "1.5.0",
            "_view_count": null,
            "_view_module_version": "1.5.0",
            "box_style": "",
            "layout": "IPY_MODEL_350d9c4f1d4f45c1a6f4a494e45ff3f5",
            "_model_module": "@jupyter-widgets/controls",
            "children": [
              "IPY_MODEL_92038cfc9f3c4ca4a38b07a26695d61b",
              "IPY_MODEL_e6fe7744624e49a19f934a8911445b1e"
            ]
          },
          "model_module_version": "1.5.0"
        },
        "350d9c4f1d4f45c1a6f4a494e45ff3f5": {
          "model_module": "@jupyter-widgets/base",
          "model_name": "LayoutModel",
          "state": {
            "_view_name": "LayoutView",
            "grid_template_rows": null,
            "right": null,
            "justify_content": null,
            "_view_module": "@jupyter-widgets/base",
            "overflow": null,
            "_model_module_version": "1.2.0",
            "_view_count": null,
            "flex_flow": null,
            "width": null,
            "min_width": null,
            "border": null,
            "align_items": null,
            "bottom": null,
            "_model_module": "@jupyter-widgets/base",
            "top": null,
            "grid_column": null,
            "overflow_y": null,
            "overflow_x": null,
            "grid_auto_flow": null,
            "grid_area": null,
            "grid_template_columns": null,
            "flex": null,
            "_model_name": "LayoutModel",
            "justify_items": null,
            "grid_row": null,
            "max_height": null,
            "align_content": null,
            "visibility": null,
            "align_self": null,
            "height": null,
            "min_height": null,
            "padding": null,
            "grid_auto_rows": null,
            "grid_gap": null,
            "max_width": null,
            "order": null,
            "_view_module_version": "1.2.0",
            "grid_template_areas": null,
            "object_position": null,
            "object_fit": null,
            "grid_auto_columns": null,
            "margin": null,
            "display": null,
            "left": null
          },
          "model_module_version": "1.2.0"
        },
        "92038cfc9f3c4ca4a38b07a26695d61b": {
          "model_module": "@jupyter-widgets/controls",
          "model_name": "FloatProgressModel",
          "state": {
            "_view_name": "ProgressView",
            "style": "IPY_MODEL_a4b9f9022e8747f6b653ab6ff25e65fa",
            "_dom_classes": [],
            "description": "#1: 100%",
            "_model_name": "FloatProgressModel",
            "bar_style": "success",
            "max": 73,
            "_view_module": "@jupyter-widgets/controls",
            "_model_module_version": "1.5.0",
            "value": 73,
            "_view_count": null,
            "_view_module_version": "1.5.0",
            "orientation": "horizontal",
            "min": 0,
            "description_tooltip": null,
            "_model_module": "@jupyter-widgets/controls",
            "layout": "IPY_MODEL_a2eba928f9664072a6512e4a63f97180"
          },
          "model_module_version": "1.5.0"
        },
        "e6fe7744624e49a19f934a8911445b1e": {
          "model_module": "@jupyter-widgets/controls",
          "model_name": "HTMLModel",
          "state": {
            "_view_name": "HTMLView",
            "style": "IPY_MODEL_7004eab5f11e4d368f8631e6b75b97a4",
            "_dom_classes": [],
            "description": "",
            "_model_name": "HTMLModel",
            "placeholder": "​",
            "_view_module": "@jupyter-widgets/controls",
            "_model_module_version": "1.5.0",
            "value": " 73/73 [00:27&lt;00:00,  2.63ex/s]",
            "_view_count": null,
            "_view_module_version": "1.5.0",
            "description_tooltip": null,
            "_model_module": "@jupyter-widgets/controls",
            "layout": "IPY_MODEL_91eb1125af8846108f00a59753f7064e"
          },
          "model_module_version": "1.5.0"
        },
        "a4b9f9022e8747f6b653ab6ff25e65fa": {
          "model_module": "@jupyter-widgets/controls",
          "model_name": "ProgressStyleModel",
          "state": {
            "_view_name": "StyleView",
            "_model_name": "ProgressStyleModel",
            "description_width": "initial",
            "_view_module": "@jupyter-widgets/base",
            "_model_module_version": "1.5.0",
            "_view_count": null,
            "_view_module_version": "1.2.0",
            "bar_color": null,
            "_model_module": "@jupyter-widgets/controls"
          },
          "model_module_version": "1.5.0"
        },
        "a2eba928f9664072a6512e4a63f97180": {
          "model_module": "@jupyter-widgets/base",
          "model_name": "LayoutModel",
          "state": {
            "_view_name": "LayoutView",
            "grid_template_rows": null,
            "right": null,
            "justify_content": null,
            "_view_module": "@jupyter-widgets/base",
            "overflow": null,
            "_model_module_version": "1.2.0",
            "_view_count": null,
            "flex_flow": null,
            "width": null,
            "min_width": null,
            "border": null,
            "align_items": null,
            "bottom": null,
            "_model_module": "@jupyter-widgets/base",
            "top": null,
            "grid_column": null,
            "overflow_y": null,
            "overflow_x": null,
            "grid_auto_flow": null,
            "grid_area": null,
            "grid_template_columns": null,
            "flex": null,
            "_model_name": "LayoutModel",
            "justify_items": null,
            "grid_row": null,
            "max_height": null,
            "align_content": null,
            "visibility": null,
            "align_self": null,
            "height": null,
            "min_height": null,
            "padding": null,
            "grid_auto_rows": null,
            "grid_gap": null,
            "max_width": null,
            "order": null,
            "_view_module_version": "1.2.0",
            "grid_template_areas": null,
            "object_position": null,
            "object_fit": null,
            "grid_auto_columns": null,
            "margin": null,
            "display": null,
            "left": null
          },
          "model_module_version": "1.2.0"
        },
        "7004eab5f11e4d368f8631e6b75b97a4": {
          "model_module": "@jupyter-widgets/controls",
          "model_name": "DescriptionStyleModel",
          "state": {
            "_view_name": "StyleView",
            "_model_name": "DescriptionStyleModel",
            "description_width": "",
            "_view_module": "@jupyter-widgets/base",
            "_model_module_version": "1.5.0",
            "_view_count": null,
            "_view_module_version": "1.2.0",
            "_model_module": "@jupyter-widgets/controls"
          },
          "model_module_version": "1.5.0"
        },
        "91eb1125af8846108f00a59753f7064e": {
          "model_module": "@jupyter-widgets/base",
          "model_name": "LayoutModel",
          "state": {
            "_view_name": "LayoutView",
            "grid_template_rows": null,
            "right": null,
            "justify_content": null,
            "_view_module": "@jupyter-widgets/base",
            "overflow": null,
            "_model_module_version": "1.2.0",
            "_view_count": null,
            "flex_flow": null,
            "width": null,
            "min_width": null,
            "border": null,
            "align_items": null,
            "bottom": null,
            "_model_module": "@jupyter-widgets/base",
            "top": null,
            "grid_column": null,
            "overflow_y": null,
            "overflow_x": null,
            "grid_auto_flow": null,
            "grid_area": null,
            "grid_template_columns": null,
            "flex": null,
            "_model_name": "LayoutModel",
            "justify_items": null,
            "grid_row": null,
            "max_height": null,
            "align_content": null,
            "visibility": null,
            "align_self": null,
            "height": null,
            "min_height": null,
            "padding": null,
            "grid_auto_rows": null,
            "grid_gap": null,
            "max_width": null,
            "order": null,
            "_view_module_version": "1.2.0",
            "grid_template_areas": null,
            "object_position": null,
            "object_fit": null,
            "grid_auto_columns": null,
            "margin": null,
            "display": null,
            "left": null
          },
          "model_module_version": "1.2.0"
        },
        "7591496578cd4b2685df32b3a5ee8473": {
          "model_module": "@jupyter-widgets/controls",
          "model_name": "HBoxModel",
          "state": {
            "_view_name": "HBoxView",
            "_dom_classes": [],
            "_model_name": "HBoxModel",
            "_view_module": "@jupyter-widgets/controls",
            "_model_module_version": "1.5.0",
            "_view_count": null,
            "_view_module_version": "1.5.0",
            "box_style": "",
            "layout": "IPY_MODEL_2cb397092f8741e2bfcfae94b9d6644a",
            "_model_module": "@jupyter-widgets/controls",
            "children": [
              "IPY_MODEL_34f207e8ecb24a98b85a30518b4dbf5d",
              "IPY_MODEL_55a0e5b52db941cd8a2ca5a9efdefaa5"
            ]
          },
          "model_module_version": "1.5.0"
        },
        "2cb397092f8741e2bfcfae94b9d6644a": {
          "model_module": "@jupyter-widgets/base",
          "model_name": "LayoutModel",
          "state": {
            "_view_name": "LayoutView",
            "grid_template_rows": null,
            "right": null,
            "justify_content": null,
            "_view_module": "@jupyter-widgets/base",
            "overflow": null,
            "_model_module_version": "1.2.0",
            "_view_count": null,
            "flex_flow": null,
            "width": null,
            "min_width": null,
            "border": null,
            "align_items": null,
            "bottom": null,
            "_model_module": "@jupyter-widgets/base",
            "top": null,
            "grid_column": null,
            "overflow_y": null,
            "overflow_x": null,
            "grid_auto_flow": null,
            "grid_area": null,
            "grid_template_columns": null,
            "flex": null,
            "_model_name": "LayoutModel",
            "justify_items": null,
            "grid_row": null,
            "max_height": null,
            "align_content": null,
            "visibility": null,
            "align_self": null,
            "height": null,
            "min_height": null,
            "padding": null,
            "grid_auto_rows": null,
            "grid_gap": null,
            "max_width": null,
            "order": null,
            "_view_module_version": "1.2.0",
            "grid_template_areas": null,
            "object_position": null,
            "object_fit": null,
            "grid_auto_columns": null,
            "margin": null,
            "display": null,
            "left": null
          },
          "model_module_version": "1.2.0"
        },
        "34f207e8ecb24a98b85a30518b4dbf5d": {
          "model_module": "@jupyter-widgets/controls",
          "model_name": "FloatProgressModel",
          "state": {
            "_view_name": "ProgressView",
            "style": "IPY_MODEL_7150bb42d77d4ccabb8ad1cc985c58d0",
            "_dom_classes": [],
            "description": "#0: 100%",
            "_model_name": "FloatProgressModel",
            "bar_style": "success",
            "max": 73,
            "_view_module": "@jupyter-widgets/controls",
            "_model_module_version": "1.5.0",
            "value": 73,
            "_view_count": null,
            "_view_module_version": "1.5.0",
            "orientation": "horizontal",
            "min": 0,
            "description_tooltip": null,
            "_model_module": "@jupyter-widgets/controls",
            "layout": "IPY_MODEL_b4beca2637b843eda1fcff2422a6648a"
          },
          "model_module_version": "1.5.0"
        },
        "55a0e5b52db941cd8a2ca5a9efdefaa5": {
          "model_module": "@jupyter-widgets/controls",
          "model_name": "HTMLModel",
          "state": {
            "_view_name": "HTMLView",
            "style": "IPY_MODEL_ac68485c818e496f817876b748c74225",
            "_dom_classes": [],
            "description": "",
            "_model_name": "HTMLModel",
            "placeholder": "​",
            "_view_module": "@jupyter-widgets/controls",
            "_model_module_version": "1.5.0",
            "value": " 73/73 [00:31&lt;00:00,  2.33ex/s]",
            "_view_count": null,
            "_view_module_version": "1.5.0",
            "description_tooltip": null,
            "_model_module": "@jupyter-widgets/controls",
            "layout": "IPY_MODEL_3149fc0b8e0443ea825f2adb11820279"
          },
          "model_module_version": "1.5.0"
        },
        "7150bb42d77d4ccabb8ad1cc985c58d0": {
          "model_module": "@jupyter-widgets/controls",
          "model_name": "ProgressStyleModel",
          "state": {
            "_view_name": "StyleView",
            "_model_name": "ProgressStyleModel",
            "description_width": "initial",
            "_view_module": "@jupyter-widgets/base",
            "_model_module_version": "1.5.0",
            "_view_count": null,
            "_view_module_version": "1.2.0",
            "bar_color": null,
            "_model_module": "@jupyter-widgets/controls"
          },
          "model_module_version": "1.5.0"
        },
        "b4beca2637b843eda1fcff2422a6648a": {
          "model_module": "@jupyter-widgets/base",
          "model_name": "LayoutModel",
          "state": {
            "_view_name": "LayoutView",
            "grid_template_rows": null,
            "right": null,
            "justify_content": null,
            "_view_module": "@jupyter-widgets/base",
            "overflow": null,
            "_model_module_version": "1.2.0",
            "_view_count": null,
            "flex_flow": null,
            "width": null,
            "min_width": null,
            "border": null,
            "align_items": null,
            "bottom": null,
            "_model_module": "@jupyter-widgets/base",
            "top": null,
            "grid_column": null,
            "overflow_y": null,
            "overflow_x": null,
            "grid_auto_flow": null,
            "grid_area": null,
            "grid_template_columns": null,
            "flex": null,
            "_model_name": "LayoutModel",
            "justify_items": null,
            "grid_row": null,
            "max_height": null,
            "align_content": null,
            "visibility": null,
            "align_self": null,
            "height": null,
            "min_height": null,
            "padding": null,
            "grid_auto_rows": null,
            "grid_gap": null,
            "max_width": null,
            "order": null,
            "_view_module_version": "1.2.0",
            "grid_template_areas": null,
            "object_position": null,
            "object_fit": null,
            "grid_auto_columns": null,
            "margin": null,
            "display": null,
            "left": null
          },
          "model_module_version": "1.2.0"
        },
        "ac68485c818e496f817876b748c74225": {
          "model_module": "@jupyter-widgets/controls",
          "model_name": "DescriptionStyleModel",
          "state": {
            "_view_name": "StyleView",
            "_model_name": "DescriptionStyleModel",
            "description_width": "",
            "_view_module": "@jupyter-widgets/base",
            "_model_module_version": "1.5.0",
            "_view_count": null,
            "_view_module_version": "1.2.0",
            "_model_module": "@jupyter-widgets/controls"
          },
          "model_module_version": "1.5.0"
        },
        "3149fc0b8e0443ea825f2adb11820279": {
          "model_module": "@jupyter-widgets/base",
          "model_name": "LayoutModel",
          "state": {
            "_view_name": "LayoutView",
            "grid_template_rows": null,
            "right": null,
            "justify_content": null,
            "_view_module": "@jupyter-widgets/base",
            "overflow": null,
            "_model_module_version": "1.2.0",
            "_view_count": null,
            "flex_flow": null,
            "width": null,
            "min_width": null,
            "border": null,
            "align_items": null,
            "bottom": null,
            "_model_module": "@jupyter-widgets/base",
            "top": null,
            "grid_column": null,
            "overflow_y": null,
            "overflow_x": null,
            "grid_auto_flow": null,
            "grid_area": null,
            "grid_template_columns": null,
            "flex": null,
            "_model_name": "LayoutModel",
            "justify_items": null,
            "grid_row": null,
            "max_height": null,
            "align_content": null,
            "visibility": null,
            "align_self": null,
            "height": null,
            "min_height": null,
            "padding": null,
            "grid_auto_rows": null,
            "grid_gap": null,
            "max_width": null,
            "order": null,
            "_view_module_version": "1.2.0",
            "grid_template_areas": null,
            "object_position": null,
            "object_fit": null,
            "grid_auto_columns": null,
            "margin": null,
            "display": null,
            "left": null
          },
          "model_module_version": "1.2.0"
        },
        "afb4d5a7c17d463bbdb6043357bc094e": {
          "model_module": "@jupyter-widgets/controls",
          "model_name": "HBoxModel",
          "state": {
            "_view_name": "HBoxView",
            "_dom_classes": [],
            "_model_name": "HBoxModel",
            "_view_module": "@jupyter-widgets/controls",
            "_model_module_version": "1.5.0",
            "_view_count": null,
            "_view_module_version": "1.5.0",
            "box_style": "",
            "layout": "IPY_MODEL_68f09fc2ac9748f0a064e72dd46ecadd",
            "_model_module": "@jupyter-widgets/controls",
            "children": [
              "IPY_MODEL_341268555ca3422292e94aa3cd892c3c",
              "IPY_MODEL_5125c2be29e64562a4dc6f1902abb0c4"
            ]
          },
          "model_module_version": "1.5.0"
        },
        "68f09fc2ac9748f0a064e72dd46ecadd": {
          "model_module": "@jupyter-widgets/base",
          "model_name": "LayoutModel",
          "state": {
            "_view_name": "LayoutView",
            "grid_template_rows": null,
            "right": null,
            "justify_content": null,
            "_view_module": "@jupyter-widgets/base",
            "overflow": null,
            "_model_module_version": "1.2.0",
            "_view_count": null,
            "flex_flow": null,
            "width": null,
            "min_width": null,
            "border": null,
            "align_items": null,
            "bottom": null,
            "_model_module": "@jupyter-widgets/base",
            "top": null,
            "grid_column": null,
            "overflow_y": null,
            "overflow_x": null,
            "grid_auto_flow": null,
            "grid_area": null,
            "grid_template_columns": null,
            "flex": null,
            "_model_name": "LayoutModel",
            "justify_items": null,
            "grid_row": null,
            "max_height": null,
            "align_content": null,
            "visibility": null,
            "align_self": null,
            "height": null,
            "min_height": null,
            "padding": null,
            "grid_auto_rows": null,
            "grid_gap": null,
            "max_width": null,
            "order": null,
            "_view_module_version": "1.2.0",
            "grid_template_areas": null,
            "object_position": null,
            "object_fit": null,
            "grid_auto_columns": null,
            "margin": null,
            "display": null,
            "left": null
          },
          "model_module_version": "1.2.0"
        },
        "341268555ca3422292e94aa3cd892c3c": {
          "model_module": "@jupyter-widgets/controls",
          "model_name": "FloatProgressModel",
          "state": {
            "_view_name": "ProgressView",
            "style": "IPY_MODEL_385919a77b85433598a714242b194599",
            "_dom_classes": [],
            "description": "#3: 100%",
            "_model_name": "FloatProgressModel",
            "bar_style": "success",
            "max": 73,
            "_view_module": "@jupyter-widgets/controls",
            "_model_module_version": "1.5.0",
            "value": 73,
            "_view_count": null,
            "_view_module_version": "1.5.0",
            "orientation": "horizontal",
            "min": 0,
            "description_tooltip": null,
            "_model_module": "@jupyter-widgets/controls",
            "layout": "IPY_MODEL_dc673aa161604ff5ab862e3409ebd865"
          },
          "model_module_version": "1.5.0"
        },
        "5125c2be29e64562a4dc6f1902abb0c4": {
          "model_module": "@jupyter-widgets/controls",
          "model_name": "HTMLModel",
          "state": {
            "_view_name": "HTMLView",
            "style": "IPY_MODEL_135c1ae4a82b4568a4e2d54e00add6bc",
            "_dom_classes": [],
            "description": "",
            "_model_name": "HTMLModel",
            "placeholder": "​",
            "_view_module": "@jupyter-widgets/controls",
            "_model_module_version": "1.5.0",
            "value": " 73/73 [00:36&lt;00:00,  1.98ex/s]",
            "_view_count": null,
            "_view_module_version": "1.5.0",
            "description_tooltip": null,
            "_model_module": "@jupyter-widgets/controls",
            "layout": "IPY_MODEL_6573e2f03bb948bd8d7b2480ef1bbe21"
          },
          "model_module_version": "1.5.0"
        },
        "385919a77b85433598a714242b194599": {
          "model_module": "@jupyter-widgets/controls",
          "model_name": "ProgressStyleModel",
          "state": {
            "_view_name": "StyleView",
            "_model_name": "ProgressStyleModel",
            "description_width": "initial",
            "_view_module": "@jupyter-widgets/base",
            "_model_module_version": "1.5.0",
            "_view_count": null,
            "_view_module_version": "1.2.0",
            "bar_color": null,
            "_model_module": "@jupyter-widgets/controls"
          },
          "model_module_version": "1.5.0"
        },
        "dc673aa161604ff5ab862e3409ebd865": {
          "model_module": "@jupyter-widgets/base",
          "model_name": "LayoutModel",
          "state": {
            "_view_name": "LayoutView",
            "grid_template_rows": null,
            "right": null,
            "justify_content": null,
            "_view_module": "@jupyter-widgets/base",
            "overflow": null,
            "_model_module_version": "1.2.0",
            "_view_count": null,
            "flex_flow": null,
            "width": null,
            "min_width": null,
            "border": null,
            "align_items": null,
            "bottom": null,
            "_model_module": "@jupyter-widgets/base",
            "top": null,
            "grid_column": null,
            "overflow_y": null,
            "overflow_x": null,
            "grid_auto_flow": null,
            "grid_area": null,
            "grid_template_columns": null,
            "flex": null,
            "_model_name": "LayoutModel",
            "justify_items": null,
            "grid_row": null,
            "max_height": null,
            "align_content": null,
            "visibility": null,
            "align_self": null,
            "height": null,
            "min_height": null,
            "padding": null,
            "grid_auto_rows": null,
            "grid_gap": null,
            "max_width": null,
            "order": null,
            "_view_module_version": "1.2.0",
            "grid_template_areas": null,
            "object_position": null,
            "object_fit": null,
            "grid_auto_columns": null,
            "margin": null,
            "display": null,
            "left": null
          },
          "model_module_version": "1.2.0"
        },
        "135c1ae4a82b4568a4e2d54e00add6bc": {
          "model_module": "@jupyter-widgets/controls",
          "model_name": "DescriptionStyleModel",
          "state": {
            "_view_name": "StyleView",
            "_model_name": "DescriptionStyleModel",
            "description_width": "",
            "_view_module": "@jupyter-widgets/base",
            "_model_module_version": "1.5.0",
            "_view_count": null,
            "_view_module_version": "1.2.0",
            "_model_module": "@jupyter-widgets/controls"
          },
          "model_module_version": "1.5.0"
        },
        "6573e2f03bb948bd8d7b2480ef1bbe21": {
          "model_module": "@jupyter-widgets/base",
          "model_name": "LayoutModel",
          "state": {
            "_view_name": "LayoutView",
            "grid_template_rows": null,
            "right": null,
            "justify_content": null,
            "_view_module": "@jupyter-widgets/base",
            "overflow": null,
            "_model_module_version": "1.2.0",
            "_view_count": null,
            "flex_flow": null,
            "width": null,
            "min_width": null,
            "border": null,
            "align_items": null,
            "bottom": null,
            "_model_module": "@jupyter-widgets/base",
            "top": null,
            "grid_column": null,
            "overflow_y": null,
            "overflow_x": null,
            "grid_auto_flow": null,
            "grid_area": null,
            "grid_template_columns": null,
            "flex": null,
            "_model_name": "LayoutModel",
            "justify_items": null,
            "grid_row": null,
            "max_height": null,
            "align_content": null,
            "visibility": null,
            "align_self": null,
            "height": null,
            "min_height": null,
            "padding": null,
            "grid_auto_rows": null,
            "grid_gap": null,
            "max_width": null,
            "order": null,
            "_view_module_version": "1.2.0",
            "grid_template_areas": null,
            "object_position": null,
            "object_fit": null,
            "grid_auto_columns": null,
            "margin": null,
            "display": null,
            "left": null
          },
          "model_module_version": "1.2.0"
        },
        "89d2bd9245e64498bbefc5ae2e24a0c5": {
          "model_module": "@jupyter-widgets/controls",
          "model_name": "HBoxModel",
          "state": {
            "_view_name": "HBoxView",
            "_dom_classes": [],
            "_model_name": "HBoxModel",
            "_view_module": "@jupyter-widgets/controls",
            "_model_module_version": "1.5.0",
            "_view_count": null,
            "_view_module_version": "1.5.0",
            "box_style": "",
            "layout": "IPY_MODEL_fb8cd6d53c704b659201235970289e52",
            "_model_module": "@jupyter-widgets/controls",
            "children": [
              "IPY_MODEL_6d08d81b05034625b35aef916a1afa49",
              "IPY_MODEL_ef18f02f28794b6396ad55a7dfc0c37e"
            ]
          },
          "model_module_version": "1.5.0"
        },
        "fb8cd6d53c704b659201235970289e52": {
          "model_module": "@jupyter-widgets/base",
          "model_name": "LayoutModel",
          "state": {
            "_view_name": "LayoutView",
            "grid_template_rows": null,
            "right": null,
            "justify_content": null,
            "_view_module": "@jupyter-widgets/base",
            "overflow": null,
            "_model_module_version": "1.2.0",
            "_view_count": null,
            "flex_flow": null,
            "width": null,
            "min_width": null,
            "border": null,
            "align_items": null,
            "bottom": null,
            "_model_module": "@jupyter-widgets/base",
            "top": null,
            "grid_column": null,
            "overflow_y": null,
            "overflow_x": null,
            "grid_auto_flow": null,
            "grid_area": null,
            "grid_template_columns": null,
            "flex": null,
            "_model_name": "LayoutModel",
            "justify_items": null,
            "grid_row": null,
            "max_height": null,
            "align_content": null,
            "visibility": null,
            "align_self": null,
            "height": null,
            "min_height": null,
            "padding": null,
            "grid_auto_rows": null,
            "grid_gap": null,
            "max_width": null,
            "order": null,
            "_view_module_version": "1.2.0",
            "grid_template_areas": null,
            "object_position": null,
            "object_fit": null,
            "grid_auto_columns": null,
            "margin": null,
            "display": null,
            "left": null
          },
          "model_module_version": "1.2.0"
        },
        "6d08d81b05034625b35aef916a1afa49": {
          "model_module": "@jupyter-widgets/controls",
          "model_name": "FloatProgressModel",
          "state": {
            "_view_name": "ProgressView",
            "style": "IPY_MODEL_accbee74cde24b6588a66a21cb8c8c5b",
            "_dom_classes": [],
            "description": "#0: 100%",
            "_model_name": "FloatProgressModel",
            "bar_style": "success",
            "max": 32,
            "_view_module": "@jupyter-widgets/controls",
            "_model_module_version": "1.5.0",
            "value": 32,
            "_view_count": null,
            "_view_module_version": "1.5.0",
            "orientation": "horizontal",
            "min": 0,
            "description_tooltip": null,
            "_model_module": "@jupyter-widgets/controls",
            "layout": "IPY_MODEL_27f270e2dc15424aab3589d7ea4aba54"
          },
          "model_module_version": "1.5.0"
        },
        "ef18f02f28794b6396ad55a7dfc0c37e": {
          "model_module": "@jupyter-widgets/controls",
          "model_name": "HTMLModel",
          "state": {
            "_view_name": "HTMLView",
            "style": "IPY_MODEL_f375bc86919840f0aca7740ef5a173e4",
            "_dom_classes": [],
            "description": "",
            "_model_name": "HTMLModel",
            "placeholder": "​",
            "_view_module": "@jupyter-widgets/controls",
            "_model_module_version": "1.5.0",
            "value": " 32/32 [00:14&lt;00:00,  2.26ex/s]",
            "_view_count": null,
            "_view_module_version": "1.5.0",
            "description_tooltip": null,
            "_model_module": "@jupyter-widgets/controls",
            "layout": "IPY_MODEL_4c11daa355c94822a1f89423cb2f7f90"
          },
          "model_module_version": "1.5.0"
        },
        "accbee74cde24b6588a66a21cb8c8c5b": {
          "model_module": "@jupyter-widgets/controls",
          "model_name": "ProgressStyleModel",
          "state": {
            "_view_name": "StyleView",
            "_model_name": "ProgressStyleModel",
            "description_width": "initial",
            "_view_module": "@jupyter-widgets/base",
            "_model_module_version": "1.5.0",
            "_view_count": null,
            "_view_module_version": "1.2.0",
            "bar_color": null,
            "_model_module": "@jupyter-widgets/controls"
          },
          "model_module_version": "1.5.0"
        },
        "27f270e2dc15424aab3589d7ea4aba54": {
          "model_module": "@jupyter-widgets/base",
          "model_name": "LayoutModel",
          "state": {
            "_view_name": "LayoutView",
            "grid_template_rows": null,
            "right": null,
            "justify_content": null,
            "_view_module": "@jupyter-widgets/base",
            "overflow": null,
            "_model_module_version": "1.2.0",
            "_view_count": null,
            "flex_flow": null,
            "width": null,
            "min_width": null,
            "border": null,
            "align_items": null,
            "bottom": null,
            "_model_module": "@jupyter-widgets/base",
            "top": null,
            "grid_column": null,
            "overflow_y": null,
            "overflow_x": null,
            "grid_auto_flow": null,
            "grid_area": null,
            "grid_template_columns": null,
            "flex": null,
            "_model_name": "LayoutModel",
            "justify_items": null,
            "grid_row": null,
            "max_height": null,
            "align_content": null,
            "visibility": null,
            "align_self": null,
            "height": null,
            "min_height": null,
            "padding": null,
            "grid_auto_rows": null,
            "grid_gap": null,
            "max_width": null,
            "order": null,
            "_view_module_version": "1.2.0",
            "grid_template_areas": null,
            "object_position": null,
            "object_fit": null,
            "grid_auto_columns": null,
            "margin": null,
            "display": null,
            "left": null
          },
          "model_module_version": "1.2.0"
        },
        "f375bc86919840f0aca7740ef5a173e4": {
          "model_module": "@jupyter-widgets/controls",
          "model_name": "DescriptionStyleModel",
          "state": {
            "_view_name": "StyleView",
            "_model_name": "DescriptionStyleModel",
            "description_width": "",
            "_view_module": "@jupyter-widgets/base",
            "_model_module_version": "1.5.0",
            "_view_count": null,
            "_view_module_version": "1.2.0",
            "_model_module": "@jupyter-widgets/controls"
          },
          "model_module_version": "1.5.0"
        },
        "4c11daa355c94822a1f89423cb2f7f90": {
          "model_module": "@jupyter-widgets/base",
          "model_name": "LayoutModel",
          "state": {
            "_view_name": "LayoutView",
            "grid_template_rows": null,
            "right": null,
            "justify_content": null,
            "_view_module": "@jupyter-widgets/base",
            "overflow": null,
            "_model_module_version": "1.2.0",
            "_view_count": null,
            "flex_flow": null,
            "width": null,
            "min_width": null,
            "border": null,
            "align_items": null,
            "bottom": null,
            "_model_module": "@jupyter-widgets/base",
            "top": null,
            "grid_column": null,
            "overflow_y": null,
            "overflow_x": null,
            "grid_auto_flow": null,
            "grid_area": null,
            "grid_template_columns": null,
            "flex": null,
            "_model_name": "LayoutModel",
            "justify_items": null,
            "grid_row": null,
            "max_height": null,
            "align_content": null,
            "visibility": null,
            "align_self": null,
            "height": null,
            "min_height": null,
            "padding": null,
            "grid_auto_rows": null,
            "grid_gap": null,
            "max_width": null,
            "order": null,
            "_view_module_version": "1.2.0",
            "grid_template_areas": null,
            "object_position": null,
            "object_fit": null,
            "grid_auto_columns": null,
            "margin": null,
            "display": null,
            "left": null
          },
          "model_module_version": "1.2.0"
        },
        "eb7667c56ea94e8b989275a404bfb83d": {
          "model_module": "@jupyter-widgets/controls",
          "model_name": "HBoxModel",
          "state": {
            "_view_name": "HBoxView",
            "_dom_classes": [],
            "_model_name": "HBoxModel",
            "_view_module": "@jupyter-widgets/controls",
            "_model_module_version": "1.5.0",
            "_view_count": null,
            "_view_module_version": "1.5.0",
            "box_style": "",
            "layout": "IPY_MODEL_eb1bbd2056074692b48f4d8bf218f70f",
            "_model_module": "@jupyter-widgets/controls",
            "children": [
              "IPY_MODEL_78092750ff6c4e3bbc487c6cf63a04c2",
              "IPY_MODEL_eb880a5d5f7146b9a3a04e661ab5f767"
            ]
          },
          "model_module_version": "1.5.0"
        },
        "eb1bbd2056074692b48f4d8bf218f70f": {
          "model_module": "@jupyter-widgets/base",
          "model_name": "LayoutModel",
          "state": {
            "_view_name": "LayoutView",
            "grid_template_rows": null,
            "right": null,
            "justify_content": null,
            "_view_module": "@jupyter-widgets/base",
            "overflow": null,
            "_model_module_version": "1.2.0",
            "_view_count": null,
            "flex_flow": null,
            "width": null,
            "min_width": null,
            "border": null,
            "align_items": null,
            "bottom": null,
            "_model_module": "@jupyter-widgets/base",
            "top": null,
            "grid_column": null,
            "overflow_y": null,
            "overflow_x": null,
            "grid_auto_flow": null,
            "grid_area": null,
            "grid_template_columns": null,
            "flex": null,
            "_model_name": "LayoutModel",
            "justify_items": null,
            "grid_row": null,
            "max_height": null,
            "align_content": null,
            "visibility": null,
            "align_self": null,
            "height": null,
            "min_height": null,
            "padding": null,
            "grid_auto_rows": null,
            "grid_gap": null,
            "max_width": null,
            "order": null,
            "_view_module_version": "1.2.0",
            "grid_template_areas": null,
            "object_position": null,
            "object_fit": null,
            "grid_auto_columns": null,
            "margin": null,
            "display": null,
            "left": null
          },
          "model_module_version": "1.2.0"
        },
        "78092750ff6c4e3bbc487c6cf63a04c2": {
          "model_module": "@jupyter-widgets/controls",
          "model_name": "FloatProgressModel",
          "state": {
            "_view_name": "ProgressView",
            "style": "IPY_MODEL_ce7a26fa000248f69bb6091b38e350f7",
            "_dom_classes": [],
            "description": "#1: 100%",
            "_model_name": "FloatProgressModel",
            "bar_style": "success",
            "max": 32,
            "_view_module": "@jupyter-widgets/controls",
            "_model_module_version": "1.5.0",
            "value": 32,
            "_view_count": null,
            "_view_module_version": "1.5.0",
            "orientation": "horizontal",
            "min": 0,
            "description_tooltip": null,
            "_model_module": "@jupyter-widgets/controls",
            "layout": "IPY_MODEL_4ad324adfd4248309a1ea7002d6d1723"
          },
          "model_module_version": "1.5.0"
        },
        "eb880a5d5f7146b9a3a04e661ab5f767": {
          "model_module": "@jupyter-widgets/controls",
          "model_name": "HTMLModel",
          "state": {
            "_view_name": "HTMLView",
            "style": "IPY_MODEL_30fa4aa209104233ae4f3e7298b571d5",
            "_dom_classes": [],
            "description": "",
            "_model_name": "HTMLModel",
            "placeholder": "​",
            "_view_module": "@jupyter-widgets/controls",
            "_model_module_version": "1.5.0",
            "value": " 32/32 [00:15&lt;00:00,  2.09ex/s]",
            "_view_count": null,
            "_view_module_version": "1.5.0",
            "description_tooltip": null,
            "_model_module": "@jupyter-widgets/controls",
            "layout": "IPY_MODEL_39267b3d616941af80c4f3d69386af96"
          },
          "model_module_version": "1.5.0"
        },
        "ce7a26fa000248f69bb6091b38e350f7": {
          "model_module": "@jupyter-widgets/controls",
          "model_name": "ProgressStyleModel",
          "state": {
            "_view_name": "StyleView",
            "_model_name": "ProgressStyleModel",
            "description_width": "initial",
            "_view_module": "@jupyter-widgets/base",
            "_model_module_version": "1.5.0",
            "_view_count": null,
            "_view_module_version": "1.2.0",
            "bar_color": null,
            "_model_module": "@jupyter-widgets/controls"
          },
          "model_module_version": "1.5.0"
        },
        "4ad324adfd4248309a1ea7002d6d1723": {
          "model_module": "@jupyter-widgets/base",
          "model_name": "LayoutModel",
          "state": {
            "_view_name": "LayoutView",
            "grid_template_rows": null,
            "right": null,
            "justify_content": null,
            "_view_module": "@jupyter-widgets/base",
            "overflow": null,
            "_model_module_version": "1.2.0",
            "_view_count": null,
            "flex_flow": null,
            "width": null,
            "min_width": null,
            "border": null,
            "align_items": null,
            "bottom": null,
            "_model_module": "@jupyter-widgets/base",
            "top": null,
            "grid_column": null,
            "overflow_y": null,
            "overflow_x": null,
            "grid_auto_flow": null,
            "grid_area": null,
            "grid_template_columns": null,
            "flex": null,
            "_model_name": "LayoutModel",
            "justify_items": null,
            "grid_row": null,
            "max_height": null,
            "align_content": null,
            "visibility": null,
            "align_self": null,
            "height": null,
            "min_height": null,
            "padding": null,
            "grid_auto_rows": null,
            "grid_gap": null,
            "max_width": null,
            "order": null,
            "_view_module_version": "1.2.0",
            "grid_template_areas": null,
            "object_position": null,
            "object_fit": null,
            "grid_auto_columns": null,
            "margin": null,
            "display": null,
            "left": null
          },
          "model_module_version": "1.2.0"
        },
        "30fa4aa209104233ae4f3e7298b571d5": {
          "model_module": "@jupyter-widgets/controls",
          "model_name": "DescriptionStyleModel",
          "state": {
            "_view_name": "StyleView",
            "_model_name": "DescriptionStyleModel",
            "description_width": "",
            "_view_module": "@jupyter-widgets/base",
            "_model_module_version": "1.5.0",
            "_view_count": null,
            "_view_module_version": "1.2.0",
            "_model_module": "@jupyter-widgets/controls"
          },
          "model_module_version": "1.5.0"
        },
        "39267b3d616941af80c4f3d69386af96": {
          "model_module": "@jupyter-widgets/base",
          "model_name": "LayoutModel",
          "state": {
            "_view_name": "LayoutView",
            "grid_template_rows": null,
            "right": null,
            "justify_content": null,
            "_view_module": "@jupyter-widgets/base",
            "overflow": null,
            "_model_module_version": "1.2.0",
            "_view_count": null,
            "flex_flow": null,
            "width": null,
            "min_width": null,
            "border": null,
            "align_items": null,
            "bottom": null,
            "_model_module": "@jupyter-widgets/base",
            "top": null,
            "grid_column": null,
            "overflow_y": null,
            "overflow_x": null,
            "grid_auto_flow": null,
            "grid_area": null,
            "grid_template_columns": null,
            "flex": null,
            "_model_name": "LayoutModel",
            "justify_items": null,
            "grid_row": null,
            "max_height": null,
            "align_content": null,
            "visibility": null,
            "align_self": null,
            "height": null,
            "min_height": null,
            "padding": null,
            "grid_auto_rows": null,
            "grid_gap": null,
            "max_width": null,
            "order": null,
            "_view_module_version": "1.2.0",
            "grid_template_areas": null,
            "object_position": null,
            "object_fit": null,
            "grid_auto_columns": null,
            "margin": null,
            "display": null,
            "left": null
          },
          "model_module_version": "1.2.0"
        },
        "f7616b9299f94195aec0d5c2247ec7e3": {
          "model_module": "@jupyter-widgets/controls",
          "model_name": "HBoxModel",
          "state": {
            "_view_name": "HBoxView",
            "_dom_classes": [],
            "_model_name": "HBoxModel",
            "_view_module": "@jupyter-widgets/controls",
            "_model_module_version": "1.5.0",
            "_view_count": null,
            "_view_module_version": "1.5.0",
            "box_style": "",
            "layout": "IPY_MODEL_bc7bf7a9b5f34ef8bc79976b7aba0ef9",
            "_model_module": "@jupyter-widgets/controls",
            "children": [
              "IPY_MODEL_349a548a6c1c4f3ea0b6eac0ffd035cf",
              "IPY_MODEL_a2d9be6f0c33480f894312416cb32145"
            ]
          },
          "model_module_version": "1.5.0"
        },
        "bc7bf7a9b5f34ef8bc79976b7aba0ef9": {
          "model_module": "@jupyter-widgets/base",
          "model_name": "LayoutModel",
          "state": {
            "_view_name": "LayoutView",
            "grid_template_rows": null,
            "right": null,
            "justify_content": null,
            "_view_module": "@jupyter-widgets/base",
            "overflow": null,
            "_model_module_version": "1.2.0",
            "_view_count": null,
            "flex_flow": null,
            "width": null,
            "min_width": null,
            "border": null,
            "align_items": null,
            "bottom": null,
            "_model_module": "@jupyter-widgets/base",
            "top": null,
            "grid_column": null,
            "overflow_y": null,
            "overflow_x": null,
            "grid_auto_flow": null,
            "grid_area": null,
            "grid_template_columns": null,
            "flex": null,
            "_model_name": "LayoutModel",
            "justify_items": null,
            "grid_row": null,
            "max_height": null,
            "align_content": null,
            "visibility": null,
            "align_self": null,
            "height": null,
            "min_height": null,
            "padding": null,
            "grid_auto_rows": null,
            "grid_gap": null,
            "max_width": null,
            "order": null,
            "_view_module_version": "1.2.0",
            "grid_template_areas": null,
            "object_position": null,
            "object_fit": null,
            "grid_auto_columns": null,
            "margin": null,
            "display": null,
            "left": null
          },
          "model_module_version": "1.2.0"
        },
        "349a548a6c1c4f3ea0b6eac0ffd035cf": {
          "model_module": "@jupyter-widgets/controls",
          "model_name": "FloatProgressModel",
          "state": {
            "_view_name": "ProgressView",
            "style": "IPY_MODEL_86d4e85b76fa4eecba79785f0bb44e30",
            "_dom_classes": [],
            "description": "#3: 100%",
            "_model_name": "FloatProgressModel",
            "bar_style": "success",
            "max": 31,
            "_view_module": "@jupyter-widgets/controls",
            "_model_module_version": "1.5.0",
            "value": 31,
            "_view_count": null,
            "_view_module_version": "1.5.0",
            "orientation": "horizontal",
            "min": 0,
            "description_tooltip": null,
            "_model_module": "@jupyter-widgets/controls",
            "layout": "IPY_MODEL_8b16aaa7130a4d23ae4619f2c7716063"
          },
          "model_module_version": "1.5.0"
        },
        "a2d9be6f0c33480f894312416cb32145": {
          "model_module": "@jupyter-widgets/controls",
          "model_name": "HTMLModel",
          "state": {
            "_view_name": "HTMLView",
            "style": "IPY_MODEL_1aa07f1393d1437082580e07b53e018b",
            "_dom_classes": [],
            "description": "",
            "_model_name": "HTMLModel",
            "placeholder": "​",
            "_view_module": "@jupyter-widgets/controls",
            "_model_module_version": "1.5.0",
            "value": " 31/31 [00:15&lt;00:00,  2.03ex/s]",
            "_view_count": null,
            "_view_module_version": "1.5.0",
            "description_tooltip": null,
            "_model_module": "@jupyter-widgets/controls",
            "layout": "IPY_MODEL_4d3a63a5ba4741e1a8a00c028d22f198"
          },
          "model_module_version": "1.5.0"
        },
        "86d4e85b76fa4eecba79785f0bb44e30": {
          "model_module": "@jupyter-widgets/controls",
          "model_name": "ProgressStyleModel",
          "state": {
            "_view_name": "StyleView",
            "_model_name": "ProgressStyleModel",
            "description_width": "initial",
            "_view_module": "@jupyter-widgets/base",
            "_model_module_version": "1.5.0",
            "_view_count": null,
            "_view_module_version": "1.2.0",
            "bar_color": null,
            "_model_module": "@jupyter-widgets/controls"
          },
          "model_module_version": "1.5.0"
        },
        "8b16aaa7130a4d23ae4619f2c7716063": {
          "model_module": "@jupyter-widgets/base",
          "model_name": "LayoutModel",
          "state": {
            "_view_name": "LayoutView",
            "grid_template_rows": null,
            "right": null,
            "justify_content": null,
            "_view_module": "@jupyter-widgets/base",
            "overflow": null,
            "_model_module_version": "1.2.0",
            "_view_count": null,
            "flex_flow": null,
            "width": null,
            "min_width": null,
            "border": null,
            "align_items": null,
            "bottom": null,
            "_model_module": "@jupyter-widgets/base",
            "top": null,
            "grid_column": null,
            "overflow_y": null,
            "overflow_x": null,
            "grid_auto_flow": null,
            "grid_area": null,
            "grid_template_columns": null,
            "flex": null,
            "_model_name": "LayoutModel",
            "justify_items": null,
            "grid_row": null,
            "max_height": null,
            "align_content": null,
            "visibility": null,
            "align_self": null,
            "height": null,
            "min_height": null,
            "padding": null,
            "grid_auto_rows": null,
            "grid_gap": null,
            "max_width": null,
            "order": null,
            "_view_module_version": "1.2.0",
            "grid_template_areas": null,
            "object_position": null,
            "object_fit": null,
            "grid_auto_columns": null,
            "margin": null,
            "display": null,
            "left": null
          },
          "model_module_version": "1.2.0"
        },
        "1aa07f1393d1437082580e07b53e018b": {
          "model_module": "@jupyter-widgets/controls",
          "model_name": "DescriptionStyleModel",
          "state": {
            "_view_name": "StyleView",
            "_model_name": "DescriptionStyleModel",
            "description_width": "",
            "_view_module": "@jupyter-widgets/base",
            "_model_module_version": "1.5.0",
            "_view_count": null,
            "_view_module_version": "1.2.0",
            "_model_module": "@jupyter-widgets/controls"
          },
          "model_module_version": "1.5.0"
        },
        "4d3a63a5ba4741e1a8a00c028d22f198": {
          "model_module": "@jupyter-widgets/base",
          "model_name": "LayoutModel",
          "state": {
            "_view_name": "LayoutView",
            "grid_template_rows": null,
            "right": null,
            "justify_content": null,
            "_view_module": "@jupyter-widgets/base",
            "overflow": null,
            "_model_module_version": "1.2.0",
            "_view_count": null,
            "flex_flow": null,
            "width": null,
            "min_width": null,
            "border": null,
            "align_items": null,
            "bottom": null,
            "_model_module": "@jupyter-widgets/base",
            "top": null,
            "grid_column": null,
            "overflow_y": null,
            "overflow_x": null,
            "grid_auto_flow": null,
            "grid_area": null,
            "grid_template_columns": null,
            "flex": null,
            "_model_name": "LayoutModel",
            "justify_items": null,
            "grid_row": null,
            "max_height": null,
            "align_content": null,
            "visibility": null,
            "align_self": null,
            "height": null,
            "min_height": null,
            "padding": null,
            "grid_auto_rows": null,
            "grid_gap": null,
            "max_width": null,
            "order": null,
            "_view_module_version": "1.2.0",
            "grid_template_areas": null,
            "object_position": null,
            "object_fit": null,
            "grid_auto_columns": null,
            "margin": null,
            "display": null,
            "left": null
          },
          "model_module_version": "1.2.0"
        },
        "ed810998db004098996ff38818507315": {
          "model_module": "@jupyter-widgets/controls",
          "model_name": "HBoxModel",
          "state": {
            "_view_name": "HBoxView",
            "_dom_classes": [],
            "_model_name": "HBoxModel",
            "_view_module": "@jupyter-widgets/controls",
            "_model_module_version": "1.5.0",
            "_view_count": null,
            "_view_module_version": "1.5.0",
            "box_style": "",
            "layout": "IPY_MODEL_c1ef753f69d54abcb9e99eca7fbb4fe5",
            "_model_module": "@jupyter-widgets/controls",
            "children": [
              "IPY_MODEL_06ecab0ddf8243699060be733e29a1cf",
              "IPY_MODEL_abe7ab5b8b08423bb92511e2dedf5fd0"
            ]
          },
          "model_module_version": "1.5.0"
        },
        "c1ef753f69d54abcb9e99eca7fbb4fe5": {
          "model_module": "@jupyter-widgets/base",
          "model_name": "LayoutModel",
          "state": {
            "_view_name": "LayoutView",
            "grid_template_rows": null,
            "right": null,
            "justify_content": null,
            "_view_module": "@jupyter-widgets/base",
            "overflow": null,
            "_model_module_version": "1.2.0",
            "_view_count": null,
            "flex_flow": null,
            "width": null,
            "min_width": null,
            "border": null,
            "align_items": null,
            "bottom": null,
            "_model_module": "@jupyter-widgets/base",
            "top": null,
            "grid_column": null,
            "overflow_y": null,
            "overflow_x": null,
            "grid_auto_flow": null,
            "grid_area": null,
            "grid_template_columns": null,
            "flex": null,
            "_model_name": "LayoutModel",
            "justify_items": null,
            "grid_row": null,
            "max_height": null,
            "align_content": null,
            "visibility": null,
            "align_self": null,
            "height": null,
            "min_height": null,
            "padding": null,
            "grid_auto_rows": null,
            "grid_gap": null,
            "max_width": null,
            "order": null,
            "_view_module_version": "1.2.0",
            "grid_template_areas": null,
            "object_position": null,
            "object_fit": null,
            "grid_auto_columns": null,
            "margin": null,
            "display": null,
            "left": null
          },
          "model_module_version": "1.2.0"
        },
        "06ecab0ddf8243699060be733e29a1cf": {
          "model_module": "@jupyter-widgets/controls",
          "model_name": "FloatProgressModel",
          "state": {
            "_view_name": "ProgressView",
            "style": "IPY_MODEL_8c3c881bbdf8414ea89b150ca29ad714",
            "_dom_classes": [],
            "description": "#2: 100%",
            "_model_name": "FloatProgressModel",
            "bar_style": "success",
            "max": 32,
            "_view_module": "@jupyter-widgets/controls",
            "_model_module_version": "1.5.0",
            "value": 32,
            "_view_count": null,
            "_view_module_version": "1.5.0",
            "orientation": "horizontal",
            "min": 0,
            "description_tooltip": null,
            "_model_module": "@jupyter-widgets/controls",
            "layout": "IPY_MODEL_bd1e050850224f16be64bf81a681d0fa"
          },
          "model_module_version": "1.5.0"
        },
        "abe7ab5b8b08423bb92511e2dedf5fd0": {
          "model_module": "@jupyter-widgets/controls",
          "model_name": "HTMLModel",
          "state": {
            "_view_name": "HTMLView",
            "style": "IPY_MODEL_d66b5de5855f41ffb07529d24d41158d",
            "_dom_classes": [],
            "description": "",
            "_model_name": "HTMLModel",
            "placeholder": "​",
            "_view_module": "@jupyter-widgets/controls",
            "_model_module_version": "1.5.0",
            "value": " 32/32 [00:14&lt;00:00,  2.25ex/s]",
            "_view_count": null,
            "_view_module_version": "1.5.0",
            "description_tooltip": null,
            "_model_module": "@jupyter-widgets/controls",
            "layout": "IPY_MODEL_93f011dfe5624fe3a955174526b50dc8"
          },
          "model_module_version": "1.5.0"
        },
        "8c3c881bbdf8414ea89b150ca29ad714": {
          "model_module": "@jupyter-widgets/controls",
          "model_name": "ProgressStyleModel",
          "state": {
            "_view_name": "StyleView",
            "_model_name": "ProgressStyleModel",
            "description_width": "initial",
            "_view_module": "@jupyter-widgets/base",
            "_model_module_version": "1.5.0",
            "_view_count": null,
            "_view_module_version": "1.2.0",
            "bar_color": null,
            "_model_module": "@jupyter-widgets/controls"
          },
          "model_module_version": "1.5.0"
        },
        "bd1e050850224f16be64bf81a681d0fa": {
          "model_module": "@jupyter-widgets/base",
          "model_name": "LayoutModel",
          "state": {
            "_view_name": "LayoutView",
            "grid_template_rows": null,
            "right": null,
            "justify_content": null,
            "_view_module": "@jupyter-widgets/base",
            "overflow": null,
            "_model_module_version": "1.2.0",
            "_view_count": null,
            "flex_flow": null,
            "width": null,
            "min_width": null,
            "border": null,
            "align_items": null,
            "bottom": null,
            "_model_module": "@jupyter-widgets/base",
            "top": null,
            "grid_column": null,
            "overflow_y": null,
            "overflow_x": null,
            "grid_auto_flow": null,
            "grid_area": null,
            "grid_template_columns": null,
            "flex": null,
            "_model_name": "LayoutModel",
            "justify_items": null,
            "grid_row": null,
            "max_height": null,
            "align_content": null,
            "visibility": null,
            "align_self": null,
            "height": null,
            "min_height": null,
            "padding": null,
            "grid_auto_rows": null,
            "grid_gap": null,
            "max_width": null,
            "order": null,
            "_view_module_version": "1.2.0",
            "grid_template_areas": null,
            "object_position": null,
            "object_fit": null,
            "grid_auto_columns": null,
            "margin": null,
            "display": null,
            "left": null
          },
          "model_module_version": "1.2.0"
        },
        "d66b5de5855f41ffb07529d24d41158d": {
          "model_module": "@jupyter-widgets/controls",
          "model_name": "DescriptionStyleModel",
          "state": {
            "_view_name": "StyleView",
            "_model_name": "DescriptionStyleModel",
            "description_width": "",
            "_view_module": "@jupyter-widgets/base",
            "_model_module_version": "1.5.0",
            "_view_count": null,
            "_view_module_version": "1.2.0",
            "_model_module": "@jupyter-widgets/controls"
          },
          "model_module_version": "1.5.0"
        },
        "93f011dfe5624fe3a955174526b50dc8": {
          "model_module": "@jupyter-widgets/base",
          "model_name": "LayoutModel",
          "state": {
            "_view_name": "LayoutView",
            "grid_template_rows": null,
            "right": null,
            "justify_content": null,
            "_view_module": "@jupyter-widgets/base",
            "overflow": null,
            "_model_module_version": "1.2.0",
            "_view_count": null,
            "flex_flow": null,
            "width": null,
            "min_width": null,
            "border": null,
            "align_items": null,
            "bottom": null,
            "_model_module": "@jupyter-widgets/base",
            "top": null,
            "grid_column": null,
            "overflow_y": null,
            "overflow_x": null,
            "grid_auto_flow": null,
            "grid_area": null,
            "grid_template_columns": null,
            "flex": null,
            "_model_name": "LayoutModel",
            "justify_items": null,
            "grid_row": null,
            "max_height": null,
            "align_content": null,
            "visibility": null,
            "align_self": null,
            "height": null,
            "min_height": null,
            "padding": null,
            "grid_auto_rows": null,
            "grid_gap": null,
            "max_width": null,
            "order": null,
            "_view_module_version": "1.2.0",
            "grid_template_areas": null,
            "object_position": null,
            "object_fit": null,
            "grid_auto_columns": null,
            "margin": null,
            "display": null,
            "left": null
          },
          "model_module_version": "1.2.0"
        },
        "0b6afc7262fc4385939cb0db12214459": {
          "model_module": "@jupyter-widgets/controls",
          "model_name": "HBoxModel",
          "state": {
            "_view_name": "HBoxView",
            "_dom_classes": [],
            "_model_name": "HBoxModel",
            "_view_module": "@jupyter-widgets/controls",
            "_model_module_version": "1.5.0",
            "_view_count": null,
            "_view_module_version": "1.5.0",
            "box_style": "",
            "layout": "IPY_MODEL_29f9f51d5b5c4feca2b41884a7d9f978",
            "_model_module": "@jupyter-widgets/controls",
            "children": [
              "IPY_MODEL_a53b48de44184f589076693b0262bad9",
              "IPY_MODEL_45aade76b5964490b3cccab64aff9dbb"
            ]
          },
          "model_module_version": "1.5.0"
        },
        "29f9f51d5b5c4feca2b41884a7d9f978": {
          "model_module": "@jupyter-widgets/base",
          "model_name": "LayoutModel",
          "state": {
            "_view_name": "LayoutView",
            "grid_template_rows": null,
            "right": null,
            "justify_content": null,
            "_view_module": "@jupyter-widgets/base",
            "overflow": null,
            "_model_module_version": "1.2.0",
            "_view_count": null,
            "flex_flow": null,
            "width": null,
            "min_width": null,
            "border": null,
            "align_items": null,
            "bottom": null,
            "_model_module": "@jupyter-widgets/base",
            "top": null,
            "grid_column": null,
            "overflow_y": null,
            "overflow_x": null,
            "grid_auto_flow": null,
            "grid_area": null,
            "grid_template_columns": null,
            "flex": null,
            "_model_name": "LayoutModel",
            "justify_items": null,
            "grid_row": null,
            "max_height": null,
            "align_content": null,
            "visibility": null,
            "align_self": null,
            "height": null,
            "min_height": null,
            "padding": null,
            "grid_auto_rows": null,
            "grid_gap": null,
            "max_width": null,
            "order": null,
            "_view_module_version": "1.2.0",
            "grid_template_areas": null,
            "object_position": null,
            "object_fit": null,
            "grid_auto_columns": null,
            "margin": null,
            "display": null,
            "left": null
          },
          "model_module_version": "1.2.0"
        },
        "a53b48de44184f589076693b0262bad9": {
          "model_module": "@jupyter-widgets/controls",
          "model_name": "FloatProgressModel",
          "state": {
            "_view_name": "ProgressView",
            "style": "IPY_MODEL_3b074c2cd5a84044a362e1c4e70681d2",
            "_dom_classes": [],
            "description": "#1: 100%",
            "_model_name": "FloatProgressModel",
            "bar_style": "success",
            "max": 10,
            "_view_module": "@jupyter-widgets/controls",
            "_model_module_version": "1.5.0",
            "value": 10,
            "_view_count": null,
            "_view_module_version": "1.5.0",
            "orientation": "horizontal",
            "min": 0,
            "description_tooltip": null,
            "_model_module": "@jupyter-widgets/controls",
            "layout": "IPY_MODEL_746916cf46ec4b8497120b7e5748f856"
          },
          "model_module_version": "1.5.0"
        },
        "45aade76b5964490b3cccab64aff9dbb": {
          "model_module": "@jupyter-widgets/controls",
          "model_name": "HTMLModel",
          "state": {
            "_view_name": "HTMLView",
            "style": "IPY_MODEL_29593083673141708faa21d3496aaa08",
            "_dom_classes": [],
            "description": "",
            "_model_name": "HTMLModel",
            "placeholder": "​",
            "_view_module": "@jupyter-widgets/controls",
            "_model_module_version": "1.5.0",
            "value": " 10/10 [00:05&lt;00:00,  1.90ba/s]",
            "_view_count": null,
            "_view_module_version": "1.5.0",
            "description_tooltip": null,
            "_model_module": "@jupyter-widgets/controls",
            "layout": "IPY_MODEL_6af77e60145847d3b2887f2519cd3fcb"
          },
          "model_module_version": "1.5.0"
        },
        "3b074c2cd5a84044a362e1c4e70681d2": {
          "model_module": "@jupyter-widgets/controls",
          "model_name": "ProgressStyleModel",
          "state": {
            "_view_name": "StyleView",
            "_model_name": "ProgressStyleModel",
            "description_width": "initial",
            "_view_module": "@jupyter-widgets/base",
            "_model_module_version": "1.5.0",
            "_view_count": null,
            "_view_module_version": "1.2.0",
            "bar_color": null,
            "_model_module": "@jupyter-widgets/controls"
          },
          "model_module_version": "1.5.0"
        },
        "746916cf46ec4b8497120b7e5748f856": {
          "model_module": "@jupyter-widgets/base",
          "model_name": "LayoutModel",
          "state": {
            "_view_name": "LayoutView",
            "grid_template_rows": null,
            "right": null,
            "justify_content": null,
            "_view_module": "@jupyter-widgets/base",
            "overflow": null,
            "_model_module_version": "1.2.0",
            "_view_count": null,
            "flex_flow": null,
            "width": null,
            "min_width": null,
            "border": null,
            "align_items": null,
            "bottom": null,
            "_model_module": "@jupyter-widgets/base",
            "top": null,
            "grid_column": null,
            "overflow_y": null,
            "overflow_x": null,
            "grid_auto_flow": null,
            "grid_area": null,
            "grid_template_columns": null,
            "flex": null,
            "_model_name": "LayoutModel",
            "justify_items": null,
            "grid_row": null,
            "max_height": null,
            "align_content": null,
            "visibility": null,
            "align_self": null,
            "height": null,
            "min_height": null,
            "padding": null,
            "grid_auto_rows": null,
            "grid_gap": null,
            "max_width": null,
            "order": null,
            "_view_module_version": "1.2.0",
            "grid_template_areas": null,
            "object_position": null,
            "object_fit": null,
            "grid_auto_columns": null,
            "margin": null,
            "display": null,
            "left": null
          },
          "model_module_version": "1.2.0"
        },
        "29593083673141708faa21d3496aaa08": {
          "model_module": "@jupyter-widgets/controls",
          "model_name": "DescriptionStyleModel",
          "state": {
            "_view_name": "StyleView",
            "_model_name": "DescriptionStyleModel",
            "description_width": "",
            "_view_module": "@jupyter-widgets/base",
            "_model_module_version": "1.5.0",
            "_view_count": null,
            "_view_module_version": "1.2.0",
            "_model_module": "@jupyter-widgets/controls"
          },
          "model_module_version": "1.5.0"
        },
        "6af77e60145847d3b2887f2519cd3fcb": {
          "model_module": "@jupyter-widgets/base",
          "model_name": "LayoutModel",
          "state": {
            "_view_name": "LayoutView",
            "grid_template_rows": null,
            "right": null,
            "justify_content": null,
            "_view_module": "@jupyter-widgets/base",
            "overflow": null,
            "_model_module_version": "1.2.0",
            "_view_count": null,
            "flex_flow": null,
            "width": null,
            "min_width": null,
            "border": null,
            "align_items": null,
            "bottom": null,
            "_model_module": "@jupyter-widgets/base",
            "top": null,
            "grid_column": null,
            "overflow_y": null,
            "overflow_x": null,
            "grid_auto_flow": null,
            "grid_area": null,
            "grid_template_columns": null,
            "flex": null,
            "_model_name": "LayoutModel",
            "justify_items": null,
            "grid_row": null,
            "max_height": null,
            "align_content": null,
            "visibility": null,
            "align_self": null,
            "height": null,
            "min_height": null,
            "padding": null,
            "grid_auto_rows": null,
            "grid_gap": null,
            "max_width": null,
            "order": null,
            "_view_module_version": "1.2.0",
            "grid_template_areas": null,
            "object_position": null,
            "object_fit": null,
            "grid_auto_columns": null,
            "margin": null,
            "display": null,
            "left": null
          },
          "model_module_version": "1.2.0"
        },
        "07dc83387c59409a87b96bc0b3285bab": {
          "model_module": "@jupyter-widgets/controls",
          "model_name": "HBoxModel",
          "state": {
            "_view_name": "HBoxView",
            "_dom_classes": [],
            "_model_name": "HBoxModel",
            "_view_module": "@jupyter-widgets/controls",
            "_model_module_version": "1.5.0",
            "_view_count": null,
            "_view_module_version": "1.5.0",
            "box_style": "",
            "layout": "IPY_MODEL_08d3413358d04a56b1c3d42e3e9b6354",
            "_model_module": "@jupyter-widgets/controls",
            "children": [
              "IPY_MODEL_62b690b117a94fe985ed4362df352890",
              "IPY_MODEL_50d3a1c054ee400296157f144b30bf01"
            ]
          },
          "model_module_version": "1.5.0"
        },
        "08d3413358d04a56b1c3d42e3e9b6354": {
          "model_module": "@jupyter-widgets/base",
          "model_name": "LayoutModel",
          "state": {
            "_view_name": "LayoutView",
            "grid_template_rows": null,
            "right": null,
            "justify_content": null,
            "_view_module": "@jupyter-widgets/base",
            "overflow": null,
            "_model_module_version": "1.2.0",
            "_view_count": null,
            "flex_flow": null,
            "width": null,
            "min_width": null,
            "border": null,
            "align_items": null,
            "bottom": null,
            "_model_module": "@jupyter-widgets/base",
            "top": null,
            "grid_column": null,
            "overflow_y": null,
            "overflow_x": null,
            "grid_auto_flow": null,
            "grid_area": null,
            "grid_template_columns": null,
            "flex": null,
            "_model_name": "LayoutModel",
            "justify_items": null,
            "grid_row": null,
            "max_height": null,
            "align_content": null,
            "visibility": null,
            "align_self": null,
            "height": null,
            "min_height": null,
            "padding": null,
            "grid_auto_rows": null,
            "grid_gap": null,
            "max_width": null,
            "order": null,
            "_view_module_version": "1.2.0",
            "grid_template_areas": null,
            "object_position": null,
            "object_fit": null,
            "grid_auto_columns": null,
            "margin": null,
            "display": null,
            "left": null
          },
          "model_module_version": "1.2.0"
        },
        "62b690b117a94fe985ed4362df352890": {
          "model_module": "@jupyter-widgets/controls",
          "model_name": "FloatProgressModel",
          "state": {
            "_view_name": "ProgressView",
            "style": "IPY_MODEL_7d95aa34bc3f47669479009bbf6304a0",
            "_dom_classes": [],
            "description": "#0: 100%",
            "_model_name": "FloatProgressModel",
            "bar_style": "success",
            "max": 10,
            "_view_module": "@jupyter-widgets/controls",
            "_model_module_version": "1.5.0",
            "value": 10,
            "_view_count": null,
            "_view_module_version": "1.5.0",
            "orientation": "horizontal",
            "min": 0,
            "description_tooltip": null,
            "_model_module": "@jupyter-widgets/controls",
            "layout": "IPY_MODEL_4e85a902264b48d294de7a1455992fc9"
          },
          "model_module_version": "1.5.0"
        },
        "50d3a1c054ee400296157f144b30bf01": {
          "model_module": "@jupyter-widgets/controls",
          "model_name": "HTMLModel",
          "state": {
            "_view_name": "HTMLView",
            "style": "IPY_MODEL_7dbd8df91dc9418bbcc6b502e2c4ee60",
            "_dom_classes": [],
            "description": "",
            "_model_name": "HTMLModel",
            "placeholder": "​",
            "_view_module": "@jupyter-widgets/controls",
            "_model_module_version": "1.5.0",
            "value": " 10/10 [00:05&lt;00:00,  1.71ba/s]",
            "_view_count": null,
            "_view_module_version": "1.5.0",
            "description_tooltip": null,
            "_model_module": "@jupyter-widgets/controls",
            "layout": "IPY_MODEL_2930ce3fd7874341af9b482e56adc2d4"
          },
          "model_module_version": "1.5.0"
        },
        "7d95aa34bc3f47669479009bbf6304a0": {
          "model_module": "@jupyter-widgets/controls",
          "model_name": "ProgressStyleModel",
          "state": {
            "_view_name": "StyleView",
            "_model_name": "ProgressStyleModel",
            "description_width": "initial",
            "_view_module": "@jupyter-widgets/base",
            "_model_module_version": "1.5.0",
            "_view_count": null,
            "_view_module_version": "1.2.0",
            "bar_color": null,
            "_model_module": "@jupyter-widgets/controls"
          },
          "model_module_version": "1.5.0"
        },
        "4e85a902264b48d294de7a1455992fc9": {
          "model_module": "@jupyter-widgets/base",
          "model_name": "LayoutModel",
          "state": {
            "_view_name": "LayoutView",
            "grid_template_rows": null,
            "right": null,
            "justify_content": null,
            "_view_module": "@jupyter-widgets/base",
            "overflow": null,
            "_model_module_version": "1.2.0",
            "_view_count": null,
            "flex_flow": null,
            "width": null,
            "min_width": null,
            "border": null,
            "align_items": null,
            "bottom": null,
            "_model_module": "@jupyter-widgets/base",
            "top": null,
            "grid_column": null,
            "overflow_y": null,
            "overflow_x": null,
            "grid_auto_flow": null,
            "grid_area": null,
            "grid_template_columns": null,
            "flex": null,
            "_model_name": "LayoutModel",
            "justify_items": null,
            "grid_row": null,
            "max_height": null,
            "align_content": null,
            "visibility": null,
            "align_self": null,
            "height": null,
            "min_height": null,
            "padding": null,
            "grid_auto_rows": null,
            "grid_gap": null,
            "max_width": null,
            "order": null,
            "_view_module_version": "1.2.0",
            "grid_template_areas": null,
            "object_position": null,
            "object_fit": null,
            "grid_auto_columns": null,
            "margin": null,
            "display": null,
            "left": null
          },
          "model_module_version": "1.2.0"
        },
        "7dbd8df91dc9418bbcc6b502e2c4ee60": {
          "model_module": "@jupyter-widgets/controls",
          "model_name": "DescriptionStyleModel",
          "state": {
            "_view_name": "StyleView",
            "_model_name": "DescriptionStyleModel",
            "description_width": "",
            "_view_module": "@jupyter-widgets/base",
            "_model_module_version": "1.5.0",
            "_view_count": null,
            "_view_module_version": "1.2.0",
            "_model_module": "@jupyter-widgets/controls"
          },
          "model_module_version": "1.5.0"
        },
        "2930ce3fd7874341af9b482e56adc2d4": {
          "model_module": "@jupyter-widgets/base",
          "model_name": "LayoutModel",
          "state": {
            "_view_name": "LayoutView",
            "grid_template_rows": null,
            "right": null,
            "justify_content": null,
            "_view_module": "@jupyter-widgets/base",
            "overflow": null,
            "_model_module_version": "1.2.0",
            "_view_count": null,
            "flex_flow": null,
            "width": null,
            "min_width": null,
            "border": null,
            "align_items": null,
            "bottom": null,
            "_model_module": "@jupyter-widgets/base",
            "top": null,
            "grid_column": null,
            "overflow_y": null,
            "overflow_x": null,
            "grid_auto_flow": null,
            "grid_area": null,
            "grid_template_columns": null,
            "flex": null,
            "_model_name": "LayoutModel",
            "justify_items": null,
            "grid_row": null,
            "max_height": null,
            "align_content": null,
            "visibility": null,
            "align_self": null,
            "height": null,
            "min_height": null,
            "padding": null,
            "grid_auto_rows": null,
            "grid_gap": null,
            "max_width": null,
            "order": null,
            "_view_module_version": "1.2.0",
            "grid_template_areas": null,
            "object_position": null,
            "object_fit": null,
            "grid_auto_columns": null,
            "margin": null,
            "display": null,
            "left": null
          },
          "model_module_version": "1.2.0"
        },
        "fcd0d87d160b426a9d3af92d1ac6b620": {
          "model_module": "@jupyter-widgets/controls",
          "model_name": "HBoxModel",
          "state": {
            "_view_name": "HBoxView",
            "_dom_classes": [],
            "_model_name": "HBoxModel",
            "_view_module": "@jupyter-widgets/controls",
            "_model_module_version": "1.5.0",
            "_view_count": null,
            "_view_module_version": "1.5.0",
            "box_style": "",
            "layout": "IPY_MODEL_45139868c26b4107bdce85c7b10e6458",
            "_model_module": "@jupyter-widgets/controls",
            "children": [
              "IPY_MODEL_0afc26633d6e40008c8fe4415375db1f",
              "IPY_MODEL_d15d50c0b7ca4105a689b52bdc5d0925"
            ]
          },
          "model_module_version": "1.5.0"
        },
        "45139868c26b4107bdce85c7b10e6458": {
          "model_module": "@jupyter-widgets/base",
          "model_name": "LayoutModel",
          "state": {
            "_view_name": "LayoutView",
            "grid_template_rows": null,
            "right": null,
            "justify_content": null,
            "_view_module": "@jupyter-widgets/base",
            "overflow": null,
            "_model_module_version": "1.2.0",
            "_view_count": null,
            "flex_flow": null,
            "width": null,
            "min_width": null,
            "border": null,
            "align_items": null,
            "bottom": null,
            "_model_module": "@jupyter-widgets/base",
            "top": null,
            "grid_column": null,
            "overflow_y": null,
            "overflow_x": null,
            "grid_auto_flow": null,
            "grid_area": null,
            "grid_template_columns": null,
            "flex": null,
            "_model_name": "LayoutModel",
            "justify_items": null,
            "grid_row": null,
            "max_height": null,
            "align_content": null,
            "visibility": null,
            "align_self": null,
            "height": null,
            "min_height": null,
            "padding": null,
            "grid_auto_rows": null,
            "grid_gap": null,
            "max_width": null,
            "order": null,
            "_view_module_version": "1.2.0",
            "grid_template_areas": null,
            "object_position": null,
            "object_fit": null,
            "grid_auto_columns": null,
            "margin": null,
            "display": null,
            "left": null
          },
          "model_module_version": "1.2.0"
        },
        "0afc26633d6e40008c8fe4415375db1f": {
          "model_module": "@jupyter-widgets/controls",
          "model_name": "FloatProgressModel",
          "state": {
            "_view_name": "ProgressView",
            "style": "IPY_MODEL_8621de4d52f34ec69af33153b2d3fd1c",
            "_dom_classes": [],
            "description": "#2: 100%",
            "_model_name": "FloatProgressModel",
            "bar_style": "success",
            "max": 10,
            "_view_module": "@jupyter-widgets/controls",
            "_model_module_version": "1.5.0",
            "value": 10,
            "_view_count": null,
            "_view_module_version": "1.5.0",
            "orientation": "horizontal",
            "min": 0,
            "description_tooltip": null,
            "_model_module": "@jupyter-widgets/controls",
            "layout": "IPY_MODEL_3396385f1c50472ab0d92e61ecaca42b"
          },
          "model_module_version": "1.5.0"
        },
        "d15d50c0b7ca4105a689b52bdc5d0925": {
          "model_module": "@jupyter-widgets/controls",
          "model_name": "HTMLModel",
          "state": {
            "_view_name": "HTMLView",
            "style": "IPY_MODEL_9fa61bc607414dbc9322e57f32f93bcc",
            "_dom_classes": [],
            "description": "",
            "_model_name": "HTMLModel",
            "placeholder": "​",
            "_view_module": "@jupyter-widgets/controls",
            "_model_module_version": "1.5.0",
            "value": " 10/10 [00:05&lt;00:00,  1.72ba/s]",
            "_view_count": null,
            "_view_module_version": "1.5.0",
            "description_tooltip": null,
            "_model_module": "@jupyter-widgets/controls",
            "layout": "IPY_MODEL_9b4a9b8d8466423eb562eee033e54449"
          },
          "model_module_version": "1.5.0"
        },
        "8621de4d52f34ec69af33153b2d3fd1c": {
          "model_module": "@jupyter-widgets/controls",
          "model_name": "ProgressStyleModel",
          "state": {
            "_view_name": "StyleView",
            "_model_name": "ProgressStyleModel",
            "description_width": "initial",
            "_view_module": "@jupyter-widgets/base",
            "_model_module_version": "1.5.0",
            "_view_count": null,
            "_view_module_version": "1.2.0",
            "bar_color": null,
            "_model_module": "@jupyter-widgets/controls"
          },
          "model_module_version": "1.5.0"
        },
        "3396385f1c50472ab0d92e61ecaca42b": {
          "model_module": "@jupyter-widgets/base",
          "model_name": "LayoutModel",
          "state": {
            "_view_name": "LayoutView",
            "grid_template_rows": null,
            "right": null,
            "justify_content": null,
            "_view_module": "@jupyter-widgets/base",
            "overflow": null,
            "_model_module_version": "1.2.0",
            "_view_count": null,
            "flex_flow": null,
            "width": null,
            "min_width": null,
            "border": null,
            "align_items": null,
            "bottom": null,
            "_model_module": "@jupyter-widgets/base",
            "top": null,
            "grid_column": null,
            "overflow_y": null,
            "overflow_x": null,
            "grid_auto_flow": null,
            "grid_area": null,
            "grid_template_columns": null,
            "flex": null,
            "_model_name": "LayoutModel",
            "justify_items": null,
            "grid_row": null,
            "max_height": null,
            "align_content": null,
            "visibility": null,
            "align_self": null,
            "height": null,
            "min_height": null,
            "padding": null,
            "grid_auto_rows": null,
            "grid_gap": null,
            "max_width": null,
            "order": null,
            "_view_module_version": "1.2.0",
            "grid_template_areas": null,
            "object_position": null,
            "object_fit": null,
            "grid_auto_columns": null,
            "margin": null,
            "display": null,
            "left": null
          },
          "model_module_version": "1.2.0"
        },
        "9fa61bc607414dbc9322e57f32f93bcc": {
          "model_module": "@jupyter-widgets/controls",
          "model_name": "DescriptionStyleModel",
          "state": {
            "_view_name": "StyleView",
            "_model_name": "DescriptionStyleModel",
            "description_width": "",
            "_view_module": "@jupyter-widgets/base",
            "_model_module_version": "1.5.0",
            "_view_count": null,
            "_view_module_version": "1.2.0",
            "_model_module": "@jupyter-widgets/controls"
          },
          "model_module_version": "1.5.0"
        },
        "9b4a9b8d8466423eb562eee033e54449": {
          "model_module": "@jupyter-widgets/base",
          "model_name": "LayoutModel",
          "state": {
            "_view_name": "LayoutView",
            "grid_template_rows": null,
            "right": null,
            "justify_content": null,
            "_view_module": "@jupyter-widgets/base",
            "overflow": null,
            "_model_module_version": "1.2.0",
            "_view_count": null,
            "flex_flow": null,
            "width": null,
            "min_width": null,
            "border": null,
            "align_items": null,
            "bottom": null,
            "_model_module": "@jupyter-widgets/base",
            "top": null,
            "grid_column": null,
            "overflow_y": null,
            "overflow_x": null,
            "grid_auto_flow": null,
            "grid_area": null,
            "grid_template_columns": null,
            "flex": null,
            "_model_name": "LayoutModel",
            "justify_items": null,
            "grid_row": null,
            "max_height": null,
            "align_content": null,
            "visibility": null,
            "align_self": null,
            "height": null,
            "min_height": null,
            "padding": null,
            "grid_auto_rows": null,
            "grid_gap": null,
            "max_width": null,
            "order": null,
            "_view_module_version": "1.2.0",
            "grid_template_areas": null,
            "object_position": null,
            "object_fit": null,
            "grid_auto_columns": null,
            "margin": null,
            "display": null,
            "left": null
          },
          "model_module_version": "1.2.0"
        },
        "8105f878d8854d0da1cf5069f7b25f99": {
          "model_module": "@jupyter-widgets/controls",
          "model_name": "HBoxModel",
          "state": {
            "_view_name": "HBoxView",
            "_dom_classes": [],
            "_model_name": "HBoxModel",
            "_view_module": "@jupyter-widgets/controls",
            "_model_module_version": "1.5.0",
            "_view_count": null,
            "_view_module_version": "1.5.0",
            "box_style": "",
            "layout": "IPY_MODEL_aef2faad2d90409c8209f23da104597d",
            "_model_module": "@jupyter-widgets/controls",
            "children": [
              "IPY_MODEL_ccb93d2484ce40248d118e60b3a7cd08",
              "IPY_MODEL_986b9b765e9648bbb417fe66a0fcdb70"
            ]
          },
          "model_module_version": "1.5.0"
        },
        "aef2faad2d90409c8209f23da104597d": {
          "model_module": "@jupyter-widgets/base",
          "model_name": "LayoutModel",
          "state": {
            "_view_name": "LayoutView",
            "grid_template_rows": null,
            "right": null,
            "justify_content": null,
            "_view_module": "@jupyter-widgets/base",
            "overflow": null,
            "_model_module_version": "1.2.0",
            "_view_count": null,
            "flex_flow": null,
            "width": null,
            "min_width": null,
            "border": null,
            "align_items": null,
            "bottom": null,
            "_model_module": "@jupyter-widgets/base",
            "top": null,
            "grid_column": null,
            "overflow_y": null,
            "overflow_x": null,
            "grid_auto_flow": null,
            "grid_area": null,
            "grid_template_columns": null,
            "flex": null,
            "_model_name": "LayoutModel",
            "justify_items": null,
            "grid_row": null,
            "max_height": null,
            "align_content": null,
            "visibility": null,
            "align_self": null,
            "height": null,
            "min_height": null,
            "padding": null,
            "grid_auto_rows": null,
            "grid_gap": null,
            "max_width": null,
            "order": null,
            "_view_module_version": "1.2.0",
            "grid_template_areas": null,
            "object_position": null,
            "object_fit": null,
            "grid_auto_columns": null,
            "margin": null,
            "display": null,
            "left": null
          },
          "model_module_version": "1.2.0"
        },
        "ccb93d2484ce40248d118e60b3a7cd08": {
          "model_module": "@jupyter-widgets/controls",
          "model_name": "FloatProgressModel",
          "state": {
            "_view_name": "ProgressView",
            "style": "IPY_MODEL_0c665d3cabf6493baf86c810ec935669",
            "_dom_classes": [],
            "description": "#3: 100%",
            "_model_name": "FloatProgressModel",
            "bar_style": "success",
            "max": 10,
            "_view_module": "@jupyter-widgets/controls",
            "_model_module_version": "1.5.0",
            "value": 10,
            "_view_count": null,
            "_view_module_version": "1.5.0",
            "orientation": "horizontal",
            "min": 0,
            "description_tooltip": null,
            "_model_module": "@jupyter-widgets/controls",
            "layout": "IPY_MODEL_e176603a89554a43b235319e10982095"
          },
          "model_module_version": "1.5.0"
        },
        "986b9b765e9648bbb417fe66a0fcdb70": {
          "model_module": "@jupyter-widgets/controls",
          "model_name": "HTMLModel",
          "state": {
            "_view_name": "HTMLView",
            "style": "IPY_MODEL_13bd2e018a734efca2beaf6f2e3a5f48",
            "_dom_classes": [],
            "description": "",
            "_model_name": "HTMLModel",
            "placeholder": "​",
            "_view_module": "@jupyter-widgets/controls",
            "_model_module_version": "1.5.0",
            "value": " 10/10 [00:06&lt;00:00,  1.44ba/s]",
            "_view_count": null,
            "_view_module_version": "1.5.0",
            "description_tooltip": null,
            "_model_module": "@jupyter-widgets/controls",
            "layout": "IPY_MODEL_aa1fac12952944898791c854843edf01"
          },
          "model_module_version": "1.5.0"
        },
        "0c665d3cabf6493baf86c810ec935669": {
          "model_module": "@jupyter-widgets/controls",
          "model_name": "ProgressStyleModel",
          "state": {
            "_view_name": "StyleView",
            "_model_name": "ProgressStyleModel",
            "description_width": "initial",
            "_view_module": "@jupyter-widgets/base",
            "_model_module_version": "1.5.0",
            "_view_count": null,
            "_view_module_version": "1.2.0",
            "bar_color": null,
            "_model_module": "@jupyter-widgets/controls"
          },
          "model_module_version": "1.5.0"
        },
        "e176603a89554a43b235319e10982095": {
          "model_module": "@jupyter-widgets/base",
          "model_name": "LayoutModel",
          "state": {
            "_view_name": "LayoutView",
            "grid_template_rows": null,
            "right": null,
            "justify_content": null,
            "_view_module": "@jupyter-widgets/base",
            "overflow": null,
            "_model_module_version": "1.2.0",
            "_view_count": null,
            "flex_flow": null,
            "width": null,
            "min_width": null,
            "border": null,
            "align_items": null,
            "bottom": null,
            "_model_module": "@jupyter-widgets/base",
            "top": null,
            "grid_column": null,
            "overflow_y": null,
            "overflow_x": null,
            "grid_auto_flow": null,
            "grid_area": null,
            "grid_template_columns": null,
            "flex": null,
            "_model_name": "LayoutModel",
            "justify_items": null,
            "grid_row": null,
            "max_height": null,
            "align_content": null,
            "visibility": null,
            "align_self": null,
            "height": null,
            "min_height": null,
            "padding": null,
            "grid_auto_rows": null,
            "grid_gap": null,
            "max_width": null,
            "order": null,
            "_view_module_version": "1.2.0",
            "grid_template_areas": null,
            "object_position": null,
            "object_fit": null,
            "grid_auto_columns": null,
            "margin": null,
            "display": null,
            "left": null
          },
          "model_module_version": "1.2.0"
        },
        "13bd2e018a734efca2beaf6f2e3a5f48": {
          "model_module": "@jupyter-widgets/controls",
          "model_name": "DescriptionStyleModel",
          "state": {
            "_view_name": "StyleView",
            "_model_name": "DescriptionStyleModel",
            "description_width": "",
            "_view_module": "@jupyter-widgets/base",
            "_model_module_version": "1.5.0",
            "_view_count": null,
            "_view_module_version": "1.2.0",
            "_model_module": "@jupyter-widgets/controls"
          },
          "model_module_version": "1.5.0"
        },
        "aa1fac12952944898791c854843edf01": {
          "model_module": "@jupyter-widgets/base",
          "model_name": "LayoutModel",
          "state": {
            "_view_name": "LayoutView",
            "grid_template_rows": null,
            "right": null,
            "justify_content": null,
            "_view_module": "@jupyter-widgets/base",
            "overflow": null,
            "_model_module_version": "1.2.0",
            "_view_count": null,
            "flex_flow": null,
            "width": null,
            "min_width": null,
            "border": null,
            "align_items": null,
            "bottom": null,
            "_model_module": "@jupyter-widgets/base",
            "top": null,
            "grid_column": null,
            "overflow_y": null,
            "overflow_x": null,
            "grid_auto_flow": null,
            "grid_area": null,
            "grid_template_columns": null,
            "flex": null,
            "_model_name": "LayoutModel",
            "justify_items": null,
            "grid_row": null,
            "max_height": null,
            "align_content": null,
            "visibility": null,
            "align_self": null,
            "height": null,
            "min_height": null,
            "padding": null,
            "grid_auto_rows": null,
            "grid_gap": null,
            "max_width": null,
            "order": null,
            "_view_module_version": "1.2.0",
            "grid_template_areas": null,
            "object_position": null,
            "object_fit": null,
            "grid_auto_columns": null,
            "margin": null,
            "display": null,
            "left": null
          },
          "model_module_version": "1.2.0"
        },
        "f2894e7556fa4feebcd09d492e727d64": {
          "model_module": "@jupyter-widgets/controls",
          "model_name": "HBoxModel",
          "state": {
            "_view_name": "HBoxView",
            "_dom_classes": [],
            "_model_name": "HBoxModel",
            "_view_module": "@jupyter-widgets/controls",
            "_model_module_version": "1.5.0",
            "_view_count": null,
            "_view_module_version": "1.5.0",
            "box_style": "",
            "layout": "IPY_MODEL_17ed0bceb5f0423f94acb5de9233bcd6",
            "_model_module": "@jupyter-widgets/controls",
            "children": [
              "IPY_MODEL_fa182c6dc6164fa0bc6597d30fc51182",
              "IPY_MODEL_731caf88a00642e49d8ab4e5089e7069"
            ]
          },
          "model_module_version": "1.5.0"
        },
        "17ed0bceb5f0423f94acb5de9233bcd6": {
          "model_module": "@jupyter-widgets/base",
          "model_name": "LayoutModel",
          "state": {
            "_view_name": "LayoutView",
            "grid_template_rows": null,
            "right": null,
            "justify_content": null,
            "_view_module": "@jupyter-widgets/base",
            "overflow": null,
            "_model_module_version": "1.2.0",
            "_view_count": null,
            "flex_flow": null,
            "width": null,
            "min_width": null,
            "border": null,
            "align_items": null,
            "bottom": null,
            "_model_module": "@jupyter-widgets/base",
            "top": null,
            "grid_column": null,
            "overflow_y": null,
            "overflow_x": null,
            "grid_auto_flow": null,
            "grid_area": null,
            "grid_template_columns": null,
            "flex": null,
            "_model_name": "LayoutModel",
            "justify_items": null,
            "grid_row": null,
            "max_height": null,
            "align_content": null,
            "visibility": null,
            "align_self": null,
            "height": null,
            "min_height": null,
            "padding": null,
            "grid_auto_rows": null,
            "grid_gap": null,
            "max_width": null,
            "order": null,
            "_view_module_version": "1.2.0",
            "grid_template_areas": null,
            "object_position": null,
            "object_fit": null,
            "grid_auto_columns": null,
            "margin": null,
            "display": null,
            "left": null
          },
          "model_module_version": "1.2.0"
        },
        "fa182c6dc6164fa0bc6597d30fc51182": {
          "model_module": "@jupyter-widgets/controls",
          "model_name": "FloatProgressModel",
          "state": {
            "_view_name": "ProgressView",
            "style": "IPY_MODEL_5b9b576be0f045649789de49954a5117",
            "_dom_classes": [],
            "description": "#0: 100%",
            "_model_name": "FloatProgressModel",
            "bar_style": "success",
            "max": 4,
            "_view_module": "@jupyter-widgets/controls",
            "_model_module_version": "1.5.0",
            "value": 4,
            "_view_count": null,
            "_view_module_version": "1.5.0",
            "orientation": "horizontal",
            "min": 0,
            "description_tooltip": null,
            "_model_module": "@jupyter-widgets/controls",
            "layout": "IPY_MODEL_3ad861dd3b764885b8769b51453cc119"
          },
          "model_module_version": "1.5.0"
        },
        "731caf88a00642e49d8ab4e5089e7069": {
          "model_module": "@jupyter-widgets/controls",
          "model_name": "HTMLModel",
          "state": {
            "_view_name": "HTMLView",
            "style": "IPY_MODEL_50c5a062692d4480a819872351319da2",
            "_dom_classes": [],
            "description": "",
            "_model_name": "HTMLModel",
            "placeholder": "​",
            "_view_module": "@jupyter-widgets/controls",
            "_model_module_version": "1.5.0",
            "value": " 4/4 [00:02&lt;00:00,  1.38ba/s]",
            "_view_count": null,
            "_view_module_version": "1.5.0",
            "description_tooltip": null,
            "_model_module": "@jupyter-widgets/controls",
            "layout": "IPY_MODEL_185d69406c0448bc92789d9c2b239f36"
          },
          "model_module_version": "1.5.0"
        },
        "5b9b576be0f045649789de49954a5117": {
          "model_module": "@jupyter-widgets/controls",
          "model_name": "ProgressStyleModel",
          "state": {
            "_view_name": "StyleView",
            "_model_name": "ProgressStyleModel",
            "description_width": "initial",
            "_view_module": "@jupyter-widgets/base",
            "_model_module_version": "1.5.0",
            "_view_count": null,
            "_view_module_version": "1.2.0",
            "bar_color": null,
            "_model_module": "@jupyter-widgets/controls"
          },
          "model_module_version": "1.5.0"
        },
        "3ad861dd3b764885b8769b51453cc119": {
          "model_module": "@jupyter-widgets/base",
          "model_name": "LayoutModel",
          "state": {
            "_view_name": "LayoutView",
            "grid_template_rows": null,
            "right": null,
            "justify_content": null,
            "_view_module": "@jupyter-widgets/base",
            "overflow": null,
            "_model_module_version": "1.2.0",
            "_view_count": null,
            "flex_flow": null,
            "width": null,
            "min_width": null,
            "border": null,
            "align_items": null,
            "bottom": null,
            "_model_module": "@jupyter-widgets/base",
            "top": null,
            "grid_column": null,
            "overflow_y": null,
            "overflow_x": null,
            "grid_auto_flow": null,
            "grid_area": null,
            "grid_template_columns": null,
            "flex": null,
            "_model_name": "LayoutModel",
            "justify_items": null,
            "grid_row": null,
            "max_height": null,
            "align_content": null,
            "visibility": null,
            "align_self": null,
            "height": null,
            "min_height": null,
            "padding": null,
            "grid_auto_rows": null,
            "grid_gap": null,
            "max_width": null,
            "order": null,
            "_view_module_version": "1.2.0",
            "grid_template_areas": null,
            "object_position": null,
            "object_fit": null,
            "grid_auto_columns": null,
            "margin": null,
            "display": null,
            "left": null
          },
          "model_module_version": "1.2.0"
        },
        "50c5a062692d4480a819872351319da2": {
          "model_module": "@jupyter-widgets/controls",
          "model_name": "DescriptionStyleModel",
          "state": {
            "_view_name": "StyleView",
            "_model_name": "DescriptionStyleModel",
            "description_width": "",
            "_view_module": "@jupyter-widgets/base",
            "_model_module_version": "1.5.0",
            "_view_count": null,
            "_view_module_version": "1.2.0",
            "_model_module": "@jupyter-widgets/controls"
          },
          "model_module_version": "1.5.0"
        },
        "185d69406c0448bc92789d9c2b239f36": {
          "model_module": "@jupyter-widgets/base",
          "model_name": "LayoutModel",
          "state": {
            "_view_name": "LayoutView",
            "grid_template_rows": null,
            "right": null,
            "justify_content": null,
            "_view_module": "@jupyter-widgets/base",
            "overflow": null,
            "_model_module_version": "1.2.0",
            "_view_count": null,
            "flex_flow": null,
            "width": null,
            "min_width": null,
            "border": null,
            "align_items": null,
            "bottom": null,
            "_model_module": "@jupyter-widgets/base",
            "top": null,
            "grid_column": null,
            "overflow_y": null,
            "overflow_x": null,
            "grid_auto_flow": null,
            "grid_area": null,
            "grid_template_columns": null,
            "flex": null,
            "_model_name": "LayoutModel",
            "justify_items": null,
            "grid_row": null,
            "max_height": null,
            "align_content": null,
            "visibility": null,
            "align_self": null,
            "height": null,
            "min_height": null,
            "padding": null,
            "grid_auto_rows": null,
            "grid_gap": null,
            "max_width": null,
            "order": null,
            "_view_module_version": "1.2.0",
            "grid_template_areas": null,
            "object_position": null,
            "object_fit": null,
            "grid_auto_columns": null,
            "margin": null,
            "display": null,
            "left": null
          },
          "model_module_version": "1.2.0"
        },
        "07a681984da943a4ae7acef61588a42c": {
          "model_module": "@jupyter-widgets/controls",
          "model_name": "HBoxModel",
          "state": {
            "_view_name": "HBoxView",
            "_dom_classes": [],
            "_model_name": "HBoxModel",
            "_view_module": "@jupyter-widgets/controls",
            "_model_module_version": "1.5.0",
            "_view_count": null,
            "_view_module_version": "1.5.0",
            "box_style": "",
            "layout": "IPY_MODEL_ca33ec9797734099a917695f43269bcb",
            "_model_module": "@jupyter-widgets/controls",
            "children": [
              "IPY_MODEL_6a6f4e0b2d594c9088770c0056e8ffb1",
              "IPY_MODEL_4f5f3b37d33c4cd1857caeb2bd60748e"
            ]
          },
          "model_module_version": "1.5.0"
        },
        "ca33ec9797734099a917695f43269bcb": {
          "model_module": "@jupyter-widgets/base",
          "model_name": "LayoutModel",
          "state": {
            "_view_name": "LayoutView",
            "grid_template_rows": null,
            "right": null,
            "justify_content": null,
            "_view_module": "@jupyter-widgets/base",
            "overflow": null,
            "_model_module_version": "1.2.0",
            "_view_count": null,
            "flex_flow": null,
            "width": null,
            "min_width": null,
            "border": null,
            "align_items": null,
            "bottom": null,
            "_model_module": "@jupyter-widgets/base",
            "top": null,
            "grid_column": null,
            "overflow_y": null,
            "overflow_x": null,
            "grid_auto_flow": null,
            "grid_area": null,
            "grid_template_columns": null,
            "flex": null,
            "_model_name": "LayoutModel",
            "justify_items": null,
            "grid_row": null,
            "max_height": null,
            "align_content": null,
            "visibility": null,
            "align_self": null,
            "height": null,
            "min_height": null,
            "padding": null,
            "grid_auto_rows": null,
            "grid_gap": null,
            "max_width": null,
            "order": null,
            "_view_module_version": "1.2.0",
            "grid_template_areas": null,
            "object_position": null,
            "object_fit": null,
            "grid_auto_columns": null,
            "margin": null,
            "display": null,
            "left": null
          },
          "model_module_version": "1.2.0"
        },
        "6a6f4e0b2d594c9088770c0056e8ffb1": {
          "model_module": "@jupyter-widgets/controls",
          "model_name": "FloatProgressModel",
          "state": {
            "_view_name": "ProgressView",
            "style": "IPY_MODEL_91d45d12339542ac83a0ad1e84dd4a2c",
            "_dom_classes": [],
            "description": "#1: 100%",
            "_model_name": "FloatProgressModel",
            "bar_style": "success",
            "max": 4,
            "_view_module": "@jupyter-widgets/controls",
            "_model_module_version": "1.5.0",
            "value": 4,
            "_view_count": null,
            "_view_module_version": "1.5.0",
            "orientation": "horizontal",
            "min": 0,
            "description_tooltip": null,
            "_model_module": "@jupyter-widgets/controls",
            "layout": "IPY_MODEL_bb119f968b7a48108d5b35b49e655701"
          },
          "model_module_version": "1.5.0"
        },
        "4f5f3b37d33c4cd1857caeb2bd60748e": {
          "model_module": "@jupyter-widgets/controls",
          "model_name": "HTMLModel",
          "state": {
            "_view_name": "HTMLView",
            "style": "IPY_MODEL_13db9e720b834bc0a56e3fa9a37a6b15",
            "_dom_classes": [],
            "description": "",
            "_model_name": "HTMLModel",
            "placeholder": "​",
            "_view_module": "@jupyter-widgets/controls",
            "_model_module_version": "1.5.0",
            "value": " 4/4 [00:03&lt;00:00,  1.32ba/s]",
            "_view_count": null,
            "_view_module_version": "1.5.0",
            "description_tooltip": null,
            "_model_module": "@jupyter-widgets/controls",
            "layout": "IPY_MODEL_18d8ec4a26324260b27bf1706c59e446"
          },
          "model_module_version": "1.5.0"
        },
        "91d45d12339542ac83a0ad1e84dd4a2c": {
          "model_module": "@jupyter-widgets/controls",
          "model_name": "ProgressStyleModel",
          "state": {
            "_view_name": "StyleView",
            "_model_name": "ProgressStyleModel",
            "description_width": "initial",
            "_view_module": "@jupyter-widgets/base",
            "_model_module_version": "1.5.0",
            "_view_count": null,
            "_view_module_version": "1.2.0",
            "bar_color": null,
            "_model_module": "@jupyter-widgets/controls"
          },
          "model_module_version": "1.5.0"
        },
        "bb119f968b7a48108d5b35b49e655701": {
          "model_module": "@jupyter-widgets/base",
          "model_name": "LayoutModel",
          "state": {
            "_view_name": "LayoutView",
            "grid_template_rows": null,
            "right": null,
            "justify_content": null,
            "_view_module": "@jupyter-widgets/base",
            "overflow": null,
            "_model_module_version": "1.2.0",
            "_view_count": null,
            "flex_flow": null,
            "width": null,
            "min_width": null,
            "border": null,
            "align_items": null,
            "bottom": null,
            "_model_module": "@jupyter-widgets/base",
            "top": null,
            "grid_column": null,
            "overflow_y": null,
            "overflow_x": null,
            "grid_auto_flow": null,
            "grid_area": null,
            "grid_template_columns": null,
            "flex": null,
            "_model_name": "LayoutModel",
            "justify_items": null,
            "grid_row": null,
            "max_height": null,
            "align_content": null,
            "visibility": null,
            "align_self": null,
            "height": null,
            "min_height": null,
            "padding": null,
            "grid_auto_rows": null,
            "grid_gap": null,
            "max_width": null,
            "order": null,
            "_view_module_version": "1.2.0",
            "grid_template_areas": null,
            "object_position": null,
            "object_fit": null,
            "grid_auto_columns": null,
            "margin": null,
            "display": null,
            "left": null
          },
          "model_module_version": "1.2.0"
        },
        "13db9e720b834bc0a56e3fa9a37a6b15": {
          "model_module": "@jupyter-widgets/controls",
          "model_name": "DescriptionStyleModel",
          "state": {
            "_view_name": "StyleView",
            "_model_name": "DescriptionStyleModel",
            "description_width": "",
            "_view_module": "@jupyter-widgets/base",
            "_model_module_version": "1.5.0",
            "_view_count": null,
            "_view_module_version": "1.2.0",
            "_model_module": "@jupyter-widgets/controls"
          },
          "model_module_version": "1.5.0"
        },
        "18d8ec4a26324260b27bf1706c59e446": {
          "model_module": "@jupyter-widgets/base",
          "model_name": "LayoutModel",
          "state": {
            "_view_name": "LayoutView",
            "grid_template_rows": null,
            "right": null,
            "justify_content": null,
            "_view_module": "@jupyter-widgets/base",
            "overflow": null,
            "_model_module_version": "1.2.0",
            "_view_count": null,
            "flex_flow": null,
            "width": null,
            "min_width": null,
            "border": null,
            "align_items": null,
            "bottom": null,
            "_model_module": "@jupyter-widgets/base",
            "top": null,
            "grid_column": null,
            "overflow_y": null,
            "overflow_x": null,
            "grid_auto_flow": null,
            "grid_area": null,
            "grid_template_columns": null,
            "flex": null,
            "_model_name": "LayoutModel",
            "justify_items": null,
            "grid_row": null,
            "max_height": null,
            "align_content": null,
            "visibility": null,
            "align_self": null,
            "height": null,
            "min_height": null,
            "padding": null,
            "grid_auto_rows": null,
            "grid_gap": null,
            "max_width": null,
            "order": null,
            "_view_module_version": "1.2.0",
            "grid_template_areas": null,
            "object_position": null,
            "object_fit": null,
            "grid_auto_columns": null,
            "margin": null,
            "display": null,
            "left": null
          },
          "model_module_version": "1.2.0"
        },
        "f19e151a90564209b6e768fb89ff57f7": {
          "model_module": "@jupyter-widgets/controls",
          "model_name": "HBoxModel",
          "state": {
            "_view_name": "HBoxView",
            "_dom_classes": [],
            "_model_name": "HBoxModel",
            "_view_module": "@jupyter-widgets/controls",
            "_model_module_version": "1.5.0",
            "_view_count": null,
            "_view_module_version": "1.5.0",
            "box_style": "",
            "layout": "IPY_MODEL_f185d27a602e4441b7c2ad9284668b84",
            "_model_module": "@jupyter-widgets/controls",
            "children": [
              "IPY_MODEL_dbf560cd12fd4f2f8ce1c4b33758d263",
              "IPY_MODEL_c39050d5ca3f4b96a34dcf76840c9290"
            ]
          },
          "model_module_version": "1.5.0"
        },
        "f185d27a602e4441b7c2ad9284668b84": {
          "model_module": "@jupyter-widgets/base",
          "model_name": "LayoutModel",
          "state": {
            "_view_name": "LayoutView",
            "grid_template_rows": null,
            "right": null,
            "justify_content": null,
            "_view_module": "@jupyter-widgets/base",
            "overflow": null,
            "_model_module_version": "1.2.0",
            "_view_count": null,
            "flex_flow": null,
            "width": null,
            "min_width": null,
            "border": null,
            "align_items": null,
            "bottom": null,
            "_model_module": "@jupyter-widgets/base",
            "top": null,
            "grid_column": null,
            "overflow_y": null,
            "overflow_x": null,
            "grid_auto_flow": null,
            "grid_area": null,
            "grid_template_columns": null,
            "flex": null,
            "_model_name": "LayoutModel",
            "justify_items": null,
            "grid_row": null,
            "max_height": null,
            "align_content": null,
            "visibility": null,
            "align_self": null,
            "height": null,
            "min_height": null,
            "padding": null,
            "grid_auto_rows": null,
            "grid_gap": null,
            "max_width": null,
            "order": null,
            "_view_module_version": "1.2.0",
            "grid_template_areas": null,
            "object_position": null,
            "object_fit": null,
            "grid_auto_columns": null,
            "margin": null,
            "display": null,
            "left": null
          },
          "model_module_version": "1.2.0"
        },
        "dbf560cd12fd4f2f8ce1c4b33758d263": {
          "model_module": "@jupyter-widgets/controls",
          "model_name": "FloatProgressModel",
          "state": {
            "_view_name": "ProgressView",
            "style": "IPY_MODEL_87faa65391724256ae9ae038bb30faf5",
            "_dom_classes": [],
            "description": "#3: 100%",
            "_model_name": "FloatProgressModel",
            "bar_style": "success",
            "max": 4,
            "_view_module": "@jupyter-widgets/controls",
            "_model_module_version": "1.5.0",
            "value": 4,
            "_view_count": null,
            "_view_module_version": "1.5.0",
            "orientation": "horizontal",
            "min": 0,
            "description_tooltip": null,
            "_model_module": "@jupyter-widgets/controls",
            "layout": "IPY_MODEL_d41fe4c8358b4e0abed827fbc5a2d97f"
          },
          "model_module_version": "1.5.0"
        },
        "c39050d5ca3f4b96a34dcf76840c9290": {
          "model_module": "@jupyter-widgets/controls",
          "model_name": "HTMLModel",
          "state": {
            "_view_name": "HTMLView",
            "style": "IPY_MODEL_834c2eff634546b89c213712b6bdbb89",
            "_dom_classes": [],
            "description": "",
            "_model_name": "HTMLModel",
            "placeholder": "​",
            "_view_module": "@jupyter-widgets/controls",
            "_model_module_version": "1.5.0",
            "value": " 4/4 [00:03&lt;00:00,  1.32ba/s]",
            "_view_count": null,
            "_view_module_version": "1.5.0",
            "description_tooltip": null,
            "_model_module": "@jupyter-widgets/controls",
            "layout": "IPY_MODEL_87bd69a1aa20491aa58f884a2b666afb"
          },
          "model_module_version": "1.5.0"
        },
        "87faa65391724256ae9ae038bb30faf5": {
          "model_module": "@jupyter-widgets/controls",
          "model_name": "ProgressStyleModel",
          "state": {
            "_view_name": "StyleView",
            "_model_name": "ProgressStyleModel",
            "description_width": "initial",
            "_view_module": "@jupyter-widgets/base",
            "_model_module_version": "1.5.0",
            "_view_count": null,
            "_view_module_version": "1.2.0",
            "bar_color": null,
            "_model_module": "@jupyter-widgets/controls"
          },
          "model_module_version": "1.5.0"
        },
        "d41fe4c8358b4e0abed827fbc5a2d97f": {
          "model_module": "@jupyter-widgets/base",
          "model_name": "LayoutModel",
          "state": {
            "_view_name": "LayoutView",
            "grid_template_rows": null,
            "right": null,
            "justify_content": null,
            "_view_module": "@jupyter-widgets/base",
            "overflow": null,
            "_model_module_version": "1.2.0",
            "_view_count": null,
            "flex_flow": null,
            "width": null,
            "min_width": null,
            "border": null,
            "align_items": null,
            "bottom": null,
            "_model_module": "@jupyter-widgets/base",
            "top": null,
            "grid_column": null,
            "overflow_y": null,
            "overflow_x": null,
            "grid_auto_flow": null,
            "grid_area": null,
            "grid_template_columns": null,
            "flex": null,
            "_model_name": "LayoutModel",
            "justify_items": null,
            "grid_row": null,
            "max_height": null,
            "align_content": null,
            "visibility": null,
            "align_self": null,
            "height": null,
            "min_height": null,
            "padding": null,
            "grid_auto_rows": null,
            "grid_gap": null,
            "max_width": null,
            "order": null,
            "_view_module_version": "1.2.0",
            "grid_template_areas": null,
            "object_position": null,
            "object_fit": null,
            "grid_auto_columns": null,
            "margin": null,
            "display": null,
            "left": null
          },
          "model_module_version": "1.2.0"
        },
        "834c2eff634546b89c213712b6bdbb89": {
          "model_module": "@jupyter-widgets/controls",
          "model_name": "DescriptionStyleModel",
          "state": {
            "_view_name": "StyleView",
            "_model_name": "DescriptionStyleModel",
            "description_width": "",
            "_view_module": "@jupyter-widgets/base",
            "_model_module_version": "1.5.0",
            "_view_count": null,
            "_view_module_version": "1.2.0",
            "_model_module": "@jupyter-widgets/controls"
          },
          "model_module_version": "1.5.0"
        },
        "87bd69a1aa20491aa58f884a2b666afb": {
          "model_module": "@jupyter-widgets/base",
          "model_name": "LayoutModel",
          "state": {
            "_view_name": "LayoutView",
            "grid_template_rows": null,
            "right": null,
            "justify_content": null,
            "_view_module": "@jupyter-widgets/base",
            "overflow": null,
            "_model_module_version": "1.2.0",
            "_view_count": null,
            "flex_flow": null,
            "width": null,
            "min_width": null,
            "border": null,
            "align_items": null,
            "bottom": null,
            "_model_module": "@jupyter-widgets/base",
            "top": null,
            "grid_column": null,
            "overflow_y": null,
            "overflow_x": null,
            "grid_auto_flow": null,
            "grid_area": null,
            "grid_template_columns": null,
            "flex": null,
            "_model_name": "LayoutModel",
            "justify_items": null,
            "grid_row": null,
            "max_height": null,
            "align_content": null,
            "visibility": null,
            "align_self": null,
            "height": null,
            "min_height": null,
            "padding": null,
            "grid_auto_rows": null,
            "grid_gap": null,
            "max_width": null,
            "order": null,
            "_view_module_version": "1.2.0",
            "grid_template_areas": null,
            "object_position": null,
            "object_fit": null,
            "grid_auto_columns": null,
            "margin": null,
            "display": null,
            "left": null
          },
          "model_module_version": "1.2.0"
        },
        "22d1daf6e7214e4e8c7b7828a849d8c8": {
          "model_module": "@jupyter-widgets/controls",
          "model_name": "HBoxModel",
          "state": {
            "_view_name": "HBoxView",
            "_dom_classes": [],
            "_model_name": "HBoxModel",
            "_view_module": "@jupyter-widgets/controls",
            "_model_module_version": "1.5.0",
            "_view_count": null,
            "_view_module_version": "1.5.0",
            "box_style": "",
            "layout": "IPY_MODEL_bbde8b5e337942deb5057d66332019fb",
            "_model_module": "@jupyter-widgets/controls",
            "children": [
              "IPY_MODEL_aae63304f2424fd48ab6bd5c44b96ec0",
              "IPY_MODEL_cb61934972ad4afd8cceb73a3e1b04e6"
            ]
          },
          "model_module_version": "1.5.0"
        },
        "bbde8b5e337942deb5057d66332019fb": {
          "model_module": "@jupyter-widgets/base",
          "model_name": "LayoutModel",
          "state": {
            "_view_name": "LayoutView",
            "grid_template_rows": null,
            "right": null,
            "justify_content": null,
            "_view_module": "@jupyter-widgets/base",
            "overflow": null,
            "_model_module_version": "1.2.0",
            "_view_count": null,
            "flex_flow": null,
            "width": null,
            "min_width": null,
            "border": null,
            "align_items": null,
            "bottom": null,
            "_model_module": "@jupyter-widgets/base",
            "top": null,
            "grid_column": null,
            "overflow_y": null,
            "overflow_x": null,
            "grid_auto_flow": null,
            "grid_area": null,
            "grid_template_columns": null,
            "flex": null,
            "_model_name": "LayoutModel",
            "justify_items": null,
            "grid_row": null,
            "max_height": null,
            "align_content": null,
            "visibility": null,
            "align_self": null,
            "height": null,
            "min_height": null,
            "padding": null,
            "grid_auto_rows": null,
            "grid_gap": null,
            "max_width": null,
            "order": null,
            "_view_module_version": "1.2.0",
            "grid_template_areas": null,
            "object_position": null,
            "object_fit": null,
            "grid_auto_columns": null,
            "margin": null,
            "display": null,
            "left": null
          },
          "model_module_version": "1.2.0"
        },
        "aae63304f2424fd48ab6bd5c44b96ec0": {
          "model_module": "@jupyter-widgets/controls",
          "model_name": "FloatProgressModel",
          "state": {
            "_view_name": "ProgressView",
            "style": "IPY_MODEL_f426c4bf1395409faf2839d23d38478b",
            "_dom_classes": [],
            "description": "#2: 100%",
            "_model_name": "FloatProgressModel",
            "bar_style": "success",
            "max": 4,
            "_view_module": "@jupyter-widgets/controls",
            "_model_module_version": "1.5.0",
            "value": 4,
            "_view_count": null,
            "_view_module_version": "1.5.0",
            "orientation": "horizontal",
            "min": 0,
            "description_tooltip": null,
            "_model_module": "@jupyter-widgets/controls",
            "layout": "IPY_MODEL_1be94e315ad14637993dfefc1d2cec3d"
          },
          "model_module_version": "1.5.0"
        },
        "cb61934972ad4afd8cceb73a3e1b04e6": {
          "model_module": "@jupyter-widgets/controls",
          "model_name": "HTMLModel",
          "state": {
            "_view_name": "HTMLView",
            "style": "IPY_MODEL_091dfe45c23c49899a2f36ae25d91e4d",
            "_dom_classes": [],
            "description": "",
            "_model_name": "HTMLModel",
            "placeholder": "​",
            "_view_module": "@jupyter-widgets/controls",
            "_model_module_version": "1.5.0",
            "value": " 4/4 [00:02&lt;00:00,  1.41ba/s]",
            "_view_count": null,
            "_view_module_version": "1.5.0",
            "description_tooltip": null,
            "_model_module": "@jupyter-widgets/controls",
            "layout": "IPY_MODEL_6b421adefa9d4630b064c4b304b58b8e"
          },
          "model_module_version": "1.5.0"
        },
        "f426c4bf1395409faf2839d23d38478b": {
          "model_module": "@jupyter-widgets/controls",
          "model_name": "ProgressStyleModel",
          "state": {
            "_view_name": "StyleView",
            "_model_name": "ProgressStyleModel",
            "description_width": "initial",
            "_view_module": "@jupyter-widgets/base",
            "_model_module_version": "1.5.0",
            "_view_count": null,
            "_view_module_version": "1.2.0",
            "bar_color": null,
            "_model_module": "@jupyter-widgets/controls"
          },
          "model_module_version": "1.5.0"
        },
        "1be94e315ad14637993dfefc1d2cec3d": {
          "model_module": "@jupyter-widgets/base",
          "model_name": "LayoutModel",
          "state": {
            "_view_name": "LayoutView",
            "grid_template_rows": null,
            "right": null,
            "justify_content": null,
            "_view_module": "@jupyter-widgets/base",
            "overflow": null,
            "_model_module_version": "1.2.0",
            "_view_count": null,
            "flex_flow": null,
            "width": null,
            "min_width": null,
            "border": null,
            "align_items": null,
            "bottom": null,
            "_model_module": "@jupyter-widgets/base",
            "top": null,
            "grid_column": null,
            "overflow_y": null,
            "overflow_x": null,
            "grid_auto_flow": null,
            "grid_area": null,
            "grid_template_columns": null,
            "flex": null,
            "_model_name": "LayoutModel",
            "justify_items": null,
            "grid_row": null,
            "max_height": null,
            "align_content": null,
            "visibility": null,
            "align_self": null,
            "height": null,
            "min_height": null,
            "padding": null,
            "grid_auto_rows": null,
            "grid_gap": null,
            "max_width": null,
            "order": null,
            "_view_module_version": "1.2.0",
            "grid_template_areas": null,
            "object_position": null,
            "object_fit": null,
            "grid_auto_columns": null,
            "margin": null,
            "display": null,
            "left": null
          },
          "model_module_version": "1.2.0"
        },
        "091dfe45c23c49899a2f36ae25d91e4d": {
          "model_module": "@jupyter-widgets/controls",
          "model_name": "DescriptionStyleModel",
          "state": {
            "_view_name": "StyleView",
            "_model_name": "DescriptionStyleModel",
            "description_width": "",
            "_view_module": "@jupyter-widgets/base",
            "_model_module_version": "1.5.0",
            "_view_count": null,
            "_view_module_version": "1.2.0",
            "_model_module": "@jupyter-widgets/controls"
          },
          "model_module_version": "1.5.0"
        },
        "6b421adefa9d4630b064c4b304b58b8e": {
          "model_module": "@jupyter-widgets/base",
          "model_name": "LayoutModel",
          "state": {
            "_view_name": "LayoutView",
            "grid_template_rows": null,
            "right": null,
            "justify_content": null,
            "_view_module": "@jupyter-widgets/base",
            "overflow": null,
            "_model_module_version": "1.2.0",
            "_view_count": null,
            "flex_flow": null,
            "width": null,
            "min_width": null,
            "border": null,
            "align_items": null,
            "bottom": null,
            "_model_module": "@jupyter-widgets/base",
            "top": null,
            "grid_column": null,
            "overflow_y": null,
            "overflow_x": null,
            "grid_auto_flow": null,
            "grid_area": null,
            "grid_template_columns": null,
            "flex": null,
            "_model_name": "LayoutModel",
            "justify_items": null,
            "grid_row": null,
            "max_height": null,
            "align_content": null,
            "visibility": null,
            "align_self": null,
            "height": null,
            "min_height": null,
            "padding": null,
            "grid_auto_rows": null,
            "grid_gap": null,
            "max_width": null,
            "order": null,
            "_view_module_version": "1.2.0",
            "grid_template_areas": null,
            "object_position": null,
            "object_fit": null,
            "grid_auto_columns": null,
            "margin": null,
            "display": null,
            "left": null
          },
          "model_module_version": "1.2.0"
        },
        "0d928fce78954ea39ec4810e6ab75f62": {
          "model_module": "@jupyter-widgets/controls",
          "model_name": "HBoxModel",
          "state": {
            "_view_name": "HBoxView",
            "_dom_classes": [],
            "_model_name": "HBoxModel",
            "_view_module": "@jupyter-widgets/controls",
            "_model_module_version": "1.5.0",
            "_view_count": null,
            "_view_module_version": "1.5.0",
            "box_style": "",
            "layout": "IPY_MODEL_ee8eb7712f94439ba2e6523c2877eb71",
            "_model_module": "@jupyter-widgets/controls",
            "children": [
              "IPY_MODEL_fd3d28ecb64f447eb2052e154120e9ea",
              "IPY_MODEL_cad43662ed6e4187a4fe0407ab7ece35"
            ]
          },
          "model_module_version": "1.5.0"
        },
        "ee8eb7712f94439ba2e6523c2877eb71": {
          "model_module": "@jupyter-widgets/base",
          "model_name": "LayoutModel",
          "state": {
            "_view_name": "LayoutView",
            "grid_template_rows": null,
            "right": null,
            "justify_content": null,
            "_view_module": "@jupyter-widgets/base",
            "overflow": null,
            "_model_module_version": "1.2.0",
            "_view_count": null,
            "flex_flow": null,
            "width": null,
            "min_width": null,
            "border": null,
            "align_items": null,
            "bottom": null,
            "_model_module": "@jupyter-widgets/base",
            "top": null,
            "grid_column": null,
            "overflow_y": null,
            "overflow_x": null,
            "grid_auto_flow": null,
            "grid_area": null,
            "grid_template_columns": null,
            "flex": null,
            "_model_name": "LayoutModel",
            "justify_items": null,
            "grid_row": null,
            "max_height": null,
            "align_content": null,
            "visibility": null,
            "align_self": null,
            "height": null,
            "min_height": null,
            "padding": null,
            "grid_auto_rows": null,
            "grid_gap": null,
            "max_width": null,
            "order": null,
            "_view_module_version": "1.2.0",
            "grid_template_areas": null,
            "object_position": null,
            "object_fit": null,
            "grid_auto_columns": null,
            "margin": null,
            "display": null,
            "left": null
          },
          "model_module_version": "1.2.0"
        },
        "fd3d28ecb64f447eb2052e154120e9ea": {
          "model_module": "@jupyter-widgets/controls",
          "model_name": "FloatProgressModel",
          "state": {
            "_view_name": "ProgressView",
            "style": "IPY_MODEL_ed845b129e2849619ebf64b80af0d488",
            "_dom_classes": [],
            "description": "Downloading: ",
            "_model_name": "FloatProgressModel",
            "bar_style": "success",
            "max": 1764,
            "_view_module": "@jupyter-widgets/controls",
            "_model_module_version": "1.5.0",
            "value": 1764,
            "_view_count": null,
            "_view_module_version": "1.5.0",
            "orientation": "horizontal",
            "min": 0,
            "description_tooltip": null,
            "_model_module": "@jupyter-widgets/controls",
            "layout": "IPY_MODEL_b797409f28cd4f36b85d822aa26b0baa"
          },
          "model_module_version": "1.5.0"
        },
        "cad43662ed6e4187a4fe0407ab7ece35": {
          "model_module": "@jupyter-widgets/controls",
          "model_name": "HTMLModel",
          "state": {
            "_view_name": "HTMLView",
            "style": "IPY_MODEL_5783feeef15c4b9b8db240f9e198d50d",
            "_dom_classes": [],
            "description": "",
            "_model_name": "HTMLModel",
            "placeholder": "​",
            "_view_module": "@jupyter-widgets/controls",
            "_model_module_version": "1.5.0",
            "value": " 3.90k/? [01:19&lt;00:00, 49.3B/s]",
            "_view_count": null,
            "_view_module_version": "1.5.0",
            "description_tooltip": null,
            "_model_module": "@jupyter-widgets/controls",
            "layout": "IPY_MODEL_8f86cae4bb5e4fe1b21650b61d58c0db"
          },
          "model_module_version": "1.5.0"
        },
        "ed845b129e2849619ebf64b80af0d488": {
          "model_module": "@jupyter-widgets/controls",
          "model_name": "ProgressStyleModel",
          "state": {
            "_view_name": "StyleView",
            "_model_name": "ProgressStyleModel",
            "description_width": "initial",
            "_view_module": "@jupyter-widgets/base",
            "_model_module_version": "1.5.0",
            "_view_count": null,
            "_view_module_version": "1.2.0",
            "bar_color": null,
            "_model_module": "@jupyter-widgets/controls"
          },
          "model_module_version": "1.5.0"
        },
        "b797409f28cd4f36b85d822aa26b0baa": {
          "model_module": "@jupyter-widgets/base",
          "model_name": "LayoutModel",
          "state": {
            "_view_name": "LayoutView",
            "grid_template_rows": null,
            "right": null,
            "justify_content": null,
            "_view_module": "@jupyter-widgets/base",
            "overflow": null,
            "_model_module_version": "1.2.0",
            "_view_count": null,
            "flex_flow": null,
            "width": null,
            "min_width": null,
            "border": null,
            "align_items": null,
            "bottom": null,
            "_model_module": "@jupyter-widgets/base",
            "top": null,
            "grid_column": null,
            "overflow_y": null,
            "overflow_x": null,
            "grid_auto_flow": null,
            "grid_area": null,
            "grid_template_columns": null,
            "flex": null,
            "_model_name": "LayoutModel",
            "justify_items": null,
            "grid_row": null,
            "max_height": null,
            "align_content": null,
            "visibility": null,
            "align_self": null,
            "height": null,
            "min_height": null,
            "padding": null,
            "grid_auto_rows": null,
            "grid_gap": null,
            "max_width": null,
            "order": null,
            "_view_module_version": "1.2.0",
            "grid_template_areas": null,
            "object_position": null,
            "object_fit": null,
            "grid_auto_columns": null,
            "margin": null,
            "display": null,
            "left": null
          },
          "model_module_version": "1.2.0"
        },
        "5783feeef15c4b9b8db240f9e198d50d": {
          "model_module": "@jupyter-widgets/controls",
          "model_name": "DescriptionStyleModel",
          "state": {
            "_view_name": "StyleView",
            "_model_name": "DescriptionStyleModel",
            "description_width": "",
            "_view_module": "@jupyter-widgets/base",
            "_model_module_version": "1.5.0",
            "_view_count": null,
            "_view_module_version": "1.2.0",
            "_model_module": "@jupyter-widgets/controls"
          },
          "model_module_version": "1.5.0"
        },
        "8f86cae4bb5e4fe1b21650b61d58c0db": {
          "model_module": "@jupyter-widgets/base",
          "model_name": "LayoutModel",
          "state": {
            "_view_name": "LayoutView",
            "grid_template_rows": null,
            "right": null,
            "justify_content": null,
            "_view_module": "@jupyter-widgets/base",
            "overflow": null,
            "_model_module_version": "1.2.0",
            "_view_count": null,
            "flex_flow": null,
            "width": null,
            "min_width": null,
            "border": null,
            "align_items": null,
            "bottom": null,
            "_model_module": "@jupyter-widgets/base",
            "top": null,
            "grid_column": null,
            "overflow_y": null,
            "overflow_x": null,
            "grid_auto_flow": null,
            "grid_area": null,
            "grid_template_columns": null,
            "flex": null,
            "_model_name": "LayoutModel",
            "justify_items": null,
            "grid_row": null,
            "max_height": null,
            "align_content": null,
            "visibility": null,
            "align_self": null,
            "height": null,
            "min_height": null,
            "padding": null,
            "grid_auto_rows": null,
            "grid_gap": null,
            "max_width": null,
            "order": null,
            "_view_module_version": "1.2.0",
            "grid_template_areas": null,
            "object_position": null,
            "object_fit": null,
            "grid_auto_columns": null,
            "margin": null,
            "display": null,
            "left": null
          },
          "model_module_version": "1.2.0"
        },
        "00a669d7d8b4414eb5d238d0752aa179": {
          "model_module": "@jupyter-widgets/controls",
          "model_name": "HBoxModel",
          "state": {
            "_view_name": "HBoxView",
            "_dom_classes": [],
            "_model_name": "HBoxModel",
            "_view_module": "@jupyter-widgets/controls",
            "_model_module_version": "1.5.0",
            "_view_count": null,
            "_view_module_version": "1.5.0",
            "box_style": "",
            "layout": "IPY_MODEL_4f6d9926e5b648e4bc24961492e5749f",
            "_model_module": "@jupyter-widgets/controls",
            "children": [
              "IPY_MODEL_2549e70ac70b45c2ab6074e929f79b8a",
              "IPY_MODEL_c3674f5c6b16419fbffdce1d9f0e3a98"
            ]
          },
          "model_module_version": "1.5.0"
        },
        "4f6d9926e5b648e4bc24961492e5749f": {
          "model_module": "@jupyter-widgets/base",
          "model_name": "LayoutModel",
          "state": {
            "_view_name": "LayoutView",
            "grid_template_rows": null,
            "right": null,
            "justify_content": null,
            "_view_module": "@jupyter-widgets/base",
            "overflow": null,
            "_model_module_version": "1.2.0",
            "_view_count": null,
            "flex_flow": null,
            "width": null,
            "min_width": null,
            "border": null,
            "align_items": null,
            "bottom": null,
            "_model_module": "@jupyter-widgets/base",
            "top": null,
            "grid_column": null,
            "overflow_y": null,
            "overflow_x": null,
            "grid_auto_flow": null,
            "grid_area": null,
            "grid_template_columns": null,
            "flex": null,
            "_model_name": "LayoutModel",
            "justify_items": null,
            "grid_row": null,
            "max_height": null,
            "align_content": null,
            "visibility": null,
            "align_self": null,
            "height": null,
            "min_height": null,
            "padding": null,
            "grid_auto_rows": null,
            "grid_gap": null,
            "max_width": null,
            "order": null,
            "_view_module_version": "1.2.0",
            "grid_template_areas": null,
            "object_position": null,
            "object_fit": null,
            "grid_auto_columns": null,
            "margin": null,
            "display": null,
            "left": null
          },
          "model_module_version": "1.2.0"
        },
        "2549e70ac70b45c2ab6074e929f79b8a": {
          "model_module": "@jupyter-widgets/controls",
          "model_name": "FloatProgressModel",
          "state": {
            "_view_name": "ProgressView",
            "style": "IPY_MODEL_737ecdf861b24336a14b99a6d49f9ea9",
            "_dom_classes": [],
            "description": "Downloading: 100%",
            "_model_name": "FloatProgressModel",
            "bar_style": "success",
            "max": 1451,
            "_view_module": "@jupyter-widgets/controls",
            "_model_module_version": "1.5.0",
            "value": 1451,
            "_view_count": null,
            "_view_module_version": "1.5.0",
            "orientation": "horizontal",
            "min": 0,
            "description_tooltip": null,
            "_model_module": "@jupyter-widgets/controls",
            "layout": "IPY_MODEL_abc8f92284514821965088a55db517f4"
          },
          "model_module_version": "1.5.0"
        },
        "c3674f5c6b16419fbffdce1d9f0e3a98": {
          "model_module": "@jupyter-widgets/controls",
          "model_name": "HTMLModel",
          "state": {
            "_view_name": "HTMLView",
            "style": "IPY_MODEL_54abfbd130e24b73809a1fb82925d19f",
            "_dom_classes": [],
            "description": "",
            "_model_name": "HTMLModel",
            "placeholder": "​",
            "_view_module": "@jupyter-widgets/controls",
            "_model_module_version": "1.5.0",
            "value": " 1.45k/1.45k [00:00&lt;00:00, 16.9kB/s]",
            "_view_count": null,
            "_view_module_version": "1.5.0",
            "description_tooltip": null,
            "_model_module": "@jupyter-widgets/controls",
            "layout": "IPY_MODEL_5cd6493b8f02423b8f0d0a7530f40880"
          },
          "model_module_version": "1.5.0"
        },
        "737ecdf861b24336a14b99a6d49f9ea9": {
          "model_module": "@jupyter-widgets/controls",
          "model_name": "ProgressStyleModel",
          "state": {
            "_view_name": "StyleView",
            "_model_name": "ProgressStyleModel",
            "description_width": "initial",
            "_view_module": "@jupyter-widgets/base",
            "_model_module_version": "1.5.0",
            "_view_count": null,
            "_view_module_version": "1.2.0",
            "bar_color": null,
            "_model_module": "@jupyter-widgets/controls"
          },
          "model_module_version": "1.5.0"
        },
        "abc8f92284514821965088a55db517f4": {
          "model_module": "@jupyter-widgets/base",
          "model_name": "LayoutModel",
          "state": {
            "_view_name": "LayoutView",
            "grid_template_rows": null,
            "right": null,
            "justify_content": null,
            "_view_module": "@jupyter-widgets/base",
            "overflow": null,
            "_model_module_version": "1.2.0",
            "_view_count": null,
            "flex_flow": null,
            "width": null,
            "min_width": null,
            "border": null,
            "align_items": null,
            "bottom": null,
            "_model_module": "@jupyter-widgets/base",
            "top": null,
            "grid_column": null,
            "overflow_y": null,
            "overflow_x": null,
            "grid_auto_flow": null,
            "grid_area": null,
            "grid_template_columns": null,
            "flex": null,
            "_model_name": "LayoutModel",
            "justify_items": null,
            "grid_row": null,
            "max_height": null,
            "align_content": null,
            "visibility": null,
            "align_self": null,
            "height": null,
            "min_height": null,
            "padding": null,
            "grid_auto_rows": null,
            "grid_gap": null,
            "max_width": null,
            "order": null,
            "_view_module_version": "1.2.0",
            "grid_template_areas": null,
            "object_position": null,
            "object_fit": null,
            "grid_auto_columns": null,
            "margin": null,
            "display": null,
            "left": null
          },
          "model_module_version": "1.2.0"
        },
        "54abfbd130e24b73809a1fb82925d19f": {
          "model_module": "@jupyter-widgets/controls",
          "model_name": "DescriptionStyleModel",
          "state": {
            "_view_name": "StyleView",
            "_model_name": "DescriptionStyleModel",
            "description_width": "",
            "_view_module": "@jupyter-widgets/base",
            "_model_module_version": "1.5.0",
            "_view_count": null,
            "_view_module_version": "1.2.0",
            "_model_module": "@jupyter-widgets/controls"
          },
          "model_module_version": "1.5.0"
        },
        "5cd6493b8f02423b8f0d0a7530f40880": {
          "model_module": "@jupyter-widgets/base",
          "model_name": "LayoutModel",
          "state": {
            "_view_name": "LayoutView",
            "grid_template_rows": null,
            "right": null,
            "justify_content": null,
            "_view_module": "@jupyter-widgets/base",
            "overflow": null,
            "_model_module_version": "1.2.0",
            "_view_count": null,
            "flex_flow": null,
            "width": null,
            "min_width": null,
            "border": null,
            "align_items": null,
            "bottom": null,
            "_model_module": "@jupyter-widgets/base",
            "top": null,
            "grid_column": null,
            "overflow_y": null,
            "overflow_x": null,
            "grid_auto_flow": null,
            "grid_area": null,
            "grid_template_columns": null,
            "flex": null,
            "_model_name": "LayoutModel",
            "justify_items": null,
            "grid_row": null,
            "max_height": null,
            "align_content": null,
            "visibility": null,
            "align_self": null,
            "height": null,
            "min_height": null,
            "padding": null,
            "grid_auto_rows": null,
            "grid_gap": null,
            "max_width": null,
            "order": null,
            "_view_module_version": "1.2.0",
            "grid_template_areas": null,
            "object_position": null,
            "object_fit": null,
            "grid_auto_columns": null,
            "margin": null,
            "display": null,
            "left": null
          },
          "model_module_version": "1.2.0"
        },
        "e3cffe583db84ce1b7d5add04680f345": {
          "model_module": "@jupyter-widgets/controls",
          "model_name": "HBoxModel",
          "state": {
            "_view_name": "HBoxView",
            "_dom_classes": [],
            "_model_name": "HBoxModel",
            "_view_module": "@jupyter-widgets/controls",
            "_model_module_version": "1.5.0",
            "_view_count": null,
            "_view_module_version": "1.5.0",
            "box_style": "",
            "layout": "IPY_MODEL_24dbdbe0f6834316aa2beb76ed6a801c",
            "_model_module": "@jupyter-widgets/controls",
            "children": [
              "IPY_MODEL_c4d3ab69618c452f8075ea4981d1fd72",
              "IPY_MODEL_dc9792a58f1949d298fe15b08b08520f"
            ]
          },
          "model_module_version": "1.5.0"
        },
        "24dbdbe0f6834316aa2beb76ed6a801c": {
          "model_module": "@jupyter-widgets/base",
          "model_name": "LayoutModel",
          "state": {
            "_view_name": "LayoutView",
            "grid_template_rows": null,
            "right": null,
            "justify_content": null,
            "_view_module": "@jupyter-widgets/base",
            "overflow": null,
            "_model_module_version": "1.2.0",
            "_view_count": null,
            "flex_flow": null,
            "width": null,
            "min_width": null,
            "border": null,
            "align_items": null,
            "bottom": null,
            "_model_module": "@jupyter-widgets/base",
            "top": null,
            "grid_column": null,
            "overflow_y": null,
            "overflow_x": null,
            "grid_auto_flow": null,
            "grid_area": null,
            "grid_template_columns": null,
            "flex": null,
            "_model_name": "LayoutModel",
            "justify_items": null,
            "grid_row": null,
            "max_height": null,
            "align_content": null,
            "visibility": null,
            "align_self": null,
            "height": null,
            "min_height": null,
            "padding": null,
            "grid_auto_rows": null,
            "grid_gap": null,
            "max_width": null,
            "order": null,
            "_view_module_version": "1.2.0",
            "grid_template_areas": null,
            "object_position": null,
            "object_fit": null,
            "grid_auto_columns": null,
            "margin": null,
            "display": null,
            "left": null
          },
          "model_module_version": "1.2.0"
        },
        "c4d3ab69618c452f8075ea4981d1fd72": {
          "model_module": "@jupyter-widgets/controls",
          "model_name": "FloatProgressModel",
          "state": {
            "_view_name": "ProgressView",
            "style": "IPY_MODEL_366f09129a394f4695fd38c383236028",
            "_dom_classes": [],
            "description": "Downloading: 100%",
            "_model_name": "FloatProgressModel",
            "bar_style": "success",
            "max": 1261920069,
            "_view_module": "@jupyter-widgets/controls",
            "_model_module_version": "1.5.0",
            "value": 1261920069,
            "_view_count": null,
            "_view_module_version": "1.5.0",
            "orientation": "horizontal",
            "min": 0,
            "description_tooltip": null,
            "_model_module": "@jupyter-widgets/controls",
            "layout": "IPY_MODEL_238c114ea41d4128a373740c609fb4f0"
          },
          "model_module_version": "1.5.0"
        },
        "dc9792a58f1949d298fe15b08b08520f": {
          "model_module": "@jupyter-widgets/controls",
          "model_name": "HTMLModel",
          "state": {
            "_view_name": "HTMLView",
            "style": "IPY_MODEL_23ffb36fd5374afe9404a1dd4e737cb2",
            "_dom_classes": [],
            "description": "",
            "_model_name": "HTMLModel",
            "placeholder": "​",
            "_view_module": "@jupyter-widgets/controls",
            "_model_module_version": "1.5.0",
            "value": " 1.26G/1.26G [00:30&lt;00:00, 41.7MB/s]",
            "_view_count": null,
            "_view_module_version": "1.5.0",
            "description_tooltip": null,
            "_model_module": "@jupyter-widgets/controls",
            "layout": "IPY_MODEL_b81791ba9b424db292146001e2480795"
          },
          "model_module_version": "1.5.0"
        },
        "366f09129a394f4695fd38c383236028": {
          "model_module": "@jupyter-widgets/controls",
          "model_name": "ProgressStyleModel",
          "state": {
            "_view_name": "StyleView",
            "_model_name": "ProgressStyleModel",
            "description_width": "initial",
            "_view_module": "@jupyter-widgets/base",
            "_model_module_version": "1.5.0",
            "_view_count": null,
            "_view_module_version": "1.2.0",
            "bar_color": null,
            "_model_module": "@jupyter-widgets/controls"
          },
          "model_module_version": "1.5.0"
        },
        "238c114ea41d4128a373740c609fb4f0": {
          "model_module": "@jupyter-widgets/base",
          "model_name": "LayoutModel",
          "state": {
            "_view_name": "LayoutView",
            "grid_template_rows": null,
            "right": null,
            "justify_content": null,
            "_view_module": "@jupyter-widgets/base",
            "overflow": null,
            "_model_module_version": "1.2.0",
            "_view_count": null,
            "flex_flow": null,
            "width": null,
            "min_width": null,
            "border": null,
            "align_items": null,
            "bottom": null,
            "_model_module": "@jupyter-widgets/base",
            "top": null,
            "grid_column": null,
            "overflow_y": null,
            "overflow_x": null,
            "grid_auto_flow": null,
            "grid_area": null,
            "grid_template_columns": null,
            "flex": null,
            "_model_name": "LayoutModel",
            "justify_items": null,
            "grid_row": null,
            "max_height": null,
            "align_content": null,
            "visibility": null,
            "align_self": null,
            "height": null,
            "min_height": null,
            "padding": null,
            "grid_auto_rows": null,
            "grid_gap": null,
            "max_width": null,
            "order": null,
            "_view_module_version": "1.2.0",
            "grid_template_areas": null,
            "object_position": null,
            "object_fit": null,
            "grid_auto_columns": null,
            "margin": null,
            "display": null,
            "left": null
          },
          "model_module_version": "1.2.0"
        },
        "23ffb36fd5374afe9404a1dd4e737cb2": {
          "model_module": "@jupyter-widgets/controls",
          "model_name": "DescriptionStyleModel",
          "state": {
            "_view_name": "StyleView",
            "_model_name": "DescriptionStyleModel",
            "description_width": "",
            "_view_module": "@jupyter-widgets/base",
            "_model_module_version": "1.5.0",
            "_view_count": null,
            "_view_module_version": "1.2.0",
            "_model_module": "@jupyter-widgets/controls"
          },
          "model_module_version": "1.5.0"
        },
        "b81791ba9b424db292146001e2480795": {
          "model_module": "@jupyter-widgets/base",
          "model_name": "LayoutModel",
          "state": {
            "_view_name": "LayoutView",
            "grid_template_rows": null,
            "right": null,
            "justify_content": null,
            "_view_module": "@jupyter-widgets/base",
            "overflow": null,
            "_model_module_version": "1.2.0",
            "_view_count": null,
            "flex_flow": null,
            "width": null,
            "min_width": null,
            "border": null,
            "align_items": null,
            "bottom": null,
            "_model_module": "@jupyter-widgets/base",
            "top": null,
            "grid_column": null,
            "overflow_y": null,
            "overflow_x": null,
            "grid_auto_flow": null,
            "grid_area": null,
            "grid_template_columns": null,
            "flex": null,
            "_model_name": "LayoutModel",
            "justify_items": null,
            "grid_row": null,
            "max_height": null,
            "align_content": null,
            "visibility": null,
            "align_self": null,
            "height": null,
            "min_height": null,
            "padding": null,
            "grid_auto_rows": null,
            "grid_gap": null,
            "max_width": null,
            "order": null,
            "_view_module_version": "1.2.0",
            "grid_template_areas": null,
            "object_position": null,
            "object_fit": null,
            "grid_auto_columns": null,
            "margin": null,
            "display": null,
            "left": null
          },
          "model_module_version": "1.2.0"
        }
      }
    },
    "accelerator": "GPU"
  },
  "cells": [
    {
      "cell_type": "markdown",
      "metadata": {
        "id": "view-in-github",
        "colab_type": "text"
      },
      "source": [
        "<a href=\"https://colab.research.google.com/github/kumar045/Assignment-For-Filed/blob/main/Fine_Tune_XLSR_Wav2Vec2_on_Hindi_ASR_with_%F0%9F%A4%97_Transformers.ipynb\" target=\"_parent\"><img src=\"https://colab.research.google.com/assets/colab-badge.svg\" alt=\"Open In Colab\"/></a>"
      ]
    },
    {
      "cell_type": "markdown",
      "metadata": {
        "id": "LBSYoWbi-45k"
      },
      "source": [
        "# **Fine-tuning XLSR-Wav2Vec2 for Multi-Lingual ASR with 🤗 Transformers**"
      ]
    },
    {
      "cell_type": "markdown",
      "metadata": {
        "id": "V7YOT2mnUiea"
      },
      "source": [
        "Wav2Vec2 is a pretrained model for Automatic Speech Recognition (ASR) and was released in [September 2020](https://ai.facebook.com/blog/wav2vec-20-learning-the-structure-of-speech-from-raw-audio/) by Alexei Baevski, Michael Auli, and Alex Conneau.  Soon after the superior performance of Wav2Vec2 was demonstrated on the English ASR dataset LibriSpeech, *Facebook AI* presented XLSR-Wav2Vec2 (click [here](https://arxiv.org/abs/2006.13979)). XLSR stands for *cross-lingual  speech representations* and refers to XLSR-Wav2Vec2`s ability to learn speech representations that are useful across multiple languages.\n",
        "\n",
        "Similar to Wav2Vec2, XLSR-Wav2Vec2 learns powerful speech representations from hundreds of thousands of hours of speech in more than 50 languages of unlabeled speech. Similar, to [BERT's masked language modeling](http://jalammar.github.io/illustrated-bert/), the model learns contextualized speech representations by randomly masking feature vectors before passing them to a transformer network.\n",
        "\n",
        "![wav2vec2_structure](https://raw.githubusercontent.com/patrickvonplaten/scientific_images/master/xlsr_wav2vec2.png)\n",
        "\n",
        "The authors show for the first time that massively pretraining an ASR model on cross-lingual unlabeled speech data, followed by language-specific fine-tuning on very little labeled data achieves state-of-the-art results. See Table 1-5 of the official [paper](https://arxiv.org/pdf/2006.13979.pdf)."
      ]
    },
    {
      "cell_type": "markdown",
      "metadata": {
        "id": "nT_QrfWtsxIz"
      },
      "source": [
        "In this notebook, we will give an in-detail explanation of how XLSR-Wav2Vec2's pretrained checkpoint can be fine-tuned on a low-resource ASR dataset of any language. Note that in this notebook, we will fine-tune XLSR-Wav2Vec2 without making use of a language model. It is much simpler and more efficient to use XLSR-Wav2Vec2 without a language model, but better results can be achieved by including a language model.\n",
        "\n",
        "For demonstration purposes, we fine-tune the [wav2vec2-large-xlsr-53](https://huggingface.co/facebook/wav2vec2-large-xlsr-53) on the low resource Turkish ASR dataset of [Common Voice](https://huggingface.co/datasets/common_voice) that contains just ~6h of validated training data."
      ]
    },
    {
      "cell_type": "markdown",
      "metadata": {
        "id": "Gx9OdDYrCtQ1"
      },
      "source": [
        "XLSR-Wav2Vec2 is fine-tuned using Connectionist Temporal Classification (CTC), which is an algorithm that is used to train neural networks for sequence-to-sequence problems and mainly in Automatic Speech Recognition and handwriting recognition.\n",
        "\n",
        "I highly recommend reading the blog post [Sequence Modeling with CTC (2017)](https://distill.pub/2017/ctc/) very well-written blog post by Awni Hannun."
      ]
    },
    {
      "cell_type": "markdown",
      "metadata": {
        "id": "e335hPmdtASZ"
      },
      "source": [
        "Before we start, let's install both `datasets` and `transformers` from master. Also, we need the `torchaudio` and `librosa` package to load audio files and the `jiwer` to evaluate our fine-tuned model using the [word error rate (WER)](https://huggingface.co/metrics/wer) metric ${}^1$."
      ]
    },
    {
      "cell_type": "code",
      "metadata": {
        "id": "c8eh87Hoee5d"
      },
      "source": [
        "%%capture\n",
        "!pip install datasets==1.4.1\n",
        "!pip install transformers==4.4.0\n",
        "!pip install torchaudio\n",
        "!pip install librosa\n",
        "!pip install jiwer"
      ],
      "execution_count": null,
      "outputs": []
    },
    {
      "cell_type": "markdown",
      "metadata": {
        "id": "Mn9swf6EQ9Vd"
      },
      "source": [
        "\n",
        "\n",
        "\n",
        "---\n",
        "\n",
        "${}^1$ In the [paper](https://arxiv.org/pdf/2006.13979.pdf), the model was evaluated using the phoneme error rate (PER), but by far the most common metric in ASR is the word error rate (WER). To keep this notebook as general as possible we decided to evaluate the model using WER."
      ]
    },
    {
      "cell_type": "markdown",
      "metadata": {
        "id": "0mW-C1Nt-j7k"
      },
      "source": [
        "## Prepare Data, Tokenizer, Feature Extractor"
      ]
    },
    {
      "cell_type": "markdown",
      "metadata": {
        "id": "BeBosnY9BH3e"
      },
      "source": [
        "ASR models transcribe speech to text, which means that we both need a feature extractor that processes the speech signal to the model's input format, *e.g.* a feature vector, and a tokenizer that processes the model's output format to text.\n",
        "\n",
        "In 🤗 Transformers, the XLSR-Wav2Vec2 model is thus accompanied by both a tokenizer, called [Wav2Vec2CTCTokenizer](https://huggingface.co/transformers/master/model_doc/wav2vec2.html#wav2vec2ctctokenizer), and a feature extractor, called [Wav2Vec2FeatureExtractor](https://huggingface.co/transformers/master/model_doc/wav2vec2.html#wav2vec2featureextractor).\n",
        "\n",
        "Let's start by creating the tokenizer responsible for decoding the model's predictions."
      ]
    },
    {
      "cell_type": "markdown",
      "metadata": {
        "id": "sEXEWEJGQPqD"
      },
      "source": [
        "### Create Wav2Vec2CTCTokenizer"
      ]
    },
    {
      "cell_type": "markdown",
      "metadata": {
        "id": "tWmMikuNEKl_"
      },
      "source": [
        "The [pretrained Wav2Vec2 checkpoint]( ) maps the speech signal to a sequence of context representations as illustrated in the figure above. A fine-tuned XLSR-Wav2Vec2 checkpoint needs to map this sequence of context representations to its corresponding transcription so that a linear layer has to be added on top of the transformer block (shown in yellow). This linear layer is used to classifies each context representation to a token class analogous how, *e.g.*, after pretraining a linear layer is added on top of BERT's embeddings for further classification - *cf.* with *\"BERT\"* section of this [blog post](https://huggingface.co/blog/warm-starting-encoder-decoder).\n",
        "\n",
        "The output size of this layer corresponds to the number of tokens in the vocabulary, which does **not** depend on XLSR-Wav2Vec2's pretraining task, but only on the labeled dataset used for fine-tuning. So in the first step, we will take a look at Common Voice and define a vocabulary based on the dataset's transcriptions."
      ]
    },
    {
      "cell_type": "markdown",
      "metadata": {
        "id": "idBczw8mWzgt"
      },
      "source": [
        "First, let's go to [Common Voice](https://commonvoice.mozilla.org/en/datasets) and pick a language to fine-tune XLSR-Wav2Vec2 on. For this notebook, we will use Turkish.\n",
        "\n",
        "For each language-specific dataset, you can find a language code corresponding to your chosen language. On [Common Voice](https://commonvoice.mozilla.org/en/datasets), look for the field \"Version\". The language code then corresponds to the prefix before the underscore. For Turkish, *e.g.* the language code is `\"tr\"`.\n",
        "\n",
        "Great, now we can use 🤗 Datasets' simple API to download the data. The dataset name will be `\"common_voice\"`, the config name corresponds to the language code - `\"tr\"` in our case."
      ]
    },
    {
      "cell_type": "markdown",
      "metadata": {
        "id": "bee4g9rpLxll"
      },
      "source": [
        "Common Voice has many different splits including `invalidated`, which refers to data that was not rated as \"clean enough\" to be considered useful. In this notebook, we will only make use of the splits `\"train\"`, `\"validation\"` and `\"test\"`.\n",
        "\n",
        "Because the Turkish dataset is so small, we will merge both the validation and training data into a training dataset and simply use the test data for validation."
      ]
    },
    {
      "cell_type": "code",
      "metadata": {
        "id": "2MMXcWFFgCXU",
        "colab": {
          "base_uri": "https://localhost:8080/",
          "height": 303,
          "referenced_widgets": [
            "4244c46dbc574618bc5f950d47b49987",
            "ad2850e97c014d8f838cf69614ad3e2b",
            "f68a39f3275a4688bb888c9776501dbb",
            "0519e85f94424377bbdaa601702ce9a9",
            "3d1756785a714dc4a648cacdaeb69102",
            "ed0f46984bf8461883e54d1094ba30ee",
            "5aaa70ddf67545e58060ef5445aeded7",
            "7ba09625e6b240579545cfd9a589ed1a",
            "3e75bc00144644febabfe6676046b282",
            "4b42d2e6477e4085b3d592cfe989d1de",
            "9d10803607994d63ac575a8796760400",
            "b6c4d227c1d6465b8f9115ad7c8daba9",
            "50d18d95cda249c4b17033c4bd131926",
            "eb082757c366438490abf3d6fdb286ea",
            "517edacff9e444b090e19eadbe0af459",
            "f574502b4f57453eb51ba0fb997c80eb",
            "a4f18da40efd46a499974b50834f922f",
            "28079c5923734e6181ffc80272c4d15e",
            "e548c10115464df2a76a733c4d3a3663",
            "d3cffd538a9e4a099003b26696f8b068",
            "1ec247886813488f9bae84bd8356bd45",
            "4ea7936e07ab446cbbb08cd25a9e1092",
            "64b32dd579774ddc9e1db1aa0219c0d7",
            "c88a2585f05a4858ae883ec379e803c7",
            "f69147a5fd0245a2b40b8fb77cfff5a8",
            "139d9aac43e041bea1a36042319586e2",
            "8d3a1bc45ed54b26921ae023aa02d0f1",
            "5675d063674a493ebc60095ce4e54377",
            "2d416e82ad3e4542ab82e2c68c82aa66",
            "c78131da3f544ed39e8c374f870c080b",
            "843eae652cee414694c5c7161411c21b",
            "a495c260145e484bb9edc763a0ed26fd",
            "714de99ccacd40c4ac90202769dc5cb0",
            "831a74b84bae4785a528b24aa0e701b1",
            "96cc5bead15c46df94f9e2e8a28a4f53",
            "d0465697c6a44b239656b60089ca3371",
            "ceb3734d38554a1d9203e5652df5d867",
            "e2dc81d526894dc49f4f3c2a87a598ce",
            "4c49d6f2c987423a8bcd39764e0d2eda",
            "10fb3b9746994e919790f29079b2e69d",
            "ad95a09214b94242a9d4f4c7783f311e",
            "17946aa6b87f4ae6b6f1ea4d36291627",
            "17810f9a197b431f9cd1cc6298d0cad4",
            "c11b2601eb1842058a855e62cf909489",
            "39714d648c164dfb88cebcd1459873a2",
            "93024634bd8041e9a490ddcbc33dbb57",
            "343a2e57f5904008bdab56421ec0eb34",
            "0873454d5687431390801b780e5f2951",
            "cfc5519c45354a12867f4ef6cb84f8e4",
            "8c85552c7de34dcc847cab20ba45627b",
            "e331cf86c64d4ba48317d3853910ba3a",
            "92d0e596a3954b7b93f3d68f5b44b822",
            "0b5d82282bb848e4b8ddcc40581afe0d",
            "a0afc744eb994bc5b768552ef8ca4da6",
            "d03abbb8b05f45b9976e90fb5553c517",
            "cd51820083d344d4893bf28791e46ed9",
            "887300791c1044809ad911a8a8eaf798",
            "e64798b4b2994a50902fb21541d6c9ff",
            "9ca1f41bf3694567a56a1893baf52fd1",
            "f4db2a134b594234a10704be86af40ae",
            "590f5cf8297a4d8187308f66c6263dcf",
            "d2e74145aae5413fa29acf09863353b8",
            "19fd5836df014d0f9fee4e2a5a345f0c",
            "c99a3c4b1e5f4bf9a6eacdfbfdc3388d"
          ]
        },
        "outputId": "8cb77d29-7c1f-4823-9518-73a6f0e23f4a"
      },
      "source": [
        "from datasets import load_dataset, load_metric\n",
        "\n",
        "common_voice_train = load_dataset(\"common_voice\", \"hi\", split=\"train+validation\")\n",
        "common_voice_test = load_dataset(\"common_voice\", \"hi\", split=\"test\")"
      ],
      "execution_count": null,
      "outputs": [
        {
          "output_type": "display_data",
          "data": {
            "application/vnd.jupyter.widget-view+json": {
              "model_id": "4244c46dbc574618bc5f950d47b49987",
              "version_minor": 0,
              "version_major": 2
            },
            "text/plain": [
              "HBox(children=(FloatProgress(value=0.0, description='Downloading', max=4323.0, style=ProgressStyle(description…"
            ]
          },
          "metadata": {
            "tags": []
          }
        },
        {
          "output_type": "stream",
          "text": [
            "Couldn't find file locally at common_voice/common_voice.py, or remotely at https://raw.githubusercontent.com/huggingface/datasets/1.4.1/datasets/common_voice/common_voice.py.\n",
            "The file was picked from the master branch on github instead at https://raw.githubusercontent.com/huggingface/datasets/master/datasets/common_voice/common_voice.py.\n"
          ],
          "name": "stderr"
        },
        {
          "output_type": "stream",
          "text": [
            "\n"
          ],
          "name": "stdout"
        },
        {
          "output_type": "display_data",
          "data": {
            "application/vnd.jupyter.widget-view+json": {
              "model_id": "3e75bc00144644febabfe6676046b282",
              "version_minor": 0,
              "version_major": 2
            },
            "text/plain": [
              "HBox(children=(FloatProgress(value=0.0, description='Downloading', max=9954.0, style=ProgressStyle(description…"
            ]
          },
          "metadata": {
            "tags": []
          }
        },
        {
          "output_type": "stream",
          "text": [
            "\n",
            "Downloading and preparing dataset common_voice/hi (download: 20.43 MiB, generated: 286.19 KiB, post-processed: Unknown size, total: 20.71 MiB) to /root/.cache/huggingface/datasets/common_voice/hi/6.1.0/0041e06ab061b91d0a23234a2221e87970a19cf3a81b20901474cffffeb7869f...\n"
          ],
          "name": "stdout"
        },
        {
          "output_type": "display_data",
          "data": {
            "application/vnd.jupyter.widget-view+json": {
              "model_id": "a4f18da40efd46a499974b50834f922f",
              "version_minor": 0,
              "version_major": 2
            },
            "text/plain": [
              "HBox(children=(FloatProgress(value=0.0, description='Downloading', max=21424045.0, style=ProgressStyle(descrip…"
            ]
          },
          "metadata": {
            "tags": []
          }
        },
        {
          "output_type": "stream",
          "text": [
            "\n"
          ],
          "name": "stdout"
        },
        {
          "output_type": "display_data",
          "data": {
            "application/vnd.jupyter.widget-view+json": {
              "model_id": "f69147a5fd0245a2b40b8fb77cfff5a8",
              "version_minor": 0,
              "version_major": 2
            },
            "text/plain": [
              "HBox(children=(FloatProgress(value=1.0, bar_style='info', max=1.0), HTML(value='')))"
            ]
          },
          "metadata": {
            "tags": []
          }
        },
        {
          "output_type": "stream",
          "text": [
            "\r"
          ],
          "name": "stdout"
        },
        {
          "output_type": "display_data",
          "data": {
            "application/vnd.jupyter.widget-view+json": {
              "model_id": "714de99ccacd40c4ac90202769dc5cb0",
              "version_minor": 0,
              "version_major": 2
            },
            "text/plain": [
              "HBox(children=(FloatProgress(value=1.0, bar_style='info', max=1.0), HTML(value='')))"
            ]
          },
          "metadata": {
            "tags": []
          }
        },
        {
          "output_type": "stream",
          "text": [
            "\r"
          ],
          "name": "stdout"
        },
        {
          "output_type": "display_data",
          "data": {
            "application/vnd.jupyter.widget-view+json": {
              "model_id": "ad95a09214b94242a9d4f4c7783f311e",
              "version_minor": 0,
              "version_major": 2
            },
            "text/plain": [
              "HBox(children=(FloatProgress(value=1.0, bar_style='info', max=1.0), HTML(value='')))"
            ]
          },
          "metadata": {
            "tags": []
          }
        },
        {
          "output_type": "stream",
          "text": [
            "\r"
          ],
          "name": "stdout"
        },
        {
          "output_type": "display_data",
          "data": {
            "application/vnd.jupyter.widget-view+json": {
              "model_id": "cfc5519c45354a12867f4ef6cb84f8e4",
              "version_minor": 0,
              "version_major": 2
            },
            "text/plain": [
              "HBox(children=(FloatProgress(value=1.0, bar_style='info', max=1.0), HTML(value='')))"
            ]
          },
          "metadata": {
            "tags": []
          }
        },
        {
          "output_type": "stream",
          "text": [
            "\r"
          ],
          "name": "stdout"
        },
        {
          "output_type": "display_data",
          "data": {
            "application/vnd.jupyter.widget-view+json": {
              "model_id": "887300791c1044809ad911a8a8eaf798",
              "version_minor": 0,
              "version_major": 2
            },
            "text/plain": [
              "HBox(children=(FloatProgress(value=1.0, bar_style='info', max=1.0), HTML(value='')))"
            ]
          },
          "metadata": {
            "tags": []
          }
        },
        {
          "output_type": "stream",
          "text": [
            "\rDataset common_voice downloaded and prepared to /root/.cache/huggingface/datasets/common_voice/hi/6.1.0/0041e06ab061b91d0a23234a2221e87970a19cf3a81b20901474cffffeb7869f. Subsequent calls will reuse this data.\n"
          ],
          "name": "stdout"
        },
        {
          "output_type": "stream",
          "text": [
            "Couldn't find file locally at common_voice/common_voice.py, or remotely at https://raw.githubusercontent.com/huggingface/datasets/1.4.1/datasets/common_voice/common_voice.py.\n",
            "The file was picked from the master branch on github instead at https://raw.githubusercontent.com/huggingface/datasets/master/datasets/common_voice/common_voice.py.\n",
            "Reusing dataset common_voice (/root/.cache/huggingface/datasets/common_voice/hi/6.1.0/0041e06ab061b91d0a23234a2221e87970a19cf3a81b20901474cffffeb7869f)\n"
          ],
          "name": "stderr"
        }
      ]
    },
    {
      "cell_type": "markdown",
      "metadata": {
        "id": "ri5y5N_HMANq"
      },
      "source": [
        "Many ASR datasets only provide the target text, `'sentence'` for each audio file `'path'`. Common Voice actually provides much more information about each audio file, such as the `'accent'`, etc. However, we want to keep the notebook as general as possible, so that we will only consider the transcribed text for fine-tuning.\n",
        "\n"
      ]
    },
    {
      "cell_type": "code",
      "metadata": {
        "id": "kbyq6lDgQc2a"
      },
      "source": [
        "common_voice_train = common_voice_train.remove_columns([\"accent\", \"age\", \"client_id\", \"down_votes\", \"gender\", \"locale\", \"segment\", \"up_votes\"])\n",
        "common_voice_test = common_voice_test.remove_columns([\"accent\", \"age\", \"client_id\", \"down_votes\", \"gender\", \"locale\", \"segment\", \"up_votes\"])"
      ],
      "execution_count": null,
      "outputs": []
    },
    {
      "cell_type": "markdown",
      "metadata": {
        "id": "Go9Hq4e4NDT9"
      },
      "source": [
        "Let's write a short function to display some random samples of the dataset and run it a couple of times to get a feeling for the transcriptions."
      ]
    },
    {
      "cell_type": "code",
      "metadata": {
        "id": "72737oog2F6U"
      },
      "source": [
        "from datasets import ClassLabel\n",
        "import random\n",
        "import pandas as pd\n",
        "from IPython.display import display, HTML\n",
        "\n",
        "def show_random_elements(dataset, num_examples=10):\n",
        "    assert num_examples <= len(dataset), \"Can't pick more elements than there are in the dataset.\"\n",
        "    picks = []\n",
        "    for _ in range(num_examples):\n",
        "        pick = random.randint(0, len(dataset)-1)\n",
        "        while pick in picks:\n",
        "            pick = random.randint(0, len(dataset)-1)\n",
        "        picks.append(pick)\n",
        "\n",
        "    df = pd.DataFrame(dataset[picks])\n",
        "    display(HTML(df.to_html()))"
      ],
      "execution_count": null,
      "outputs": []
    },
    {
      "cell_type": "code",
      "metadata": {
        "colab": {
          "base_uri": "https://localhost:8080/",
          "height": 669
        },
        "id": "K_JUmf3G3b9S",
        "outputId": "7cba72fc-a7a8-452d-d532-fcf89b6187da"
      },
      "source": [
        "show_random_elements(common_voice_train.remove_columns([\"path\"]), num_examples=20)"
      ],
      "execution_count": null,
      "outputs": [
        {
          "output_type": "display_data",
          "data": {
            "text/html": [
              "<table border=\"1\" class=\"dataframe\">\n",
              "  <thead>\n",
              "    <tr style=\"text-align: right;\">\n",
              "      <th></th>\n",
              "      <th>sentence</th>\n",
              "    </tr>\n",
              "  </thead>\n",
              "  <tbody>\n",
              "    <tr>\n",
              "      <th>0</th>\n",
              "      <td>राज्यसभा के डिप्टी चेयरमैन के लिए संयुक्त उम्मीदवार खड़ा कर सकता है विपक्ष</td>\n",
              "    </tr>\n",
              "    <tr>\n",
              "      <th>1</th>\n",
              "      <td>टॉम भागा।</td>\n",
              "    </tr>\n",
              "    <tr>\n",
              "      <th>2</th>\n",
              "      <td>मैरी ने अपने स्तन दिखाएँ।</td>\n",
              "    </tr>\n",
              "    <tr>\n",
              "      <th>3</th>\n",
              "      <td>घुटने की समस्या के कारण टेस्ट क्रिकेट से संन्यास पर विचार कर रहे गुल</td>\n",
              "    </tr>\n",
              "    <tr>\n",
              "      <th>4</th>\n",
              "      <td>हम सब पागल हैं।</td>\n",
              "    </tr>\n",
              "    <tr>\n",
              "      <th>5</th>\n",
              "      <td>आज मैं चार साल का हो गया हूँ।</td>\n",
              "    </tr>\n",
              "    <tr>\n",
              "      <th>6</th>\n",
              "      <td>टॉम मैरी से शादी करना नहीं चाहता था।</td>\n",
              "    </tr>\n",
              "    <tr>\n",
              "      <th>7</th>\n",
              "      <td>तुम आज बिज़ी हो क्या?</td>\n",
              "    </tr>\n",
              "    <tr>\n",
              "      <th>8</th>\n",
              "      <td>हम तुम्हारे साथ सैर करने चलें क्या?</td>\n",
              "    </tr>\n",
              "    <tr>\n",
              "      <th>9</th>\n",
              "      <td>कहाँ गए हो?</td>\n",
              "    </tr>\n",
              "    <tr>\n",
              "      <th>10</th>\n",
              "      <td>तुम हमेशा लोगों की बुराई करने को तैयार रहते हो।</td>\n",
              "    </tr>\n",
              "    <tr>\n",
              "      <th>11</th>\n",
              "      <td>अमर सिंह बोले- मैं समाजवादी नहीं, मुलायम वादी हूं</td>\n",
              "    </tr>\n",
              "    <tr>\n",
              "      <th>12</th>\n",
              "      <td>आप दोनों देख रहे हैं।</td>\n",
              "    </tr>\n",
              "    <tr>\n",
              "      <th>13</th>\n",
              "      <td>सिलीगुड़ी पुलिस ने नहीं दी राहुल गांधी के हेलीकॉप्टर को उतरने की इजाजत</td>\n",
              "    </tr>\n",
              "    <tr>\n",
              "      <th>14</th>\n",
              "      <td>वह उसका दोस्त है।</td>\n",
              "    </tr>\n",
              "    <tr>\n",
              "      <th>15</th>\n",
              "      <td>टॉम कौन है जानते हो?</td>\n",
              "    </tr>\n",
              "    <tr>\n",
              "      <th>16</th>\n",
              "      <td>टीचर ने बाथरूम में छात्रा से की छेड़छाड़, मामला दर्ज</td>\n",
              "    </tr>\n",
              "    <tr>\n",
              "      <th>17</th>\n",
              "      <td>तीन तलाक बिल के बाद महिला आरक्षण विधेयक पास होने के आसार</td>\n",
              "    </tr>\n",
              "    <tr>\n",
              "      <th>18</th>\n",
              "      <td>टीवी चालू कीजिए।</td>\n",
              "    </tr>\n",
              "    <tr>\n",
              "      <th>19</th>\n",
              "      <td>वे खाते हैं।</td>\n",
              "    </tr>\n",
              "  </tbody>\n",
              "</table>"
            ],
            "text/plain": [
              "<IPython.core.display.HTML object>"
            ]
          },
          "metadata": {
            "tags": []
          }
        }
      ]
    },
    {
      "cell_type": "markdown",
      "metadata": {
        "id": "fowcOllGNNju"
      },
      "source": [
        "Alright! The transcriptions look fairly clean. Having translated the transcribed sentences (I'm sadly not a native speaker in Turkish), it seems that the language corresponds more to written text than noisy dialogue. This makes sense taking into account that [Common Voice](https://huggingface.co/datasets/common_voice) is a crowd-sourced read speech corpus."
      ]
    },
    {
      "cell_type": "markdown",
      "metadata": {
        "id": "vq7OR50LN49m"
      },
      "source": [
        "We can see that the transcriptions contain some special characters, such as `,.?!;:`. Without a language model, it is much harder to classify speech chunks to such special characters because they don't really correspond to a characteristic sound unit. *E.g.*, the letter `\"s\"` has a more or less clear sound, whereas the special character `\".\"` does not.\n",
        "Also in order to understand the meaning of a speech signal, it is usually not necessary to include special characters in the transcription.\n",
        "\n",
        "In addition, we normalize the text to only have lower case letters and append a word separator token at the end."
      ]
    },
    {
      "cell_type": "code",
      "metadata": {
        "id": "svKzVJ_hQGK6"
      },
      "source": [
        "import re\n",
        "chars_to_ignore_regex = '[\\,\\?\\.\\!\\-\\;\\:\\\"\\“\\%\\‘\\”\\�]'\n",
        "\n",
        "def remove_special_characters(batch):\n",
        "    batch[\"sentence\"] = re.sub(chars_to_ignore_regex, '', batch[\"sentence\"]).lower() + \" \"\n",
        "    return batch"
      ],
      "execution_count": null,
      "outputs": []
    },
    {
      "cell_type": "code",
      "metadata": {
        "colab": {
          "base_uri": "https://localhost:8080/",
          "height": 115,
          "referenced_widgets": [
            "52435e0996fc4e5ca29c71027e2ed6cd",
            "4d2b7d5443104091a47c7862263c0bbb",
            "4a847d2465ee4ae7b7b2af5413cd90b0",
            "b3ce6af216f9499393b0eaf3515da89e",
            "4cca9ec81bce47c1862d8c11d4557025",
            "261cc65411354cf886ed629f3c29e72d",
            "213cb8ec6107416c9afb9f0c073ac498",
            "be211e9245344b73b629e3c53b0f7aab",
            "c64c68238b26409390447466a4c7e8fe",
            "90f7b1d3017545a0bc473289771ab2a2",
            "05274612ccb34d72a19ea5caff4530b3",
            "f6c730f8da894834a0a5422db53a2a55",
            "ed53c16637c145419ebafc71a01167cf",
            "d9dd561194cc44ac9b0d46546ec5e8b9",
            "afda1f07721f4ee0b3b72e2fac1c9aeb",
            "a85ba5dde0b24d3184302e4c91116211"
          ]
        },
        "id": "XIHocAuTQbBR",
        "outputId": "0a879bba-318a-4017-d69d-00127be55d12"
      },
      "source": [
        "common_voice_train = common_voice_train.map(remove_special_characters)\n",
        "common_voice_test = common_voice_test.map(remove_special_characters)"
      ],
      "execution_count": null,
      "outputs": [
        {
          "output_type": "display_data",
          "data": {
            "application/vnd.jupyter.widget-view+json": {
              "model_id": "52435e0996fc4e5ca29c71027e2ed6cd",
              "version_minor": 0,
              "version_major": 2
            },
            "text/plain": [
              "HBox(children=(FloatProgress(value=0.0, max=292.0), HTML(value='')))"
            ]
          },
          "metadata": {
            "tags": []
          }
        },
        {
          "output_type": "stream",
          "text": [
            "\n"
          ],
          "name": "stdout"
        },
        {
          "output_type": "display_data",
          "data": {
            "application/vnd.jupyter.widget-view+json": {
              "model_id": "c64c68238b26409390447466a4c7e8fe",
              "version_minor": 0,
              "version_major": 2
            },
            "text/plain": [
              "HBox(children=(FloatProgress(value=0.0, max=127.0), HTML(value='')))"
            ]
          },
          "metadata": {
            "tags": []
          }
        },
        {
          "output_type": "stream",
          "text": [
            "\n"
          ],
          "name": "stdout"
        }
      ]
    },
    {
      "cell_type": "code",
      "metadata": {
        "colab": {
          "base_uri": "https://localhost:8080/",
          "height": 359
        },
        "id": "RBDRAAYxRE6n",
        "outputId": "d8bc74fc-c986-47cd-83c1-c7ca6f0bd011"
      },
      "source": [
        "show_random_elements(common_voice_train.remove_columns([\"path\"]))"
      ],
      "execution_count": null,
      "outputs": [
        {
          "output_type": "display_data",
          "data": {
            "text/html": [
              "<table border=\"1\" class=\"dataframe\">\n",
              "  <thead>\n",
              "    <tr style=\"text-align: right;\">\n",
              "      <th></th>\n",
              "      <th>sentence</th>\n",
              "    </tr>\n",
              "  </thead>\n",
              "  <tbody>\n",
              "    <tr>\n",
              "      <th>0</th>\n",
              "      <td>वह खबर सुनते ही रो पड़ी।</td>\n",
              "    </tr>\n",
              "    <tr>\n",
              "      <th>1</th>\n",
              "      <td>उसने मुझसे जल्दसेजल्द उत्तर देने के लिए कहा।</td>\n",
              "    </tr>\n",
              "    <tr>\n",
              "      <th>2</th>\n",
              "      <td>मुझे भावी प्रधानमंत्री न समझा जाए राहुल गांधी</td>\n",
              "    </tr>\n",
              "    <tr>\n",
              "      <th>3</th>\n",
              "      <td>तुमने असली हीरा कभी देखा ही नहीं है।</td>\n",
              "    </tr>\n",
              "    <tr>\n",
              "      <th>4</th>\n",
              "      <td>टीचर ने बाथरूम में छात्रा से की छेड़छाड़ मामला दर्ज</td>\n",
              "    </tr>\n",
              "    <tr>\n",
              "      <th>5</th>\n",
              "      <td>राज्यसभा के डिप्टी चेयरमैन के लिए संयुक्त उम्मीदवार खड़ा कर सकता है विपक्ष</td>\n",
              "    </tr>\n",
              "    <tr>\n",
              "      <th>6</th>\n",
              "      <td>बच्चों को माँबाप की बात माननी चाहिए।</td>\n",
              "    </tr>\n",
              "    <tr>\n",
              "      <th>7</th>\n",
              "      <td>मुझे नहीं पता हमे कितनी देर इंतेज़ार करना चाहिए।</td>\n",
              "    </tr>\n",
              "    <tr>\n",
              "      <th>8</th>\n",
              "      <td>यह मेरी का कुत्ता है।</td>\n",
              "    </tr>\n",
              "    <tr>\n",
              "      <th>9</th>\n",
              "      <td>तुम्हारी आँखे खराब हैं क्या</td>\n",
              "    </tr>\n",
              "  </tbody>\n",
              "</table>"
            ],
            "text/plain": [
              "<IPython.core.display.HTML object>"
            ]
          },
          "metadata": {
            "tags": []
          }
        }
      ]
    },
    {
      "cell_type": "markdown",
      "metadata": {
        "id": "jwfaptH5RJwA"
      },
      "source": [
        "Good! This looks better. We have removed most special characters from transcriptions and normalized them to lower-case only.\n",
        "\n",
        "In CTC, it is common to classify speech chunks into letters, so we will do the same here.\n",
        "Let's extract all distinct letters of the training and test data and build our vocabulary from this set of letters.\n",
        "\n",
        "We write a mapping function that concatenates all transcriptions into one long transcription and then transforms the string into a set of chars.\n",
        "It is important to pass the argument `batched=True` to the `map(...)` function so that the mapping function has access to all transcriptions at once."
      ]
    },
    {
      "cell_type": "code",
      "metadata": {
        "id": "LwCshNbbeRZR"
      },
      "source": [
        "def extract_all_chars(batch):\n",
        "  all_text = \" \".join(batch[\"sentence\"])\n",
        "  vocab = list(set(all_text))\n",
        "  return {\"vocab\": [vocab], \"all_text\": [all_text]}"
      ],
      "execution_count": null,
      "outputs": []
    },
    {
      "cell_type": "code",
      "metadata": {
        "colab": {
          "base_uri": "https://localhost:8080/",
          "height": 115,
          "referenced_widgets": [
            "7f254036fa5f456699e1fadd1aa7f405",
            "718c51dcca4c47458512795fc27180a2",
            "d47463e3b6524196a19be4d397953022",
            "62409a04479645d789cca52499335627",
            "fdc3da9378324704a6e753fc4556137b",
            "5fa2f2271d4343f59a930f62f3b2b8bc",
            "08e97126c8f64b82b7fec0b92f0d3f3c",
            "e959587fb82841b6965fb5845d2420a9",
            "0e236ef0ad334006bd223b095acd0f62",
            "a20b9306c0ed4069ad21e7f677c8be0d",
            "e6df0844d06042ee833cdf259832e061",
            "7b3f19438f8246d5b7fd818464337d5f",
            "55514a8af075420da354b4c4e6357de4",
            "5ae6f736b4df4affb9c248fd7359a229",
            "589db807027c44bd9c42e63d8cf544d2",
            "4836d28f5b864ed498b257eae1492aea"
          ]
        },
        "id": "_m6uUjjcfbjH",
        "outputId": "8c10ef81-0c86-4ca1-af67-1160b5086fd7"
      },
      "source": [
        "vocab_train = common_voice_train.map(extract_all_chars, batched=True, batch_size=-1, keep_in_memory=True, remove_columns=common_voice_train.column_names)\n",
        "vocab_test = common_voice_test.map(extract_all_chars, batched=True, batch_size=-1, keep_in_memory=True, remove_columns=common_voice_test.column_names)"
      ],
      "execution_count": null,
      "outputs": [
        {
          "output_type": "display_data",
          "data": {
            "application/vnd.jupyter.widget-view+json": {
              "model_id": "7f254036fa5f456699e1fadd1aa7f405",
              "version_minor": 0,
              "version_major": 2
            },
            "text/plain": [
              "HBox(children=(FloatProgress(value=0.0, max=1.0), HTML(value='')))"
            ]
          },
          "metadata": {
            "tags": []
          }
        },
        {
          "output_type": "stream",
          "text": [
            "\n"
          ],
          "name": "stdout"
        },
        {
          "output_type": "display_data",
          "data": {
            "application/vnd.jupyter.widget-view+json": {
              "model_id": "0e236ef0ad334006bd223b095acd0f62",
              "version_minor": 0,
              "version_major": 2
            },
            "text/plain": [
              "HBox(children=(FloatProgress(value=0.0, max=1.0), HTML(value='')))"
            ]
          },
          "metadata": {
            "tags": []
          }
        },
        {
          "output_type": "stream",
          "text": [
            "\n"
          ],
          "name": "stdout"
        }
      ]
    },
    {
      "cell_type": "markdown",
      "metadata": {
        "id": "7oVgE8RZSJNP"
      },
      "source": [
        "Now, we create the union of all distinct letters in the training dataset and test dataset and convert the resulting list into an enumerated dictionary."
      ]
    },
    {
      "cell_type": "code",
      "metadata": {
        "id": "aQfneNsmlJI0"
      },
      "source": [
        "vocab_list = list(set(vocab_train[\"vocab\"][0]) | set(vocab_test[\"vocab\"][0]))"
      ],
      "execution_count": null,
      "outputs": []
    },
    {
      "cell_type": "code",
      "metadata": {
        "colab": {
          "base_uri": "https://localhost:8080/"
        },
        "id": "_0kRndSvqaKk",
        "outputId": "3f90cd17-a996-438f-92d0-23fdb8cb0531"
      },
      "source": [
        "vocab_dict = {v: k for k, v in enumerate(vocab_list)}\n",
        "vocab_dict"
      ],
      "execution_count": null,
      "outputs": [
        {
          "output_type": "execute_result",
          "data": {
            "text/plain": [
              "{' ': 31,\n",
              " \"'\": 22,\n",
              " 'a': 9,\n",
              " 'e': 41,\n",
              " 'f': 66,\n",
              " 'i': 57,\n",
              " 'l': 64,\n",
              " 'm': 1,\n",
              " 'p': 67,\n",
              " 'r': 20,\n",
              " 'u': 45,\n",
              " 'w': 26,\n",
              " 'ँ': 36,\n",
              " 'ं': 17,\n",
              " 'ः': 71,\n",
              " 'अ': 13,\n",
              " 'आ': 8,\n",
              " 'इ': 60,\n",
              " 'ई': 6,\n",
              " 'उ': 2,\n",
              " 'ऊ': 21,\n",
              " 'ए': 34,\n",
              " 'ऐ': 42,\n",
              " 'ऑ': 33,\n",
              " 'ओ': 70,\n",
              " 'औ': 27,\n",
              " 'क': 69,\n",
              " 'ख': 18,\n",
              " 'ग': 52,\n",
              " 'घ': 35,\n",
              " 'च': 48,\n",
              " 'छ': 0,\n",
              " 'ज': 19,\n",
              " 'झ': 10,\n",
              " 'ट': 37,\n",
              " 'ठ': 12,\n",
              " 'ड': 15,\n",
              " 'ढ': 29,\n",
              " 'ण': 16,\n",
              " 'त': 59,\n",
              " 'थ': 43,\n",
              " 'द': 65,\n",
              " 'ध': 63,\n",
              " 'न': 5,\n",
              " 'प': 28,\n",
              " 'फ': 24,\n",
              " 'ब': 23,\n",
              " 'भ': 39,\n",
              " 'म': 40,\n",
              " 'य': 58,\n",
              " 'र': 56,\n",
              " 'ल': 3,\n",
              " 'व': 51,\n",
              " 'श': 55,\n",
              " 'ष': 54,\n",
              " 'स': 7,\n",
              " 'ह': 14,\n",
              " '़': 44,\n",
              " 'ा': 11,\n",
              " 'ि': 53,\n",
              " 'ी': 32,\n",
              " 'ु': 62,\n",
              " 'ू': 38,\n",
              " 'ृ': 68,\n",
              " 'े': 47,\n",
              " 'ै': 25,\n",
              " 'ॉ': 50,\n",
              " 'ो': 61,\n",
              " 'ौ': 46,\n",
              " '्': 30,\n",
              " 'ड़': 4,\n",
              " '।': 49}"
            ]
          },
          "metadata": {
            "tags": []
          },
          "execution_count": 12
        }
      ]
    },
    {
      "cell_type": "markdown",
      "metadata": {
        "id": "JOSzbvs9SXT1"
      },
      "source": [
        "Cool, we see that all letters of the alphabet occur in the dataset (which is not really surprising) and we also extracted the special characters `\" \"` and `'`. Note that we did not exclude those special characters because:\n",
        "\n",
        "- The model has to learn to predict when a word is finished or else the model prediction would always be a sequence of chars which would make it impossible to separate words from each other.\n",
        "- From the transcriptions above it seems that words that include an apostrophe, such as `maktouf'un` do exist in Turkish, so I decided to keep the apostrophe in the dataset. This might be a wrong assumption though.\n",
        "\n",
        "One should always keep in mind that the data-preprocessing is a very important step before training your model. E.g., we don't want our model to differentiate between `a` and `A` just because we forgot to normalize the data. The difference between `a` and `A` does not depend on the \"sound\" of the letter at all, but more on grammatical rules - *e.g.* use a capitalized letter at the beginning of the sentence. So it is sensible to remove the difference between capitalized and non-capitalized letters so that the model has an easier time learning to transcribe speech.\n",
        "\n",
        "It is always advantageous to get help from a native speaker of the language you would like to transcribe to verify whether the assumptions you made are sensible, *e.g.* I should have made sure that keeping `'`, but removing other special characters is a sensible choice for Turkish."
      ]
    },
    {
      "cell_type": "markdown",
      "metadata": {
        "id": "b1fBRCn-TRaO"
      },
      "source": [
        "To make it clearer that `\" \"` has its own token class, we give it a more visible character `|`. In addition, we also add an \"unknown\" token so that the model can later deal with characters not encountered in Common Voice's training set.\n",
        "\n",
        "Finally, we also add a padding token that corresponds to CTC's \"*blank token*\". The \"blank token\" is a core component of the CTC algorithm. For more information, please take a look at the \"Alignment\" section [here](https://distill.pub/2017/ctc/)."
      ]
    },
    {
      "cell_type": "code",
      "metadata": {
        "id": "npbIbBoLgaFX"
      },
      "source": [
        "vocab_dict[\"|\"] = vocab_dict[\" \"]\n",
        "del vocab_dict[\" \"]"
      ],
      "execution_count": null,
      "outputs": []
    },
    {
      "cell_type": "code",
      "metadata": {
        "id": "znF0bNunsjbl",
        "colab": {
          "base_uri": "https://localhost:8080/"
        },
        "outputId": "43ebf261-a674-4dfb-b21b-4f2e0715136a"
      },
      "source": [
        "vocab_dict[\"[UNK]\"] = len(vocab_dict)\n",
        "vocab_dict[\"[PAD]\"] = len(vocab_dict)\n",
        "len(vocab_dict)"
      ],
      "execution_count": null,
      "outputs": [
        {
          "output_type": "execute_result",
          "data": {
            "text/plain": [
              "74"
            ]
          },
          "metadata": {
            "tags": []
          },
          "execution_count": 14
        }
      ]
    },
    {
      "cell_type": "markdown",
      "metadata": {
        "id": "SFPGfet8U5sL"
      },
      "source": [
        "Cool, now our vocabulary is complete and consists of 39 tokens, which means that the linear layer that we will add on top of the pretrained XLSR-Wav2Vec2 checkpoint will have an output dimension of 39."
      ]
    },
    {
      "cell_type": "markdown",
      "metadata": {
        "id": "1CujRgBNVRaD"
      },
      "source": [
        "Let's now save the vocabulary as a json file."
      ]
    },
    {
      "cell_type": "code",
      "metadata": {
        "id": "ehyUoh9vk191"
      },
      "source": [
        "import json\n",
        "with open('vocab.json', 'w') as vocab_file:\n",
        "    json.dump(vocab_dict, vocab_file)"
      ],
      "execution_count": null,
      "outputs": []
    },
    {
      "cell_type": "markdown",
      "metadata": {
        "id": "SHJDaKlIVVim"
      },
      "source": [
        "In a final step, we use the json file to instantiate an object of the `Wav2Vec2CTCTokenizer` class."
      ]
    },
    {
      "cell_type": "code",
      "metadata": {
        "id": "xriFGEWQkO4M"
      },
      "source": [
        "from transformers import Wav2Vec2CTCTokenizer\n",
        "\n",
        "tokenizer = Wav2Vec2CTCTokenizer(\"./vocab.json\", unk_token=\"[UNK]\", pad_token=\"[PAD]\", word_delimiter_token=\"|\")"
      ],
      "execution_count": null,
      "outputs": []
    },
    {
      "cell_type": "markdown",
      "metadata": {
        "id": "KvL12DrNV4cx"
      },
      "source": [
        "Next, we will create the feature extractor."
      ]
    },
    {
      "cell_type": "markdown",
      "metadata": {
        "id": "mYcIiR2FQ96i"
      },
      "source": [
        "### Create XLSR-Wav2Vec2 Feature Extractor"
      ]
    },
    {
      "cell_type": "markdown",
      "metadata": {
        "id": "Y6mDEyW719rx"
      },
      "source": [
        "Speech is a continuous signal and to be treated by computers, it first has to be discretized, which is usually called **sampling**. The sampling rate hereby plays an important role in that it defines how many data points of the speech signal are measured per second. Therefore, sampling with a higher sampling rate results in a better approximation of the *real* speech signal but also necessitates more values per second.\n",
        "\n",
        "A pretrained checkpoint expects its input data to have been sampled more or less from the same distribution as the data it was trained on. The same speech signals sampled at two different rates have a very different distribution, *e.g.*, doubling the sampling rate results in data points being twice as long. Thus,\n",
        "before fine-tuning a pretrained checkpoint of an ASR model, it is crucial to verify that the sampling rate of the data that was used to pretrain the model matches the sampling rate of the dataset used to fine-tune the model.\n",
        "\n",
        "XLSR-Wav2Vec2 was pretrained on the audio data of [Babel](https://huggingface.co/datasets/librispeech_asr),\n",
        "[Multilingual LibriSpeech (MLS)](https://ai.facebook.com/blog/a-new-open-data-set-for-multilingual-speech-research/), and [Common Voice](https://huggingface.co/datasets/common_voice). Most of those datasets were sampled at 16kHz, so that Common Voice, sampled at 48kHz, has to be downsampled to 16kHz for training. Therefore, we will have to downsample our fine-tuning data to 16kHz in the following.\n",
        "\n"
      ]
    },
    {
      "cell_type": "markdown",
      "metadata": {
        "id": "KuUbPW7oV-B5"
      },
      "source": [
        "A XLSR-Wav2Vec2 feature extractor object requires the following parameters to be instantiated:\n",
        "\n",
        "- `feature_size`: Speech models take a sequence of feature vectors as an input. While the length of this sequence obviously varies, the feature size should not. In the case of Wav2Vec2, the feature size is 1 because the model was trained on the raw speech signal ${}^2$.\n",
        "- `sampling_rate`: The sampling rate at which the model is trained on.\n",
        "- `padding_value`: For batched inference, shorter inputs need to be padded with a specific value\n",
        "- `do_normalize`: Whether the input should be *zero-mean-unit-variance* normalized or not. Usually, speech models perform better when normalizing the input\n",
        "- `return_attention_mask`: Whether the model should make use of an `attention_mask` for batched inference. In general, XLSR-Wav2Vec2 models should **always** make use of the `attention_mask`."
      ]
    },
    {
      "cell_type": "code",
      "metadata": {
        "id": "kAR0-2KLkopp"
      },
      "source": [
        "from transformers import Wav2Vec2FeatureExtractor\n",
        "\n",
        "feature_extractor = Wav2Vec2FeatureExtractor(feature_size=1, sampling_rate=16000, padding_value=0.0, do_normalize=True, return_attention_mask=True)"
      ],
      "execution_count": null,
      "outputs": []
    },
    {
      "cell_type": "markdown",
      "metadata": {
        "id": "qUETetgqYC3W"
      },
      "source": [
        "Great, XLSR-Wav2Vec2's feature extraction pipeline is thereby fully defined!\n",
        "\n",
        "To make the usage of XLSR-Wav2Vec2 as user-friendly as possible, the feature extractor and tokenizer are *wrapped* into a single `Wav2Vec2Processor` class so that one only needs a `model` and `processor` object."
      ]
    },
    {
      "cell_type": "code",
      "metadata": {
        "id": "KYZtoW-tlZgl"
      },
      "source": [
        "from transformers import Wav2Vec2Processor\n",
        "\n",
        "processor = Wav2Vec2Processor(feature_extractor=feature_extractor, tokenizer=tokenizer)"
      ],
      "execution_count": null,
      "outputs": []
    },
    {
      "cell_type": "markdown",
      "metadata": {
        "id": "fTfFDSS0YfMN"
      },
      "source": [
        "If one wants to re-use the just created processor and the fine-tuned model of this notebook, one can mount his/her google drive to the notebook and save all relevant files there. To do so, please uncomment the following lines.\n",
        "\n",
        "We will give the fine-tuned model the name `\"wav2vec2-large-xlsr-turkish-demo\"`."
      ]
    },
    {
      "cell_type": "code",
      "metadata": {
        "id": "yq7Bzuzz4zjQ",
        "colab": {
          "base_uri": "https://localhost:8080/"
        },
        "outputId": "35f35569-4f08-4ff9-f3a5-63b8f53e8b03"
      },
      "source": [
        "from google.colab import drive\n",
        "drive.mount('/content/gdrive/')"
      ],
      "execution_count": null,
      "outputs": [
        {
          "output_type": "stream",
          "text": [
            "Mounted at /content/gdrive/\n"
          ],
          "name": "stdout"
        }
      ]
    },
    {
      "cell_type": "code",
      "metadata": {
        "id": "Par9rpypPsml"
      },
      "source": [
        " processor.save_pretrained(\"/content/gdrive/MyDrive/wav2vec2-large-xlsr-hindi\")"
      ],
      "execution_count": null,
      "outputs": []
    },
    {
      "cell_type": "markdown",
      "metadata": {
        "id": "DrKnYuvDIoOO"
      },
      "source": [
        "Next, we can prepare the dataset."
      ]
    },
    {
      "cell_type": "markdown",
      "metadata": {
        "id": "YFmShnl7RE35"
      },
      "source": [
        "### Preprocess Data\n",
        "\n",
        "So far, we have not looked at the actual values of the speech signal but just kept the path to its file in the dataset. `XLSR-Wav2Vec2` expects the audio file in the format of a 1-dimensional array, so in the first step, let's load all audio files into the dataset object.\n",
        "\n",
        "Let's first check the serialization format of the downloaded audio files by looking at the first training sample."
      ]
    },
    {
      "cell_type": "code",
      "metadata": {
        "colab": {
          "base_uri": "https://localhost:8080/"
        },
        "id": "TTCS7W6XJ9BG",
        "outputId": "c4f82720-3871-40d6-9bd6-b5551b40976c"
      },
      "source": [
        "common_voice_train[0]"
      ],
      "execution_count": null,
      "outputs": [
        {
          "output_type": "execute_result",
          "data": {
            "text/plain": [
              "{'path': '/root/.cache/huggingface/datasets/downloads/extracted/c96485295dfcd0d08e461a9bab70c7431c5b032810e282334a76757b3eb2d753/cv-corpus-6.1-2020-12-11/hi/clips/common_voice_hi_23795238.mp3',\n",
              " 'sentence': 'तुम्हारे पास तीन महीने बचे हैं। '}"
            ]
          },
          "metadata": {
            "tags": []
          },
          "execution_count": 22
        }
      ]
    },
    {
      "cell_type": "markdown",
      "metadata": {
        "id": "wSBIGEiaKHMn"
      },
      "source": [
        "Alright, the audio file is saved in the `.mp3` format. The `.mp3` format is usually not the easiest format to deal with. We found that the [`torchaudio`](https://pytorch.org/audio/stable/index.html) library works best for reading in `.mp3` data.\n",
        "\n",
        "An audio file usually stores both its values and the sampling rate with which the speech signal was digitalized. We want to store both in the dataset and write a `map(...)` function accordingly."
      ]
    },
    {
      "cell_type": "code",
      "metadata": {
        "id": "al9Luo4LPpwJ"
      },
      "source": [
        "import torchaudio\n",
        "\n",
        "def speech_file_to_array_fn(batch):\n",
        "    speech_array, sampling_rate = torchaudio.load(batch[\"path\"])\n",
        "    batch[\"speech\"] = speech_array[0].numpy()\n",
        "    batch[\"sampling_rate\"] = sampling_rate\n",
        "    batch[\"target_text\"] = batch[\"sentence\"]\n",
        "    return batch"
      ],
      "execution_count": null,
      "outputs": []
    },
    {
      "cell_type": "code",
      "metadata": {
        "colab": {
          "base_uri": "https://localhost:8080/",
          "height": 115,
          "referenced_widgets": [
            "081296f8ca46498681c16ba835059888",
            "48f63d26f8c247d4915908ad5f33244e",
            "26befe5e905b46ba9cbf2611e3812c07",
            "3cc18948bee047148b2dd77aed045fa4",
            "38101286d9074bbba278cf5d4f0ddf4a",
            "7fb49834de1a4514b1f61fcb43dee9eb",
            "4eb854a7bd844e458e5f541dcb147887",
            "ec263055b3e94f83913d7c0a70ae4961",
            "eed5c5e6758b49109a313e3c833a384f",
            "ccc2aa519ef0446196a0c737e9cdcb53",
            "16b601086b2d49e197f8f3810ff97e17",
            "e7331503cde94cc5a045d1adb77763b7",
            "2e6b7fc2ea98454e9215c207a24ea542",
            "fd5eab7de1ab47c9a6f725f1b54b4c38",
            "8a9741858e074c6ab84922838bfd2e91",
            "a9ea5c338462488ea385df57ac8e753a"
          ]
        },
        "id": "afeicUeWlrRL",
        "outputId": "a391f313-fbec-47bd-d714-88498b2cc99f"
      },
      "source": [
        "common_voice_train = common_voice_train.map(speech_file_to_array_fn, remove_columns=common_voice_train.column_names)\n",
        "common_voice_test = common_voice_test.map(speech_file_to_array_fn, remove_columns=common_voice_test.column_names)"
      ],
      "execution_count": null,
      "outputs": [
        {
          "output_type": "display_data",
          "data": {
            "application/vnd.jupyter.widget-view+json": {
              "model_id": "081296f8ca46498681c16ba835059888",
              "version_minor": 0,
              "version_major": 2
            },
            "text/plain": [
              "HBox(children=(FloatProgress(value=0.0, max=292.0), HTML(value='')))"
            ]
          },
          "metadata": {
            "tags": []
          }
        },
        {
          "output_type": "stream",
          "text": [
            "\n"
          ],
          "name": "stdout"
        },
        {
          "output_type": "display_data",
          "data": {
            "application/vnd.jupyter.widget-view+json": {
              "model_id": "eed5c5e6758b49109a313e3c833a384f",
              "version_minor": 0,
              "version_major": 2
            },
            "text/plain": [
              "HBox(children=(FloatProgress(value=0.0, max=127.0), HTML(value='')))"
            ]
          },
          "metadata": {
            "tags": []
          }
        },
        {
          "output_type": "stream",
          "text": [
            "\n"
          ],
          "name": "stdout"
        }
      ]
    },
    {
      "cell_type": "markdown",
      "metadata": {
        "id": "ki5sXmzucc9Q"
      },
      "source": [
        "Great, now we've successfully read in all the audio files, but since we know that Common Voice is sampled at 48kHz, we need to resample the audio files to 16kHz.\n",
        "\n",
        "Let's make use of the [`librosa`](https://github.com/librosa/librosa) library to downsample the data."
      ]
    },
    {
      "cell_type": "code",
      "metadata": {
        "id": "6Y6AK3Z-kHwP"
      },
      "source": [
        "import librosa\n",
        "import numpy as np\n",
        "\n",
        "def resample(batch):\n",
        "    batch[\"speech\"] = librosa.resample(np.asarray(batch[\"speech\"]), 48_000, 16_000)\n",
        "    batch[\"sampling_rate\"] = 16_000\n",
        "    return batch"
      ],
      "execution_count": null,
      "outputs": []
    },
    {
      "cell_type": "code",
      "metadata": {
        "colab": {
          "base_uri": "https://localhost:8080/",
          "height": 443,
          "referenced_widgets": [
            "4e8a90230e7445608b9b2da820113d58",
            "4811cb531d014ce1819ccf3504e78412",
            "6188694e42db4649a2d222bf7bc66b4e",
            "b85a92a61eb34081b78da1a6851ea954",
            "95fb15f7c3324628a4b79466da5b0452",
            "4b152a7740f64765bb712e8cea110f80",
            "eadde35a0fbf4611b6e2ee4fc34537d0",
            "1583ee1dfeed483c9b214032a52e219b",
            "dbf3b52cdb604fbbb9827664750cacdc",
            "350d9c4f1d4f45c1a6f4a494e45ff3f5",
            "92038cfc9f3c4ca4a38b07a26695d61b",
            "e6fe7744624e49a19f934a8911445b1e",
            "a4b9f9022e8747f6b653ab6ff25e65fa",
            "a2eba928f9664072a6512e4a63f97180",
            "7004eab5f11e4d368f8631e6b75b97a4",
            "91eb1125af8846108f00a59753f7064e",
            "7591496578cd4b2685df32b3a5ee8473",
            "2cb397092f8741e2bfcfae94b9d6644a",
            "34f207e8ecb24a98b85a30518b4dbf5d",
            "55a0e5b52db941cd8a2ca5a9efdefaa5",
            "7150bb42d77d4ccabb8ad1cc985c58d0",
            "b4beca2637b843eda1fcff2422a6648a",
            "ac68485c818e496f817876b748c74225",
            "3149fc0b8e0443ea825f2adb11820279",
            "afb4d5a7c17d463bbdb6043357bc094e",
            "68f09fc2ac9748f0a064e72dd46ecadd",
            "341268555ca3422292e94aa3cd892c3c",
            "5125c2be29e64562a4dc6f1902abb0c4",
            "385919a77b85433598a714242b194599",
            "dc673aa161604ff5ab862e3409ebd865",
            "135c1ae4a82b4568a4e2d54e00add6bc",
            "6573e2f03bb948bd8d7b2480ef1bbe21",
            "89d2bd9245e64498bbefc5ae2e24a0c5",
            "fb8cd6d53c704b659201235970289e52",
            "6d08d81b05034625b35aef916a1afa49",
            "ef18f02f28794b6396ad55a7dfc0c37e",
            "accbee74cde24b6588a66a21cb8c8c5b",
            "27f270e2dc15424aab3589d7ea4aba54",
            "f375bc86919840f0aca7740ef5a173e4",
            "4c11daa355c94822a1f89423cb2f7f90",
            "eb7667c56ea94e8b989275a404bfb83d",
            "eb1bbd2056074692b48f4d8bf218f70f",
            "78092750ff6c4e3bbc487c6cf63a04c2",
            "eb880a5d5f7146b9a3a04e661ab5f767",
            "ce7a26fa000248f69bb6091b38e350f7",
            "4ad324adfd4248309a1ea7002d6d1723",
            "30fa4aa209104233ae4f3e7298b571d5",
            "39267b3d616941af80c4f3d69386af96",
            "f7616b9299f94195aec0d5c2247ec7e3",
            "bc7bf7a9b5f34ef8bc79976b7aba0ef9",
            "349a548a6c1c4f3ea0b6eac0ffd035cf",
            "a2d9be6f0c33480f894312416cb32145",
            "86d4e85b76fa4eecba79785f0bb44e30",
            "8b16aaa7130a4d23ae4619f2c7716063",
            "1aa07f1393d1437082580e07b53e018b",
            "4d3a63a5ba4741e1a8a00c028d22f198",
            "ed810998db004098996ff38818507315",
            "c1ef753f69d54abcb9e99eca7fbb4fe5",
            "06ecab0ddf8243699060be733e29a1cf",
            "abe7ab5b8b08423bb92511e2dedf5fd0",
            "8c3c881bbdf8414ea89b150ca29ad714",
            "bd1e050850224f16be64bf81a681d0fa",
            "d66b5de5855f41ffb07529d24d41158d",
            "93f011dfe5624fe3a955174526b50dc8"
          ]
        },
        "id": "Ws8DyIL_kjwT",
        "outputId": "15ed7858-260d-468e-9f48-1b32e0e87804"
      },
      "source": [
        "common_voice_train = common_voice_train.map(resample, num_proc=4)\n",
        "common_voice_test = common_voice_test.map(resample, num_proc=4)"
      ],
      "execution_count": null,
      "outputs": [
        {
          "output_type": "stream",
          "text": [
            "    "
          ],
          "name": "stdout"
        },
        {
          "output_type": "display_data",
          "data": {
            "application/vnd.jupyter.widget-view+json": {
              "model_id": "4e8a90230e7445608b9b2da820113d58",
              "version_minor": 0,
              "version_major": 2
            },
            "text/plain": [
              "HBox(children=(FloatProgress(value=0.0, description='#2', max=73.0, style=ProgressStyle(description_width='ini…"
            ]
          },
          "metadata": {
            "tags": []
          }
        },
        {
          "output_type": "display_data",
          "data": {
            "application/vnd.jupyter.widget-view+json": {
              "model_id": "dbf3b52cdb604fbbb9827664750cacdc",
              "version_minor": 0,
              "version_major": 2
            },
            "text/plain": [
              "HBox(children=(FloatProgress(value=0.0, description='#1', max=73.0, style=ProgressStyle(description_width='ini…"
            ]
          },
          "metadata": {
            "tags": []
          }
        },
        {
          "output_type": "display_data",
          "data": {
            "application/vnd.jupyter.widget-view+json": {
              "model_id": "7591496578cd4b2685df32b3a5ee8473",
              "version_minor": 0,
              "version_major": 2
            },
            "text/plain": [
              "HBox(children=(FloatProgress(value=0.0, description='#0', max=73.0, style=ProgressStyle(description_width='ini…"
            ]
          },
          "metadata": {
            "tags": []
          }
        },
        {
          "output_type": "display_data",
          "data": {
            "application/vnd.jupyter.widget-view+json": {
              "model_id": "afb4d5a7c17d463bbdb6043357bc094e",
              "version_minor": 0,
              "version_major": 2
            },
            "text/plain": [
              "HBox(children=(FloatProgress(value=0.0, description='#3', max=73.0, style=ProgressStyle(description_width='ini…"
            ]
          },
          "metadata": {
            "tags": []
          }
        },
        {
          "output_type": "stream",
          "text": [
            "\n",
            "\n",
            "\n",
            "\n",
            "    "
          ],
          "name": "stdout"
        },
        {
          "output_type": "display_data",
          "data": {
            "application/vnd.jupyter.widget-view+json": {
              "model_id": "89d2bd9245e64498bbefc5ae2e24a0c5",
              "version_minor": 0,
              "version_major": 2
            },
            "text/plain": [
              "HBox(children=(FloatProgress(value=0.0, description='#0', max=32.0, style=ProgressStyle(description_width='ini…"
            ]
          },
          "metadata": {
            "tags": []
          }
        },
        {
          "output_type": "display_data",
          "data": {
            "application/vnd.jupyter.widget-view+json": {
              "model_id": "eb7667c56ea94e8b989275a404bfb83d",
              "version_minor": 0,
              "version_major": 2
            },
            "text/plain": [
              "HBox(children=(FloatProgress(value=0.0, description='#1', max=32.0, style=ProgressStyle(description_width='ini…"
            ]
          },
          "metadata": {
            "tags": []
          }
        },
        {
          "output_type": "display_data",
          "data": {
            "application/vnd.jupyter.widget-view+json": {
              "model_id": "f7616b9299f94195aec0d5c2247ec7e3",
              "version_minor": 0,
              "version_major": 2
            },
            "text/plain": [
              "HBox(children=(FloatProgress(value=0.0, description='#3', max=31.0, style=ProgressStyle(description_width='ini…"
            ]
          },
          "metadata": {
            "tags": []
          }
        },
        {
          "output_type": "display_data",
          "data": {
            "application/vnd.jupyter.widget-view+json": {
              "model_id": "ed810998db004098996ff38818507315",
              "version_minor": 0,
              "version_major": 2
            },
            "text/plain": [
              "HBox(children=(FloatProgress(value=0.0, description='#2', max=32.0, style=ProgressStyle(description_width='ini…"
            ]
          },
          "metadata": {
            "tags": []
          }
        },
        {
          "output_type": "stream",
          "text": [
            "\n",
            "\n",
            "\n",
            "\n"
          ],
          "name": "stdout"
        }
      ]
    },
    {
      "cell_type": "markdown",
      "metadata": {
        "id": "SOckzFd4Mbzq"
      },
      "source": [
        "This seemed to have worked! Let's listen to a couple of audio files to better understand the dataset and verify that the audio was correctly loaded.\n",
        "\n",
        "**Note**: *You can click the following cell a couple of times to listen to different speech samples.*"
      ]
    },
    {
      "cell_type": "code",
      "metadata": {
        "colab": {
          "base_uri": "https://localhost:8080/",
          "height": 75
        },
        "id": "dueM6U7Ev0OA",
        "outputId": "cf601d32-7ea9-46c8-f7e8-6a6efa7c3d82"
      },
      "source": [
        "import IPython.display as ipd\n",
        "import numpy as np\n",
        "import random\n",
        "\n",
        "rand_int = random.randint(0, len(common_voice_train))\n",
        "\n",
        "ipd.Audio(data=np.asarray(common_voice_train[rand_int][\"speech\"]), autoplay=True, rate=16000)"
      ],
      "execution_count": null,
      "outputs": [
        {
          "output_type": "execute_result",
          "data": {
            "text/html": [
              "\n",
              "                <audio controls=\"controls\" autoplay=\"autoplay\">\n",
              "                    <source src=\"data:audio/wav;base64,UklGRiSkAQBXQVZFZm10IBAAAAABAAEAgD4AAAB9AAACABAAZGF0YQCkAQAAAAAAAAAAAAAAAAAAAAAAAAAAAAAAAAAAAAAAAAAAAAAAAAAAAAAAAAAAAAAAAAAAAAAAAAAAAAAAAAAAAAAAAAAAAAAAAAAAAAAAAAAAAAAAAAAAAAAAAAAAAAAAAAAAAAAAAAAAAAAAAAAAAAAAAAAAAAAAAAAAAAAAAAAAAAAAAAAAAAAAAAAAAAAAAAAAAAAAAAAAAAAAAAAAAAAAAAAAAAAAAAAAAAAAAAAAAAAAAAAAAAAAAAAAAAAAAAAAAAAAAAAAAAAAAAAAAAAAAAAAAAAAAAAAAAAAAAAAAAAAAAAAAAAAAAAAAAAAAAAAAAAAAAAAAAAAAAAAAAAAAAAAAAAAAAAAAAAAAAAAAAAAAAAAAAAAAAAAAAAAAAAAAAAAAAAAAAAAAAAAAAAAAAAAAAAAAAAAAAAAAAAAAAAAAAAAAAAAAAAAAAAAAAAAAAAAAAAAAAAAAAAAAAAAAAAAAAAAAAAAAAAAAAAAAAAAAAAAAAAAAAAAAAAAAAAAAAAAAAAAAAAAAAAAAAAAAAAAAAAAAAAAAAAAAAAAAAAAAAAAAAAAAAAAAAAAAAAAAAAAAAAAAAAAAAAAAAAAAAAAAAAAAAAAAAAAAAAAAAAAAAAAAAAAAAAAAAAAAAAAAAAAAAAAAAAAAAAAAAAAAAAAAAAAAAAAAAAAAAAAAAAAAAAAAAAAAAAAAAAAAAAAAAAAAAAAAAAAAAAAAAAAAAAAAAAAAAAAAAAAAAAAAAAAAAAAAAAAAAAAAAAAAAAAAAAAAAAAAAAAAAAAAAAAAAAAAAAAAAAAAAAAAAAAAAAAAAAAAP//AAAAAP//AAAAAAAA//8AAAEAAQD//wAA/v8AAP///f8AAAAAAAD+/wAAAAAAAP///f8AAAAAAAAAAAAAAQAAAP///////wAAAAD///7/////////AAAAAAIAAAABAAAA/////wEAAgAAAP//AAACAAAAAQAAAAAA//8AAP//AAAAAAAAAwAAAAAAAAAEAAIAAQD//wAAAAAAAAMAAwADAAEAAgAAAP////8CAAIAAAAAAP7/AQABAAEAAgAAAAQABAD+/wAAAQAFAAAA//8DAAMAAwD8/wIAAAD//////P8CAAQA///+/wEAAwADAAAAAgD8/wAAAAD9/wAAAAD9//7/AQAAAAEA//8AAP//AAD+//3/AAD7//3//f/6//3//P/+/wAA/f/+//z//f/9//3//v8AAAEAAAD+//7/AQD9/wMAAgADAO7/3f/k/9j/5v/l/+n/5P/l/+P/1v/Q/9X/4v/Q/+D/8v/l/+j/5//4/+T/yP/V/7n/rf+l/5D/gv+N/5b/o/+8/8D/zv/H/8T/yP/X/9n/xv/O/8j/vP+v/7v/sv+p/6n/q//G/7//z//R/+j/8v/L/8z/vv+z/6H/pf+8/7L/wv/S/9b/6P/8//j/9v/3/+T/8P/9/9z/zP/k/+X/6f/y/+P/2f/a/+b/7P/1/+b/2v/e/+D/6P/1/wgA9f/q//j/+v/t/+P/6v/5//H/9v8JAAwADADr//D/9f/2/wAA9/8AAAAADAD4/+3/DAAOAAcABAAHAA8AGwAwAD8AOgAwABsADAAHAPP/9v8LAAsA/v/v/////v/w/+v/6P/r/+P/2f/F/7z/yP/S/9//4v/O//D/9f/u//f/8v8DAPX/BgAPAAAAAAD1/wIACQD///n/8v/2//D/+v8LAPb/5f/h/+D/z//j/+X/0//i/9z/1//n//L/5f/n/+z/9//v/9z/0P++/83/3v/j//T/9v/8/wwAEQAPAAkAJwAjAA0ACgAVABYAEAAIAA4AFQANACgAGgAVACkAOgA4ADsAMwAfABYAAAAAAAgAAAD+/yIACQAVACYADQAfACIAIwAeACcARgBMADAAQAA+AC8ASgBLAEQASABMAEQATABAADIAOQAxADAAJQAqACUACwAUABwADQAbABoABQAXAP//8v/1/wEAAADq/wkA9f8IAAUA+f8EAPT/CQABAAEA6v/4/wwAAwDz//r//f/x//H/5P/u/+T//f8CABEAGQAVABIACAAUAA8AAAD//+7/y//Z/8b/x//Q/8//1P/G/8z/5f/d/9n/7//k//D/5//l//f/7v/f/9L/1f/b/+j/8v8FAA4ABQAHAAAA9f/9/w4ACgANABcAFgALAP//AgANAAoAAAAEAAAAAAAJAA0ACwAQABkAGwASAPX/7//i//T/AAD+//j/4//2//L/9/8AAAgA9/8CABUADwAlADEALwAfACIAKAAwADUANwBAAC8AIQAGAPv/FQAVABYAEgAiAD4ASABIAEEAQABBADAAJAAfAAMACAANAP7//v8JAAwA+//+/xUADAAQACQAGQALABAACAAQABgAFQAuADYANQA3AC0AJgA2ADsARAA8AEYAQgA1ADkANQBIADEAKAAzACcABgADAP3/8v/p/+//AwD///7/8//x/+n/6f/m/+r/6v/g/+H/4P/U/9v/5f/U/9b/u/+7/87/4P/o/9z/1P/a/+H/2//k/9r/6f/U/9H/1f/H/83/uv/L/8r/q/+V/6f/wf+6/77/xf/O/87/t/+s/7T/sP+r/53/pf+4/6z/v/+x/6X/tv+q/7j/1//X/9f/1//o/+7/7f/z/93/0P+7/7z/zf/R/9T/1P/b/+n/6P/o/+z////9/+v//f/4/+z/6//x/+j/+v8GAA4AFAAFAAsAEQAmABMA/v8VABQAHgA2AD0AUABaAFYATwBRAFEAQAA9AD8ANgA+AEIAQQBEAFQAWgBZAFsASwBHADIANgAuACsAIQAUACQAKgA5AC0AMAA9ADkAJwAmACYAHQAYABoAHgAdACcAFwAOAA0AEgAZABwABQD9/wQABwAXAAYADAAZABkAEQAIABUAAQD2//v/3//c/+b/5//q//D/BQD//xAAIgAWAA4AAwAdADQAQAAxACoAHwAXABwABAD+/wIABQAIAPv/BwAhACkALAAuADkANAA/AD4ALQASAAsADAAFAO7/5v/x/+//7v/w/xIAAADn/+L/2f/V/8v/zP+8/7H/nf+m/7n/qP+t/63/uf/E/87/0P/M/+P/1//K/97/9P/y/9//x//H/9v/6f/j/8j/1//e/+L/9v/+//T/2//g//L//v/x/9b/0f/Y//D/4f/q/wEA+/8EAAAA/v8GAAsA9//u//r/DQAaACIAHwAaABIAEwAoACwAOQA6ADkANwA+ADgAMQA3AEAATgA7ADMAPABCAF0ATwBOAEYAEQAHAPn/+v/1//3/DQAEABMAKAApACQAHgAPAP///v/0/+b/+/8EAPn/8/8HABAABQAYADMAJAAgACUAEAAWAAsA/v/6////EwAIAA4AJAAnACMAHQAmACAAIgAUAAIA///8//z/5f/1/97/3//4/+L/6v/W/9P/0f/C/9X/xf+9/83/5f/d/+7/AADz//7/8v/+//z/BgAKAAkABQD7//v/+P/2/9v/4P/4/w8ABQD9/wgADAADAOn/4f/u/wMA5//Z//f/BAAFAAEABwAUAA4ACwAgADAAMQATABsAMgAQAAUA8f8AAB0AEQA2AEUAMQAhAC8AKwAiAC4AFgAQAB8ABAAKAAEA+/8EAAYAJQAXAAkA/P/v/9v/1v/N/8r/q/+a/7P/p/+r/5//rP/I/77/s/+y/6D/tP+9/6D/wv/G/8D/zf/N/9z/zv/D/9L/0v/M/7P/yP/X/7//vf/L/97/0v/R/+n/BAD7/+X/3P/n/93/1v/l/9//z//W/wYAFAADAO3/FgAuAA4ADAAOABYABQAAABUAEgASABoAFgAYADEAKQAjAEEARQA8ADkAWABaADIAKAAmACAADQALAC0ARAA3AFAAXQBKAEgAUQBfAEkARABFAEEAPQBEAEwAUwBdAEIASABYAGAAawBfAGIAQwAjADMANgAlACsALgAnAEEAKQAfACwANQA1ADEANwA2ACMAGwAtACQAOgAvACoAFQD0/w0ABQAGAAwA8f/l/9//yf/X/+P/5//u/+D/0v/n/9r/0v/d/+P/8f+//73/w/+8/7P/pf+3/7f/vP+z/7z/w/+7/8n/yv/E/7z/s/++/8P/y//f/9z/3//k/+f/5//p/wAA5P/Y//H/BQDf/6v/z//q/+r/3//q/+X/6f8JABIAEwARAAwABAAKAAUA+f8DABwAKgAuAB8AAwAIAAYA9f8IAAoAAgAEABsAOAAtADoARgAxACIAKgAfAAoA9f/w/+//8/8BAAEAIAAhADQARAAxACgADQAeACwAFwALAPf//P8AABsAIAAYADsAKgAfACMAMgA9ACMAHQAoACMAJgAvAC0AIAAWABkAHwAuACkANwBAADYALgAoABgAFQAuABQA9//+/wAA6f/X//H/+v/4/w0AEwAbABMAEgAcABoACQDf/9b/0/+6/8D/0P/D/+r/9P/c/97/1P/E/7//tP+e/5v/mf+b/5T/gf+L/6X/rP+v/6n/rf+m/6b/sP+j/6T/x//H/7f/xP+4/7P/uv/F/73/v//M/8//4P/q/+f/1//X/+X/0//A/8f/z//P/8P/r/+u/8P/vv+0/83/0//M/9H/wP/L/+D/2f/F/8D/1P/g/+D/5v8DAP7/9v/b/9D/4P/V//D/AgARABEAAAAQAAwACAADAAoAJAAcAAgAAwAZACQAPABBADAAPQBUAFcAPwBDADsAMQA3AD8AUAA/ADgASwBMAEgAOwBDAFAARABSAGIAaQCAAH4AegCAAIYAfwBZAEgAYgB5AHYAcQBhAG8AYgBRAFcAbgBbAD8ATAA/AFQARAAtACMAKgAqAAwAGgAcAAwA+f/7/wEABwABAPv/BgAHAAwAAADy/+n/7//q/+r/5P/X/8z/xf/Y/+D/4v/n/+j/4//k/93/5f/N/67/wf/I/87/zv/W/9P/0//R/8j/3P+9/6r/m/+T/5L/lP+3/7r/wv/C/7n/pf+o/67/sf+3/8T/v/+0/6L/l/+y/8b/zf+z/7j/0v/n//H/AQAHAAAA8P/g/9j/0P/Y/9z/3//d/9j/3P/r//7//P/7/wMABAASAAIACAAYAAcAEAAMAP//EAAbAC4AJQAEAAMACQARAAUACQAaACMAHgAiABsAGgAuADUASABaAGMAagBjAGsAbABWAFMAPQBLAFQARABEADsASgBDAEkAUABGAEMARQA9ADUANgAzADQAJQAuAC4AJgA+AEAALwApACkAJwAfABMAHAApAB0AFQAdACcAJgAsADEAIwAkABQAAgAEAAMAAQAAAAoABgD+/wEAAQD3//X/AAAIAP3/AADv/+r////9//r/9//q/+n/9v/t/+b/3P/r/+D/7f/Y/8z/8f/v//D/4f/m/+L/5P/e/9v/4P/a/9b/z/+8/7//x/+9/8v/tv+t/6f/r/+3/8z/5//T/9j/yf/T/73/uf/Z/87/vP+p/8T/xP/D/8T/w/++/7v/xv+x/73/xf/b/+X/0v/a/+P/6v/b/+7/9P/t//z/9v////z/8f/5//X/+P8CAAAADwAaADEASAA/AEQAQwA5AC8AKQAcACMALwA0AEQAQwBEAEEAPwAtACYAJAAVAB8AHQAWABUAHQAvADkALQAeABsAHgAcABIADAAWABkAEQAeAB8ALwAuACUAHwAUABQAAAD5//H/8f/w//b/+v////T/9P8IABoACAAFAAIA4//q/+P/9P/4//z/6//r/+b/1v/c/97/4v/Z/+X/3//r/9n/zP/R/9X/1f/e/+b/3f/Y/+T/5//g/+//7P/0//f/AQD6//r///8IAAEA//8CAAwAGAAGABcAHwAlABYAFQAXAC4AIAAKABMAGQAOAAkAJQAiACwAEgAUABIAFAAJAA0AIgATAB8AFAAkACIALQAsACkAKAAXACkAMQAxAC8ALgAuADEAKwApADgAOwAoACIAEAAEAOv/8f8AAPj/CQD+/xIAEgARABsAJQAfAAwAGgANAAAA8P/v//T/+f/7/+b/5P/u/9z/3v/u/+f/yf/M/9f/w//J/8z/wv+//8j/x//W/9H/5P/b/8z/wv+y/8b/v//Q/8r/1f/c/9z/6f/0/+j/9/8JAAIAAgD2/wEA9//h/9n/3f/c/9b/w//H/9T/1P/X/+b/3P/U/9r/0//k/+z/8P/v/wIA/P/0/wUAEgARABAABQAKABoA///3/wEADgAQABkAEgAVACIAFwAYABAAIAAoACMAHwAfAC0AIAAbACgALgAmACwALAAYABIADQAKAAsADwAeABwAGgAOAAwAFgAUABwAHgAoACAAEwAXACMAJgAYAAkAEwAhABgACgASAA8ADQD///v//f/v////AgAAAPX/EAD+//n/AAD8/wIA+P/r/9v/3v/H/9v/6v/w//n/AAD2//j/AQD6//j/4f/x//T/5v/t//L/9v/6//r/CgAXAAoADgAQAAoA+v/m/+3/AAAAAPz/AwAYABUABwARABsAJwAiAB4AFAAYAB4ABAACABgAFQAFAP7/AwAAAPj/AAADACwAKQAtADEADwASAAYACQAFAAwAHwAaAAoACAAFAPv/6f/a/+7/9P/o/+//6//W/9n/4f/k/+X/+/8IAP//9P/m/+f/6P/m/+n/9v/6//H/8P/3//X/+P8QAA4AEAAaABUAEQAAAPX/AwAKAAQA/v8FAA4ACgASAAkA+P/4/wQAEAATAAMAAwAOABYAEwAaABoAEQAMABAAIwAeACMAEgAPAP7/9P8DAAAACgAUABYABgAKAAYA//8AAPv/7P/k/+L/4v/f/9v/3P/U/9//3//X/9r/5v/s//H/7P/o/9//3//Z/8f/4//c/+v/6P/0//n/6f/7/+r/8P/4/wAA9v/u/+X/7//4//n/EwARABMAFwAZABQAEgAZABQAFgAZAAUABgAPAAUACwAKAAQA+v8GABIACAALAAkADwAIABIAAwANACMADQAGAP3//P/k/9v/6v/1//D/7f/r//L/+v/y/wIACgD6/+b/5f/r/wQAAADq//T/8f/w//X/CAASAB4AIAARAAkABgAJAAEADwAAAO7//P8AAAUAAAD8/wAA/v8CABIAHAAdABUAEwAsAD4AOQA8AD4ASAA3ADAAOgAyACwAOQBGAEkASgA+AEEAOwA3ADoARAAzADMAJQAiACoADAAZAAsAAgD0//D/AgALAPT/2v/G/7b/2P/a/9D/1f/M/8P/xv/H/8n/1v/Z/9T/zv/A/8X/wf/C/8z/wP/P/8T/xf/Y/9//6//S/9b/3//t//L/+v/8/+X/8//u/wsAFQD3//7/FQAAAOz/2v/T//T/+P8GAPn/3//U/8T/2P/V/8//4v/U/9f/4P/U/8n/xP/Q/9X/1v/b/9X/5P/u/9n/zP/h//D/3f/2//b/3//3//P/+v8FAAUACgAAAPP/5P/p//f/5v/V//L//v/z//P/BwARAAcABADw//v/BgAMACAAGgAeABsAFgA1ADgAKAAvAC8ARQBIADsAQQBCAEcAOgAvADEAOwAsADoANwA+AEgAMABLAFoATAA8ADAAKQApAB4ADwAIAA4AFQAVABoACwAEABQADQAHAPv/AwD+/+P/7f/v//b/9f/2//X////9/+v/AgAJAOv/9f8WABIACgAGAAgAHQAWABIAEAANAPb/BgAbAAgADQAFABMACQD4//T/+v/+////+//2//P/AQD+/+v/DQAbABcADgD9//L/8f/6//T/7v/y/+//6P/k/+j/5f/y/wAADQAEAAAA+//2//L/3f/S/8n/2v/J/8X/zP/V/83/zv/i//P////4/+v/3P/Y/87/yv/J/8f/vf/B/7v/5v/3/+j/AwAaABQAAwAAAAIACgAGAA4ACQAYAA0A/P8RAAwABAAPAA0AAwADAP7/DgAJABMACgAFAAkA/f8PAA8AFQAPACYAIwAWAAwADQASAPf/BAAXABwABQAXABkAAAAHAAsAFwAgAB8AIQAdAC4AGgAIAA4ACgAJAPv/BQD//wUA/v/t/+H/6f/s/+H/7/8BAOn/5P/p/93/5P/P/9z/x//I/8T/1v/I/7X/x/+2/83/4f/3//7/DAAFAA4AFgAOAAYACgAEAPj//v/u//3/CwAOAAUAAAAFAAAABAAVACQAGAAJAAoA/f8FAAAA+/8JAAgAHAAAAAAABwD4/wAA9f/6//r/8v///wUA9v/u/+z/AwARAAkAFAAnACsAKQAuABIACAAWABcABgASABQABQD6/+b/+P8KABEAGAAWAAkAFgAhABcAHgAYABIAEwAKAPL/8f/9/wAAEQARABEADgAMAAkAEwAdABUAIwAgABAACgD9/wAAGgANABoAIwAnAEUAMwAgABUAJgAAAPP/7P/n//b/yP/A/7r/uv+z/7v/vP+s/77/xv/T/9X/0v/p//D/3P/Q/8j/0f/Y/+D/7f8GACYAFgAaABUABgD3//P/+f/5//H/7P/4//P/8P/p/+j/4f/u/+7/9f/7/+z/2//S/+D/zf/a/97/1P/S/8P/4f/6//X/AgATABAAJwAcAAAACAAUACIALQAxACsAGQALAP7//P8cABcAIQAnABIAIQAYACAAMwAtABkACwAJAAYAAAAAAPv/CgAaAB8AHgADAP7/7P/w////AQAXACAAFgABAAAACgAVAA0AGAAfACIAMAAaACkAGgANABsAGgArABQAFgAWAAQADQALAPv/AAALAAsAAwANABwADAAFAA0AFwAqABwABgAdACUAFgAUACsALgAaAAwABwACAPb/8v/6//f/BAAiACsAHQAaABAACQAAAAIAGQATAB4AFgD7//j/AAD3//X/5v/T/8n/3f/U/9j/8v/f/9b/2f/n/93/1P/q//z//f/0/+f/5P/N/+r/6P/Z/+f/6f/s/9T/2f/6/xUACAALAAgA7P/Y/9z/zv/C/8v/v//W/9n/4//n/9z/1f/B/87/y/+4/9P/5P/X/+H/2f/Y//3/CwDq//r/BADw/xAAFgAYABYAIgAWABQAHwAQABIAIQA5AEEARwAgACYAJQAKAAgACQAiACMAHQAfACsAHQAlABsA/v8AAAoAEAAUABAAAwAAAPj/9f/l/+P/7P/+/wYAEgATAAUAAwAKAAEAAgARAAwAFgAXABQABgABAAAA/P/y/+X/0v/h//r/7f/g/9X/6f/8/wIADQAZABMAFgARAAAAEgAPAA8AFwAIAPz/4f/o//H/7/8BAPH/+P8EAO7/7P8DAA0ABwD///3/9f/2//f//v///+//3f/W/+//4P/W/+j//f/f/8T/1f/f/+L/8P/z//H/7P/e/+z/9f/t//D/DgACAO3/6P8IAAoA/f///xcAHQANADAAGwAvAC8AIgBDADsALwBCAD8ANwAiABgAIwAFAA8AGQApACwAGgAWAA0AAQD1//n/AQDw/93/1v/l/+7/2v/f/9f/uv+//8L/0v/p/83/2f/o/93/2P/U/9z/8//6/+v/+f////v//v8AAB4ALgArAEsAPAApACkAPQBDACQADwAJAAsADgAeACIAHQAMABMAGgAlABUADgAvADEAGgAQAA4ACgAUAA8ADAALAAoAAAAGAP//9P///xMAGAD6//v/+f/8/wEA+/8IABkA+P/g//f/8v/p/+P/4v/n//H/+f/u//L/CAAHAPD/+P/7/wEADQDr/wYAFwDw//D///8gAAUA/v8WAAQAAgD4/w8ADgACAP//BAADAPD/LgBMACkADgAlAB4ACwDr/9v/BgAAAOn/0P/d/+P/0v/p/+f/tf/E/9//zv/N/+b/5P/Q/8X/tf/U/+H//P/7/73/4//p/83/9f/Z/9//7f/f/9z/4v/O/8X//f/7/+b/5f8HAPP/8/8EAPz/9v/o////BgD9/wcAGgAfADAANgA+ADAAJQA1AEQAJQBRAFoAOgBBADoAUwBLADUAJAA1ABQABAATABgACwAEAB8AFwAOAP//IgAuABAACgACAAQA5f/f//D/+f/i/9z/8//o/+n/5f/a/83/2v/M/87/xf+5/8H/sP/D/87/xv+1/7b/n/+r/8P/zv/J/7z/2P/k/9D/vP/7/wAA4f/w//r/HgAHAPb/DwD7/+z/8f/3/wEA6f/P/+z/6v/+/xcADAD5/wsAIAAbAB0ACQASABgAFQD+//D//v/w/87/5P/z/+j/9P/s//z/EQAMAAsAFAAXAAsACAAhAP3/8/8AAPv/DAALAPr/BAApABIAFQADAPj/IAAqAB0ALgAyABQAFwArADsALwBAAFUAaQBSACsAOgAwACwAKwAhAC0ARgA7ACkANABIAE0AKgAaAEgASQA9AEwAQwA9ADUANQA4AC8AIgAtADAAOAA5ABkAKwArACsAIAAGABEADgAEAOv/8//4/wEA/f/t//H/AAD4/+X/4v/k/+j/6v/6/+X/5v/B/7r/yP/Q/8//zv/b/93/2P/G/8//2//+//7/AgD5/wEABgD7/wwAFgAPAOj/0P/A/9v/2f/K/+D/5f/s//D/6f/i//3/+v8HABQABAAJAAkADgAXACAAIgAcAAwADQDp/9D/2/8HAAQA+f8OAAAA8P/R//X////8/wYACgATAPX/AAAFABQACwD2//z/9v/7//L/7f/1/+7/7f8BAPL/z//c//D/3//o/+//7P/+/wIACQAmAB4ADwArABsACwALAAoABQAQAAEA+P8QAPz/8P/w/wYAIQAuADEAEwD8/wsABADt/wcABwAZADEAGwAEAPD/8P8EAC4A/f/g/wQAFgANAO//AQAEAPz/9f8BAAAA7f/O/8b/xf/S/83/0//2/8H/xv/T/87/x//Q/9//6P/4/+z/8/8GAAkA9f/f/8T/xv/A/87/zf/H/83/w//h/93/5v///xAAEQAoACcA+/8LABcA9//U/+7/9P/o/+H/3f/4/w0A+//V/8v/0//f/+//+v/t//3/EQAQAO7///8CAPT/BQDZ/+j/BwD3/+X/7v/0/+L/6f/2/+n/AAANAA0ACgD8/+//9f/7/+T/5//f/+r/4f/t/+f/yf/v/w4AIAAzACgAJwA0ADgANwAmABMABQAaABYAGAAgAA0A+/8BACUAJwAeABQA/f8AABwAHAACABIAHgAqACQADgAeABkAFgApABMA9P8KAA8AFgAQABIAKQAbAA8AEgAcAA4ABQD0/9//3f/p/+7/AAAPAAAA+//1//j/9P/t/wgAGwA4ADoAFgApADoALQAsACMAJgArACMACgADABAABgAfACMAJgAdAAkAFgAUAOv/7/8YAAUA9P/p/wgAIAARAA8AIgABAOn/AAAHAO3/3v/9/wEA6//c/wAAAADx//b///8GAN7/u//V/+L/4//8//3/8//s//T/6f/f//b//v8DAPP/8f/+/9r/1f/m/+L/2f/N/+L/+P/h/+H////6/+j/6f8DABMA/P/k/+r/8//1/wMAFQASAPj/CgAgAOn/zv/r/wYABQD4//3/6//4//r/9f/5/+T/1//V/+T/5v/b//L/GQAFAAYAJgAXAAoAGgAhACkABwDz/xcAAADc//3/DQD0/+7/BwARAP7//f8DABMA/v/3/xoACAD0//3/FgAfAAMA9P8RAAoABAD//wwAGwARABYACAALAPT/+//9/wQA8//L/8r/wv/g/+3/y//D//T/4//b/9z/0//y/+H/w//O/+v/0f/S//X/BAASAO7/8/8PAAUA8//0/wcAHgAfAA0ACwAHAAYA+f8cACsABwAGAA0A/f/y//T/8f8QAB8AFAALAAsA+v/y/+3//P8rABsAHgAVAAIA///v//T//P/q/8T/wf+q/7P/x//X/+n/3P/w/wwABQDq//H/6f/Y/8D/v//S/8v/s//T/wEA8v/q/9b/7P8YABAAAAACAP3/+P8NABMAGgA0ABcAEgAWAPn///8UAB0ALQAqACAALwAmACcALQAdABYAFwAVABAA+v/u/wMAEQAJABYAFgAOAB4AFgAvADMADQACAO//CwAZAPv/+v8XACkAHQArAB8ABAADAA8ALQAIAAUAKwA2AEAAMABGAEgATwArACcANAAQAPz/7P8xADEACgACAD4AUwAdAAAADAAeAOv/4v8DAAcA8f/Z/+L////w/+H/6//1/93/xv/F/+//AQDo/wAA8//l/+H/1v/i////8//a//P//P/4//D/BQAKAP//7/8OAB8A8f/6/wsA///m//b/DgAYAP//+f8fAB4A5//l/yIAGAAAAPb/DAARACIAFwD9/zAAKgAVABwAIAAyADcAEwAvAFoAKAAZADEAOwAyABEAJABKAE0AJAAtAFUAOwAiABMAHQA5AFQATABLAFMARwApABsAHQAjACYAGQAbACEANwAlABoAHAAVABEACwAPABAADQD9//n/BQAOAPv/2//e//n/5P/V/+D/5v/k/8T/yf/z/wUACAAEAAwAEAAAAOf/zP/V/7n/rf+5/7z/z/+6/8b/2f/B/6r/oP+d/7z/2f/W/+H/y/+//8j/rP+K/6H/yP+//7H/r//I/8r/1//6/wcAAwDu/wQAAgDg/+//7v/r/9P/0f/v//n/AgD+/xQABgD///v/AwAJAPP/AAD///v/9P/1//r/BQAGAPf/8v/s/+3/7f/a//X/7v/u/wsAAAAXADgARwAmAB0ABwD1/+n/x//l/wAA+P/z/xQAIgA0AEAASQBgAFoAOAATAAUACQAcABYAGQAoACwAMwAoABoAHABCAEcAMwAsAC8AOAAoADcAPwArAAYAFgAsACsAHQAbAD8AKwAWABEAIgAqACcAPQBBACgAJQAfABUAGwAGAAEA+//7////8v/8////DQAKAPb/AAAUACAAHQAIAP7/CAAMAPb/+/8OABUADQAHABEAAgDz/+j/3P/G/9L/t/+s/8T/q/+2/67/qP+9/8X/t/+k/7j/uv+q/6D/n/+M/4T/k/+T/7L/pv+p/7n/vf+8/7j/wf/A/9n/zP/B/8z/w/++/8L/yv/e/+7/4//y/xAABgDl/+L/4//o//D/DwAuAD8APwAtACoAIQAlAAEA+f/v/+T/8f/t//3/GwA2ACkAMwBSAE4AQABJAE4ARwApAAoAFwApACgAIgAzAFAARABBAE0APwBZAGcAVABbAFAAQwBKAEEALgAjACEAEQASAAwACwAyADAAIAAeADUANgAZABIAHQAoABAAEwAsAAsABQAUABMAIQAiADsAMQAjABUAFQAdACYANAA3AEcAHQAjACcANQA3ADEAOwAiADMANQBEAFgAYQBRAEAANAATABgAGwAhACoAGQAIAAgAEgAQABcAFAAAAPT/7f/z/+j/AwASAPb/6P/c/9H/xP+1/6b/t//P/8b/zv/L/7j/sv+j/8r/yv+u/7X/uf+8/8L/u/+4/6j/lf+Y/53/qP+o/5P/fP99/3b/jv+J/47/sP+0/5L/i/+0/6f/lv+X/5v/mf+d/5j/rv+//7D/tv/W//D/+v8MAP//9P/7/+z/4f/Z//L/+v/g/+D/6P/z/+X/zf/q//v/6//3/xMAIwAfACMAJwArACMAFwAAABoALwAtAEwAUwBMAEwAOAAyAEgASgBPADUATQBOAEIAUABSAG0AWwBSAGwAgABaAGMAZQBXADYALgBZAFYATAAtAEgARgA0ACgANQBUADIAJQAxAC4AMQAyACoAKgBGAEgAOwA8ADEASQAoABwADwAkACcAFwAsADsAUAApAEAARAA1ABgAGwA8ADoACQAAABAA/v/v/9b/7//u/93/2f/m/9//zf/f/9z/2P/D/7b/v/+9/9L/zv/K/9j/wv+v/6r/wP/p/9v/yf+4/7j/uv+z/7j/pf+w/6//p/+r/7r/z//H/8P/zv/G/9L/t/+a/6D/sP+6/6//q/+o/6v/sP+u/5X/pv+a/5j/q/+z/8r/y//W/83/wv/D/8X/xv/p/+v/x//e//n/BwDx/+//7f/u//7/+v8UABYAEwAJAAYAAAAEAAsADwAVABAAIAAtADAAOABRADYAMABDACcAKgA2ADsARwBPAFcAXwBgAEEAOABKAFIAWQBSAFcAXgBZAFEAawBvADgATABFAD4AOgAnAEQAOAAhAA8ANAA6AC4AMQAjAC8ANAAVABYADwD4/wEA/P8DAAsAGgAKAP3/AgD4//b/CQD5/w4AIwALAA0A9f8PAAIA6f/7/wAABAD0/+D/4v/o//z/AwD9/x4AEwAPAP3/3v/t////GAACAAsADwAAAAUABQASAPD/8//u/+//BAD3//D/6//5/+n/7v/w//L/AAD+/wUA8v/o/+v/2v/b/93/2f+//8D/xv/C/8P/uv/b/93/7f/z/+z/5//h/+b/7v/o/9L/zf/W/9n/uv/I/9b/4P/s/+X/4v/g/9n/4//t/+X/5f/u/+//1v/I/9j/7//8//7/9v/t/9j/z//Y/83/yP/E/8//9P/j/+b/AAAEAPf/4v/T/9z/+//z//X/5//a/+r/8P/p/9//3f/g/+H//P8OAAEAAgD3/+7/2P+//97/5P/n/9//3P/e/8D/1//b/9z/4P/j/97/2f/g/9z/2P/a/9P/wP/o//P/6P/e/+T/8v/n//j/+P8GAAQA8P8EAAMAFQAhACMAJgAyADgALQAlABMAOQBHAEIANABDAGYAVABQAFwAbgBrAFsAZABXAFcAYABsAHUAfACQAHEAbQBjAGkAcwBwAIQAggB5AHoAawBtAG0AbQB4AG0AfQBoAGUAVABcAFgANwA/AC8AFAD3/wcAFAAXAB0AEQD8//H/9P8NAAUA7f/x/+n/6v/d/8f/zP/Y/9f/2//U/8r/2f/W/9H/xv/I/9P/u/+8/7j/s/+r/5L/kf+c/5r/mv+l/6T/n/+i/57/lv+h/6T/sv+m/6D/pf+i/6D/nf+w/6//w/++/77/1P/T/8P/xP/D/8T/4v/s//3//v/w//n/9P/7/woABgAEAAUADgAbACIAIAAVABMAFQADAAYA/v8AAP3/BQAJAA4AEQD+/xEA9//5//n/AQD0/+//9//7/wAA5P8AAPb/+v8FACQAFAAAABUAFQAgAA8ADwAWABwAFAAZAA8ABwAaABgAJAAXAA4AIgAXACIANAA0ACwALgBEAEAAOABUAFEAQQBGAGAAcwBtAG8AUgBSAFEATQBfAF0AegB2AGEAbQBiAFcATwBaAF4ASQBMAFUAXABKAD8AVQBMAEEATABXAFwAWQBQAEUAQQA1ADUAMgAiABcAEQAGABEAEgD///T/6P/k/9v/2P/B/7H/qv+w/7T/kP+N/5H/ev9m/23/V/9I/03/Uv9c/1H/Uv9F/0z/Of8p/zP/M/9M/0j/UP9a/2T/f/9//5H/hv+L/5n/k/+v/5f/lv+Q/5b/lv+T/5//of/J/8L/xP/b/9f/0P/J/7//yv+//7v/2f/n//T/7f/3//7//P8BAA8AHQAAAPn//f8IABwAMQAvADkANgApAC8AKwAwADMARgApACUAHAAcADAAJQAbAAEABgD2//P/EgAcAC0AHgAWAB0AIAA1ADAAKwARABwAMQAtAEgATAA+AEIANQBEAFIAOQBIAEIATQBCADIAVABiAFIARwBUAEcAWQBuAG8AaABwAHUAbwBsAGIAaQBaAEgASQBLADgAKgA0AEUAOwBHADEAMwBHACMAJAAmAC4AJgAgABwAFAADAAQAEQARABoAFgAlABoAIQAlACIAFAAAAP7/8P/s/+L/8f/2/+r/3//m/9n/v/+x/7j/uf+y/7j/tv+4/8j/xf+7/8j/tv+7/8b/z//C/7T/xf/G/8f/s/+s/6//qf+j/7T/xP/J/8X/2v/c/9v/7P/p//H/9v8CAAQAEgAZABQA/P/9/wAACgATACMALQAWACAAEAAQACQAKAAnABcAAAAAAAAA+f/4//z//f8QAAgA9f/8/wgACAAAAAUA/P8SAA8AHAAcABQAFgAOABcAFQAeABcAIAAsAEQATQA6ADoAOQAqAB8AGwAZABwAGgAhAB4ACwAEAAIAAgAHAAwADgAGABoANwBKAEkANwBFAEkANwAeACIALwAnACgAMQAiAAQADAAIAAMAAgD3////EwAVABAAIgAXAAwACAAHAPj/9//0/+z//P8IAAAABgAZAAcABgDx/+b/2//k/+X/4f/k/+b/+P/x//H/9f/8//D/7//v/+7/7v/q/+v/3v/S/8//yf/c/8r/yP/i/+X/2P++/8f/2v/e/8r/1P/U/+H/4P/d//L/7v8CAP3/7P/s/+7/7v/d/9X/6f/x/9z/2v/j/9v/2f/e/+H/8P/3//v////8//v/9P/r//b/7P/k/+n/5f/h/9v/3f/o/+7/7P/p/+3//v/t//T/AAAEAAEACAASABUAFgAHAAkAAwAGAPr/AQAHAP3/9P8AAAEADAAhABAAFAAKAAIAAwD2//3/IwAaABQACgAJACMAEAAdACYALwAqACwAMQAuACcAJgA3ACsAGwAQACMAKgAdABMACAABAAMA7//m/9X/z//f/9X/5P/t/93/6//6//f/BQD1/wMACQAIAA0ABQALAAMADAAFAAwAFAAcACoAFAANACQAGwAhAC0AMgAlABwAJgARADMAQAA/AEEAMwBHAEgASwBTAEkAPgAzACMAJwAIAPP/AQABAP7/8P/7//v/8//o//D////2/+//9P/5/wAA9P/0/wAABwACAOv/8P/o/+v/3//g/9j/0P/Y/8v/3P/V/9j/5v/r//f/5f/c/97/6v/p/+f/9P/8//z/8//y//n/CQD8/+//+v8AAPf/7f/u/+L/5P/u/+n/7P/t//n/3//h/+X/4P/p/+H/+f/o//z/AAABAAYACwAIAA0AEwD1/wMA9P/r/+//8//q/wkACwD8/wEABAARAPv/BwAMAAMA7v/w/wEA9P/t//P//f/0//T/8v/r/+//8P/1/wEA9v/m/+v/4P/s/+r/3P/l/97/6P/e/+r/+f8AAAsACAAGAAIAGAAJAAoABQAFAAYABAAXABYAFAAjAEAAPwBEAEAATQBLAFMAVgBSAFkAXABgAGkAbABMAEUAPgBBADcAPgA8ADwAOwBBADUALwBWADQAJQAcABMACgD5/wgABgASABAAIAAjAA0ACgD+/wUA9v/r//f/BQAAAAEADgAXAA8ACQARABAAEwAoACgAIgAcAAsACAAEABIAFQAdAA8AHgAIAPr//f/0//3/6v/7/+j/8P/k/+X/4v/i//P/5P/Z/8f/1v/G/8f/tP+f/5D/g/95/27/gP+E/4v/gv+E/4n/l/+G/3j/hP+C/5f/rv+v/73/yv/O/8//0f/f/9j/1f/X/8j/tv/D/83/wP/R/+D/2/////f/6P/o/+j/6f/P/+f/7v/7/wEA6f/r//b/+P8DAAsAAwD//wEAAAABAA4AHQAYABMAEQAWACIADAAUABoAFQA2ADkALQApACYAKgAiADMALQAdACMAIwAiADAAPQA6AE4ARQA9AD0AVQBgAFUAawBdAFEATwBaAHcAfABqAHIAeACCAIMAiwCYAH4AhwCCAH4AkwB9AHwAggBzAHYAhwB8AGUAdQB2AHcAcgBoAGAAagBkAFIARQA3AD4ANgA/ACEAEgAZAA8AEAANAAsAEQAKAPf/8f/d/+b/4f/U/9T/vP+6/8P/u/+x/6P/pP+l/6L/nf+e/6v/q/+o/5L/mP+o/6L/m/+N/4P/c/94/4f/mf+f/5j/lf+H/3L/c/96/4L/g/+K/5X/gv+U/5b/k/+v/7X/rf+q/7//z//l/9P/zv/j/+D/6P/a/9b/6v/l/9v/5v/i/+//7f/g/9H/1P/o//r//f/0/+b/5v8BAOX/6P/r/+X/7//2//P/8P8AAAEA6//q//f/7P/v/wkADQDx//P//v8AAAQAGgAsAC0AMgAtACcAOwA2AD0ARgA4AEkAUwBEAEYATABEAEwAQwBIAFoAVABGAEcAPAA+AEEANQA4AFIAXQBfAF4AXQBZAFUAVwBRAF8AYwBdAGEAYgBKAEkAUQBSAFkAawBeAEUARAAzABsAJQAvACkAJgAgABcADAAYACwALwAfABMAEgAJAPz/CQAOAAQA/P/3//L/3//Y/+f/8//s/+//9//3/+b/3//R/8T/xv/I/8X/tv+l/6D/kf+O/6D/rv+u/5//kP+Q/5P/h/+P/5X/jP98/3H/hP+M/43/nv+Y/5r/mP+j/6r/qf/C/8P/v//M/8T/u/+9/7X/u//D/8v/0P/R/73/sP+5/8f/2P/r/+f/3v/k/+T/5P/Z/9P/0f/N/8D/rf+y/8v/1v/T/9L/1//T/9n/8P/q/+3/AgD9/wAA/P/r/+z/8f/4//z/CAAXABAACAAFAAcAKAAfAC0AVABKADsARgBQAFMAbQB/AHQAcgB0AHAAfgCGAIoAfwCPAIkAgACCAHAAbgBeAH4AhQBkAE0ARgBnAGgAUgBRAGIAXgA7AEkARwAxACgADAAhACAACgDw/+r/+//w//r/7//k//L/8f/h/+z/8P/l/+7/3f/o//X/4P/T/9H/5P/j/9b/2P/V/9//4v/f/9f/0P/i/+r/1f+1/7//q/+l/77/uv/W/8v/v/+1/7b/wP/B/8v/yP+y/8D/uP+b/6r/tf/G/8b/w//B/8T/wv/L/9D/1f/L/9r/3//M/9X/2f/e/9//+f/k/9f/8P/y//L//f8UABkAGAAOAAAAAgAFAAIADwAbAC0AJgAUACMAHQAmACMAHAAnACgALAAhABQAFQAWAB8AKgAiACIAGwATAAwAGQAhAB8AFwANABoADgAPAAwAIAAsACkANQAiAB0AFgABAAEACgANAAYA/P/6//z/BgATACEAFwAGAPb/9f/+//n//f/1//z/AQDx//P/+P/7/wIA9//6/wEA8f/t////AAAAAAoAAQD8/wIABQAEAAQA/P8KAAwAFAAKAAAAEgACAPv/CAASAAYAEwADAAAAFgAWACcANQBFADgALQA+ADIANwBIACwANwA2ADIANgAoAC0AKwA+AD0ANgBBAEgAPwBIAD4ALgBHAD8AMAAgACMAGwAPAA4ACAAAAOz/4f/i/+j/2f/N/8H/tf+t/63/oP+l/7T/rf+q/57/h/+B/5L/l/+c/5z/lv+M/57/vf/N/9P/x//P/9r/6f/q/+b/6v/p//f/9v8AAAgAEAAwAC0AMwA1AC4ANQAnAD4ASgA9AEEAOgAyADgAJQAcABAADQASAAAADwAZAAwA/P/u/+D/7//2/+v/7//q/+j/6f/b/+r/+v/t/+T/3f/p/9r/zf/T/+j/4P/V/+P/1f/u//f/5f/T/87/x//F/+b/5//Z/8f/wf/Q/9f/2P/f/+L/7P/7/woAAgD6//n/CQAQAPv/DQAEAAcAEAAPABQAFwAUABIANQAtACkAIQANABoAHgAqACsAQgA2ACQAPAA5ADgARABEADsANQA0AEIAPgA/AEIAOgBBAEsARwBOADYALQBHAEQAOgA+AEEALgAmABsAKAAbABQAIwAVACEAKQAgADQARQBEAD8ANwA6ACoAKgAnACsAHQAfAB0AEwAbAA0AFwAPACYADgDy/+3/5v/r/87/0f/P/9X/5f/n/+f//v/2//X/+//8/wAA5v/e/+P////1/+T/5v/c/9b/2P/Q/8z/3P/Y/+D/2P/S/97/2v/k/9X/yv/U/8f/zf/R/9b/0/+9/7//xv+9/8j/wf+3/8z/yP+//7f/wf/J/8j/vP+9/7D/sv/K/8z/2P/X/93/6//3//j/EAAbAAIA7//s/+r/3P/d/+H/7P/q/+z//P8JAPz/7v/w/+T/9//4//3/9//z//j/7f/y/wMAFwASABYAGQAUAB0AIAAOABAAHwAgAC0AJwAdACMAMAAxACoAMwAmACsANAArADYASgBIADcALQArACQAKAAoADYAOgBAAFgAVwBqAE4AUwBTAFEAUAA0ADsAPwA8AD4ATAA4AD0APgBKAD0AJgAlABcAHAAZACEAIQAjABkAEQAHAPH/9/8HAAAABQD7//7/BQD5//X/7P8HAPj/3v/v/+z/7P/s/+3/9P/v//L/3//W/+H/4v/j/83/0//V/8z/1P/D/8X/w//D/8b/uv+4/6r/rv+3/67/uP/S/8j/zP/P/8v/wP+o/6b/mf+z/6H/lP+Y/4//l/+T/6T/qP+u/7b/of+o/6b/l/+i/6P/rv+t/6f/mP+k/6L/rv/E/9z/AQDt//f/5v/o/+//9v/+/+z/6//w/wAAEgAgAAgABwAUAA4ADgAUACAAMAAyADMAFAAWACAAGQAwABIADwAOAB8AKwAeADwAQwBHAE8AXQBQAFIAWQBKAFAASwBaAGcAeACAAH8AgQBgAFkAaQBcAGUAZwBiAIAAaABxAG0AdAB0AEEAWQBNAEMATgBGAEgASQA7AE0ASgBKAGYARQAwABkABgAXAB0AGwAkABQAFwAcAP///f/3/9//4f/q/+z/6v8AAAsA+/8AAPv//v/2//f/5//k/+n/2v/r/+H/7P/o/97/0//J/9z/7f/0/+D/5f/f/8j/uv+o/57/kP+N/5j/nP+l/6z/qf+V/5v/sP+m/53/p/+o/5n/nP+e/7T/qP+q/6f/ov/B/7n/uf+l/6z/uf+0/7L/pP/F/8j/sv/P/8v/rf+s/7H/of+x/9T/2v/d/9v/5f/N/9j/3v+6/7//w//L/+L/8f/4/wUAAQADAPz////9/+P/8//4//j//f/l/+v/8//3//7//P/1/+3/AgAGAAIAEwAeACoAMAAaACQARABFAE0AXgBPAEwAVgBcAH0AbABoAHoAeQCNAIkAhgCFAHgAegB6AHMAhQCUAJkAsgCjAIsAgAB+AHkAdQCCAIgAjACBAHEAVwB2AHoAZABdAFEAXABRAEMAMgA/ACoAKQAlABMADwAbAB8ACgAuABQAAwD+//v/9f/3/xUADgD7//H/8f/r/+j/4P/V/7//yP/Q/+T/7v/h/9H/tP+p/6z/q/+b/63/s/+k/6z/pv+o/8f/zf/T/9P/xf/F/6z/r/+u/6v/yf/H/8j/4v/m/9X/0f/U/9P/zP+9/8b/z//Y//H/9P/8/+z/0P/E/8T/5v/o/9T/8//s/9T/1v/g/+3/1f/A/8v/wf+2/8z/xf/C/+L/5v/q//L/8v/1/9z/0f/c/9v/0P/j/+D/5P/4/+3/6f/j/+//9//y//f//P/8//P/7v/o/+3/7P/q//L/2P/r/wAABAAcABAAEQAWABsAFQASAP7/DwAXAAMACgDw//z/+v/+//z/AwAIAAoAHwAVACwAMwAgABUAHgAsADoAOgA7ADwAQgA9AEIAUgBCADUAJgA8ADYAKwAhAB8ALAAuADcAPwBZAE4AYABXADgANwAqACkANQBOAF4AXwBSAD4AKwAhAB0AIQAtAEIAPQAyADsAPgBHAEwAOwAzACcAIAAaABMACQDx//f/9v/W/9v/5f/y/wMA9v/1/+r/9f8CAPj/8P/l/9T/wP++/7T/w//F/8T/5f/c/9j/2//r/+v/2P/e/8T/yP/P/8X/uP/F/97/z//U/8L/yf/W/8z/2P/Y/8X/tv+7/6z/rP/P/8//1f/X/+n/4P/I/9D/vf/O/9//3f/Y/+D/4f/d/9T/zP/I/7n/xv/F/9T/5P/k//L/7//r//P/9f/Y/9//3P/o//r/8f8DAAwAHwAVAA8ADwAbAAwA9v/m/+n/AAD8/wQAAgAOABQABAD9/woABgABABMAGAAhACcAKQAmABwAIwAmAAwAEAAgACQAKAAgACIALgAmACEAGgAWACwAKAA2ADQAKAAtABAAGgAsACgAJQAxAB8AJgAmAAgAHwAVAB4ALQASAAcAAwD3/wMACwAeACwAEQAeACEAEwAdACEALQAmACQAHwATACAAKQApACYAJgAaAB8AIgA1ADcAKQAlACIAMQASAAkAFwAQABEAEQAbACIAPgA9AC0ANwAlACMAGAAJABcAGAD+//j/9v/3/xIAFQAjACoAGwAhABIA//8CAPf//v8FAAkABgD8//T/6f/m/+X/4//Z/9b/3v/v/97/zf/b/8v/yv/O/8L/xf+6/6f/rf+n/5X/nf+u/6L/nP+s/6H/nP+X/53/rP+y/6X/qv+g/5b/wP/H/7v/uP/Q/8n/uf/F/9v/1v/J/8v/y//L/+P/8v/q//z/AAAAAPX/AQANAAgA9/8AAO3/1v/r//f/EQALAAQADAAFAPn//f8TACAAEgAWABUA9f/u//b/5v/n/+7/6f/4//b/9v/4//r/BQD5//T/7v/o//n/DQAJABIADgD7/wcACgARADIASQBOAFYARABNADcAKAA8ACwAGAAqADMANABIAEAAUABFAEQAUABNAEsAVQBYAFgAVABGAEwATwBPAE4ASgBHAFgAUQBOAEQAOQAvACgAQQBPAEAAJAA1ADkALwAlACYAHwALAAsA/v8PACAAFwAHAP7/AADz/+X/7P/x/wUADAAGAPr/8f/v/+X/3v/W/9//1//a/9H/0//K/7z/vP/M/8j/vf/F/9H/3f/T/+f/4v/W/9P/0P/T/9X/1f/J/8b/xf/A/8b/zP/B/7n/xf/Q/8j/yf/Q/8T/y//Q/8//x/+1/7//1f/W//z//f/f/9b/8f/7/+3/AQDn/+3/3v/V/+D/3f/R/8X/0P/P/9f/1f/x//b/8P/y//L/+P/x//P/AAAKAO3/5v/y/wAA7f/c//X/+v/7//z//v8LAAcA//8aABMAAAACABUAEgAXAB4ANAA5AB8AGgAbACQALAAvACwAOwApADAAMgA2ADgAPAA9AB4AIgApADYAQQA3ADwARQAoAC4AQgA1ACcAKgAsADgAQAAyACUAJAA3ADUALAAwADYALwAtACEAGgAmAB0AKgAyACkAOwA5ACUALgAoACYAJQAcABQADAAZABUAFQAjAC4AIQAhABMABgAKAAMACwALACIAEQARACMAIwAQAPX//v/x/+X/1P/U/9D/0P/O/83/xP+8/7T/nv+q/7j/tf/J/9X/xP/M/7j/vv+5/6z/rP+y/8D/xP/C/7P/t/+n/7T/sP+4/83/2f/Z/7//sf+6/7v/t//K/8H/wP+9/7X/rv+7/8f/0P/E/8z/1//U/9P/x//N/8P/y//G/8L/zf/Z/+D/6//0/+3/+//+//r/AAAMABYAEQAXACIAGwAUACoANAAxADYAMQA4AEYASQBPAE4AUwBeAFYARwA2AD8ASgBBADUARQBVAFYARQAvAD8APwAxACIAIgAwADIAMAA+AEEAOAAsAB8AKwAjADMAQwA5ACsAFwARABwAFgAeACkAHAAaACYANgBBADYAMAAuABsACwD+/woACgAAAAIACwAIAAYAEgAWAAoAEAAgACkACwD2//j/9P8RABAAGAAZAAYACAAMAAAA//8AAA0ADQDz//f/5//u//P/5//p/+H/0P/Y/9f/5//q/9z/3P/f/9v/yP/X/9j/9P/m/+H/7P/Z/8f/wf/Q/87/3f/c/+//7v/W/9v/0//d/97/3P/a/7z/1f/j/+b/6//M/9P/5P/q/93/1v/K/9P/3v/P/9//2//X/87/1//V/9j/3v/b//L/7/8IABIA/P8CABMADQADAAMABAAKAAoAIAAvAC4APgBJAEYAMgAsAD0ARQBNADMAPgBDACcALQAjACoAKQAhACsAJAAjADUAMgApACMAIgArACYAEQAYAB4AEQAQABMAEAAOAAsAEAAWABQAEQAIAAwAFgAaAAkAGQASABMAJQAbAB8AJwA5AC0AKQAeABQAHAAcABUADgAZABUADQAgABkAFQAWABMALAAcAPn/9v8EAAIACAAOAA4ACQAVAA8ACAAPAPj/DQDx/+n/AAD9/xMAEwAKAPn/+v/o/+L/6v/v//v/4//a/+X/z//G/7v/pP+v/7P/tv+2/63/tP/E/8L/vv+0/7f/xv+8/8D/uf+4/67/0f/y/+H/+P//////DQABAAMAHAAVABwABgD3//P/+f8DAPr/AgD+//X/BAD0/+z/7v/z/wYA7P8IAAsAAAD0/+j/+v/l/9z/yv/k/+n/6v/5/+7/9f/t/+P/4v/e/+z//P/9//n/2v/k/9z/y//n/+b/7v/+//n/9//r//f/7v/4//n/0P/t//P/8//3//b/9P/x/+z/4v/x//r/+f/s/+f/5v/2//H/9P/3/+v/+P8FAP3/6v8IABIADQASADIAPAAoACEADwALAAAACwAeAA8AEQAkAC0AJwAjACIAFQArACwAIAAnADgALwAcAB8ALgAuAA4AFQAVABgAFQA2AEYAOgBLADkAQAA5ADgANAA9AEUANgBFAEQAMwBJAFUALgA+AEoAOwBBADMALgAeABEA+f/A/7H/pv+l/6v/xf8dAGAAlwCZAGUAVQA+ADIAAwC2/9f/0f/F/xwAFQA9AFYADwBlAIcAPQBqAFQAOgAyANv/0//g/5j/qf/o/97/DQAFAAAAOQAVANT/9v/0/97/3/+2/+X/zP+a/8T/tf+s/73/v//d/+7/4P/s/9v/zv/W/9f/4P/Q/8//xv+7/7j/r/+3/7T/uP/b/+T/7//u//P/+v/o/+j/7P/c/+L/6v/F/9n/1//h/+r/4P/j//D//v/5/w8A9/8AAAkA/f/1//f/+//v/+//3f/t/+n/7//5//7/AwD3/wIAEQARAPz/CgAPAAAA+/8AAAoAAAD6/xMAJgAEAAUAIAAlABYABQAVABgAAAD5/wYAIwAzAEEAXQBUAEYARgAtACwAIgD9/wAADgAdACEAPwBTADsAMgAnABIALwAlAB8ANgAvAFAALwAhADoALgA4AE8AVABkAFEAKAAlACEAMAARAPT/GgAAAOT/BAAcACQABQD+/xIAJQANAAMAFgAPAAcA3P/U/83/sv+x/8X/2f/f/+P/8f8TAOb/5P/g/8z/0/+y/7T/v//C/7D/vf/I/8X/y//M/7z/2P/R/8j/7//M/8r/zf+y/8L/yf/A/8L/rf/U/+b/z//u/+n/5//h/8n/zv/I/8f/3//0/+7/+/8EAPf/+//0//T/9v/s/+f/5//1//v/9v/p//D//f/y/+L//P8KAAIA+f/p/9//1//Z/8P/6//4/+//AAAQABEAFgA4ACoAKgAVABAAFgAJAA4ABAAPAAoABwAYAA0AIwArACoAKwAlACIAMAA0ACgANwA8ADQAMgBBACoALgArAC4ASwBHADoAOQBFAEQAQgBDAFoAQQAyADwAOgBBADUAOgBEAGAAUQBVAGAAWABQADEANQAnABkAHAAjAB8AJwAjAB8AIgANAAwAFgAXAAYACwAJAAYACwADAAMA9v8BAAAA4//6/wsAAgD9//P/5f/U/7v/v//J/8D/t/+2/7L/u//Z/+H/3f/g/9D/uP/X/9X/yP/Q/8X/xP++/8H/yv/R/8z/yf/X/+D/4P/o/+n/z//Y/+n/1P/S/+b/4f/k//3/BQAtACkAIAAWAPz/AwD+//P/7v/S/8H/8//u//H/BgD2//f////4/wAACAD3/wAAAgDw//3/6v/R/9//0//e//b///8GABYACgAKAPP/6//8/+H/2f+y/7j/6P/2//v/BwAZABIACQAPABUABQAFAA4ACgALABYACAAAABwAAwAWAD8AMgAgACEABQAGACgAJQA3ACAAMQApACwAXAA7AE4AVwAzADEANgA9ACoAGgAfAAoADAD9/wIAEAAAAAoACQAYACwAJAAnABAADQAaAAwADAAPAP//9v////b/+v8AAA8AGgATABsAFwATAAAA1//E/8r/x/+5/77/wP/c//D/5v/o//n/7P/W/9D/wv/F/8D/mv+L/5n/k/+u/7f/sv/V/+7/3P/d/+f/1v/E/6//sf+e/6f/r/+g/8H/1f/U/93/AAALAPP/BQACAPr/AAD1//f/7P/y/wsACwAcACMALgBAADAALAAxACsAHgAnABIACAAUAAcACAAeABcAFgAaAB8ANgAuAC4AKQAgACEAGADu/+n/+f/l/+T/CwATAAQA9//k/+v//P/6/+r/4//l//7/AAAFAAAAAQDq//H/FgAZACYAFwAeACAAEQACAAMACAACAAAACAD9//z/PAA7ADUAPAA0AD4AKQAnAB8ACQD6/wIABAALAAgA/P8FAA8AEQAdADIAGgAXABUABgD5/wYACQAGAAAA8//+//H/AADz/+n/CgANAAgAEgASAAsAAADt/+3/AAAqACYAMgA4ABoALwAfAB4AKwA/ADMAIQA2AC8AIAAMACcAGwATAAIA6f/5//n/8f/5/xAAEAAHAP7/AgDe/+H/8P/p/+3/8P/u/+z/9f/d/+n/5P/e/+b/4//h/+n/5f/o/+r/4f/9//j/+f/o/9//4f/g/+f/3//b/+T/8//w/wAAEAAZAA4ADwAXACIAKAAsACUALQA5ACQAGQAbACAADAD6/wwANgBCAEEALgAtAB4ABQACAAcACQD3//3/6f/v//T/1f/T/9j/5f/w/wEACAD//wIA/v/h/+b/5P/e/8z/uf+7/7j/w//N/+X/5P/t/+z/5v/l//z/AAD5/wUA9//2/+f/5v/5/xAA+v/q//P///8IAA4AIgAhAB0A/P/w/+n/6f/w/93/0f/M/93/7v/v/9v/2v/N/77/1f/V/+n/7////xUACQAwAE4APgBIAFYAPQAuADQALQD//wAABQALACwAFQAmAB0ADQAXACMAMgAoAAkA3//R/73/sv+i/7v/wP++/8z/zv/x/xUAEAAKACwANwBAADYASQBNADgANQApAEkATAA+AF4AWABWAE8AMgA1ADAAIwAfACgAGgDh/8H/1f/O/9X/4//f/+3/2f/h//H/7v/m/+z/0P/X//3/+v8XAAcALABkAF8AUgBbAEMALQAcABUALgAHAA0AEQDs/9r/5f/0//r/4P/A/7r/tf+2/8v/zP+h/57/mv+r/7b/pf+m/73/yP/B/9T/1P/S/+v/9P/j/+L/2//n/+v//P8EAPv/9//0/wIABwD5/9r/5P/Q/+D/6v/q//P//f/9//T/AgDx/wsAFAAaAB4AMAACAOr/DgDq////AwANABEAJQBHAEwATgAxADkAPQA4AD4ATAAxAPz/3v/t////BAAIAAkAIwAfADIAOwAXABoACwACAA8A9v8HAA0A8/8IACoAIwAdAB4ALwBqAGQAUwBUAD8AMAAwADwAMwDn/4b/c/+Y/8f/1/+q/7P/xf+u/9//AQDp/+z/7v8WAEMAHQAJAPP/AQAdAB8AIwAhAP//3f/1//D/+P8XADgATQBTAEEATABsAEwARwAfAAAAIgAuAC8AFADS/9r///8DACcAEQAAACYAOgBTAEUAAQDi/9f/5//5/93/wv+4/9H/6/8IADYAOgA6AEsAJwAtACgAJwAcAOf/7//l/+//9//8/xUAIQAlADAAIwAZAA4ADAAHAPD/2//W/+T/0v/B/8H/rv+X/6b/l/+a/4T/fP+i/43/gv+E/3b/ef+U/4n/v//j/9f/DAALAAsAFAAEAM3/tv/M//L/HQDj/5v/dP+X/8D/x//B/5v/l//j/zoAUAACAMX/8v8rAGQAbQBCAA0AGwBVAH8AYQAVAOb/4v8cADUAPgAkAB4ATgB6AK8AdQAvADcAYwCTAJUAXQAOALj/r/8AAA0Aw/9u/3z/yf/o//L/AADO/7n/9P8aAAAAxP+O/7L/7v/j//7/EQD9/+7/9v/3//D/sf+p/9b/9f/n/9H/5//b/+//CQAbAAMA9P8JAE0AYgAjABEAIgAZAC8ASAAyADEAIgBJAGoAPgAaABoAQQBNACEACgDu/9L/xP/u/xUAGQA1AFcAZwA+AEUAfwCGAHIAfgB2AG0ARwAbAPv/u/+g/6//t/+p/3n/fP+n/6f/s/+h/8H/4//k/wwA9P/I/8H/6P/x/7r/nP+K/57/nf+o/+D/0v+7/5f/ov/T/+H/2//a/77/gP+A/5f/lP9c/z3/V/+C/5n/pf/j/wMAIgBDAGAAoACoAI4AOgDc/9//EAA0AAEAov+q/8z/6f9eAIAAggCmAMMAFQFNASEB6gChAGUAeACDAGgAUwAeAAMASgBgAJIAswCZAJUArADaACAB9QCBAEIAAgAHAOD/qf+G/1v/SP9k/4n/sf/D/7n/4f8kADkAMwAnAOj/zf/Z/wAA9f+9/43/gv+G/4z/h/95/1r/av+8/7H/qv9z/1b/ev+I/4v/mv+L/3D/p/+9/9j/8//W/+v/+//h/+//3f/K/9v/+P8LAA4AGQBIAGsANAAcAEMAfACYAH8AUABLAD4AQwBsAFYARQAqAEoAnwDeAP4A5QClAHoAsQDfAL0AVADa/+P/NgBGADEA8f/F//f/RgCKAJMARQAKAAwACwAnAOT/bP9F/0v/dv+A/2X/Z/+H/7j/+/89AEYALwASAAAAEwAFABEA5v+O/43/m/+x/7r/lf+c/6//mP+q/6r/v//C/5P/m/+e/4P/i/+M/3f/hv+e/6f/hf9k/2X/jf+k/6n/jf94/5H/m/+1/7v/rv/H/+f/EgBJAAgA/v8rADcAggB2ADMAEADy/wEAJQAlAO7/zv/g/zUAgQCAAIcAaABvANEADAEMAdcAkwC3AMYAsACaAFAATABgAHYAfQBhABkAFQBlAHIAZQAoABgARgBvAIsAiABRABQAFwBIADMA/P/H/6v/tv+n/8D/yP+6/6j/0v8AAP3/7f/W/9T/xf+x/4z/Sv8M/wH/5f62/qP+ov6//u3+G/8o/zn/Vv95/6n/oP+L/3H/Zv91/3D/Zv9Q/07/Uf+H/7f/w//H//D/VABpAFMAJQDq/9j/3P/q/wMA3v+1/8L/5v8VADcAPABvAKMApgAIAS8BJQEoARYBKwFHARYBBgEeAdMArgCXAGwAeQB5AGgAcgA5ACUAYQB2AKgApgClAMMA4wAWASIBLwHlAKkAuQDmAPEAngA7ALf/av9b/0v/K/+5/lT+QP5q/qT+4/7D/mf+Kf5b/tb+C//y/rL+j/53/rj+yv7E/qj+bf5//qT+vv6m/oT+X/5M/mX+X/5o/mT+RP6U/sf+4v4c/1//tf8FADcAbQCkANIAJQFpAaABrQG/AfABNwJcAkoCIALeAbsB1QH+AfoBzQGLAYcBuwEGAkoCYAKBAr8CLAOcA7MDiANSAxID5wK8ApQCYQLhAV0B5ACEAHMAawCIAJAAjwB2AHYAqQCUAHwAFQCE/xj/v/5z/g7+XP3A/Ib8a/yT/JH8avw4/Aj8AvwD/Aj86Pu/+0f7/fr2+pf6S/oH+r/5s/mc+WX5Nvks+Rj5DPkE+ST5T/lj+cj5P/qu+iH7vPtR/O38oP1m/hT/xv9yAP0AbgG8AecBKwJ5Ar4CSgPOA1YE1AR7BYgGwQfrCCgKVQtQDHYNfg4FD1QPOA/6DvwOoA4YDqYNBQ2dDHYMTwy2DN0M5AwYDdMMXgxeC+EJMghkBp8EDQOGAdr/g/7B/ZH94P1T/in/JQDnAHEBaQHFAJf/pP3/+uP3RfR58AztX+oq6HnmguUw5RDm7Oc76svs1u6d8CjyFPPV88bz0/Kd8S3wPO/a7pHu3O687yjxNPN59dL3Afq8+xn9JP7C/tX+iP4X/o79Pf1O/cn9v/4+AEwCswRcBwIKpAz1DpQQChIcE98TfBS8FCUVUhWQFQIWXRbbFvIW2xbXFnEWthXwFNMTcRLgEF8Pgg63DQgN5gziDAoNMw0lDcsMBAymCv0IjgfjBesD3wHw/0r+9/zH+7P6hvl/9/b0VfKd78rslukb5vrijeDo3p7eZd+O4GTizOQx6PvrP+/68cHzNfUx9jP2n/Wq9G/zOvJQ8bPwX/Bn8LPwPvHh8WnytfLU8rbyVPL28dnxyfGl8fTxsvLe8271+faP+JL69fyC/8QBywP+BdYHSAmcCvALRA1ADuUOUQ9bD1cPTQ82D9YOFA6NDXANww0dDoIOCw/RDx4R1hK4FHAWuhcHGUEaGBueG4gb8xoDGrsYYRdHFgcVvxPaEh8SZxELEZUQ6g8HD2gN6gtZCloIVwZqBGsCxAAq/3f9Svzx+o35vPev9C7xlu2F6SPl5eAk3YDaE9l92EbZb9uJ3iPiZOWH6MLrW+5D8FXxefG08evx6vET8kTypfJC87nz3fPZ83vzqPJx8dPvRu4M7Xzscez47C3uru+m8RT0dPaZ+H36HfyF/W3+yf6v/rX+GP/s/zsBLANjBUcHLgnbClgMkA35Dd4NlA0mDdgM0gzKDPYMnQ1lDnwPuhD7EX8TuhRlFfUVrRZ9F1IYIBm4GVsa/RqtG0scNRzeGy4baBqWGcIYQxgLGBUY6RefF4kXrRfiF4AXJxYtFF0SaBCSDQsKHgZ0A+wBBwH3/6r+A/7C/f/8jPoH96byBO2z5aLdUdYf0fDNW8xOzK3N2dA91dvZG97K4ejkxufw6afrgu3D7yDySvQK9nr3xfhS+cL4+fZN9GTxrO4q7ErqaOl16erp3up87Ifue/DP8aTyWvNa9J/1WvdV+T/7aP0hAH0D2waxCboLNw15DiIPXQ+vDygQJhCiD28P9g+/EFIRyBG8EWcRcxEZEhITrRP0E2oUhhXZFqUXUxi8GAsZvhmfGsIbnRwMHTcdbx0JHq0e8x6CHrQdnhxcG7MZXRdCFYoTdxIwElYSShLQEUERTRAmDtUKlwcxBXkDIwF0/h380frR+rX6RPnG9RzxU+y95szeVtUtzdfI0cfWxwbIXMmYzKrQWNS/1uHYHdwI4CTkIOhX7FvxOvai+UD7sPuq+mv4dvWh8rTwUe9k7gPu8O2+7Wnt7+xJ7L/rqOsK7MzsIe6i8GX03vjv/NX/igG3AmYEMAdQCsUMsw6qEIISoBMlFHUU7BRRFUIV8RSFFPcTdBNRE48TUBPVEoQSZRKJEsMSnRPXFC8Wtxc4GZcadRukG8QbJRwvHMAbJhuYGiMaFRpRGpMadhpbGXUXwxWNFGsTgxKsEeAQhA9vDVELqAkWCGQGygTFAyYDWALTAQ4BCgBV/qL8dfsC+vf3k/WU8xLxh+2l6Knhwte9zCTFt8OxxeTGDMdkyMHLCc/+0L3SNtY325/gSeYX7Bzy1/c0/Pr+8P+V/8P+ev0Y/D77YPvb+3L7gvnd9ib0iPF27y/uNO4374TwBvIk9K32LfkJ+4j8Df4b/54AOAMqB9QL1Q9hEp4TOhSoFCQVzRVHFp0W9BYWF+sWjxXME1QSExHfD8EOQA5pDisPNBCLEZ8S6BLhEucS5hKWEm0S6xLqEyUVLxY9F/IX5BeIFzAX2xZFFkYVNxRcE/0SqhKWEcQPcg2/C24KsQiDBnEEWgM2A8MDpwP+AQr/6fvr+cf4+fct9932xvYW9lD1GfTI8hLxYu1U5z7fgNbTz7rMF8xozJPMU8wjzMjLKstby0LN5tDv1a7bv+Fr5ynsKPAo8171H/fL+Kj6Cv3Y/5ECugTuBawFGwTDAZ3/xP5G/3QAMQEXAQoAwf5D/T/87vuz+/L7gfz3/KP9h/+VAv0FYwh0Cf4J2goiDAgO7hDuE64W0hgPGscamBqUGXAYyhfZFycYKRi2F+UWwBVMFLYSBhGWD5QO9w3SDUkO4g4jD6MOTg35CyALRgvXC0oMTwxxDOAMLA35DMMLfQqHCdUIaQjiB4sHJAeABgwGbAWCBEIDDgJfAbEACAA5/7v+Nv5A/UD85vqF+Vf4UfdO9pL10PQv9FXzWvFW7rzqUeeq5O/i7uGK4f7g59/F3vzdnd1z3Vvdld3Q3n7gUOIw5AbmMOg26hfs5+2l73XxZfNy9av36fkJ/Mj9Sv8aAHcAYwFoAmoDTQQEBZ0FZAa7BrIGVwZ2BdUEcARlBA4EQgOeAq0CIgNLAzUDFQNpAzUEvwVyB90IKApVC8gMZQ58D0QQLRFJEn8TLRTAFPYUSBWxFcQV8BX/FdAVpBVaFbsU6hPCEsoRthCOD0EOCg04DIgL5wrOCeYI7gcYB2MGegWoBN0DgQOUA6UDMQOyAnUC3QKeAw4EzQPmArEBkwA4AIMA0gCcAPP/G/+p/lj+O/7L/d788vs5+zT7RPvk+r75j/iS97v2rPXN84PxAO8q7Ursp+ug6snohObY5JLj1+KE4gbiyOGi4ezhzOIG5D3lS+aS5zDpIetA7UnvUvFk8y/1Fvd2+YT71Pzp/cn+SAALAkIDMwSZBNsELQXLBXwGfgatBZ4EJAQeBGEEyQTRBM4ErATaBOIF2AaQBxsIewg9CWsKnguTDDwNww2bDs4PsBBmEeoRABJiEvISlxM6FEcU9BOYE0cTHhO0EvURHxEkEJwPMA+YDtYNhAweCwYKIwl4CKQHiwagBRUF5ASsBGEEsQP7An0CGgL0AXMBxQBHAAQAq/88/7v+0v3L/OH7O/sr+x/77Pq7+jT6rflA+SH5Ffkk+Xn5pvm6+aj5lPm/+dD5nPmo+br5r/mP+Vb5/PiQ+HP34/Wz9PvypfHj8FPwtO9j7vzszOvr6vnpGekg6ZHpG+ol6xvsLO3x7ZHuFPAb8o700/YF+T37cf1e/wABqQKGAxYErwQsBfUFqwbtBtwGiQbnBYoF4gUdBr4FaAVHBYgFJwYzBjQGXQanBlMHDAjxCEAJbwmcCQ8KBQulCw0MQAytDPEMfg0sDm8Okw5WDmwO1w7KDmQOGw69DZkN7wwODLULVwuUCioJqwiqCIIIGwjuBh0G2gVuBUcFGgU4BJEDEQN0AswBJAGCACgAk/+d/nH+Ef6j/UX9I/3U/eD9pv1P/bz8gvxb/CP9qv3l/EX8Ofy4/IL8ivtN+xD8ZvyX+/T6//pY+yL7avpH+rb6tvpp+qD5MPlk+Wz5kvnm+AX4Z/dJ9+P27fXz9c31OPVr9IvzrPO88/Xyc/KK8gvzmPO28x30s/Qe9cT1jPaQ9zj4SPm4+rf7d/yf/Gr9Av6h/iP/gf8dAfkB+AFaAYQB4AJ4A0ADuwP4BEgGuQYEBu8FlQZyB2sHTQdeBzMIiglDCe0H3QaSB9cHTAdQBy4IjgllCX0IfgjwCD8ImgdiB70HIAk8CoUK7glTCNEG9gd3CDoHQQf9B9sI8QhnBj8F6QXZBAQFwgQaBYUGcAYvBTgDgwEOAaICNQIIAeUADgFjAcr/U/5m/iL+pv3y/B/97P4C/eb67Psd/N37svoK+fP6M/7X/CL7b/oe+AT5/PvW+Yj36PbS+d39yfhg9ID1tfg6+Xr2EvYO+sr73fbU9sz31Pcc+pj3P/ZW99n26/fI93r1tvQj9tL2ofYF+BH5DPiO99T5K/s++9P6O/uW/pj/I/5b/vP/zf+8/wUBGAIHBAEEqwTGBAMDowOgAyoFOAbQBTMGggVWBfsFNAejBgwE7wONB6AIOwVYA4cFGwmQCCMCLALECDQKAAYoAVADCQo9C8IEZgELBPIIcwlyAycEdAcmCTkJvwBxAFUL/QcoAl0FNgZgC14GC/ykBGUJjAOzAbsCKQbrB5kBiADFA6n+pQIkBJ4A1QJx/C4ANgV5/Rr9O/3F+1UBnQGK+qz9bf99/JT/Dvx8+zQDFQFU/b79vv0MAloA6Pqv+vsA8AON/if6V/qb/p38N/l4/Kv+8vs2+bH4xv4d/5b4p/jP/Ln/tfyD+a36A/7G+xb7c/0S/k/6Ffv6/TH8Yv5G95f66wQ1/Ub4DfcE+yUCPPw3+IT7EwEhAKH5NvhIAFEFjP7B/BABIgdtA0L8I/7YBR8FNQJ0AIoARQbqAOb9bAD1A70BpwEh/kj8YwhQBvr9O/p//vEHoA19/oj1GQL0CksNZvwR+A4G8AyUBqj8If/cC5gKi/3OAiMLsQpoBMX7PADPCD8DTP8L+Mj4Jv6T/LX/Cvm39+L7mgPyCJoIgAgJBaMMGhGmEEsHJAJ1DIsNMgeX/rEABwMi/Wf16fSZ/xkEzwBm++X3P/s6/wcBxfnQ92UBYgV8A+74F/unAlP+lfr6/78Imwn//2v5cQFsBAkACAAp/Y7//QGfAOwABPen83v5sv2k+jX20vtz/6j5i/F583b7I/zB9tb1Vf0d/gj6O/a491f6nvdT/Q7+g/wM+9X5zPtg+uv4Ofpr/EP8Sv54ASoAPfsb+jf8H/5dAdEClP/b/U/9XP8O/4v3jPpLAxEFCf/S+Z4BDgX5+z73mgK+C44I/QHx+UABhgjCA+T/LQFcCnILXf8y/Q0KcgypAl39mgMkD2gPNgT+/88EXQZUCVwIxAC+B1cJVv5e/8oFVglkBu36yPkpC0sL+fy9/ooHqAWsAn8D4wECBoMFUgJJA879zPtVBdUDK/lE/3cE3QOz/uf0Tv7VBbcEiwGA/WoE0gYKAwz5j/JAAU8ODAbc9JH3iQfsAxX0fO4QAGkSogN37mz3sQgzAS7uUel6+IkL3ADJ5Vvslv48+PLs3+Z28igDLvmM63btt/U3+oL0+Owy9XMB5P329YvwCPjFAQX6Lvb1+0AD1gXh/Hr3B/o6/TP/8v70AHgBRQEJACD+U/8E/+0CqQXMA4MCIAbdCogH2wKuAQgJFA7TCJAG0AuhDnsKRgU5CMATQRHsB4gKjg/3ER0LkwRbECMYnw3cA9YIChXPECMB1P+uEIMZdghV+7EAmgjfDZgEdf/ZCUQM2QQM+Zr80AuGDM77h/vKCZsKKAOF8cj4QAr6BeUAQALuB5cEPPzK+S//QAEQAr8BVwEDAlr83vf09FL3RPkY/Dz6CvYP+P7zDO/H7pDwdPSJ94Dx7+wA7vjt1ut+5oLkS+qb7XznN+Ww5kDpwumN5XDneewu7PTrouyn7Rbwau9M8ej01/eO+VH3ZPZ1+/cA7gH+AEkDeAcJBd8D5wYJC9YLrQjKCwIPcg3fC5gKCws2DAkN2BCZEqwRMA8eDXAMtA0QEv0SFxJIEf0TGxQrEhsSaBCjElIU6hbaGq0W6hJBFasRkw4ZEc8W8hdSDU4JwwzBDdQJ9QSpCeQRlgzbAakCIwpxDM0DfP/eA5YHdwTd/Un/KAMkAyv9tfyFAX8CdwGJ+677W/td+Vv7EPci8lvtnusf7czrsuVp3zXbptZo1ZDWI9gX1qLTGtSe1oTXWtae1+fZ8d4N5Fvo3Ow/75vw5/GZ9Ln7zwL2A08EJwbECbQJ/wYTCK8ImQfmAxwCfwQvAz7+sPpI+ZX5Fvhq9WPy7vHB8/v04veg+Zn8SP4u/2MCSAaODIcR8BShF7YacRzFHM8eSiHXIp0j9SPCJHckxyAHHrUc0RuiGqAZMBl0FyEUXBC4DZMMpgu/CnULcQ0TDmINTw0TDs4OHw9NEOUTWxgHGvIXxBSfFGoUNhMmEg8TzBNKEWcOtg5uEnoOugYgAg0CsQWtAkr9tfuP+nj02uhT2uTNEcgIxt/IOssWx0fDXL4hua64sLnhwVrN6NNS2m7dbt634Abjtem48/H8DAQcCUIK0wj8BmgGlgrWDqUQBxHMDucLwggJBJkAr/1p+5H6zfdm9ZH0Q/KJ70XsoeqV7E7tBO4S8/P5If7L/qL+mgOUCAMLQBB6FZka8xzeG48bORsVG0scXxxKGyEaLRkVGaoWuhJMEYoRchKxEmARBhDcDoAOcQ7sDfkNhw73DkQPnQ/0EPETHBa+Fh4XHhjlGicdOR1sHFkbIBrkGHwXcRU/FcUUjBHMDpwN8A5gD4UN+A1kDyENIgd1ALwBVwaaAxX/SvyO/UP5pOce1ZXH5MK7w7rDfcWExJXBGLx/tAm07Lq7xX3NhdJq2r/haeRr4lDkKu1K9uj9pgM6Ca0MzAr5BwIHgAhMC20MNwvXCNcF5AEv/JP1JvGw7mrsJesS63Hr3uqg56vljOed6lzuivHu9E35O/2NAAIDLgf8DEoSmRUXF20Z5xpxGmYZ+RgFGncbqxr/FyIVLRLbEAQQrQ+OEHQQyA/yDkUOFA9GEJMQWhENExEVEhYcFQoUvBRwFtMXjhnsGigckh0iHS8cQhz+HA4eqB0sHWseoh47HO0YqRi9GmcaNBdaFGQTtRAtDRQNYw5qDbMIrgTiBPICfPsK8BrePMiyt9+z57s3wQ+8M7XqsZ2xp6+JrO2xD8Cwzi3Z5N5W4k7lBebn54Lwyf3WCikStxIlEoUQrw0CDbINdw/aDysNfAmjBFT+Bvco8JPr5un66frpLemz5v3jZ+N45WPpQO2r8f/2U/wHACkCEAR+BogLKxJGGQgfKCHyIbkgdB3TGn4ZZBuTHHgagRZwD5wI2gQCBMgEFgVnBM0EhgXlBKUEbwUoCMUMUhF7FAYWpxXRFQwXiRgFHJof1yHvIbsgjh8fHl0d5hzyHVsf8R+CH9cbPRcGFK0S1hK6FG4XdRkyGCETXw+ADZENWQ/BEMAPLw0vC7oLlQtJAmrwK9oYx3+/oMJOyHzIksEhu6C3LLL0rdOviLo/ysbWot654/jjzeGC4ovpOfmwCSQUyheVFTsSmg9qDfIO+BIIFsYVNxBXCHgA4/gi8j7tiOq36oTra+nw5E/gm92e3QDgiuS46hHwtfNU9lH5e/wKALwEPgmVDbgTphoEHmAbIhakFgEaURuOGhUXBhVeERMLJAdXBC8DcAP6AnYDugN5AqABQAG1Av8Hhg6dEhUUxBPbEqwTphVJGTMdWB7wHnoedB2DHcIdph4rH/wewh9eIOUewRtLGb8ZBBtgGvwYzxm1G0UbyBZuETsPUQ8wD/wMWwo0CaMILwPA9dLdGMQwuKC6pcPqw7y6U7ROsV2t66fgpsexVcMA0fLYONyO3wPjDeaH68D2LwYREh0Y+BcyFtsUZxKBEu8VKRlZGbEUng1jBm396fVW8onwZe7V6w3qWugT5Mverdwo3hvi3efi7Tjz4vYu+CP6M/2ZAX4H9Q1WFIoZzxyZHUUdwRzAHi4hMyLsIU8fIxy/FrIP8QnDBgMG5wW5BREFGgOiANn+0//fA9oI6gyoDhkPow43D3MSYBYNGWYaSxtJHIIcqBwNHvwfsSGQIc0gIh9+HLIa9xlJGnsa5hl9F8oS6g70DkUSExWQFAAU4xGuDPAGHQNbBWUHHAW6/rbtKNTEvd+2KMD4xh/B2rfLs36yZqwNpFCm5bWaxoHQG9Wg2Hvch96m4HXqhPldBxAQ5REnE84TCROFE/UVDhkHG7wZJBaMEYMKUwPm/FH4g/Vs9BfzGPA76xnlOuEw4BfiMeWH6C/ste/X8YfzkfWh+NP8CgJuCbcQKBX5FdsW1xnIHbwfFSH4Ihck9yPoIFkdDRpQF4YVcBOrD/YMyQt9CuoH2AO0Am4DLwStBKAF6AcHCtAKigu4DGwOSRHIE4wVSxarFqYXbBnMGwkf5h/nHS4btRlaG6IbyBs5HeQerR57Gk0WmhPzE4QVKhWuFAcT4xDGDIYGPwNwAdv6xugB0bXD0cXky+DIoLxztHa0lbJgrVypaq9nvcbHvc1n0Y/UmNbB2IvgLfDA/5wI5wsHDNMM+g2mD6oUfRrMHcMdVxndEkINowihBXsDnQBt/YH4tPFv6w7n4+SR46PiXOIC4+fjDOUA5rvnheua75fzHfYp+dj/yQfTDe0QghJ9F2sdch9XH+semiEXJAIjHyAPHh0dDBukF9QT4RLvEggSZA9GC8YI3gdbBzQGSwW7BdMGSwd0BwwIzAgICtoMahCIEvMSoRMzFRoXHBmAG9UemSAIISEh4CDbIV0jNiSWI5ghXSEfIsoeEhmHFYoWgBffE4kQJw/6CxYBSO1K11HHk8RXyjbN88V5thitOKoUqMGmwKeBs2LCS8pky3TI3sk70QTc++hO984D5QlrCfgFKQf3DqMXrR7ZIO0eRhzeFgkSrQ4rDCwMawoTB10CnvpW8k7r/ufR6IXqpury6J7lruJi4gDlEuqk70Dzl/ST9BH2mP34BRIMjw/FEbAXCxp2GUwaLRx5IDIjMSMAIm0efRhAFDYThRTCFcsTsA+XCzAIGwYZBc0EagX7BRsGRwWCA1wCBQTZB3cMmhAXE5sTUxIEEtYUzRkmHcwekCBYIlUiVyFpIYMhAiI4I3clCiVnHp8YuhimGpwanxVMEuoROA7GCdACv/ZN4tXNQ8gI0NTUNMlvtoirZ6t8rMWpGKkOr7u4DMBZw3vEkMZlyhnTf+AR70771QH6AmsC+QW7D3sbuiE4InYhsyE2IRsenhrlGP4X1hVvEeEKNQOS+7H14fGF70ftyuor53/j+eDx34fhAOVg6Ybqa+nR6bTu6/bu/VMD/gczCxINFxAAFOoZ4x4+IiklwiUsJWojcyEMIKgf9x9CIGodkBflETYOvQ1ZDcgLVAm6BnkEHQKjAKUAwQEuA+8DBgU6Bs0GfAinCs8N2hAaEywVNxYWF/cY0RsDHwwiliIFIfMd4hwLID0jXyMmIdofIx48GVwTlRG2Ea8R2A35AuLwv9m6zQDQ59T2z6LA+7aFtJ+vA6hJo2ipVbWjvL6+47yEvFq/0Mc31PThqu7n9WP4cveL+oIEWRClGGAd4x/UIcwfTBsCGjkbTR4cHn8azxQiDhoGJ//o+mr6BftG9wDx2up96EHnFube5fvoZuz97L7sz+zK78nzDvkqAdUHKwo6CjMLDxK4GF4dnyFIJVQoPyfkJDUjUyThJEAljSR4Icgclhb+EtURgxGSEIAOPAnDA43/df5Y/3L+//1m/mT+wfzC+r360P3RAYkGDgqrC34LLgzYDxEUahhKG6cdOx/3H6cg9CCpH44ehx/vINcgmx7EG78YcRSqEB4QvA5HCW79xe1M4DzX8tRi1K7OK8Mxuam2c7VusTGswK1Htuu8Z8A2wBjAn8LUyPnUReKU68/vr/E79cr7VwS0DAET6BYHGl0cHhxOGuQZHhyUHi0efRpEFV8P0AnDBdkCogF0AJb9Wvgb8RLsC+tb7KTtFO2T7DjtCu1t7Arr0esW8r76eQEYA/oBKQO/B2UN6BInFwAbXB49IKMgrh8YH/0fXCLHIxgk7yFgHfMYLxYZFlMWzRIZDqYKCAgHBi0CVAADAO/+CP47/Y/9BP48/j0A+wPqBvgIngpqDAwPJhK4FrIbYB47HvkckBxCHageIB8rIAMiPCCxG2AW0xRIF0gUIw6KCcAF4v7i7JnapNU52MfYNs/lwSO8prhftGOw567ZsoK4mrwlv2+/eL+ywzrMddey4rrqhO9O80X3XP//CF4Q9Ba6GgsemCBJIJkfAx++HxEiASK6HYwWmg+WCx8JxQVwAnr/SPuN9arv/+z87FbsKuuT6TfpEepI6qfqoOoh7NDx2/lpAPoB4AA9BDMLfBJEF1AZnxzHHmAgfSHwIZghAiDtIEcjuyTLIDsZDRW+ExoU3xI9DzQMcAjOBBACp/+R/vz94v2k/j3//v6P/kH/3QG4BeYIogsDD/UQ9REMFM8XoRy/Hd8bMxx6Hiwgex/sHHgbQRqRGQcbKRs8F6gQ+Q01EFgPxAYA+53vW+TS2DLTh9UP1KjJBrvGtfe3rrVXr1Wsn7QawAzEJMH5vVjAb8mS1W3heupJ8Aj0svf3/McEPg52FYsacB0bIL0gYR7eG3EbVh3KHUMbSBWgDtIHDgPSAL7+lPz195nx1uup6Mno4eg45/jlKeaV5wzpauoJ7SrwgPJM9x/+WAQ+COEIIwxeEjcYSx0xIHghFyIPImYk6CZeJSghxB2NHe8duBr9FAgR4g5GDkQMVgjfBEoCgwCD/zz/5/6S/or9F/70/3gBEwOBBSoJwg1BEZkTQxY+Fx8Y5hnBHLggEyHJH70fDR0hGtMYmxq3HeUa9BZ0F8oX4BTeDxcPPxOEESEI7/1f9NXmddbkzWjSpNcyzxe+O7OTsJuwoq7krW61wL0BxKvFXMNcxDbKsdVy42bvqfi//oUA3gGFBwMSvBsSIYEiZiMFI9UedBsoGtIawhkOFSIPzAjRAfn6+PSZ8f7w9O8Y7Inld+BH35jhU+Ri58DpJOoR6kLs1/Jc+iX/pgKLCakQuxURF1QXJhyGIVkn6yrUKRkn2iJIIMcgwCAiH0wb5xZDFPARDQ70CNYFjAUyB3cGGgPOACj/7/7R/uH+ugBTAjAEcgY9B7EIhwpRDb8QthJTFWYYQRogGlAZSxnxGosbBBofGjEa0RfAE5cPURFAFrkVORP3EOEQwRMsENQKbgjWA9sCnv6E9E7nCtPDyHXLkM70yxa/dbXKtAm0vbKpsRO2bL4Dx2bOKNP31anVYdul58X2OwSGCdML6gzrDs8U9RkAHq4gVCC0HpAaHhXiDzoK4gXZA88Ae/up9Mbt8+h95f/jLOUR5jTlvuT25J7ns+vV7+j03fgt/aoDOwssELwRKRNaF1IdtyBLJMgnFyhMJSEihyJdIigfNBvRGUQY4RPmD6EMOgpEBq4ChwNMBEYDsgHVABYCLAM+BDkGfAeQBwMJvwsYDgQQ3hHqE3MUCRT5FLoW3BZyFmwWihajFZgSfxCHD6APrBBhEVYSIBANDREMSAxZDnIMvwujDzASYBKjDDUK3g0oDB4HXgONBZQGWfPq1FTD3cXe0I/Nmb6Oup+9abq+sPKmP63FvYnIztJE2TvezeHo37/j+u+j/z8PpxawFcAVQhZAF8cX/BaKGWod1BotFDMMaQM9/Z71XPHB8ePvEO1R6KXiveBn3z/g3ORN6rrwYPU1+D38ov9hAREI7xJQHBYgWR1oHc0gZyKvJHQm1ic0Jggg6BuAGIYUnBBcDjUNoQmsBDgAiv6X/Dn7Lf8zAzoEDAL5/0YDggb3CSkPzhM5FwUWChR1FGkVahZDGOQafhveGFoTmg7lDLELHQy6DO8MdAyXCF4DKP+z/ykEwwkADSUPUROWEhAODQijBqAN0BIqFi8Y7hjzFJMJKwGB/dD6ne2Q2LDMCsmNyAq/FbHvrPCtvK+qrXytLLQavXXFNc7w2ZPj8+qD8bf5EwZ+EMsYgB4yHo0cyBqGGW0ZxxRSD0wL5QSu/APzs+qH5f3fatrL2KrYk9kP267bIt+s47DoF/Eu+mYDJQx1Es8YjxxOHYQfdCTaKTks7SlLJZ4i1R5uGiYV1Q/YDkgNOglkA/n81vl7+Qb5H/r4+8z/HgQ7BbwGKApfEfEXSxzaHs8g9SLVIbsfBh3GHKAccBpBF68ToBBKDNMIRQZsBYAEqQMfA3QC8wKQA8gEBAXiBYgIAw0bEroU9RU/F7IYCBkVGJsYWhtnHlgf2x5tHC4YhxR2DeIHXgIB/av2geLCxxKs2J3KnUKek6A5o1Gs97GbrtSrjrBywoLXpezeA8UWDyIIIaAarxhYGS0gZCcfLo4vViQiFZT/vOqL2cjNy8zzzWTPHs6UySHDELttuBfAPtE+5677MQzkFh8c7SCuJUorUDI4Ox9GwkoKRVk4xiiMGqoJmPo99N3z5vZH87btRei/3wjbw9nC4cbww/9wDmwapyFfJAIlYiY/KrIuEjRcORE7rDWvKzYhARehDrwHHwZ5BmQCdfuK84DtdekD5pfmhO1R9w0A8QWACo4PpRRzGbge1iSzK80wnzF1MAguOyuOKPAiIhyRF1cS2wyhCNwDrAEP/KT0yvXv9QL1tfKr7Y/xPO182CW/iabdnVqe850Gp/+3sMjv0ePOwMj0yhzSvt+X9Z0LmiGzLGYnghv1Cav8dvje+FT/yANpAW75cens1cTF1rzVvvPIj9X44dPqce8c8E3w7/ON/Z8N1x0lLO40tTchNgQvRChxIoUcEBjVE+kNYwVx+djq4eAr3RTgZOpn8xL89wFNA0sHhQndD2wbRiaQMVs41jqWOGAveSO6G/sYrBi/GCYXuROCC3v+bvOr7ePtDfIw9jb8CQGMAwQEyAFQA8wIahCGGHoe5yJGI3seBxqhFyYXsBd/FfoTGxKADzcQ0BF7FhgYJhX4EYMLrAY1AiIAVAA6/14A3QDj/Wn6qvvRAM4D9fqU5hbNQbHWmgmPP5Aon7uyIcVQ0+TTGM3CxwbL19xh9MINNyY/M04yHyQ9DjL/nvfB9fr2Jfe29yX0neiz2N3LFsVDxgLMc9Uj5NDyX//5CHsOLxEBEm4StBchH14nFzD8NDQ2mS1OHOUJvvrz8ADoD+Da3bHixeav53HoQ+7B+dD/YwZAELkeMC4oNwlAKEUFQ202gCZtGtkRHgrUAg8DogVcBFf8RfNT7/7ux+899LH/hAw+FeoWHRU9E/EPeA0nEOoWXR6jILgd3RkQFPkMgAbVBdMKiBFsFv4X8BdlFAwP9ghDBTwH0grZDgYS+RX1F4UUpBAtDe8LjQn+B0UN8RJtFOkPaQP27WPKfaEPiI6ApIfYltiuHs935EDo1OHB32TnifLlAfEXjjAfP7g7Ey0UGxAIr/J03b/RNNB+0vfSO9M21q7X3NPnzdLNXNVw4qf0lwuMI940GzsdOO8uMCOBFwEQQA8FEr4UAxPRC13/Ou4+3D7Nhcabyz/X7OVT97MJBhthI8YivB9lHQIdsB2xISIroDMwMzQqDhyGCkj2yeRS3ufjh+5D+UUDnwq5DQcLdgVBA4YF4gnfDi4T6xaRGN4Uzw1WB/YDcALPACwC+AedDiQRFhDnDq4MYwhIA4cA/wF6BqMMDhP5Fu0XXhcRFQISrw/nDlQQyxKYFWQYsBaVD7cGB/0E8R/j+tlj1fLPaMbWvPG4srK9qcOlQq1svlPONd578XYEuQ9QEU0Q+hD4EaYQlQ4FDoQM7QXs+aDrid/s1QbNTshDykvRM9lw4Pvp5fU1ACgHtQ5qGGQgqCR4JtgokimRJPobpRKFCT7/6vQY76LtjO3665HoFuYt5YfnWO1K9U0A0AsjFvMd8iFHJTkp2SwnLj0rXyVfHj8V5wpHAqv9o/xS+0H5/vXm82H0ifYX/AME5A2NFsAanxpGF4MSkA2lCWQHJQfHB2MJLAufC88KWQmOCOQGBAUoBfoIFA9kE48VVBU0E30OIQjnA2oE4gm2ET8Y7xxeH7scJRaSDSYKsQyYDdMLswjjA+r6oe+o6I7n+N71zPS49KUymSmMe4z/n9q7JNk36J3yTfl++Wb67PzMChUd9iejKuQkzBvSDT353ebg2c7RIcqhw7jDushj0BPYKOEz6kTwcfWt/G4IVhaRI0cvrjV7NBErbB1aEP4FEAAj/dX7H/k49WnwP+vh5ljk+OZk6+num/Jb/BEO2x/TLFc1Xzq2N2UryhsmEfsMFw2DDusP1A50COf/NPdy8l/ykvYz/ocFCgw/EV4UvRVgFRYTiQ8mC7QIWAd9BkcIxQzsECUQbgsqB5wE0QKUAk8Fcgr+DdAOkQ6vDrYP1xAXE6wVmBb+FZIVQRhXG8cb5Bn8FxkWug47Bfb/qgMACskJ7AaaAuL7JOwf1Cu/x64tomKZ+ZZDn7+szrqeyUTWFuHd59PrWvTwAFgQsx5oKDkt8CjrG0wLr/q17Ibh/tip1DfSLc/3y+TJqMpTzdTQ9Nbo4Mftz/xuDKcaAibxKuEp5SSjHYwXchLeEB8SMBI1Dy0Izv0P8STkGdzB22ngvun/9fAEgBEWF+8Z2RxQIkUnZSsMMSk0vjDRJuoZSA8sBVf8VPkF+/b/WQK/A60GrwhWCfMIXApKDHwNFQ2pDe8PNBGJEagPTw4uDqsM9QsZDHANbBDwENsQqxC1D4sOpApnBowEfwT2Bn0L3xBNF8obehwUGhMXbxRPEtAPBhFxFpkWvxJdDKcJiwldA4b90/hq8wTrFtyZz+fE0rY6q+CiDaQyqWmvNryZypHZD+KH5x/tPPNN+3oDag6AFxQcoxm1EK0FIPqk8GvqFuZY41vgI93F2lLYrdbM1hXZENxl343jKOwT96UBsgpZEBYV0hUkFHkSABMsFmcXwRWEEAQJ1ABP+JTy/+858sj34vyyA10IjA2fESwUXhdOFq8WnRaVF+AZaRpCHPgb4RmcFoIRDQ4dCyUJogpsDCUPGxDFD2UPawxgCfUGFwbmBnMIKQr3DEcO4A5HD/sObxCCEFMSCRXUFiUYIRaQFIAS3Q+6DSYKLgmZCOQIaAoRCrALXgwaDS8NTwq1CF8HVQbUBiUIMQt3D7UPPA62CWABk/tV86zuSe3w6abpxN+h0Z/Ez7XEsJOsorC7vkXI+dCl0a7SuNfL2B/ftOl69o4BfwVbCNUK6AjiBB0Bzf70/dX6+/gM+uD5APm+9cnxZu3Y51DlieYI6+/vhfS/9/n40/hU92P5kPwNAO8DkAXpCF8KSgpSC3YLPg6XD5UPRRKWFG0Xihg5GJIYVRa7Ev4PkQ4GDwsPNA7HDngOQA3SDMgNMBAkEYoR7hIgFFoVmRYIGFkZQxkTGGkVCRNGEUQQpxAlEP8PcQ5SDPUKcwgmCEUIqQgvCc0HKweABQEE5QKVATwBogBqAdIC7ASRBnsG/ATGAc/+3vvN+oL8cP/VAeEAr/5c+zD3x/Sl8qnzKvWg9EX1l/P08tPxl+8L8NDt9uvb6tvp7urS6/Ls9O0W7ODnDuU44sHh3+Lv5GjpjunR5wDljeH/4EPhSuSG6CXso+8O8o3zl/R+9q74Sfsb/Uv/igLiBPEG4wcWCeQIkQZwBKgDtgTjBQkHNgj9BxkGQQPNAJn/E/8WAVgEjAdVCecKDQ1LDRoNGg1eDwMRzhHuEhwUWxTQEo4R4w+FDsUMCgzfC+0L2AxuDc8MfwvWCtgK1Qo/C/INiBCiEX4QMQ8JDe4JlAcsBj8HggcXCFkI6gYhBcoCjQECAaYA9wFuA/4D5gP9AoQCLwHI/3P/vf4P/hv+vv5k/x//9/6P/dD6ivmZ+CP4afhy+e77NP3z/I78pPtZ+1P6rvqv/K39df7s/jT/ff7x/FH7b/o9+WD4a/iM+Ov3lfZq9cHzePHP73rwlvF/8jT0nvZc+LP4AfiR+N75SPri+wL+CAAhAT8B4QBsAC3/gv7d/sL+hv+i/5/+Fv04/In9yv3H+hr9Ov9j/zkAif1gAW0ClAHrA4kEMAbXBGgDGwRKA+YBEgIpAq8B2P/X/v79rfzd+5f8Hv5M/gT/k/94AMkAOgE0A5QErARuBfMFlAUEBe8EvAXnBTkF2AQWBT8E0wIyAVMATAB4/93+Lf/X/77/iP/6/08ATAAXAKQAswElAikChgKuAjsCQwGMAD4Aof8H/xX/W/9i/23/2v5F/o39DP0x/YP9eP61/7cAgAGSAUUB7AAmAKP/Wv/K/9j/8/5o/n395Pxd/Br6fvjb+MP41fj4+PD59Pt1/FD8X/yM/ND82P0e/+//pQCQAYcBLAEZAJj/YgCrAPkA9QBMAXYAt/9N/6T+n/4c/yX/lv9p//X/4QCSAPwA7ABxAYIAiQC4AQ8CFAJ+ASQB7wB4/mP9q/1g/AD8tPuK/HD8xfuQ+1X8r/zK/Hv90v4VAMcAkAH/AU4C2AETAiICmQK4AtkCXgLxAeUB1wC6//j+Av9+/on9UP3X/cf9Ff6X/u3/pACVAGMBAwJJAnECSgMaBIwEIATZA9kDUQNEAm0BHwF7AdoBewHPAXICFgOUAvMBmwI9AyIDZgN4BEYFpwSmAvkCUQSmAtb/ff8MACj/av2U/Iv9mv06/E/8MP2S/Nj7I/wI/nv/8P/gADcBgwCa/53/0f8LAEQAKgE0AQAA0/4E/rf9Zf31/b7+CP+x/oH+FP5f/Sv9xf1//nf+k/6W/xUAuv/V/0AAvQBkAB0AkwBtAVoBdQGkAV0BswAz/9z+Wf5H/tH+D/84/yb/4/5c/u/92/0X/of+C/9+/8v/2f/P/5P/Bv/4/tn/OQC0AEgBxgG6AZ8A5f+t/7D/Lf9p/xgA/P9x/wP/S//N/rf+Wv8qAL0AmwA0AdoBvAGZAGgA4ACiAF8APACZAHQAyv/c/woAPwBGAHUAJAGRAQMC4AGqAW0BwAHFAZ4BKQGVADkAFv94/i7+ff6c/gX//f7p/iT/9v4q/13/sP9OAOUAcAHFASoCOgKdATsBWQBEACUAs/+L/6L/7f/l/13/0v6//qr+Kv+G/58AMAE6AZwBEwGuAFoAXQCTAEcAnQDkAKkA4P9b/3b/Pf+R/4f/ev/N/w8AaAA+AOT/GwCGAOYAKgE8AS4B6wDHALUAewAtALr/hf+B/xb/oP41/kL+/P19/WT9ef2I/X/9zP0y/p/+fv52/kL+5P3m/Sz+3v5+//j/JgAbANX/zP/a//v/0gCOAX0BHgGcAFoAxP/V/nf/qQDX/wn+W/4P/xP/7f73/rv/uv8h/37/UwAGAAUAmQAgAbIAJAD1/5n/NP8c/9z/vf9V/2v/vv+O/2///v/eADIBdgEfAoYCbgJQAo4C6wFKAQsCbwKJAGD/i/88AOz/1/5X/wgACQCa/+//WAC7AHgBIgKHAp4CiAI9An0BCwEcAekAxACLAJoAaQCQ/03/y//k//n/LABeAMcACwEeAfwA8gAOAXsBfgEgAVwBxwHJAWUBLAEGAaIA4f8S/+7+4v6p/kb+vf16/ZD9Xf0E/Yb9WP7Q/tj+zf4t/37/D/9z/pf+0v7d/vD+iv4K/1b//P4K/+v+UP+1/8v/0/8VAJQArwBxABoA6v/H/3D/Jv8n/7j/GAAUABkAyv+T/7v/Tf9C/9f/AADw/2H/0f6k/gb+DP0Q/SL98fzb/NH8Pv3z/Uz+kf45/7v/DQDwAOUBKQKjAvsCBgO8AhQCrQFMAcMAbgBGAPH/Rf/t/vj+Bf9b/8b/WwDzAHwBDwKLAtECKAORA0YD1gJiAhICZwF8APP/hf8//2H+MP4s/gj+E/4n/oL+uv5G/7j/kwBfAYcBGgLaAkwDdwNiAy0D7QLEAkMCqQFFAd0AIAAV/zj+h/0H/dX8Pv2D/aX9q/2u/ej98P1Y/r/+Y//d/xgARQAhAM7/sf8NAOL/yP8PAF8AUAApAPH/4v/0/6z/pv9l/wH/8/7s/tr+0P7l/h//Ev9G/2L/bv/K/ykAlwDzAB4BHQEpAd4A1gBrAND/n/99/3D/Gf/R/nb+J/6p/aX9vv3F/Rv+pP4f/1D/5P8bAJQA3QACASoBCwEaAekAyQBqAGsAYQAAAOn/xv+r/47/hv/C/wUAFABqAPYALgFtAYgBXgGfAYABSgEpAfMANgElAf0AQwCQ/0n/M/8H/5j+wv7S/lT/jv+A/8f/PgDcAF4BxQG+Ad8BPgJ3AlQCJwLhAV0BowD1/z7/zP7T/tf+qv6S/mj+M/56/qP+1v4s/0b/iv/p/wAA9v/N/5f/UP8q/+n+mv7j/iv/Xf95/z//lP/f/yAAOABJANAA/wA+AQ8BmAAGADQAdAA3ACMAt/+n/9X/yv8G/27+pv7s/ln/gP9h/2z/L/9y/6n/u/8OAHkABAG5AGUAngApATcBEAEUAV8BjQHmADIA3P/N/z4AOQB6//P+r/6b/sT+6P6j/t7+Iv8TAE4A+P/m/xMAygD2AOYAMwChAD0BygGXAScBMAH8APYAOAAFAP7/f/8+/x8AggBg///+xP/x/7H+Mv64/+QA2QDMALwB0wIMA2kDSAPOAfn/oP8QAHP/1/1B+8L6NPxu/Pn2W+wH7dj/GAsJArj6Av+kC5IP3AbDAo4EnweOCUMJggPk/cT8z/87Aaf9i/sY+/D6jPxd/un9JP02/CT8NPfP8Zn42gGH/+n8Pv3jAJ8GcQKUARYCmgJwBdUGfQVqAUf/u/+uAlcBOwDL//f+G/+t/+IAlQHlAGAAwQAQANQAGwEhACj/wv9fABH/svxD/Xj/Pv/g/Vn9sv65/kb+8/4r/6T+u/9JAV4C/wG0ACgBwQKUAiQBMQHuAKIC8wLlAfgAiQDyADL/Mv5n/0oAN/+M//b/EP+n/iT+OP5Q/wz/av+ZAOb/jP/OACEBaABpANMA4AE0ARMAYABtAVwBOwBxAGsADQCv/5H/VP+v/8L/x/8gAAj/BAA9AHb/NgAWAesABACuAI8BugHHAOz/CgBPAeYATP+1/qr+Uf/M//X+bf2w/ssAjQF2AMX/XP/B//wAbgEcAvcABgB6AEkCtQA+/uj/+AHzAVH/5P5PANQA6/5R/gcAOQAKAKv/z/4g/0EBEwKRAK7/ev9sAL0B+gAxAq0AUv8rAFUAnwDY/0oAsv6P/goAPP8H/qL97P4v/2P+xv79/jD/8f48ALwArv/5/yoAuAAeADT+UwBEAnr/bf4bAIQB7AGnAJL+1P7QABcBc/5U/XX9GAE4AW79T//P/6n/OwDv/9gB3AH//mX/6//xAFIBUAALAGkArgBT/zv+uf5gAGD+sP0iAMIA//7b/ngAjP8a/yMAJgHP/1r+AwEZA0cA+v5kAJ0Azv9mAWYCoQD2/t7/ngJJADb9S/5nAQYBRP+D/2cAof9K/TP/YAEKAX0Axf4jAFAA8f53AI3+If3I/rsBLwE0/iP+RwB8AZQAUACG/7/+/v3pAE8DlwBwAIEB3gHVANv94wBKBvIEjgBu/vQAPgQzA5IA9wDe/+79xP8QAQwEdgGV/HcB7wMs+U3r2/FmCc8It/I/7g/3vwAt/xT25vUa+df/kAgKCPn/uPuFAIEKwwg8AxAF7AI7AXgGBAp9B48AqvxDA5sEvf/X/1b/jf5j/kL+Hv/Q/Df5FvxBAKf/3Pu2+08AOv7x+tD9/wAvASr9S/yMAuYDeAErASMAAwEhBLkEDgJaALcCBQnuB2L9QPrxAl8JnQOR/ED//wF//3f+FgDn/7j8nvyV/83/KAAR/8D+GwCr/Pf/ggWR//b8bgASAsQCg/01/EkB4QCl/3P/iP9IArgAcvyL/n4CmAGz/yr+EwGtAx3/yf+f/63+GQHTAYQB3fxQ/B8D4wSm/iL+SgNeBHf/bPvTAeAEPgBp/bP/BwSuAKT8q/0S/zYA1gAIAGL9lfywAPMCY//t+jz/7wOsAJz9dv+YBYcDvvz//moEhwGc/JH+4QP3AsP8a/1PArsCcP3J/eUC7QA9/1UBXwIb//b7fADwBCkBZPw3/o0CzQAW/dn/ygIWAKj8Av/b/9D9+v5BAPH/2P5eAPQBWf6a/S8DdgQ3AFD90v+oA4oCDQDBAekCVwC7/qgBjATd/5/7bP8hBGEDrv5s/D7/6AEuAPj/ywBs/OL8DgKZAXX+tftu/UMBhP86/vL/qf6V/Iz/2AISAE/7O/tVAQYE3fzM+pAAxAEY/8b94f+Q/9r9sf9zBA0CaftVANYGpAQ2/hH93QNIBw8Asv1ABKcEegGt/tL+fQFLARn/FQCuABL+0f6L/sb9Tf8pATEAxfu0+oL/agNT/g/6UP5ZAIL9P/3Y/j//jP0A/zYDzABu/PD8KwE4A7QA3/51AUgCFAAZAkgDmgHeAOkAegGNAdn+m/8aA2kBYv9M/b79UP/BAKMAc/7d/P36uP/eAPn8MPte/a//TP7p/Yr88P8bAWD/6/+x/xYAaQAXAiYB/AC1AmUDCQIqAKEBXwTjA4gAxADcADkCzwK3AFQAowAmAkAA5f1f/6cCUgKa/pf8DP4WARz/c/3oAJ8BEf7G+339uwNmBQr/fPte/5wD5wPQAdL+ef86Ac0DmwDh/Zn/8/5HAar9Vv89AYL65fwDAWz/4vvD+jb/SAKt/bb7xwDnAsH8sPzJAk4DygDp+noACAZWADP+AAB6A5IAHf6rAO4CJgFv/Pj/JQEx/cH+BgBB/xj9V/xF/y//g/2c/yIA+PwX/Gr/qwFjAA3/+v+WAawAwAAyAjEB8ABHA0AFoQOUAYYDcgRSA/gEVQfqBoUCfACOBN8EVAI7AxkDbwB7+zz85gOdAj38ZPlV/UkAZ/xC+/j9/AA6/J74W/4bA4QAzPvz/f8DJANx/hwB4wScA4wACgKIBWEEbwG7AR8EowKSAR0CkQEI/3n9sP6D/6D+kfz5+z/7vfk/+nL8qfv0+gH7z/rr+hT5RvmU+4j71/kl+on69fhj+Kn5xPpH+jP4evn0+6P5O/gQ+l3+cv81+7D6sP3W/0YA9P5YAKMCBwLdAq0EkgQvA1AF6AfOCCwIIAecCQwKowgTCicNxQxPCngKUA55EWUOXwnTCEcPyRPbD20Mwg0iDp8KWQjqDBoTJg0SBCwIfwqYBtEF1QiwDRAIWP/4Al4JKwRs//ICRwViBIr8Hflj/bf6l/Rn9rb2JfLv7D7nfuoM69HjaeMn5iHkC+Lx3kPdQeDF4GHiTuT44HTeR+O+5m3oIuvt61TwMfJg8b72jvzZ/TX/egC6AyMH8wZACJwKQgs3DV4PEA7yDIwNzg9DEUgQnA+oEY8SDxHdEWoShxS0F7MW4hbJGsUaaxojG2IdCyE0HSwdtSIvJGYfRBsRIHwfDhw1IJQgOBtbD8UPdyL7HpUO+QqoECcUgAaKADYO/Q+OAGL0wvS38pbjityO4zPmLdgpya3Kh8v7w0XAPserzl/JTMHmw8vKms1G0E7ZQeLS4c/fZOSY7SX0kfguAVQIPQeJBAgINg4uEOgQIRVeF6MSCgvFCSwMjAvaCHkEw/1X9wb21/X/8Xnsq+vL7iDrBOZa6c7tX+4E7hf0n/0x/Wb6MQIjDToREhOjF7keJCCzHf8lFy+eLyQt7SxPMfwzuzFYMa0zsDFbLt0rDCnaJ3YnRSdZJJMe/RjFF9AZyxUSEnkSABKXE5wPZwlgDEsOVwx9ChkFNwZYC9IE9fow7uHgs+Gx5IPjyt4D0dXH/cUaw/nBrMM8x2fJv8ZBwQXDjspYzq7TsdpI4fPk9+J85C3tWPbo/R4FAwhmB6YFMgZxCw0RchQ3FvYVvQ/8CPoFuQaYCVsGDgAx++DzLusM5Lfhj+Uy5sXhG93j2ebYZNso5E7tpPGp8Xn0w/t6/+ACBgwXF/AcgxwLHUYiLCXaJtkrPDBmMr4vfC5TMd4v0S5vLsct6C0qKf0m+CVIIZwfbB8iIOEdoRfpFHUVqheDGjsdoh1pGnIY8hXlFFgYAh1DIV8dVRVLDBj6b+WP3xrsTPZy6kLRY8TXwU+877V2tzvEJ8hYvo+zZLIMuji+I8Ur0kjeDeF/2vvY9t8G66P4fQYMD2INFAfWBFIHkw5QGSkiFiIxFiMLPglTCUQIEQjDCU4Hsfv47i3nD+M/37besONO4TnYjdOn0wzaUd9e5RHyhvSF8ZX1Gv04BkcMIhQFIf8m4yMpJccr8C8EMl01Xju9Pf04VzPiM5UzrDAqMowxXS4jKpcltSLbHPkYHx9vI64aCRRyGJsbvRWtDywXRCAzGFYQtBbbGXgSyQ4yGasgXBKg/wD4uvBU5c7ep+Tf5prWdsfxwqe/kLhFszC8k8dFxWa+rLzuvljBqcTmz9Xd1ePu42/kg+d/6k/wevyoCX4OPwtYCtELzQoPCvIO7xQKFAEOhwnFB9wBFvyo/E7+uvwI9/vvS+it36LceOAz4SHgsOK45HzigN3z4aTu5/UK+QoAFwgvCUAIjg2yF3YeTyHwJfwqjivAKAUqXC2tL5QxxzK5M7Mwais8KcEplCkLKE4mTyXRI38gPh0WG2cbhxszG2Mdkh0VHJMaXxnXHSkgSxvgGvcbjRuSHAYVZAw4A0Pu9OPD5HPk++XC2rfPZ8sMviG14rRoupbCtMInwDDAW76cu+W9XsY/0RbasuBm5bzmV+Yk5xbuKvnsAqoJtAteCncHLgW/BWUK0A0YDVoMcAm2BDsA0fvC+Yb3xfN0863xeeoA4xDdttth3CLdBOFM5RrnIudy6JTrDvG7+NX/LAbUCr0NEhJXFuYamyBSJIUojSzJLv0vjTBgMvsziTTNNJ812TWLM1Yw5i1OK1cofSXyI2wjIyB9HH8b3Ro7GWEWBxVPFg4X6BUVFEIUkBTIEwsU6xK9EpURXw2xCJb8ae0W57nn9uj25RHfotx92MXL9cKuwUrFlshIx7PIVszDyo/HvMfgynzQpNXC25XiT+ZQ6BvqmuwV8OX0Pvqi/oUBrQK2A/YEFwUaBBkDyAMyBSIFogSEBF4DewA1/d/6Afow+Tn4KvfX9AXz/fLV84Lz3/L78972JPoG/R0BogTHBVUHjQqJDQwQORLfFUEaGBu/Gzsdjx27Hl0fACCxITkhdCHZItkhGyE6IAcfMh6IHO0bMxz6Gv0YuBcKF8EWqBU/FAgSFRAEEO8OIg5EDeoL5Ar7ByIGUwavBQcFVgR4A8QCUwDZ/YT8IPt1+h356PY89bPz7fIM8irw2u4O7TfrWuoT6T3o2OeY537nPeZB5Z/lF+XZ43jjO+Ss5MDjMuNA5K3lyeUf5pLnIOn76eHqTuzf7U3vi/AU85D0jPWI94v5uPt9/Az93f6YABQBTwIrBGIFAwbsBYUHGwkyCZoJjApaDEsNUQ1CDlIPHhC2EMQRUxOqFGoVkhXTFV0W1xdTGS4asho6G3cbwRprGswamBtlG0sa4RmGGTkYkxanFfcU1xORErcRnRA0D7kNiQyNCzYK0wmpCVwI+wYPBsYFRQXrA2gDoQMPA20B9v9T/2b++/xr+6H5tfdt9eryGfF+76Ht1evl6QLoFuYu5NPikOFh4F/fNd6K3d7cnNw23QPeCt9v39vf2uAs4vnj3+Us6KfqSOyP7XPvbfFA8xf14vb9+GT6Gfuj/I/+BwDOAJQB7QI2BPkEjAVjBlEHqAciCE0JlApyC6ILDwz/DFsOvQ/ZELIR6xECEp8SeRM/FNIUrhVOFvgVvBXlFTkWXxb5FXYVPhW+FAwUMxN5EqERqRDDD7MOtg2eDJALpAqxCZ4IYAjRBwEHUgbQBdIFKAVuBAcE5wNdA14ClAEQAacANQB1/8v+Cv4C/a77I/o++VL4+/YM9U7z6PF48OjuUe3Z64HqGelP5wfmReX95E/ksOPi4yjkZ+Si5F7lg+aU50jogemY6pLrCe0s7izvQPCZ8ebyAPTd9M31Cvcr+CH5Vfqt+/X8IP43/1oAnQHKAgkEkAXqBuYHswj/CV8LsQzzDUEPihB6ESQSuRJxEzYUzRRLFbUVvBWiFS0VzBSBFDwU+xPAE08TohKCERsQ9Q4iDv0NsQ01DVAMHAvHCcUIOwgVCPcHpQdiB8kGVgbUBYQFRwURBc0EVAT2A0gDrQLCAcoAWADh/zj/Ov4u/QL82Prj+fv4Wfih91T2E/X98zPznfIr8jLy9PFl8W3w9u858HrwvPAg8cPxE/Lw8d/xIPLD8qrzUPTQ9PP07vQL9Sb1WvWh9Sn2j/bA9r/2qfb99or3Pvgt+TT63vpn+wf83fwI/g3/bADYAfkCJwRKBXwGmQeNCJQJygrWC6AMcw0qDrsOBg98Dw8QLRAYEM8PSg/HDl0O6Q2BDX0MfgvFCv8JSAmeCPwHNgdkBnAF9AS9BJMESwQRBPQDzQPyAxQEJAQdBM0DmwOYA18D8QKjAlQCoAENAeQAvQArAE7/hf6s/cX81/tH+/76WfpY+YP4OfjP92n3RPcn98n2YfZ29t72LfdD9773Sfil+Pn4Tvmd+aP5vPkP+mj6qvrH+uT6pvoK+rz55vko+gn6t/mX+Vr56/gJ+YL55/k8+lP6mPoj+4b7+/sO/Q3+y/7C/6kAhQFdAj4DGAQHBesFnwYgB4QHygcrCKoI+Qj/CNsI4gjpCM8Ivwh4CDQI6QesB4EHFQfeBowGjAZPBggG1QWPBWoFLQVABUMFXAUmBd8ElAQ8BCYE/gPGA2QD8gJ0AvoBZwH5AJcACwCh//z+QP6B/cj8XvwT/Ib7HfvY+ov68Pmz+ej59/kp+hD6Z/q6+gL7Ovtn+9L7IPxc/LL8Mv2s/fn9+/37/Qz+Wv5H/if++P36/fz9if1x/Tz97/yo/Gr8bPxU/FX8XfyQ/ND88/xq/cL9/f1a/un+S/+c/xcAjwD3AHMB8gFuAvQCIgNLA5gD7AMkBDsEbASKBIoEqwSXBIAEJQQLBNsDkAPMA4kDWwPwAqcCiwJoApMC0wIBA88CnwKBAq0CugLqAjwDRwMLA9YC8QL4AgUD3AKzAoAC/AF5AS8B/wCwAFsADwC2/yT/gv4C/oT9EP3w/A399/zN/Jv8cfxe/F38i/zY/DD9Qf13/af9kP3i/Vn+1P4D/6r+uf7D/tn+D//8/jz/I//F/pj+gP6g/o/+f/5t/jz+EP7n/Rb+Iv5G/qX+vv6r/qb+0f4U/3P/7v88AJwA2gDHAAABVAGeAd0BAAJbAnsCOwIfAsQBBwJGApUC4wKYAlYC/gHoAdMBBgIGAscBZgEZAdUAkwDBAPkAKgFFARIBvACMAI4AtADkAA8BQAHqALMAogB3AKMAqgCvAF0AOAD+/9v/4P+3/9P/lf9U/zX/9P6Q/lP+lv6u/oP+kv6b/lj+Lf4u/lb+x/7h/p/+iP6D/l3+YP7m/jj/Nv83/wj/BP/8/j7/mP+w/2L/9/7z/sP+lf6w/v3+Nv8f/+b+6P66/rb+xv4b/0n/L/9L/0v/Wv9n/9v/QwBVAFcAlQCQAMQA9gBCAbsBtQHuAfABBQLeAaoB8wE+AlECEQIUAuYBuQGnAZgByQGoAYIBRwHlALUAhgCTAHUACwATAOr/5P8CADAAcwA3AEwATwArACIAMQCRAHoAnwBhAAMACAC0/6X/xP8JANj/nP9L/yL/8/71/hj/F/82/xP/5P54/pD+ef6e/rj+pf7L/tD+4v7G/tn+4/4U/zj/ZP9V/0X/W/9a/3D/sv/2/77/ov+N/2T/U/9U/0L/M/8r//3+5/7s/gj/Kf85/03/Qv9x/23/nf/I/8z/IAAHABYAIAA/ADoALAA0AHIAmABuAIgAlgDTAMwA7wApAS4BRAF2AZYBoQGsAXUBawGIAY4BYQFvAVMBPQFMASgBDQG0ALEApQBxAHMAagB3AGIALwA5AGIAWgBsAKMAhABVAC0ACwA3AD4AQQBaADcAJQAWAPb/DAACACMAWwAwAAAA4P/S/77/lf+i/8b/rP+t/6j/yf+z/4r/if9y/23/ev+S/4j/qP9z/0f/dP9o/2v/Tf9c/4b/Pf9c/3b/U/9H/0P/af9s/17/Wv9c/yX/8/4P/0//gv+Q/4//e/9h/2L/eP+j/+X/+//j/8n/xP/Z/+P///8EABEAGgARACcAAwARADUAJAA3ACkAOABUADgANwA1ADcAUwBjAEQAKADR/8P/CADy/wcAGAAcAAoA2//8//P/FwBHAEYAcgBRAEoAYwCXAJsAjwCYAGkAegBsAHEAgQA9ACUAGwAEAPr/6P8IACUA/f/E/7P/tf/m/wIABAD+/6b/kv+w/7T/xf/Q/93/+//V/5j/zf/W/9L/3//j/zEALgDk/7//h/96/3v/k//B/4T/X/8r//P+C//+/j7/r/+d/4X/oP+Y/3j/y/8HAAMADgAGACwAOwA8AFAAnAChAH0AXwBFADkAQQBlAHAAfQBsAFQARQBbAAcADAASABMAKgD5/xIA8f/F/8T/6//T/7f/mf+U/5H/kP/W/wkAGgAEAAEA7v/u//n/GwBTAG4AZQBZAFQAZgBqAHkAmAB1AFgALwBEAGwAUQAxABMAAQDu/8H/zf/v/87/5f8OANj/vP/C/9j/DADl/+z/9v/o/+j/AAA3AEwASwApAC0AHQBDAH4AiQCjAGgAGQAXADcATQBAACgAIwDn/73/zP/Y/+P/6/8AANb/xf/W/+n/IQAUAP7/BQD9/wwAGwALAGsAggBnAIcARQAxAEwAWACXAJUABAALADcAGQDt/8D/w//B/+z/+v/5/+b/+v/7/xAABADq/zUAWQBbABsAOgB9AHIAggB+AIcAqQDFAOQAsQCLAEcAKgBpAFYAbACOAIkATwAVABMAGwAtADEAQQAgANj/pP+S/57/nf+s/8D/wf+l/4H/af9t/4z/q//c/+P/0/+6/63/7f/y/woAOQAbAEUAIgDY/w8AFQAYAAIAy/+4/4P/cf+T/0r/EP9o/1H/A//y/uH+BP9M/0j/W/+F/3H/TP9v/7H/qf/B/wMAFgDx/woAGAAnABQADQA1AC8ADADi//D/+f/z/93/2f+2/3z/b/+F/2T/PP84/0f/cf9v/3X/c/+c/7r/pv/A/9n/6f8hAFoAeQCNAKoAtwC+ANgAywDrAOoA5ADpANsA1QCrALoAtQCIAHIASgD//9L/z//W/+L/zf+Y/53/zf+2/5b/oP/Q/+f/2f/s/xoAKwBZAI0ARAAgACsAOwBAAB8ADgAxAEEAFQAcAOr/0/+8/6z/zP+4/4r/Yf9g/0b/J/8a/wn/4/7U/or+gv7w/gD/ZP/n//T/AABgAF0AFACaAHsAUgDnAGwAPwCwAIQA/v9AALoAOgDy/4T/Nf9m/0P/1f4Q/zP/5P6e/i7/vf/b/nD+bf4t/tv98f5RAMIAjQACARsCigFwAaUBlwGtAWsBkwGEAuUBLwDdASYDmgLlAncCwwJYA3gBBwBKAV0ASv7a/pj/YP9k/9X+v/t59Y7lUtqw7v4AlvTU+7cQPQ4EDDEHJAM6C44JHQS7D40TeAaxBNcHmgWCAAb9GP85AWD9+vi0/IcAQP3V/EAAmPwA+sr5IPJJ6XLYsscO2Hvx0PYGCHkbyhrdHXYYDgvICvYIxwhEGlAgrxIqDY8QPgY4823y1vDD7PTvHe7L8u8ASgOrBIcOhwgj//L7AvSM9DH85/vr/9YKbQ4uEoQUOxCGDNgJ/QGj/aEBc/9H//IGvAgyBzgH//+o+PH1g+8X7mvy0/RI+qgBOQRxBZYEfvzx9hv3+/XW9lL7fv8eBsIK9AiOCoAMowcaAbn+oP6I/Rb+qf4rAB4DdAIU/9z9APvH9HHxx+9B8Bj1mfn3+xIAIwOrAM791ftj+0j8G/tS+gf9DAEXAX4C0AMiAqn/dvlm9Un48/df9zT9tgD/A8AErQTdBj8C+Pvj/X8BQQJ4BMAJOhNhGVoZ5xdnFOQOYgcFAjwAdQBxBJIFZf6o+73/qP9F/6z7QPvE/6b63fU6+kz/hQBXASsD/AX1BJH+6PtN/R377PyDAUUCMQdDCIkFkgY8BJQADf5H+tz38PhD+D74afrZ+vP95v0F/B39QvtN9SHvpOmf5V7igd4X3Vvd292E3gbh9OMd6Ertoe+z9DD80gARBcEHjApjD4QOqArLCskJiwcPBmIFeQZiCVIKKgpqDhURoBJxE7USihO6E3wTfhSLFSgXDBm8FigVrRjtGdkYZhtRIv4m+iYCJ38l7iOUIUQblxe0GOIYTBVTELgPkxPjEVgLYQxOEFAQLAqrAET7qeeJyfe04KcDph2nKar8ugDLldP/2VndwOMK6MPj2t8u5QbwtPtxCmEaKysUMnMoWBxFD/MAsfAV4KjawdsY3MjbFN8q6FTsDOi54WfftOIo2PHMJti35JfwavxrByEeuCwZKhQjXB5YG+wRrwAh8/L2JvuG+Iv6nwHJDG0N2gNnAPL/tAAk/1j7dAG9C2wQ0BEpEjYZ4h9jG9EVMhU9GIIXTBX4F5oeySQSJL8hsSPCJRUiQBlKE/gRFBGMDRUN+hT9HPYgyiMAJuopESoPJNwf+x2jH68hgSGsIEkhXiIRGy8Plwa6/7DzA9tFvjOqVp91k2OKF5Eco5e1qr9VyL7bOfAV+jf//gVFD2wWQBXzFLYdHynXLLcmAh8YGA0Qj/+X7P7hYthPzbrAbbgmu17BQsZHy0rTpN2F5L/niu3q9msB+wkdEDIapyRbLA4yiTO+M3cwYydwG24PDATZ+H7vLOZB3n3Y2NXp2dTfFOZw7y35tQIIC/gR5Ro9Ir8oSC7XL1swSi5DKpMkRxwWFy8TTg5dCqAGtgUQBU0EJgYEBx8IKQhpB5oI6wiVCywQ8hKyFbwYWB3MIqsoWjBGN4s6jTh8Nb8yvy3VKKglHyHLGH8NOgSK/1r7rvZf8RHq8dtjxjKwxJ3skUOLt4kakS+fYq/UvzLTcupg/4MNFBQ2GN4b/Bp7F2kVZhajF8oUqA5vCrIGlP468obj19XAyIS7Y7KHsMO0or00xxHSLuBg7cD43wHnCSQSQBijG6ge6SJ1KDstnjCeMtkygDCgKJUdMBNeCBT9IvJE6DbhaNzw2EjXsthc3VjlBu4Z9nIC9RHdH+gq0TRtPxVGiEVMQAk6qTK1J9caAw8UBu3/Ffuq9+X3MPvV/40CJQJrA8kF2QaBBSkE/geXDpMT3xcTHpAlZiuYLXUt/iu1KLgjuBzhFeoRShGKERkQyw5/EH8SxBAgDD8H8QPIAIr7s/XQ8nXvmeRR0eO6g6uLoauW6ZCFlu6lUbQLvXjKHeFM+NUFEgpnDw8WwRWFDSMGTggfDqsMbQXjAbcEuATL+7Xv/+Zz4FHVxMYmv/HBEMkSzl3SON1q7q39zgayDoQYiyCZISce4x60JGgopyYUJHwkgSV3IYoYWhBFCsUCYPdc6srhrd1C2m3VDtKr1R7fxuoa97sEAxR3Im8sADMHOHE8uD5RPFg1RivQIKwW4gylA4P71fWx8uPwU/B18fv0hPlC/UYApALmBesIFQvODc8QRhR1F6kaPh4pIdki5iNSJPAjdSJ0IEweSRtsGM8UHRBgC2wIugemBhoFLwVXCPgL0wtsCJIFFQOy+vHnz87Cua6qYJz2jg2JepHuocyxlMFF1unwTgdwEm8WzRn/HF8a8BFIC8YKhwyUCm4GgQXrB5gIPgKM95ft2eOW2B7M5cPpw93Ie8+M18vjFPTWAosNLRXnGwYhFSFNHTEasBn3GXQYZBbJFksZBRqeFhARPAs3BTD99/Pp7Mbom+ZY5Iziy+Pn5vLq8O899xwDKw/UGLkhbypEMgw10jIXL+Aq7iM/GRAO8QRB/dv0iOwm6FLoX+ra7LTvxfT0+qAAzQWbCjMQSRXnGFcbpxxAHXUdAx7WHnMeRB2pHFgdFx0HGr0W8hNFEfsMCAdfAvX/8/+UASgFDwpCDhIRGBP4FXsXHhTUDaoFj/hU4jrFeKzQnMGS/4tqjJWZOK5OwXDRZeOs+RoMEBRbFGwTLxQHEtcMdgraDQAUChbME5wSfBI9D6EF9feO60Dfk9EUxUS+psBoyMjRm9zg6RL5NQafD5UWmRyDIDIgEh3IGnwbZh2wHiAfah8tH/sbwRbBEKgJbAHB997tH+Vq3TnYfdfB2lfhA+gt7d/y8vkZA6ALQhMVHEskEyoiLE0sVSxqKk8lER0SE9AIGv/M9kzw3+z67CPv1PJV9xn9GQT3ChERURWsF6IY9xgGGXgZVhtZHqchiSRwJoUmfiQ2IC0bEha2EP0LygjpB6YIzwpQDlIS9hS/FXYWohiRGisZhRVZEroPZwd384HXg70uqtWZtorMgU+GlpUgptK1hMm444L+lxBjGPobdB6DHJMUnQu5B5wJDwvbCMwGcgdWCbUGT/3D8JbjqdXRxZ24orMrt6a/Tsmj1aDlePe/ByEUIB1qI7Yl3CIxHYUY6RfgGD0ZBxpZHDwfEB8RG6gU8g1WBRr5o+sK4BnYBtQl0/LVztzm5cTwEfyhB34SrxtYI2EoNiy5LXMsmSmOJe8hZx1ZFgUOVwVF/X/1sO4869rr++9N9eT7kwN6C1UTkxn/HUEglyCDH2IdcxukGs4aWBvbG90cFx4VHoMcbxnxFTkStw1ZCjcJPQmDCaQKOw5KEzkXIxkHG9Qd3B7rG5AW1xLxENILYP1q5i3MALMwnVGL1oACgUmLu5mAqNW4x82N5lz8hQsgFIUY/RjUFJUOBAsJDCAOKw5MDC0L/QoCCeICavkp7lng/M9qwMK2jrVgu2nEGs9F3PLr6/uECTEUtRznIqMlSSRWIccggyLIJDcmwyZuJh4jRxxBFNIMSAU//LTy5+qT5E/fi9zm3gXmwu5m94v/0wdjD68UtBmDH+IllyssLn4uiSxYKYQkpx3CFdkM3AS+/Hb1N/Hf70rx7PM099j74gDLBf8JYA2MEBMSHxMYFMoUgRUoFj0YRButHm0hZyIuIocgGR1rF+IPbwhZAn3+ofwB/RkA2QR7CrAPnhMfFqgW2ha4F20XTBV1EmUPmwjY90vdHsEIqkiYOIptgqGGFJYbqG64ucqJ4vv6cwsVEmIUDhdQFxYThg4/D00UHxdHFf8S0xMcFM4OkQNa9v7o3tnpyDe807kNwCTJKNFk2j7nCvU0AIQILBF1GtofLCDwHlwhXyc2LF4uqy4sLkwqsyHTFooMhgMQ+Tbt0+I+3LzZUdme2oPfY+ef7yT2NvupAdAJwRFlGKgezyWLLOww6zE5MXovnSoTIqYWIAuxAIL2e+1954fl5Oa46f7tcPS1+w0BUAOaBEcGIAioCaELYg/SFDQaBh6kIMIiiSMEIoMe1RmcFdwQoAvgBuADPAQlBlUITwo/DJkNCw1pCzwK8wpADhgSdBUJF8cV2RDkA2LtedBotOSePY9HhZqDN46nooa46sx/4aT3hAnpEJUQ8Q0oDBsJDgThAmUIrBGRGE4aPxowGIcRbAQa85zi1NNXx5O+x7yYw33OA9oB5c/vqvmP/04CagTzBzcM0w/aFAMctiRgLJAwTDIkMYwr+CAQFNkIo/+W9oftYect58bq9e2j71TxH/VX+O748/me/qgHORFsGEgeLySuKWIsZiyKKgwngCEHGYAP3gYVAB78efpG+ob6V/oo+y/8lPyr/N/8Wf5s/zUA5QI5CPIPBxcGHAsgYCLgIgMh3x0XG34XXBI5DJoHUQaiByEKjgwGD8wQxRB9DhsLHgrdCswK8gnDCbQMXhAhEdEP6Qof/2foecgjq8qXTo2FiEeK1JenrXzC89Id4gH0AwLnBXYCiP/tATQF4QdBDZcXpCJOJmAiZhuXE1wJPfkQ503YM86PyMHF18h70pfdReWz5zTptOsh7j3wYvOW++kG/RG1HGQnljJ1Ohg8FThzL1Ek4xe+DKYFZALzADf+2PrO9/X0D/L87WnqVej253Dphe2I9vUDXBJ8HlkmSip5Koon5SK7HSAZxhT9EBkORQw+Cx4KUQg3BbQAtftt9nXyOPFd8/T4Wf+7Bc0LERFpFaYXphf1FtsVyBThE70T2xVGGVYcyR2dHTkclxlSFd8PMgrUBZIDrQLZAg8ElAZBCggNYg1BDHALpwowCCMFBwK7+/Xr5tGTt+OlipyOl2CXZqFOs6DCJ8uT0Qbd8uoh8630TvV5+XD/7gSIDG4XTyG6I1UdUBOPCX0AB/Yw62Djb96o2lbYetmD3vPjJubL5IviTeIl5U3sefbXAVYNixdOIMYmCypwKzkryigIJAsepBmzFugTEhCaCtQE6//q+zj4+fI47Hnm++O+5R7rovPw/igLrxQUGjwcFh2dHTkdABwKG0UbMxxLHAsbwRhkFboQXApOA3D8VvcJ9Xv1h/iE/BsAJgOPBa0H4wnmC6ENWQ+rEHYRnhOxF5sdJSNNJZIk5iENHjgZixNSDz0Nlgx2DSkP4BC+EP4NAwo2BqICav8q/hn/vQB8ACv6buuB0m60qpylkFOQg5W4nkWwN8QP0/LZgN0O5grvYPMU9O32cwGZDp8ZNyHYJTQn9yCNE78Dmvfn8b3tcek35jTliOaN5eribuDE3Y7bFtg81yPci+Y79VwDTg85GOIdCCA8Hh8cmhunHCsemx5mHw0gxR7RGpUU5Q3cBvv/4/oB+HD2XPOj70buV+9L86v4K/+yB0sODRIaFHkVaBfAGHwZ7xlhGmsZVxfAFToUDhO0EfkPRw53CxQInAUmAxQBMwAaAFkAPgCjAEkCwAR6ByMLChBSFD0XChnlGb0axRtrHHMduhwkGmgX2BP0ELUOpQ6TEK4QOg5gC8wLZQ4QD1QNgQrxCEcHvwQaAkb7+O1U11+6FaLrlDGV/p12p32yWr7Ixp3IBsUSxsTOaNml4Qzq7fceCXcX6R6eIEweYhelDrAHnwTeBZEIfQo8CTEDJfsU8//rYeWE3gHaV9hl2ZjdUeRm7AvzJvds+cP6Cvwq/msDfwu9Ew8bJiFNJoUp3CiDJfogNRxLGHsVbRQvFPwSKhB/CukCQ/sY9fDx5vGW9NP44/01Aj0F8Qb5BrQGzwfOCWsMChBlFAoZ8Rw7HxUgqR9eHeIaaBiGFisV0RNLE1MSehBEDtULRwl6BtYDeQLqAQQCfwN2BqIJjQtyDMQMawwNC7EJ4gl6C0cNSA6jDl0PYhDoEHoQSw7cCr4G2gIvAGD+Af38+hz3i+/L4pHSFsQZvE27RL5lwqDGO8oYzKTLcsrKyVrLvs7K02Paa+LM66v0TftS/oL+5f1I/Vj96v4SAvMFlQjwCGoHiwWFBE0ENQSfA2QC4wEnAWAAXAEFAxwF8AVoBfsEggSzAzkDpwPfBM4GqQhUCuQL1wxsDWcOXw8NELEQDxErEd0QQBCrDzwOaAzDCkAJ7Ae5Bi0GxwW9BP0CaQHwAHcBGQKfA3YFqgY+ByoHXAfPB5oIVwncCWgK+grWC5cMigzQC1gKZAgmBp8ETwTdBK8F1AV4BVkEpwJxASsBigEsAlMCmgKCAkoCcALNArcDtARZBTUFTAW6BYMGVAeCB0QHQAdfB0gHLgc2B04HiwYrBVIDkQEmAOD+mP03/Db7jfmK9xz2BPV+9Fn07/NB8wTy+e+47Y/rsek86Kzn3+eV6KLpm+oS7FHtHu5r7obuBO9X8HXyYvQK9nz3yfjV+cr6JfvO+wj8kPtd+7D70fz5/Rf/TAD4AT0D+wNLBOYEKga2B2oJFwuiDJUNWw7ODj0PVQ8ID3IOfA1ZDCIL4gmnCB0HZgVRBHUDnwLDAUQBIgHvAJAAeQAmARMC/gLyAyUFiwaYB2UImQnxCvILPAz1C8MLeQtAC+kKmgpgCtEJxQiMB8kG7gUABf8DPQPnAnMCvQEmAeAAFgGGAfkBuwLLAoACUwKXAjgDdQM7A/4CAgPHAp4CRAICAuEB4QC6/vP77vht9v70IvRQ82DyUfHo783uXe4g7mHtb+of5WDfPNvS2YfaWNyP3qrgveHr4cXhoOL+5UHrgvGn9yj9KgLFBkgKrwwVDtIOhA+EEGMSkBRUFk0WQxS6EJ8MiAhdBQ4E5wMkBKkDiAK9AFr+R/tS+NH2pvY198X4j/tg/mcAZABY/9/+ff8nAZIDLgbsCBMMZA6qD44PrQ5FDp8OOA9oEBQSiBMzFKUTthIREp0RkxC+D8sPghDMEAMQqw6nDfQMDAyQC1oLFAsyCz4MZQ3pDeAMbAtHC1ULtQqICiUMcA+bEvUS4RH9EW4TSxSrEqUPNw8uEq8U/hOxD8sI+f1C7RHaI80fywvQSdPFz7/HuL6wtRatSagOqxm1wMBAybjOwNOh2HPbndxi39DmTvLh/r4JIRItF4YY1RYuFJsTrxYnHCAhVSPoIeMdvRdWEDIJ5wNOAesADgE9AJj9c/gK8iPsa+jG5oDmVOjj7BryAfWl9XD2Lfk5/O3++wKqCXsRaheVGowcLh67HmofayCUIKcetRuXGpAbaxt1GFAUsw9qC10HuwSABEsFAAXUA1YCYwAW//j+ggAJAi0DDwYEDHMR/RL4Ef8RHhWkGcwdpSCPIpAj1yTxJW8kaiBVHYEcMxwrHLMcFR30Gf0Sqg3NDKUMXgxwDs4RHxIrDFcD2/vr7zXZJMATtBW6zcX4xc+4VKpOocCbUpfDmEymKbquxf7EuML7xwHT/dzC5rn0xQSWDtkPjQ46EcwXQB4GI04m8CeVJL4brxFdDHAMlA2UCoQDCvyI9AHtwOZT5PvlYunl6RHnfON04QXisuSa6b/wIvlRALwFsQgvCoMMRBECGBAfyiSKJy4nvCR1In0h2yGPIoMisiB+HBcXVxKPD1EOgA1/DEULvAmRBzoFigNoA0EFnQfSCE8JcQr/C+cMpQ32EMAWvBthHlsfAB+uHeMcmR1yICUizyHEIB4e4xlrFtAVOxdkGQUb6hs/GC4QIg2SFKkcOhhDCHP5Cu9X3F+/RK0at1rMcsyYsBeVqI+YlkaYopiapYi6w8PIugmyfrm9zHDdbeiC9EECHAm3Bf4CdgzfH6cv3zNBMI4qTiPJGoEW8Bp4Imsi5BeHCDL7sfJN757v3/C47+nqheTI3WPYS9dO3Zvn9e+s85rzYPMW9fL5HQORDhIYpRxIHQAc/RvwHT8iOCkFLyYv8yfSHvIYkRj8GeAaHBt1GUoUeguHBAADRQZDCiANrg4oDasHAgMiBPwKlBEfFIYVAxhHGtsZuxgzGzUiRSdPJeQfuBzfHCod2hw8IAElziNOHOAWxxiYG8AZmRjrGwkdFhigEXIQuBD+C4UD4PTT2Ye6ea8evlnM3L69oEWSFJVBlcKNa4/woYKzH7TgrOquj7tVys7XkOYv9vT/mP9F/KwAKRA/I2YvYjGkLDwk+hvtGZ0gZykTK0ciQRO0BSj8e/d697X3YfSL7eHkFd3q1g7UWdaz3Qzlg+c75TnjGeny9NEAJwmRD10UtRZBGCIcdCQaLDgvlS+uLmMrRyaHIjgjdSVSJK4gpxvkFd8P8go5CuAL2gwUC/MFqgC4/Wr/QAUrC+4MFAvTCgEO8BGAE00VARvzIBkh4BwQG/IeLyR9J0soZiYtJN0j8SYdKacmYSMPJLojbx84GhMYhhphGfYP4f1Q4d/DabtUyTDWaMryqlOYjpmjmhyVOJU3pHSzsbFypjeo/LhgyBXSntv26qv3pPcM9Gn8+hCxJRAvZC3pKIUk9SGdI4krtDOYM9kn1RVYCP0CQALoAWT/rvlD8CXkodlU1b/XZtvg27jY1NUW1S7V9tfO3zHsrfXR9sP0K/eyAJkLJhRQHVckxSS7HysdVSOQKzUv9S4RLXopqSGBGr4YchrYGhgX+BKXDgQJ4ASdA5wEvwU+BcMDTAKEAXYDCggeDHgOrhB9EhIUkBaTGeAdkyGGItEiOyEZH5ciTCrKLU8pxiGVHx0l/if+JdYkDiS5IswZ8wcV8cTbp9SA3SDlL9fgt46ha6DSpOqiuJ93pkiuuKgEnaSdLq8VwBjIjczm1ZHgR+Xy53LzIQeYGIUfQxxkGhQdXiOGKcsvrTR7Mwkr2h5hF9EWwRfPFYsQYQhg/j3zgOt76ALonOUe4KLZedWU06LR49JO2dbi6+bS44fhAugc9I//bQeuDEITSBaOF7wbbSIVKWQqZSjfKAgrGCruJoImsCerJS0gFByOHjghohtpE08OUQ2XDf4KUQnOCT8JuwaDBJoF7Ah+C80LCg3fEDsVEBiLGIEZMhswHuYh8SPEJSUmCiZSJVUkACejKvAplCFLFZIHDfYh5sPit+m16DTTWrdXrvWy+7Hlp26hO6bMqcqjCp28oImrVbZ4vbTAO8QpyojSDt656ij3gwMRC6ENGA42Ea0abiilM4U1KDAvKUAkxSNkJu4pbyqjIWwV/wspBj8CvP7K/Ff4y+7945ndx9so3Vzezd242eTTJNOD17beOOYA7dbxffL48kX6mwUGEU4ZEx4qH8kcnB5JJ+AxtjV9M70vqixRK84ssC46LF8mhCCjHc8ZchWsEwUUKhKkDfAJJQh9CKoJbwwcDTcK2geeCQ4N0Q7zEJsUsBYOFegTNhd/HPgeeR5DHk8fax8yHZwSr//k7jfty/cV+a3n580ZwgPE+sNsvdO1VbXJs26rHaNJpcewzbdYt8m2TLsWwffCpsce1svnoPLx86/zrfgTAq4MShbSHlEkAiYVIwYe/R4OJ5AvTy/bJkIfmhoqF08UcRTfFCYPjwSI+or0OPKc8d/xwe5G5jLgvd5e39HfreGr51nqOOjx59HttPWG+Zn9CQS+CR8N/A/TFnUdJCFlJI4mqChqKostFTDvLlEssCreKUgnSiSRImogCh1xG1AamBY4EbcPkRJSEpkNQwrHC94M9QsKDf8QFBL1D18QIhQHF0wWNxdCGpcbKRokFuoKOPkW7ij1rgEO/Nvka9Gx0BfSesv1xAPGM8n9wBe0ma+Tt7zAPcOswYC/3cBdxMjIJtFP3LblB+lY52XomO+l+SMBowdcDU0Qng7VC6QOBBfiHjMf9BqdFggWTBeVFyQYfBcfE4oLDwZCBKgDcwKsAjEChvpl77LrZPEk9WTy7fFU9crzzOwj7rb5hwA9/ab7DQMaCaIHDAprFIoarRleGmUg5yLxIIAlOS5XLm4ldyOyKZ8pjSIgIB4lSSUTHh4b2BwWG6kVqBU4GncZqROYEA8RERDCDnMQihN/EV4MtwkoCuYMlA8jELwMvgZf/9b0f+os7Kf2K/iN6OvUldL918nU9s6M0E/VJs6twNi9tsj/0FLPns3/zXLOwc0j0PHXz+Dh5bboZeiw5VLoufGw/CQCWAJeAkQEnAQuBVEK2BGgFcgTTxABD+MPLRGIE6kUmhHyCxQJGArHC4YLiQpBCT4FtgChAFkDGwO+ADMBXQRYBIYA6f87BFkF4wNhBggLZQwsCdkJtBDREygSRRMYGKUaWxmrGR0e7SALHw4fCCC2HVUaYBq1HYEdbBiBFJMSJQ9lC/sKgw3NDJ8IeQQDAi4Akv8+AasBU/+D/WX+Sv8j/Xb6qv2fAT4Btv1M+3X6z/VG70Tug/Mt9FDtzOPU337hOeGp3zTeu9wL2cHVkNXi1+/aodsc3Dvbfdk320Tg5OSj5tDnsupE7Vjt0O4d9Kv5svvM+4/8Wv5KAJYCRQV8BnwGHAcLCewJogr2CxQNlgz9Cu0KNAvOCrQKggtzC3IJDAhRCGUH6wT5BKsIKApNB6MEdQV9BoYFBgb3CAILFgmLB4YIBwkkCa8KTw5pD0sNFQxqDSIOogwNDmwQfhCtDCgKhwwyDggOkA0uDmMMAQnwB+UKGQ24C20KXgofCZMG9wXvBngIHQepBQ4GrgQpAhICZAIGAh4ADv7P/ib+2/tj+sv6UPg69Tzz2PIp86Twg+4K7cDr0+lm6YTpS+mA6F/ngeYw5mHnsui36bLp0OnY6i3sFu2M70vyY/M99IH1sfdk+Z75XfrQ/Kf+5f9nAGkA7QB4ATECzgKJA7MEZAVqBSgGwgZwBrkFbAaYCHwJWwlRCX4JdQgrCGYK8wsyC5EJvAlBCsYI9AekCaAKzgi5BmYHHghkBq8FGgfeBywG5wTwBdgG3AUtBZAGuAY8BSUFUgYuB9cGSwezCAoIgQZxBj0IrAhnByIHYwcrB8oFDgXjBfQFXgRLA0ID7AKRAaUAAwGpAAX/2f0u/lP+Nf1b/HD84Ps6+ob5I/rn+a34xfeN94720/RC9Jj09POS8ibyl/I68t3woPAc8Wbx0PGz8pLzYvPr8tXzB/XU9cH2DPgC+d/4/fje+SP7LPyY/U/+Mv6q/bH94/5oALkBWQIpA+UCrQL7ArMDNgUJBnYGlgYaBu0FgAbjB7MIxQhmCJkHTgfQBnoHbQigCNkHBgeTBuMFFQaBBvYGcgYdBRMEsgP9A34E5gTBBOoDLQPCAtYCCgOiA50EcARUA4wCPwNzBCMFDgUvBRkFKgR2A9cDDgW4BTQFQgT8AzwDLQK/AQ4CgwLaAUUAiv9I/+L+Pv50/Zf9bv1m/FX74frA+lv6+Png+Z/5VPmB+PH3D/gR+Gj4kvjT+MD4Mvjw9z/43Phw+dn56vmB+QX5TfkG+oT6gvp/+nD6xfkv+c75IPu9+877cfsW+237DvwN/fv9C//6/08AUwBJAAUBcQLXA+oElwWyBb0FygXvBcoGBQhJCNYHTAcDB0oHcweTB8gHjAeLBo0FTwXRBVwGoQbnBZUEdgPaAgsDMANqA60DPAPWAZMAQQACAckBpwFZASgB0QBsAGYAEwHOAU8CBQICAbIAQAHnAfgBGgLRAf0Azv81/3P/cv85/83+Uv5t/Xz89/s5/E78Q/wj/N37hfsM+1z7CPyW/Jb8WfxH/Fn8efz2/KT9QP4l/rf9lv2K/dH9Mf63/sj+jP5i/mT+O/5Z/uH+Wf+a/x3/4P4P/zb/fv/e/wwA5//S/9T/sP/o/3UAzwD5AOAAtgC4APwAywFnApACogLNAvUCsQLUAiMDZwNnA/gC6wLJAoQCYgJoApkCcALtAWcBGgHwAOMAAAEcAREByABiALz/Sv9s/5//nv+N/yv/pf4u/hn+OP5A/qj+s/48/tH94/13/ur+CP80/z7/YP+0/wAAXACOAKQAyQCVAB8AJQAuAGcAJgCu/0L/9v7F/nT+i/56/mP++P2i/W79jv2w/bT9F/5V/kH+Dv5H/vX+iP/R/xgAIwBLAGQApQAhAWUBvAHCAb4BCQJJAnICVAI+AjQC2wHvAVACMwLrAWEB/gAHAdoA3wDKALkAkgBPAAcABgBSAFAAWgBDAC8ALABgAG0AeQCcAJAAlwDDACsBdQGcAX0BDwHpANgAuQDJAM8A6gCiABwAi/9K/43/pf9y/xn/6/5r/un9sP14/VP9Gf3Y/LL8evxd/Hz8dvxV/D38hvzi/FD9mv2x/cn93f1m/sr+Hf9S/4n/e/9v/9X/QADWAOcAqQAvAPz/DgDm/ysAeABxAC4AvP9r/2D/nv8VABkAtP+Z/4r/wf/w/wsAXwByAHQAagCiADsBswHWAbwBugH/ATUCtgIkA0QDbgNCAx0DXQPAAwsE7wNpA/ICowK8AscCnwJIAsEBIAF2AB8AVgBuAAEAcf8G/wb/zP6p/qz+5v7t/uP+uv6g/iL/X/+8/wEADwD//8b/yf8CADYAlACtAEYA4/+n/3//e/+P/5b/YP/t/jL+bf16/aj9dv0i/Zb8XvxC/Ar8GfwO/F78RPwJ/Hr83fwz/Vf9qf0f/jr+R/6F/t7+OP9L/6j/8f8JAPX/IgB0AGAAdgCGANkA6gC6AIgAlwCbALMA7AD7APgAwADtAOAAwQC2AL4A4QCdAI8AjQB/AKcAmACKAHoAVQBDAH8A1wA5AX0BZgExARgBgQEcAnICngLNAsECswLfAg0DJwM2A+8CkwIsAssByAHZAasBGgHYAIwAJADU/5n/s/+s/1r/Cv/V/ur+E/8S/yP/I/9R/7L/5v/Z//D/CAAOAP7/8P9AAJoAugCKAGgAfAB4ADgA6f+Y/5H/ZP/t/rj+jv5v/hP+qf2L/Y/9q/2X/Wr9av1E/VT9gf1v/YD9ev2G/Zv9w/3z/TP+gv7W/i//XP9v/3P/2/9GAJcAywAOARwB9AAAASsBfAGKAbUB1QH1Ad0BtwHVAcEBvAF6AREB0wCuALEA4QDQAFsADQAXAD4AgQCGAIUAbgAZAPD/HABbAIQAygDMAOEA7gAMASEBNQEbAQYB8gDWAPcAwwDbAK8AYgBBAAoA+/8SACIA2P9u/xn/0v7I/tr+u/7p/sz+i/6t/hz/df9a/zb/G/8m/wj/LP+4/x8AZwAhAIr/hf+R/7f/CgAIAAoA8f/V/8r/vf/F/9n/ZP/h/tf+xv43/zT/HP8e/97+2P60/uL+Av8b//X+yv7i/ir/W/9S/5f/n/9h/1L/hf+//wQAKwBWAJUAgQCeAOcALgF0AdoBIgIoAh4C9wExAlICVAJcAhoC4AF/AVwBbwEUAaIAsADsAHYA5//u/yAAsP97/77/7v8GAA8AgwBuAP//RADAAN8A2gD3AB0B6wAGATQBmgGEATEBdAEwAdkAkQABAfUAtgCQAOX/q/9y/1H/P/9g/7D+d/0q/cH9Q/6K/UP93f2r/cH96v6X/7D/Cf/d/I7zkebv6MT8SwrxDTcTvBeVFL0AyfIH8/3zFPTQ+dEIww5SDLsIZgf0APj19vH584n3mPwqB8QOrw60B04AhPgJ8HjuaPVsAIoH8wk8CikGb/4L+nv6rfv5/AsBqARd/oDvR+wQ/KMHGQndDcwVCxmyDLMB5v96/HP2LvUd/rEEFAg6CYwLjwga/jf3cfQd9IL4xwAmCEwKtARt/8P71vd19fL6QAVvCUABZfAz6v3w6vTS+EMGgxMNF1gNPgTDAhT8lfWL+DkAnQISBKoIkAz7CgIFKgCZ+u/yY/JP+TwA1gZoC40Nhgdi/T7z3erL4rThsuyH9c79KATICw8RBgxNCmwGSQNuAJ4AdQbrCZMOkQ8GDY0FbQBI/on8A/9OA4wHUQ5zCUcI0APp+637kfcO+mH7Zfv3+jgE8/2M/A7+U/2W/Y/yxPkj/jgAWP0JAoQJOv+v/TMAP/8M/Az4BAMtA9j7ev4dA1oESvygAEMIIwIT+8X8UANcARf6zwEIBAH9mfdI+W//EPcg+rwArAMuAtr+IgahAxf8Zfuf+EDt3eRH5CLwR/Fq9QYBxwRADL8CTwhbBh0A0wTOBBgR9wvED1sTDRFfEO4EpAV1AYf91Pzc/esDGANMBLwCAf/5+vb18PP08jX2f/i7/Ez/ugLTBe0ESgWeBKkFIQJ4AA0D1AUiCK4HywcuCNcGcAMt/3H9Tfxk+0X87fsF/gb+Wv9W/s/9Gf2Q+d36Nfj8+N33mvqu/o7/igBu/GL8RPq/+dT5qfqW/Gj+jgHwAdADJgRMA1QC0gH4AX/+z/2U/kL/wgBd/qsAJwGTAY3/JPxv/nn+Sfuv7ljonu1F9VD0RPiVAy4NYw6bCAsOeAvPCxcH2wczCysH5gtNBxQItAR+AwQAtvj6+Yj5gvpU+5n/9AD7/+D88PoL+fb4Kv3t/oUARANMCJMJtgSaBH0GjAMRArMA2AJ7ARUBcQXHBfED4P6M/13/Efvd+aL8JgA3AHz/FAFzApQA7f47/HX9ZP9z/pgAjwCgArIDAwHLAEj+YP6o/SP/SgMuAxEEvwSTBSMCT/79/Fv9MfvI+Rf71P31/w3+TAGe/0L/Q/3C+uf7oPrH/df/RAJPA9YEpwR+AoH/JP9y/y7+S/69/uAB/wHiAqcC1ACS/r38pv0j/qn9fv6KASwB2//w/sf/Zf4g/Gj+M/2o/ej92P8MApn+TQDiAoUD5wDf/kcB2QMRA1EA7v9JAtsEegN4Ae8AxQGL/hr8S/7Y/9n/AAAOA6MDqP9V/dH+H/5k/Kz8UwAGAsD/jwBWAhACNv5T/df/YgEYApcBGgNJApMCbgRFAhIB2gDlAcYAS/0Y/jH/IP9M/4oAKgG0/pL9kfwX+xH6Jft7/ZH+pP5jAKgCGwGP/9T8jftD/QkAqgGZAToEywbKBUwCwwCDAcIA0/5NAHkCsAHFAIEBYwLrAYkA/wCWAKf9Af0k/M38ev4Q/s79Gf0R/tP/3/7w/rwAXAKLAcsAWgN3A30CIwOnA10Cg/62/Mj+Rf9K/8UAGAVeBuoCHQQXBDcBuf5k/Kb9BQB4AOkAdgCIAOD+SPs1+KL3T/tK/HX8qv/OA/AERQJOAa4BCAEbAcoBWARHBbsE2gQ3BV0F4QIoAXn/jf1Y+nv2SPVk92r64Ppq/GsAKwLKAET91Puz+3v6E/vg/ZIBOAMUBOkEPAUtAysArP1r/QL/TP+xAIQClgOzAgIB3v9I/gT8JvqR+uj6mPqO/HL/WQE9AYwB/AOHA7EAy/9BAAUBOAGEAXwDjQQWBHYD3QNLAwABsf+7//T/Kf7O/ef/RwFkAcj/ff+V/0r9B/yK/I390f4iAGgC3gNOBNMDDwIRAXP/5P1d/aT+iQEtAsoCJASeBB8Dh/8R/gj+ZP5P/qD+BgHJAqECbwJEAlgBqAAr/8/9Wf2G/Tv9ov0+/87/pgD4AEAAgQBmAKP/PABLAggDJATEBeUE8wKV/3z+pv7W/av9Fv8eAeUANAAYABYCfQM4AtEA+QAPAnsB/v/8/hj/kP5m+/75Mvqt+6f9PP8jAXgBxQFiAAb+Av3C/Kf8L/z3/Fz/HQF2AtACzwOBA9UA4v26+0H78Pl9+cP6s/0KAH4BywIEBAUEjgJhAjcCBgHwAO8BvgJAAlwBUwGg/+j8fvuK/DT+PwDKAREDFQSkAxkDWQLfAXABOgFuAFT/I/9g/sz9+v1i/kH/pP/E/1AA8AA4AYkBUwEIAXn/pP6s/oL+7/+pATcE4QRVBDgErQPaAcP/mf8i/6b+r/6z/6QA4f82/xf/SP70+7v6MfsP/Pz8M/7EAMgCNgQ6BYEFqwXyA2AB5f5S/eb8sv0B/zQApQLqA0MERALA/zb9efnJ9iD1o/Zj+Qf9MwEbBGQG6wakBscE+gHBAOz+ZfxA+9z8ov8NAWkBKwOVBGwDuwHuAfkCOwKWADn/LP/U/gv+bP7Q/zIAvf5X/fv8OP0o/uf+Wf+d/5b/AABDAMIACwKhAykDqQEaAL/+E/2/+5T8Rv33/LP8L/5AAF0BjwJBA74C8gCL/cP7M/y2/ez//AE4BJgFGwYlBegCs/9C+y339/Pk8cLyYPcC/qUDLwc+CSUJRgekBHACPAG4/8P+F/4m/qj+L/89AbwC6wI+AfX/0P8BACEAHQDIAN//tv68/az+8ACvAp8EtASrAmf/kPxd+vH4Xfmp+/H+9gEaBTgICQp4CQ0HuQTcAcX+kP3p/T///f/v/7oAlQLuAlgCwwH1/9b96fn597n4bvq6/E/+GwCZAEsAbv7T+8H5w/gW+Ub6Cv1ZAqsJPA88ET0PFgvaBXr+wfZg8VTvfe+i8Nn0TPyUBKwL6Q9NEawP7ArWBGf/Lfv2+Gb3a/Ym99f5Jf3q/p4ATwIIA/kBoADdARQFfgewBzcH+QU7A6z+WPoK+KL2rfas9xr62f3rAaIFJAjGCO8GuANw/zb7sfhp+Hz57fv5/g0CNgS4BLMEDgQcA/gAlP6H/KP7lvws/nUABgMJBcAFYQQQAsgAvv9X/1f/hf+l/3L/zP8GAJwAnAGBAv4CwgPgBD0GRAdAB58GFAVZAoH/ff7f/q3/Dv+F/L757/YC9Rr1N/hY/sIE7wnpDN0N7gw1CZYDV/0X+IfzS++67HTthfCf8/b2ovtyAdgGFwviDgUSUhJDDkgH/v/w+GPyKO1366XtBPLX92n+YgajDVkRixEPD4wLBQciATP7K/ef9bX0IfSm9RL6CgDgA6EEGwWlBb8E5wEm/7n+xP+m/53+9P7OAOMCjQPoAkIC+gH6APj+U/0p/Q/+tv6K/gD/XADtAPb/NP7G/Bn8TPwS/c3+HwFJA6cE+gTtBA4FKgV8BOYCOQHt/2z+I/3A/O79kv/K/3n/Nv/8/nv+5/3l/Wj+VP9pALABAwSWBjMIMghCBfQAo/uB9czvaOx77J3v6vRH+zsDFgseEYQUfhS+EJUKPQP0++n1PPJg8ZrzMviP/eYEuQvNEOMSDxAsCocCL/vc9Xn0avcX/aADEgjDCTsKxwe7AygAffzj+tf5xfl5/M8AtgWrCcULFAsiB2kBj/vR9q70BfSg9er4MP3mAlwHTAqtC+oJFQVN/pP31PPp8vrzaPYz+pL9Sf5k/dT7Nfuz+l/5Tfg4+F75Nftn/db/PgJRA/gB+/56/Or6r/kH+WL5evsl/kMArQJOBe4GxQaCBFEBi/4N/Iz6c/rk+yn/bALjBC0Hqwn5C9gMUwy2C8sL+AudC0gLuAu1C3YKSAjyBckDLAFR/sX8p/wm/W/+NwCoAqwExAWPBoIHfQgJCHAFYADX+ir2KvK18B/xSPP39nj65f6ZBM0KQREDFUgU9Q7VBbz7bPJf7S3t3fCy90r/vAa0DEwQ8xFOEXUNEweR/xn5p/QV8vzxyPMK98H5ePtO/Sr/VADj/6r9+voz96byhe5n6sbnlOQR4Yzdbtse3J3eHePr6C7wPffj/O0A1AN0BZ8E9AHk/W/5w/X48tPxc/J/9C33FPrA/LD/iwJcBcQHQQl0ChALlQvVC8cMdA38DY0OoA6cD6cQmRE9EwwVlxZ3FyQXRhYCFZ0ToBETD2YM/Ak+CUoJWgqnDEoPkRJ0FbkXcRn4GZsZ6hcnFeoRFA6RCkYHrQS0A94DGwa1CPIJXAo0CVUHaAVQA9ECMAP4A7EEMwUUB2oJLgyDDjoOzQfb953fwsPfqKSUKYtkj66g47j60rbqjP4YDXgV7BcVFKALrQB79U7t/ejM6AbtvPG69MD0tvGO7QnoiOLI3gre0N8q5HXrmfQv/r0GcwyeDhMN7QfBAhb/bP0V/uAAWwV8CdMKFwjhArP8TPUv7vbpJeuB8tz92wrbF+siTynPKbklKh/5F2wQ6QiFBDoEDgd7DNQSBBkUHqAfrR3cGZ4VIRI+EOsPxxFOFZsYzhs+HpgfeB+iHQAarhUwEUcNSwuZC2kO+BHWFTgZ+hqGGv4XmhNBDrAIgQOaAD0A3gL7B7AO9hTuGMIZ2xayEZYKzQN0/p/5TPZV8vXpOdovwq2okZVAi3SM/5cSrhHKL+Ki9eMElBH4GboZSxNECcv8uu/z42ve/d5H4fPh295j2t/Uy85xyqHIycuF0rfaMOVi8nECZREtG6QfqR7XGDQPOATJ/LD5Kfok/HH+FgJ4BTgHuAcNB2sFlAI//4j9Av6CAWAGZQx/EogWWBmxGVAXQREfCEoBZf05/OD+hQTbDRYVLRiLGSAZ4RiyFoITfBFKDz0N/gq+CboKIgyTDRsOow1CDbgMfAyzDAQO3Q9cEP0PEw9lDiEO7AweDJ8LKAtuC7gLGQ1bD8sQIBHFD4cNXQoCBhsC4v/EAJUDLgc+DFARxhR3FWUTvxBiDnYLGwg1BgkH6gkwDdQPzQ9GCQn3P9dVs2aWtYa3hVaRfKtGz83vMAfzFckgySf9JH0ZGQqv+3fvOuXj4czmXO+N9b/0Ce/O52XeStXzzozOoNTT3f7pNvn0CucaKyS4JcUfkxSVB477/PTi9C35zP8WBdoI1wooCq8G6QA9+t/zUe/E7pPzsP00CkcVuhyQHh0coRXjDNoEi/6w+537/v2ZA14KbxCNEyESgA1ABpz+afk/+Nn7IQOqCxkUmhukIAAi2x5MGFEQhwfq/sn4cPdM+50CJwolEIIUyxbPFv0TCw+cCggIfgYvBRsFlAfQCmQMtQsNC5kL1gtjC3ILcQ19D4QQ0hBoEgIWyxdxFsUSew7uC9wKiwnECHsILQap/HjmxcZpqEKU7otVjoqcS7jH2kz4eAvLFwMi+SaSIgQXVgr3/2T2++xx6e7sY/KC9H/wMOkO4BLVIsuzxuDJdtPR3znujP+9EZUgCCgEKG0hPhaECMP7vvRd9Fr4W/3yAd0FCgjqBm4DHf+c+pX1x/DI78/0EP+cC1kXGyBzIzAfBxUUCZ//dvri+On5bf22Am0IhQ35DzcQ2g0UCcgDbv6p+1H8xf/4BZIMARIbFaUUjRF/DGwG8wD1/XD/wwT1C5wSBBfRGAUXUxFUCggFRwOVBIgGygiMC10OAxBnDykNbwo3CM4GngXwBZkIwQ2lFBUaZhzOG6QZRxb8EXcO0wyJDT0PthDWEgwVOxYBFQ8PrADk5v7D0qGJivyBrYhcnWS+VuOjAAMSrxp+H3Yf1RdbDGUC3vpR9P/uhO8R9hj7UfiV7enfqtKExrS+n7+WygvbU+sv+2oLxBoKJrQoGCPSF8EJvPxT9NXzbfrEA+IKOw0uC4gFoP2v9Vvv3evG6jrsVvJN/RcLKxcIH5MiPSG9GvUPyQTG/Rr7x/q/+8f9JQKQBkoIJggdBxMH3AcSCCUJ1goZDacOVg/FEBcS5RIeEnYPPgvUBnAD3gKEBREKIQ68D2IPmw3oC6AKoAmoCegKLQ3IDwESSBTEFoIXjhRIDxYK/QYVBtEGEwpgD94TXhUWFAUSphCVDlULQwjOBkwHvQgkCiUM3Q4mEZEQhwzDBo3/ZvVx5BLMMbLNnXuSU5KMnuK2sNW48GwCcguRDzAQJA1HCFYE/AHV/pr6k/cM9432pfJW6knfXtMvyDnBacFIySXX2eZc9koFthHvGnIf2x7IGWYRmQiBAlMBhgRfCUANGQ4XCwkFo/0p95Hyv/B18df0PPs9BBkPZRneIJUjryFOHJ0UIwzcBM4A3f9rAEYBDwOXBiMKogzsDUoO6w7pDkoORA70DmgP1Q6PDUEMbguACrEJFgnrCJQJBAqtCsELUA0RD28PlQ6GDS8MkgoVCWAIfQl1C84NCBBLEfkQOw4dCgQHVwbqB+MK6g3eEJESBBKeD0MM4AkaCYgJfAoYDJEO3RF1FPIUsROrEDwNSQhdAE/3ye4H5g/YO8HbqGKZrJTBmNyiHrZd0njsmP3zBSoMNhMoFdEQ7AmLBBgCmv0u93LzavL88I7pSN1Z0zTOvssIy+DOotkf6K/1GgHOC8EV1xsRHKgX1RI+D8UMmAvlC6cNrQ6yDMYHJAI9/Wz5MPYE9I300vcG/SwD6wkiEakW5xgAGCEVKxEbDNwGMgMFAq4CiQS6BscJzgufCjMHLgP6AO3/dwAyBCsKSRCJFGsWsRZsFe0S1Q80DHYJQQfXBQ4F8gSfBvcI4QprC40LaQxlDIkL8ArYCqAL3gsUDM0MGg3nDJ0LHApTCCUGZgU8BrYI4gv1DnoSXRV3FtsVgRRTEu4PSQ2DCsMIqwcDCMMJCwvlC3ILAwiYAur6F/EB45rMwbLxnK6R75J8nL6v8sqh5WL5TANaCOcMQg5TDMAIYwVsAqn+ZvsR+tf5Qfhm8wbqFd5F08/Lcsg5yhzRs9zW6Uv1nABkC8AT+Re+F5YVWhKHDmEMoQzqDdcOYw7oDJMKlQYiAvL9tvkh9hL0MPRj95v89gKQCUoOBRH2EfER+hB9DkULPAjmBsQHtQmrDHYQNhMlE44POQqXBYECJQLsBIIJ9A2jEIoSbRMjEsQP7A2LDbsM5QosCsYKVQyzDUUPcRH7ES4RUw9ZDXcLkAnvB5IF/AN6BM4GgQmOCgIMIQ50Dm0MMwlvB8kHiglhDBwQxhHcEDwO8QlQBcIALP7f/pMAsAL5BGgFJQQeAfn9avyc+p/3zvMw7YXiutT/xqC+Cb0kwAzHgM911ircW+D6443o/Ott7xTz4/SE9NvxM+9/7lbv9/Dl8uT0qPZA9zL3NPbe9Ar0afOu86b0WfYo+Sr8e/72/xgBfwK7A7QEVgXsBekF3wUeBk4GFwfdB7MI3gl2CoMKMAqYCVwJnQlvChcLsgt+DFMNQw7+Du8OpQ62DTIMJgscCscJbQqwCs0KgQprCbYI3QemBwUIeghzCCgI7AfcB7EIjwnQCrYLoQu8CsAJRAk9CboJkwniCN4HfwZGBVcE6QNIA4ICKgH1/8//YQDfATYDPwRTBa0F1gUFBqgFBQZZBl0G9gX+BE4EAgSkBJcE/gNWAzwCxAG7AT4CzwNjBWAG5wbyBvkG/AbUBoEGvwVNBBcBAPxT9qbxcu9O7m7shumO5e7hS9+/3bTd9t023u7eY98B4MLg6eH24wfme+jG6nnti/A682X2+/gS+6X8pP1j/pH+R/+AACMCsAN/BJsE5gOtArcBSwE8AccAM//Q/V38c/ul+8L7XPw0/ST+y/9MAewC7ASxBv4HvwcDB2EGCgb8BloI9AlEC0QLNgtECwcLTgu9C0QMrwyHDPcMxQ1IDngOVg41DvANWQ3BDLsMcAzcCz0LaQroCfkJlwqpC4EMtQx0DGELOwpdCdwI6wi6CNkIDwnYCNYI3QhFCaUJKwntCJsINghBCFgIZQmJCn4KBQokCaIIHQlUCZQJiwnNCNEHnwbSBasF/ARMA0oAWPw4+Dbzle4/6z/p9+f45RDj+N8m3RHbs9lR2brZedqf26Dc2d2m31DifOXM6Ojr8O7E8Un0ivZU+Az6NfsS/Pv8xv2k/rv/+gAKAsUC1gIzAvwB3QH4AUQCkQGSAPj+Mf2q+9n61/pt+1b8TP2z/tT/VQHiAtAEmQasB0UIkQg1CZoJMAq3CuYKTAvmC5AMYA3vDfwN+A1YDRAMXwvZCvQKNQssC38LiQs6C84KegovCjUK6Qn7CfkJRgn4CJ4IlgimCI0IrAjHCMoInghxCFIIHwgGCBwINwg9CDEIwQd2BzsHvwaaBl8GawYJB3AHmAcqB6kGnAZUBiwGJwbVBckFxQWiBVQGxQYEBzsHqAayBtQGrAaqBj8FMgNpAIj7TvYo8TTtQeve6CbmM+NF31vcFtq/2CvZ3Nk021bcvtxp3UneNOBW45zmjOo27l/xmPR096n60/zv/WL+8/2M/ZP9X/75/6EBXgL2Ar4C8AFCAacAUwCt/7P+HP2B+zb6Kfp3+1T9SP/AAEEClQOFBK8F5gYyCA4JQAlnCXgJ+QlyCgwLhAvrC4UMDw1oDZwNCg4ZDv4Niw1xDZ8N3A1jDoQOhA72DVANvgy+C7AK5AnpCOAHGAddBlwGOgbeBbkFkgXEBWgGIgcNCMIIJAlmCQwJ4QizCM0IMwkgCfQI3wheCN8HYgcRB7AG2AWHBTUFFwVvBSAGvgYrB24HQQfuBq4GYwbcBY0ErgKJAQQBEwERAZ0AFQBF/qD6JvbL8W3uNezm6VDnkOSN4Tbfmt3w3Drd9N2A3pTee94K37Dg4OKh5YToJOvn7bvwxfMs92j6NP3Q/lL/Av+u/hT/LwCIAY8C3wJ6AkgCpQEsAd0AdAAxAFH/Qf5X/YX9Zv6t/+QAnQHXApcDWgSDBZgGpgdRCMYIKQl1CR4JCQkPCQEJIwn+CNwJLQuuDEUO5g5hD0gPzw6qDrUNFw3GDB0MfwsJCsMIBQj7BisGpAUWBb0EBAT2A3MEwwSBBRIGrgaJB5oI0gkRC7cLmQszC1kKZwkQCeoI0QiUCE4IKQgGCGQIFwnNCTkKBArfCQ4KZgoQC58L+gv7Cx8LoAqjCnUK8wq5CsoJPAgqBicEngJMAU//QPwg96jx+ewV6jjoT+ah5Bfiat8B3Rzb9trI2wHdId4Y3u7dP94v3+rhVOUZ6dzsee/L8RL06Pbu+XP84/0T/pD9yfzT/E3+eQCfAqMDWgM6AsIAJgA3ABIAXv8f/i386PqX+mj7lv3f/8QByALdAs8CTgM2BGMFFwbpBWsF+gTsBGoFnAbZB74ITwmxCWoKhwvMDHwO2g/5D+4PVw+/DqwOIA6MDVcMMQpqCAgHFgb4BbQFmAU/BZAEfgTbBNsF1AbGB64IXgm/CS0K/QrJC0EMCwxaCzMKTAkLCW8JyAlkCQAJyQhsCI8IJAkCCgkLZws0C8gKFgq2CakJbQmiCX8J8QihCPMHcAdGBwEHKAY4BDIB6Pyq9z/y3u0q6zzpKueL5E3hr97G3K3bO9uO2p3aadr/2UnaydpK3M7el+GW5M3nhesx7+zylfZy+eP7A/0X/er8BP32/UP/nwB1AeIB2AF1AUABfAHoAfwBPwHS/4H+tf21/db9Yv5S/z8AeAGSAnYDuAT+BQ0H6QdPCIMIawhACDAIbggOCaAJsgleCYEJKQozC6wM0Q27DnQPWw+ID2QP7A4fD4oOHg4UDWoLkApzCbQIIghPB8IGUQYJBjoGugb1Bt4GBwcaB2wHGQipCJAJRwoWCp0JSAmpCGYIlAiwCPMIGQklCfkIeQhoCNwINwmKCc4J/Ak1CjwKVgq0CmMLtwvACzwLcgr4CQIJxQcNBgIDD/7H9y7xx+uv6Ljm7+S/4qPfsdwA2g/YrtcF2LTYX9mj2XDZY9mE2vjc4uCl5Vjqle7z8cf0vveS+hf9Bf+X/4X/Iv80/zgAZgEgAnkCeQIUAqEBpQE0AsICtgKiAd//Hv7t/Gb8W/zJ/DX9hP1t/vP//QE9BAgGGweUB9YHIwh6CO8IYgnWCZMJ4gj5CKwJEQv/DBoO9w5vD6MOsg4mD1EPqQ8SD2kOiQ3mC/wKVgrPCWsJywhZCJMH1wbbBjoHawcfB/kG2AaeBgoHvgfDCNgJFgq3CS0Jdwj3By8IsAgGCSMJvAhyCD4I+AfECLEJzgmrCQEJOAjkB8kHHAhTCDYIcggkCQIKaQplCXkGNAH8+T3ycuui5tLjZ+Ko4dLg2N/+3pneV9/24DziVeKF4TLgAt+C3qHetN884r3loemY7efxdfZy+gb9Bf7P/WH8qPqy+bn5cPoK+2r70vvx++L84f6lAd0EMQd1CJwIoAc0BtsE3gPVAuUBdwF5AaICSgSmBaYGEQalBeMGzAeqB1oGnASEAxYCYADU/xABLwRuCL8MZBCREssSThJVEfQPwg4VDrsNQw0vDakNMQ7uDTsNMgzfCkkJWghoCEQJZwpBCyYMJA2eDgQQkxGCEigSuBD+DXILqwkCCawJQwoVC7gMSw6JDx4QExF0Es4SYRJPEW4QgA+0Dg8Ofg21DVkO8g+XEV8RAg3PAXvumtVGvB2oYJwvmpOhm7AGw+LVD+iQ+P0GchBnFPESGA1vBbn9U/nB+E76ifxv/YH74fVq7a7jidn8z7PIU8VYx27P+txQ7tn/Kg5LF0caVBgRFKYP/QtpCRoIKQh3CY8L8w3vD5MQuw0WB0P+JfVW7s/ro+4U9jIAMgo6EgIXAxjEFR8RWQtCBaIA3f5NAEAEtAmRDywUrRU5FPMQlgwpCH0E0QLQAiYEOAdtC0gPkBErEVAO9AhJAjv9d/vz/WID+AqVEu4XtBoKGzMZKhXND6MKCwZNAiEBRQMBCCQNKhF9EyMTYA/yCWMEif/e/OH8iv/DA2YJahCGF0scXh0zGxAWHQ8vCcsFcQOe/JTttNdivxaqxpvjl1Gfva+JxC7Z4+qq+jkJHxUgHHUdshp8FOQLNgMf/VD6hfiE9HvtgeTm28/Uhc89zSrOzdGw1+/f2Ott+qUIMRM/GHkYChU0ENwLBApuCjMLBwufCdUHxgXhA7cBgP6I+s32afRp9PT3Rv9nCHcQ2BWHF64V/hCfC8UHuAXjBAcFWAdTC6APwhJBFA8UrBBpCscD6v6p/OH8wP/UBFsKlg7hEHgR7A8YDcEJBAcOBaQEngY2CfQLjQ5ZEeoSahLYEAcPfQ0wDEsM5A1DEEAShxMCFHoSlA5rCaAEnAD5/YX+8AJXCToPPRRzGB0axBYbEKoKLggLB90DUP3j8F/bS8AkqHGZXZVVmw2rXcHW11rqDPkHBqMR9BhyGl0XBxJrDFUGcQBc/Rz8Ffm98GLkLNnU0GXKKsbrxlnNl9bw4BPuRP/wD44aGx79G/kWrxD9CnkIoQhsCcMIlAUrAlMAof4A/CT4gvRk8WDu0O3m8hD+WwvSFvweNSNFIS8aSRLuDNQJpAbDAUX8RPny+Q39lQCZBZ8M2hDwDn8L4gtBD30Qzw8SEJ4PgAtJBTEBtv/0/v79nf4HARIF+QpqEewWlRq2G6sZxhQ4D74LHgv6C3cOixKsFusZvhvzHK4cahlLE+kL1wRG/3b8if6LBWwOOxbXGo0aQRPICGMBBP9I/n77Cvf+7iXfXsg1siylsaFto3qrl7to0MvjTvMzAaMOKBgpGscVLw+GCesDAf2Z94n1bfSH76rmr94I2fvTH8+dzXnQvtZR30zqI/hrBkYS1RiMGV8WaBERDDoIywZUBx0IrQZcAwYAav36+lz4DvaA9HHzE/PW9aH8EgboDpgUmBctF8wT/w71CkMJFwnyCfIMSxFoFPIV0hX/ElMM3gNK/vX8Uf7VAQ4IPQ9wE50TahLJEDMONwswCU4IdwebB+QIggswD2cUGxktGhcYFRShDwALQwhrCckNUBF1EwEWxBd4FnwSYA8pDkgMAwovC5kQ7haiGrEcwh0cG+ETHwx5B04F4gHp+UDrVdYqvjuoH5qAlsieCbCBxYfaP+2E/fYJHRIsFhAWyBGTCn8DdP5W+9L4RPat8sPrPeJc2MbQgMu/x37HVMv70nndxOkv+FoG/xE5GAoZBRcoE4oPjwxBC0ML9gqxCVIHPQTZAKf9ufp19+rzxvA+787wPPbG//wKBRXlGzUeBxo4EJMGPQGnADICigYoD9EXDhzJG6oZqRb8EF4JjwOOAH8AsQIxBlQKGw42EFQPdQsQB4cEIARqBRoICA1lEsMW5RnhG9wbJxnlFD4PqghSA04CEgb7C9URshdWHBcdAxnVEb8JjAIK/Wj7Hv/DBcANBhZqHcchjiFqH9Id5hu0FlcMhv1A6vjRr7a9np2Q9I2/kzqf0a/2xNHay+z0+uAHqxPlGoUbTRihFTsTlA5oB8j/TfgO79DiD9Z6zN7G68OPwknE/cqg1j7k+/Gs/4MM/hUwGloadxnLGMYXFBa2E1sREg7SCf8EwgCP/bP5lPTl7znuv+/18+L5ngELCsYQjxURGRQcGB72HX4aKxOOCoUEOAG4/z0BKAeoDokSaROhFLcWCReFFCYS9xB5DzENGwvrCYwJygnLCVYJNwkJCm8L3QsZDFoNYg+nEGARFBMnFaEW2RW9E0gRxQ74DCEMFA1eD5QS7BXRGHAazRn+F+sVqBJTDX8HwgTDBYAH6Al7DmQVjBs5HSwa8RI5BUPt1s2brwKaHo6Lio2QvaFpul7SRuV59YkFWRI5F7wUcRC6DS4LEgeuAxwEUAa0BPb8HvJ457fc09BpxWW+w700wkjKrtb95+b7XQ1pGAceYyDMH7gbKBYyElgQ1g4JDBwJPgieCLsH9gPO/Rj30fBa657or+pQ8bb6cgTDDXQWJB6eIyImWyWUIHcXGgy/ArP87Plt+vD+SAaQDLAQeBNwFQEWrBS4ElcQkw1UC3MJ+QdoBwMIEAkrCY4IywjRCYcKKAuMDK0O5xB+EsITzBT8FEYUiBI2EI8NUQtTCr4KLQwHDg0QlREgEqcRSRHNEasSURMJE70SqhKVEkgSHxHtD2QOagyYCaMFkgCG+MnqY9dkwbusi5zKkmSR35hdpwe6Bs724ej1SwjYFjIfLSFiHukX2w7dBEX8U/aF8jDvgOvQ51jkquAK3HbWSdFJzRbL48vi0Ffaq+fD9r8F1xIjHaYkYigSKFskkh5wF8UPSgigAmb/sP0M/bT8ZfxY/FL8Xvyf/DL9Sv7j/3oBwQOVB0kN9BIzFiMYfRlvGWUWORJpD6MNIgzgCuUKFQzRDf8P1hFFErQRVhBlDe4I8QORANf+3P3K/iACKgdUDL0QpBS0F1gZphltGPAVOROOEMkNagtECnAKrQtTDX4OrQ/3EM0RnRIuE6gTjhRPFSsWAReJF4kXvBYrFgkVvBLfD04NPwuiCdMHkwXhAqz9qfRk5qrUdcJUss6l6pxrmcKbbKPGrv28L84b4kf2hwdcFMYb5h71HXcZahL/CXcBlfmv8krtWOo66Yrp0emF6cToUOcy5STi2N7828nZUtkt23PfxeYx8Jn6GQWqDi0XKh5AIxAmFCasIysffhmAEz8OpAr3B0cGZwVPBdMFnQboB+AIkAitBq8D9P+q/Cb6CflG+av6Ef4MArkGcQy6Eg8ZRx5/IiMlbCXKIy4gXBvXFTsQSgsEBxwEggLaAfMBmAL/A3oFEAeXCJkJVwo6Ct0JdQnrCJ4I+wipCT0KsQo+C1EMXg2NDjcPBg9GDj0N8ws4CpoISweXBqAFrgRHBC8EsgS+BQoHeAhlCS4JHQiuBS8CQf1u9ujtEeXT3JrVQNBhzBTLfcvmzFLPYtLi1gbc2uAh5UXoNerV6jXq1+i+50PnYeeD6Ifq1+3K8eP1RPqb/pwCNQbbCAMKYAqmCRkI3AUhA+UAB/+n/fb87fzG/a3/2gFHBH0G7wchCW0JIwmPCNsHYgcOB/QGVwchCN8IiQnACfwJWwrACksLjguFC8oKrQk0CG0GCwVsBFUEcQR7BCEETwSxBHAFewZrB2cILAm9CSwKQwq4CcsIPweFBegDqgKHAocD+gSkBtYHZgjfCAAJ+Aj3CKII4wfCBuEETQNnAv4BSwLrAisEdwV3BkYHQwgWCb8J/QmlCUAJcAgMCMEHswcKCGMImAioCIcIiwjTCLQIrQj8B5EGnwTQAXz+qvqw9sHyBu9y62ToYuWo4p7gHd9M3tnd290D3m/evt6A3gTebt0H3evcQd2g3vHgnON55mzpiOyq76TyL/Uq9874NvpY+5H8Ev6i/z4B0QKpBF8GOQghCh8MLg7sD64RMROqFO4V3BYPF7sWohXvE+URbQ9VDfEKwQgOB58FtQSgBGIFiAa6B0YIjAg7CHsHrQbQBQQFbAT7A8EDAgR0BCgFsgVQBlAHJAjSCGYJwwnyCaUJIAmeCH8I8wiWCVMK1gopCwYL2wrPCr0KDgv0CkoKWwkGCDwG0ASMA5gC4wH3AFUAcP/K/pL+o/7e/mj//P9PAMAAQwHuAbcCgQMpBCgFLgYnB0AI+AiiCfoJuAn+CC0IqgfVBjwFbgNoAbX+K/uY98n07/LB8VPw0u437UzrDum35uXkC+SQ4+viC+LB4G/fQ96E3VTd5t3p3u7fG+G/4rPkB+fy6cLsu+9k8s30UPds+Wj7Z/1H/9EABAIQA1QEhwXjBnMI/QlmC8IMLA5BD3sQPRFpEf0QBBDzDpMNgAy6CzALwAovCqsJdwmMCWwJOgknCdMIPAiFBxsH7wakBjYGiAVpBDwDGgIgAfEAAAGJAakCvgMIBa0Gdgj7CX4LjgwuDTkN1AyVDAEMrwsgC3IKwQkWCUYIdAfxBkkGAQZ3BdAEQATBAzcDlQL1AVAB9gC5AMoA6QAwAboBJgJ3ApECZgIcArIB3AAkAKD/LP8m/5v/ZgCfARMDbwSPBUoGawZsBi0GrAX+BMkDrQL3AG3+YPtX+P71rvNQ8Vfvp+3b6xnqmOi0567nseem51PnyebN5aDkX+Nk4j7iUeL74hLkq+WM5+HpgOz97oPxxfPe9ZT3KfmH+r37N/1m/mT/OwDMAIUBRQIfA5EEEgbDB6UJXQvcDC8OUw9lEGURyxEGEucRJBEmEKAOKQ0DDPcKHAp3CeAIDgiKBy8HQQdaB5AHlgcsB5oGzgVoBUYFcwWyBRoGSAZpBo8GvAY1B50HCwgqCE8IaghCCEgIXQiHCG0IKwjTB20HIAexBqgGqQaHBjYGoAXsBDQEpQMCA2UCzwHhAC8AyP9y/2D/e/8xAMgAMgG/AUkCkgKVAqoCfAKMAmYCEQL1AbgBWQEJARsBUQG7ATUCBwP4A4kEuATiBNcEbwTSA8sClgHf/9/92vve+UD44/aT9Yj0ZfP08ZXwTe8M7lHtzOxo7GHsIOy863DrNevi6pzqlurE6gXreusX7B/tbu7R7z3xsvIn9ID1oPaL98f4D/pN+6789v06/0MAQQFCAigDNQQ3BUQGQQdiCKQJ6wokDA4Nxw1LDm4OKg6uDfMMBgzjCtQJ4AjLB/AGZAbuBdQF9QUSBlUGZQZKBkgGRAYuBisGHgYvBh8GLQaNBuUGZAfYB14IxggNCTQJPwnvCFAIzgc+B6IGQAZqBqoGCwcoBygHPQdMBzoHGAcoB+AGkwYVBkMFdwTfAyQDggLRAVEB3ABxAEoATACCANAAMwE4AVkBQAHpAG4A/v98/xL/if4b/uj9kP1X/UH9nv3d/Sn+U/5e/lP+Lv78/Ur9jPyU+x36aPiY9iT1DfTn8s3xxfDz7xfvXe4D7vXt2e2k7Yft7uxz7DTsCuwM7G7stuz17FbtpO2V7s/vWPH88nz0/PV69xb5n/rV+wz9Ef6z/lX/DwDuAOAB8QLtA/oEFwZCB24IcglYCgkLsQtUDNsMSQ2YDcINaA3VDFsMrAtRC/cKSAqcCcUI3gciB5kGEwamBUgFuAQjBHoDJAMmA00DTANBA4MD1ANuBPAEvgWZBigHkweXB7wH9QfxB4MHFAedBuIFYAUiBTUFngXmBR8GWwafBu0G+wYbB90GUwasBQwFkgTUAyEDlwIgAp4BLwHVAKEAlQBoACoAJwAZAEMAYgCCAOcA/QDtAM8A1QAEAUkBagF1AXcBYQFQARcB6ACrAOz/t/5y/Uj84vqG+e/3cPbo9FjzGvIS8Yrwzu8t73ju/u3D7YDtoe3c7RPuPe5R7nTu0O5c7/DvnvBD8b3xQPLi8uzzBvU09mH3tPgU+jb7m/z2/U3/qgANAjgDfATNBe8GTAhJCWcKfQtADP0MiQ0IDjgOGw7PDVANWQwqC/QJdwgsBygGPgWcBCgEwAOLA2sDggO5A+QDIgQoBC0E4AOaA3gDWwNOA0sDYwOAA5oDsgP/A20E4gRnBQ4GdAbtBhMHQQd2B5UHqwdoBwYHZQaeBdgEbQRCBP0DzgPkA6IDTAMkA1kDVQP1AsICfwLsAe0AKADO/8H/7//6/1UAngDeADwBkwEiApYC6gLlAuYCxwKpAlYCAAISAgkC7QGiAYoBaAEgAaQAsP9W/l/82/kd93f0t/G97hzs4+kb6PDmNeaf5tDnhOmZ69DtN/Bz8jz0RPXj9eT1VfVn9GHzp/JB8iPymvLk89X1Gfih+kr9r//TAV8DZAToBOkEhQSGA40CzgH+AFQAFgBiACABBQLTAscDxARLBSQFrwT+AwMDwgFzAHL/u/5Z/jr+kv5Z/yAA1ACZAZ0CvwPiBFUGqAcjCZIKAwyPDfcOTBAXEY8RuRGjERARPhAkDxcOIw2/C4AKWgm5CGUIAQjiB9MH0wflB8cHxwfhB8kHfAcVBx4HEgchBz4HbQcECHYI2Ag2CXYJmwm0CbkJyglUCYsIngdyBi0F4gOiAscB7AGlAuYDaQVTB6QJpAstDf8NRw1LCnME2/un8SjmANrpzefCtLkFs/2u462FsMG2L8D+yrbW0uJd7l34FgCpBSwJkwo9CrgIZAa6BAQEegQRBpQINAxqEFEURhfAGJQYURatEewKhgLN+fbw9ehg4uPd8ttX3L7fTOWF7Db1dv5lBy0PRxWwGVscoR0mHU4b+xgjFocT8xDaDoANWw3lDfUNRA0FC5wHNQTrAOj83/hx9Qv0rfPR8xz2lvpvAewI2g8lFl0bmR9QIn8iwSC9HU0avRVwEEsMZgkqCNwHeAhBCmYM7w4cEQAS+BHFEHwOQgt2B8QD6gBv/wD/CwDaAgoHKgx0EXkWxBrwHe0fLSDQHgkcERjNEzQPnAu+CBUH3gbgBisIpAjrB0cFO//A9a3oV9kVyVy4p6iamy+SPY3ajBWS9pw/raLAr9Us693+KBCmHaQmSisTLAkpDCNSGyMTiwvgBf0Bvf93/2gAdwJEBN4EygOXAE77xvOr6mvh29hX0urNysy3zxrWPeCu7AT7Ywo/GdQmhjFDOMk7ADzHOMMyoSo3IiAalxISDGIH2QSJA/IChQEw/4b8b/nd9XjxVuzz53vlduTI5EroDO89+HwDnQ6mGY8juCsNMso0QDTZMPUq6yJmGRUQoAfdAL77DPge9rP1+fbg+O/6Sf2I/0cBJAI7AncC/QKrAyIFTwdYCpcNRRFOFdQYNhy9Hugfrh8rHoMb8xetFGIR/g2oCuMHLQZGBMQC5AG9ATwCKwLtATsBxf8P/cn2QO084QXUs8aRuHCrHqHUmmiYzJgCnT2mGLTIxL3V0uaG9+AFVBEeGHkb+RudGYUVQg9qCboEpAH5/23+8P45AOwAOgEHAOL9SPqo9PbtPeYS30LZO9Xk0zvVG9rC4SvsSfj7BFUSgB4XKVUxVDYoOGM3QjTALu8nlyDpGVkU8A/9C5gIlgXUAo0A+Pzq+Fz1afK678Lsder56i/u/PFH9yL+EAewECkZCyGEJ9kswC8KMP8t7ClNJR8fFhgUEYYKWwXtAJP9dPtm+if64Pk++sv6Evt0+9X7Df1h/u//2gKABtsK0g/RFMoZdh4TInUkkCXwJAsjzR9VG7sWfhLHDlQLEAnDCBoKVQxtDskQvRO9FtAYUxl4GC4WUhHoB2P53eeQ1UjD2LCfn9uSmYtriYOLYZIwn9Kw2cQg2Zjs2P6yDkMaByGKIxgjMSDLGiAUDw4HCokHNAbzBRgH0ghdCX0IJQYsAu778fJs6N3dKtSdzGPHy8VeyPzOodmW5o/1NwW1FOwi5y2fNYw5+TmMNz8yHis1I3EbbRQdDvkJ0gdBBwgIJQmtCsoK0ghgBXkANPvR9VXvr+h+403iTOTi5lzs2/X7As4PVxrUJCIuaDUDOFY12S8FKOweoBP8BsX8XfUV8U/uge2x8Cv2Kv0GA+wHvgy/D38QwA5FDPwJHAdrBL8CZQLPA5oG0QqNDzMURhlGHWYffR+CHgodFBrJFRAR8AxeCtoIIQg8CHkJRwzgDqgQqBHdEswTHRJmDN4BNfM34f7N8roWqWmZBY6/iHiIl4xClfijP7gIzn/iH/UZBg8V2x7NIqEiuiDDHbYX3xB/Cy8JyAhDCI8I6gkUDOAMWAoiBZP+xvYR7Sjhc9VVzF3Gi8Nww5HHAtF03srtK/3ZDOIckyopNAI5vzpeOoA2iC9hJuUd6hYfEHoJyQNRAVIBcAFRAKX+0/3P/Pv5sfWs8QvvD+1c60frne2F8hT5CAFnCicUSx0bJTsrpS+wMFsusSmTI/Uc7hTHDKcFQgBA/R77g/qF++n9FgHgApAEWAZACCIJKggyBwgHLwjYCFQJWQviDhATChdRGosd5yBoIvQhESCOHaMaeBb7EHELwwdZBqAFnQSBBPsGnQoWDUINsAyEDMkHpPsW6d/VEcWbswehOJBPh6WGz4nsj4abpq+XyBnfXPE+AkcTnyCmJUkkSSGVHrUZcxFUCsQGNQdGCL0HHglUDIoOSQ3FB8AA1/ho7g3igtXYywDGCsMow2/IndNB4uLxtgHUEVQhBS3lM1c39TcpNgMxwyn8IpQd9Bj+E5wP7AxgCxsKygdWBJoA7vuz9d7uC+nW5SDleeXr5/Htavc8AqkM6BYFIYAprC6NMJ0v1SyiJ2ggkxiOEWgMSgl4B5kG9wZxCB4L+QxaDX0M5QqICI8En/9a+9r4yfef+Hr7QQADBwcPMRfqHaUi5CVOJ9EmGCRSHx8aExXwEHoNFgphCF0J/wwJEY8SqxLfFMEYghiJEh0L8AOw+qDnk80IuUeqWp3Bja+AjYBhiQWT1Jt6qnHCBduZ7Fb4vwSqEo4ZQhg0FLsSExSEEQQMzwkNDXcS4xMiEqYRhBK2EEgHq/mu7afjT9mZzM/ByL2cvwbEqckz0x7iqvIJAXcMIxe0IaUopSoyKV8ndCZhJKsgWx32G5Ub8xlHFtESbBAQDdsG2/4Y97bwR+s15eDgsd8F4YTkbOkB8SP7PQWJDhEXVB6QJJQoqimKKF0lSCElHcAYkxS0ENANdwzRC9ULKwxYDM8LaQrLCOoHOQeRBYIDGgJRAp8DzQWNCIQMMxEUFfUYOxwuHy0h4yHVIc0f8Rx+GmkYDxYYErAOYw6eDzUQpA+iEBgTyRNyEacNPQpzArvy6dwnx0+2/KWnlAOH8oK1iR+Tm53IrcvEGN+C8oz/Jgy4F3sfAh7IF2gUBRTaE68Qvw6lEq4Z+B68HhYc8BnJFOkJXPnU6EPbNM5qwsq5sLcLvNLDEc9p3QTunP7yC0QWAB7OImskdyLsH3Ae9xxAG80ath2OIoAleCTdIV0e4xeaDSgAkPOr6Ive4tUM0AXQ9dRi3KPlD/Ga/koLeRR1GrweUyEjIdgeQxwfGh0YEhaBFZsWgRcCGJ8XzBW1EiEOZgkQBGn9kPf+8qTwZ/AU8uD2P/0YBG4Kxw+TFOUY2RtDHJ4afBjoF48X0BXIFIkWVxp4HRMecB6zH4MfqR28GRcWQRNGD1YMzAl4CFMIAgdhBCf8k+w12BTEa7RrpOWSjIU8gwiMRZYbom+1ctD+6gf7jwWYEUUcGx/mF/UPUA7pDgQOQgxtD2MZQyFfIp8fZx2FGlIPKfxL6UDbBNA6xHi6SbgPvuzHodK03pbt9/y5CAAPiBJ+FsgZTRqaGAUY+RpMH1wjTycMK1Eumi4EK3ojExhSC639U+/a4enWVdLY0y3X39sT457uD/xWBjENvhJhGEIcYh1QHVseqCA5I0YlxiXxJSclbiI4HXIVXwzOAnH6U/Ra8Jjtkuz57q707Prv/y8EZgjSDNMP2xA5EPkP/BFxFQ8ZhBucHv4jBimBK3crkilmJ2IkPR8EGEQQ8AsnC68JsQaAB54N/xJkEn4OrQx+CnEBlu2C02W6bqYRmHyKAYCHgOmNq5/Are28/NLG6tD4s/uk/ekCSwbiA7n/RQH7CdsTthkYHpslqC1/LiwlJRgzDQgBkO5w2XvKQ8QSwyvDTMVTzK7X8eNZ7XfzRflr/wED3wK7A5wJ+hF1GekfICiwMUA4LTrLN9My+yvvIWEUYAXS97nsL+QJ3k/bItwu3/jjcOks7ujxX/VG+Wj97QAeBdALchT8HFckmyo2MJg0zDRqMDopUSF4GacQ5AeGAVv+BP1B/SH/XQHVAYEB7gEeAvAArP1t/Jn+FQInBUEIuQ6SF0UfHiP2JG0ntymqKBEjjByDGCwXDBYGFJ8TxxZFGjAawhd4FfATfhJMD1UKOwSW/fv3AO4r2RbAO67epXGcOo3bhFyOM6BqqpGwMMAu2Zvst/F88if8fQkmDkAKqAkQFJ4gnySqIpQl1CwlLTQiUxOuCJ3/uvF54ArUx89Yz53PltBb1JXbHeI35vrpqO708nr1l/iO/oMHiRCPGAAikyv2Mr42UTdqNqgz5yyOIqIYThDYBpf7t/J77jPra+b04lXk1ub35YfleOle7v/w1fR6/X4Hcw1EErUa6SMcKGIpQSt5LN4qZyV4Hk4ZzRUQEe4KLAWOA1cFbgRK/6r7Jv0e/rz6lfes+Sv+CP9G/ggCFgmvDioSLBacGxggJiKvIxklayS0IQ8g5h9/HngcGxy3HC4cDxsgGrcYZhVPEZEOuwskBRz7Ie+f3JzDlK0NocOYP46/h9+PxqBGrBa0EsJR1bTi2eW857rviPju+4/+gwbPEiIfmSf1LNIx0zTLMuIp2R0DEwYJbv3d8JPn/+Nl4xbiQuAd3+bfR+GD4JDeQd544KrkP+nT7o/3xAIADvwXFSDnJbMqUC0yLNYo5CQzITodTxfpEH0N1wtrCD0Dzv7Z/Gn6+vRu7+7syOtn6Vrob+tS8Z/1GvmUAIsKSxHFFEkZvx51IJ8eux6QIHMfXRtXGXcauxkEFiIUyxQBE34NwAiABiQE8v8e/Ur9yP10/Y390P+MAvYEIwf0CL0K+AwBEEYSvxKRE54XSBymHSsdbh6MIFsgJR1DGtQZEhgwE6MN8wlFBs/+3/GW4VrSPcU8uV+tqqN1oO6j/KdoqkiwK7sixi3LucyD0gvcnOAz4Abkw+4O+q3/DgWjEEsdgCKcIaMiVib/JdQedxcsFIoRgAygBzIGJQYpBEABwf8V/079t/rW+F338/TX8krz7/QV9mH3kPrg/vsB8QOuBjEKlQtCCo0JeAq9Co4J+QiqCugMAw7EDq4QeRKpEh4SohGjECQOvQvmCv8JqwfrBcwGbwgnCFEH/wezCHkHIQVEBDsEagKR/5X+Sf8H/8v9n/1y/wEBDgFEAUACJgMZAzUDFwQ0BE0DcQJVAokCGgImAkgDZgTpBMwEDgXZBZsGTAb6BW4GsAaJBrAFRQVeBUEFswTxBKIF+gVoBbsDlAIXAoYBEAA0/jz8kPq2+HT2YPQO83HyFvHm7hfttuwV7R/tY+yg66zriOvT6gHqV+qx64Tscexu7PbtKvBS8YjxYvI59Jn1gPV39aL27/fH+Jz50Ppj/PL9Pv9kAHsBVwIxA2kECwVtBXcGrAeRCHoJqAq6C/ILWwvpCnMKsQnrCF0IFgiLB+8G0wauB8sILgmACaMJmgkZCeUHlwalBQEFIgQYA4UCsgLjAncCUAISA5YDhgMHA/kC2wIRAqIB7QF3AmUCoAJ8A2wEywTBBOMELAVEBRYFNAVZBWEFYQXOBXAGoQb7BlcHdQcbBx4GVgUgBbIEtQPPAmUCzgItA/0C3wL/AjUDuQLDATEBCgG6APP/+P5T/of+Fv9K/5z+0/1P/Zf8rPot+M72r/UP9Jnxau+V7k3unu3S7Izsiez+7Jftvu327XzuO++P73XvGfDG8SPzk/MG9FX1vfZS9+r3EPmq+pT7Ivyp/Xj/SgBgAO8A9QF3AocCIQNBBPgESwWoBbcG6Ac4CBAICAgJCHQHugYEBsoFmQUiBSEF4QXmBrwHhghQCREKOgrxCa8JYQnjCAMI5gYNBt4FwgUaBV4E4wP0A9MDSQOSAkYCbQImApkBkAExAsACHwM7A5EDJgRRBPIDaAM8Az4DXQM9A/YCOQPUAz8EKQR+BOQE9AR9BIMD2gJhApcBewDA/0b/Mf9D/0//fP+Z/6b/yP8SAPj/mv9w/1X/PP/n/uD+Jv9X/y3/A/85/1X/Gv9m/t79QP1F/Bb78fn3+DP4XPda9tj1f/UA9Xj0+fO484DzjvN984/z8PNO9Lv0HPXH9ZH2fPc2+CT5Pfpb+0z8IP1a/nf/ZQDlAFQB7AFVAnUCUQJ4AoQCLwKkAVsBCwFWAL3/Ff/b/oH++P3Y/VP+Bf+f/0cATQH1AnUEtQW5BtYHFgmhCcoJOwrbCjILDAuUCkEKQwrDCcgIugcEB54G0gW0BBIEBwTpA30DEwNSAwkEUAT/A5wDngObA/8CTwIIAioCFQK7AWUBrQFcArIC4QI+A8YD6AOhA0YDLgMTA8ACGwKHAXIBNQHcALwAmgBbAAwAj/8N/7z+Vf7Z/RH9cfwi/MD7RvsP+/P6yvqa+if6Lfop+uz51fmp+Y75sPmX+Wz5tPn8+R769Pna+dv5lvlW+e74r/iz+Kj4cPhY+I741vgG+QT5JfmO+dv5+PlJ+vz65PvE/I39WP5d/4gATQGZAUoCBAMvA+4CeQJdAjUCuwEXAb8AvwBvAAUAx////1kAqQD+ALsBwAKkA3UELQUbBqoGAgcxByQHMwcrBywHAwfgBr8GlQZ3BjEG3wV7BRUFpwRmBO8DigNNAwMD6wL7AkkDXQNNAwkDxAKIAvgBSwGsAOz/Gf9M/sb9nP1o/Wz9cf16/aX9s/3d/TP+bP60/v7+I/9r/7f/IACQAO4AHAFVAZQBggFcAUMBBQFlAKf/Ev+U/g/+d/23/Cn8k/vY+j76r/kv+bj4IvjI9873/fdr+N74f/lw+k775/ta/M38Mf1W/U79Qv1W/XX9ff2L/cX9I/5i/qT+7v5I/5X/y//i/xcAYQCtADcB5gHIAmkDLgQRBcMFRQZ+BqQG4QbgBoMGSQYbBsgFTgXvBJMESwT3A70D7AMFBOUDygPpAzsETQRPBJMEkgSBBEgEFAQIBNEDaQO/Ag8CqAE0AZAAFADF/6H/Vf8g/x3/Tf+f/+P/OQDAAFIBnwG+AeABDQL5AaUBRQH4AGMAqf/d/gX+VP1u/Iv7z/ob+oT5KvnC+JX4sPjH+MX4DfnQ+aX6m/uz/L39p/6L/1oAFgGMAeIBKwI+AjkCPgIfAvUBmwEwAb0A6v9O/5z+1f0c/U/8hvv4+q76iPqf+tP6a/sY/MD8QP2w/TH+mP75/jj/cP+t/+n/FQBqANEAIQFNAWMBiwG/AdEB6QEAAvIBxwGhAdMBDAItAkoCkQKwAsQCvgKBAl8CLgK3AVQB6gCQAHQANgAzADYARgBFAGUAiQDaAFIBqgEZApIC/QJUA98DGgRUBGIEQAQXBKIDPwN6ApgBvQCt/77+5P0r/YD88fuC+0H7X/ub++n7c/ws/cf9VP7Z/nX/KgCHAN8ABwE0AUABCQG/AFEABQCF/93+EP5//eL8Q/zA+2v7H/vS+rz60foN+2n73ftL/Pr8ef0i/uj+nf9KAPwAlgE1AgkDjgP5A2kEqgS0BJAESATwA6ADHANeAqgB+ABfALf/Sv///uD+v/5s/kT+Jv4p/hr+UP5f/k7+k/7m/kv/n/8DABQARACFAI8ApwCzAMIA5QArAVQBnAHoAf4BDQL5AccBuwGWAV0BHAHhAKsAngB6AGwAMQDV/8H/m/+R/1X/M/8A/9v+u/6c/mz+lv7E/gL/cv/d/2AAoAD5ABkBXwFfAT8BDgHGACoAaP/N/hb+sv0i/a78hPyK/JP8uPwi/aD9Dv5h/iP/w/84ANcALwGpASACfQLNAvoC/ALOAngCIwLmAZABDAFcAOb/sv92//3+tv6b/pD+aP48/i/+L/44/kb+YP6K/g//ev8MAIoAGwGWAbIB3AEdAlkCOQIIAtoBnwEzAQYB7gDsAMMATwDp/2v/7/40/l/9dvwf+3b5XfgO+L74d/pu/Gn+NQCUASACRwKnAiQDxAM8BJQEbQTJA9oCRwIDAgACVgJUAkQCMAITAqoBtQG3AYEBDwGAACUA5f+0/4L/l/90/2H/Cv8R/zv/Sv9G/yr/Gv/9/tv+uP4Z/63/eAD7AHcBAwI6AioCQwJ+AnECUALlATABjwAYAHb/9P7E/kX+rf1D/e38tfx2/HT8wPw0/eP9sv5i/zYA1QBtAeQBLQJwAmgCVQIwAtEBOAHCAEsAHwAKAAkA///7/wAA4/+P/yr/8P6J/hz+s/3L/cX9uP0I/of+Ev9p/7n/HgB/ALAAmQBfAGsAcQBlAE8AHAAvAFMAawBsAFMASQATAA0AHQA+ABEA0/+a/2z/V/9B/17/hv/I/7L/tf/X/xQAIwApABIAPABxAF0AfACRAKgAkQCwALcA7wD0ANMAwQC5AJ4AiQBuAH4AwACpANIA0QAWAf8AxACdAIkAqgBvACQA2/+P/z7/G/8c/37/sP/P/xsAegDHAK0A2QAJASIBUQFlAYwBjQFyAQ0B3QCcABQAqP8a/8n+af4O/rP9lP1+/Vb9Av3t/FL9u/1U/vv+5v+JAEABiQFnAVIBEwELAe0AzAB1AEYARQBFAFIAQgAkANv/iP8z/93+i/56/nj+ov7O/v7+Xv+e/xEAPwCWAAABLwFgAV8BLgEDAf0AHQE0AdsAZADS/5r/V/8l/wb/J/9p/03/Tf/m/rH+yv4M/zv/l//y/yYACQDM/7b/mP/p/1YA4QDvANwA2QDGAMgAkgBtAHQAeABzAJUAxQDWAOMANAF3AYwBfgFxAYIBjwEdAaQAcABMADIA7f+d/1H/YP8y/wH/xf6W/pb+lP7C/uP+EP8H/1X/gf+a/77/AABzALkA1wDAAMEAjACYAIkAKAAAAOX/vf+C/0b/+/6s/l7+Tv5f/lX+qf7F/t7+Nf9V/0v/Rv9a/4b/x/++/+H/PQCUAK4AnACdAJYAtQC9AKUAhABnADwA9f/1/8n/pv+E/43/AQBAAEsAMwAwAEEARwAtAGAAegByAEoADQAKAA4ALgAtAEsAQAAmADYA4/+l/4L/Lf89/47/o/+h/4//qv+h/4z/o/+4/+T/4f/n/+P/3P/1//z/9f8EAPb//f/d/9//DwD6/yAAHAA1AFgAXAB4AJ4AwwAAAQ0BBwEtAU8BSgEOAQMB0wCHADUA/P/x/7r/rf+0/6j/zf/F/7H/pP+h/6T/dP9j/3L/iP+c/6//wf/i/+T/1//q/+n//v8SAEcALgAdAPP/zf8AANr/5/+x/5z/ov+Z/67/8v8UANP/sf/E//T/7P/9//3/OABJADsAQAAyAFAABAAYAEAAUAB+AD8AOgA5AEsAVgAQAP7/8P+u/5P/sf/U/9P/s/+g/7P/4f/0//D/5v/s/wMA8P/d/+j/2f/I/7L/xv/G/77/v/+0/6r/0f/e/8v/3/+h/57/uP+q/6D/sf/j/xIAJwAyADQAPwA6ABAAOAAxABwAFgAhAFcAOwApADYAVABLAG0AkACWAM8A/gAjAdMArACnAKAApgCKAH4AawBRACAAFgACAMT/kv94/4r/nP+a/4v/hf+F/6P/pv+K/4P/gf/Z/+T/7f8pAFAAegBoAFcAZACKAHYALgD1/+3/FAADANP/nP9c/0L/bf+i/5z/j//B/xkAMgASAND/4P8AAOb/4f/o/yYAeACkALsAngCdAL8ApwCaADMAz/+v/47/i/9p/zL/DP9N/3T/Kv/6/vf+L/8y/+D+tf73/hX/E/8v/2P/mf+L/7T/sv/f/wMABQARACUAOADo/wwAIAAWADEAZACJAHUAhABLAE4AOgAfAEEAOgBGAE8AfgCOAJcAYwBQAFAAJwDe/5j/jv9z/4v/Ov8K/9P+YP7f/U79YP2v/fL9t/0X/iz/KgDyAEMB/AFnAmACJQIJAv0BkQFJAe0AXP89/Nz5E/m6+NH3+Pbp9y/7Nv5A/1AAFAJFBJgFegX+BI0F+gZ9B/QGwAVtBXoF1wRIAykBpQA1ATQBrf++/Q39w/02/jD9jPx+/Xj/mgACADH/6/9gAYwBAQDB/sX/hwE7AsQB9gGwA2QFZgX+Az4DYAOaA6oCDgE8AMEAzAFuAWMA7P9rAH0Aqv40/E/7Avza+2b6TfkI+s/7ifwx/FX8F/47ANIAZAB6AGgBcAIAAlsAtf8+AFEAe/9m/hz+Af80/wf+uvxP/N/84Pzz+377YvwM/tL+Sv5C/hP/9f4G/jD9vfw0/cj9W/6i/wABUAJGA3MDHwOHAv8B4AHRAZABtwGkATQB0AAiAMX/vP/P/zYA0QAaAVMB8wFIAu8BrQFbAuACSwLdAW8COQNkA7oC9wG4AVYBHwHxAWgDXASkBHIEyQMxAwcDxANGBe4G3gdnCDYJNwlvCJMHnAYSBfMC+QC1/8f+pf3s/Lb81/zL/P/7Ffti+rz57Phe9371b/QR9Af0L/TE9Bv2Kvca90r2FPW481fyy/D97zPwd/AS8XjycfRu9ib4l/mZ+jT7Wvs/+3/7MPwS/T3+dP+3AK8C6wSeBs8HpggYCekIKghkByMHkgdNCEEJkArxC0sNmw6LDwYQLRD/D48PCg/GDh0PIRB/EQkTBxXSFnQXYhc5F7sWHBXlEacOvQyzCsoHwwU+BoEIvQk2CYwJAAxYDv4NwQu6CnALXQs3CVUHBAmoDTYRNBIuEi4R0Asn/63tkdzAzdW/7rLHqsOpDq7jtGa91cjL1ljjt+ur8Cb0h/ey+Rj6Bfuw/o8EkArmD4gV0RvqH2ofaxrjEhMKvf+m9Bfra+Ry4IvePt5E4Gvkbunx7WLx3PML9tf35vgh+r/8/ADJBfwKsBD8FjUcQR7vHSQcXRj+EWIKLwQ8ADD9u/o7+tD7NP57AOMCRgXGBiUH4gY9BmQFLQXFBsAJuwzlDyQU1BiGHNUeFCDRH3sd5Rm+FbgRWA5EDAkMYAykDFwNyA42Dz8OywyyCxcL8AlmCSgKHwxTD3ITahepGt4c5B5HID4fwBwcGvgXBhYXFIQS4hFlENsMxgaL/S3w4t3JyDi0i6P4ls+OJY0Kk++eXa2ovH3N8t7t7SD4D/7xAXsEEAbJB8sKNxDkFrgcryBbIiUi5B5iF50L6fzX7f3fZtQHzDHIvcj5zETTJ9q64eDpzPHL9+P7uf8kBOgIMA6UFFYcuCRJLMcx6DSJNdwzRS+LJ78dcBPNCYoA8/e68MfrsuhM5pTk/uNf5Inlo+bs6DzufvWf/ccGGhJfHkcovy51M5M2lzXsL4koaCEIGrMS8wwnCmYIOAagBDkDKAHE/bb64fhJ9x/2lfaR+Z/+uAT6Cj4R8hY3HKUf+R+8HncdBBwoGTMWVxW3FdYUghOcE+oUARWRE8USQxJVEOIMUQodCSEI4QW8AZD5Neuy1vO+GaqnmhCR/IyHjyiavan7uOfGr9Yo6MX1BPwB/vf/egJCBJcGLAwIFOEaNx+XIYgiRCFPHXkVYQlq+rDq1dxy0h7Nz8xo0JHVhNpl3z/k++nK76r0XPjN++4AUgeFDk0XsyGsK3kytDWgNis14DDHKpIjaxtzElUJIAIc/ST5bPXx8bHuiuuX6DDnG+j96X3sGfD+9T79LQWIDY0WUx9xJY0oNin9KAco4CXUIkcfLxvMFtUSSw8qCwMHqgPWAGT9FvlQ9hf2wPYm92f41PvGAAoFaQg8Dd8S2xZCGQAb/Rz4HRsdvxufGhMZrBYNFMgRUg9QDM0Lqg2GDjgNVAzJDnoRXhBQDQsN6Q2xB4b2RN+AyCa0MqBGkBaK6o7mmcOk3K+QvA3LLNmC5CTsdvHM9Qf6hP+ZBtEPrxoKJSosui70LVMrVyamHbgRJQSP9r7pDd/52BjYu9ow3YzeHd+132ngZuFs447mTOu+8Dj3wf6RCE4U1R86Ke8uyzE1MqAwlC2xKeYkXB/nGZ4Umg7dB28B7Pu/9eXth+bt4R7ged+v4OzkAezP81j7MgM+CqoP7hNHF04ZPhoUG2gdEyFEIyEk+iMLIychjBwPF0UR9ApsBJL+LvrM9xL3lvcT+cj6ffwH/tD/hQH+A5wGvwj8CtYNfBFVFUMZeBwoHkweRx2kG9MZLBcrFOoRORBnD7QPyxCVEVcRNxBTDnkLWQgUB3QH4Qa1AVL1WuN+z6K9C6/So8Ce/aG0qgGzD7vMxaPSWd0e463my+n06e/nQ+n+7qL3dQBNCdkS/Bm7HQQghCHmH9EZABGlBwz++vTc7j3ttO7c79/v/O8Q8Kjv8e3364LqLulp6FjpxO2B9Pr8MgZCD74WihsRHzMhByJ7IREfRRtvF1ITbQ9fDQoMYwrMB8gDsf4y+W/0qPFC8BjvBe8N8Xn1M/rl/gEFzAtGEWYUeBcCG/IdTiA3IlQjjSOZIn4hwR84HI4YlxU2Et8M2AcKBRYEowJQAQECRANnApIBkwQZBhsFpQT/BtYJmAj0BoEIrwvVC7gIWwhMC4kLNgptCvYLRAzuCdsImgjeBu8EogI9AZEBzP4e+/b6svua/DT98/xR/7j/fvgv7ZfiGNldzjTE4r3zvAS/r8A2wzrIks6A1VbaO93b4IfkK+bo5urpQu+T9Tb7HgG2Bw0N6g/TERsThRHRDWEKJQdIA1AAKP/Q/tD9bvxa+z36yvjw9/r3qvcI+Ef5lvqO/Dn/fAJjBuwJJQx4DZ8Nqw3DDacM+wr/CXgKBwv9CiIL2AyjDpsOuQ0MDW4MGwz/CqsJYAtSDOALPw7eEP4QbBH5EQkRwQ+nDXEMuwynC2oKmgo/DJYOPQy/C+8O0Ay2CiQJlgajBRgGjwLs/fEB3QVTApP+UgMfBycCsv0G/3kA4wCy/NP55QRiABL3tQCC/l364QKA/KT3BwTY/zb0fv5BAkv3kP9XAZb4v/5gAND37PgR/3/1G/U3/eH1u/T/+7r5Y/f49Sr2FvmR9HH1PvaF9R/6Svjo85T67/95+An9pQJ4/RX9y/iV9VP5S/S57fDy8PO28Rjy2fF+9yL4Y/Xw+Db6CvhX+UL4tfZs+2v83fmR+8L/lf5l/K/9E/uV/FUArPg7+s0Dy/6N/QAEBQI7AskGRgKEApwMFgVP/7kLOQsNBmsISwaWDykWnAWnB08VURGqCHwFJwnmFBsKY/6jEOQN4ATXBzcKKwo4BN4E1QuvCdgBTv8PEZ8P6/itCQgT0gceB4cDdQhtEML7LPzTCL4IA/t49gYPyQB6+EQAxwIRAO71VP/5A1b2qf32/ED/Q/8D8nQDEf/Z/E33UvvBBqv6/O+uBdUDkepiAg8CtvTO91X9YfwV+3n08Pwd/gD8+PnB838JE/pg89QBjgGv+Qf8hQE3+QEAKgNU+af/UwOI/VECi/2WAE8AFP2NBEX6DPblC3H8KfMOC177N/3yBD36+PsxA6j9z/m8/g/6kv1q/I724vqiAfb3ZvqeAHT5LgO7/pv65AFlBa4AK/xxBQkDowM6BVIAuwZsCBwAiQbWAmH//gm0/1v8CQp1/mD8gQqn/wb/1QMoA3sATwXf/KkAhQMiArAHXfZKBwsNTwDp/2MH0AWAB54B7PnPD/cF0/cOBsAERwLZApD1qgeQBcP2mP1iAHIDHfk0/Pj9hwLK/Sr6FAJP+2cF3vpD+q8GDwAW/XD+4P+DAYgCJ/ZMAa4Ft/sY/WED//35/xkG1fjaAIEEg/56/Vr8KwCH/w38Kfyq/mz8qgBYAMX3TwbrAcH3wwUqAsn6EwVkArz+twnb/YUCuQre+xEFcwlB/OwB1Ae4/IMAHAXn+SAARwTX9wn7sAQM+qb15QPR+RT7Rf/P8xsFUgDY9C3+3gPD/iX+L/yz/Y0H1vuK/T7/pgYjAj/5gAgtBkX/CAJpAv3/kQf9+6/5sAnS/jn6OP4pAOEDzPdW+0oBkP+m+2z26AKP/1z6Zvzr/QoEZf9Z/JIG4QSV/gkGJAVi/0gKDwIbAtwKM/+3BMYHDwFG/xMKMgB5/5ACcf6SAMz83QP1+Ur/XwMc+0sATgPA+jb/BwgY/Z3+hQKLBHT9MQDIAd78+wcy+0/+CQYxAc362AGJA0f9YwNK+MYCYQHN+tf+RQEc/MD/VAAz/CcE+PuQABv/6P1/BWP7y/1fB+L87QLIA1v75wcGAor9mAZ//T0C1gO//OAB0/4g/t0BR/rU/KcCRfkJ/kb+Q/1i/yf9FPyqAn78KfxoBqn4XQPoAO3/ZgFT/c8Fpf3S/50AvQLWAMT9i//QATUETv4m+EkGHQVQ96wDZf+EAFgEbfvu/H4B3wGJ+iz8CgP9/Tv8KP8kAar/h/o7AYv7cAJd/iP4SwQrAAX/rvs3Ai4BIP28/j0Cjf24Ah4DBPzPAZcDqgGQ/CEFSP9zAaoFlPlMBYoEgfuZADcDf/6DArH/TvpVCvD6KvtLBlL7Mv6H/Tj+VwKK/af/6P5LAI0Gkvsw+z0IlP64+qkG5/tVBDsBDv+GAHD/qAnj8UoHIAdP9bcF+f4LAlwBv/3G/IYHOwNy+FkE0gN0ANABbfzEA+QCivnGAzICzf1JBUn8u/w4DF/0wv5HCMn10AX6A8/2EwXMCNr11gEmA/v8wQLG+kABEgJR+msBtfrC+mEGCPSr+IQKrPXr+iUFUvskAFUAVwCa/w8E4wPK9+kLigR/+T4JdvofBwP/WPmQBQD96gI3+bT6LgcU9jz/0fts+PYI2PGmALoBwvtMA8P8DwHAACUGX/wtAUoK+/VACz0CxfpaDNABsQGFAAIOQfzNA8ILRvhoDBcDzvs/BdECDAIN+EAHn/xw/JIG+vfaAnr8Tv9A/9T4gAW/+4L8EwPk/OUAGP5RAlT+6PllByD+2PonBTf+jvoUBPAE/fXjAPQIh/otAIgHmfeBAncMMPGD/3QIM/35/432EgZ1A8H31QLa/OL7ZwZI+5v4LQmN+kAAuAGj/vv/9QRHB7n++P6XBz0JRvozAzgBcgOmAc38sf8uAhD/w/vD+DYBSf4P9mYC6vdTAr/9YP0+/9n7iwXu/1n8cP+ODaz6Mf/bBD7/bAG6/EsAMf3cAPj/7/s6/MACCf0G+ln9Of3H/7H8Lfor/0b/q/m6/vr9Zvu0Bmn7GwBbBVcGcPzC/fIQVfptAR0IgwFsCU0BSAN/C6H6Iw1O/qn5/RJ++b38RAaE/TcE0P3I+roIT/oTBFP+pPgxCyz86vjgBD/8dANK/X75DwUE/A8C//0E+ysAfwGI+dH+Mvm3BBAEzPPOCXz+Qv44Anj8nf+Y/p/+NwPx+dj+XwUl+MwARv6Q+vYAZ/wW+CAC1/ri+ecASv2G/5kAJP9G/gUHMP2V/rwHWwWx/nEBPwuG/s//mQhHApH+TQKnA+EBmf7A/nT/6gEcAYL8FwD1BB4Cyvzv/ZsCZwGgAoz8UQCFB18AuwH2/SQCAQTi/e389/7ZA2H9qftJAsj5PQDW+Xj7AP41+Yj+NfYW/Zr7ePvT+Ev+AwGd+kz7Bv8cBMH/n/kt/8wF6QLU+uL8gQeV/mH/sf7B/7IIafvq+dkI3QGI+yEBDQGQA9z9af7WB7kAN/9oAbv+JgOGA6v7aAHCBzkDJAORANUIqgQ9/pMGJwZVAjUA/QQOBDoCv/xG/SgLvP7E9coBVwLzAkH7KPmGBYEH6fvp9x8BjwNIAJr1Cfx6B2v+1/eB/af9ZQCE+X35tAUM/p/83/+V/Of/hP8q93AAbwHL/z/6AP2cAyb7q/bj+2b9XPqH/xL6e/7KAjf/1v1pBDD8gf4LBm75EwGC/5H+XQXZ/hcCywbKAI0DBwOo/9AGaQHLArQEE/0NCFAE/vstBT0HkAMFBl0EewXXAS38qQMk/q4C9gTG/gAHHQhjA5kCLwQqArL+j/0aADb/N//P/kgA5QYKAFr83AF2/C/6DvzN+qf/bf3l/zsBX/pN/l36DvdE+kv3Pvxg/Vn63v2b/9ICIQCM/ev/WwB0AAT/fv0n/54AovzE/qIAK/8fAjoACgFCBAkCWACBAXwE+wNzAnIDfwT5A50AKQFKA5ECNf4J/tsDIQCt/KsBlQRlAhIB/AHaAwADE/5j/gwEDQXI/+D/fQXEBQAABgEIArUBDP/J+hz7D/zq+jv3T/sM/Jn47/n3+of9Rf8v+0YAIAPu/ij/VP6P/0kBrPym/l4F2gD5AewDywItA/IAZf8IAdEA+vzT/IX9z/59/B370f5a/pj8Nv12/Tv+Ef8C/24AJwODAwcEkQYMBmgEWwIxA9gC9v6T/1cBogHcAPH/yf9fAAr/W/5p/wT/KgBw/zP9x/6Q/s373/xe/27/WQCaApYEKgaLA/MCQQRaAWUAHf9a/sX/mv4l/nUA4v8U/qL+uf5A//r9r/zl/hP/6P3c/goBggTrBBoDowNmA7EAMP8p/in/RwA0/8AAjgJAA0sD6gJeA4gBo/3H/GL8/PvN/Ab8SP7LAAcA5wI/AwwF/Ae7BSkGBwcpBL8B6v+L/Cj9Ivvc+RH73vhm+i78+PpP/jT/zvyp/7H+p/wd/qn7lfuC/bz6qfyz/Un7TvyR+yf6c/sJ+YL3Afom+UX5fvp7+4j85/yc/I78dvwX+4n6aPpj+9L88PxH/kMAawDH/ykAqv+d/u/9jf4GAJgA2AI2BL4EDwafBkwGRAaSBrsFtAUDBkgGgAfTCJoKGwzrDHAOVQ/GDuUPQhDlDdINvA0dC9AKEQs9CzoMsgwlDXgNwwzCC58KcAmFChYKjwi9COEIvQetB3sI/gf6B90H0gbBBjkH+wd0CgEMIA2nDDsKRAn1BtkBjP69+9r3zfRl8qXy7fMg9Vz3DfkT+C314O/96C7jFt162LTWG9d82afdfeLt5rbsJvEn9ND1x/V39r313fRg9Rr2J/Yj9wz4evdG99b1mvND8bntMuuk6rzqwuxF8O3zbvkV/oUBhgVKB7QIOwo7Cz8MHQ0VD4wRtxNRFcEWMxcyF/0WhRU6FAYUBRTLE1EUJBXMFqsYChq0Gxkd/B1ZHd4cAB1vHSAexh7MH1gf7hxJGSoVyBDdDk0OKw8BEo8T/RTgFPMSdhE8DqcLqwlVBb0EzAXDBdUHOglACWsJ6wVFAb//LP2U+8H7OPup+qn2Mu3e4QLU0cPmttessqdYqhuxfLstyR/Xr+Tz8Gj4jfy8/hH9VPqP9+P04/Q59VX16PaH9m30yfFZ7E/mmuCv2nLXm9Yz2OTdweUX7zH5sgGnCGkNbA9TEIYQChCuDykQfxFKE0cVVhddGJkXKhUhEVYMegYCAAP5kPK+7ivsPeyG8dL4kAGPCrYQXxfYG3QdqR+cIH4hkyGrH/MelB4DHBcZ7xQuD/4IXAL0/V/8ev1gAJ0Enwl0DW4Q7BJ/FOcUBBTOEZQPvAzDCnAKfgoGDHYNug3JDbMNBg38C94K2gk/CB8GAgQEAsEAxgCGAasBwAJGBAAFTgZRB5sHAAisBuwDfwGB/pX9b/3i/Hb+3P9KAPcAR/90+yz1WeiI19vF1rVIqm2k7KXprvS6j8cc1T7ioe3K9fv6k/3G/RH88/mL+Un7fP04/5AAyf8Q/FD2K/CN6pXkEd/z22nbF93w4drpP/Pp/KwEBwo/DacOqg5QDpkODw/4D2URwxOCFvAYEBq8Gb8XfBOZDhIK9ga2BE0DUQMuA+gB5P2r+jL7QftF/VICWAjfD9ETlBaCHJYgPCKfIh8hlh5SGcMRrQ3QC2YIPgVzBOwE1QTyBFcFJwe7B/EF0AV9B4MJ0wvgDhkSNxTSE0IT3hKgEPgNjgsaCjsJIAl8CegJ2wnSBxMFMQKMAOUAAgP9BgoLCA60D38Png0XC1gIWAZQBAAC2gAyAAoBbAK3AycGeQeHBtUDgf4c9vvoNtcrxb+05qe8oVukTK6OvKHL/NgK5tLwIfgl/WsA6gEqATv/f/79/78B4APHBGwD6P7W9ifuZ+aZ36zZutbY1j/Z1N6655Py3fzcBLIKpA2vDZYM1AsCDb4O2w+vEU4UKBaoFsQV2hN1ENQKqgRg/3P8DPsW+9X80/7o/nL7dvc09UnzxvLp9YT7egM7CtAPSxgUH9AiMiRUI+wgLhubEw4OrwoiBxcEagNWBKEELgTeAw0FfQXvA8IDNAUlB4MJvwxbEb4VuxY1Fr8UgBByC1EHiwU0BocHBQkXCzwLTQj/Aw0AxP1Z/YX+/AJKCekNXBIHFToVFBOiDYoHkAJV//3+VgFmBegIUAn0B/4ESwKHAf4ARv/B+DnsgttwyB+3NKu7pt+pE7HDuq3FStEb3vTpXfQy/KP/PQB//7n+FwB5ArYE+AWMBPAAP/uD9fvv/em940TdYNh41bzVkNoT4/LsJfYn/YYCZwZYCLgJTgu9DLkNYw7VD98SGhaUGOYZRBm2FV4Q3gp0BsADGwLhAZUCfAMEBNYEwQUpBQcCm/zl9wD2tfV6+DgAwgmAFO4cHyK7J08qTiknJhIh/htoFvEPuwv9CWcIZgekB5gIHQnqCBUI+QdjCNQHiAlkDRkRWhUsGbMbKBz0GHwUaxDXC8EHSwVmBLUDGgPeAjAEugYRCV4M5w96Ea4SjhMBE94R4Q7zC5UJEgWVAQYA4f2y/C38Vvz8/Ov7Sfs5/BD8WPpc+Ov13O0n3mPMp7zFsBSouqXqrBK4qMG6yhTXyuT/7VXzZPj6+2v7//eN96L6Sf02/lD/SAEwAB/6NvNG7mzoIOHO243a5ds13vji6+z199f/VAWVCTwNvg13DA8NwQ4XD+oO4BC3FFwYrhqWG0wb6Rf6ESMNvglPB6UF0QU9B68IpgmnCh8Mrgt1CUsGFAEV+873CveR+XcAUQmkFDUe9SGBJZQnayVyIa4bVBfGE+oNLwrnCmgMwAt9CuMJ7QgTB7IEBwUsB94H4QiSC9QOtxEDFDoWgBcqFqMRsgz/CIsETAGXAOkBxQOqBPIFIghGCkoLjwsDDB8MMAtgCYMIswhbB/kFgAVgBmEHLQatBSsFqQIi/yL8tvvj+2/6SPkl+Nz0HeyS3g/QM8E1tDmraqmmrn+2ib+3yvXWjOKg7Lb0Ifs7/m7+4v0q/sb+Lf9lALABbQIyASz+iPqx9cPv2eke5RHi5eAu4VDkU+q68PP2yPxGAdwDgwWVBuIHYQmQCrAM6g6xEX0UvhYSGXsaChoHGM4V8hFsDYkJHQZHBOUC9gHBAbUACP6O+oT3FPYs9mz3JvuqAGAGIwyCEooZJR+GITUhIh9OG+kV9RBXDqAM0grZCQUKmAquCUQIdQd9BroEUQLjARQDJgSoBX8IOQyjDv4OCg/rDrMNHQzpCqkKogptCrwK1AupDJAMuwzyDJEM6wvsCxENeQ4lDzgP/A5pDTYKwwa2A+4Afv51/G385P5PAeID/AY0CBAIwwbuA5kAWfkS7bfeX89IwoG5CraquPC9rcMSylDRhdkg4RHol+6n8pT0ufVj94f6wf0cAd8EbweXB/0FcwPs/wP8/fZZ8gHvG+vR6B3p3+rF7cHwsPNn9ov3hPiy+uv8hP9oAVADwQb3CR0NwhAyFOQWRhhjGAoY3xauFBES4Q5hDMIJPgbKAs7+E/uw+G/3qPd/+Un7vP0KAY0EgwkxDjQSDxaSFzgY+Bj4GB0ZoBhuFz4W5RQ/EwgSChHADzcOkAwPC5oJZQhiB60GIAYABhEG0wbuB2MI8AhRCUwJewljCWsJBgotCqMKHQt7C7YLJguhCSwIOQcEBh4GNwcECKwIdQh8B5UGdARlAbj+kvwh+1r63fpD/Hj99v0Y/sH+ef/t/1MAv//9/MD3YfCY55vemdYo0ULP1s8w0ejS39QZ10Da9t3E4V3lh+db6BHplOn26lXtTO9Y8Qv01faf+e379f0//8/+Iv2E+tH4Uvc79jv2qfbu99n4bvmn+hb8Uf2W/tD/lgCrAPUARgGDAj4E/gV4CJsK1Aw5D1gRNhOHFGIUhxMmEjgQeg7vDOMLJAupCZUHjgUFBEsEzQWMCCELcQsoC6sKogr6C5wMtQ1MD0APjQ+qD78PfhAqEPkPkhDPEGcQyA/zDnsNsQvyCQwJoQgCCLkHmwc7BzsGGwV/BB0E0gMCBJsEnwVWBiYG+wU5BskFewW9BfMFxwYoBywHKgeSBtYF2QXyBZUGOAe8BkQG9AWbBSUFXQQvA+sBdwDa/0gA+ABKAXIARP78+l72y/Fh7uzrneqW6BnmoeP74EzfMN6g3QPdDNxj2+ja/dps2y/cfN333u/gYeNI5rDpuexs773xcPPE9Or14vY8+AT6tft7/eT+NQA1AQsC0wJYA8cDuwOBA+kCNAIAAuwBHgJ5AqsCbQOrBA4GuAdHCb4KCwyuDKMMSAxwC2MK0AkfCsoKYgsrDH0M3gwnDbgNPg5RDngOdw65DigPtw96EAYRXhHFEfIRgRIQE2oTHxOrEpQRYRAvEIgPAg/KDjYOqQ0dDToMfgtBCh0JOAhpBx0HLgdfB9QHYgimCN0I6wieCMcH5gazBaMEEgTcAwoEfAQCBV0FdgWSBeAFMgZEBuIFAgW4A5gC1wFnAR8B3wBLAIL/hf7X/YP9z/wT+0b3LfJG7SLpvOYA5TLjh+Gq3pvcb9v/2YTZYtn02CfZO9k52QraHtuB3I/eD+Hh4xbn0unR7LPv2/Gt8wb1EvYZ9wf4Nvl4+q77Ov1K/pz/7wDtAQYD1AMKBEcEcwSnBAgFIwU+BaoFcwa6B2cJfwp1CzoMZAzdDK0N4w2CDWkMswrTCKoHUwjTCaILAA3sDOUM1gwjDd0OvQ9fEAkRtxByEUwSbxIVE/sStBLyEjQTWBOeElcRFRDBDrMNDA2dDDIM1gvSC5YLLgtjCkMJFwgzB6oGcgbSBoQHHAhqCJkI4Qi8CDUIbwcsBkYFHQRAA+0CfQLDAuwC2gJoA74DXwQMBTcFOgVrBHUDggKxAXABlQEtAoICKwLQAT4BhgA3/2f9hvvA+Ar1rPA+7KvoKOaN5E/jYuFE31Hd2tvs2hXaktla2fvYD9l+2WXaRNyI3pTh0OSv54XqPO227+jxbfNB9JL0E/WJ9Xb2cPiT+sL8W/6e/xEBWwK3Ay8FMAbCBpEGHAbjBUwGXAczCN0I/AgXCaEJFgqBCp0KJwo9CbQHeAZRBigHigiRCTkKyAptC7AMrA5NEPMQghGtESUS9BJ0E+gU8xUWFgEWvBW0FYMVvBTbE6gSzxDvDrwNDg15DBsMnwv3Ci8KfwnbCGcI8Qc6B5cGBwbOBQoGUAbYBlkHOAeuBjwGsQVIBbIEjwOSAm4B7wDeAC0B0wE+AkUCbAK1Ap0CmgJxAk0CSQJ5AsQCRwNKA1QDLgOtAtUCmQKiAd0AmP8E/lz9HPxa+i74vPQP8artBuvF6ano7+bE5LTh7N5o3VTcQdzW3OXcC93r3A3dV96p33nhpON15T3nE+kM6wvt4O4v8CzxDvIO86/0qfb9+L37vf1r/ykBigKpA70EvwVbBn0GgAZTBgAGGgZOBnkGWQZUBkkGhwbrBv4GHAeNBpYFjQQWBPoEvQZqCIIJ/AlaCvEK+QusDe4Obg+5DxAQ8BAnEgATrRNCFHkUrRQVFQUVbxR5E2oS2RFeEQURsRAAEHIP+g6MDoAO3Q3KDIkLEwrkCBoIsweTB2AHmQb0BbUFSgUxBTQFEwVNBQ0FjgQ9BPwDywPwA/cDGgRSBF0EuQThBOIEwAQWBEYDBAPLApsCDwL3ACAAPP+L/vD+Mf8u/7/+JP0l/IX7mPq6+Rz4kfV98tTus+uI6WnnqOX94yLiZ+BI3mnch9uZ2j/aldpt2v/azNvb3OHeCOFz4xrmX+ia6iPtJu9B8RTzMfSx9Tb3zfgG+1j9nP/hAakDRwXuBooHEwiuCOkIXQlyCSYJUwlNCTkJ4Ak6ClwKYQpVCo0KjgopCv8JLAlzCJMI0QioCawK1goTC+EKygoEDDgNbw4qD28Psw8tEJoQtxFoEnsSyRLgEi4TKBPZEo0SrhGIEMwPHg+3DkoOjA32DGAMlAvICoYJIQgJBxAGMwWfBCgEvAM4A6sCVwJWAnQCIgIHAhUCLAIxAukBjwFpASkBPQH4AX4CrgKeAmICEwLWAbQBBwIuAs8BZgFCAV0BAgFUAMD/ff8j/x7/Nv+0/rT9i/x9+8L6Fvop+cf3IPWk8Wbu2+u16QHoCeb34+LhCeDP3h7ett0q3UfcWttx2+vbKN373pvgOeIb5DPm6uj061Hur/CP8gP0p/VZ91z5fPtV/TP/RQEKA9AEHAb2BrQHEgg/CEYISghwCIYImggKCWoJuQn+CQoKHgpHCjkK9QmZCRUJqwjlCKcJugq2CykMjwwsDbUN5Q4fEKgQIRFzEekR4xLBE4QUPxUGFQ0VExUlFWYV2xQGFF4TXBLcEfcRYREhEZIQxA8eDxIO9AwEDHkKAQngB5oG6QVDBcoEhAT3A0YD5wKlAlMC8gF7AQ0BbADd/5n/xP8AADIArAAKAUUBRAENATABeAGEAd8BIAImAiICfwFOAZgBNAHkAHgAmv81/9r+hP6P/sr95/w+/J37lfv9+pT5n/da9IbwlO3/6oHpNOgJ5rjjSuFE3zXekd0B3azcz9tG20jb7tt93VHfCOHF4rLkJefx6YvsNe+J8UfztfRN9kb4ZvqF/H7+YgA4Ao4DswTRBbQGUAd2B2gHcAeAB+UHUwhUCEYIMQj7B+4HJghgCKAImgiPCKUIpgjWCEEJ6QnBCmcLwQtaDOMMaQ3uDTYOlA77DisPtw9zELwQjRE3En8S8hIgExkTFhPNEpoSeRLxEcERKhEfEG8PyA5UDggOHw0wDEMLnAlJCBsHwwWYBGADcgLYAU4BvwCDACcAs/+i/4//sf/J/8f/GwBzALgAQwGyARACdgJ5Am4CIQKHAeEASwDd/5n/bf8Z/7v+Af5H/Tj9Yf16/XX96fwj/Gv7CPtb+7b7gfu0+m/5IPjQ9mv1tPNK8XfuquuZ6fnnVObq5BPjMeHM38zeqN503kHeX9513jXfT+DX4drjruW15+DpBexs7pLwZvJH9DP2Qvgd+sX7ef04//sAjQIXBFgFZAbpBlMHJwijCBgJoglcCtYK/wo4C2ELiQuRC54LpQuTC0sLPAviCk4KTQpLCscKbAu6C/4LJAwuDJMMIA1WDeENmQ4rDwQQvRBlEWoSCxNVE5QTjxORE3cTGBPVEoYSGBKoEUQR3xA2EEYPKg48DdgLUAr+CHAHXAYNBaADZwKJAf8AVQDV/x//nP5r/kP+cf6X/m7+ef6l/h7/n//v/yUAEQBYAJIApgCFABIAtv93/0D/9P7k/v7+Lf+Z/93/c/8H/4v+Yf7I/vb+5f7k/tz+wP43/wn/rv4z/h79kvx1++/5Rvii9d3yn/As7l3s3erW6PbmquRC4sngF+Cj33Lf8d7v3sbf0uBs4ifk5eXX5/Lp8+so7kLwYPKd9E/2ufcq+av6aPxS/ur/WAE1AtkCjwNIBD0FHgbLBl0HKAi7CFUJvAkuCqMKwQoVC0ILeAvjC3AMrQyLDF0McAxwDKIMbw1KDlgO1w3pDU4OKQ+1D1kQABHqEAMREhG2EcESEhNHE18T2BJeEjYRkQ+xDnENtAuzCvYIYgXc/zr6zPvM/9v/nwICBq8IwAoDCD0ITAvaCS8LkA57DzkQVA2HCjgLQAjbA6gCHQAT/gf9E/wH/34BmAEnA9UE3wWeBaUDhgPvA8sCcQIxBC8HOgl3CesJRAtfCpQHQAawBssHtgeiBkYGRAXYAf79Uvup+Lf0Ue/H6QDkftw11JrOGczfyrnJoMqbzZbPKdFG08/WtNto34/i4ecn7Zrx7fWX+igAuwMgBE0E7ARpBGoC4f8Y/+z9ivrd9yb3Afdo9XfybPGS8Xvw1+9D8Z70bfhN+yX/xgSMCa8Mjg/XEqcVDRfBF90ZhxxcHVMcyRpnGJgU0A8WDGAK7ge1BCcDPQO0AycEvgW0CW8MvAxrDRMPcBDTEHsRsRP2FTUWOxbJF38Y7hajFDoShhCsDjEMsgpNCogJ2QfDBTIE+AI3AXj/BP/B/zQAhQArAuEEDgaDBpYHlQjhCCEI7AfeCNMIaQh5CHsISQjiBvwEPwMgAdz+hP3B/ED9O/5z/mP/5f9P/oD81Pv//IH/vwGGBNsGXAdRB4AIxAmfCQgJcQjZBn0CZvwJ+AL0R+406EjgL9aLy2DBRbyNvHa+S8O9yUPOS9K+1THa9uE36ELtEvMX+E/9KAL0BiINexDrDrULqwdZAyH/dfu++ef4G/YG80LxU/DW72/uye3N7hrwWvKT9sT89wOlCdkNaxIhFuMXRxlDGxUd8h30HRUe6R50HqQbmRf9EbwK0gSoAPr+dAAkAQoCHAPHAkID/APYBJQIdgwjEAkV6RipHCgfxh+jH/AdnxovGG8WDBWsE4cRzg+4DYUKAwdDBN4Bmf/G/V79X/4FADEBCwNzBWkGGwekB6AIgwmZCVEKyguiDDQN9g3oDfcMxQppB18EsgGI/2r/LgC2ADYBlwDQ/vL8lvot+WH5k/pQ/TgApgJpBCYFRgU9BT8FYAUwBQAG3wdPCXEK5QhjBR4Bdfk08ZToVtw1z2rBerWHr9KtirBSuCXBiciRzpnSXNdO3f7j3uxn9iz/vwbhDHgRWRTtEy8QlAq/A6j9FPnX9R/0vfKR8J3tsekM5sDjIeK94qXlJure8JT41ADjCJ0P0RQoGPQaph3IH0YiNyTfJQMn4yX0Im4ffBo0FE4OOAj7ApT9D/gk9Q31FfaU+OX8AAGfBEkGOAgiDL8PYRNOGDsdPSHPIyEkPSR+IjEeBRr3FWYSYw+LDIAKwQcIBP3/H/x6+aD3kPeH+YD8qv/MAo0F6Ae3CXQKMAvNCz4MxQwYDXAN9g3HDS4MsQqtCQkI8wV+A0ABuv/3/WP8JfzA/BL97Pzm/Ab+Av8B/+j+J//t/6sAAgOWB00MiQ8GELoOPQ3XCioIIAdKBlsEcQH9/XP7Lve97TDhZNJEwXKyQqn6qEKxaLvExQXQR9dG24LdseD85tXtGfTV/AUHGhAgFhIYJRdBEuMIHP9A+J70DfNc8oPyPvKq7xPrEeeW5CrjWOMT5l3s+fRE/skHgxDbFqIZcxoEG28csR6CIcgkdye8KC4nbyO2HugYvRL3DJAIEwb8A4oBt/7j+4T5QvdW9gn4DPzRAJMFigoTEOQUchf/Gfsb/hxqHX4cIByiG30ZnRaCE4UPJgtFBkYCAAAo/ab6BPp6+sL73fwP/dn9WP51/jIAzAIMBkwJsQvcDUQPDg+7DVwMxwpwCVwI8wfUCHgJuAnRCIwGwAMnAOf8Kfvr+ov7iPxk/Uf+FgD2Aa4DcwWPBW0EHQPLAtsE4Qg8DbgQ4BFxEL4NjAqwB6AEVwFV/bv2oOti27HIn7epquyj0KQTrKm2KsFzyc3PhdTu11PcQuLR6qH1cQDEC6QVghuWHAEZ8BGXCbIBn/vq+GP4p/jy98z0c+//6IviOt4D3creCORW6zz0R/1mBWoMMxExFJYWRxnuHIIhJSaMKbkr3iuiKb8loCD3Gm0VtxC9DEoJnQZDBLIAJPzE9sjyYPF78XrzK/i2/ioGiQzlEAwVAxcHF20XZRktHFMeNR+NH5kexRrbFJQOEwkuBNT/8PwK/Ab7Jfmw99b29fWU9cX1s/fn+ob+rALRBssKwQ1PD78PwA8mD1kOuw1fDasNug2wDIEK/wbGA/4AOv77/Jb85Pv++4v8a/0BAD0DSgc7CyEMswq2B2kEugPgBBMJ5w8nFZQX2xXeEL4KnQVeAqwByQFCAN38SPNb4k7NorcAqIShDqJgqiq3+cImzKfRuNXo2Zzd8+KD7N34YwZgE2YdtiPwIywd0BNBCvgBHf0C+1n7jftS+LbyH+tE4o/agtXm1CTZcuBv6UHzt/xGBQIMIhFZFU8Zbh39IQsnKyyhMDsyCjFrLbInCCGGGQgTxw0lCacFfAIH/xj81Pl/9u/x7esy6HfqEu8H9eT9MAcNEKYUYhQwF+oaCR3VH+khGCS8JCEgDBtnFrUOGwY9/on4Tvb49E70lfaK9/v2APcb91T55fvq/XMCowflC4EPURH8EsgTCxIiECcPag7ADTUM2wroCUQHIwMMAOr9BPyF+qr58fqN+zb62fkK/Gj/fQISBQEJeA5OEcAQZQ4WDDkL+goOCxsNLRClEbgPkQo7BRgB5PxK+A310PHv6u7dOcy0vCez3K4UscC3V8BjyY/O09Ja2Jfd+uPP6gjyH/uRBFUNiBVXGlwa0hVyDV8E0f3T+Wz4Pvhf9tTy6+y95WbgTt333HrfSOOk6NfuDfZd/6gIfA8tFCIY3RtcH1wioya+K/Uuey6GK30nOCJ7HK0W/xGgDZcITQNi/jD7bfmw9wTzqewd6hzswvB19sb8igW5DFAOQRDxE7MYwhw1HhIh1CM1Iosd3RjpEw4OFge2ABP9pPtf+rr58Pjp9g/1a/Pt83r2+vkB/qcBuATcBkUICgoNDHwN4A1JDQMNKAyECsEIGgewBckCjv/3/L/68fnC+TX67/qc+/78JP/NAZYEuAYZB/UFAgVVBtQJmA7gEhkWyxYVFLIP+glKBsoFDQcsBykDk/7t+3z4svIG64biPNdCx9G4a7TjuNu/48bkzknXstr02NjZ7+Br6rbyWPk+AbQIuAyJDmUPnQ8yDKwEnP27+cb4kvib91X2qfIc7I/kAOCq31PikOat69Hxu/YO++4A4weHDuITyBezGxkfCSI/JXUoCyq5KDIlfCDdG8oX/RP+EEAOOwrhBDT+G/c08BHrKuru7c70BPxsAnEI5gsLDGcMSg/kE8AYqxziIFojcyEzHdoYlxTuDlUJsAXbBMMEzgTpBLQDhwCb++T3TPa49hH5Ef3YAEUDsgQtBeIFlgYvBwQI/QjECRQLvgxxDUMNeQt7CLYERACV/Iv6bvnC+bv6p/vn/Pb9P/8mAGMA0ABEAhIEzwVHCGMMBxH5EywU+xIuEBsLcgXoAT4CcQNdA3ECLQG//er3mvEo7OPn5uLx3MXWzc9kyWLG1sVDx5jJI8ymz4zSRtax3G7kxuvQ8a322vrY/RQAuQLSBeMHzgcXBo4DTwEg/yj9I/uG+J71N/Jh7xTude7374DytPXe+Db8Xf9aA+IIaw4NE/IWthosHqEgUSKJIy0klCPlICwd2hiBEygOzQl0BrIDrQDk/Sf86PrO+p37JP1a/zsBBQQhCBMMPBBxFLkXxRn/GXwZRRnkGKoXbhamFAoS3w4dCyYI7gTzAYX/RP1U+9P5w/iP+JL5kfrC+8v84f0c/38AIgKsBMwHJQrzC7cMZwwLC8cIDAYaA30ASv8C/0f/3v8DAMb/9f1f++/5mvk3+gj8JP9OA0kGpQc4CHkIHQmdCSAKQQrSCY4JiAnzB7oFQAVdBqMHjgYGAxT+CvcX7zDqhOnj6svpdeSh3EzTz8oxxSDFmcpA0j7ZCt4t4h3mAeoS7mPxDfXh97j5Wv1+AjcIpAtZC28I3AI8/M32F/Wu9k34l/jW9if0D/Gx7RfsZ+zH7nzykvY+/G8CRQh0DcwQxBKXE94TPRXVF9UaGB1+HbEbthd7EooNnQlxBmgDHAEjAE//P/4s/cv8q/19/tP/ugLKBioMFxGZFA4X4BfYF6YXgxehF0YXARZoFKUSKxBBDbwJ9gWvAmn/Sf3D/J78TvyU++z6zvo4+yj81/0PAJ4B+gKJBBcGYQhlCpwL/gsxC10KWwkFCOUGuwVtBNkCQgEUAFL/TP69/OH67/jn90/42Pkv/Pz+BAJ1BNMFeQYBB/8HcwlRC+gM6wyoCwEKSQhGBkcD2f+D/Nb3ovPf8rXz8vSd9Ery7PAv7cnmcuFc3IzYT9WE0mDTS9an2czdvOHY5Jnmjefx6ZHunPP4+Fj+sQE/A4ECegC5//3+2f3X/Pb7VPz0/I388vvk+tT4TfYu9Ej0G/fd+gj/HwM0Br0ILQowC/EMeA7dD6YR6BPTFakWKxYLFNgQ2Qx1CT8I+AgnCpAKHgrXCEIHxAVuBSoHhwmYC3kNdQ4nD9AP2g+NENgQTRAaEEkP+A5zD2UP7w5xDR4LdAn1B3gGLwX6A6MDhgLQAJX/cP5V/lb+BP7m/er9Xf5j/7EANQISBFkF9AXIBdQEKwTsAxME4gR2BUgFRgS/Abv+0fup+f741/gs+eH51frZ+9n8Lf6a/zgAGgCXAN0A8QCMAaYCmQR6BWgEOQMsAj3/rPqn9in18/X79eb10/Zw9vPzZfAK7jDun+5T7xDy+fQO9s3z8+/J7KnoTOQS4XvgWOJr5D/n8ure7fbuVe7U7CbsmOwv7rnx2PUy+Uj7O/zp/ID92f1//j3/8v8wAVgClwOzBCIF6gTjA3ECTwEmARcC9QOeBbUGtwZTBd0DtgLRAjsEAAbOB30JIQuZDCsOIg/HD0sQJRAVEIEQVRFPEssSGBLhEDAPWQ1SDOoLlQwwDSIN6wxmDJoLNgrZCPAHpgexB8QHRwjpCNUIWgh/B0EGIAUYBBoEoQT5BNoEMQTXAwIDHQJ9ASoBmgFSApMDJgW+BecETwP9AM/+Cv0U/Fr8z/wP/fn8mvw8/FT8qfzg/Gn8XPuT+kD6XPuI/bX//gAhAKz8u/jv9Z70e/YB+vT95QDMACD/LvyQ+Nj1XvRO9Lr08/Qa9WD1w/Xd9AHzefCM7enr6+rB67jtN+9z8PbveO6G7NDqbuqp6yTuc/Au8kHzovPT88LzkPOn8yr0ifVD9z/5jPtw/Yz+zv7Z/pz+n/6n/zMBAANZBBYFpAX8BbsG6QdBCdMKuQt6DDgN3w3NDt8P9hCNEYUR6xCxEPEQChGgETkSURIzEmcRkxAlEB8QIxD1D8EPXA8WDxIPEQ8rDx8Ppg7IDXAMgwu8ChMKnwncCBQIIAcIBvAE4ANPA/oCbQKXAqECPwL+AWgBxgBxAPT/nP/H/7v/9/+A/zD+qvwz+0X6dPk0+Z35/Pm0+fL4I/ir9q3znPB/7nvt2e2j7qPwd/NN9Ur2tPZG96X4z/nC+gf9ef6J/sz9SPte+Yf38PTZ8ynzAvMA9CH0DfU79pT1LvXu9Ln0HfZ+9+H4K/ol+u34H/eL9T/1ZfbP9yD6Jvww/TD9ZfwD/FD89PyX/ev+AQANAFH/Xf4v/R/8o/vd+zr9Gv8wAWYD2wSCBYIFMwV1BeMFswYuCHQJFwoGCucIOwiuBwsHagczCLQJKwsGDCsMNwzKCwELmgqgCgQLMAtWC04LMwvjCocKOgrrCQ4KdQq0Ch0L+Qv5C34LxgpGCTsIBgftBYsF3AQIBAcDwAHlACkAuv/u/0wAdQBcABUABgD6/+3/XwB1AF4A6v8a//P9/vxv/Cb8QPwM/Mr7pvs7+3X6CPqa+VH5bPgA9/j1f/R38x3zXvJE8uLy4vJw8+f0YPYw+Db67PuG/Vz+qv6B/6H/Bf9W/sD8L/sS+l/5HPoY+4D7lvtb+4T6zfkw+cv4z/kr+7X8Pv62/uX+s/6O/dr8SPxJ/Bb9Mf75/5YBZwIeA0QDXwLmAXoBUwGWAcgBdQH1AE4AOv+K/uD9H/4K/8L/iABdAQ0CjgIFA3EDHwSRBMAEBQVABZMFlQUkBdQEoQQ3BLQDoQO7A5UDWgPJAhQCvgGxAZcB5QFdAmgCwwIXAwMDRAOSAw0EuAQxBXUF8QQ9BMkDTAMPAzUDpAMKBDQESQTPA1MDRQPeAp4CmgKeAt8C5AJ+AkEClQGmAMb/HP8x/wIAFQEBAg0DCQPKAigCngHhARIC4AIJA6QC0QFPAKz+Qf0B/Dj7FPsw+yv7nfrz+UT5+fjv+EP5S/pr+3P8Vf0N/rz+wP64/mr/FAB5AJAAeABCAP7/Of+A/kj+u/1e/QL9xvyn/Aj8PPtd+t75nPk0+Vn5Avpw+qP6kvr3+i38Iv03/pD/lwDjAZoCZgJGAg8CbgHLAOf/Gv/a/l/+5/3Y/dj9xf3+/TL+0P5u/87/MACVAMUAuAD2ABEBiQHSAeABDQLbAZ4BeAGpATAC7AJsA6EDngMlA50C5gFEAREB/QDdALQAkAB+AJcArgD+AFUBpgEqAsMCaAOmA6sDogOaA1kDuQJjAicCTgKdAp8CigINAo4B1gAnAOf/5/8/AHUAnwCeAHAAOwAIAC8ASgBpAEcASABVABoAUgA7AC0A+f9y/wn/1v64/lT+A/59/fP8yfyV/Kr8Cf0m/S798fyi/FH8Z/zC/Bf9uv3T/fP9Av6i/av9bv2Y/fr9j/5j/7r/2f/E/7P/bv8t//T+4v7i/tX+/P4Y/+v+5v6y/nf+U/7W/dr9Of6m/iv/tf9TANwARwGAAXMBhgG0AeUBLwIyAhQCFQLoAa4BlwF8AXABYQFVAV8BLgE/AVIBXAF8ATQBGwHiALoAzgC4AHkAWQBzAKwA0wCPAI4AbgB5AKQAdQClAMYA5wACAbgAbgA8AP3/EAALAKz/xv/Y/xoAkwDJANoAxQDEAHcATQAFAMz/6v+8/2z/Pv/8/u7+Fv9N/57/3v////n/TQBkAF8AMADo//3/5/+X/5z/2v/9/ycAMABlAHQAOwAhAFwAjgCYAM0AsABTAP3/jv/9/pj+Xv4g/k3+dP5q/sb+Rf+8/xgA8v+V/+/+bf6n/un+Sv8EAKwA7gCxADsACgDg/w8AawDSADEBOgE0AecALACP/y//Fv94/7H/PQByAGIAPAAAANH/cv9U/zj/mv+8/+n/JAAAAPX/GAB4ANoASAFvAYABPAHDAFcAFAAlAFgAnAC6AOAAvAB6AC8A0P/q/zgAdwDQAAMBrQAoAJX/Rv+B/9X/LgDKAPIA6wDAAFAASQBBAIkAuwDyABEBxgCRADUA///V/7v/8v9VAI8AgABXAEQAVwA/AFsAfgCmAMoAlABfACEABgDA/6D/yP+//woAbACrALIAcAADAIT/Pv8u/4H/n/9+/4v/bv8n/+b+0P7t/kr/v/8GADAAGwDv/+D/q/+e/3z/a/9Q/yf/C/+7/rz+r/6i/qH+uf7s/jD/cf+c/6j/Wv8L/9X+wP7y/ib/ff/G/93/MwAsABkAGgAQADAAVQBIACgAEwDf/9j/yP+t/6L/o/+t/6j/1P/p/+D/FQApAE4AUwBHAFgASgBWAGEAeAB2AJMAhABFADUATQCPANYA/AAIAeYAnAB9AC0A9/8XADwAWABjAEkALgAlACEAOQB0AK0AsQC5ALYAjQCBAIYAiQCgAJ0AeQBKAA8A0P+m/6j/tP+q/9b/6v/h/xYAGQAAANr/tv+d/6r/2P8PAEkAmwC7ALMAnwBcAFYALgA3ADoAGgAYAAQA+P/x//H/uP+X/47/a/9R/0f/Y/+p/8L/4v/5//f/DQANABQAHAA4AE0AagBuAGEAeACRAIEATAA0ABEA2//O/57/if+R/2j/g/9//2X/Yf9L/1n/of/9/2YAiwBrAEcAEwACAA0AKQBJAKMA1ACxAF0ALgAaANb/0v/D/8P/y/+1/57/hf+C/43/ev9//5v/oP/M/+v/LwB9AG4ANwA0AFMAegCBAG4AewByAFsANgA0AC4AJQA1ADYANQAOAO3/6v/e/9D/1f/F/+H/9f/l/+3/7f/M/8X/AAAqADkAZAClANIA5AC8AKQAXgBRAFEAMQAjAPP/2f/Y/+b/1//K/9X/6P/E/8n/zf/f/xAAJwAxADUAGQAoAEcAUQB+AHEAcQBOAGsAjACHAKIAnQB/AF4ALADz/8r/o/95/1X/Zv9w/3D/hP+I/3D/eP9m/4r/0P8AAC8ALgBMAE4ANwAkAB8AIAAEAAYA+//h/8f/qf/F/6v/hP+K/4L/kf+k/4f/aP93/17/X/9z/2//pP/Z/wAAGAASABgAFQAKAC0AXQBeAFcAJAANAB4A7f/i/+X/3v/O/7z/nf+R/4j/b/+P/5//2//7/xUATABoAGgAOQBIAFYATwBDADgATABRAE4ARABXAFkAAwDg/7T/lP9o/2n/nP+V/6f/lv+Q/43/nP+z/+L/BgApAEAAUgBnAHoAjACFAI8AggB4AFgAPAARAM7/xv+1/33/n//F/8H/0f/o/wAAHwAiAA0A/f8EACYAMgA9ADMAMwA2ADMANQAtAB0ADQAZACgAPgArABkAKwAbAPP/x/+3/7f/vf+r/4r/gf9u/3f/dv98/8D/3v/u/wAAFgAcAAkADQARAA8AMgA2ACQAMgA6AD0ALAAdAAUACQD5/wIADAD5/xUA7v/k/+L/yP/X/9n/3P/v/wcADQARAC4ANQBAAFwAUwB0AGkARgBAACsAGgAqAD4AQwApADIAQQASAA0ABgAVACUAMQBAAEwASABKAD0AKQAeABMAKAAgADAAGgA7AFgAUABiAEQAQQBDACkANgA9ADYAUAAyABgA7f/x//n/0f/v/w4AFwAsADEANgBHAFgAXABjAJYAlQCcAKsAswCwAIAAXgBKAC8AMQAfABoAJgAKAPr/w//B/7v/uf/c/+P/3P+q/83/xv+v/9X/9v8CAPn/HAAVAAkACwAqABEA/P/U/83/5v/Q/7n/mP+1/6H/mf+X/6L/tv+U/3b/f/+Y/5P/ov/B/6H/tf/F/+z/EAAAABUA9v8IAN3/wf/W/+P/8//W/9H/1v/Z/8f/6f/f/8X/2//h//n/AQAiADkAFAABAAcAGQAjAC4ALwAfABoAJAAWABwAPABTAGAAZAB1AFgATQA/ADYAMAAiAD8APgAxABgAGQAUABQADwADAN//yP/c/9P/8/8CAAwACwASAB8AGQAgAB4AFwAhABgADwAGANr/4P/Z/9X/z//Q/83/sf+R/57/wf+m/5//n/+2/7v/0f8OABAADQAQAPH/4v/r/wAAEAAKAAoA7P/i/93/0P/Z/8//AAD7/9v/7f/0/+v/0//V/+X/7//s/wAAGQD9//j/IAD7/wQAFQAeAEQAHgAYADIAMAAsACMACgACABQAEwDy//D/7f/I/9v/6//C/9P/1f/b/9//1P/a/7z/s/+e/6L/tP+v/7L/vP+Z/6D/kf+E/3v/ef+G/3//tf+n/63/vf/M/8j/w//I/8f/1f/G/9//6P/0//D/+f8mABQABgACAAAAFgASADEAOwBMAFAAQQBTAFEAdwB6AHIAeACAAGgAaQB9AGkAegB4AG0AUgA8AGAAVQBUAGgAaAB7AGYAggBmAFMAUAAvAGAANABOAE8AQABaAEEAVgBFAEMANQBDAFUARABUAFQATgBRADcALwAlABYAIAA2AEwAQQAeABcAMAAaABMAGgAwADAA9P/4//D/9f8LAAMAFAAAAPH/6P/e/9r/xf+1/5b/rv+7/7v/4//b/+3/AAD8/9n/yP/Y/+j/AwAAAOb/6v/J/9D/6f+//97/uP+4/8//o/+8/7H/wP/X/7L/tv+x/6n/t/+o/8j/xf+v/6f/t//J/6j/uP+z/6r/hP+M/6j/uP/c/97/4v/i//3/FAD+/wgAHAArAEEANABQAGgAcQB2AF0APwBRACcAEQAZAAsAIAAfAA4AGQAhABkAIAAjAC0AKQAnABsAFwAoACQADQADAAYA+v8AAAsAHQAQAAkAHwAYAAMA9f8AAOn/1f/e/+///v/7/+7/3f/s/+L/yP/g/wIA7P/V/+T/+v/s/+b//v/m//f/9P8KAPL/1/8zADEAHwAGAAQAOAAzADIARQBCACMAKgA/AB4AFgD7/+z/+v8BAPf/8f/4/+n/9P8EABYACAD5/yUAGgANACUAGgAjACoAGQD+//P/6P/D/7j/wf+z/5r/cf98/4L/bP+Z/5//o/+X/3//mf+1/6b/pP+5/+H/5f+///L/1f+2/9b/1f/I/9X/8f/c/+7/6P/Q/7j/wv+0/4P/yP/s/97/8f///yMAEAD2/wYA7f8AABEAJAARACQARwAlAEAAPQArACkALQBKAEwAKQBNAD0AJAAxAEQAQAAzACwAIABAABUAGAAMAB0AMAAUACgAFAAuACQAFgAuAC8AMwBRAEUAMABEADgAVgBWAFEAaABPADsAJAAJAPD/6P/o/+v/8P/2/wUA7P/i//L/8f/1/+v/DAAlACUAJQAZADoAFwAuAEEAOgA/ADYAJAASACUA/v/t/+z/+/8BAPv/7//9//D/6f8DABYADAAlADEAIwAsAP7/CwADAOL/5v/s//j/DwAJAOX/5P/t/+b/uv+5/83/xv/I/63/xv/D/87/AADc/97/7f/r/+b/3//u/wUABQASAAkA8f/2/wUA/P/e/9r/w//W/+X/+f8JAAEAEAAIAN3/8f/n//j/FQD1//v/CQAQAA0AGQAZAC4AMgAmABwACQDo//L/AAAdADsAOwBcADoAHgAcABUAKABAABUAAABDAD4AHgANABMAFgASACoAKgAwAC8ANQAgACEAGQAGAA8AAAABAAkAJQAkABkADgAfABMA+f8IANn/zv/7/+f/0v++/8D/yv+4/9f/1//t/+3/AQAAAOz/BgDo/+z///8GAPr/3f/0/xUAAgASABsAQABFABkAEgABAO7/tv/B/77/xf/Y/7//1f/O/87/xf/K/9D/yv/Z/6X/of/Q/8L/zv/o/+b/9f8GAP7/7/8AAAwA3v/C/9H/5v/Z/+P/5f/o/+3/4P/2//z/+f/t/+v/2P/m/wAADADu/+f/DAAJANv/7/8CAOP/6f/s//v/2//m/+v/6P/1/wEAAwDt/wgAEAAKACsAMgA6AEkASwA6ADQAQAAaACYAFgAjAA8A+f8RAAcAFAAfACcAAwAGAPj/EQAYAOj/0//i/9z/7/8GAB4AMgAfABoABgDn/8r/7v/X/8H/q//C/7j/tv+z/63/0f/I/9X/0f/e/8z/uv+1/9D/yf+//wIAFAACAB0AGAATAP//1//p/+v/3//y//T/2P/Z/9n/1P/6/wkACQAUAAcAHwABAAoAJQAMAPP/+v8OAAoAMAAKABkATABNADQAGAA1AFAARABHAEkAPgBDADgAMgAxADcALQAmACMANQA3AE4ATQAzACMALQAxACwATQBCAEMALwAfABcAFQAeAAsAGAAdABkAKQA3AF0AQQBCAB0ABgAQAP7/IQAQACsALAAzAA0A5v8CAPn/9//7/wQABAABAO//8P/x/w4ABQDq/+z/+v8BAAoAAwDx/ykAHQAhAAoACgASAPb/AgAOAAgAEwAiACEALwAMABAAHwAPAOv/BgAUAA0A8//p/wMACAApAAsAGAAuABUAAgAXAB8AAgDs/+j/4//e/+P/1//d//L/5P/G/8z/6P/3/+X/7P/q/wIADQDx/+f/FgApAAMAFQAXAPr/+P/1/+T/BQAAAP3/6f/d/8//0f/d/9r/6//U/8f/yv/o//j/CwARACcAGwAGAPj/6/8VACYADQAgAD4AHgARAAUABQDq/wAAMwAWAAwAGAACAO//2//N/+r/2//+/yEAGgATAPL/5v/K/7z/vv/R/+3/8v/v//f/7P/k/9X/wf/V/8L/u/+0/7n/1f/U/9j/2f/Q/9f/u/+m/7P/v//D/8P/2//z//7/7f8TAAwA7v/y/9X/xP+6/8//7//3/+j/5//u/+f/6v8GAAIABAATABoABQDz//H/6P/8/wgA8v8BAPn/3P8MAAYAHQA1AEMAPQAtAE8APABKAE0AXQBQAC8ARQA2ACYAJQAeAA0AFAAiABUAHQAmABEAKwAkAA4ACwAPABkAEAAAAAcAEQAEAA4A7P/+//n/9f8OAAwAFQANAAAA//8AANr/3f/G/8T/5P/z//r/1f/l/+P//P8IAOv/GQAkACAAEAAbACAABAASABkAMgAcAP7/GQANAP//+f/9/w8AAQAOABoAKgAQAA4ALQASAAoAIAAXABUAGgABAAkAEQAqABMAGQAVAPL/DwAEABoA/f/z//H/0v/S/8n/2P/F/9r/6f/q//j/5//s/wMA9//r/+7/7/8FAP7/8//3/+3/8v8AAPb/8f/k/9b/xv+v/7H/uP+x/8f/5P/Y/+7/CADo/97/8f/h/+n/9/8DAAkADQD5/+z/8//a/9r/2v/z/wMA5//c/+n/AAAPAAMA9f/5/wEA8v/8//7/BQA5AEsAWgAzAEUASwAqAC8AMQA9AB4ANwANAAoADgD//xYAJQBQADwALwAwADgAJwAsADQARQBEADkAFAASADEACwADABAA+//j/xUAAgDw/wEADAAWABIA+v/y/wAAGAAfACcAJQAWACcAFQAUAPn/4v/h/9b/3P/M/8P/2f/k//r/5f/O/+n/5f/3/xUACwAGAP7/7/8OABsAHAAfADAAGQACABEA9v///+H/y//s/+D/3P/C/6r/xv/D/7j/1P/Q/9H/y//P/+X/9f/5/9b/7f/c/8X/zv+3/7n/wf/A/+P/3v+n/7X/vf/M/8v/tf/C/+//3P/Q//T/1v/S/+z/AAAFAPT/z//y/w0A+//8/+H/yP/m/+n/6v/x/+f/8//1/wAA4P/f/+r/3P/q/9z/xv/w//r/3f/b/+f/+f/O/9H/2f/V/+v/+f8EAPX/+f/0/9f/+P/+//j/GgANAAQABgACABoAGQAGAAsAEAAuACQAFwA3ACUAHQApADcALgASACIAGgAiACIALQAwACwAQAAbAC4AMwA9ACwAGwA4ABkADwAXACgADAASAB0AAAAKABoAEwALABYAMwAkAAkAIgAmADUANgAvABwAFAAZABoAEAAdACsAIQAiAAoA9P/s//T/9//7/9n/5f/y/+b/AgD///f/AQD1/+//4v/z//f/7P8DAAAAJQAuAB8ADgAQABgAHwAZABAADAABACEANAAwADsASwBCADwAPwAzAC0ATgBGAEIAbABWAGEAbwCKAKEAeAB4AHwAigBkAEwAbQBeAEYAOgA8AEEANwAqAAgA/v8TAO//xf/h//H/4/8CAP3/6f/g/8n/5P/b//r/4P/B/+r/t/+3/83/1v+8/77/zv+7/7b/u/+4/8r/0/+2/8f/w/+4/8j/2//Z/9r/6//8//n/AADy/w0AKgAQAAgA4f8KAAsA2v/1/+7/3P/e/9r/+/8TAO7/7/8CAAEAAwANAA4A9v8FABEAEwApAB0ABwAoABsA8/8FAPH/8P/X/8D/2P/V/97/4P/j/+L/7P/P/8H/6/+7/5P/qv+W/5//xv+v/9b/0v+z/+j/xf+z/6H/p/+2/5r/nv+f/7D/rP+j/6T/pf/B/7D/m/+4/5z/jv+L/5D/h/+U/5v/jf+f/5//lf+U/6b/tv/F/53/wf+7/7v/wP/f//X/9/8kAAAAAADv/xUALQABAPb/GAAWAP7/AAARABUACwADABIAUAAyACwAIAARADsAAAAMACMAGwAiACMAQwA5AEoALQA8ADsA+v/y/woAFgD0/9z/y////9f/2f/r/+T//P/G//T/6//V/9f/4//a/6H/sv/v//v/6P/8/wAA5////+f/6P/f/77/4v+9//z/7v/j/0EAZwACAN7/DgDk/+z/9P8HAP7//v8MAEcAAADm/ywALAA1AHEAJwDj/+3/+f81ACkAPwBKAOH/8f+GAu8E9v1P+mX/PfxV+9H61ftj+zr7u/63/qv/Hf0N///+2/2q/ugAAQG9/6j/TgCeAC//o/+F/zb//v63ALgAmwDiAMkBSQFsAekA8wBpAQEBKwEcAYwBKQHUAW4B3AGyAdsBIQLrAe8BDAJRAsoB+QGHAasBGwLKAWEBgAGYAaMBzwHTAb0BsgHrASECuQGHAZwBgAFYAaoBxAFkAXEBVgFmASgBOQFJAZkBdwFvAV0BMQEIAcgA2wCfAA0BTAEhAdIAXAEPATMAQgCRABYAz/9PAEkATwBeAHcAbQB7AB4AHwA8APD/rf/L/9H/zP/G/5X/yP+8/53/Pf8j/2v/v/9l/23/V/8d/zH/+P65/pr+iP5j/mb+Uv5b/h3+If4H/i7+8P3V/cv9x/3o/Zr93v0B/r/9uf3y/dH93/2I/XT9oP2r/ZD9hP24/Zj9hf10/ZD9hf2O/YP9xP3Q/Xb9vv3i/Xf9Vv0a/eX8Mv3w/Av9Jv0Y/VL9ev10/TX9X/1r/YX9uv3N/Qz+Kf77/T7+Bf7G/RH+2v0D/sL95/0//sr9L/5f/jP+bv5I/ir+Bv4E/t79PP6d/j3+b/51/mj+2f4q/+z+J/+B/1b/qf+z/8D/9//V/xAAPgBeAB4AFgA0ALYA5ADfABwBHgFCAewAMwE+AWgBMAE2AUMBIAGsAUIBZAFaAYgBeAE6AZoBaAG+AXQBPwGBAV8BWgEqAT0BmwF2AV8BagFHAWsBbAFUAXUBjwGhAYoBPgFSAU4BYQH+AIkA1wAmAVkBXgF8AagBjwGEAV0BJgFPAfcA6QAzATABiwGCAWUBUQEgAU4BeQF6AVIBbwGdAbcBWgFaAWcBYwFdASkBpgF8AYIBcgFAAWEBWwF7AVkBbAFUAUsBcgFPATsBGgFAAU0BSQFvAXMBUgElAV4BZgFQATUBSgEeAQ4BOAEoAT8BMAFOATkBRgEyASEBAQHUAPAA8gAUASMBKAESAfMA7QDhAOUA1QDsAPoA5gAFAcoAxACpAMkA1AC0AN4AjQDGAK4AcQCEAJoAlgB5AGQAUgCLAGQAaQAtAPz/EgDu/woAIAAvAD8AAgAfAD0AQwA3AP//QAAeADsAMAASAD0APAByAEgATQAdADYAKQAFAGkAZABvAEgAKQDu//3/DwD4/97/v//x/8j/2/8AANX/yP/c/6z/rv+I/7L/sv9Y/2//VP9i/zj/X/9k/2v/X/8u/0n/U/9k/2f/mP+O/5H/aP9c/1r/Qv9i/1r/iP9p/0z/Sf9e/1X/Ef83/xT/QP8l/xL/F//Z/vv+3v7t/uf+4f7m/u7+6f7+/gn/FP8o/zH/Uf8x/1j/fP+k/5z/jv+p/7P/rP93/4f/lP+6/+T/zv/A/77/yP/X/9z/6f/p/73/vf+y/5X/sP/K/7n/kP+i/8b/sv/O/9T/w//L/6n/9P8FAN//w/+4/+b/zf/h/+f/5f/s/wIACwDu/9r/4v/X/97/5v/W/+L/yf/o/+7/4//G/9v/5f/f/+7/z//1/+f/6P8AAO//1/+//9r/1//K/87/uv/2/wMA2v/F/9T/9f/h/+3/5//h/9L/+f8TANz/BwD4//P/BADa//D/4v/p/9T//v8CAMn/7P+5/+r/5/+y/7j/qv/E/7X/rv+///D/6P/v//r/3f8KAAIA8P/V/7//2//h/9f/s//A//j/2/+4/8X/1P/Z/7z/3P/S/8f/2P/z/wQA6f/9/+z/1P/T/+T/4f/a//r/5//K/9b/2v/T/9n/zf/U//D/5v/u/9//wf/P/+b/6v/0/wUACgD7/+j/3P/U/+T/7v8PAA4ABgASAAwAIwAqACgAOABMAFQAQgApADsASwBJAEEAHwA4AEYATgA2AEIAZQAzAD0AWQBcAFkAbwBcAEEARgBSAFYATQBcAGYAaABLADQASgA9AEgAQQBBADUAHAA8ADUAOQA0ADQAKAAtACwAIwBLAFsATgBRADgAGwAjAD8ASgBRAFcATQBJADsANwBDAFYAXwBbADgASAA2ADgAOgAdADkANAAiADAANgA5AEkAJQA/ACYAJAAHAAgAKwAmAFIAHwBUAFQAQAAbABMAMAAHAB4ABwAfACAACQD4//j/CgD9/yUAEwD9/+P/5v/1/+//CgDv//n/+P/n//r/+f8DAPb/9//1/9H/4P/I/9L/6//a/+P/3v/V/7//6f///+L/7P8GAP7/5f/g/9//2P/8//n/yP/x/w0A6//m//3/8v8OACkACAACAP3/7P/W/9j/7v/G/7f/5P/r/9r/2f/m//n/9P8ZAEAAUgBNADUAPwA/AEcAQAAzADQATABJAFMAMgBAAEQADAAlAA4ADAAAAPD/AAD//wkA8//m/xcA+v8DAA8ADwARAPz/AgD8/wwA4v/1/wMABwAFAAwACAD5/wMA4P/x/+//AAD7//T//f/4//r/AQAAAPH/BAD3////BwACAAQA6//x/wUA9f/s/w4AAwAGABAAAAD9//7/DgAFABAADgD9/xgACQD9//b/9/8FAOX/9v8BAP3/5P/p//T/5//c/9j/8P/y/xgA7//x/xIA8//l/+j/8v/4/xcAEAAPACgAMAAYABgANwAdABAALwAqACUAHgAVACIAIQAYADUALgAZACgAHgAtAC4AHQAqAA8AAAD8/wgA///t/w8A7//o/9j/zv/I/6j/r//H/83/v//V/9n/3f+j/8D/2f+q/7r/z/+x/7T//f/5/+j/5v/u/9D/2f/w/wYA6f/L/wAA/v/4/9b/0P///wsAFQD+/+P/7P/A/9//9////ysANQA1ACgAPgBdADEAIgAsABcALgAfAEAARAAdACEAKAAkACoANwA2AFMASgAzABgAPQAqABgAHQDx//n/1v/U/8n/4//1//7/FgAMABUA8f/T/9L/2f/H/+3/+//P/9P/5v/n/wAAIwABAOf/HgAfACQAGwAaADIABQAlACAAHwAcACAARgA0ABIAJgA/ADQAIwAeACQAEQATAAcAGAAKAOf/BQAOAPD//v8ZABkAEAAjAEoAIwAQAEIAOQAYAAwAGgBEADQAFwAgABEA+v/Q/8T/6v/z/xYAMQAMAAYAEAATAAsA/v8UAPj/5P/2/+v/6/8JAA8A9f/+/wEAAwABAOv/8v/u/+j/8P/j/9D/zf/S/+T/9P/E/7L/zP/T/9X/yv+5/9z/3v/i/+D/0P/O/+L/8v/Y/+X/2f/v/x0ANAAIAPz/AwD+//P/9P8IAPL/8P8RAAMA4f/1/wQA///u/xEAHwAsAEAARgA7AEIAOABFADYAKwBAACkAaQBWADMAQQBAAEAAHQAhACwASQBiAGMAUgAtAEIAMAAbACQANgBDACoAOAAzACkAMAAuAEEAHAAcAEYAZABsADYAJgAqABwAIAA1AC8ALgAhACgAKwAXAAgAAAAKAPT/5//s/+T/9P8KAPL/vf/R//H/2v8CAPr/zP/f//P/7P/i/+r/0v/Y/9H/yP/l/83/6v/j/97/+P/f/+//AwAEAOf/8//6/+n/w//a//n/vv/I//P/6v8PAAAA9P8gAP3/AgAUAAQABgAlABEAHgAXAAcA/v/u/+3/5//s/77/0//z/wUA5v/s/wUA8P/q//D/FADp/+L/8//y/xQAAAD/////+f8KAPX/4P8AAP//AAARAAAA7P/j/+P/5P/n/+P/BgDr/+X/z/+i/8T/sv+4/8H/u//R/6v/tf/R/8z/3P/E/6z/wP/j/+3/BAAUAPH/sf+s/53/kf+5/7//1//W/9L/wP+1/8n/xf+0/+P/DgAAACwAOAAWABQAEAAJAA0AHwAmAAcAEAAAAP3////i/wMAFQAdABAAHQA9ABoAKAAgAAUADgAFACUALgAvACAADQDm//D////2/wsA+v8TAA8A8v/y//H/5//p/8//2f/v/+L/HAAUAA0AEQAFAAAAAAApAB8AIAAKAAUABAD2/////f8NACkAJwAgADAAOAAyADoAMAD//x4AHgAwAD8ALgAtABIAIAAiAB0ANQA4AFgAcQBrAHYAWwByAHQAXwBNAFgAcQBeAGMASgBEADsAHAAcAAwAGgAXAP7/AAAAABYACwALAA0AEAAUABQAMQAkADAAWQA/AAkA+//4//7/BQD///7/+P/U/8j/3v/n//P/3f/b/+z/1P/V/9v/7P8JAOb/7v/Z/+f/+v/V/wAA7v/q//z/8//n/wUAAwDk//f/FQAmABcADwAVAAQAFADu/9H/2//f/wEA1f/m/+b/4P/z//H/CAAGAPj/CwAEAOn/BAD9/+X/7P/R/9f/0P/T//D/6v/p/7X/3P/n/7n/2//S/7r/xP/R//D/+f/w/+X/z//L/8f/qf++/8L/m/+y/83/5v/3/wAAGQAnACQACQDy//f//f8pACEADQAsACAAMAA3AB0ASwArAC4AXQA5AEgAXQB8AIYAeABoAF4APwAvAE0AUwBSAE8ALwAgACEAIwAvAD4AQQBHADUAFwAvAC4AJgA+AD4AQgBOAD0AVABOAEQARgAoABsABAAHAAQAFQAQAPj/EgAVAPn/3f/k//P/6P/G/6//vP+7/67/x/+//8D/wf+5/7H/w//U/8b/yf+y/7X/of+b/6f/xP/U/77/p/+X/4P/kv+K/3r/jP+K/4f/f/+N/37/g/+J/4T/jv+H/5z/lP+d/6v/f/+o/6j/oP+W/33/nP+1/8D/t//S/+r/3P+7/53/rf+0/6X/qP+j/7//0//w/9z/2//P/8n//v/5//T/AwATAP3//f8NACAAHgAyADUAKgAvAAoAHAAeADMANwAGACsAQQA+ADsAPQA3ADYAHwAOAAcACAATABcAHAAWADIALQBJACsAHgA6ACgAOwBJAFUAVABDAD4AQAAjADEAMQA9AFYASgBPACQADQAcAB4ALgBAADIAOQA3AC0ALgAfADUALwAsADwAPQBBAEQATwA/AD4AMgAVAPv/AAAeAAkABgAFAAAAAQD6/wUAHwAtACgACwALAAAABAABABYAGwDu/wwA7P/j/w8AEgARABEAHAABAOP/AgATAD4AWgBEACQA8f/o/+f/z//l/9r/2f/r/9v/3v/T/+r/9v/f/9D/7v/q//z/GwAOACAAGwAIAPL/CgAYAAAABgD2/xMABADt/xAADQARAAYA///t/9L/0P/e/+b/+v/6/wAAFgAYACkANgA5ACcAOwBBABEA/v8CABAAIAAKAPX/AwDu//D/BQDr/93/8f/v/+r/7P/4/wcACgALABsAQQBDADMAJwArACoAHwAvACEAFwBBAEAAIQASABQAHwAhACYAQwA5ADcAPAAhABgAGQAsABgAAwDy//P/CwAEAAkACgDd//T/FgAAAP7/7//2//P/5P/4/+r/3P/Y/+z/8v/c//D/+f/0/9r/z//V/9D/4f/0/9b/xf+z/7H/3//Z/87/1//g/9n/2v/Z/9P/xP+9/9f/0//M/+b/BQABAPH/3f/X/9v/9v8TAAsA3f/L/+f/5//a/93/+f8JAPr/+v/8/wAAGwAoAEEANAATAPz/5f/i/+P/9f/x/+D/+P/o/9T/2P/i//D/4v/x//T/7P/r//j/BQD5/wEABQD3/wwA/f8BAA0ABQDz/+L/7f/X/+n/6f/D/9L/3//3/wEA+P8GAAgADwD3/wwAFwD5/wYACQANAAIA+v/5//3//f/e/9b/2//d/9D/xv+3/67/u//I/+H/9P/g/8X/4P/o//z/AwD7/wAAGgAvAP7/BwD6/wMAGQAHAAYAAQAOAAcA8//q/xYAIAAXAPj/9P/v/+v/EgAPABQACwAUAA0AKQAuACMAQABTAGgAbQBNABwAMwAHAAsAJgAsAFgAMwA+ADYAJgBUAIEAgQBnAFUAUABQAEcASQBYAFQARwBEAEUARAAkAA0AJgAmAAsAEwANABQAIQAuABEAFAAtACAALwAFAPz/AwD8/xsAIAA2AC8AJwA6AC8AJgAqAFoAXgBQAFQARwA7AEkAXgBRAEEAIwA0ACAADAAIAOX/AwAMAAoACAAOAAgAKgAXAOr//P/0/x8A/v/i/8n/s//M/87/0P/C/9P/1//Y/8n/u/+i/7n/yf/A/9P/yv/I/9L/4//h/8j/vv/i/+P/9P/+//n/8f/t//r/8f/7/xIA/v/e/9H/zv/1/woAEQAAAO//7/8AAPX/8/8LAP//+/8FAAcACwAMAP//IQA5ADQAHAAJACcAKwALAAgAFgAPACoAMQAhAC4ALgAtADYAPQAmAB0ADQAkABYA7P/w//X/FQAhAAoA9//5//3/BgABAA4A/P/5//n/6f/d/7P/of+9/+j/yf+3/7T/v//C/7f/kv9+/7z/wP+9/7f/xf/Z/8T/vP+1/9P/1//j/93/5P/4/+P//P8gADMAIQAdABYAKwAxABwAEAAVACgALQBNADoAIAAVAA0A//8OAC4ANQBDAEIALgAGAPv/CgAXAAYADAD7/9P/3v/T/7//u/+0/9H/4//Y/+z/5v/h/9L/w//e/+7////6/+H/4v/h/+n/7f8EABsAEQAKAPL/7f/j/+X/DAAcAA4ADAAVAA0AFgAHAAQA8f/x/+T/0f/1/+v/2f/E/9X/w/+8/8L/yf+3/8v/yP+Z/6b/qP/A/7b/4//N/83/zv/Q/+r/3f8NAAkAHAAtABgA+P8lADMAOgBEABwANwAtAEgAQAA/AEQAOABLAGMAawBFAEsARwBqAE0ARABFAC0ATwBRAGUASgBWAEwAPAA4ABMAKgAJAPH/+/8AAAEA/v8LAPz/BwAQABgACgANABUADAARAAYAGwAXABcALgA3AEAAYABaAFcAWQBWAFsATABJACQANgA6ADQAPwBLAFYARABEACkAMgAQAPL/FgASABAAGAAJAA4AGAAEAAYA+f/n/+j/4v/m/+n/3//n/8//zP/O/5f/pv+j/6b/uv/Y/+7/4P/2/+j/+P8HAAIABwAOABoACgD6/+H/w//E/8n/pP+6/8P/tP/d/+v/4//S/9r/1f/O/+T/DQALAA8ADAD5/xcAEAAhAAYACQABANr/BQADAPX/5P/m//H/AQD8//D/6v/a/8//v//v/+n/9P/+//P/9P/q/wAA8f/y/wcACwDv/+D/2f/J/6//2f/e/8j/EAAKAPn/BgD5/+P/zv/L/9H/4v/V/8n/3//y/+L/5v8MAPn/7//w//7//P/5//z/2v/7/xAADQATAPn//P8DAP7/7P/j/9r/2//c/9f/z//A/9b/4v/o/9n/5P/x/wEA/v/3//f/8v/0/+//8v/3/wYA9P/1/+L/3//j/9T/8v/0//n/EwARAPP/3P/1//v/DAAJAP3/8//k/+z/4//9/97/1P8AAPD/EgAXAPr//f/1/+//+v8iACMAJQAwACgAOABDACYALgATAB8AMgA4ADwALgA7ABYAPQAbABkAIgAJAB8AFgAlACQAJwAUACoAFwDx/wgAAADn//r/KAA1AEMAGgARAA4A6/8AAA8ADAAKAAUA/P8GAPX/+//n/9r/xP+f/9T/5//9/+L/wP/U/83/wf+3/8//xv/X/8L/qv+4/8D/7v/N/8r/5/8FAA4AKAA4ACYAGQAEAB4AFwAlABYABAAJAPD/6//7/wMA9//+/xMA/v/Z/+b/2//u/wUACQAbAAsA+v/5/xEAIgAGAAYALQAfADUANQAtADQAKAAtABcAFQD6/w4ACgAMAB4AKwBIADYAPAAiADAADQARACcAMQAyACUAOAAwAFMAQAA7ABkANgAlABcARQAoAEkANgBUAGEAQwBEADwARgAbABUAJgANACQAIwAuAEEAOwBMABwADQAEAAsAEQARACUALgAqABoAIgASABgAAAD6//r/AwAIABgAQgA2ACEAIwAkADMAQgA6AEgAEQAEAAkA8//Q/9b/4v/Z//7/4f/K/8z/5f/V/83/0//F/8j/t//E/8n/yv/h/+H/0//8/w8A8v/v//f/7f8AAOD/0P/b/9X/5f/i/9b/zv/y/+T/AwDv/+f////t/9f/yP/d/7v/7f/k/+D/4P+4/8z/yf/d/9n/3//n/9v/3v/u/xoAMQAVAAkA/v/e/77/0f/w/97/6//b/8n/wf/F/8T/0f/j/9v/4f/H/8//4v/a/+L/+P8BAO7/5P/k/+3/5v/u/wEAAgAHAAUADgAHAAMADQARABIAGAAdABEA7f8IAAIA+P8WAAMAFQACACkAKQAZAB8A6/8NABQACQADAB4ANgA1AC4AGQAQAAgA+v/x//n/0f/D/8//z//U/+r/9/////b/+v/u/9X/6f/R/+P/5v/s/8v/p/+1/6f/sf+b/5n/nv+4/7P/vv/R/63/xP/S/+H/2v/q//P/7v/4/wIAIQAOABAADQAYABsAAADp//L/HwAYAB4AIgAeAC0AIAA6AE8ATABrAE0AQwBCAAcACgAnAEUAQQA8ADQAOABlAFMATwA+ABcAGgAVABwAKgBBADQADQAXACYALwAXAAQA8v/1//P/yf/r//D/8//2//b/+P/p/+j/5//1/9b/BgD//+L/BgAPAA0A5v8DAPT/2f/X/+v/GAAUAAQA4P/q/w8AFQAMACYANAAsABgAAAADABcAFwAWADIAPQAvABcAGwAYADUAJgAJADgAJgAQAAkAGwAjAPn//v/7/xwAEAAgADIAJgA+ABwAMAAcAC8AQQA9AD8AMwBXAEkAKAACAA4ALgAvACwAKwAbAAEA+P/u/wcABwD3/xsAAQAFAPz//f8WABEAIgAaABsA8v8AABkAMwAvAAMABQAVABoAEwAFAAgADQDl/wgAFgAFACIAKQAcADAAGgDw//b/AwD+/woACgD7//T/5P/9/+//2v/Z/+b/7v/x//L/8//r/+L/5v/Z/7X/pf/R/+f/6f/j/87/1v/f/8j/y//M/8r/xv/k/+//4v/5/8f/3v/j/9r/9P/J/+D/8//4/wYA0P+5/7//y//r/+L/6v/f/87/zf/G/8L/s//D/+//7//v/8r/zP8OAAwAJwAEAPX/BwARACAAIgAVAPX/DQAiAAsAGQAdABIAEQAJACQABgDu//P/GQAsABsACgAAAAoAGwAhAAoABwAWABsAGAABAPr/DwAMAAYADwDu/8v/3P/J/9r/zP+7/6n/o//E/87/2//d//f/AAAMAAkA6f/6/xkAJQA1AEkAGwDo//r/FgAcAAgAEAAHABcACwABAAAA+P8QAAQAAADw/wMA+P/u/w8ABwD2/9H/3//s/9n/6//g//P//P/8/wIAAAALAA0AAgADAA4ABAANAAIADwAsABsABgAjABQAEgAYAA4AJwAFABMAKAAbACgAKQAhAA4AGwAPAAQAGgAYAC0ALgAUABgACQAZADsAQgBZAEgAMgAaAAAAFQAeAAEADQAtABsA9v/1/9//7v/j/+7/FwDz/wAA8P/Z/7r/0v/Z/7v/wP/Y//X/2v/S/87/zP/K/9j/xv/P//D/8v/g/97/s/+k/8P/t//W/8b/1//B/9b/9P/I/77/qP/L/8j/0P/d/9H/wf/G/9r/3f+7/4D/pf+2/8H/3P/h//r/7/8QACsAFQAGAAcAKAArAEMAUwBGAEUARgBEAFIAUwBvAHgAXgBmAEYAVwBKADwAUwBCACkAJABNAE4AegB6AEQAPQBNAFQAUwBgAEoAYgBIAFMAVwBLAFQASABYACUAJAAbAAwAGAATABsAJAAfAAAACQAjABgACgAVAA8AIwASAOX/6v/c/+j/yP/N/+L/x//f/8f/pf+z/8//2f/i/9n/4f/D/63/o/+Y/6T/u//Z/8j/2f/+//v/0//c/+T/1f/M/9//9v/v//j/8f/k/+X/3P++/9T/xf/P//f/vv+t/7b/3P/k/8X/0//g/9P/xP/P/9T/w//W/9z/6f/7/9b/1f/X/73/wf/g/+v//P8AAP//8f/X/9L/8P8NAA0AAAD4//3/9P/d/9H/+f/3//L/6f/c//n/AwD6//n/DAD5/+L/w//c//f/9P8VABcAGQAEAAsAEQBEAGEAMgA2AA0A+v/r/+7/7v/5/xUAEwAGAAUAAgAIACoAMABAACYAJwAnABUAEgAbACQAIQD1/+7/9f/k/+//4//z/+j/4//G/7//2//j/wwAEgAcAA8A8v/v/9D///8rADgASgA9AEYANAAeACcAIgAiADsAHQANABIA/v/+/9//4v/2/+r/AQDq//7/DAD1/+//3//x//D/8f/f/+T/0f/l//r/+f8EAPT/7//Z/+v/6//l/9n/3v/j/8z/zP/v//P/8P8NAA0A+//4//v//P8TABwAKwA3ACkAJAAgACUAJwAoADoAGAAFABAAEAAOABgAFgAaACUAEQAKAAgAEQAaABkAFQAOACcAJwARAAsABAAGAAQADQAKAPH/5P/m/+///P/3/wMA9f/x//n/4v/w//z/AAAAAP///f8AAP3/+//3/+//CAAsABYABgAjAEMAMQAjACUAFwAbAAUACQAOACsAIgAJABAABwAdABgAEAADAAQA/P/e/+H/9v8JAP3/9P8QAAcADgAlAB4APAAfAAQA+f/x//P/+v8QAAwAEAD2//D/AwD///z/JAA4AD0ALgAMAA0A9f/4/xAADgAEAPb/BQAOAAIA///r/xAAMwAKAAwA9f/4/x0A8f/t/9v/0v++/73/5f/n/wQA+f/2//v/7//V/+j/FQADAAAAAAALAPT/6f/u//r/AADo/+b/8P/g/8X/0//Y/9D/w//j//7/9v/r//v/BwAYACsACQAXABQADwAgAAYALQA2ACoAPwAGAP//LQAzADEAOQAiAAoAIgAPAP//+f/p/+7/1P/J/9///P8AAAcADwAAAAIA/v8DAAQA7f/r/9z/1v/s/+L/6P/7/+z/5//o/9b/2f/s/8r/xP/a/9n/3v/C/+n/1/+0//H/6P/h/9b/tP+v/6r/uf/P/9D/3v/q/+D/2v/V/7H/2f/9/9T/1P/J/9f/u//L////4P8AAPf/1f/f/+v/9P8CAAQA8P/4/xYAKwAjADcAOQBRAFQAPQA5ABsAHAATAAMADQAQABAAKQA1ADYAPgA3ADsAPQA9ADgAJgA3AC4AAwDy/+r/FQAoACUANwADABAAIQADABkAIAAcADkAEgACAAsA9/8QAAsAGQACAPH/CgDr/97/3f/j//3/AAAPAAoA+P8CACIACAD+/xsAIwARAOj/5P/i/+n/7//T/9n/5f/d//H/+P/c/8f/zf/X/9X/0f/r//H/+/8DAPb/DwAXAA4AAAAPADMAMwAfACYAKAAmAEEAMwA9ACoABQAJAAIAFwAEAAEACwAVACUAKQAvAAwAEgAiABIADQAUAAgAAgAJAAsACwAXAP//8P/o/9P/9v/w//j/CgDq/7X/wv/I/97/7f/s//n/0//x/87/u//L/8X/5//q/8r/v//G/8v/8/8PABgACgD7//L/5P/x//3/9v+9/8X/AgDl/+//+/8KAAkA9v/s/9X/9v/4/yEAHQAAAAEA/f8QAAMACgD4//b//v8DACEAFwACAPv//P/9/w8AJQA3AC0AJwAfABgAIgAQADMASAAxACwAEgAHABEACwAlABMAAwD7/wQAJQAGACAAKAAEABsAIwAOACoAFQA8AFQAMwBEAEcAYwBTADYAQABHAD4AQwA5ACsAJwAVABQAGgD4/wsAHwAsACYAAAAFANr/5/8BAAAADAANAP3/AwAKAPP/8f/X/9r/1//N/8b/t//G/93/3P/N/9n/1v/J/9T/vv/V////6P/h/+f/2//V/7H/ov/J/9T/y//J/9r/0v/U/9//xv/G/8n/3f/x//3/BADu/+3/1f/f/wUACAAKABcAEgAUABUADwAWABYAEwABAAgAFAASAPr/8/8AAAAAEwAjADUAFgAWACwAOwAaAAEAHQAVADcAIAAbAC0AIAAYAAUA/v8EABUAEgAVABoAEwDy/+7/8/8QAAsA9f8KAPb/8f8JAB0AFAAEAOP/+v8ZAAEA9//Y/9P/3v/r/wsAFwDz/97/7/8KAB4AKgArABUAGgAgAAkAHQAeACYAGQANAAwA+f8VAB0ALwAjADIAKwAgACkAHwAWAP3/BwAWAA4AIgAyACQADQACABMA5v/s/+3/4P8QAAEA9v/Z/9f//f8DAP3//P8YABIABADz//D/7//p/+b/0f/O/+D/9//X/9j/8//8/wYAEQAeAAMADAApACoANwAmABcAFAATAC4APgAlACYAMAAeAB0AFwAVACkAPAA4ACEAGAAcAAAAAAAXAAwA9P8EAB0AIQAvABQA3v/K/9j/0//b/+n/4P/V/8//9P8SAPL/7P/9//b/7v/o/+T/BAD4//L//P/9/wcA6f/Z/9X/6//h//D/7P/T/8n/tP+z/5//kv+U/5//yv/Z/8z/r/+o/67/oP/C/9n/5v/a/+D/3P/x/+n/3f8AAPX//f/r/woA9v/i//L/4v/2//H/CQAKAO//6//s/wUA4f/h//L/zf/J/8z//v/5//r/8//j//3/9f/7/wsAOQA1ADMALAD//wwA6f/p/+//7P/0/8//6f/2/xEACgAUAAsA+v8JAPf/GwAgAA0AAAAFAA4AJAA2ADAAQAA7AC8AIwAlADsANgAuADYAPAA1ADwAPgA+AEoAPwBCAEQASwBDADsAPQA/AC8ACwAoADYANQAsAAcA/f8PABwAAwAUACcACQAIABcAHAAUAAsA/f/q/+L/1f/L/7z/tf/Y/+L/3P/l/+T/7P/l/+//+//v/+n/8P/s/+P/5v/L/7v/z//0/+7/6P/y//r//v/g//7/AADx/+///v8JAAUAMwAlABEAMAAiAPL/+P8IAAkABwAJABAA9//6//z/9P8gAA0A/P8GAAQAEAAEABIABAAWAAMA5P/6//v/CAD6//f/9//v//j/DgAPAAwAAQD+/wcAAgAaABoACwDy//j/BgD0/+T/6f/h/8L/1f/a/+n/1//m////9/8AANL/3//7/wYAAQALAAwABAD+/+b/DAAdAA4AFAA/AEEAPwBRAFEAUwBaAEQALwA6ACMAFgAkACUACAANAAUA9f8LACcAHgD+/+b/1f/h/9j/0P/A/8H/x//E/9X/yv/N/7n/r/++/6v/yf/Q/8X/vv+4/8v/wf/N/+L/7f/R/9b/2v/U/+f/7f/x/+n/9f/f/9L/4P/X/83/1//U/9X/2//3/+j/4v/y/+b/7P/5/yEAGgANAAcABwD6/wUAFgAaAA8AGwAsAAQAJAAUAAYAAwAJAPj/+v8cABIADgDz//n/AQAYAAQA+/8IAAIAGQA4ACoAGgAvAB8ABwAPABkADwD+/+L/9/8SABIABgAYAAgA8v8GAP7/AAD1/9v/5v8AAPD/+/8AAAYAAQD1/wkA+f/4//n/+f8DAAsA8v/k/+f/+f8JAPT/6//y//z/9f/o/9r/5f/0/wYAKAArAB8AGgAiAB8ALQAwAD4AQQA3ADgAPwBAACoAOwAnACcAHgAOABMAHwAqACUAHwALABAABAAAAPD/4P/0/97/zf/P/8H/xv+4/8z/5P/r//X//f/1//H/8P/o//n//P/7/wUAJQAhABUAGAAjAB4ALAAsACMANgAsABwAHAAbAPj/AAD7/+r/8v/r/wMAHQAYAB8AHwAPAAAAAwANABUAEAAFAAMA9f/y/+L/7P///wYABAD8//L/6v/u//v/DQATABMA9f/7/xAAGwAvADQAMgAbABgAIQAxADkANAAXAP3/+f/2/wQA+//u/+D/6P/o/+f/2f/f//r/+f/n/9r/7v/v////CwAbAAgABgALAPP/+f8AAP3/3f/a/8z/1P/u/9j/0v/P/8v/0P/r/+j/4P/4/+L/8P/4/wAAEADt//n/+f8OABkAIAAYAPP/8v/x/xAADQAXAA8ACwADAPf/+v8GABAABQAdABwAHwAYAC4AIAD9/wEAJQAiABgABgAEACMABQABAOr/8v/3//v/1//Y//H/4v/o/9n/zP+5/9b/0v+6/8n/3P/S/8H/yP/c/9j/yP/J/9f/7v/z/+//6v/n/+z/5v/i/wMAFAAmACQAIgAaAPf/CQAOACUAEwAAABkAGgAJAP3/EgAAABYAFAAUACQAFQAOABMAKwAzACsAEgARABQACQD6/wEACgAfABIA8v/t//v/AAAAAAEA5f/0/+n/9P/7//T/7v/S/9z/x//W/+j/3f/g//P/9v/O/8v/xP/f/+//6f/z/93/8f8MAAEA8f/p/9v/7v/2/+7//P8TACsAHAAFAAEABgDx//v/EgAOAAwAFgAgACoAJQAgAC4ALAA2AGAAfwB0AGoASQBKADsARABpADkARwAmABEAMgAmADQAOABAAE4APAAWAAMA8//t/+H/3//v/+v/5P/U/7j/3P/o/+v/+P/i/9//z//P/83/3P/Y/+7/9P/4//P/3f8AAA0AFQD6/9T/u/+y/8P/4//Y/+v/5v+//7v/xv/S/9D/5f/g/8n/xf/O/93/3//j/+b/1//1/wgACAAcACQAHwAnADUASgBJAEUAUABLAD0ALAAmABYA9f/+/xIAEgAXABUAFgAQABAAFQAVABAAHQANAAEAAgDh/+v/3v/Q/97/zf/c/+v/4//m/9f/0P/i//T/7//l//z/DAACAAAADgAOABUABAACAB8ALwApACIALQAbAA0A9/8MACsAMAAdAB4AKAAQAA8AEAATABMAAADz//f/6f/r/+7/AQAPABoACgDs/+b/5//2//j/9f/l//D/1P/f//X/+v8SAA0ADAD3/wAAAwDc//T//f/s//L/8P8dABwAAgD7//j/+P8LABsAAQAKAPX/6P/q/+n/7//Y/9//z/+8/7v/uP/P/+D/3f/K/9b/5f////7/9v8bAAUA+/8FAA8AIAAuAFAATQBDAFYAVQBMAF4AWAAxADEAGgD9/x4AKAAbAPj/4//m//T/7//t/9D/w//X/9H/6P/k//T/7v/W/9D/5P/0/wMAHAAgACUAFQAVABgAFwAdAAoA8//z//P/BAAHAAcA///w/+j/4v/m/+T/5P/D/9T/4P/P/+3/2v/L/7//vf+9/8v/2//f/9v/zf/r/9T/3v/O/8v/0P+4/8L/vP/N/+X/5v/o/wAA/P/4/wcADAARAAcAAwAaABQADAASAB4ACAAPABsAHQAlAB8AIQAdADsAIwAPAAMABAAgACMAHAALAAUABwAOABYALgAxACsAIwAdAC4APwAmABkAGgAPACMAHgAQAP7/4P/O/8z/0//k/9r/2P/1/9//4v/j/9b/4//i/+H/5//z//b///8OADUALgAUACcAJAAqACUAKAAiAC0AQAAxABoA+/8SAAsAHABBADkAFwATADQAIgArABgADgALAAsAIAAZACoAJgAjAC4ALwAoAAoAAgAXACEAFwABAA4ADAAJABEAFgAfABIABgACAP7/+P8PAAgA9P/r/+z/+P/+/xAACQAVACAAAAARABsADAAPAC0AKwAUAAIA8/8AAAsAEgANAAIA+/8SAAQADgAIAAoADwASADoAJgAZAPz/5v/1//z/8P/0/9H/2v/1////CAAAAAgAAQD+////GAAYAP3//P8HAAIACQAKAAQAAADn/9D/vv+//8b/xf/L/9H/r/+a/6f/rf+m/6X/wP/K/97/4f/k/wAA8P8AAAoADQAbAA0AEwARABUAJQA8ADwAQgBFADwAOAAyADAAKAAoAB8AFwATABgAEAAGAP7/AAAXAP3/+P8BAAIA/f8DAAoA8v/2/+z/6P/2/wQABAD3/wEAFgADAAEACwAWABoABwD5/+j/+v/2//L/6v/o//D/2f/h/8//zf/F/7b/z//R/9b/2v/N/9L/4//g//j/7//6/////v8AAO//BgD8/+z//v8PAP7/AgDt//D/7P/p/wkA7f/w/+n/6P/L/9L/8P/0//L/5f/n/9f/1//J//D/3P/e/+3/5//n/+X/6//w/xkABAAHAAwAFgAfAC4AMgAoACoAKwAXAA0AFQAMABsAHQAPAP7/9v/e//P/8P/r/wQA+f/w//n/BgDq//r/BwAEAP7/7P/t/+j/9P/f/+P/7P/o/wMAAQACAAAAEwAMAAkADgADAA8ADwAYAAQAFQAdABoAFgASAC0AMwAYABsAHgALAA4A+/8AAAAA9f8AABkAHgAnACoAIAAUABoAJQAcABgABwAHABYACAAIAAIADAAVAAkAAAAHABgABgAcACYAIQAYAAsACgAMABEACwAWABQADwAZABUAAwADAAYABAARAA0ACgAXAAgA+/8LAPf//f/+/+r/AQASABUAEQAMABkAEgALABwACQAEAAEAHgAMAAcAEwAAAAAA5v/v/+j/4//2/+r/3//h/9b/2//j/+v/y/++/8X/sf+u/67/y//R/9z/9v/u/+7/+f8SABEACwAQAPH/9v/q/93/9//6/+b/3v/Y/9v/9f/s//T/8P/n/+z/7v/l/9j/1//b/+n/7//1//z/+f8CABYAIwAsACkAMAAQABoALAAZABcAHQAeAAEAAAD9//z/9//l/+P/5f/w//n/BQDz/+j/AgAKABoADAABAB4AGAD//wAA6f/Y/+/////6////EQAUAB8AEQAcAB0AKwA5ACcAGwADABcABAD6//j/AAAQAA0ACwDw//P//v8AABIADwABAAQA/v8XABMABAANABUADAABAAsAAAAGAAcACgAXAAkA//8KAOn/8v8BANn/3//r/wcA/v/z/+j/7/8DAN//8P/h/9r/4v/V/9r/4//l/9//5//k/+P/5P/z/+D/2P/h/9//yf+u/7T/tv/G/8r/6f/5/9j/4f/Y/9z/7f8AAAgACQAIAOb/+P8CAPj/+f/4/+7/7//1/+7/BAD2////GwAIAA0AHAAbABoAHgApAD0APgAwAD0ARgAoADIAPgA1AEUAPQA4AC0AMAAgACAAMgAtAEoAOwAlABoAEAAXACUAIQAbABwAAgD6/+f/4f/z/wEABQD8/wAA+v/+/wcA7f/o//L/9f/l/+D/6f/T/8r/vP/S/+n/8f/8//z/AAD2/wUA/f/5/wIA8v/h/8v/1f/x/+X/AAAHAO7/AADy/+3/3//x/wIA+/8FAOP/8P/v//D/DgAYABcAAAD4//v/AgAgABUACwAOAAEAFwAfABYAAAAJAA8AAgATABEADQAcAAoADQA3AEAAJAAdABMAGgAiAAAAEAAVABEAFQANAAsAEAACAAwAKAAoAAUACQAGAPD/CgDl/+j/8P/j/+///P/1/+//9//y//r//v/r//r/AQDm/+j/2//q//n/7//0/w4ACwDx//n/8v8BABIABwASABAADwASAB4AHwARABoACgAAAPP/7f/k/9X/0v/p//z/8f/i/9H/6//p/+D/5//u//v/EAAeABQACgAMABkABADt//z//P/7/xMA8f/1//7/AAAQAOn/7//w/+3/+v8NABUA9P/1/wYAEgAiAB4AIAArAC8AIgAQADAAHwAOAB8AIAAnAA4A+//1/w4AFgASABMACAAaAB0AJgA4ACoAFwAAAAoABQD+/woA+v/z/+P/7v/8//X/7f/h//H/5v/1/wQA5P/o//L/8//j/8b/yf/k/9P/vf/A/8f/0//X/+b/9//2/+z/+P/j/8v/5v/q/9//6f/z//b/8P/2/wQADADz//r/BQAEAAcAGgAOAPT/7P/X/+n/1//r/+r/4v/s//b/5v/a//D/7//p/+L/AAD9//H/7P/9////7f/y//L/9/8IAAIABwAHAP3//v8CAAQA9f/2//X/AAACAP//9v/4//3/BQAAAPL/+v/3//f/FgAYAAUAAgD7/wwACgADABsAKgAhABkAEAASABUABAAVACQAGQAlACoAHQAxADgAQQA4ACkANAAgAA4ABwAaAAoADQAJAAAAEwAXABcAFAApABwAGQAIABcAEgARABcABgAQAAgAEgD7/xQAFAAJAA4ABAAGAP//CgAHAA8ADwASAAIACQATAAcAEQARAA8ABQD+//b/8v/u/+f/5v/5//3/6P/Z/+3/+f/v/+7//P8NAPL/8//p//L/DQAAAAAAHAASAAcADAACAAwABgAnACQAHQAnAAsABgAJAB0AIAAKAAwA/f/0/wUA/f8EABYADgD6/wYAEgARABIABAAPAB0ACADx//D/4P/Y/9f/2f/l/9//2f/S/+P/9f/o/+v/9v/1//L/8f8FAAoA+//+//7/CAD+/+v//v/6//L/+f/7/+//5v/3//v/9P/t//T/5v/k/wIAEwAdAAYA+v/w//X/+/8NACYAFQANAAsADgAPABcAFAAeAAoABgAXAA0AEgAKAA0AAAAJAPb/7f/3/+n////5/wIABQD2//j/AAAFAP//+//6/wEA9v8AAAwAAQAdABUABwAMAAUAAQD+//r/9v/x//3//P/4/wkA+v/o/+//5v/X/9z/4//l/+f/4f/Y/+P/8v/p/+b/8f/u//D/9P/7//T/5f/p/+j/7/8AAOT/4f/1//3/AADt//7/5P/p//f//v8KAPz/AQDz/+X/4////+7/7v8AAAMAJQAkABIAFAAOAPv//v///woABAABAAIA/v8CAP3/BgARABMAHQAcACUALAAfABsALwAlAAsABAADAAYA+//8////AwDs/+f/5P/f/+//5P/e/9L/1f/0//f//v/+//j/AwAFAAAABAAVAAQADgD0//f/EQD4/+P/2//y//j/+f/+/wAA8/8FAPX/+/8DAAwACQD5/wYA+//1/+j/AAD8/xEAEQAEAAQAAQAhAAcAEgARAAsAEwD9//P/+f8OAPb/3v/0//H/6v/e/8z/5//3//n//P/k/+b/6f/m/9j/5P8IAPX/8f/+////CAAZAAsAHgAsABQAJgAaABIAFAALAA8ADgAaACIAEwAhAC8AHwApABcAFQAgABsAJwAOABIAFAD//xUAFQAbADcAMQAcAA0AFwAgACcALgApACcAGQAUADgAIwANAAsAAwAXABgABgAKABoADgAPAAgADgAZACAAGQAfADMAIQAbACAALQAoACcAIgANABIABwAKAAkAEgAGAOj/BgD9////DAAEAAgA/f8CAAAAAwAPAPb/+f8CAAgACQAHAAsA8//z/+P/6P/2/+r//P8AAOH/2//u/+j/8P/u/97/0P/M/+L/7f/s/9//5//j/+f/8P///wIA5P/W/9D/3f/g/+X/2P/a/9X/yf/c/+b/4P/p/+z/1f/r/+z/5f/0/97/4v/o/+v////o//n/DwAHAAoAAwAHABEADAD8/wUABwAAAP7/8/8CAPf/8//U/+X/+f/k/+f/2v/j/+//+v/Q/+L/2//Z/+L/w//v/+T/8//9//P/EAAKAAAA///9//n/FwAUABMAKQA1ADMADwAnACsAKwAsADIANQA1ACoAIwAxACwALwAZABgAEwAnABsADQAVAP//DgAMABQAGwARAP7/BgAcAA0ABwAIAAMAAgAJABYAIAAOAB4AEgD+/wQADAAMAAUAEgAKAP//8//o/+f/6//q//f/8//n/+//6P/3/w8A+//q/+3/7f/l/+n/7//4/w8AEgD2//v/BwD8/wQAAwD6/+7/+v8HAP//9f/r//j/4v/O/+H/6f/v/+b/9v/j/9X/2v/c/87/vv/B/7z/zf+3/7v/vv+//8j/0f/L/8L/vv++/7b/vP/R/9n/3f/e/+//4v/b/9n/7f/4/wQA9//v/wEABgALAAwADQARABAACwACAAIAIQAQAAAABQAHAAgA9P8BABwAMAAgACIAGAAMACgAFAAXABgAHgAOAAwADwAWADAADgAOAAEA/f8LABEAHgAQABgAEgAuADkAJwBJAC8AJQAkAAoAFwAhACEAJQApACoANAAgABkAJgAuABsAEwAjAAUADwATAAoAFAAWABQAFgAMAAsAAwD+//f//f/2/9j/6v/Y/+P/4f/u//j/4//n/+L/4P/g//v/BAA=\" type=\"audio/wav\" />\n",
              "                    Your browser does not support the audio element.\n",
              "                </audio>\n",
              "              "
            ],
            "text/plain": [
              "<IPython.lib.display.Audio object>"
            ]
          },
          "metadata": {
            "tags": []
          },
          "execution_count": 27
        }
      ]
    },
    {
      "cell_type": "markdown",
      "metadata": {
        "id": "1MaL9J2dNVtG"
      },
      "source": [
        "It can be heard, that the speakers change along with their speaking rate, accent, and background environment, etc. Overall, the recordings sound acceptably clear though, which is to be expected from a crowd-sourced read speech corpus.\n",
        "\n",
        "Let's do a final check that the data is correctly prepared, by printing the shape of the speech input, its transcription, and the corresponding sampling rate.\n",
        "\n",
        "**Note**: *You can click the following cell a couple of times to verify multiple samples.*"
      ]
    },
    {
      "cell_type": "code",
      "metadata": {
        "colab": {
          "base_uri": "https://localhost:8080/"
        },
        "id": "1Po2g7YPuRTx",
        "outputId": "88b7fe90-62be-42bf-9b91-4c19582b8aaa"
      },
      "source": [
        "rand_int = random.randint(0, len(common_voice_train))\n",
        "\n",
        "print(\"Target text:\", common_voice_train[rand_int][\"target_text\"])\n",
        "print(\"Input array shape:\", np.asarray(common_voice_train[rand_int][\"speech\"]).shape)\n",
        "print(\"Sampling rate:\", common_voice_train[rand_int][\"sampling_rate\"])"
      ],
      "execution_count": null,
      "outputs": [
        {
          "output_type": "stream",
          "text": [
            "Target text: उसने मेरी पीठ पर थपथपाया और मुस्कुराया। \n",
            "Input array shape: (71040,)\n",
            "Sampling rate: 16000\n"
          ],
          "name": "stdout"
        }
      ]
    },
    {
      "cell_type": "markdown",
      "metadata": {
        "id": "M9teZcSwOBJ4"
      },
      "source": [
        "Good! Everything looks fine - the data is a 1-dimensional array, the sampling rate always corresponds to 16kHz, and the target text is normalized."
      ]
    },
    {
      "cell_type": "markdown",
      "metadata": {
        "id": "k3Pbn5WvOYZF"
      },
      "source": [
        "Finally, we can process the dataset to the format expected by the model for training. We will again make use of the `map(...)` function.\n",
        "\n",
        "First, we check that the data samples have the same sampling rate of 16kHz.\n",
        "Second, we extract the `input_values` from the loaded audio file. In our case, this includes only normalization, but for other speech models, this step could correspond to extracting, *e.g.* [Log-Mel features](https://en.wikipedia.org/wiki/Mel-frequency_cepstrum).\n",
        "Third, we encode the transcriptions to label ids.\n",
        "\n",
        "**Note**: This mapping function is a good example of how the `Wav2Vec2Processor` class should be used. In \"normal\" context, calling `processor(...)` is redirected to `Wav2Vec2FeatureExtractor`'s call method. When wrapping the processor into the `as_target_processor` context, however, the same method is redirected to `Wav2Vec2CTCTokenizer`'s call method.\n",
        "For more information please check the [docs](https://huggingface.co/transformers/master/model_doc/wav2vec2.html#transformers.Wav2Vec2Processor.__call__)."
      ]
    },
    {
      "cell_type": "code",
      "metadata": {
        "id": "eJY7I0XAwe9p"
      },
      "source": [
        "def prepare_dataset(batch):\n",
        "    # check that all files have the correct sampling rate\n",
        "    assert (\n",
        "        len(set(batch[\"sampling_rate\"])) == 1\n",
        "    ), f\"Make sure all inputs have the same sampling rate of {processor.feature_extractor.sampling_rate}.\"\n",
        "\n",
        "    batch[\"input_values\"] = processor(batch[\"speech\"], sampling_rate=batch[\"sampling_rate\"][0]).input_values\n",
        "\n",
        "    with processor.as_target_processor():\n",
        "        batch[\"labels\"] = processor(batch[\"target_text\"]).input_ids\n",
        "    return batch"
      ],
      "execution_count": null,
      "outputs": []
    },
    {
      "cell_type": "code",
      "metadata": {
        "colab": {
          "base_uri": "https://localhost:8080/",
          "height": 497,
          "referenced_widgets": [
            "0b6afc7262fc4385939cb0db12214459",
            "29f9f51d5b5c4feca2b41884a7d9f978",
            "a53b48de44184f589076693b0262bad9",
            "45aade76b5964490b3cccab64aff9dbb",
            "3b074c2cd5a84044a362e1c4e70681d2",
            "746916cf46ec4b8497120b7e5748f856",
            "29593083673141708faa21d3496aaa08",
            "6af77e60145847d3b2887f2519cd3fcb",
            "07dc83387c59409a87b96bc0b3285bab",
            "08d3413358d04a56b1c3d42e3e9b6354",
            "62b690b117a94fe985ed4362df352890",
            "50d3a1c054ee400296157f144b30bf01",
            "7d95aa34bc3f47669479009bbf6304a0",
            "4e85a902264b48d294de7a1455992fc9",
            "7dbd8df91dc9418bbcc6b502e2c4ee60",
            "2930ce3fd7874341af9b482e56adc2d4",
            "fcd0d87d160b426a9d3af92d1ac6b620",
            "45139868c26b4107bdce85c7b10e6458",
            "0afc26633d6e40008c8fe4415375db1f",
            "d15d50c0b7ca4105a689b52bdc5d0925",
            "8621de4d52f34ec69af33153b2d3fd1c",
            "3396385f1c50472ab0d92e61ecaca42b",
            "9fa61bc607414dbc9322e57f32f93bcc",
            "9b4a9b8d8466423eb562eee033e54449",
            "8105f878d8854d0da1cf5069f7b25f99",
            "aef2faad2d90409c8209f23da104597d",
            "ccb93d2484ce40248d118e60b3a7cd08",
            "986b9b765e9648bbb417fe66a0fcdb70",
            "0c665d3cabf6493baf86c810ec935669",
            "e176603a89554a43b235319e10982095",
            "13bd2e018a734efca2beaf6f2e3a5f48",
            "aa1fac12952944898791c854843edf01",
            "f2894e7556fa4feebcd09d492e727d64",
            "17ed0bceb5f0423f94acb5de9233bcd6",
            "fa182c6dc6164fa0bc6597d30fc51182",
            "731caf88a00642e49d8ab4e5089e7069",
            "5b9b576be0f045649789de49954a5117",
            "3ad861dd3b764885b8769b51453cc119",
            "50c5a062692d4480a819872351319da2",
            "185d69406c0448bc92789d9c2b239f36",
            "07a681984da943a4ae7acef61588a42c",
            "ca33ec9797734099a917695f43269bcb",
            "6a6f4e0b2d594c9088770c0056e8ffb1",
            "4f5f3b37d33c4cd1857caeb2bd60748e",
            "91d45d12339542ac83a0ad1e84dd4a2c",
            "bb119f968b7a48108d5b35b49e655701",
            "13db9e720b834bc0a56e3fa9a37a6b15",
            "18d8ec4a26324260b27bf1706c59e446",
            "f19e151a90564209b6e768fb89ff57f7",
            "f185d27a602e4441b7c2ad9284668b84",
            "dbf560cd12fd4f2f8ce1c4b33758d263",
            "c39050d5ca3f4b96a34dcf76840c9290",
            "87faa65391724256ae9ae038bb30faf5",
            "d41fe4c8358b4e0abed827fbc5a2d97f",
            "834c2eff634546b89c213712b6bdbb89",
            "87bd69a1aa20491aa58f884a2b666afb",
            "22d1daf6e7214e4e8c7b7828a849d8c8",
            "bbde8b5e337942deb5057d66332019fb",
            "aae63304f2424fd48ab6bd5c44b96ec0",
            "cb61934972ad4afd8cceb73a3e1b04e6",
            "f426c4bf1395409faf2839d23d38478b",
            "1be94e315ad14637993dfefc1d2cec3d",
            "091dfe45c23c49899a2f36ae25d91e4d",
            "6b421adefa9d4630b064c4b304b58b8e"
          ]
        },
        "id": "-np9xYK-wl8q",
        "outputId": "ba2861f7-0f23-4e09-e0b6-0efae082310d"
      },
      "source": [
        "common_voice_train = common_voice_train.map(prepare_dataset, remove_columns=common_voice_train.column_names, batch_size=8, num_proc=4, batched=True)\n",
        "common_voice_test = common_voice_test.map(prepare_dataset, remove_columns=common_voice_test.column_names, batch_size=8, num_proc=4, batched=True)"
      ],
      "execution_count": null,
      "outputs": [
        {
          "output_type": "stream",
          "text": [
            "/usr/local/lib/python3.7/dist-packages/numpy/core/_asarray.py:83: VisibleDeprecationWarning: Creating an ndarray from ragged nested sequences (which is a list-or-tuple of lists-or-tuples-or ndarrays with different lengths or shapes) is deprecated. If you meant to do this, you must specify 'dtype=object' when creating the ndarray\n",
            "  return array(a, dtype, copy=False, order=order)\n"
          ],
          "name": "stderr"
        },
        {
          "output_type": "stream",
          "text": [
            "    "
          ],
          "name": "stdout"
        },
        {
          "output_type": "display_data",
          "data": {
            "application/vnd.jupyter.widget-view+json": {
              "model_id": "0b6afc7262fc4385939cb0db12214459",
              "version_minor": 0,
              "version_major": 2
            },
            "text/plain": [
              "HBox(children=(FloatProgress(value=0.0, description='#1', max=10.0, style=ProgressStyle(description_width='ini…"
            ]
          },
          "metadata": {
            "tags": []
          }
        },
        {
          "output_type": "display_data",
          "data": {
            "application/vnd.jupyter.widget-view+json": {
              "model_id": "07dc83387c59409a87b96bc0b3285bab",
              "version_minor": 0,
              "version_major": 2
            },
            "text/plain": [
              "HBox(children=(FloatProgress(value=0.0, description='#0', max=10.0, style=ProgressStyle(description_width='ini…"
            ]
          },
          "metadata": {
            "tags": []
          }
        },
        {
          "output_type": "display_data",
          "data": {
            "application/vnd.jupyter.widget-view+json": {
              "model_id": "fcd0d87d160b426a9d3af92d1ac6b620",
              "version_minor": 0,
              "version_major": 2
            },
            "text/plain": [
              "HBox(children=(FloatProgress(value=0.0, description='#2', max=10.0, style=ProgressStyle(description_width='ini…"
            ]
          },
          "metadata": {
            "tags": []
          }
        },
        {
          "output_type": "display_data",
          "data": {
            "application/vnd.jupyter.widget-view+json": {
              "model_id": "8105f878d8854d0da1cf5069f7b25f99",
              "version_minor": 0,
              "version_major": 2
            },
            "text/plain": [
              "HBox(children=(FloatProgress(value=0.0, description='#3', max=10.0, style=ProgressStyle(description_width='ini…"
            ]
          },
          "metadata": {
            "tags": []
          }
        },
        {
          "output_type": "stream",
          "text": [
            "\n",
            "\n",
            "\n",
            "\n",
            "    "
          ],
          "name": "stdout"
        },
        {
          "output_type": "display_data",
          "data": {
            "application/vnd.jupyter.widget-view+json": {
              "model_id": "f2894e7556fa4feebcd09d492e727d64",
              "version_minor": 0,
              "version_major": 2
            },
            "text/plain": [
              "HBox(children=(FloatProgress(value=0.0, description='#0', max=4.0, style=ProgressStyle(description_width='init…"
            ]
          },
          "metadata": {
            "tags": []
          }
        },
        {
          "output_type": "display_data",
          "data": {
            "application/vnd.jupyter.widget-view+json": {
              "model_id": "07a681984da943a4ae7acef61588a42c",
              "version_minor": 0,
              "version_major": 2
            },
            "text/plain": [
              "HBox(children=(FloatProgress(value=0.0, description='#1', max=4.0, style=ProgressStyle(description_width='init…"
            ]
          },
          "metadata": {
            "tags": []
          }
        },
        {
          "output_type": "display_data",
          "data": {
            "application/vnd.jupyter.widget-view+json": {
              "model_id": "f19e151a90564209b6e768fb89ff57f7",
              "version_minor": 0,
              "version_major": 2
            },
            "text/plain": [
              "HBox(children=(FloatProgress(value=0.0, description='#3', max=4.0, style=ProgressStyle(description_width='init…"
            ]
          },
          "metadata": {
            "tags": []
          }
        },
        {
          "output_type": "display_data",
          "data": {
            "application/vnd.jupyter.widget-view+json": {
              "model_id": "22d1daf6e7214e4e8c7b7828a849d8c8",
              "version_minor": 0,
              "version_major": 2
            },
            "text/plain": [
              "HBox(children=(FloatProgress(value=0.0, description='#2', max=4.0, style=ProgressStyle(description_width='init…"
            ]
          },
          "metadata": {
            "tags": []
          }
        },
        {
          "output_type": "stream",
          "text": [
            "\n",
            "\n",
            "\n",
            "\n"
          ],
          "name": "stdout"
        }
      ]
    },
    {
      "cell_type": "markdown",
      "metadata": {
        "id": "gYlQkKVoRUos"
      },
      "source": [
        "## Training\n",
        "\n",
        "The data is processed so that we are ready to start setting up the training pipeline. We will make use of 🤗's [Trainer](https://huggingface.co/transformers/master/main_classes/trainer.html?highlight=trainer) for which we essentially need to do the following:\n",
        "\n",
        "- Define a data collator. In contrast to most NLP models, XLSR-Wav2Vec2 has a much larger input length than output length. *E.g.*, a sample of input length 50000 has an output length of no more than 100. Given the large input sizes, it is much more efficient to pad the training batches dynamically meaning that all training samples should only be padded to the longest sample in their batch and not the overall longest sample. Therefore, fine-tuning XLSR-Wav2Vec2 requires a special padding data collator, which we will define below\n",
        "\n",
        "- Evaluation metric. During training, the model should be evaluated on the word error rate. We should define a `compute_metrics` function accordingly\n",
        "\n",
        "- Load a pretrained checkpoint. We need to load a pretrained checkpoint and configure it correctly for training.\n",
        "\n",
        "- Define the training configuration.\n",
        "\n",
        "After having fine-tuned the model, we will correctly evaluate it on the test data and verify that it has indeed learned to correctly transcribe speech."
      ]
    },
    {
      "cell_type": "markdown",
      "metadata": {
        "id": "Slk403unUS91"
      },
      "source": [
        "### Set-up Trainer\n",
        "\n",
        "Let's start by defining the data collator. The code for the data collator was copied from [this example](https://github.com/huggingface/transformers/blob/9a06b6b11bdfc42eea08fa91d0c737d1863c99e3/examples/research_projects/wav2vec2/run_asr.py#L81).\n",
        "\n",
        "Without going into too many details, in contrast to the common data collators, this data collator treats the `input_values` and `labels` differently and thus applies to separate padding functions on them (again making use of XLSR-Wav2Vec2's context manager). This is necessary because in speech input and output are of different modalities meaning that they should not be treated by the same padding function.\n",
        "Analogous to the common data collators, the padding tokens in the labels with `-100` so that those tokens are **not** taken into account when computing the loss."
      ]
    },
    {
      "cell_type": "code",
      "metadata": {
        "id": "tborvC9hx88e"
      },
      "source": [
        "import torch\n",
        "\n",
        "from dataclasses import dataclass, field\n",
        "from typing import Any, Dict, List, Optional, Union\n",
        "\n",
        "@dataclass\n",
        "class DataCollatorCTCWithPadding:\n",
        "    \"\"\"\n",
        "    Data collator that will dynamically pad the inputs received.\n",
        "    Args:\n",
        "        processor (:class:`~transformers.Wav2Vec2Processor`)\n",
        "            The processor used for proccessing the data.\n",
        "        padding (:obj:`bool`, :obj:`str` or :class:`~transformers.tokenization_utils_base.PaddingStrategy`, `optional`, defaults to :obj:`True`):\n",
        "            Select a strategy to pad the returned sequences (according to the model's padding side and padding index)\n",
        "            among:\n",
        "            * :obj:`True` or :obj:`'longest'`: Pad to the longest sequence in the batch (or no padding if only a single\n",
        "              sequence if provided).\n",
        "            * :obj:`'max_length'`: Pad to a maximum length specified with the argument :obj:`max_length` or to the\n",
        "              maximum acceptable input length for the model if that argument is not provided.\n",
        "            * :obj:`False` or :obj:`'do_not_pad'` (default): No padding (i.e., can output a batch with sequences of\n",
        "              different lengths).\n",
        "        max_length (:obj:`int`, `optional`):\n",
        "            Maximum length of the ``input_values`` of the returned list and optionally padding length (see above).\n",
        "        max_length_labels (:obj:`int`, `optional`):\n",
        "            Maximum length of the ``labels`` returned list and optionally padding length (see above).\n",
        "        pad_to_multiple_of (:obj:`int`, `optional`):\n",
        "            If set will pad the sequence to a multiple of the provided value.\n",
        "            This is especially useful to enable the use of Tensor Cores on NVIDIA hardware with compute capability >=\n",
        "            7.5 (Volta).\n",
        "    \"\"\"\n",
        "\n",
        "    processor: Wav2Vec2Processor\n",
        "    padding: Union[bool, str] = True\n",
        "    max_length: Optional[int] = None\n",
        "    max_length_labels: Optional[int] = None\n",
        "    pad_to_multiple_of: Optional[int] = None\n",
        "    pad_to_multiple_of_labels: Optional[int] = None\n",
        "\n",
        "    def __call__(self, features: List[Dict[str, Union[List[int], torch.Tensor]]]) -> Dict[str, torch.Tensor]:\n",
        "        # split inputs and labels since they have to be of different lenghts and need\n",
        "        # different padding methods\n",
        "        input_features = [{\"input_values\": feature[\"input_values\"]} for feature in features]\n",
        "        label_features = [{\"input_ids\": feature[\"labels\"]} for feature in features]\n",
        "\n",
        "        batch = self.processor.pad(\n",
        "            input_features,\n",
        "            padding=self.padding,\n",
        "            max_length=self.max_length,\n",
        "            pad_to_multiple_of=self.pad_to_multiple_of,\n",
        "            return_tensors=\"pt\",\n",
        "        )\n",
        "        with self.processor.as_target_processor():\n",
        "            labels_batch = self.processor.pad(\n",
        "                label_features,\n",
        "                padding=self.padding,\n",
        "                max_length=self.max_length_labels,\n",
        "                pad_to_multiple_of=self.pad_to_multiple_of_labels,\n",
        "                return_tensors=\"pt\",\n",
        "            )\n",
        "\n",
        "        # replace padding with -100 to ignore loss correctly\n",
        "        labels = labels_batch[\"input_ids\"].masked_fill(labels_batch.attention_mask.ne(1), -100)\n",
        "\n",
        "        batch[\"labels\"] = labels\n",
        "\n",
        "        return batch"
      ],
      "execution_count": null,
      "outputs": []
    },
    {
      "cell_type": "code",
      "metadata": {
        "id": "lbQf5GuZyQ4_"
      },
      "source": [
        "data_collator = DataCollatorCTCWithPadding(processor=processor, padding=True)"
      ],
      "execution_count": null,
      "outputs": []
    },
    {
      "cell_type": "markdown",
      "metadata": {
        "id": "xO-Zdj-5cxXp"
      },
      "source": [
        "Next, the evaluation metric is defined. As mentioned earlier, the\n",
        "predominant metric in ASR is the word error rate (WER), hence we will use it in this notebook as well."
      ]
    },
    {
      "cell_type": "code",
      "metadata": {
        "id": "9Xsux2gmyXso",
        "colab": {
          "base_uri": "https://localhost:8080/",
          "height": 66,
          "referenced_widgets": [
            "0d928fce78954ea39ec4810e6ab75f62",
            "ee8eb7712f94439ba2e6523c2877eb71",
            "fd3d28ecb64f447eb2052e154120e9ea",
            "cad43662ed6e4187a4fe0407ab7ece35",
            "ed845b129e2849619ebf64b80af0d488",
            "b797409f28cd4f36b85d822aa26b0baa",
            "5783feeef15c4b9b8db240f9e198d50d",
            "8f86cae4bb5e4fe1b21650b61d58c0db"
          ]
        },
        "outputId": "55fe9eb4-dee5-420c-9de0-d700c6b95ceb"
      },
      "source": [
        "wer_metric = load_metric(\"wer\")"
      ],
      "execution_count": null,
      "outputs": [
        {
          "output_type": "display_data",
          "data": {
            "application/vnd.jupyter.widget-view+json": {
              "model_id": "0d928fce78954ea39ec4810e6ab75f62",
              "version_minor": 0,
              "version_major": 2
            },
            "text/plain": [
              "HBox(children=(FloatProgress(value=0.0, description='Downloading', max=1764.0, style=ProgressStyle(description…"
            ]
          },
          "metadata": {
            "tags": []
          }
        },
        {
          "output_type": "stream",
          "text": [
            "\n"
          ],
          "name": "stdout"
        }
      ]
    },
    {
      "cell_type": "markdown",
      "metadata": {
        "id": "E1qZU5p-deqB"
      },
      "source": [
        "The model will return a sequence of logit vectors:\n",
        "$\\mathbf{y}_1, \\ldots, \\mathbf{y}_m$ with $\\mathbf{y}_1 = f_{\\theta}(x_1, \\ldots, x_n)[0]$ and $n >> m$.\n",
        "\n",
        "A logit vector $\\mathbf{y}_1$ contains the log-odds for each word in the vocabulary we defined earlier, thus $\\text{len}(\\mathbf{y}_i) =$ `config.vocab_size`. We are interested in the most likely prediction of the model and thus take the `argmax(...)` of the logits. Also, we transform the encoded labels back to the original string by replacing `-100` with the `pad_token_id` and decoding the ids while making sure that consecutive tokens are **not** grouped to the same token in CTC style ${}^1$."
      ]
    },
    {
      "cell_type": "code",
      "metadata": {
        "id": "1XZ-kjweyTy_"
      },
      "source": [
        "def compute_metrics(pred):\n",
        "    pred_logits = pred.predictions\n",
        "    pred_ids = np.argmax(pred_logits, axis=-1)\n",
        "\n",
        "    pred.label_ids[pred.label_ids == -100] = processor.tokenizer.pad_token_id\n",
        "\n",
        "    pred_str = processor.batch_decode(pred_ids)\n",
        "    # we do not want to group tokens when computing the metrics\n",
        "    label_str = processor.batch_decode(pred.label_ids, group_tokens=False)\n",
        "\n",
        "    wer = wer_metric.compute(predictions=pred_str, references=label_str)\n",
        "\n",
        "    return {\"wer\": wer}"
      ],
      "execution_count": null,
      "outputs": []
    },
    {
      "cell_type": "markdown",
      "metadata": {
        "id": "Xmgrx4bRwLIH"
      },
      "source": [
        "Now, we can load the pretrained `XLSR-Wav2Vec2` checkpoint. The tokenizer's `pad_token_id` must be to define the model's `pad_token_id` or in the case of `Wav2Vec2ForCTC` also CTC's *blank token* ${}^2$. To save GPU memory, we enable PyTorch's [gradient checkpointing](https://pytorch.org/docs/stable/checkpoint.html) and also set the loss reduction to \"*mean*\".\n",
        "\n",
        "Because the dataset is quite small (~6h of training data) and because Common Voice is quite noisy, fine-tuning Facebook's [wav2vec2-large-xlsr-53 checkpoint](https://huggingface.co/facebook/wav2vec2-large-xlsr-53) seems to require some hyper-parameter tuning. Therefore, I had to play around a bit with different values for dropout, [SpecAugment](https://arxiv.org/abs/1904.08779)'s masking dropout rate, layer dropout, and the learning rate until training seemed to be stable enough.\n",
        "\n",
        "**Note**: When using this notebook to train XLSR-Wav2Vec2 on another language of Common Voice those hyper-parameter settings might not work very well. Feel free to adapt those depending on your use case."
      ]
    },
    {
      "cell_type": "code",
      "metadata": {
        "colab": {
          "base_uri": "https://localhost:8080/",
          "height": 169,
          "referenced_widgets": [
            "00a669d7d8b4414eb5d238d0752aa179",
            "4f6d9926e5b648e4bc24961492e5749f",
            "2549e70ac70b45c2ab6074e929f79b8a",
            "c3674f5c6b16419fbffdce1d9f0e3a98",
            "737ecdf861b24336a14b99a6d49f9ea9",
            "abc8f92284514821965088a55db517f4",
            "54abfbd130e24b73809a1fb82925d19f",
            "5cd6493b8f02423b8f0d0a7530f40880",
            "e3cffe583db84ce1b7d5add04680f345",
            "24dbdbe0f6834316aa2beb76ed6a801c",
            "c4d3ab69618c452f8075ea4981d1fd72",
            "dc9792a58f1949d298fe15b08b08520f",
            "366f09129a394f4695fd38c383236028",
            "238c114ea41d4128a373740c609fb4f0",
            "23ffb36fd5374afe9404a1dd4e737cb2",
            "b81791ba9b424db292146001e2480795"
          ]
        },
        "id": "e7cqAWIayn6w",
        "outputId": "d941f60f-286c-4619-b2ca-8a73be0cca39"
      },
      "source": [
        "from transformers import Wav2Vec2ForCTC\n",
        "\n",
        "model = Wav2Vec2ForCTC.from_pretrained(\n",
        "    \"facebook/wav2vec2-large-xlsr-53\",\n",
        "    attention_dropout=0.1,\n",
        "    hidden_dropout=0.1,\n",
        "    feat_proj_dropout=0.0,\n",
        "    mask_time_prob=0.05,\n",
        "    layerdrop=0.1,\n",
        "    gradient_checkpointing=True,\n",
        "    ctc_loss_reduction=\"mean\",\n",
        "    pad_token_id=processor.tokenizer.pad_token_id,\n",
        "    vocab_size=len(processor.tokenizer)\n",
        ")"
      ],
      "execution_count": null,
      "outputs": [
        {
          "output_type": "display_data",
          "data": {
            "application/vnd.jupyter.widget-view+json": {
              "model_id": "00a669d7d8b4414eb5d238d0752aa179",
              "version_minor": 0,
              "version_major": 2
            },
            "text/plain": [
              "HBox(children=(FloatProgress(value=0.0, description='Downloading', max=1451.0, style=ProgressStyle(description…"
            ]
          },
          "metadata": {
            "tags": []
          }
        },
        {
          "output_type": "stream",
          "text": [
            "\n"
          ],
          "name": "stdout"
        },
        {
          "output_type": "display_data",
          "data": {
            "application/vnd.jupyter.widget-view+json": {
              "model_id": "e3cffe583db84ce1b7d5add04680f345",
              "version_minor": 0,
              "version_major": 2
            },
            "text/plain": [
              "HBox(children=(FloatProgress(value=0.0, description='Downloading', max=1261920069.0, style=ProgressStyle(descr…"
            ]
          },
          "metadata": {
            "tags": []
          }
        },
        {
          "output_type": "stream",
          "text": [
            "\n"
          ],
          "name": "stdout"
        },
        {
          "output_type": "stream",
          "text": [
            "Some weights of Wav2Vec2ForCTC were not initialized from the model checkpoint at facebook/wav2vec2-large-xlsr-53 and are newly initialized: ['lm_head.bias', 'lm_head.weight']\n",
            "You should probably TRAIN this model on a down-stream task to be able to use it for predictions and inference.\n"
          ],
          "name": "stderr"
        }
      ]
    },
    {
      "cell_type": "markdown",
      "metadata": {
        "id": "1DwR3XLSzGDD"
      },
      "source": [
        "The first component of XLSR-Wav2Vec2 consists of a stack of CNN layers that are used to extract acoustically meaningful - but contextually independent - features from the raw speech signal. This part of the model has already been sufficiently trained during pretraining and as stated in the [paper](https://arxiv.org/pdf/2006.13979.pdf) does not need to be fine-tuned anymore.\n",
        "Thus, we can set the `requires_grad` to `False` for all parameters of the *feature extraction* part."
      ]
    },
    {
      "cell_type": "code",
      "metadata": {
        "id": "oGI8zObtZ3V0"
      },
      "source": [
        "model.freeze_feature_extractor()"
      ],
      "execution_count": null,
      "outputs": []
    },
    {
      "cell_type": "markdown",
      "metadata": {
        "id": "lD4aGhQM0K-D"
      },
      "source": [
        "In a final step, we define all parameters related to training.\n",
        "To give more explanation on some of the parameters:\n",
        "- `group_by_length` makes training more efficient by grouping training samples of similar input length into one batch. This can significantly speed up training time by heavily reducing the overall number of useless padding tokens that are passed through the model\n",
        "- `learning_rate` and `weight_decay` were heuristically tuned until fine-tuning has become stable. Note that those parameters strongly depend on the Common Voice dataset and might be suboptimal for other speech datasets.\n",
        "\n",
        "For more explanations on other parameters, one can take a look at the [docs](https://huggingface.co/transformers/master/main_classes/trainer.html?highlight=trainer#trainingarguments).\n",
        "\n",
        "**Note**: If one wants to save the trained models in his/her google drive the commented-out `output_dir` can be used instead."
      ]
    },
    {
      "cell_type": "code",
      "metadata": {
        "id": "KbeKSV7uzGPP"
      },
      "source": [
        "from transformers import TrainingArguments\n",
        "\n",
        "training_args = TrainingArguments(\n",
        "  output_dir=\"/content/gdrive/MyDrive/wav2vec2-large-xlsr-hindi\",\n",
        "  # output_dir=\"./wav2vec2-large-xlsr-turkish-demo\",\n",
        "  group_by_length=True,\n",
        "  per_device_train_batch_size=16,\n",
        "  gradient_accumulation_steps=2,\n",
        "  evaluation_strategy=\"steps\",\n",
        "  num_train_epochs=30,\n",
        "  fp16=True,\n",
        "  save_steps=400, #this would mean every 400 steps model gets saved which also means Google drive gets full\n",
        "  eval_steps=400,\n",
        "  logging_steps=400,\n",
        "  #learning_rate=3e-4,\n",
        "  learning_rate=0.1, # this is just for demo\n",
        "  warmup_steps=500,\n",
        "  save_total_limit=2,\n",
        ")"
      ],
      "execution_count": null,
      "outputs": []
    },
    {
      "cell_type": "markdown",
      "metadata": {
        "id": "OsW-WZcL1ZtN"
      },
      "source": [
        "Now, all instances can be passed to Trainer and we are ready to start training!"
      ]
    },
    {
      "cell_type": "code",
      "metadata": {
        "id": "rY7vBmFCPFgC"
      },
      "source": [
        "from transformers import Trainer\n",
        "\n",
        "trainer = Trainer(\n",
        "    model=model,\n",
        "    data_collator=data_collator,\n",
        "    args=training_args,\n",
        "    compute_metrics=compute_metrics,\n",
        "    train_dataset=common_voice_train,\n",
        "    eval_dataset=common_voice_test,\n",
        "    tokenizer=processor.feature_extractor,\n",
        ")"
      ],
      "execution_count": null,
      "outputs": []
    },
    {
      "cell_type": "markdown",
      "metadata": {
        "id": "UoXBx1JAA0DX"
      },
      "source": [
        "\n",
        "\n",
        "---\n",
        "\n",
        "${}^1$ To allow models to become independent of the speaker rate, in CTC, consecutive tokens that are identical are simply grouped as a single token. However, the encoded labels should not be grouped when decoding since they don't correspond to the predicted tokens of the model, which is why the `group_tokens=False` parameter has to be passed. If we wouldn't pass this parameter a word like `\"hello\"` would incorrectly be encoded, and decoded as `\"helo\"`.\n",
        "\n",
        "${}^2$ The blank token allows the model to predict a word, such as `\"hello\"` by forcing it to insert the blank token between the two l's. A CTC-conform prediction of `\"hello\"` of our model would be `[PAD] [PAD] \"h\" \"e\" \"e\" \"l\" \"l\" [PAD] \"l\" \"o\" \"o\" [PAD]`."
      ]
    },
    {
      "cell_type": "markdown",
      "metadata": {
        "id": "rpvZHM1xReIW"
      },
      "source": [
        "### Training"
      ]
    },
    {
      "cell_type": "markdown",
      "metadata": {
        "id": "j-3oKSzZ1hGq"
      },
      "source": [
        "Training will take between 180 and 240 minutes depending on the GPU allocated to this notebook. While the trained model yields somewhat satisfying results on *Common Voice*'s test data of Turkish, it is by no means an optimally fine-tuned model. The purpose of this notebook is to demonstrate how XLSR-Wav2Vec2's [checkpoint](https://huggingface.co/facebook/wav2vec2-large-xlsr-53) can be fine-tuned on a low-resource ASR dataset.\n",
        "\n",
        "In case you want to use this google colab to fine-tune your model, you should make sure that your training doesn't stop due to inactivity. A simple hack to prevent this is to paste the following code into the console of this tab (*right mouse click -> inspect -> Console tab and insert code*)."
      ]
    },
    {
      "cell_type": "markdown",
      "metadata": {
        "id": "VYYAvgkW4P0m"
      },
      "source": [
        "```javascript\n",
        "function ConnectButton(){\n",
        "    console.log(\"Connect pushed\");\n",
        "    document.querySelector(\"#top-toolbar > colab-connect-button\").shadowRoot.querySelector(\"#connect\").click()\n",
        "}\n",
        "setInterval(ConnectButton,60000);\n",
        "```"
      ]
    },
    {
      "cell_type": "code",
      "metadata": {
        "id": "_UEjJqGsQw24",
        "colab": {
          "base_uri": "https://localhost:8080/",
          "height": 436
        },
        "outputId": "ebe373de-e504-46f1-da01-1b8bb0eefdbc"
      },
      "source": [
        "trainer.train()"
      ],
      "execution_count": null,
      "outputs": [
        {
          "output_type": "stream",
          "text": [
            "/usr/local/lib/python3.7/dist-packages/torch/optim/lr_scheduler.py:134: UserWarning: Detected call of `lr_scheduler.step()` before `optimizer.step()`. In PyTorch 1.1.0 and later, you should call them in the opposite order: `optimizer.step()` before `lr_scheduler.step()`.  Failure to do this will result in PyTorch skipping the first value of the learning rate schedule. See more details at https://pytorch.org/docs/stable/optim.html#how-to-adjust-learning-rate\n",
            "  \"https://pytorch.org/docs/stable/optim.html#how-to-adjust-learning-rate\", UserWarning)\n"
          ],
          "name": "stderr"
        },
        {
          "output_type": "display_data",
          "data": {
            "text/html": [
              "\n",
              "    <div>\n",
              "        <style>\n",
              "            /* Turns off some styling */\n",
              "            progress {\n",
              "                /* gets rid of default border in Firefox and Opera. */\n",
              "                border: none;\n",
              "                /* Needs to be in here for Safari polyfill so background images work as expected. */\n",
              "                background-size: auto;\n",
              "            }\n",
              "        </style>\n",
              "      \n",
              "      <progress value='66' max='270' style='width:300px; height:20px; vertical-align: middle;'></progress>\n",
              "      [ 66/270 07:06 < 22:40, 0.15 it/s, Epoch 7.21/30]\n",
              "    </div>\n",
              "    <table border=\"1\" class=\"dataframe\">\n",
              "  <thead>\n",
              "    <tr style=\"text-align: left;\">\n",
              "      <th>Step</th>\n",
              "      <th>Training Loss</th>\n",
              "      <th>Validation Loss</th>\n",
              "    </tr>\n",
              "  </thead>\n",
              "  <tbody>\n",
              "  </tbody>\n",
              "</table><p>"
            ],
            "text/plain": [
              "<IPython.core.display.HTML object>"
            ]
          },
          "metadata": {
            "tags": []
          }
        },
        {
          "output_type": "error",
          "ename": "KeyboardInterrupt",
          "evalue": "ignored",
          "traceback": [
            "\u001b[0;31m---------------------------------------------------------------------------\u001b[0m",
            "\u001b[0;31mKeyboardInterrupt\u001b[0m                         Traceback (most recent call last)",
            "\u001b[0;32m<ipython-input-41-3435b262f1ae>\u001b[0m in \u001b[0;36m<module>\u001b[0;34m()\u001b[0m\n\u001b[0;32m----> 1\u001b[0;31m \u001b[0mtrainer\u001b[0m\u001b[0;34m.\u001b[0m\u001b[0mtrain\u001b[0m\u001b[0;34m(\u001b[0m\u001b[0;34m)\u001b[0m\u001b[0;34m\u001b[0m\u001b[0;34m\u001b[0m\u001b[0m\n\u001b[0m",
            "\u001b[0;32m/usr/local/lib/python3.7/dist-packages/transformers/trainer.py\u001b[0m in \u001b[0;36mtrain\u001b[0;34m(self, resume_from_checkpoint, trial, **kwargs)\u001b[0m\n\u001b[1;32m   1051\u001b[0m                         \u001b[0mtr_loss\u001b[0m \u001b[0;34m+=\u001b[0m \u001b[0mself\u001b[0m\u001b[0;34m.\u001b[0m\u001b[0mtraining_step\u001b[0m\u001b[0;34m(\u001b[0m\u001b[0mmodel\u001b[0m\u001b[0;34m,\u001b[0m \u001b[0minputs\u001b[0m\u001b[0;34m)\u001b[0m\u001b[0;34m\u001b[0m\u001b[0;34m\u001b[0m\u001b[0m\n\u001b[1;32m   1052\u001b[0m                 \u001b[0;32melse\u001b[0m\u001b[0;34m:\u001b[0m\u001b[0;34m\u001b[0m\u001b[0;34m\u001b[0m\u001b[0m\n\u001b[0;32m-> 1053\u001b[0;31m                     \u001b[0mtr_loss\u001b[0m \u001b[0;34m+=\u001b[0m \u001b[0mself\u001b[0m\u001b[0;34m.\u001b[0m\u001b[0mtraining_step\u001b[0m\u001b[0;34m(\u001b[0m\u001b[0mmodel\u001b[0m\u001b[0;34m,\u001b[0m \u001b[0minputs\u001b[0m\u001b[0;34m)\u001b[0m\u001b[0;34m\u001b[0m\u001b[0;34m\u001b[0m\u001b[0m\n\u001b[0m\u001b[1;32m   1054\u001b[0m                 \u001b[0mself\u001b[0m\u001b[0;34m.\u001b[0m\u001b[0m_total_flos\u001b[0m \u001b[0;34m+=\u001b[0m \u001b[0mfloat\u001b[0m\u001b[0;34m(\u001b[0m\u001b[0mself\u001b[0m\u001b[0;34m.\u001b[0m\u001b[0mfloating_point_ops\u001b[0m\u001b[0;34m(\u001b[0m\u001b[0minputs\u001b[0m\u001b[0;34m)\u001b[0m\u001b[0;34m)\u001b[0m\u001b[0;34m\u001b[0m\u001b[0;34m\u001b[0m\u001b[0m\n\u001b[1;32m   1055\u001b[0m \u001b[0;34m\u001b[0m\u001b[0m\n",
            "\u001b[0;32m/usr/local/lib/python3.7/dist-packages/transformers/trainer.py\u001b[0m in \u001b[0;36mtraining_step\u001b[0;34m(self, model, inputs)\u001b[0m\n\u001b[1;32m   1439\u001b[0m         \u001b[0;32mif\u001b[0m \u001b[0mself\u001b[0m\u001b[0;34m.\u001b[0m\u001b[0muse_amp\u001b[0m\u001b[0;34m:\u001b[0m\u001b[0;34m\u001b[0m\u001b[0;34m\u001b[0m\u001b[0m\n\u001b[1;32m   1440\u001b[0m             \u001b[0;32mwith\u001b[0m \u001b[0mautocast\u001b[0m\u001b[0;34m(\u001b[0m\u001b[0;34m)\u001b[0m\u001b[0;34m:\u001b[0m\u001b[0;34m\u001b[0m\u001b[0;34m\u001b[0m\u001b[0m\n\u001b[0;32m-> 1441\u001b[0;31m                 \u001b[0mloss\u001b[0m \u001b[0;34m=\u001b[0m \u001b[0mself\u001b[0m\u001b[0;34m.\u001b[0m\u001b[0mcompute_loss\u001b[0m\u001b[0;34m(\u001b[0m\u001b[0mmodel\u001b[0m\u001b[0;34m,\u001b[0m \u001b[0minputs\u001b[0m\u001b[0;34m)\u001b[0m\u001b[0;34m\u001b[0m\u001b[0;34m\u001b[0m\u001b[0m\n\u001b[0m\u001b[1;32m   1442\u001b[0m         \u001b[0;32melse\u001b[0m\u001b[0;34m:\u001b[0m\u001b[0;34m\u001b[0m\u001b[0;34m\u001b[0m\u001b[0m\n\u001b[1;32m   1443\u001b[0m             \u001b[0mloss\u001b[0m \u001b[0;34m=\u001b[0m \u001b[0mself\u001b[0m\u001b[0;34m.\u001b[0m\u001b[0mcompute_loss\u001b[0m\u001b[0;34m(\u001b[0m\u001b[0mmodel\u001b[0m\u001b[0;34m,\u001b[0m \u001b[0minputs\u001b[0m\u001b[0;34m)\u001b[0m\u001b[0;34m\u001b[0m\u001b[0;34m\u001b[0m\u001b[0m\n",
            "\u001b[0;32m/usr/local/lib/python3.7/dist-packages/transformers/trainer.py\u001b[0m in \u001b[0;36mcompute_loss\u001b[0;34m(self, model, inputs, return_outputs)\u001b[0m\n\u001b[1;32m   1473\u001b[0m         \u001b[0;32melse\u001b[0m\u001b[0;34m:\u001b[0m\u001b[0;34m\u001b[0m\u001b[0;34m\u001b[0m\u001b[0m\n\u001b[1;32m   1474\u001b[0m             \u001b[0mlabels\u001b[0m \u001b[0;34m=\u001b[0m \u001b[0;32mNone\u001b[0m\u001b[0;34m\u001b[0m\u001b[0;34m\u001b[0m\u001b[0m\n\u001b[0;32m-> 1475\u001b[0;31m         \u001b[0moutputs\u001b[0m \u001b[0;34m=\u001b[0m \u001b[0mmodel\u001b[0m\u001b[0;34m(\u001b[0m\u001b[0;34m**\u001b[0m\u001b[0minputs\u001b[0m\u001b[0;34m)\u001b[0m\u001b[0;34m\u001b[0m\u001b[0;34m\u001b[0m\u001b[0m\n\u001b[0m\u001b[1;32m   1476\u001b[0m         \u001b[0;31m# Save past state if it exists\u001b[0m\u001b[0;34m\u001b[0m\u001b[0;34m\u001b[0m\u001b[0;34m\u001b[0m\u001b[0m\n\u001b[1;32m   1477\u001b[0m         \u001b[0;31m# TODO: this needs to be fixed and made cleaner later.\u001b[0m\u001b[0;34m\u001b[0m\u001b[0;34m\u001b[0m\u001b[0;34m\u001b[0m\u001b[0m\n",
            "\u001b[0;32m/usr/local/lib/python3.7/dist-packages/torch/nn/modules/module.py\u001b[0m in \u001b[0;36m_call_impl\u001b[0;34m(self, *input, **kwargs)\u001b[0m\n\u001b[1;32m    887\u001b[0m             \u001b[0mresult\u001b[0m \u001b[0;34m=\u001b[0m \u001b[0mself\u001b[0m\u001b[0;34m.\u001b[0m\u001b[0m_slow_forward\u001b[0m\u001b[0;34m(\u001b[0m\u001b[0;34m*\u001b[0m\u001b[0minput\u001b[0m\u001b[0;34m,\u001b[0m \u001b[0;34m**\u001b[0m\u001b[0mkwargs\u001b[0m\u001b[0;34m)\u001b[0m\u001b[0;34m\u001b[0m\u001b[0;34m\u001b[0m\u001b[0m\n\u001b[1;32m    888\u001b[0m         \u001b[0;32melse\u001b[0m\u001b[0;34m:\u001b[0m\u001b[0;34m\u001b[0m\u001b[0;34m\u001b[0m\u001b[0m\n\u001b[0;32m--> 889\u001b[0;31m             \u001b[0mresult\u001b[0m \u001b[0;34m=\u001b[0m \u001b[0mself\u001b[0m\u001b[0;34m.\u001b[0m\u001b[0mforward\u001b[0m\u001b[0;34m(\u001b[0m\u001b[0;34m*\u001b[0m\u001b[0minput\u001b[0m\u001b[0;34m,\u001b[0m \u001b[0;34m**\u001b[0m\u001b[0mkwargs\u001b[0m\u001b[0;34m)\u001b[0m\u001b[0;34m\u001b[0m\u001b[0;34m\u001b[0m\u001b[0m\n\u001b[0m\u001b[1;32m    890\u001b[0m         for hook in itertools.chain(\n\u001b[1;32m    891\u001b[0m                 \u001b[0m_global_forward_hooks\u001b[0m\u001b[0;34m.\u001b[0m\u001b[0mvalues\u001b[0m\u001b[0;34m(\u001b[0m\u001b[0;34m)\u001b[0m\u001b[0;34m,\u001b[0m\u001b[0;34m\u001b[0m\u001b[0;34m\u001b[0m\u001b[0m\n",
            "\u001b[0;32m/usr/local/lib/python3.7/dist-packages/transformers/models/wav2vec2/modeling_wav2vec2.py\u001b[0m in \u001b[0;36mforward\u001b[0;34m(self, input_values, attention_mask, output_attentions, output_hidden_states, return_dict, labels)\u001b[0m\n\u001b[1;32m   1069\u001b[0m             \u001b[0mlabels_mask\u001b[0m \u001b[0;34m=\u001b[0m \u001b[0mlabels\u001b[0m \u001b[0;34m>=\u001b[0m \u001b[0;36m0\u001b[0m\u001b[0;34m\u001b[0m\u001b[0;34m\u001b[0m\u001b[0m\n\u001b[1;32m   1070\u001b[0m             \u001b[0mtarget_lengths\u001b[0m \u001b[0;34m=\u001b[0m \u001b[0mlabels_mask\u001b[0m\u001b[0;34m.\u001b[0m\u001b[0msum\u001b[0m\u001b[0;34m(\u001b[0m\u001b[0;34m-\u001b[0m\u001b[0;36m1\u001b[0m\u001b[0;34m)\u001b[0m\u001b[0;34m\u001b[0m\u001b[0;34m\u001b[0m\u001b[0m\n\u001b[0;32m-> 1071\u001b[0;31m             \u001b[0mflattened_targets\u001b[0m \u001b[0;34m=\u001b[0m \u001b[0mlabels\u001b[0m\u001b[0;34m.\u001b[0m\u001b[0mmasked_select\u001b[0m\u001b[0;34m(\u001b[0m\u001b[0mlabels_mask\u001b[0m\u001b[0;34m)\u001b[0m\u001b[0;34m\u001b[0m\u001b[0;34m\u001b[0m\u001b[0m\n\u001b[0m\u001b[1;32m   1072\u001b[0m \u001b[0;34m\u001b[0m\u001b[0m\n\u001b[1;32m   1073\u001b[0m             \u001b[0mlog_probs\u001b[0m \u001b[0;34m=\u001b[0m \u001b[0mF\u001b[0m\u001b[0;34m.\u001b[0m\u001b[0mlog_softmax\u001b[0m\u001b[0;34m(\u001b[0m\u001b[0mlogits\u001b[0m\u001b[0;34m,\u001b[0m \u001b[0mdim\u001b[0m\u001b[0;34m=\u001b[0m\u001b[0;34m-\u001b[0m\u001b[0;36m1\u001b[0m\u001b[0;34m)\u001b[0m\u001b[0;34m.\u001b[0m\u001b[0mtranspose\u001b[0m\u001b[0;34m(\u001b[0m\u001b[0;36m0\u001b[0m\u001b[0;34m,\u001b[0m \u001b[0;36m1\u001b[0m\u001b[0;34m)\u001b[0m\u001b[0;34m\u001b[0m\u001b[0;34m\u001b[0m\u001b[0m\n",
            "\u001b[0;31mKeyboardInterrupt\u001b[0m: "
          ]
        }
      ]
    },
    {
      "cell_type": "markdown",
      "metadata": {
        "id": "RHIVc44_fY2N"
      },
      "source": [
        "The training loss goes down and we can see that the WER on the test set also improves nicely. Because this notebook is just for demonstration purposes, we can stop here.\n",
        "\n",
        "The resulting model of this notebook has been saved to [`patrickvonplaten/wav2vec2-large-xlsr-turkish-demo`](https://huggingface.co/patrickvonplaten/wav2vec2-large-xlsr-turkish-demo)\n",
        "\n",
        "As a final check, let's load the model and verify that it indeed has learned to transcribe Turkish speech.\n",
        "\n",
        "Let's first load the pretrained checkpoint."
      ]
    },
    {
      "cell_type": "code",
      "metadata": {
        "colab": {
          "base_uri": "https://localhost:8080/"
        },
        "id": "J8E8pxJ9hgZS",
        "outputId": "5d137935-475d-4dbf-d833-d26780311e18"
      },
      "source": [
        "model = Wav2Vec2ForCTC.from_pretrained(\"/content/gdrive/MyDrive/wav2vec2-large-xlsr-hindi\").to(\"cuda\")\n",
        "processor = Wav2Vec2Processor.from_pretrained(\"/content/gdrive/MyDrive/wav2vec2-large-xlsr-hindi\")"
      ],
      "execution_count": null,
      "outputs": [
        {
          "output_type": "stream",
          "text": [
            "Special tokens have been added in the vocabulary, make sure the associated word embedding are fine-tuned or trained.\n"
          ],
          "name": "stderr"
        }
      ]
    },
    {
      "cell_type": "markdown",
      "metadata": {
        "id": "QsfGCQYSvY8C"
      },
      "source": [
        "Now, we will just take the first example of the test set, run it through the model and take the `argmax(...)` of the logits to retrieve the predicted token ids."
      ]
    },
    {
      "cell_type": "code",
      "metadata": {
        "colab": {
          "base_uri": "https://localhost:8080/"
        },
        "id": "EA6fxk-jiHby",
        "outputId": "8b91a977-2559-4adc-8298-b4ad6b7ff196"
      },
      "source": [
        "input_dict = processor(common_voice_test[\"input_values\"][0], return_tensors=\"pt\", padding=True)\n",
        "\n",
        "logits = model(input_dict.input_values.to(\"cuda\")).logits\n",
        "\n",
        "pred_ids = torch.argmax(logits, dim=-1)[0]"
      ],
      "execution_count": null,
      "outputs": [
        {
          "output_type": "stream",
          "text": [
            "It is strongly recommended to pass the ``sampling_rate`` argument to this function.Failing to do so can result in silent errors that might be hard to debug.\n"
          ],
          "name": "stderr"
        }
      ]
    },
    {
      "cell_type": "markdown",
      "metadata": {
        "id": "1JDyVCMDvlYd"
      },
      "source": [
        "We adapted `common_voice_test` quite a bit so that the dataset instance does not contain the original sentence label anymore. Thus, we re-use the original dataset to get the label of the first example."
      ]
    },
    {
      "cell_type": "code",
      "metadata": {
        "colab": {
          "base_uri": "https://localhost:8080/"
        },
        "id": "8dPE2GRIgtx-",
        "outputId": "a211d1ee-d850-481d-8bac-dc46c3efa561"
      },
      "source": [
        "common_voice_test_transcription = load_dataset(\"common_voice\", \"hi\", data_dir=\"./cv-corpus-6.1-2020-12-11\", split=\"test\")"
      ],
      "execution_count": null,
      "outputs": [
        {
          "output_type": "stream",
          "text": [
            "Using custom data configuration tr-ad9f7b76efa9f3a0\n",
            "Reusing dataset common_voice (/root/.cache/huggingface/datasets/common_voice/tr-ad9f7b76efa9f3a0/6.1.0/32954a9015faa0d840f6c6894938545c5d12bc5d8936a80079af74bf50d71564)\n"
          ],
          "name": "stderr"
        }
      ]
    },
    {
      "cell_type": "markdown",
      "metadata": {
        "id": "ApS3MmN4v5P7"
      },
      "source": [
        "Finally, we can decode the example."
      ]
    },
    {
      "cell_type": "code",
      "metadata": {
        "colab": {
          "base_uri": "https://localhost:8080/"
        },
        "id": "Phqxa1O1jMDk",
        "outputId": "60d48c9f-f745-45ac-9105-446dc71025ca"
      },
      "source": [
        "print(\"Prediction:\")\n",
        "print(processor.decode(pred_ids))\n",
        "\n",
        "print(\"\\nReference:\")\n",
        "print(common_voice_test_transcription[\"sentence\"][0].lower())\n"
      ],
      "execution_count": null,
      "outputs": [
        {
          "output_type": "stream",
          "text": [
            "Prediction:\n",
            "hata küçük şeyler için birbüy bi şeyler kolaluyor ve yenekiçük şeyler için bir bimizi inciltiyoruz\n",
            "\n",
            "Reference:\n",
            "hayatta küçük şeyleri kovalıyor ve yine küçük şeyler için birbirimizi incitiyoruz.\n"
          ],
          "name": "stdout"
        }
      ]
    },
    {
      "cell_type": "markdown",
      "metadata": {
        "id": "4n_8vhzUv7aw"
      },
      "source": [
        "Alright! The transcription can definitely be recognized from our prediction, but it is far from being perfect. Training the model a bit longer, spending more time on the data preprocessing, and especially using a language model for decoding would certainly improve the model's overall performance.\n",
        "\n",
        "For a demonstration model on a low-resource language, the results are acceptable, however 🤗."
      ]
    }
  ]
}