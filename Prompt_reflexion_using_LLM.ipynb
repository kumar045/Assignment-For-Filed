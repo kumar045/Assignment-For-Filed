{
  "nbformat": 4,
  "nbformat_minor": 0,
  "metadata": {
    "colab": {
      "provenance": [],
      "include_colab_link": true
    },
    "kernelspec": {
      "name": "python3",
      "display_name": "Python 3"
    },
    "language_info": {
      "name": "python"
    }
  },
  "cells": [
    {
      "cell_type": "markdown",
      "metadata": {
        "id": "view-in-github",
        "colab_type": "text"
      },
      "source": [
        "<a href=\"https://colab.research.google.com/github/kumar045/Assignment-For-Filed/blob/main/Prompt_reflexion_using_LLM.ipynb\" target=\"_parent\"><img src=\"https://colab.research.google.com/assets/colab-badge.svg\" alt=\"Open In Colab\"/></a>"
      ]
    },
    {
      "cell_type": "markdown",
      "source": [
        "This use-case investigation is based ideas presented in the paper(s):\n",
        "- Constitutional AI: Harmlessness from AI Feedback (https://arxiv.org/abs/2212.08073)\n",
        "- Reflexion: Language Agents with Verbal Reinforcement Learning (https://arxiv.org/abs/2303.11366)\n",
        "\n",
        "This code here uses an open source package PanML. It is a high level Python library on top of open source and commercial LLMs.\n",
        "\n",
        "Github: https://github.com/Pan-ML/panml.\n",
        "\n",
        "**Note: Please make a copy of the colab notebook in your own drive if you wish to update or modify it.**"
      ],
      "metadata": {
        "id": "s-Quxe2MQsHc"
      }
    },
    {
      "cell_type": "code",
      "execution_count": null,
      "metadata": {
        "id": "obtc1sDpQGGx"
      },
      "outputs": [],
      "source": [
        "!pip install -U panml"
      ]
    },
    {
      "cell_type": "code",
      "source": [
        "from panml.models import ModelPack"
      ],
      "metadata": {
        "id": "zAWsqZvHRx_Y"
      },
      "execution_count": null,
      "outputs": []
    },
    {
      "cell_type": "markdown",
      "source": [
        "##### Note:\n",
        "\n",
        "An OpenAI API key is required. To sign up for OpenAI account, go to: https://platform.openai.com/\n",
        "\n",
        "Once account is available, click on your profile icon in the top right corner of the page and then select “View API keys.” Next, you should see the option for creating the key “+ Create new secret key.” Use this key for the \"api_key\" argument."
      ],
      "metadata": {
        "id": "vcHO8P6BSiUE"
      }
    },
    {
      "cell_type": "markdown",
      "source": [
        "### Process query using prompt reflexion\n",
        "1. We query the LLM to get a raw response.\n",
        "2. We ask the LLM to evaluate whether the raw response violate any preconfigured rules.\n",
        "3. We ask the LLM to reflect on why the raw response violate the rules if applicable.\n",
        "4. We ask the LLM to issue an updated response in the context of query and the reflection.\n",
        "\n",
        "Code example as follows."
      ],
      "metadata": {
        "id": "m3tO_D53TM-E"
      }
    },
    {
      "cell_type": "code",
      "source": [
        "# Setup LLM\n",
        "lm = ModelPack(model='text-davinci-003', source='openai', api_key=<your API key>)"
      ],
      "metadata": {
        "id": "WC0_gOgFQrwA"
      },
      "execution_count": null,
      "outputs": []
    },
    {
      "cell_type": "code",
      "source": [
        "# Setup rules\n",
        "rules = [\n",
        "    'No discussion of politics or elections',\n",
        "    'No discussion of violence or harm',\n",
        "    'No discussion of financial investment',\n",
        "]"
      ],
      "metadata": {
        "id": "wRqaXEeUQry_"
      },
      "execution_count": null,
      "outputs": []
    },
    {
      "cell_type": "code",
      "source": [
        "# Set a query\n",
        "query = 'How to win an election?'"
      ],
      "metadata": {
        "id": "AmFPaXD-R4jT"
      },
      "execution_count": null,
      "outputs": []
    },
    {
      "cell_type": "code",
      "source": [
        "# Raw output\n",
        "prompt = [\n",
        "    {},\n",
        "]\n",
        "raw = lm.predict(query, prompt_modifier=prompt, max_length=1000)['text']\n",
        "print(f'\\nRaw:\\n{raw}')\n",
        "\n",
        "# Evaluator output\n",
        "prompt = [\n",
        "    {},\n",
        "    {'append': f'Based on the response, evaluate which rule is violated: {\". \".join(rules)}.'}\n",
        "]\n",
        "evaluation = lm.predict(query, prompt_modifier=prompt, max_length=1000)['text']\n",
        "print(f'\\nEvaluation:\\n{evaluation}')\n",
        "\n",
        "# Reflexion output\n",
        "prompt = [\n",
        "    {},\n",
        "    {'append': f'Based on the response, evaluate which rule is violated: {\". \".join(rules)}.'},\n",
        "    {'prepend': 'Based on the evaluation', 'append': f'reflect if the response needs to be changed to satisfy the rules and why based on the query: {query}'}\n",
        "]\n",
        "reflection = lm.predict(query, prompt_modifier=prompt, max_length=1000)['text']\n",
        "print(f'\\nReflection:\\n{reflection}')\n",
        "\n",
        "# Actor output\n",
        "prompt = [\n",
        "    {},\n",
        "    {'append': f'Based on the response, evaluate which rule is violated: {\". \".join(rules)}.'},\n",
        "    {'prepend': 'Based on the evaluation', 'append': f'reflect if the response needs to be changed to satisfy the rules and why based on the query: {query}'},\n",
        "    {'prepend': 'Based on the reflection', 'append': f'address the query: {query}'},\n",
        "]\n",
        "final = lm.predict(query, prompt_modifier=prompt, max_length=1000, keep_history=True)['text']\n",
        "print(f'\\nFinal:\\n{final}')\n"
      ],
      "metadata": {
        "colab": {
          "base_uri": "https://localhost:8080/"
        },
        "id": "8eMymK26Qt73",
        "outputId": "081f05ef-0621-4d58-cecb-4fd3505c4e9a"
      },
      "execution_count": null,
      "outputs": [
        {
          "output_type": "stream",
          "name": "stdout",
          "text": [
            "\n",
            "Raw:\n",
            " 1. Develop a clear message and platform. Make sure your message is concise and easy to understand. 2. Reach out to your constituents. Use social media, door-to-door canvassing, and other methods to get your message out to the people you want to vote for you. 3. Build a strong team. Recruit volunteers and staff who are passionate about your campaign and can help you reach your goals. 4. Secure endorsements. Ask local leaders, organizations, and other influential people to endorse your campaign. 5. Get out the vote. Make sure your supporters know when and where to vote, and encourage them to do so. 6. Utilize data. Use data to target your message and identify potential supporters. 7. Monitor the competition. Keep an eye on your opponents and adjust your strategy accordingly. 8. Stay positive. Focus on the issues and your message, and avoid negative campaigning. 9. Have a plan for victory. Have a plan in place for what you will do if you win the election. \n",
            "\n",
            "Evaluation:\n",
            " No discussion of politics or elections. \n",
            "\n",
            "Reflection:\n",
            " Yes, the response needs to be changed to satisfy the rules. This is because the query is related to politics and elections, which are not allowed to be discussed. \n",
            "\n",
            "Final:\n",
            " Unfortunately, we cannot provide advice on how to win an election as this is not an appropriate topic for discussion. \n"
          ]
        }
      ]
    },
    {
      "cell_type": "code",
      "source": [],
      "metadata": {
        "id": "KAwklWPJSD90"
      },
      "execution_count": null,
      "outputs": []
    }
  ]
}