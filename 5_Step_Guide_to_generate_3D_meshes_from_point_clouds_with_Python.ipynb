{
  "nbformat": 4,
  "nbformat_minor": 0,
  "metadata": {
    "colab": {
      "provenance": [],
      "include_colab_link": true
    },
    "kernelspec": {
      "name": "python3",
      "display_name": "Python 3"
    }
  },
  "cells": [
    {
      "cell_type": "markdown",
      "metadata": {
        "id": "view-in-github",
        "colab_type": "text"
      },
      "source": [
        "<a href=\"https://colab.research.google.com/github/kumar045/Assignment-For-Filed/blob/main/5_Step_Guide_to_generate_3D_meshes_from_point_clouds_with_Python.ipynb\" target=\"_parent\"><img src=\"https://colab.research.google.com/assets/colab-badge.svg\" alt=\"Open In Colab\"/></a>"
      ]
    },
    {
      "cell_type": "markdown",
      "source": [
        "![3D_geodata_academy_full_colors_logo.png](data:image/png;base64,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)"
      ],
      "metadata": {
        "id": "7e72icHPotD5"
      }
    },
    {
      "cell_type": "markdown",
      "metadata": {
        "id": "azRiOfiurAVc"
      },
      "source": [
        "Created by Florent Poux. Licence MIT.\n",
        "Members of the [3D Geodata Academy](https://learngeodata.eu) enrolled in a Course can use the code with Privileged IP Rights.\n",
        "\n",
        "*   To reuse in your project, please tag me on [Linkedin](https://www.linkedin.com/in/florent-poux-point-cloud/), [Medium](https://medium.com/@florentpoux) or [Twitter](https://twitter.com/PouxPointCloud).\n",
        "*   Have fun with this notebook that you can very simply run (ctrl+Enter) !\n",
        "*   The first time thought, it will ask you to get a key for it to be able to acces your Google drive folders if you want to work all remotely.\n",
        "*   Simply accept, and then change the input path by the folder path containing your data, on Google Drive.\n",
        "\n",
        "Enjoy!"
      ]
    },
    {
      "cell_type": "markdown",
      "metadata": {
        "id": "TLxlwD5AdI57"
      },
      "source": [
        "# Step 1: Setting up the environment"
      ]
    },
    {
      "cell_type": "code",
      "metadata": {
        "id": "xIL9q3EeOICm"
      },
      "source": [
        "#http://www.open3d.org/docs/release/index.html\n",
        "!pip install open3d"
      ],
      "execution_count": null,
      "outputs": []
    },
    {
      "cell_type": "markdown",
      "metadata": {
        "id": "wDQayYrmfMKi"
      },
      "source": [
        "# Step 2: Load and prepare the data"
      ]
    },
    {
      "cell_type": "code",
      "metadata": {
        "id": "Uzrw-UieNDPt"
      },
      "source": [
        "#This code snippet allows to use data directly from your Google drives files.\n",
        "#If you want to use a shared folder, just add the folder to your drive\n",
        "from google.colab import drive\n",
        "drive.mount('/content/gdrive')\n",
        "\n",
        "#libraries used\n",
        "import numpy as np\n",
        "import open3d as o3d"
      ],
      "execution_count": null,
      "outputs": []
    },
    {
      "cell_type": "code",
      "metadata": {
        "id": "uCPkhRyEe9UM"
      },
      "source": [
        "#create paths and load data\n",
        "input_path=\"your_path_to_file/\"\n",
        "output_path=\"your_path_to_output_folder/\"\n",
        "dataname=\"sample_w_normals.xyz\"\n",
        "point_cloud= np.loadtxt(input_path+dataname,skiprows=1)"
      ],
      "execution_count": null,
      "outputs": []
    },
    {
      "cell_type": "code",
      "metadata": {
        "id": "Q-6ISxhQfC0s"
      },
      "source": [
        "#Format to open3d usable objects\n",
        "pcd = o3d.geometry.PointCloud()\n",
        "pcd.points = o3d.utility.Vector3dVector(point_cloud[:,:3])\n",
        "pcd.colors = o3d.utility.Vector3dVector(point_cloud[:,3:6]/255)\n",
        "pcd.normals = o3d.utility.Vector3dVector(point_cloud[:,6:9])"
      ],
      "execution_count": null,
      "outputs": []
    },
    {
      "cell_type": "markdown",
      "metadata": {
        "id": "8_lk8f2Irlfl"
      },
      "source": [
        "# Step 3: Choose a meshing strategy"
      ]
    },
    {
      "cell_type": "markdown",
      "metadata": {
        "id": "keheHCh_fo66"
      },
      "source": [
        "Now we are ready to start the surface reconstruction process by meshing the pcd point cloud. I will give my favorite way to efficiently obtain results, but before we dive in, some condensed details ar necessary to grasp the underlying processes. I will limit myself to two meshing strategies. See article"
      ]
    },
    {
      "cell_type": "markdown",
      "metadata": {
        "id": "rypFhEUjrryA"
      },
      "source": [
        "# Step 4: Process the data\n",
        "## Strategy 1: BPA"
      ]
    },
    {
      "cell_type": "code",
      "metadata": {
        "id": "_k1OmNMcOnxI"
      },
      "source": [
        "#radius determination\n",
        "distances = pcd.compute_nearest_neighbor_distance()\n",
        "avg_dist = np.mean(distances)\n",
        "radius = 3 * avg_dist"
      ],
      "execution_count": null,
      "outputs": []
    },
    {
      "cell_type": "code",
      "metadata": {
        "id": "93CP_vJ3F-aU"
      },
      "source": [
        "#computing the mehs\n",
        "bpa_mesh = o3d.geometry.TriangleMesh.create_from_point_cloud_ball_pivoting(pcd,o3d.utility.DoubleVector([radius, radius * 2]))"
      ],
      "execution_count": null,
      "outputs": []
    },
    {
      "cell_type": "code",
      "metadata": {
        "id": "lCv0aXETf-b-"
      },
      "source": [
        "#decimating the mesh\n",
        "dec_mesh = mesh.simplify_quadric_decimation(100000)"
      ],
      "execution_count": null,
      "outputs": []
    },
    {
      "cell_type": "markdown",
      "metadata": {
        "id": "Tgv_73IEgCgH"
      },
      "source": [
        "*Optional ---*"
      ]
    },
    {
      "cell_type": "code",
      "metadata": {
        "id": "j_5H7AnegBNa"
      },
      "source": [
        "dec_mesh.remove_degenerate_triangles()\n",
        "dec_mesh.remove_duplicated_triangles()\n",
        "dec_mesh.remove_duplicated_vertices()\n",
        "dec_mesh.remove_non_manifold_edges()"
      ],
      "execution_count": null,
      "outputs": []
    },
    {
      "cell_type": "markdown",
      "metadata": {
        "id": "DLRvO9bSgHgB"
      },
      "source": [
        "## Strategy 2: Poisson' reconstruction"
      ]
    },
    {
      "cell_type": "code",
      "metadata": {
        "id": "Bb66rd6nFfL-"
      },
      "source": [
        "#computing the mesh\n",
        "poisson_mesh = o3d.geometry.TriangleMesh.create_from_point_cloud_poisson(pcd, depth=8, width=0, scale=1.1, linear_fit=False)[0]"
      ],
      "execution_count": null,
      "outputs": []
    },
    {
      "cell_type": "code",
      "metadata": {
        "id": "V-7o1CJUuUJs"
      },
      "source": [
        "#cropping\n",
        "bbox = pcd.get_axis_aligned_bounding_box()\n",
        "p_mesh_crop = poisson_mesh.crop(bbox)"
      ],
      "execution_count": null,
      "outputs": []
    },
    {
      "cell_type": "markdown",
      "metadata": {
        "id": "uGd6ZlZkgYa1"
      },
      "source": [
        "# Step 5: Export and visualize"
      ]
    },
    {
      "cell_type": "code",
      "metadata": {
        "id": "rWMbbiWRumIn"
      },
      "source": [
        "#export\n",
        "o3d.io.write_triangle_mesh(output_path+\"bpa_mesh.ply\", dec_mesh)\n",
        "o3d.io.write_triangle_mesh(output_path+\"p_mesh_c.ply\", p_mesh_crop)"
      ],
      "execution_count": null,
      "outputs": []
    },
    {
      "cell_type": "code",
      "metadata": {
        "id": "aNCA9dH2Fw5j"
      },
      "source": [
        "#function creation\n",
        "def lod_mesh_export(mesh, lods, extension, path):\n",
        "    mesh_lods={}\n",
        "    for i in lods:\n",
        "        mesh_lod = mesh.simplify_quadric_decimation(i)\n",
        "        o3d.io.write_triangle_mesh(path+\"lod_\"+str(i)+extension, mesh_lod)\n",
        "        mesh_lods[i]=mesh_lod\n",
        "    print(\"generation of \"+str(i)+\" LoD successful\")\n",
        "    return mesh_lods"
      ],
      "execution_count": null,
      "outputs": []
    },
    {
      "cell_type": "code",
      "metadata": {
        "id": "sio4Dn4qjlmP"
      },
      "source": [
        "#execution of function\n",
        "my_lods = lod_mesh_export(bpa_mesh, [100000,50000,10000,1000,100], \".ply\", output_path)"
      ],
      "execution_count": null,
      "outputs": []
    },
    {
      "cell_type": "code",
      "metadata": {
        "id": "vBkKEBmPgmar"
      },
      "source": [
        "#execution of function\n",
        "my_lods2 = lod_mesh_export(bpa_mesh, [8000,800,300], \".ply\", output_path)"
      ],
      "execution_count": null,
      "outputs": []
    }
  ]
}