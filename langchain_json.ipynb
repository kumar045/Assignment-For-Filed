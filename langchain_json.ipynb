{
  "nbformat": 4,
  "nbformat_minor": 0,
  "metadata": {
    "colab": {
      "provenance": [],
      "collapsed_sections": [
        "9FHdRBF85Wi9",
        "SSpyTJDp6sMN",
        "pIZ3NejSHh8-"
      ],
      "toc_visible": true,
      "include_colab_link": true
    },
    "kernelspec": {
      "name": "python3",
      "display_name": "Python 3"
    },
    "language_info": {
      "name": "python"
    }
  },
  "cells": [
    {
      "cell_type": "markdown",
      "metadata": {
        "id": "view-in-github",
        "colab_type": "text"
      },
      "source": [
        "<a href=\"https://colab.research.google.com/github/kumar045/Assignment-For-Filed/blob/main/langchain_json.ipynb\" target=\"_parent\"><img src=\"https://colab.research.google.com/assets/colab-badge.svg\" alt=\"Open In Colab\"/></a>"
      ]
    },
    {
      "cell_type": "markdown",
      "source": [
        "# [JSON](https://python.langchain.com/en/latest/modules/indexes/document_loaders/examples/json.html#json), [JSONLoader](https://python.langchain.com/en/latest/modules/indexes/document_loaders/examples/json.html#using-jsonloader) and [JSON Agent](https://python.langchain.com/en/latest/modules/agents/toolkits/examples/json.html)  \n",
        "\n",
        "## [Youtube Video Covering this notebook](https://youtu.be/Ldr-ioU_ELo)"
      ],
      "metadata": {
        "id": "PBTZz0_o4kLo"
      }
    },
    {
      "cell_type": "markdown",
      "source": [
        "## [JSON (JavaScript Object Notation)](https://en.wikipedia.org/wiki/JSON)\n",
        "- There are many online json viewer, One Exammple -> [JSONViewer](https://jsonformatter.org/json-viewer)\n",
        "- open standard file format and data interchange format that uses human-readable text to store and transmit data objects consisting of attribute–value pairs and arrays (or other serializable values).\n",
        "- [YAML](https://en.wikipedia.org/wiki/YAML)\n",
        "- [Json vs Yaml](https://www.perplexity.ai/search/d9d35ab3-1de1-459a-a87f-b5eeb8074bee?s=c)"
      ],
      "metadata": {
        "id": "QNANZVjm4Ehw"
      }
    },
    {
      "cell_type": "markdown",
      "source": [
        "## ⚙️ Setup"
      ],
      "metadata": {
        "id": "9FHdRBF85Wi9"
      }
    },
    {
      "cell_type": "code",
      "execution_count": null,
      "metadata": {
        "id": "1OyevMOq365w"
      },
      "outputs": [],
      "source": [
        "%%capture\n",
        "!pip install langchain watermark openai jq"
      ]
    },
    {
      "cell_type": "code",
      "source": [
        "%load_ext watermark\n",
        "%watermark -a \"Sudarshan Koirala\" -vmp langchain,openai,jq"
      ],
      "metadata": {
        "colab": {
          "base_uri": "https://localhost:8080/"
        },
        "id": "JjgpFpdG5a2m",
        "outputId": "5a57eafb-d7bd-43f5-b4af-9ccff66cfddf"
      },
      "execution_count": null,
      "outputs": [
        {
          "output_type": "stream",
          "name": "stdout",
          "text": [
            "Author: Sudarshan Koirala\n",
            "\n",
            "Python implementation: CPython\n",
            "Python version       : 3.10.11\n",
            "IPython version      : 7.34.0\n",
            "\n",
            "langchain: 0.0.186\n",
            "openai   : 0.27.7\n",
            "jq       : 1.4.1\n",
            "\n",
            "Compiler    : GCC 9.4.0\n",
            "OS          : Linux\n",
            "Release     : 5.15.107+\n",
            "Machine     : x86_64\n",
            "Processor   : x86_64\n",
            "CPU cores   : 2\n",
            "Architecture: 64bit\n",
            "\n"
          ]
        }
      ]
    },
    {
      "cell_type": "code",
      "source": [
        "import os\n",
        "import openai\n",
        "import warnings\n",
        "\n",
        "warnings.filterwarnings(\"ignore\")"
      ],
      "metadata": {
        "id": "m4Ajhkcn5hUt"
      },
      "execution_count": null,
      "outputs": []
    },
    {
      "cell_type": "code",
      "source": [
        "# get your openai api key from https://platform.openai.com/account/api-keys 🔑\n",
        "from getpass import getpass\n",
        "\n",
        "OPENAI_API_KEY = getpass()\n",
        "os.environ[\"OPENAI_API_KEY\"] = OPENAI_API_KEY\n",
        "openai.api_key = os.getenv(\"OPENAI_API_KEY\")"
      ],
      "metadata": {
        "colab": {
          "base_uri": "https://localhost:8080/"
        },
        "id": "g2o3VQY-5oSg",
        "outputId": "6a8c6ee5-968c-455b-ba28-47201249adf4"
      },
      "execution_count": null,
      "outputs": [
        {
          "name": "stdout",
          "output_type": "stream",
          "text": [
            "··········\n"
          ]
        }
      ]
    },
    {
      "cell_type": "markdown",
      "source": [
        "## JSON"
      ],
      "metadata": {
        "id": "_ipxy8swre-a"
      }
    },
    {
      "cell_type": "code",
      "source": [
        "# download facebook_chat.json from langchain github repo\n",
        "!wget https://raw.githubusercontent.com/hwchase17/langchain/master/docs/modules/indexes/document_loaders/examples/example_data/facebook_chat.json -O facebook_chat.json"
      ],
      "metadata": {
        "colab": {
          "base_uri": "https://localhost:8080/"
        },
        "id": "jDlopoNs6ADA",
        "outputId": "c4b7ed98-85b4-4403-a1e1-387260994581"
      },
      "execution_count": null,
      "outputs": [
        {
          "output_type": "stream",
          "name": "stdout",
          "text": [
            "--2023-05-31 09:13:41--  https://raw.githubusercontent.com/hwchase17/langchain/master/docs/modules/indexes/document_loaders/examples/example_data/facebook_chat.json\n",
            "Resolving raw.githubusercontent.com (raw.githubusercontent.com)... 185.199.108.133, 185.199.109.133, 185.199.110.133, ...\n",
            "Connecting to raw.githubusercontent.com (raw.githubusercontent.com)|185.199.108.133|:443... connected.\n",
            "HTTP request sent, awaiting response... 200 OK\n",
            "Length: 2167 (2.1K) [text/plain]\n",
            "Saving to: ‘facebook_chat.json’\n",
            "\n",
            "\rfacebook_chat.json    0%[                    ]       0  --.-KB/s               \rfacebook_chat.json  100%[===================>]   2.12K  --.-KB/s    in 0s      \n",
            "\n",
            "2023-05-31 09:13:41 (39.4 MB/s) - ‘facebook_chat.json’ saved [2167/2167]\n",
            "\n"
          ]
        }
      ]
    },
    {
      "cell_type": "code",
      "source": [
        "import json\n",
        "from pathlib import Path\n",
        "from pprint import pprint\n",
        "\n",
        "\n",
        "file_path='/content/facebook_chat.json'\n",
        "data = json.loads(Path(file_path).read_text())"
      ],
      "metadata": {
        "id": "kqwywkch5qrF"
      },
      "execution_count": null,
      "outputs": []
    },
    {
      "cell_type": "code",
      "source": [
        "#print(data)"
      ],
      "metadata": {
        "id": "rPrjO5-G6ni2"
      },
      "execution_count": null,
      "outputs": []
    },
    {
      "cell_type": "code",
      "source": [
        "pprint(data)"
      ],
      "metadata": {
        "colab": {
          "base_uri": "https://localhost:8080/"
        },
        "id": "uLCw2XKF55HZ",
        "outputId": "05ed13b0-eadd-4958-b795-ec07adcbb0d0"
      },
      "execution_count": null,
      "outputs": [
        {
          "output_type": "stream",
          "name": "stdout",
          "text": [
            "{'image': {'creation_timestamp': 1675549016, 'uri': 'image_of_the_chat.jpg'},\n",
            " 'is_still_participant': True,\n",
            " 'joinable_mode': {'link': '', 'mode': 1},\n",
            " 'magic_words': [],\n",
            " 'messages': [{'content': 'Bye!',\n",
            "               'sender_name': 'User 2',\n",
            "               'timestamp_ms': 1675597571851},\n",
            "              {'content': 'Oh no worries! Bye',\n",
            "               'sender_name': 'User 1',\n",
            "               'timestamp_ms': 1675597435669},\n",
            "              {'content': 'No Im sorry it was my mistake, the blue one is not '\n",
            "                          'for sale',\n",
            "               'sender_name': 'User 2',\n",
            "               'timestamp_ms': 1675596277579},\n",
            "              {'content': 'I thought you were selling the blue one!',\n",
            "               'sender_name': 'User 1',\n",
            "               'timestamp_ms': 1675595140251},\n",
            "              {'content': 'Im not interested in this bag. Im interested in the '\n",
            "                          'blue one!',\n",
            "               'sender_name': 'User 1',\n",
            "               'timestamp_ms': 1675595109305},\n",
            "              {'content': 'Here is $129',\n",
            "               'sender_name': 'User 2',\n",
            "               'timestamp_ms': 1675595068468},\n",
            "              {'photos': [{'creation_timestamp': 1675595059,\n",
            "                           'uri': 'url_of_some_picture.jpg'}],\n",
            "               'sender_name': 'User 2',\n",
            "               'timestamp_ms': 1675595060730},\n",
            "              {'content': 'Online is at least $100',\n",
            "               'sender_name': 'User 2',\n",
            "               'timestamp_ms': 1675595045152},\n",
            "              {'content': 'How much do you want?',\n",
            "               'sender_name': 'User 1',\n",
            "               'timestamp_ms': 1675594799696},\n",
            "              {'content': 'Goodmorning! $50 is too low.',\n",
            "               'sender_name': 'User 2',\n",
            "               'timestamp_ms': 1675577876645},\n",
            "              {'content': 'Hi! Im interested in your bag. Im offering $50. Let '\n",
            "                          'me know if you are interested. Thanks!',\n",
            "               'sender_name': 'User 1',\n",
            "               'timestamp_ms': 1675549022673}],\n",
            " 'participants': [{'name': 'User 1'}, {'name': 'User 2'}],\n",
            " 'thread_path': 'inbox/User 1 and User 2 chat',\n",
            " 'title': 'User 1 and User 2 chat'}\n"
          ]
        }
      ]
    },
    {
      "cell_type": "markdown",
      "source": [
        "## Using JSONLoader\n",
        "- The JSONLoader uses a specified [jq schema](https://en.wikipedia.org/wiki/Jq_(programming_language)) to parse the JSON files\n",
        "- It uses the `jq` python package. Check this [manual](https://jqlang.github.io/jq/manual/) for a detailed documentation of the jq syntax."
      ],
      "metadata": {
        "id": "SSpyTJDp6sMN"
      }
    },
    {
      "cell_type": "code",
      "source": [
        "from langchain.document_loaders import JSONLoader"
      ],
      "metadata": {
        "id": "kH4KZl9s7Iyd"
      },
      "execution_count": null,
      "outputs": []
    },
    {
      "cell_type": "code",
      "source": [
        "loader = JSONLoader(\n",
        "    file_path='/content/facebook_chat.json',\n",
        "    jq_schema='.messages[].content',\n",
        "    text_content=False)\n",
        "\n",
        "data = loader.load()"
      ],
      "metadata": {
        "id": "9dfsrRnZ6Y-w"
      },
      "execution_count": null,
      "outputs": []
    },
    {
      "cell_type": "code",
      "source": [
        "pprint(data)"
      ],
      "metadata": {
        "colab": {
          "base_uri": "https://localhost:8080/"
        },
        "id": "joITnpsX7L3s",
        "outputId": "94419777-241a-4dda-8f1a-2fb93ed1af4d"
      },
      "execution_count": null,
      "outputs": [
        {
          "output_type": "stream",
          "name": "stdout",
          "text": [
            "[Document(page_content='Bye!', metadata={'source': '/content/facebook_chat.json', 'seq_num': 1}),\n",
            " Document(page_content='Oh no worries! Bye', metadata={'source': '/content/facebook_chat.json', 'seq_num': 2}),\n",
            " Document(page_content='No Im sorry it was my mistake, the blue one is not for sale', metadata={'source': '/content/facebook_chat.json', 'seq_num': 3}),\n",
            " Document(page_content='I thought you were selling the blue one!', metadata={'source': '/content/facebook_chat.json', 'seq_num': 4}),\n",
            " Document(page_content='Im not interested in this bag. Im interested in the blue one!', metadata={'source': '/content/facebook_chat.json', 'seq_num': 5}),\n",
            " Document(page_content='Here is $129', metadata={'source': '/content/facebook_chat.json', 'seq_num': 6}),\n",
            " Document(page_content='', metadata={'source': '/content/facebook_chat.json', 'seq_num': 7}),\n",
            " Document(page_content='Online is at least $100', metadata={'source': '/content/facebook_chat.json', 'seq_num': 8}),\n",
            " Document(page_content='How much do you want?', metadata={'source': '/content/facebook_chat.json', 'seq_num': 9}),\n",
            " Document(page_content='Goodmorning! $50 is too low.', metadata={'source': '/content/facebook_chat.json', 'seq_num': 10}),\n",
            " Document(page_content='Hi! Im interested in your bag. Im offering $50. Let me know if you are interested. Thanks!', metadata={'source': '/content/facebook_chat.json', 'seq_num': 11})]\n"
          ]
        }
      ]
    },
    {
      "cell_type": "markdown",
      "source": [
        "### Extracting metadata"
      ],
      "metadata": {
        "id": "VZBB-IqC7cAJ"
      }
    },
    {
      "cell_type": "code",
      "source": [
        "# Define the metadata extraction function.\n",
        "def metadata_func(record: dict, metadata: dict) -> dict:\n",
        "\n",
        "    metadata[\"sender_name\"] = record.get(\"sender_name\")\n",
        "    metadata[\"timestamp_ms\"] = record.get(\"timestamp_ms\")\n",
        "\n",
        "    return metadata\n",
        "\n",
        "\n",
        "loader = JSONLoader(\n",
        "    file_path='/content/facebook_chat.json',\n",
        "    jq_schema='.messages[]',\n",
        "    content_key=\"content\",\n",
        "    text_content=False,\n",
        "    metadata_func=metadata_func\n",
        ")\n",
        "\n",
        "data = loader.load()"
      ],
      "metadata": {
        "id": "bM8wRSTU7zGO"
      },
      "execution_count": null,
      "outputs": []
    },
    {
      "cell_type": "code",
      "source": [
        "pprint(data)"
      ],
      "metadata": {
        "colab": {
          "base_uri": "https://localhost:8080/"
        },
        "id": "LRrGSCN_72v_",
        "outputId": "1de43053-a3cc-4c28-9c8a-f07d706997e2"
      },
      "execution_count": null,
      "outputs": [
        {
          "output_type": "stream",
          "name": "stdout",
          "text": [
            "[Document(page_content='Bye!', metadata={'source': '/content/facebook_chat.json', 'seq_num': 1, 'sender_name': 'User 2', 'timestamp_ms': 1675597571851}),\n",
            " Document(page_content='Oh no worries! Bye', metadata={'source': '/content/facebook_chat.json', 'seq_num': 2, 'sender_name': 'User 1', 'timestamp_ms': 1675597435669}),\n",
            " Document(page_content='No Im sorry it was my mistake, the blue one is not for sale', metadata={'source': '/content/facebook_chat.json', 'seq_num': 3, 'sender_name': 'User 2', 'timestamp_ms': 1675596277579}),\n",
            " Document(page_content='I thought you were selling the blue one!', metadata={'source': '/content/facebook_chat.json', 'seq_num': 4, 'sender_name': 'User 1', 'timestamp_ms': 1675595140251}),\n",
            " Document(page_content='Im not interested in this bag. Im interested in the blue one!', metadata={'source': '/content/facebook_chat.json', 'seq_num': 5, 'sender_name': 'User 1', 'timestamp_ms': 1675595109305}),\n",
            " Document(page_content='Here is $129', metadata={'source': '/content/facebook_chat.json', 'seq_num': 6, 'sender_name': 'User 2', 'timestamp_ms': 1675595068468}),\n",
            " Document(page_content='', metadata={'source': '/content/facebook_chat.json', 'seq_num': 7, 'sender_name': 'User 2', 'timestamp_ms': 1675595060730}),\n",
            " Document(page_content='Online is at least $100', metadata={'source': '/content/facebook_chat.json', 'seq_num': 8, 'sender_name': 'User 2', 'timestamp_ms': 1675595045152}),\n",
            " Document(page_content='How much do you want?', metadata={'source': '/content/facebook_chat.json', 'seq_num': 9, 'sender_name': 'User 1', 'timestamp_ms': 1675594799696}),\n",
            " Document(page_content='Goodmorning! $50 is too low.', metadata={'source': '/content/facebook_chat.json', 'seq_num': 10, 'sender_name': 'User 2', 'timestamp_ms': 1675577876645}),\n",
            " Document(page_content='Hi! Im interested in your bag. Im offering $50. Let me know if you are interested. Thanks!', metadata={'source': '/content/facebook_chat.json', 'seq_num': 11, 'sender_name': 'User 1', 'timestamp_ms': 1675549022673})]\n"
          ]
        }
      ]
    },
    {
      "cell_type": "markdown",
      "source": [
        "## JSON Agent\n",
        "- Agent designed to interact with large JSON/dict objects\n",
        "- <font color=\"orange\"> When is it needed ? </font>\n",
        "    - This is useful when you want to answer questions about a JSON blob that’s too large to fit in the context window of an LLM.\n",
        "    - The agent is able to iteratively explore the blob to find what it needs to answer the user’s question\n",
        "- Let's JSON agent to answer some questions about the API spec"
      ],
      "metadata": {
        "id": "pIZ3NejSHh8-"
      }
    },
    {
      "cell_type": "code",
      "source": [
        "# download the yaml file from openai github page\n",
        "!wget https://raw.githubusercontent.com/openai/openai-openapi/master/openapi.yaml -O openai_openapi.yml"
      ],
      "metadata": {
        "colab": {
          "base_uri": "https://localhost:8080/"
        },
        "id": "u6ID9kyeHeit",
        "outputId": "5d0952d8-7d42-457d-a2d5-d4a4491bc16e"
      },
      "execution_count": null,
      "outputs": [
        {
          "output_type": "stream",
          "name": "stdout",
          "text": [
            "--2023-05-31 09:27:18--  https://raw.githubusercontent.com/openai/openai-openapi/master/openapi.yaml\n",
            "Resolving raw.githubusercontent.com (raw.githubusercontent.com)... 185.199.108.133, 185.199.111.133, 185.199.109.133, ...\n",
            "Connecting to raw.githubusercontent.com (raw.githubusercontent.com)|185.199.108.133|:443... connected.\n",
            "HTTP request sent, awaiting response... 200 OK\n",
            "Length: 122995 (120K) [text/plain]\n",
            "Saving to: ‘openai_openapi.yml’\n",
            "\n",
            "\ropenai_openapi.yml    0%[                    ]       0  --.-KB/s               \ropenai_openapi.yml  100%[===================>] 120.11K  --.-KB/s    in 0.01s   \n",
            "\n",
            "2023-05-31 09:27:19 (9.89 MB/s) - ‘openai_openapi.yml’ saved [122995/122995]\n",
            "\n"
          ]
        }
      ]
    },
    {
      "cell_type": "markdown",
      "source": [
        "### Initialization of Agent"
      ],
      "metadata": {
        "id": "sYmTgP7eIlEV"
      }
    },
    {
      "cell_type": "code",
      "source": [
        "import os\n",
        "import yaml\n",
        "\n",
        "from langchain.agents import (\n",
        "    create_json_agent,\n",
        "    AgentExecutor\n",
        ")\n",
        "from langchain.agents.agent_toolkits import JsonToolkit\n",
        "from langchain.chains import LLMChain\n",
        "from langchain.llms.openai import OpenAI\n",
        "from langchain.requests import TextRequestsWrapper\n",
        "from langchain.tools.json.tool import JsonSpec"
      ],
      "metadata": {
        "id": "zF6NJIRjISNM"
      },
      "execution_count": null,
      "outputs": []
    },
    {
      "cell_type": "code",
      "source": [
        "with open(\"/content/openai_openapi.yml\") as f:\n",
        "    data = yaml.load(f, Loader=yaml.FullLoader)\n",
        "json_spec = JsonSpec(dict_=data, max_value_length=4000)\n",
        "json_toolkit = JsonToolkit(spec=json_spec)\n",
        "\n",
        "json_agent_executor = create_json_agent(\n",
        "    llm=OpenAI(temperature=0),\n",
        "    toolkit=json_toolkit,\n",
        "    verbose=True\n",
        ")"
      ],
      "metadata": {
        "id": "SzY6a0OWIWZB"
      },
      "execution_count": null,
      "outputs": []
    },
    {
      "cell_type": "markdown",
      "source": [
        "### Getting the required POST parameters for a request [openai_openapi_yml github link](https://github.com/openai/openai-openapi/blob/master/openapi.yaml)"
      ],
      "metadata": {
        "id": "RMdjSJFdIqKV"
      }
    },
    {
      "cell_type": "code",
      "source": [
        "json_agent_executor.run(\"What are the required parameters in the request body to the /completions endpoint?\")"
      ],
      "metadata": {
        "colab": {
          "base_uri": "https://localhost:8080/",
          "height": 993
        },
        "id": "TwrQK0CmIdVa",
        "outputId": "c4b9b00f-3a66-47e9-a32a-41ef14aa6967"
      },
      "execution_count": null,
      "outputs": [
        {
          "output_type": "stream",
          "name": "stdout",
          "text": [
            "\n",
            "\n",
            "\u001b[1m> Entering new AgentExecutor chain...\u001b[0m\n",
            "\u001b[32;1m\u001b[1;3mAction: json_spec_list_keys\n",
            "Action Input: data\u001b[0m\n",
            "Observation: \u001b[36;1m\u001b[1;3m['openapi', 'info', 'servers', 'tags', 'paths', 'components', 'x-oaiMeta']\u001b[0m\n",
            "Thought:\u001b[32;1m\u001b[1;3m I should look at the paths key to see what endpoints exist\n",
            "Action: json_spec_list_keys\n",
            "Action Input: data[\"paths\"]\u001b[0m\n",
            "Observation: \u001b[36;1m\u001b[1;3m['/engines', '/engines/{engine_id}', '/completions', '/chat/completions', '/edits', '/images/generations', '/images/edits', '/images/variations', '/embeddings', '/audio/transcriptions', '/audio/translations', '/engines/{engine_id}/search', '/files', '/files/{file_id}', '/files/{file_id}/content', '/answers', '/classifications', '/fine-tunes', '/fine-tunes/{fine_tune_id}', '/fine-tunes/{fine_tune_id}/cancel', '/fine-tunes/{fine_tune_id}/events', '/models', '/models/{model}', '/moderations']\u001b[0m\n",
            "Thought:\u001b[32;1m\u001b[1;3m I should look at the /completions endpoint to see what parameters are required\n",
            "Action: json_spec_list_keys\n",
            "Action Input: data[\"paths\"][\"/completions\"]\u001b[0m\n",
            "Observation: \u001b[36;1m\u001b[1;3m['post']\u001b[0m\n",
            "Thought:\u001b[32;1m\u001b[1;3m I should look at the post key to see what parameters are required\n",
            "Action: json_spec_list_keys\n",
            "Action Input: data[\"paths\"][\"/completions\"][\"post\"]\u001b[0m\n",
            "Observation: \u001b[36;1m\u001b[1;3m['operationId', 'tags', 'summary', 'requestBody', 'responses', 'x-oaiMeta']\u001b[0m\n",
            "Thought:\u001b[32;1m\u001b[1;3m I should look at the requestBody key to see what parameters are required\n",
            "Action: json_spec_list_keys\n",
            "Action Input: data[\"paths\"][\"/completions\"][\"post\"][\"requestBody\"]\u001b[0m\n",
            "Observation: \u001b[36;1m\u001b[1;3m['required', 'content']\u001b[0m\n",
            "Thought:\u001b[32;1m\u001b[1;3m I should look at the required key to see what parameters are required\n",
            "Action: json_spec_get_value\n",
            "Action Input: data[\"paths\"][\"/completions\"][\"post\"][\"requestBody\"][\"required\"]\u001b[0m\n",
            "Observation: \u001b[33;1m\u001b[1;3mTrue\u001b[0m\n",
            "Thought:\u001b[32;1m\u001b[1;3m I should look at the content key to see what parameters are required\n",
            "Action: json_spec_list_keys\n",
            "Action Input: data[\"paths\"][\"/completions\"][\"post\"][\"requestBody\"][\"content\"]\u001b[0m\n",
            "Observation: \u001b[36;1m\u001b[1;3m['application/json']\u001b[0m\n",
            "Thought:\u001b[32;1m\u001b[1;3m I should look at the application/json key to see what parameters are required\n",
            "Action: json_spec_list_keys\n",
            "Action Input: data[\"paths\"][\"/completions\"][\"post\"][\"requestBody\"][\"content\"][\"application/json\"]\u001b[0m\n",
            "Observation: \u001b[36;1m\u001b[1;3m['schema']\u001b[0m\n",
            "Thought:\u001b[32;1m\u001b[1;3m I should look at the schema key to see what parameters are required\n",
            "Action: json_spec_list_keys\n",
            "Action Input: data[\"paths\"][\"/completions\"][\"post\"][\"requestBody\"][\"content\"][\"application/json\"][\"schema\"]\u001b[0m\n",
            "Observation: \u001b[36;1m\u001b[1;3m['$ref']\u001b[0m\n",
            "Thought:\u001b[32;1m\u001b[1;3m I should look at the $ref key to see what parameters are required\n",
            "Action: json_spec_get_value\n",
            "Action Input: data[\"paths\"][\"/completions\"][\"post\"][\"requestBody\"][\"content\"][\"application/json\"][\"schema\"][\"$ref\"]\u001b[0m\n",
            "Observation: \u001b[33;1m\u001b[1;3m#/components/schemas/CreateCompletionRequest\u001b[0m\n",
            "Thought:\u001b[32;1m\u001b[1;3m I should look at the CreateCompletionRequest schema to see what parameters are required\n",
            "Action: json_spec_list_keys\n",
            "Action Input: data[\"components\"][\"schemas\"][\"CreateCompletionRequest\"]\u001b[0m\n",
            "Observation: \u001b[36;1m\u001b[1;3m['type', 'properties', 'required']\u001b[0m\n",
            "Thought:\u001b[32;1m\u001b[1;3m I should look at the required key to see what parameters are required\n",
            "Action: json_spec_get_value\n",
            "Action Input: data[\"components\"][\"schemas\"][\"CreateCompletionRequest\"][\"required\"]\u001b[0m\n",
            "Observation: \u001b[33;1m\u001b[1;3m['model']\u001b[0m\n",
            "Thought:\u001b[32;1m\u001b[1;3m I now know the final answer\n",
            "Final Answer: The required parameters in the request body to the /completions endpoint are 'model'.\u001b[0m\n",
            "\n",
            "\u001b[1m> Finished chain.\u001b[0m\n"
          ]
        },
        {
          "output_type": "execute_result",
          "data": {
            "text/plain": [
              "\"The required parameters in the request body to the /completions endpoint are 'model'.\""
            ],
            "application/vnd.google.colaboratory.intrinsic+json": {
              "type": "string"
            }
          },
          "metadata": {},
          "execution_count": 43
        }
      ]
    },
    {
      "cell_type": "markdown",
      "source": [
        "**Hope you learned something new today ⛓️👨‍💻**"
      ],
      "metadata": {
        "id": "NS_6kS6SNFG5"
      }
    },
    {
      "cell_type": "code",
      "source": [],
      "metadata": {
        "id": "I0Vyjr1_JnlY"
      },
      "execution_count": null,
      "outputs": []
    }
  ]
}