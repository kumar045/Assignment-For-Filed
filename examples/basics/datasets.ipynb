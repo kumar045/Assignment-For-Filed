{
  "nbformat": 4,
  "nbformat_minor": 5,
  "metadata": {
    "colab": {
      "provenance": []
    },
    "language_info": {
      "name": "python"
    },
    "kernelspec": {
      "name": "python3",
      "display_name": "Python 3"
    }
  },
  "cells": [
    {
      "metadata": {
        "id": "LVUu_s7kSpZw"
      },
      "source": [
        "<td>\n",
        "   <a target=\"_blank\" href=\"https://labelbox.com\" ><img src=\"https://labelbox.com/blog/content/images/2021/02/logo-v4.svg\" width=256/></a>\n",
        "</td>"
      ],
      "cell_type": "markdown",
      "id": "LVUu_s7kSpZw"
    },
    {
      "metadata": {
        "id": "oBXrulovSpZ1"
      },
      "source": [
        "<td>\n",
        "<a href=\"https://colab.research.google.com/github/Labelbox/labelbox-python/blob/master/examples/basics/datasets.ipynb\" target=\"_blank\"><img\n",
        "src=\"https://colab.research.google.com/assets/colab-badge.svg\" alt=\"Open In Colab\"></a>\n",
        "</td>\n",
        "\n",
        "<td>\n",
        "<a href=\"https://github.com/Labelbox/labelbox-python/tree/master/examples/basics/datasets.ipynb\" target=\"_blank\"><img\n",
        "src=\"https://img.shields.io/badge/GitHub-100000?logo=github&logoColor=white\" alt=\"GitHub\"></a>\n",
        "</td>"
      ],
      "cell_type": "markdown",
      "id": "oBXrulovSpZ1"
    },
    {
      "metadata": {
        "id": "y0cuRUU2SpZ2"
      },
      "source": [
        "# Datasets"
      ],
      "cell_type": "markdown",
      "id": "y0cuRUU2SpZ2"
    },
    {
      "metadata": {
        "id": "y7G7dbBUSpZ3"
      },
      "source": [
        "* Datasets are collections of data rows (image, video, or text to be labeled)\n",
        "* Datasets are used to define units of work.\n",
        "    * Attaching a dataset to a project will add all data rows in the dataset to the project (and add them to the queue)\n",
        "* Datasets are not required to be fixed in size (you can add data rows at any time). \n",
        "    * However, if you add data rows to a dataset, all projects associated with this dataset will add the new data rows to its queue"
      ],
      "cell_type": "markdown",
      "id": "y7G7dbBUSpZ3"
    },
    {
      "metadata": {
        "id": "DXURWUSNSpZ4"
      },
      "source": [
        "!pip install labelbox"
      ],
      "cell_type": "code",
      "outputs": [],
      "execution_count": null,
      "id": "DXURWUSNSpZ4"
    },
    {
      "metadata": {
        "id": "Kn2te8ECSpZ6"
      },
      "source": [
        "import labelbox as lb\n",
        "import uuid\n",
        "import os"
      ],
      "cell_type": "code",
      "outputs": [],
      "execution_count": null,
      "id": "Kn2te8ECSpZ6"
    },
    {
      "metadata": {
        "id": "U_N0Oz7HSpZ7"
      },
      "source": [
        "* Set the following cell with your data to run this notebook"
      ],
      "cell_type": "markdown",
      "id": "U_N0Oz7HSpZ7"
    },
    {
      "metadata": {
        "id": "68B0S6NnSpZ7"
      },
      "source": [
        "# Pick a dataset that has attached data_rows\n",
        "DATASET_ID = \"ckm4xyfua04cf0z7a3wz58kgj\""
      ],
      "cell_type": "code",
      "outputs": [],
      "execution_count": null,
      "id": "68B0S6NnSpZ7"
    },
    {
      "metadata": {
        "id": "RAwqLsnvSpZ8"
      },
      "source": [
        "# API Key and Client\n",
        "Provide a valid api key below in order to properly connect to the Labelbox Client."
      ],
      "cell_type": "markdown",
      "id": "RAwqLsnvSpZ8"
    },
    {
      "metadata": {
        "id": "75bo7L-BSpZ8"
      },
      "source": [
        "# Add your api key\n",
        "API_KEY = None\n",
        "client = lb.Client(api_key=API_KEY)"
      ],
      "cell_type": "code",
      "outputs": [],
      "execution_count": null,
      "id": "75bo7L-BSpZ8"
    },
    {
      "metadata": {
        "id": "LNO9v5HNSpZ8"
      },
      "source": [
        "### Read"
      ],
      "cell_type": "markdown",
      "id": "LNO9v5HNSpZ8"
    },
    {
      "metadata": {
        "id": "BEToTpcHSpZ8"
      },
      "source": [
        "# Can be fetched by name (using a query - see basics), or using an id directly\n",
        "dataset = client.get_dataset(DATASET_ID)"
      ],
      "cell_type": "code",
      "outputs": [],
      "execution_count": null,
      "id": "BEToTpcHSpZ8"
    },
    {
      "metadata": {
        "id": "n-hLTFNDSpZ9"
      },
      "source": [
        "print(dataset)"
      ],
      "cell_type": "code",
      "outputs": [],
      "execution_count": null,
      "id": "n-hLTFNDSpZ9"
    },
    {
      "metadata": {
        "id": "REIdzC33SpZ9"
      },
      "source": [
        "# We can see the data rows associated with a dataset\n",
        "data_rows = dataset.data_rows()\n",
        "next(data_rows)  # Print first data row"
      ],
      "cell_type": "code",
      "outputs": [],
      "execution_count": null,
      "id": "REIdzC33SpZ9"
    },
    {
      "metadata": {
        "id": "uiqKWUNDSpZ9"
      },
      "source": [
        "# Attached projects\n",
        "print(\"Projects with this dataset attached :\", list(dataset.projects()))\n",
        "print(\"Dataset name :\", dataset.name)"
      ],
      "cell_type": "code",
      "outputs": [],
      "execution_count": null,
      "id": "uiqKWUNDSpZ9"
    },
    {
      "metadata": {
        "id": "aDt7Q_p3SpZ9"
      },
      "source": [
        "### Create"
      ],
      "cell_type": "markdown",
      "id": "aDt7Q_p3SpZ9"
    },
    {
      "metadata": {
        "id": "HYmnd5LLSpZ-"
      },
      "source": [
        "new_dataset = client.create_dataset(name=\"my_new_dataset\")\n",
        "print(new_dataset)"
      ],
      "cell_type": "code",
      "outputs": [],
      "execution_count": null,
      "id": "HYmnd5LLSpZ-"
    },
    {
      "metadata": {
        "id": "HrnMaj3OSpZ-"
      },
      "source": [
        "* Add data rows\n",
        "* See the [data rows](https://colab.research.google.com/github/Labelbox/labelbox-python/blob/master/examples/basics/data_rows.ipynb#scrollTo=successful-patch) notebook `Create` section for more about adding data rows."
      ],
      "cell_type": "markdown",
      "id": "HrnMaj3OSpZ-"
    },
    {
      "metadata": {
        "id": "jvgQ1j8ZSpZ-"
      },
      "source": [
        "new_dataset.create_data_row(row_data=\"https://picsum.photos/200/300\")"
      ],
      "cell_type": "code",
      "outputs": [],
      "execution_count": null,
      "id": "jvgQ1j8ZSpZ-"
    },
    {
      "metadata": {
        "id": "VJdMzmb4SpZ-"
      },
      "source": [
        "### Update"
      ],
      "cell_type": "markdown",
      "id": "VJdMzmb4SpZ-"
    },
    {
      "metadata": {
        "id": "NrzrH0JLSpZ-"
      },
      "source": [
        "new_dataset.update(name=\"new_name\")"
      ],
      "cell_type": "code",
      "outputs": [],
      "execution_count": null,
      "id": "NrzrH0JLSpZ-"
    },
    {
      "metadata": {
        "id": "CwRlEiRrSpZ_"
      },
      "source": [
        "### Delete"
      ],
      "cell_type": "markdown",
      "id": "CwRlEiRrSpZ_"
    },
    {
      "metadata": {
        "id": "IqY183_wSpZ_"
      },
      "source": [
        "new_dataset.delete()"
      ],
      "cell_type": "code",
      "outputs": [],
      "execution_count": null,
      "id": "IqY183_wSpZ_"
    }
  ]
}