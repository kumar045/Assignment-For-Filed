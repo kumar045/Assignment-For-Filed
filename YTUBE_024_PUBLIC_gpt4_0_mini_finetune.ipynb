{
  "nbformat": 4,
  "nbformat_minor": 0,
  "metadata": {
    "colab": {
      "provenance": [],
      "machine_shape": "hm",
      "include_colab_link": true
    },
    "kernelspec": {
      "name": "python3",
      "display_name": "Python 3"
    },
    "language_info": {
      "name": "python"
    }
  },
  "cells": [
    {
      "cell_type": "markdown",
      "metadata": {
        "id": "view-in-github",
        "colab_type": "text"
      },
      "source": [
        "<a href=\"https://colab.research.google.com/github/kumar045/Assignment-For-Filed/blob/main/YTUBE_024_PUBLIC_gpt4_0_mini_finetune.ipynb\" target=\"_parent\"><img src=\"https://colab.research.google.com/assets/colab-badge.svg\" alt=\"Open In Colab\"/></a>"
      ]
    },
    {
      "cell_type": "markdown",
      "source": [
        "GPT-4o mini FINE TUNING\n"
      ],
      "metadata": {
        "id": "DmYE_q3_Abi0"
      }
    },
    {
      "cell_type": "code",
      "execution_count": null,
      "metadata": {
        "colab": {
          "base_uri": "https://localhost:8080/"
        },
        "id": "N464rQRYn2k9",
        "outputId": "345bba05-4573-409a-b6f2-47c54b8d26f9"
      },
      "outputs": [
        {
          "output_type": "stream",
          "name": "stdout",
          "text": [
            "Mounted at /content/drive\n"
          ]
        }
      ],
      "source": [
        "import shutil, os, subprocess\n",
        "from google.colab import drive\n",
        "drive.mount('/content/drive')\n",
        "os.chdir('/content/drive/MyDrive/YouTube/')"
      ]
    },
    {
      "cell_type": "code",
      "source": [
        "! pip install --upgrade openai jsonlines"
      ],
      "metadata": {
        "colab": {
          "base_uri": "https://localhost:8080/"
        },
        "id": "XpkHBGQ4oNO-",
        "outputId": "0d222693-a156-4b4f-fbbe-30b7041f657c"
      },
      "execution_count": null,
      "outputs": [
        {
          "output_type": "stream",
          "name": "stdout",
          "text": [
            "Collecting openai\n",
            "  Downloading openai-1.37.1-py3-none-any.whl.metadata (22 kB)\n",
            "Collecting jsonlines\n",
            "  Downloading jsonlines-4.0.0-py3-none-any.whl.metadata (1.6 kB)\n",
            "Requirement already satisfied: anyio<5,>=3.5.0 in /usr/local/lib/python3.10/dist-packages (from openai) (3.7.1)\n",
            "Requirement already satisfied: distro<2,>=1.7.0 in /usr/lib/python3/dist-packages (from openai) (1.7.0)\n",
            "Collecting httpx<1,>=0.23.0 (from openai)\n",
            "  Downloading httpx-0.27.0-py3-none-any.whl.metadata (7.2 kB)\n",
            "Requirement already satisfied: pydantic<3,>=1.9.0 in /usr/local/lib/python3.10/dist-packages (from openai) (2.8.2)\n",
            "Requirement already satisfied: sniffio in /usr/local/lib/python3.10/dist-packages (from openai) (1.3.1)\n",
            "Requirement already satisfied: tqdm>4 in /usr/local/lib/python3.10/dist-packages (from openai) (4.66.4)\n",
            "Requirement already satisfied: typing-extensions<5,>=4.7 in /usr/local/lib/python3.10/dist-packages (from openai) (4.12.2)\n",
            "Requirement already satisfied: attrs>=19.2.0 in /usr/local/lib/python3.10/dist-packages (from jsonlines) (23.2.0)\n",
            "Requirement already satisfied: idna>=2.8 in /usr/local/lib/python3.10/dist-packages (from anyio<5,>=3.5.0->openai) (3.7)\n",
            "Requirement already satisfied: exceptiongroup in /usr/local/lib/python3.10/dist-packages (from anyio<5,>=3.5.0->openai) (1.2.2)\n",
            "Requirement already satisfied: certifi in /usr/local/lib/python3.10/dist-packages (from httpx<1,>=0.23.0->openai) (2024.7.4)\n",
            "Collecting httpcore==1.* (from httpx<1,>=0.23.0->openai)\n",
            "  Downloading httpcore-1.0.5-py3-none-any.whl.metadata (20 kB)\n",
            "Collecting h11<0.15,>=0.13 (from httpcore==1.*->httpx<1,>=0.23.0->openai)\n",
            "  Downloading h11-0.14.0-py3-none-any.whl.metadata (8.2 kB)\n",
            "Requirement already satisfied: annotated-types>=0.4.0 in /usr/local/lib/python3.10/dist-packages (from pydantic<3,>=1.9.0->openai) (0.7.0)\n",
            "Requirement already satisfied: pydantic-core==2.20.1 in /usr/local/lib/python3.10/dist-packages (from pydantic<3,>=1.9.0->openai) (2.20.1)\n",
            "Downloading openai-1.37.1-py3-none-any.whl (337 kB)\n",
            "\u001b[2K   \u001b[90m━━━━━━━━━━━━━━━━━━━━━━━━━━━━━━━━━━━━━━━━\u001b[0m \u001b[32m337.0/337.0 kB\u001b[0m \u001b[31m3.4 MB/s\u001b[0m eta \u001b[36m0:00:00\u001b[0m\n",
            "\u001b[?25hDownloading jsonlines-4.0.0-py3-none-any.whl (8.7 kB)\n",
            "Downloading httpx-0.27.0-py3-none-any.whl (75 kB)\n",
            "\u001b[2K   \u001b[90m━━━━━━━━━━━━━━━━━━━━━━━━━━━━━━━━━━━━━━━━\u001b[0m \u001b[32m75.6/75.6 kB\u001b[0m \u001b[31m4.7 MB/s\u001b[0m eta \u001b[36m0:00:00\u001b[0m\n",
            "\u001b[?25hDownloading httpcore-1.0.5-py3-none-any.whl (77 kB)\n",
            "\u001b[2K   \u001b[90m━━━━━━━━━━━━━━━━━━━━━━━━━━━━━━━━━━━━━━━━\u001b[0m \u001b[32m77.9/77.9 kB\u001b[0m \u001b[31m4.0 MB/s\u001b[0m eta \u001b[36m0:00:00\u001b[0m\n",
            "\u001b[?25hDownloading h11-0.14.0-py3-none-any.whl (58 kB)\n",
            "\u001b[2K   \u001b[90m━━━━━━━━━━━━━━━━━━━━━━━━━━━━━━━━━━━━━━━━\u001b[0m \u001b[32m58.3/58.3 kB\u001b[0m \u001b[31m2.8 MB/s\u001b[0m eta \u001b[36m0:00:00\u001b[0m\n",
            "\u001b[?25hInstalling collected packages: jsonlines, h11, httpcore, httpx, openai\n",
            "Successfully installed h11-0.14.0 httpcore-1.0.5 httpx-0.27.0 jsonlines-4.0.0 openai-1.37.1\n"
          ]
        }
      ]
    },
    {
      "cell_type": "code",
      "source": [
        "import json\n",
        "with open('myconfig.json') as data_file:\n",
        "  myconfig = json.load(data_file)\n",
        "print(myconfig.keys())"
      ],
      "metadata": {
        "colab": {
          "base_uri": "https://localhost:8080/"
        },
        "id": "bCHqMLriE17Z",
        "outputId": "f0b4a592-57fa-4bc8-81b3-c072ac3690cc"
      },
      "execution_count": null,
      "outputs": [
        {
          "output_type": "stream",
          "name": "stdout",
          "text": [
            "dict_keys(['OPEN_API_KEY', 'OPENAI_API_KEY', 'DB_HOST', 'DB_PORT', 'DB_USER', 'DB_PASSWORD', 'HF_TOKEN', 'CLIPDROP_KEY', 'MJ_APIKEY_PUBLIC', 'MJ_APIKEY_PRIVATE', 'MYEMAIL'])\n"
          ]
        }
      ]
    },
    {
      "cell_type": "markdown",
      "source": [
        "NOW START"
      ],
      "metadata": {
        "id": "rvOMd3AwBwaH"
      }
    },
    {
      "cell_type": "code",
      "source": [
        "import os\n",
        "import time\n",
        "from pprint import pprint\n",
        "OPENAI_API_TOKEN = \"sk-YOUR_KEY\"\n",
        "# OpenAI API Key\n",
        "api_key =  os.environ[\"OPENAI_API_KEY\"] = myconfig['OPENAI_API_KEY']"
      ],
      "metadata": {
        "id": "tG17gpFC6NHJ"
      },
      "execution_count": null,
      "outputs": []
    },
    {
      "cell_type": "code",
      "source": [
        "from openai import OpenAI\n",
        "import jsonlines\n",
        "client = OpenAI()"
      ],
      "metadata": {
        "id": "N5mxwawwHL9F"
      },
      "execution_count": null,
      "outputs": []
    },
    {
      "cell_type": "code",
      "source": [
        "%%time\n",
        "items =[\n",
        "{\"messages\": [{\"role\": \"system\", \"content\": \"Given a merger acquistion news headline, provide the following fields in a JSON dict, where applicable: \\\"acquirer\\\"  and \\\"deal_size\\\".\"}, {\"role\": \"user\", \"content\": \"Listed media and gaming firm Nazara Technologies said on Friday that it acquired the remaining 48.42% stake it did not hold in Paper Boat Apps for Rs 300 crore, making it a wholly owned subsidiary.\"}, {\"role\": \"assistant\", \"content\": \"{\\\"acquirer\\\": \\\" Nazara Technologies\\\", \\\"deal_size\\\": \\\"Rs 300 crore\\\" }\"}]},\n",
        "{\"messages\": [{\"role\": \"system\", \"content\": \"Given a merger acquistion news headline, provide the following fields in a JSON dict, where applicable: \\\"acquirer\\\"  and \\\"deal_size\\\".\"}, {\"role\": \"user\", \"content\": \"Venturi Partners (Venturi), a prominent growth equity firm specialising in consumer investments across India and Southeast Asia, announced the purchase of a $27 million stake in K12 Techno Services\"}, {\"role\": \"assistant\", \"content\": \"{\\\"acquirer\\\": Venturi Partners (Venturi)\\\", \\\"deal_size\\\": \\\"$27 million\\\" }\"}]},\n",
        "{\"messages\": [{\"role\": \"system\", \"content\": \"Given a merger acquisition news headline, provide the following fields in a JSON dict, where applicable: \\\"acquirer\\\"  and \\\"deal_size\\\".\"}, {\"role\": \"user\", \"content\": \"TechGiant Inc. announced the acquisition of a $15 billion stake in Innovatech Solutions.\"}, {\"role\": \"assistant\", \"content\": \"{\\\"acquirer\\\": \\\"TechGiant Inc.\\\", \\\"deal_size\\\": \\\"$15 billion\\\" }\"}]},\n",
        "{\"messages\": [{\"role\": \"system\", \"content\": \"Given a merger acquisition news headline, provide the following fields in a JSON dict, where applicable: \\\"acquirer\\\"  and \\\"deal_size\\\".\"}, {\"role\": \"user\", \"content\": \"Future Ventures has completed its $3.5 million purchase of GreenTech Innovations.\"}, {\"role\": \"assistant\", \"content\": \"{\\\"acquirer\\\": \\\"Future Ventures\\\", \\\"deal_size\\\": \\\"$3.5 million\\\" }\"}]},\n",
        "{\"messages\": [{\"role\": \"system\", \"content\": \"Given a merger acquisition news headline, provide the following fields in a JSON dict, where applicable: \\\"acquirer\\\"  and \\\"deal_size\\\".\"}, {\"role\": \"user\", \"content\": \"Leading Edge Capital has taken over Sunrise Enterprises in a deal valued at $250 million.\"}, {\"role\": \"assistant\", \"content\": \"{\\\"acquirer\\\": \\\"Leading Edge Capital\\\", \\\"deal_size\\\": \\\"$250 million\\\" }\"}]},\n",
        "{\"messages\": [{\"role\": \"system\", \"content\": \"Given a merger acquistion news headline, provide the following fields in a JSON dict, where applicable: \\\"acquirer\\\"  and \\\"deal_size\\\".\"}, {\"role\": \"user\", \"content\": \"Listed media and gaming firm Nazara Technologies said on Friday that it acquired the remaining 48.42% stake it did not hold in Paper Boat Apps for Rs 300 crore, making it a wholly owned subsidiary.\"}, {\"role\": \"assistant\", \"content\": \"{\\\"acquirer\\\": \\\" Nazara Technologies\\\", \\\"deal_size\\\": \\\"Rs 300 crore\\\" }\"}]},\n",
        "{\"messages\": [{\"role\": \"system\", \"content\": \"Given a merger acquistion news headline, provide the following fields in a JSON dict, where applicable: \\\"acquirer\\\"  and \\\"deal_size\\\".\"}, {\"role\": \"user\", \"content\": \"Venturi Partners (Venturi), a prominent growth equity firm specialising in consumer investments across India and Southeast Asia, announced the purchase of a $27 million stake in K12 Techno Services\"}, {\"role\": \"assistant\", \"content\": \"{\\\"acquirer\\\": Venturi Partners (Venturi)\\\", \\\"deal_size\\\": \\\"$27 million\\\" }\"}]},\n",
        "{\"messages\": [{\"role\": \"system\", \"content\": \"Given a merger acquisition news headline, provide the following fields in a JSON dict, where applicable: \\\"acquirer\\\"  and \\\"deal_size\\\".\"}, {\"role\": \"user\", \"content\": \"TechGiant Inc. announced the acquisition of a $15 billion stake in Innovatech Solutions.\"}, {\"role\": \"assistant\", \"content\": \"{\\\"acquirer\\\": \\\"TechGiant Inc.\\\", \\\"deal_size\\\": \\\"$15 billion\\\" }\"}]},\n",
        "{\"messages\": [{\"role\": \"system\", \"content\": \"Given a merger acquisition news headline, provide the following fields in a JSON dict, where applicable: \\\"acquirer\\\"  and \\\"deal_size\\\".\"}, {\"role\": \"user\", \"content\": \"Future Ventures has completed its $3.5 million purchase of GreenTech Innovations.\"}, {\"role\": \"assistant\", \"content\": \"{\\\"acquirer\\\": \\\"Future Ventures\\\", \\\"deal_size\\\": \\\"$3.5 million\\\" }\"}]},\n",
        "{\"messages\": [{\"role\": \"system\", \"content\": \"Given a merger acquisition news headline, provide the following fields in a JSON dict, where applicable: \\\"acquirer\\\"  and \\\"deal_size\\\".\"}, {\"role\": \"user\", \"content\": \"Leading Edge Capital has taken over Sunrise Enterprises in a deal valued at $250 million.\"}, {\"role\": \"assistant\", \"content\": \"{\\\"acquirer\\\": \\\"Leading Edge Capital\\\", \\\"deal_size\\\": \\\"$250 million\\\" }\"}]},\n",
        "\n",
        "]\n",
        "\n",
        "with jsonlines.open('mna.jsonl', 'w') as writer:\n",
        "    writer.write_all(items)"
      ],
      "metadata": {
        "colab": {
          "base_uri": "https://localhost:8080/"
        },
        "id": "prSU1CvWFiBI",
        "outputId": "e4fb4897-8724-4e9a-a184-db2cd451ba25"
      },
      "execution_count": null,
      "outputs": [
        {
          "output_type": "stream",
          "name": "stdout",
          "text": [
            "CPU times: user 1.79 ms, sys: 288 µs, total: 2.08 ms\n",
            "Wall time: 13.5 ms\n"
          ]
        }
      ]
    },
    {
      "cell_type": "code",
      "source": [
        "with jsonlines.open(\"mna.jsonl\") as file:\n",
        "    data = list(file.iter())\n",
        "\n",
        "pprint(data)"
      ],
      "metadata": {
        "colab": {
          "base_uri": "https://localhost:8080/"
        },
        "id": "sLVr0JFxRdee",
        "outputId": "f5e34212-6d91-45ad-b3a6-f12bed08ae2d"
      },
      "execution_count": null,
      "outputs": [
        {
          "output_type": "stream",
          "name": "stdout",
          "text": [
            "[{'messages': [{'content': 'Given a merger acquistion news headline, provide '\n",
            "                           'the following fields in a JSON dict, where '\n",
            "                           'applicable: \"acquirer\"  and \"deal_size\".',\n",
            "                'role': 'system'},\n",
            "               {'content': 'Listed media and gaming firm Nazara Technologies '\n",
            "                           'said on Friday that it acquired the remaining '\n",
            "                           '48.42% stake it did not hold in Paper Boat Apps '\n",
            "                           'for Rs 300 crore, making it a wholly owned '\n",
            "                           'subsidiary.',\n",
            "                'role': 'user'},\n",
            "               {'content': '{\"acquirer\": \" Nazara Technologies\", \"deal_size\": '\n",
            "                           '\"Rs 300 crore\" }',\n",
            "                'role': 'assistant'}]},\n",
            " {'messages': [{'content': 'Given a merger acquistion news headline, provide '\n",
            "                           'the following fields in a JSON dict, where '\n",
            "                           'applicable: \"acquirer\"  and \"deal_size\".',\n",
            "                'role': 'system'},\n",
            "               {'content': 'Venturi Partners (Venturi), a prominent growth '\n",
            "                           'equity firm specialising in consumer investments '\n",
            "                           'across India and Southeast Asia, announced the '\n",
            "                           'purchase of a $27 million stake in K12 Techno '\n",
            "                           'Services',\n",
            "                'role': 'user'},\n",
            "               {'content': '{\"acquirer\": Venturi Partners (Venturi)\", '\n",
            "                           '\"deal_size\": \"$27 million\" }',\n",
            "                'role': 'assistant'}]},\n",
            " {'messages': [{'content': 'Given a merger acquisition news headline, provide '\n",
            "                           'the following fields in a JSON dict, where '\n",
            "                           'applicable: \"acquirer\"  and \"deal_size\".',\n",
            "                'role': 'system'},\n",
            "               {'content': 'TechGiant Inc. announced the acquisition of a $15 '\n",
            "                           'billion stake in Innovatech Solutions.',\n",
            "                'role': 'user'},\n",
            "               {'content': '{\"acquirer\": \"TechGiant Inc.\", \"deal_size\": \"$15 '\n",
            "                           'billion\" }',\n",
            "                'role': 'assistant'}]},\n",
            " {'messages': [{'content': 'Given a merger acquisition news headline, provide '\n",
            "                           'the following fields in a JSON dict, where '\n",
            "                           'applicable: \"acquirer\"  and \"deal_size\".',\n",
            "                'role': 'system'},\n",
            "               {'content': 'Future Ventures has completed its $3.5 million '\n",
            "                           'purchase of GreenTech Innovations.',\n",
            "                'role': 'user'},\n",
            "               {'content': '{\"acquirer\": \"Future Ventures\", \"deal_size\": \"$3.5 '\n",
            "                           'million\" }',\n",
            "                'role': 'assistant'}]},\n",
            " {'messages': [{'content': 'Given a merger acquisition news headline, provide '\n",
            "                           'the following fields in a JSON dict, where '\n",
            "                           'applicable: \"acquirer\"  and \"deal_size\".',\n",
            "                'role': 'system'},\n",
            "               {'content': 'Leading Edge Capital has taken over Sunrise '\n",
            "                           'Enterprises in a deal valued at $250 million.',\n",
            "                'role': 'user'},\n",
            "               {'content': '{\"acquirer\": \"Leading Edge Capital\", \"deal_size\": '\n",
            "                           '\"$250 million\" }',\n",
            "                'role': 'assistant'}]},\n",
            " {'messages': [{'content': 'Given a merger acquistion news headline, provide '\n",
            "                           'the following fields in a JSON dict, where '\n",
            "                           'applicable: \"acquirer\"  and \"deal_size\".',\n",
            "                'role': 'system'},\n",
            "               {'content': 'Listed media and gaming firm Nazara Technologies '\n",
            "                           'said on Friday that it acquired the remaining '\n",
            "                           '48.42% stake it did not hold in Paper Boat Apps '\n",
            "                           'for Rs 300 crore, making it a wholly owned '\n",
            "                           'subsidiary.',\n",
            "                'role': 'user'},\n",
            "               {'content': '{\"acquirer\": \" Nazara Technologies\", \"deal_size\": '\n",
            "                           '\"Rs 300 crore\" }',\n",
            "                'role': 'assistant'}]},\n",
            " {'messages': [{'content': 'Given a merger acquistion news headline, provide '\n",
            "                           'the following fields in a JSON dict, where '\n",
            "                           'applicable: \"acquirer\"  and \"deal_size\".',\n",
            "                'role': 'system'},\n",
            "               {'content': 'Venturi Partners (Venturi), a prominent growth '\n",
            "                           'equity firm specialising in consumer investments '\n",
            "                           'across India and Southeast Asia, announced the '\n",
            "                           'purchase of a $27 million stake in K12 Techno '\n",
            "                           'Services',\n",
            "                'role': 'user'},\n",
            "               {'content': '{\"acquirer\": Venturi Partners (Venturi)\", '\n",
            "                           '\"deal_size\": \"$27 million\" }',\n",
            "                'role': 'assistant'}]},\n",
            " {'messages': [{'content': 'Given a merger acquisition news headline, provide '\n",
            "                           'the following fields in a JSON dict, where '\n",
            "                           'applicable: \"acquirer\"  and \"deal_size\".',\n",
            "                'role': 'system'},\n",
            "               {'content': 'TechGiant Inc. announced the acquisition of a $15 '\n",
            "                           'billion stake in Innovatech Solutions.',\n",
            "                'role': 'user'},\n",
            "               {'content': '{\"acquirer\": \"TechGiant Inc.\", \"deal_size\": \"$15 '\n",
            "                           'billion\" }',\n",
            "                'role': 'assistant'}]},\n",
            " {'messages': [{'content': 'Given a merger acquisition news headline, provide '\n",
            "                           'the following fields in a JSON dict, where '\n",
            "                           'applicable: \"acquirer\"  and \"deal_size\".',\n",
            "                'role': 'system'},\n",
            "               {'content': 'Future Ventures has completed its $3.5 million '\n",
            "                           'purchase of GreenTech Innovations.',\n",
            "                'role': 'user'},\n",
            "               {'content': '{\"acquirer\": \"Future Ventures\", \"deal_size\": \"$3.5 '\n",
            "                           'million\" }',\n",
            "                'role': 'assistant'}]},\n",
            " {'messages': [{'content': 'Given a merger acquisition news headline, provide '\n",
            "                           'the following fields in a JSON dict, where '\n",
            "                           'applicable: \"acquirer\"  and \"deal_size\".',\n",
            "                'role': 'system'},\n",
            "               {'content': 'Leading Edge Capital has taken over Sunrise '\n",
            "                           'Enterprises in a deal valued at $250 million.',\n",
            "                'role': 'user'},\n",
            "               {'content': '{\"acquirer\": \"Leading Edge Capital\", \"deal_size\": '\n",
            "                           '\"$250 million\" }',\n",
            "                'role': 'assistant'}]}]\n"
          ]
        }
      ]
    },
    {
      "cell_type": "markdown",
      "source": [
        "Upload Training File"
      ],
      "metadata": {
        "id": "COAU-DoYHmUh"
      }
    },
    {
      "cell_type": "code",
      "source": [
        "result_file = client.files.create(\n",
        "  file=open(\"mna.jsonl\", \"rb\"),\n",
        "  purpose=\"fine-tune\"\n",
        ")\n",
        "\n",
        "pprint(result_file)"
      ],
      "metadata": {
        "colab": {
          "base_uri": "https://localhost:8080/"
        },
        "id": "WUaPX69WRrvD",
        "outputId": "12d4ddb8-5a7a-496c-db1a-2cedbde1d660"
      },
      "execution_count": null,
      "outputs": [
        {
          "output_type": "stream",
          "name": "stdout",
          "text": [
            "FileObject(id='file-74qG7JmgsFOun7h3zJ8eOcfK', bytes=4602, created_at=1722086222, filename='mna.jsonl', object='file', purpose='fine-tune', status='processed', status_details=None)\n"
          ]
        }
      ]
    },
    {
      "cell_type": "code",
      "source": [
        "param_training_file_name = result_file.id\n",
        "pprint(param_training_file_name)"
      ],
      "metadata": {
        "colab": {
          "base_uri": "https://localhost:8080/"
        },
        "id": "EnASFvjRS2x8",
        "outputId": "31e6a3bf-91d8-46a9-c4e4-2f6563795fc1"
      },
      "execution_count": null,
      "outputs": [
        {
          "output_type": "stream",
          "name": "stdout",
          "text": [
            "'file-74qG7JmgsFOun7h3zJ8eOcfK'\n"
          ]
        }
      ]
    },
    {
      "cell_type": "markdown",
      "source": [
        "Create Fine Tuned Model"
      ],
      "metadata": {
        "id": "uRptJbFiJ1Nw"
      }
    },
    {
      "cell_type": "code",
      "source": [
        "result_job = client.fine_tuning.jobs.create(\n",
        "  training_file=param_training_file_name,\n",
        "  model=\"gpt-4o-mini-2024-07-18\"\n",
        ")\n",
        "\n",
        "pprint(result_job)"
      ],
      "metadata": {
        "colab": {
          "base_uri": "https://localhost:8080/"
        },
        "id": "3QVfMmAqSyGd",
        "outputId": "53f13ac9-9a42-4004-af73-cb4a73c2c126"
      },
      "execution_count": null,
      "outputs": [
        {
          "output_type": "stream",
          "name": "stdout",
          "text": [
            "FineTuningJob(id='ftjob-Uk9MJd1cmfogPfqnBj26c23M', created_at=1722086233, error=Error(code=None, message=None, param=None), fine_tuned_model=None, finished_at=None, hyperparameters=Hyperparameters(n_epochs='auto', batch_size='auto', learning_rate_multiplier='auto'), model='gpt-4o-mini-2024-07-18', object='fine_tuning.job', organization_id='org-yOypHVv8ewdpvZtuTGEj0cxo', result_files=[], seed=1715876661, status='validating_files', trained_tokens=None, training_file='file-74qG7JmgsFOun7h3zJ8eOcfK', validation_file=None, estimated_finish=None, integrations=[], user_provided_suffix=None)\n"
          ]
        }
      ]
    },
    {
      "cell_type": "code",
      "source": [
        "param_file_tune_job_id = result_job.id\n",
        "pprint(param_file_tune_job_id)"
      ],
      "metadata": {
        "colab": {
          "base_uri": "https://localhost:8080/"
        },
        "id": "eOT_bRF0Thf0",
        "outputId": "4b705c80-d0df-4bf5-e9e1-b1140434fc18"
      },
      "execution_count": null,
      "outputs": [
        {
          "output_type": "stream",
          "name": "stdout",
          "text": [
            "'ftjob-Uk9MJd1cmfogPfqnBj26c23M'\n"
          ]
        }
      ]
    },
    {
      "cell_type": "markdown",
      "source": [
        "Retrieve the state of a fine-tune"
      ],
      "metadata": {
        "id": "bVDddjp_Td9e"
      }
    },
    {
      "cell_type": "code",
      "source": [
        "# Retrieve the state of a fine-tune\n",
        "client.fine_tuning.jobs.retrieve(param_file_tune_job_id)"
      ],
      "metadata": {
        "colab": {
          "base_uri": "https://localhost:8080/"
        },
        "id": "ivkIrTnVTdSZ",
        "outputId": "f77f05a6-1798-4148-cae3-3f95b272e172"
      },
      "execution_count": null,
      "outputs": [
        {
          "output_type": "execute_result",
          "data": {
            "text/plain": [
              "FineTuningJob(id='ftjob-Uk9MJd1cmfogPfqnBj26c23M', created_at=1722086233, error=Error(code=None, message=None, param=None), fine_tuned_model=None, finished_at=None, hyperparameters=Hyperparameters(n_epochs='auto', batch_size='auto', learning_rate_multiplier='auto'), model='gpt-4o-mini-2024-07-18', object='fine_tuning.job', organization_id='org-yOypHVv8ewdpvZtuTGEj0cxo', result_files=[], seed=1715876661, status='validating_files', trained_tokens=None, training_file='file-74qG7JmgsFOun7h3zJ8eOcfK', validation_file=None, estimated_finish=None, integrations=[], user_provided_suffix=None)"
            ]
          },
          "metadata": {},
          "execution_count": 23
        }
      ]
    },
    {
      "cell_type": "code",
      "source": [
        "# Retrieve the state of a fine-tune\n",
        "client.fine_tuning.jobs.retrieve(param_file_tune_job_id).status"
      ],
      "metadata": {
        "colab": {
          "base_uri": "https://localhost:8080/",
          "height": 35
        },
        "id": "1GuK93ldWIkk",
        "outputId": "b1436cb5-27bc-4bcc-fb56-45c68dd31739"
      },
      "execution_count": null,
      "outputs": [
        {
          "output_type": "execute_result",
          "data": {
            "text/plain": [
              "'running'"
            ],
            "application/vnd.google.colaboratory.intrinsic+json": {
              "type": "string"
            }
          },
          "metadata": {},
          "execution_count": 27
        }
      ]
    },
    {
      "cell_type": "code",
      "source": [
        "# Retrieve the state of a fine-tune\n",
        "from time import sleep\n",
        "while client.fine_tuning.jobs.retrieve(param_file_tune_job_id).status != 'succeeded':\n",
        "  sleep(10)\n"
      ],
      "metadata": {
        "id": "ZWrbTKkkWJEH"
      },
      "execution_count": null,
      "outputs": []
    },
    {
      "cell_type": "code",
      "source": [
        "# Retrieve the state of a fine-tune\n",
        "client.fine_tuning.jobs.retrieve(param_file_tune_job_id).status"
      ],
      "metadata": {
        "colab": {
          "base_uri": "https://localhost:8080/",
          "height": 35
        },
        "id": "F9ziD3GwYDc9",
        "outputId": "4f972a09-4860-446e-ef80-41f1d52b12a6"
      },
      "execution_count": null,
      "outputs": [
        {
          "output_type": "execute_result",
          "data": {
            "text/plain": [
              "'succeeded'"
            ],
            "application/vnd.google.colaboratory.intrinsic+json": {
              "type": "string"
            }
          },
          "metadata": {},
          "execution_count": 29
        }
      ]
    },
    {
      "cell_type": "code",
      "source": [
        "param_file_tune_model = client.fine_tuning.jobs.retrieve(param_file_tune_job_id).fine_tuned_model\n",
        "pprint(param_file_tune_model)"
      ],
      "metadata": {
        "colab": {
          "base_uri": "https://localhost:8080/"
        },
        "id": "b0wUHuYuZkmy",
        "outputId": "d859fb23-0069-44e6-d4c9-08c99f9d8c3b"
      },
      "execution_count": null,
      "outputs": [
        {
          "output_type": "stream",
          "name": "stdout",
          "text": [
            "'ft:gpt-4o-mini-2024-07-18:personal::9pbg4t2M'\n"
          ]
        }
      ]
    },
    {
      "cell_type": "markdown",
      "source": [
        "RESULTS"
      ],
      "metadata": {
        "id": "66i-xEoBZ46Y"
      }
    },
    {
      "cell_type": "code",
      "source": [
        "completion = client.chat.completions.create(\n",
        "  model=param_file_tune_model,\n",
        "  messages=[\n",
        "    {\"role\": \"system\", \"content\": \"\"\"Given a merger acquisition news headline, provide the following fields in a JSON dict, where 'applicable: \"acquirer\" and \"deal_size\".\"\"\"},\n",
        "    {\"role\": \"user\", \"content\": \"TechGiant Inc. announced the acquisition of a $15 billion stake in Innovatech Solutions!\"}\n",
        "  ]\n",
        ")\n",
        "pprint(json.loads(completion.choices[0].message.content))"
      ],
      "metadata": {
        "colab": {
          "base_uri": "https://localhost:8080/"
        },
        "id": "wi3LpN5EZ6na",
        "outputId": "f80ca6f6-1f42-470c-b09a-fe32eaaabde9"
      },
      "execution_count": null,
      "outputs": [
        {
          "output_type": "stream",
          "name": "stdout",
          "text": [
            "{'acquirer': 'TechGiant Inc.', 'deal_size': '$15 billion'}\n"
          ]
        }
      ]
    },
    {
      "cell_type": "code",
      "source": [
        "completion = client.chat.completions.create(\n",
        "  model=param_file_tune_model,\n",
        "  messages=[\n",
        "    {\"role\": \"system\", \"content\": \"\"\"Given a merger acquisition news headline, provide the following fields in a JSON dict, where 'applicable: \"acquirer\" and \"deal_size\".\"\"\"},\n",
        "    {\"role\": \"user\", \"content\": \"Leading Edge Capital has taken over Sunrise Enterprises in a deal valued at $250 million.\"}\n",
        "  ]\n",
        ")\n",
        "pprint(json.loads(completion.choices[0].message.content))"
      ],
      "metadata": {
        "colab": {
          "base_uri": "https://localhost:8080/"
        },
        "id": "2ViVjrogZ6yl",
        "outputId": "10392b76-eeed-4be7-bce6-60466d9af1e9"
      },
      "execution_count": null,
      "outputs": [
        {
          "output_type": "stream",
          "name": "stdout",
          "text": [
            "{'acquirer': 'Leading Edge Capital', 'deal_size': '$250 million'}\n"
          ]
        }
      ]
    },
    {
      "cell_type": "code",
      "source": [
        "# Delete a fine-tuned model (must be an owner of the org the model was created in)\n",
        "result_delete = client.models.delete(param_file_tune_model)\n",
        "pprint(result_delete)"
      ],
      "metadata": {
        "colab": {
          "base_uri": "https://localhost:8080/"
        },
        "id": "x_OUYZ1na4b1",
        "outputId": "dbb4b799-1c10-4f69-a1a3-a8643c22ebf4"
      },
      "execution_count": null,
      "outputs": [
        {
          "output_type": "stream",
          "name": "stdout",
          "text": [
            "ModelDeleted(id='ft:gpt-4o-mini-2024-07-18:personal::9pbg4t2M', deleted=True, object='model')\n"
          ]
        }
      ]
    }
  ]
}