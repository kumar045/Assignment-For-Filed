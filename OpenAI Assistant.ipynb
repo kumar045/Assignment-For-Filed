{
  "nbformat": 4,
  "nbformat_minor": 0,
  "metadata": {
    "colab": {
      "provenance": [],
      "authorship_tag": "ABX9TyOnn91e/WAd2caQ12DuctE9",
      "include_colab_link": true
    },
    "kernelspec": {
      "name": "python3",
      "display_name": "Python 3"
    },
    "language_info": {
      "name": "python"
    }
  },
  "cells": [
    {
      "cell_type": "markdown",
      "metadata": {
        "id": "view-in-github",
        "colab_type": "text"
      },
      "source": [
        "<a href=\"https://colab.research.google.com/github/kumar045/Assignment-For-Filed/blob/main/OpenAI%20Assistant.ipynb\" target=\"_parent\"><img src=\"https://colab.research.google.com/assets/colab-badge.svg\" alt=\"Open In Colab\"/></a>"
      ]
    },
    {
      "cell_type": "code",
      "execution_count": 1,
      "metadata": {
        "colab": {
          "base_uri": "https://localhost:8080/",
          "height": 176
        },
        "id": "C78nrJMxC4Zc",
        "outputId": "91777733-9c8a-4028-ad0b-2c9cb5dc39e6"
      },
      "outputs": [
        {
          "output_type": "error",
          "ename": "SyntaxError",
          "evalue": "ignored",
          "traceback": [
            "\u001b[0;36m  File \u001b[0;32m\"<ipython-input-1-65e14e851bb2>\"\u001b[0;36m, line \u001b[0;32m1\u001b[0m\n\u001b[0;31m    // import the required dependencies\u001b[0m\n\u001b[0m    ^\u001b[0m\n\u001b[0;31mSyntaxError\u001b[0m\u001b[0;31m:\u001b[0m invalid syntax\n"
          ]
        }
      ],
      "source": [
        "\n",
        "// import the required dependencies\n",
        "require(\"dotenv\").config();\n",
        "const OpenAI = require(\"openai\");\n",
        "const readline = require(\"readline\").createInterface({\n",
        "  input: process.stdin,\n",
        "  output: process.stdout,\n",
        "});\n",
        "\n",
        "// Create a OpenAI connection\n",
        "const secretKey = process.env.OPENAI_API_KEY;\n",
        "const openai = new OpenAI({\n",
        "  apiKey: secretKey,\n",
        "});\n",
        "\n",
        "async function askQuestion(question) {\n",
        "  return new Promise((resolve, reject) => {\n",
        "    readline.question(question, (answer) => {\n",
        "      resolve(answer);\n",
        "    });\n",
        "  });\n",
        "}\n",
        "\n",
        "async function main() {\n",
        "  try {\n",
        "    const assistant = await openai.beta.assistants.create({\n",
        "      name: \"Math Tutor\",\n",
        "      instructions:\n",
        "        \"You are a personal math tutor. Write and run code to answer math questions.\",\n",
        "      tools: [{ type: \"code_interpreter\" }],\n",
        "      model: \"gpt-4-1106-preview\",\n",
        "    });\n",
        "\n",
        "    // Log the first greeting\n",
        "    console.log(\n",
        "      \"\\nHello there, I'm your personal math tutor. Ask some complicated questions.\\n\"\n",
        "    );\n",
        "\n",
        "    // Create a thread\n",
        "    const thread = await openai.beta.threads.create();\n",
        "\n",
        "    // Use keepAsking as state for keep asking questions\n",
        "    let keepAsking = true;\n",
        "    while (keepAsking) {\n",
        "      const userQuestion = await askQuestion(\"\\nWhat is your question? \");\n",
        "\n",
        "      // Pass in the user question into the existing thread\n",
        "      await openai.beta.threads.messages.create(thread.id, {\n",
        "        role: \"user\",\n",
        "        content: userQuestion,\n",
        "      });\n",
        "\n",
        "      // Use runs to wait for the assistant response and then retrieve it\n",
        "      const run = await openai.beta.threads.runs.create(thread.id, {\n",
        "        assistant_id: assistant.id,\n",
        "      });\n",
        "\n",
        "      let runStatus = await openai.beta.threads.runs.retrieve(\n",
        "        thread.id,\n",
        "        run.id\n",
        "      );\n",
        "\n",
        "      // Polling mechanism to see if runStatus is completed\n",
        "      // This should be made more robust.\n",
        "      while (runStatus.status !== \"completed\") {\n",
        "        await new Promise((resolve) => setTimeout(resolve, 2000));\n",
        "        runStatus = await openai.beta.threads.runs.retrieve(thread.id, run.id);\n",
        "      }\n",
        "\n",
        "      // Get the last assistant message from the messages array\n",
        "      const messages = await openai.beta.threads.messages.list(thread.id);\n",
        "\n",
        "      // Find the last message for the current run\n",
        "      const lastMessageForRun = messages.data\n",
        "        .filter(\n",
        "          (message) => message.run_id === run.id && message.role === \"assistant\"\n",
        "        )\n",
        "        .pop();\n",
        "\n",
        "      // If an assistant message is found, console.log() it\n",
        "      if (lastMessageForRun) {\n",
        "        console.log(`${lastMessageForRun.content[0].text.value} \\n`);\n",
        "      }\n",
        "\n",
        "      // Then ask if the user wants to ask another question and update keepAsking state\n",
        "      const continueAsking = await askQuestion(\n",
        "        \"Do you want to ask another question? (yes/no) \"\n",
        "      );\n",
        "      keepAsking = continueAsking.toLowerCase() === \"yes\";\n",
        "\n",
        "      // If the keepAsking state is falsy show an ending message\n",
        "      if (!keepAsking) {\n",
        "        console.log(\"Alrighty then, I hope you learned something!\\n\");\n",
        "      }\n",
        "    }\n",
        "\n",
        "    // close the readline\n",
        "    readline.close();\n",
        "  } catch (error) {\n",
        "    console.error(error);\n",
        "  }\n",
        "}\n",
        "\n",
        "// Call the main function\n",
        "main();"
      ]
    }
  ]
}