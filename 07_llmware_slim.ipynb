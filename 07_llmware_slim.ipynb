{
  "cells": [
    {
      "cell_type": "markdown",
      "metadata": {
        "id": "view-in-github",
        "colab_type": "text"
      },
      "source": [
        "<a href=\"https://colab.research.google.com/github/kumar045/Assignment-For-Filed/blob/main/07_llmware_slim.ipynb\" target=\"_parent\"><img src=\"https://colab.research.google.com/assets/colab-badge.svg\" alt=\"Open In Colab\"/></a>"
      ]
    },
    {
      "cell_type": "code",
      "execution_count": null,
      "id": "56e6788c-e880-4300-8801-5418d155b2a2",
      "metadata": {
        "tags": [],
        "id": "56e6788c-e880-4300-8801-5418d155b2a2"
      },
      "outputs": [],
      "source": [
        "# from huggingface_hub import snapshot_download\n",
        "# snapshot_download(\"llmware/slim-ner-tool\", local_dir=\"slim_tools\", local_dir_use_symlinks=False)\n",
        "# snapshot_download(\"llmware/slim-topics-tool\", local_dir=\"slim_tools\", local_dir_use_symlinks=False)\n",
        "# snapshot_download(\"llmware/slim-sentiment-tool\", local_dir=\"slim_tools\", local_dir_use_symlinks=False)"
      ]
    },
    {
      "cell_type": "code",
      "execution_count": null,
      "id": "d5a0290f-1a81-4e2a-9d85-388d60d982d3",
      "metadata": {
        "tags": [],
        "id": "d5a0290f-1a81-4e2a-9d85-388d60d982d3"
      },
      "outputs": [],
      "source": [
        "# !pip install llmware\n",
        "\n",
        "from llmware.models import ModelCatalog\n",
        "\n",
        "# to load the model and make a basic inference\n",
        "model = ModelCatalog().load_model(\"slim-sentiment-tool\")\n",
        "\n",
        "# model = ModelCatalog().load_model(\"slim-topics-tool\")\n",
        "\n"
      ]
    },
    {
      "cell_type": "markdown",
      "id": "7a50a6f7-f982-412f-bdc4-683d78800736",
      "metadata": {
        "tags": [],
        "id": "7a50a6f7-f982-412f-bdc4-683d78800736"
      },
      "source": [
        "## How to run SLIM models (i.e. Tools) - Approach 1"
      ]
    },
    {
      "cell_type": "code",
      "execution_count": null,
      "id": "74fd136f-8a16-4ae1-a64f-c613815513a1",
      "metadata": {
        "tags": [],
        "id": "74fd136f-8a16-4ae1-a64f-c613815513a1"
      },
      "outputs": [],
      "source": [
        "earnings_transcripts = [\n",
        "    \"This is one of the best quarters we can remember for the industrial sector with significant growth across the \"\n",
        "    \"board in new order volume, as well as price increases in excess of inflation.  We continue to see very strong \"\n",
        "    \"demand, especially in Asia and Europe. Accordingly, we remain bullish on the tier 1 suppliers and would be \"\n",
        "    \"accumulating more stock on any dips. \",\n",
        "\n",
        "    \"Not the worst results, but overall we view as negative signals on the direction of the economy, and the likely \"\n",
        "    \"short-term trajectory for the telecom sector, and especially larger market leaders, including AT&T, Comcast, and\"\n",
        "    \"Deutsche Telekom.\",\n",
        "\n",
        "    \"This quarter was a disaster for Tesla, with falling order volume, increased costs and supply, and negative \"\n",
        "    \"guidance for future growth forecasts in 2024 and beyond.\",\n",
        "\n",
        "    \"On balance, this was an average result, with earnings in line with expectations and no big surprises to either \"\n",
        "    \"the positive or the negative.\"\n",
        "    ]"
      ]
    },
    {
      "cell_type": "code",
      "execution_count": null,
      "id": "09919203-bc3d-44ab-9de4-9d279f790071",
      "metadata": {
        "tags": [],
        "id": "09919203-bc3d-44ab-9de4-9d279f790071",
        "outputId": "a5dbdb01-6774-4262-da33-bbf94ab60af8"
      },
      "outputs": [
        {
          "name": "stdout",
          "output_type": "stream",
          "text": [
            "{'sentiment': ['positive']}\n",
            "{'sentiment': ['negative']}\n",
            "{'sentiment': ['negative']}\n",
            "{'sentiment': ['neutral']}\n"
          ]
        }
      ],
      "source": [
        "for text in earnings_transcripts:\n",
        "    # print(text)\n",
        "    response = model.function_call(text)\n",
        "    print(response['llm_response'])\n"
      ]
    },
    {
      "cell_type": "markdown",
      "id": "9eb529bb-c390-48f4-bd2a-24fa8b64954d",
      "metadata": {
        "id": "9eb529bb-c390-48f4-bd2a-24fa8b64954d"
      },
      "source": [
        "## How to run SLIM models (i.e. Tools) - Approach 2"
      ]
    },
    {
      "cell_type": "code",
      "execution_count": null,
      "id": "be4345c5-8c54-45f5-9b39-643c5addfdf6",
      "metadata": {
        "tags": [],
        "id": "be4345c5-8c54-45f5-9b39-643c5addfdf6",
        "outputId": "d3ae04c5-9e78-47b0-d64b-d5fc6156569d"
      },
      "outputs": [
        {
          "name": "stdout",
          "output_type": "stream",
          "text": [
            "update: Launching LLMfx process\n",
            "step - \t1 - \tcreating object - ready to start processing.\n",
            "step - \t2 - \tloading tool - sentiment\n"
          ]
        },
        {
          "data": {
            "text/plain": [
              "<llmware.models.GGUFGenerativeModel at 0x14e2e4090>"
            ]
          },
          "execution_count": 12,
          "metadata": {},
          "output_type": "execute_result"
        }
      ],
      "source": [
        "from llmware.agents import LLMfx\n",
        "\n",
        "agent = LLMfx()\n",
        "agent.load_tool(\"sentiment\")"
      ]
    },
    {
      "cell_type": "code",
      "execution_count": null,
      "id": "468f2982-a23e-4007-8400-d8df1ecd0d60",
      "metadata": {
        "tags": [],
        "id": "468f2982-a23e-4007-8400-d8df1ecd0d60",
        "outputId": "2285c894-c092-4065-8918-2640e868fbfe"
      },
      "outputs": [
        {
          "name": "stdout",
          "output_type": "stream",
          "text": [
            "======================================================\n",
            "response: {'llm_response': {'sentiment': ['negative']}, 'dict_output': True, 'confidence_score': 0.866213860974206, 'choices': [('negative', 22198, 0.866213860974206), ('positive', 1066, 0.0672931902323938), ('neutral', 17821, 0.06547694723878902)]}\n"
          ]
        }
      ],
      "source": [
        "# Change verbose to see more details\n",
        "agent.verbose = False\n",
        "\n",
        "text = \"That is the worst thing that I have ever heard.\"\n",
        "response = agent.exec_function_call(\"sentiment\", text)\n",
        "\n",
        "print(\"======================================================\")\n",
        "print(\"response:\", response)"
      ]
    },
    {
      "cell_type": "code",
      "execution_count": null,
      "id": "63c95e17-4eee-4721-b5a7-cedcb0374ee7",
      "metadata": {
        "tags": [],
        "id": "63c95e17-4eee-4721-b5a7-cedcb0374ee7",
        "outputId": "4df9230f-e4db-4c51-c866-02e4d4f34f88"
      },
      "outputs": [
        {
          "name": "stdout",
          "output_type": "stream",
          "text": [
            "update: Launching LLMfx process\n",
            "step - \t1 - \tcreating object - ready to start processing.\n",
            "step - \t2 - \tloading new processing text - 1 new entries\n",
            "step - \t3 - \tloading tool - sentiment\n",
            "step - \t4 - \tloading tool - topics\n",
            "step - \t5 - \tloading tool - ner\n",
            "step - \t6 - \texecuting function call - deploying - sentiment \n",
            "step - \t7 - \texecuting function call - getting response - sentiment\n",
            "\t\t\t\t -- llm_response - {'sentiment': ['negative']}\n",
            "\t\t\t\t -- output type - dict\n",
            "\t\t\t\t -- usage - {'input': 107, 'output': 8, 'total': 115, 'metric': 'tokens', 'processing_time': 0.826178789138794, 'type': 'dict'}\n",
            "step - \t8 - \tanalyzing response - sentiment\n",
            "\t\t\t\t -- confidence score - 0.7877609640323416\n",
            "\t\t\t\t -- analyzing response - \u001b[32msent\u001b[32miment\u001b[32m':\u001b[32m ['\u001b[32mnegative\u001b[32m']\u001b[32m}\u001b[39m\n",
            "\t\t\t\t -- analyzing response - [{'choice_1': ['negative', 0.7877609640323416, 22198], 'choice_2': ['neut', 0.1629893194280144, 17821], 'choice_3': ['pos', 0.048175048141058864, 1066]}]\n",
            "\t\t\t\t -- analyzing response - [('negative', 22198, 0.7877609640323416), ('neutral', 17821, 0.1629893194280144), ('positive', 1066, 0.048175048141058864)]\n",
            "step - \t9 - \texecuting function call - deploying - topics \n",
            "step - \t10 - \texecuting function call - getting response - topics\n",
            "\t\t\t\t -- llm_response - {'topic': ['customer service']}\n",
            "\t\t\t\t -- output type - dict\n",
            "\t\t\t\t -- usage - {'input': 107, 'output': 8, 'total': 115, 'metric': 'tokens', 'processing_time': 2.3283421993255615, 'type': 'dict'}\n",
            "step - \t11 - \tanalyzing response - topics\n",
            "\t\t\t\t -- confidence score - 0.03968681117056682\n",
            "\t\t\t\t -- analyzing response - \u001b[32mtopic\u001b[32m':\u001b[32m ['\u001b[31mcustomer\u001b[31m service\u001b[32m']\u001b[32m}\u001b[39m\n",
            "\t\t\t\t -- analyzing response - {'choice_1': ['account', 0.07136755378531365, 10149], 'choice_2': ['c', 0.03996582091432734, 29883], 'choice_3': ['customer', 0.03968681117056682, 15539]}\n",
            "step - \t12 - \texecuting function call - deploying - ner \n",
            "step - \t13 - \texecuting function call - getting response - ner\n",
            "\t\t\t\t -- llm_response - {'people': ['Michael Jones', 'mjones'], 'place': ['Tampa', 'Florida'], 'company': ['Mixco'], 'misc': []}\n",
            "\t\t\t\t -- output type - dict\n",
            "\t\t\t\t -- usage - {'input': 114, 'output': 38, 'total': 152, 'metric': 'tokens', 'processing_time': 3.1961872577667236, 'type': 'dict'}\n",
            "step - \t14 - \tanalyzing response - ner\n",
            "\t\t\t\t -- confidence score - 0.9669502531580397\n",
            "\t\t\t\t -- analyzing response - \u001b[32mpeople\u001b[32m':\u001b[32m ['\u001b[32mMichael\u001b[32m Jones\u001b[32m',\u001b[32m '\u001b[32mm\u001b[32mj\u001b[32mones\u001b[32m'],\u001b[32m '\u001b[32mplace\u001b[32m':\u001b[32m ['\u001b[32mT\u001b[32mampa\u001b[32m',\u001b[32m '\u001b[32mF\u001b[32mlor\u001b[32mida\u001b[32m'],\u001b[32m '\u001b[32mcompany\u001b[32m':\u001b[33m ['\u001b[32mM\u001b[32mix\u001b[32mco\u001b[33m'],\u001b[32m '\u001b[32mm\u001b[32misc\u001b[32m':\u001b[32m []\u001b[32m}\u001b[39m\n",
            "\t\t\t\t -- analyzing response - {'choice_1': ['Michael', 0.9669502531580397, 24083], 'choice_2': ['M', 0.02263619874798138, 29924], 'choice_3': ['My', 0.008753037677640685, 3421]}\n",
            "step - \t15 - \tunloading tool - ner\n",
            "step - \t16 - \tunloading tool - topics\n",
            "step - \t17 - \tshowing all gathered reports - [{'sentiment': ['negative'], 'topic': ['customer service'], 'people': ['Michael Jones', 'mjones'], 'place': ['Tampa', 'Florida'], 'company': ['Mixco'], 'misc': []}]\n",
            "report - 0 - {'sentiment': ['negative'], 'topic': ['customer service'], 'people': ['Michael Jones', 'mjones'], 'place': ['Tampa', 'Florida'], 'company': ['Mixco'], 'misc': []}\n",
            "\t\t\t\t -- sentiment            - ['negative']                            \n",
            "\t\t\t\t -- topic                - ['customer service']                    \n",
            "\t\t\t\t -- people               - ['Michael Jones', 'mjones']             \n",
            "\t\t\t\t -- place                - ['Tampa', 'Florida']                    \n",
            "\t\t\t\t -- company              - ['Mixco']                               \n",
            "\t\t\t\t -- misc                 - []                                      \n",
            "\n",
            "step - \t18 - \tgenerating activity_summary - {'inference_count': 3, 'tools_used': 3, 'tools': ['sentiment', 'topics', 'ner']}\n",
            "update: response analysis:  0 {'step': 8, 'tool': 'sentiment', 'inference': 1, 'llm_response': {'sentiment': ['negative']}, 'confidence_score': 0.7877609640323416, 'llm_usage': {'input': 107, 'output': 8, 'total': 115, 'metric': 'tokens', 'processing_time': 0.826178789138794, 'type': 'dict'}, 'work_iteration': 0, 'dict_output': True, 'text': 'My name is Michael Jones, and I am a long-time customer.  The Mixco product is not working currently, and it is having a negative impact on my business, as we can not deliver our products while it is down. This is the fourth time that I have called.  My account number is 93203, and my user name is mjones. Our company is based in Tampa, Florida.', 'file_source': 'NA', 'page_num': 'NA', 'logit_analysis': {'ryg_string': \"\\x1b[32msent\\x1b[32miment\\x1b[32m':\\x1b[32m ['\\x1b[32mnegative\\x1b[32m']\\x1b[32m}\\x1b[39m\", 'choices': [{'choice_1': ['negative', 0.7877609640323416, 22198], 'choice_2': ['neut', 0.1629893194280144, 17821], 'choice_3': ['pos', 0.048175048141058864, 1066]}], 'marker_tokens': [('negative', 22198, 0.7877609640323416), ('neutral', 17821, 0.1629893194280144), ('positive', 1066, 0.048175048141058864)], 'low_confidence_choices': [], 'confidence_score': 0.7877609640323416}}\n",
            "update: response analysis:  1 {'step': 11, 'tool': 'topics', 'inference': 2, 'llm_response': {'topic': ['customer service']}, 'confidence_score': 0.03968681117056682, 'llm_usage': {'input': 107, 'output': 8, 'total': 115, 'metric': 'tokens', 'processing_time': 2.3283421993255615, 'type': 'dict'}, 'work_iteration': 0, 'dict_output': True, 'text': 'My name is Michael Jones, and I am a long-time customer.  The Mixco product is not working currently, and it is having a negative impact on my business, as we can not deliver our products while it is down. This is the fourth time that I have called.  My account number is 93203, and my user name is mjones. Our company is based in Tampa, Florida.', 'file_source': 'NA', 'page_num': 'NA', 'logit_analysis': {'ryg_string': \"\\x1b[32mtopic\\x1b[32m':\\x1b[32m ['\\x1b[31mcustomer\\x1b[31m service\\x1b[32m']\\x1b[32m}\\x1b[39m\", 'choices': [{'choice_1': ['account', 0.07136755378531365, 10149], 'choice_2': ['c', 0.03996582091432734, 29883], 'choice_3': ['customer', 0.03968681117056682, 15539]}, {'choice_1': [\"']\", 0.38338723994156726, 2033], 'choice_2': ['service', 0.13997286454332242, 2669], 'choice_3': [\"',\", 0.049478643087185546, 742]}], 'marker_tokens': [], 'low_confidence_choices': [{'choice_1': ['account', 0.07136755378531365, 10149], 'choice_2': ['c', 0.03996582091432734, 29883], 'choice_3': ['customer', 0.03968681117056682, 15539]}, {'choice_1': [\"']\", 0.38338723994156726, 2033], 'choice_2': ['service', 0.13997286454332242, 2669], 'choice_3': [\"',\", 0.049478643087185546, 742]}], 'confidence_score': 0.03968681117056682}}\n",
            "update: response analysis:  2 {'step': 14, 'tool': 'ner', 'inference': 3, 'llm_response': {'people': ['Michael Jones', 'mjones'], 'place': ['Tampa', 'Florida'], 'company': ['Mixco'], 'misc': []}, 'confidence_score': 0.9669502531580397, 'llm_usage': {'input': 114, 'output': 38, 'total': 152, 'metric': 'tokens', 'processing_time': 3.1961872577667236, 'type': 'dict'}, 'work_iteration': 0, 'dict_output': True, 'text': 'My name is Michael Jones, and I am a long-time customer.  The Mixco product is not working currently, and it is having a negative impact on my business, as we can not deliver our products while it is down. This is the fourth time that I have called.  My account number is 93203, and my user name is mjones. Our company is based in Tampa, Florida.', 'file_source': 'NA', 'page_num': 'NA', 'logit_analysis': {'ryg_string': \"\\x1b[32mpeople\\x1b[32m':\\x1b[32m ['\\x1b[32mMichael\\x1b[32m Jones\\x1b[32m',\\x1b[32m '\\x1b[32mm\\x1b[32mj\\x1b[32mones\\x1b[32m'],\\x1b[32m '\\x1b[32mplace\\x1b[32m':\\x1b[32m ['\\x1b[32mT\\x1b[32mampa\\x1b[32m',\\x1b[32m '\\x1b[32mF\\x1b[32mlor\\x1b[32mida\\x1b[32m'],\\x1b[32m '\\x1b[32mcompany\\x1b[32m':\\x1b[33m ['\\x1b[32mM\\x1b[32mix\\x1b[32mco\\x1b[33m'],\\x1b[32m '\\x1b[32mm\\x1b[32misc\\x1b[32m':\\x1b[32m []\\x1b[32m}\\x1b[39m\", 'choices': [{'choice_1': ['Michael', 0.9669502531580397, 24083], 'choice_2': ['M', 0.02263619874798138, 29924], 'choice_3': ['My', 0.008753037677640685, 3421]}, {'choice_1': ['Jones', 0.9986429650301606, 10920], 'choice_2': [\"',\", 0.0011397101786990017, 742], 'choice_3': ['J', 0.00010462753116591063, 435]}, {'choice_1': [\"',\", 0.9328315610533107, 742], 'choice_2': [\"'],\", 0.06522353985213247, 7464], 'choice_3': [\"','\", 0.001496095886709578, 3788]}, {'choice_1': [\"'\", 0.9961286368124574, 525], 'choice_2': ['\"', 0.003072715052905617, 376], 'choice_3': [\"'<\", 0.00034331399315067323, 12801]}, {'choice_1': ['m', 0.7970143783835146, 29885], 'choice_2': ['M', 0.18043463313171695, 29924], 'choice_3': ['Michael', 0.0059042798311689975, 24083]}, {'choice_1': ['j', 0.9533792446170486, 29926], 'choice_2': ['ich', 0.024914217073320796, 436], 'choice_3': ['ixed', 0.006800218600239458, 11925]}, {'choice_1': ['ones', 0.9992813538137582, 2873], 'choice_2': ['ons', 0.0003324270043745129, 787], 'choice_3': ['oles', 0.0002598824141628509, 6544]}, {'choice_1': [\"'],\", 0.9615231192909817, 7464], 'choice_2': [\"',\", 0.0383668455344079, 742], 'choice_3': [\"']\", 5.513621690431543e-05, 2033]}, {'choice_1': [\"'\", 0.9997082506148963, 525], 'choice_2': ['\\n', 0.0002373605969333767, 13], 'choice_3': ['', 2.735141086064509e-05, 29871]}, {'choice_1': ['place', 0.9981267619221075, 6689], 'choice_2': ['organ', 0.0011917070066836532, 6388], 'choice_3': ['company', 0.00023695527328897311, 14518]}, {'choice_1': [\"':\", 0.9999917652652275, 2396], 'choice_2': [\"':'\", 4.622578240087986e-06, 22099], 'choice_3': [\"'\", 2.9201233717332573e-06, 29915]}, {'choice_1': [\"['\", 0.9989228593907535, 6024], 'choice_2': ['[],', 0.0008257059476081528, 19997], 'choice_3': ['[\"', 0.00011309803521812005, 6796]}, {'choice_1': ['T', 0.9373924951206865, 29911], 'choice_2': ['F', 0.03157008675509426, 29943], 'choice_3': ['My', 0.017818108454875276, 3421]}, {'choice_1': ['ampa', 0.9999425333036135, 20056], 'choice_2': ['amp', 3.7828864160034185e-05, 1160], 'choice_3': ['or', 4.775538012387137e-06, 272]}, {'choice_1': [\"',\", 0.8990784150196726, 742], 'choice_2': [\"'],\", 0.09732853454155081, 7464], 'choice_3': [',', 0.003140668003381273, 29892]}, {'choice_1': [\"'\", 0.9971319575857515, 525], 'choice_2': ['\"', 0.001499428958262865, 376], 'choice_3': [\"'',\", 0.00027439242386350016, 15516]}, {'choice_1': ['F', 0.9926251499617101, 29943], 'choice_2': ['Fl', 0.0010840389858727511, 8754], 'choice_3': ['M', 0.0008371860450023331, 29924]}, {'choice_1': ['lor', 0.9999893201849114, 5095], 'choice_2': ['la', 4.314454519738306e-06, 433], 'choice_3': ['ort', 1.931211315361247e-06, 441]}, {'choice_1': ['ida', 0.9998634980660768, 1458], 'choice_2': ['id', 0.00012455658483700302, 333], 'choice_3': ['ha', 2.3724919654201064e-06, 2350]}, {'choice_1': [\"'],\", 0.9937895948760412, 7464], 'choice_2': [\"']\", 0.00596311529175197, 2033], 'choice_3': [\"',\", 0.00021346937040847203, 742]}, {'choice_1': [\"'\", 0.9999007492362452, 525], 'choice_2': ['\"', 7.194346111075735e-05, 376], 'choice_3': ['\\n', 1.882448590481857e-05, 13]}, {'choice_1': ['company', 0.7740103401380691, 14518], 'choice_2': ['organ', 0.1960643634789001, 6388], 'choice_3': ['m', 0.013891587123705581, 29885]}, {'choice_1': [\"':\", 0.9999198340181907, 2396], 'choice_2': [\"':'\", 3.423340490346222e-05, 22099], 'choice_3': [\"'\", 3.399506275142681e-05, 29915]}, {'choice_1': [\"['\", 0.6791135679967572, 6024], 'choice_2': ['[],', 0.300039706496032, 19997], 'choice_3': ['[]', 0.013108632416532364, 5159]}, {'choice_1': ['M', 0.9951676777300563, 29924], 'choice_2': ['My', 0.0012696920067584, 3421], 'choice_3': ['X', 0.0011052525616872747, 29990]}, {'choice_1': ['ix', 0.9966202606524502, 861], 'choice_2': ['ike', 0.0010032692671118157, 9345], 'choice_3': ['IX', 0.0008826016759956344, 6415]}, {'choice_1': ['co', 0.9998432657608134, 1111], 'choice_2': ['Co', 4.970556523942262e-05, 7967], 'choice_3': ['c', 4.1302651657017334e-05, 29883]}, {'choice_1': [\"'],\", 0.5921834149062613, 7464], 'choice_2': [\"']\", 0.3877934106048839, 2033], 'choice_3': [\"',\", 0.012379825215704653, 742]}, {'choice_1': [\"'\", 0.9997664081350542, 525], 'choice_2': ['\"', 0.00014918823165015806, 376], 'choice_3': [\"['\", 3.04127375277419e-05, 6024]}, {'choice_1': ['m', 0.9994875361984292, 29885], 'choice_2': ['mis', 0.00034299517924013263, 26737], 'choice_3': ['bot', 5.9275301045543024e-05, 7451]}, {'choice_1': ['isc', 0.9997619574075334, 10669], 'choice_2': ['is', 0.0002304144337207169, 275], 'choice_3': ['ixed', 1.6799366234692382e-06, 11925]}, {'choice_1': [\"':\", 0.9999759411495766, 2396], 'choice_2': [\"'\", 1.3829077285123589e-05, 29915], 'choice_3': [\"':'\", 6.534748844579166e-06, 22099]}, {'choice_1': ['[]', 0.9886457844297458, 5159], 'choice_2': [\"['\", 0.010847581596124922, 6024], 'choice_3': ['[\"', 0.00019291982339089987, 6796]}, {'choice_1': ['}', 0.9973581442490183, 29913], 'choice_2': ['}</', 0.002199494592198206, 16040], 'choice_3': ['}>', 0.0002446608853742636, 17428]}, {'choice_1': ['</s>', 0.9983711973472025, 2], 'choice_2': ['\\n', 0.0015898676649127774, 13], 'choice_3': ['<', 1.5603811094773224e-05, 529]}], 'marker_tokens': [], 'low_confidence_choices': [{'choice_1': [\"['\", 0.6791135679967572, 6024], 'choice_2': ['[],', 0.300039706496032, 19997], 'choice_3': ['[]', 0.013108632416532364, 5159]}, {'choice_1': [\"'],\", 0.5921834149062613, 7464], 'choice_2': [\"']\", 0.3877934106048839, 2033], 'choice_3': [\"',\", 0.012379825215704653, 742]}], 'confidence_score': 0.9669502531580397}}\n"
          ]
        }
      ],
      "source": [
        "# CODE FROM: https://github.com/llmware-ai/llmware/blob/main/examples/SLIM-Agents/slims-getting-started.py\n",
        "\n",
        "\"\"\" Using SLIM tools as part of an agent workflow - introducing LLMfx class - this example shows how to:\n",
        "\n",
        "    1.  Create an agent using the LLMfx class.\n",
        "    2.  Load multiple specialized tools for the agent.\n",
        "    3.  Execute a series of function-calls.\n",
        "    4.  Generate a consolidated automatic dictionary report.\n",
        "\n",
        "\"\"\"\n",
        "\n",
        "\n",
        "from llmware.models import ModelCatalog\n",
        "from llmware.agents import LLMfx\n",
        "\n",
        "\n",
        "def create_multistep_report(customer_transcript):\n",
        "\n",
        "    \"\"\" Creating a multi-step, multi-model agent workflow \"\"\"\n",
        "\n",
        "    #   create an agent using LLMfx class\n",
        "    agent = LLMfx()\n",
        "    # agent.verbose = False\n",
        "\n",
        "\n",
        "    agent.load_work(customer_transcript)\n",
        "\n",
        "    #   load tools individually\n",
        "    # agent.load_tool(\"sentiment\")\n",
        "    # agent.load_tool(\"ner\")\n",
        "\n",
        "    #   load multiple tools\n",
        "    agent.load_tool_list([\"sentiment\", \"topics\", \"ner\"])\n",
        "    # agent.load_tool_list([\"sentiment\", \"topics\", \"ner\", \"tags\", \"ratings\", \"answer\"])\n",
        "\n",
        "\n",
        "    #   start deploying tools and running various analytics\n",
        "\n",
        "    #   first conduct three 'soft skills' initial assessment using 3 different models\n",
        "    agent.sentiment()\n",
        "    agent.topics()\n",
        "    agent.ner()\n",
        "\n",
        "    #   alternative way to execute a tool, passing the tool name as a string\n",
        "    # agent.exec_function_call(\"sentiment\")\n",
        "\n",
        "    #   call multiple tools concurrently\n",
        "    # agent.exec_multitool_function_call([\"ner\",\"topics\",\"tags\"])\n",
        "\n",
        "\n",
        "    #   you can 'unload_tool' to release it from memory\n",
        "    agent.unload_tool(\"ner\")\n",
        "    agent.unload_tool(\"topics\")\n",
        "\n",
        "    #   at end of processing, show the report that was automatically aggregated by key\n",
        "    report = agent.show_report()\n",
        "\n",
        "    #   displays a summary of the activity in the process\n",
        "    activity_summary = agent.activity_summary()\n",
        "\n",
        "    #   list of the responses gathered\n",
        "    for i, entries in enumerate(agent.response_list):\n",
        "        print(\"update: response analysis: \", i, entries)\n",
        "\n",
        "    output = {\"report\": report, \"activity_summary\": activity_summary, \"journal\": agent.journal}\n",
        "\n",
        "    return output\n",
        "\n",
        "\n",
        "\n",
        "# sample customer transcript\n",
        "\n",
        "customer_transcript = \"My name is Michael Jones, and I am a long-time customer.  \" \\\n",
        "                      \"The Mixco product is not working currently, and it is having a negative impact \" \\\n",
        "                      \"on my business, as we can not deliver our products while it is down. \" \\\n",
        "                      \"This is the fourth time that I have called.  My account number is 93203, and \" \\\n",
        "                      \"my user name is mjones. Our company is based in Tampa, Florida.\"\n",
        "\n",
        "output = create_multistep_report(customer_transcript)\n"
      ]
    },
    {
      "cell_type": "code",
      "execution_count": null,
      "id": "d6e397a1-28ab-4a83-9678-68a48ae4d991",
      "metadata": {
        "tags": [],
        "id": "d6e397a1-28ab-4a83-9678-68a48ae4d991",
        "outputId": "4e0d4b81-0652-494c-e64e-44768c717d25"
      },
      "outputs": [
        {
          "data": {
            "text/plain": [
              "[{'sentiment': ['negative'],\n",
              "  'topic': ['customer service'],\n",
              "  'people': ['Michael Jones', 'mjones'],\n",
              "  'place': ['Tampa', 'Florida'],\n",
              "  'company': ['Mixco'],\n",
              "  'misc': [],\n",
              "  'source': {'text': 'My name is Michael Jones, and I am a long-time customer.  The Mixco product is not working currently, and it is having a negative impact on my business, as we can not deliver our products while it is down. This is the fourth time that I have called.  My account number is 93203, and my user name is mjones. Our company is based in Tampa, Florida.',\n",
              "   'file_source': 'NA',\n",
              "   'page_num': 'NA'}}]"
            ]
          },
          "execution_count": 55,
          "metadata": {},
          "output_type": "execute_result"
        }
      ],
      "source": [
        "output['report']"
      ]
    },
    {
      "cell_type": "code",
      "execution_count": null,
      "id": "c0c3b858-6b3d-43b0-a8b5-f8dc156582a5",
      "metadata": {
        "id": "c0c3b858-6b3d-43b0-a8b5-f8dc156582a5"
      },
      "outputs": [],
      "source": []
    }
  ],
  "metadata": {
    "kernelspec": {
      "display_name": "Python 3 (ipykernel)",
      "language": "python",
      "name": "python3"
    },
    "language_info": {
      "codemirror_mode": {
        "name": "ipython",
        "version": 3
      },
      "file_extension": ".py",
      "mimetype": "text/x-python",
      "name": "python",
      "nbconvert_exporter": "python",
      "pygments_lexer": "ipython3",
      "version": "3.11.6"
    },
    "colab": {
      "provenance": [],
      "include_colab_link": true
    }
  },
  "nbformat": 4,
  "nbformat_minor": 5
}