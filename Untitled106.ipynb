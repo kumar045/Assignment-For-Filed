{
  "nbformat": 4,
  "nbformat_minor": 0,
  "metadata": {
    "colab": {
      "provenance": [],
      "authorship_tag": "ABX9TyMJ6QZjbdkHT8f2s0iqjwr5",
      "include_colab_link": true
    },
    "kernelspec": {
      "name": "python3",
      "display_name": "Python 3"
    },
    "language_info": {
      "name": "python"
    }
  },
  "cells": [
    {
      "cell_type": "markdown",
      "metadata": {
        "id": "view-in-github",
        "colab_type": "text"
      },
      "source": [
        "<a href=\"https://colab.research.google.com/github/kumar045/Assignment-For-Filed/blob/main/Untitled106.ipynb\" target=\"_parent\"><img src=\"https://colab.research.google.com/assets/colab-badge.svg\" alt=\"Open In Colab\"/></a>"
      ]
    },
    {
      "cell_type": "code",
      "execution_count": 1,
      "metadata": {
        "colab": {
          "base_uri": "https://localhost:8080/",
          "height": 184
        },
        "id": "ENIxhXMG94ou",
        "outputId": "5698ba23-9d01-402c-8e70-5ce8b79d7416"
      },
      "outputs": [
        {
          "output_type": "error",
          "ename": "SyntaxError",
          "evalue": "ignored",
          "traceback": [
            "\u001b[0;36m  File \u001b[0;32m\"<ipython-input-1-7b7b769cee53>\"\u001b[0;36m, line \u001b[0;32m1\u001b[0m\n\u001b[0;31m    You can add the parameter descriptions to the docstrings by doing:\u001b[0m\n\u001b[0m        ^\u001b[0m\n\u001b[0;31mSyntaxError\u001b[0m\u001b[0;31m:\u001b[0m invalid syntax\n"
          ]
        }
      ],
      "source": [
        "\n",
        "You can add the parameter descriptions to the docstrings by doing:\n",
        "@openaifunc\n",
        "def add_numbers(a: int, b: int) -> int:\n",
        "    \"\"\"Adds two numbers together.\n",
        "\n",
        "    @param a: The first number\n",
        "    @param b: The second number\n",
        "    \"\"\"\n",
        "    return a + b\n",
        "Then, the generated function definition for ChatGPT would be:\n",
        "{\n",
        "    \"name\": \"add_numbers\",\n",
        "    \"description\": \"Adds two numbers together.\",\n",
        "    \"parameters\": {\n",
        "        \"type\": \"object\",\n",
        "        \"properties\": {\n",
        "            \"a\": {\n",
        "                \"type\": \"integer\",\n",
        "                \"description\": \"The first number\"\n",
        "            },\n",
        "            \"b\": {\n",
        "                \"type\": \"integer\",\n",
        "                \"description\": \"The second number\"\n",
        "            }\n",
        "        },\n",
        "        \"required\": [\"a\", \"b\"]\n",
        "    }\n",
        "}\n",
        "To update the code, you can make the following changes:\n",
        "In openai_decorator/openai_decorator.py:\n",
        "Update the function parameter extraction to check for PHP-style docstrings:\n",
        "def get_params_dict(params):\n",
        "    ...\n",
        "    for k, v in params.items():\n",
        "        ...\n",
        "        param_desc = \"\"\n",
        "        docstring = inspect.cleandoc(func.__doc__ or \"\")\n",
        "        param_matches = re.findall(rf'@param {k}: (.*?)\\n', docstring)\n",
        "        if param_matches:\n",
        "            param_desc = param_matches[0]\n",
        "        params_dict[k] = {\n",
        "            \"type\": param_type,\n",
        "            \"description\": param_desc,\n",
        "        }\n",
        "    ...\n",
        "This will match @param annotations for the parameter in the docstring and set the \"description\" accordingly.\n",
        "In test.py, update the expected output to include the descriptions:\n",
        "expected = [\n",
        "    {\n",
        "        \"name\": \"add_numbers\",\n",
        "        \"description\": \"Adds two numbers together.\",\n",
        "        \"parameters\": {\n",
        "            \"type\": \"object\",\n",
        "            \"properties\": {\n",
        "                \"a\": {\n",
        "                    \"type\": \"integer\",\n",
        "                    \"description\": \"The first number\"\n",
        "                },\n",
        "                \"b\": {\n",
        "                    \"type\": \"integer\",\n",
        "                    \"description\": \"The second number\"\n",
        "                }\n",
        "            },\n",
        "            \"required\": [\"a\", \"b\"]\n",
        "        }\n",
        "    },\n",
        "    ...\n",
        "]\n",
        "That should update the openai_decorator package to support documenting function parameters in the docstrings, and passing that through to the ChatGPT API. Let me know if you have any other questions!\n",
        "Made with Streamlit"
      ]
    }
  ]
}