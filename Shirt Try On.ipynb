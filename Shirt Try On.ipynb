{
  "nbformat": 4,
  "nbformat_minor": 0,
  "metadata": {
    "colab": {
      "provenance": [],
      "authorship_tag": "ABX9TyOxvy+5lDRuturlrqAFQ2XF",
      "include_colab_link": true
    },
    "kernelspec": {
      "name": "python3",
      "display_name": "Python 3"
    },
    "language_info": {
      "name": "python"
    }
  },
  "cells": [
    {
      "cell_type": "markdown",
      "metadata": {
        "id": "view-in-github",
        "colab_type": "text"
      },
      "source": [
        "<a href=\"https://colab.research.google.com/github/kumar045/Assignment-For-Filed/blob/main/Shirt%20Try%20On.ipynb\" target=\"_parent\"><img src=\"https://colab.research.google.com/assets/colab-badge.svg\" alt=\"Open In Colab\"/></a>"
      ]
    },
    {
      "cell_type": "code",
      "source": [
        "import os\n",
        "\n",
        "import cvzone\n",
        "import cv2\n",
        "from cvzone.PoseModule import PoseDetector\n",
        "\n",
        "cap = cv2.VideoCapture(\"Resources/Videos/1.mp4\")\n",
        "detector = PoseDetector()\n",
        "\n",
        "shirtFolderPath = \"Resources/Shirts\"\n",
        "listShirts = os.listdir(shirtFolderPath)\n",
        "# print(listShirts)\n",
        "fixedRatio = 262 / 190  # widthOfShirt/widthOfPoint11to12\n",
        "shirtRatioHeightWidth = 581 / 440\n",
        "imageNumber = 0\n",
        "imgButtonRight = cv2.imread(\"Resources/button.png\", cv2.IMREAD_UNCHANGED)\n",
        "imgButtonLeft = cv2.flip(imgButtonRight, 1)\n",
        "counterRight = 0\n",
        "counterLeft = 0\n",
        "selectionSpeed = 10\n",
        "\n",
        "while True:\n",
        "    success, img = cap.read()\n",
        "    img = detector.findPose(img)\n",
        "    # img = cv2.flip(img,1)\n",
        "    lmList, bboxInfo = detector.findPosition(img, bboxWithHands=False, draw=False)\n",
        "    if lmList:\n",
        "        # center = bboxInfo[\"center\"]\n",
        "        lm11 = lmList[11][1:3]\n",
        "        lm12 = lmList[12][1:3]\n",
        "        imgShirt = cv2.imread(os.path.join(shirtFolderPath, listShirts[imageNumber]), cv2.IMREAD_UNCHANGED)\n",
        "\n",
        "        widthOfShirt = int((lm11[0] - lm12[0]) * fixedRatio)\n",
        "        print(widthOfShirt)\n",
        "        imgShirt = cv2.resize(imgShirt, (widthOfShirt, int(widthOfShirt * shirtRatioHeightWidth)))\n",
        "        currentScale = (lm11[0] - lm12[0]) / 190\n",
        "        offset = int(44 * currentScale), int(48 * currentScale)\n",
        "\n",
        "        try:\n",
        "            img = cvzone.overlayPNG(img, imgShirt, (lm12[0] - offset[0], lm12[1] - offset[1]))\n",
        "        except:\n",
        "            pass\n",
        "\n",
        "        img = cvzone.overlayPNG(img, imgButtonRight, (1074, 293))\n",
        "        img = cvzone.overlayPNG(img, imgButtonLeft, (72, 293))\n",
        "\n",
        "        if lmList[16][1] < 300:\n",
        "            counterRight += 1\n",
        "            cv2.ellipse(img, (139, 360), (66, 66), 0, 0,\n",
        "                        counterRight * selectionSpeed, (0, 255, 0), 20)\n",
        "            if counterRight * selectionSpeed > 360:\n",
        "                counterRight = 0\n",
        "                if imageNumber < len(listShirts) - 1:\n",
        "                    imageNumber += 1\n",
        "        elif lmList[15][1] > 900:\n",
        "            counterLeft += 1\n",
        "            cv2.ellipse(img, (1138, 360), (66, 66), 0, 0,\n",
        "                        counterLeft * selectionSpeed, (0, 255, 0), 20)\n",
        "            if counterLeft * selectionSpeed > 360:\n",
        "                counterLeft = 0\n",
        "                if imageNumber > 0:\n",
        "                    imageNumber -= 1\n",
        "\n",
        "        else:\n",
        "            counterRight = 0\n",
        "            counterLeft = 0\n",
        "\n",
        "    cv2.imshow(\"Image\", img)\n",
        "    cv2.waitKey(1)"
      ],
      "metadata": {
        "id": "tOC59_Uk_jbB"
      },
      "execution_count": null,
      "outputs": []
    }
  ]
}